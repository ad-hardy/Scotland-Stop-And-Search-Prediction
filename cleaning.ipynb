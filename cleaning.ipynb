{
 "metadata": {
  "language_info": {
   "codemirror_mode": {
    "name": "ipython",
    "version": 3
   },
   "file_extension": ".py",
   "mimetype": "text/x-python",
   "name": "python",
   "nbconvert_exporter": "python",
   "pygments_lexer": "ipython3",
   "version": "3.8.5-final"
  },
  "orig_nbformat": 2,
  "kernelspec": {
   "name": "python3",
   "display_name": "Python 3.8.5 64-bit ('base': conda)",
   "metadata": {
    "interpreter": {
     "hash": "d504e65763db0712997c5abf4e36f31acc377fe14fcbb9335ac404214f57dc0f"
    }
   }
  }
 },
 "nbformat": 4,
 "nbformat_minor": 2,
 "cells": [
  {
   "cell_type": "code",
   "execution_count": 32,
   "metadata": {},
   "outputs": [],
   "source": [
    "import pandas as pd"
   ]
  },
  {
   "source": [
    "# SIMD\n",
    "\n",
    "Scottish Index Multiple Deprivation v2 2020\n",
    "\n",
    "Data: http//simd.scot\n",
    "\n",
    "Technical Notes: https://www.gov.scot/binaries/content/documents/govscot/publications/statistics/2020/09/simd-2020-technical-notes/documents/simd-2020-technical-notes/simd-2020-technical-notes/govscot%3Adocument/SIMD%2B2020%2Btechnical%2Bnotes.pdf"
   ],
   "cell_type": "markdown",
   "metadata": {}
  },
  {
   "cell_type": "code",
   "execution_count": 33,
   "metadata": {},
   "outputs": [],
   "source": [
    "df_simd_init = pd.read_csv(\"data/simd_2020.csv\", index_col=0)"
   ]
  },
  {
   "cell_type": "code",
   "execution_count": 34,
   "metadata": {},
   "outputs": [
    {
     "output_type": "stream",
     "name": "stdout",
     "text": [
      "<class 'pandas.core.frame.DataFrame'>\nInt64Index: 6976 entries, 0 to 6975\nData columns (total 49 columns):\n #   Column                           Non-Null Count  Dtype  \n---  ------                           --------------  -----  \n 0   Data_Zone                        6976 non-null   object \n 1   Intermediate_Zone                6976 non-null   object \n 2   Council_area                     6976 non-null   object \n 3   Total_population                 6976 non-null   int64  \n 4   Working_Age_population           6976 non-null   int64  \n 5   SIMD2020v2_Rank                  6976 non-null   int64  \n 6   SIMD_2020v2_Percentile           6976 non-null   int64  \n 7   SIMD2020v2_Vigintile             6976 non-null   int64  \n 8   SIMD2020v2_Decile                6976 non-null   int64  \n 9   SIMD2020v2_Quintile              6976 non-null   int64  \n 10  SIMD2020v2_Income_Domain_Rank    6976 non-null   float64\n 11  SIMD2020_Employment_Domain_Rank  6976 non-null   float64\n 12  SIMD2020_Health_Domain_Rank      6976 non-null   int64  \n 13  SIMD2020_Education_Domain_Rank   6976 non-null   int64  \n 14  SIMD2020_Access_Domain_Rank      6976 non-null   int64  \n 15  SIMD2020_Crime_Domain_Rank       6976 non-null   float64\n 16  SIMD2020_Housing_Domain_Rank     6976 non-null   float64\n 17  income_rate                      6976 non-null   object \n 18  income_count                     6976 non-null   int64  \n 19  employment_rate                  6976 non-null   object \n 20  employment_count                 6976 non-null   int64  \n 21  CIF                              6973 non-null   float64\n 22  ALCOHOL                          6974 non-null   float64\n 23  DRUG                             6974 non-null   float64\n 24  SMR                              6974 non-null   float64\n 25  DEPRESS                          6975 non-null   object \n 26  LBWT                             6975 non-null   object \n 27  EMERG                            6974 non-null   float64\n 28  Attendance                       6974 non-null   object \n 29  Attainment                       6965 non-null   object \n 30  no_qualifications                6976 non-null   float64\n 31  not_participating                6973 non-null   object \n 32  University                       6974 non-null   object \n 33  crime_count                      6976 non-null   object \n 34  crime_rate                       6975 non-null   object \n 35  overcrowded_count                6976 non-null   int64  \n 36  nocentralheating_count           6976 non-null   int64  \n 37  overcrowded_rate                 6976 non-null   object \n 38  nocentralheating_rate            6976 non-null   object \n 39  drive_petrol                     6976 non-null   float64\n 40  drive_GP                         6976 non-null   float64\n 41  drive_post                       6976 non-null   float64\n 42  drive_primary                    6976 non-null   float64\n 43  drive_retail                     6976 non-null   float64\n 44  drive_secondary                  6976 non-null   float64\n 45  PT_GP                            6976 non-null   float64\n 46  PT_post                          6976 non-null   float64\n 47  PT_retail                        6976 non-null   float64\n 48  broadband                        6974 non-null   object \ndtypes: float64(19), int64(14), object(16)\nmemory usage: 2.7+ MB\n"
     ]
    }
   ],
   "source": [
    "df_simd_init.info()"
   ]
  },
  {
   "source": [
    "We can immediately get rid of some columns which will not be useful to us.\n",
    "\n",
    "- Intermediate_Zone\n",
    "- Council_area\n",
    "- any rate columns where we also have count (as we will be including population)\n",
    "- any ranking columns as these should not be predictive\n",
    "- percentile, quintile etc"
   ],
   "cell_type": "markdown",
   "metadata": {}
  },
  {
   "cell_type": "code",
   "execution_count": 35,
   "metadata": {},
   "outputs": [],
   "source": [
    "cols_to_drop = [\"Intermediate_Zone\", \"Council_area\", \"SIMD2020v2_Rank\", \"SIMD_2020v2_Percentile\", \"SIMD2020v2_Vigintile\", \"SIMD2020v2_Decile\", \"SIMD2020v2_Quintile\"]\n",
    "cols_to_drop += df_simd_init.columns[df_simd_init.columns.str.contains(\"_Rank\")].to_list()\n",
    "cols_to_drop += [\"income_rate\", \"employment_rate\", \"crime_rate\", \"overcrowded_rate\"]\n",
    "\n",
    "df_simd = df_simd_init.drop(cols_to_drop, axis=1)"
   ]
  },
  {
   "source": [
    "## 1 Missing Data"
   ],
   "cell_type": "markdown",
   "metadata": {}
  },
  {
   "source": [
    "The SIMD Technical notes indicate that wherever \"*\" is present, this indicates that there was no population relevant to the statistic and a division by 0 occoured in the calculation. Later we will be aggregating this individual data zones into electoral wards and can exclude these data zones from the weighted average calculation. If there are any left then we will deal with them at that stage."
   ],
   "cell_type": "markdown",
   "metadata": {}
  },
  {
   "cell_type": "code",
   "execution_count": 44,
   "metadata": {},
   "outputs": [
    {
     "output_type": "execute_result",
     "data": {
      "text/plain": [
       "Data_Zone                   0\n",
       "Total_population            0\n",
       "Working_Age_population      0\n",
       "income_count                0\n",
       "employment_count            0\n",
       "CIF                         0\n",
       "ALCOHOL                     0\n",
       "DRUG                        0\n",
       "SMR                         0\n",
       "DEPRESS                     0\n",
       "LBWT                        0\n",
       "EMERG                       0\n",
       "Attendance                565\n",
       "Attainment                178\n",
       "no_qualifications           0\n",
       "not_participating           0\n",
       "University                  0\n",
       "crime_count               500\n",
       "overcrowded_count           0\n",
       "nocentralheating_count      0\n",
       "nocentralheating_rate       0\n",
       "drive_petrol                0\n",
       "drive_GP                    0\n",
       "drive_post                  0\n",
       "drive_primary               0\n",
       "drive_retail                0\n",
       "drive_secondary             0\n",
       "PT_GP                       0\n",
       "PT_post                     0\n",
       "PT_retail                   0\n",
       "broadband                   0\n",
       "dtype: int64"
      ]
     },
     "metadata": {},
     "execution_count": 44
    }
   ],
   "source": [
    "(df_simd==\"*\").sum()"
   ]
  },
  {
   "source": [
    "Seperately we have some missing data and it is not clear why."
   ],
   "cell_type": "markdown",
   "metadata": {}
  },
  {
   "cell_type": "code",
   "execution_count": 36,
   "metadata": {},
   "outputs": [
    {
     "output_type": "execute_result",
     "data": {
      "text/plain": [
       "Data_Zone                  0\n",
       "Total_population           0\n",
       "Working_Age_population     0\n",
       "income_count               0\n",
       "employment_count           0\n",
       "CIF                        3\n",
       "ALCOHOL                    2\n",
       "DRUG                       2\n",
       "SMR                        2\n",
       "DEPRESS                    1\n",
       "LBWT                       1\n",
       "EMERG                      2\n",
       "Attendance                 2\n",
       "Attainment                11\n",
       "no_qualifications          0\n",
       "not_participating          3\n",
       "University                 2\n",
       "crime_count                0\n",
       "overcrowded_count          0\n",
       "nocentralheating_count     0\n",
       "nocentralheating_rate      0\n",
       "drive_petrol               0\n",
       "drive_GP                   0\n",
       "drive_post                 0\n",
       "drive_primary              0\n",
       "drive_retail               0\n",
       "drive_secondary            0\n",
       "PT_GP                      0\n",
       "PT_post                    0\n",
       "PT_retail                  0\n",
       "broadband                  2\n",
       "dtype: int64"
      ]
     },
     "metadata": {},
     "execution_count": 36
    }
   ],
   "source": [
    "df_simd.isnull().sum()"
   ]
  },
  {
   "cell_type": "code",
   "execution_count": null,
   "metadata": {},
   "outputs": [],
   "source": []
  }
 ]
}