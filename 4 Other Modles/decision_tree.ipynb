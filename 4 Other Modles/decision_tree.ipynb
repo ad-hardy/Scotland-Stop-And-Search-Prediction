{
 "metadata": {
  "language_info": {
   "codemirror_mode": {
    "name": "ipython",
    "version": 3
   },
   "file_extension": ".py",
   "mimetype": "text/x-python",
   "name": "python",
   "nbconvert_exporter": "python",
   "pygments_lexer": "ipython3",
   "version": "3.8.5"
  },
  "orig_nbformat": 2,
  "kernelspec": {
   "name": "python385jvsc74a57bd0d504e65763db0712997c5abf4e36f31acc377fe14fcbb9335ac404214f57dc0f",
   "display_name": "Python 3.8.5 64-bit ('base': conda)"
  },
  "metadata": {
   "interpreter": {
    "hash": "d504e65763db0712997c5abf4e36f31acc377fe14fcbb9335ac404214f57dc0f"
   }
  }
 },
 "nbformat": 4,
 "nbformat_minor": 2,
 "cells": [
  {
   "cell_type": "code",
   "execution_count": 38,
   "metadata": {},
   "outputs": [],
   "source": [
    "import pandas as pd\n",
    "import numpy as np\n",
    "#default to .3f for pandas floats\n",
    "pd.options.display.float_format = '{:.3f}'.format\n",
    "\n",
    "models = {}\n",
    "n_jobs=15"
   ]
  },
  {
   "source": [
    "# Decision Trees\n",
    "\n",
    "We were able to extract some signal from our dataset during the logistic regression exploration and have settled on three features to use:\n",
    "- Ethnicity\n",
    "- Gender\n",
    "- Search Reason\n",
    "- Area Command\n",
    "\n",
    "We will now explore these in a decision tree model and see if we can boost performance."
   ],
   "cell_type": "markdown",
   "metadata": {}
  },
  {
   "source": [
    "# Load and Split Data"
   ],
   "cell_type": "markdown",
   "metadata": {}
  },
  {
   "cell_type": "code",
   "execution_count": 39,
   "metadata": {},
   "outputs": [
    {
     "output_type": "stream",
     "name": "stdout",
     "text": [
      "<class 'pandas.core.frame.DataFrame'>\nInt64Index: 74409 entries, 0 to 74408\nColumns: 224 entries, ward_code to employment_count_log\ndtypes: float64(44), int64(176), object(4)\nmemory usage: 127.7+ MB\n"
     ]
    }
   ],
   "source": [
    "df_init = pd.read_csv(\"../data/merged_data.csv\", index_col=0)\n",
    "df_init.info()\n",
    "\n",
    "label = \"Search Result\"\n",
    "s_labels = df_init[label]\n",
    "df_init = df_init.drop(label, axis=1)\n",
    "df_init = df_init.drop(\"ward_code\", axis=1)"
   ]
  },
  {
   "cell_type": "code",
   "execution_count": 40,
   "metadata": {},
   "outputs": [],
   "source": [
    "from sklearn.model_selection import train_test_split\n",
    "\n",
    "X_train_init, X_test_init, y_train, y_test = train_test_split(df_init.copy(), s_labels.copy(), random_state=42, test_size=0.25)"
   ]
  },
  {
   "source": [
    "# Decsision Tree\n",
    "\n",
    "We'll train a basic decision tree model using a grid search to find the best hyperparameters."
   ],
   "cell_type": "markdown",
   "metadata": {}
  },
  {
   "source": [
    "#setup\n",
    "\n",
    "def list_onehot_columns(df, column_prefix):\n",
    "    \"\"\"returns a list of columns from a dataframe that begin wih the given column_prefix\"\"\"\n",
    "    return df.columns[df.columns.str.contains(f\"{column_prefix}.*\", regex=True)].to_list()\n",
    "\n",
    "cols = []\n",
    "\n",
    "cols += list_onehot_columns(X_train_init, \"Nominal Ethnicity\")\n",
    "cols += list_onehot_columns(X_train_init, \"Search Reason\")\n",
    "cols += list_onehot_columns(X_train_init, \"Area Command\")\n",
    "cols += [\"Nominal Gender_Male\"]\n",
    "\n",
    "X_train = X_train_init[cols]"
   ],
   "cell_type": "code",
   "metadata": {},
   "execution_count": 41,
   "outputs": []
  },
  {
   "cell_type": "code",
   "execution_count": 42,
   "metadata": {},
   "outputs": [],
   "source": [
    "grid = {\n",
    "    \"criterion\": [\"gini\", \"entropy\"],\n",
    "    \"splitter\": [\"best\", \"random\"],\n",
    "    \"max_depth\": range(3,10),\n",
    "    \"min_samples_split\": np.arange(0,1.1,0.1).tolist(),\n",
    "    \"min_samples_leaf\": np.arange(0,1.1,0.1).tolist(),\n",
    "    \"class_weight\": [\"balanced\", None]\n",
    "}"
   ]
  },
  {
   "cell_type": "code",
   "execution_count": 43,
   "metadata": {
    "tags": []
   },
   "outputs": [
    {
     "output_type": "stream",
     "name": "stdout",
     "text": [
      "Fitting 5 folds for each of 6776 candidates, totalling 33880 fits\n",
      "/home/adam/miniconda3/lib/python3.8/site-packages/sklearn/model_selection/_search.py:918: UserWarning:\n",
      "\n",
      "One or more of the test scores are non-finite: [nan nan nan ... nan nan nan]\n",
      "\n"
     ]
    },
    {
     "output_type": "execute_result",
     "data": {
      "text/plain": [
       "GridSearchCV(estimator=DecisionTreeClassifier(), n_jobs=15,\n",
       "             param_grid={'class_weight': ['balanced', None],\n",
       "                         'criterion': ['gini', 'entropy'],\n",
       "                         'max_depth': range(3, 10),\n",
       "                         'min_samples_leaf': [0.0, 0.1, 0.2,\n",
       "                                              0.30000000000000004, 0.4, 0.5,\n",
       "                                              0.6000000000000001,\n",
       "                                              0.7000000000000001, 0.8, 0.9,\n",
       "                                              1.0],\n",
       "                         'min_samples_split': [0.0, 0.1, 0.2,\n",
       "                                               0.30000000000000004, 0.4, 0.5,\n",
       "                                               0.6000000000000001,\n",
       "                                               0.7000000000000001, 0.8, 0.9,\n",
       "                                               1.0],\n",
       "                         'splitter': ['best', 'random']},\n",
       "             scoring='roc_auc', verbose=3)"
      ]
     },
     "metadata": {},
     "execution_count": 43
    }
   ],
   "source": [
    "from sklearn.model_selection import GridSearchCV\n",
    "from sklearn.tree import DecisionTreeClassifier\n",
    "\n",
    "estimator = DecisionTreeClassifier()\n",
    "\n",
    "clf = GridSearchCV(estimator=estimator, param_grid=grid, n_jobs=n_jobs, verbose=3, scoring=\"roc_auc\")\n",
    "clf.fit(X_train, y_train)"
   ]
  },
  {
   "cell_type": "code",
   "execution_count": 44,
   "metadata": {},
   "outputs": [
    {
     "output_type": "execute_result",
     "data": {
      "text/plain": [
       "0.5268858764553671"
      ]
     },
     "metadata": {},
     "execution_count": 44
    }
   ],
   "source": [
    "clf.best_score_"
   ]
  },
  {
   "cell_type": "code",
   "execution_count": 45,
   "metadata": {},
   "outputs": [
    {
     "output_type": "execute_result",
     "data": {
      "text/plain": [
       "{'class_weight': 'balanced',\n",
       " 'criterion': 'gini',\n",
       " 'max_depth': 3,\n",
       " 'min_samples_leaf': 0.1,\n",
       " 'min_samples_split': 0.1,\n",
       " 'splitter': 'best'}"
      ]
     },
     "metadata": {},
     "execution_count": 45
    }
   ],
   "source": [
    "clf.best_params_"
   ]
  },
  {
   "source": [
    "The AUC score achieved is significantly worse than that achieved by logistic regression (0.624) and is barely above 0.5, telling us the model is is perfoming only slightly better than a coin flip.\n",
    "\n",
    "We can investigate the metrics of this best decision tree model further to find out what is happening. "
   ],
   "cell_type": "markdown",
   "metadata": {}
  },
  {
   "cell_type": "code",
   "execution_count": 46,
   "metadata": {},
   "outputs": [
    {
     "output_type": "execute_result",
     "data": {
      "text/plain": [
       "0.500    1680\n",
       "0.519     728\n",
       "0.527     336\n",
       "0.523      56\n",
       "Name: mean_test_score, dtype: int64"
      ]
     },
     "metadata": {},
     "execution_count": 46
    }
   ],
   "source": [
    "df_cv = pd.DataFrame(clf.cv_results_)\n",
    "\n",
    "df_cv.mean_test_score.value_counts()"
   ]
  },
  {
   "source": [
    "The grid search is producing a small number of different AUC scores. 336 models produced the best score of 0.527 suggesting that only a small number of features are having any impact.\n",
    "\n",
    "The \"best model\" in this case will be the first model in the grid search that produced that score, it is plotted below. The Gini impurity on every node is 0.5 +/- 0.004, i.e. the model is strugglingperate the labels based on these features."
   ],
   "cell_type": "markdown",
   "metadata": {}
  },
  {
   "source": [
    "from sklearn.tree import plot_tree\n",
    "\n",
    "plot_tree(best_model, feature_names=X_train.columns)"
   ],
   "cell_type": "markdown",
   "metadata": {}
  },
  {
   "cell_type": "code",
   "execution_count": 47,
   "metadata": {},
   "outputs": [
    {
     "output_type": "execute_result",
     "data": {
      "text/plain": [
       "[Text(111.60000000000001, 190.26, 'Search Reason_Drugs <= 0.5\\ngini = 0.5\\nsamples = 55806\\nvalue = [27903.0, 27903.0]'),\n",
       " Text(55.800000000000004, 135.9, 'gini = 0.496\\nsamples = 11677\\nvalue = [6211.823, 5167.844]'),\n",
       " Text(167.4, 135.9, 'Nominal Gender_Male <= 0.5\\ngini = 0.5\\nsamples = 44129\\nvalue = [21691.177, 22735.156]'),\n",
       " Text(111.60000000000001, 81.53999999999999, 'gini = 0.499\\nsamples = 5818\\nvalue = [3012.901, 2722.346]'),\n",
       " Text(223.20000000000002, 81.53999999999999, 'Nominal Ethnicity_White Scottish <= 0.5\\ngini = 0.499\\nsamples = 38311\\nvalue = [18678.276, 20012.81]'),\n",
       " Text(167.4, 27.180000000000007, 'gini = 0.497\\nsamples = 6327\\nvalue = [2984.103, 3485.778]'),\n",
       " Text(279.0, 27.180000000000007, 'gini = 0.5\\nsamples = 31984\\nvalue = [15694.173, 16527.032]')]"
      ]
     },
     "metadata": {},
     "execution_count": 47
    },
    {
     "output_type": "display_data",
     "data": {
      "text/plain": "<Figure size 432x288 with 1 Axes>",
      "image/svg+xml": "<?xml version=\"1.0\" encoding=\"utf-8\" standalone=\"no\"?>\n<!DOCTYPE svg PUBLIC \"-//W3C//DTD SVG 1.1//EN\"\n  \"http://www.w3.org/Graphics/SVG/1.1/DTD/svg11.dtd\">\n<!-- Created with matplotlib (https://matplotlib.org/) -->\n<svg height=\"231.84pt\" version=\"1.1\" viewBox=\"0 0 349.2 231.84\" width=\"349.2pt\" xmlns=\"http://www.w3.org/2000/svg\" xmlns:xlink=\"http://www.w3.org/1999/xlink\">\n <metadata>\n  <rdf:RDF xmlns:cc=\"http://creativecommons.org/ns#\" xmlns:dc=\"http://purl.org/dc/elements/1.1/\" xmlns:rdf=\"http://www.w3.org/1999/02/22-rdf-syntax-ns#\">\n   <cc:Work>\n    <dc:type rdf:resource=\"http://purl.org/dc/dcmitype/StillImage\"/>\n    <dc:date>2021-05-09T16:05:12.381248</dc:date>\n    <dc:format>image/svg+xml</dc:format>\n    <dc:creator>\n     <cc:Agent>\n      <dc:title>Matplotlib v3.3.4, https://matplotlib.org/</dc:title>\n     </cc:Agent>\n    </dc:creator>\n   </cc:Work>\n  </rdf:RDF>\n </metadata>\n <defs>\n  <style type=\"text/css\">*{stroke-linecap:butt;stroke-linejoin:round;}</style>\n </defs>\n <g id=\"figure_1\">\n  <g id=\"patch_1\">\n   <path d=\"M 0 231.84 \nL 349.2 231.84 \nL 349.2 0 \nL 0 0 \nz\n\" style=\"fill:none;\"/>\n  </g>\n  <g id=\"axes_1\">\n   <g id=\"patch_2\">\n    <path d=\"M 188.148989 184.260662 \nQ 208.158035 164.767978 228.967917 144.495127 \n\" style=\"fill:none;stroke:#000000;stroke-linecap:round;\"/>\n    <path d=\"M 190.386642 183.547137 \nL 188.148989 184.260662 \nL 188.920761 182.042425 \n\" style=\"fill:none;stroke:#000000;stroke-linecap:round;\"/>\n   </g>\n   <g id=\"text_1\">\n    <g id=\"patch_3\">\n     <path d=\"M 132.67984 207.982895 \nL 216.52016 207.982895 \nL 216.52016 186.937105 \nL 132.67984 186.937105 \nz\n\" style=\"fill:#ffffff;stroke:#000000;stroke-linejoin:miter;\"/>\n    </g>\n    <!-- gini = 0.497 -->\n    <g transform=\"translate(158.422924 193.028331)scale(0.052518 -0.052518)\">\n     <defs>\n      <path d=\"M 45.40625 27.984375 \nQ 45.40625 37.75 41.375 43.109375 \nQ 37.359375 48.484375 30.078125 48.484375 \nQ 22.859375 48.484375 18.828125 43.109375 \nQ 14.796875 37.75 14.796875 27.984375 \nQ 14.796875 18.265625 18.828125 12.890625 \nQ 22.859375 7.515625 30.078125 7.515625 \nQ 37.359375 7.515625 41.375 12.890625 \nQ 45.40625 18.265625 45.40625 27.984375 \nz\nM 54.390625 6.78125 \nQ 54.390625 -7.171875 48.1875 -13.984375 \nQ 42 -20.796875 29.203125 -20.796875 \nQ 24.46875 -20.796875 20.265625 -20.09375 \nQ 16.0625 -19.390625 12.109375 -17.921875 \nL 12.109375 -9.1875 \nQ 16.0625 -11.328125 19.921875 -12.34375 \nQ 23.78125 -13.375 27.78125 -13.375 \nQ 36.625 -13.375 41.015625 -8.765625 \nQ 45.40625 -4.15625 45.40625 5.171875 \nL 45.40625 9.625 \nQ 42.625 4.78125 38.28125 2.390625 \nQ 33.9375 0 27.875 0 \nQ 17.828125 0 11.671875 7.65625 \nQ 5.515625 15.328125 5.515625 27.984375 \nQ 5.515625 40.671875 11.671875 48.328125 \nQ 17.828125 56 27.875 56 \nQ 33.9375 56 38.28125 53.609375 \nQ 42.625 51.21875 45.40625 46.390625 \nL 45.40625 54.6875 \nL 54.390625 54.6875 \nz\n\" id=\"DejaVuSans-103\"/>\n      <path d=\"M 9.421875 54.6875 \nL 18.40625 54.6875 \nL 18.40625 0 \nL 9.421875 0 \nz\nM 9.421875 75.984375 \nL 18.40625 75.984375 \nL 18.40625 64.59375 \nL 9.421875 64.59375 \nz\n\" id=\"DejaVuSans-105\"/>\n      <path d=\"M 54.890625 33.015625 \nL 54.890625 0 \nL 45.90625 0 \nL 45.90625 32.71875 \nQ 45.90625 40.484375 42.875 44.328125 \nQ 39.84375 48.1875 33.796875 48.1875 \nQ 26.515625 48.1875 22.3125 43.546875 \nQ 18.109375 38.921875 18.109375 30.90625 \nL 18.109375 0 \nL 9.078125 0 \nL 9.078125 54.6875 \nL 18.109375 54.6875 \nL 18.109375 46.1875 \nQ 21.34375 51.125 25.703125 53.5625 \nQ 30.078125 56 35.796875 56 \nQ 45.21875 56 50.046875 50.171875 \nQ 54.890625 44.34375 54.890625 33.015625 \nz\n\" id=\"DejaVuSans-110\"/>\n      <path id=\"DejaVuSans-32\"/>\n      <path d=\"M 10.59375 45.40625 \nL 73.1875 45.40625 \nL 73.1875 37.203125 \nL 10.59375 37.203125 \nz\nM 10.59375 25.484375 \nL 73.1875 25.484375 \nL 73.1875 17.1875 \nL 10.59375 17.1875 \nz\n\" id=\"DejaVuSans-61\"/>\n      <path d=\"M 31.78125 66.40625 \nQ 24.171875 66.40625 20.328125 58.90625 \nQ 16.5 51.421875 16.5 36.375 \nQ 16.5 21.390625 20.328125 13.890625 \nQ 24.171875 6.390625 31.78125 6.390625 \nQ 39.453125 6.390625 43.28125 13.890625 \nQ 47.125 21.390625 47.125 36.375 \nQ 47.125 51.421875 43.28125 58.90625 \nQ 39.453125 66.40625 31.78125 66.40625 \nz\nM 31.78125 74.21875 \nQ 44.046875 74.21875 50.515625 64.515625 \nQ 56.984375 54.828125 56.984375 36.375 \nQ 56.984375 17.96875 50.515625 8.265625 \nQ 44.046875 -1.421875 31.78125 -1.421875 \nQ 19.53125 -1.421875 13.0625 8.265625 \nQ 6.59375 17.96875 6.59375 36.375 \nQ 6.59375 54.828125 13.0625 64.515625 \nQ 19.53125 74.21875 31.78125 74.21875 \nz\n\" id=\"DejaVuSans-48\"/>\n      <path d=\"M 10.6875 12.40625 \nL 21 12.40625 \nL 21 0 \nL 10.6875 0 \nz\n\" id=\"DejaVuSans-46\"/>\n      <path d=\"M 37.796875 64.3125 \nL 12.890625 25.390625 \nL 37.796875 25.390625 \nz\nM 35.203125 72.90625 \nL 47.609375 72.90625 \nL 47.609375 25.390625 \nL 58.015625 25.390625 \nL 58.015625 17.1875 \nL 47.609375 17.1875 \nL 47.609375 0 \nL 37.796875 0 \nL 37.796875 17.1875 \nL 4.890625 17.1875 \nL 4.890625 26.703125 \nz\n\" id=\"DejaVuSans-52\"/>\n      <path d=\"M 10.984375 1.515625 \nL 10.984375 10.5 \nQ 14.703125 8.734375 18.5 7.8125 \nQ 22.3125 6.890625 25.984375 6.890625 \nQ 35.75 6.890625 40.890625 13.453125 \nQ 46.046875 20.015625 46.78125 33.40625 \nQ 43.953125 29.203125 39.59375 26.953125 \nQ 35.25 24.703125 29.984375 24.703125 \nQ 19.046875 24.703125 12.671875 31.3125 \nQ 6.296875 37.9375 6.296875 49.421875 \nQ 6.296875 60.640625 12.9375 67.421875 \nQ 19.578125 74.21875 30.609375 74.21875 \nQ 43.265625 74.21875 49.921875 64.515625 \nQ 56.59375 54.828125 56.59375 36.375 \nQ 56.59375 19.140625 48.40625 8.859375 \nQ 40.234375 -1.421875 26.421875 -1.421875 \nQ 22.703125 -1.421875 18.890625 -0.6875 \nQ 15.09375 0.046875 10.984375 1.515625 \nz\nM 30.609375 32.421875 \nQ 37.25 32.421875 41.125 36.953125 \nQ 45.015625 41.5 45.015625 49.421875 \nQ 45.015625 57.28125 41.125 61.84375 \nQ 37.25 66.40625 30.609375 66.40625 \nQ 23.96875 66.40625 20.09375 61.84375 \nQ 16.21875 57.28125 16.21875 49.421875 \nQ 16.21875 41.5 20.09375 36.953125 \nQ 23.96875 32.421875 30.609375 32.421875 \nz\n\" id=\"DejaVuSans-57\"/>\n      <path d=\"M 8.203125 72.90625 \nL 55.078125 72.90625 \nL 55.078125 68.703125 \nL 28.609375 0 \nL 18.3125 0 \nL 43.21875 64.59375 \nL 8.203125 64.59375 \nz\n\" id=\"DejaVuSans-55\"/>\n     </defs>\n     <use xlink:href=\"#DejaVuSans-103\"/>\n     <use x=\"63.476562\" xlink:href=\"#DejaVuSans-105\"/>\n     <use x=\"91.259766\" xlink:href=\"#DejaVuSans-110\"/>\n     <use x=\"154.638672\" xlink:href=\"#DejaVuSans-105\"/>\n     <use x=\"182.421875\" xlink:href=\"#DejaVuSans-32\"/>\n     <use x=\"214.208984\" xlink:href=\"#DejaVuSans-61\"/>\n     <use x=\"297.998047\" xlink:href=\"#DejaVuSans-32\"/>\n     <use x=\"329.785156\" xlink:href=\"#DejaVuSans-48\"/>\n     <use x=\"393.408203\" xlink:href=\"#DejaVuSans-46\"/>\n     <use x=\"425.195312\" xlink:href=\"#DejaVuSans-52\"/>\n     <use x=\"488.818359\" xlink:href=\"#DejaVuSans-57\"/>\n     <use x=\"552.441406\" xlink:href=\"#DejaVuSans-55\"/>\n    </g>\n    <!-- samples = 6327 -->\n    <g transform=\"translate(153.132591 198.909159)scale(0.052518 -0.052518)\">\n     <defs>\n      <path d=\"M 44.28125 53.078125 \nL 44.28125 44.578125 \nQ 40.484375 46.53125 36.375 47.5 \nQ 32.28125 48.484375 27.875 48.484375 \nQ 21.1875 48.484375 17.84375 46.4375 \nQ 14.5 44.390625 14.5 40.28125 \nQ 14.5 37.15625 16.890625 35.375 \nQ 19.28125 33.59375 26.515625 31.984375 \nL 29.59375 31.296875 \nQ 39.15625 29.25 43.1875 25.515625 \nQ 47.21875 21.78125 47.21875 15.09375 \nQ 47.21875 7.46875 41.1875 3.015625 \nQ 35.15625 -1.421875 24.609375 -1.421875 \nQ 20.21875 -1.421875 15.453125 -0.5625 \nQ 10.6875 0.296875 5.421875 2 \nL 5.421875 11.28125 \nQ 10.40625 8.6875 15.234375 7.390625 \nQ 20.0625 6.109375 24.8125 6.109375 \nQ 31.15625 6.109375 34.5625 8.28125 \nQ 37.984375 10.453125 37.984375 14.40625 \nQ 37.984375 18.0625 35.515625 20.015625 \nQ 33.0625 21.96875 24.703125 23.78125 \nL 21.578125 24.515625 \nQ 13.234375 26.265625 9.515625 29.90625 \nQ 5.8125 33.546875 5.8125 39.890625 \nQ 5.8125 47.609375 11.28125 51.796875 \nQ 16.75 56 26.8125 56 \nQ 31.78125 56 36.171875 55.265625 \nQ 40.578125 54.546875 44.28125 53.078125 \nz\n\" id=\"DejaVuSans-115\"/>\n      <path d=\"M 34.28125 27.484375 \nQ 23.390625 27.484375 19.1875 25 \nQ 14.984375 22.515625 14.984375 16.5 \nQ 14.984375 11.71875 18.140625 8.90625 \nQ 21.296875 6.109375 26.703125 6.109375 \nQ 34.1875 6.109375 38.703125 11.40625 \nQ 43.21875 16.703125 43.21875 25.484375 \nL 43.21875 27.484375 \nz\nM 52.203125 31.203125 \nL 52.203125 0 \nL 43.21875 0 \nL 43.21875 8.296875 \nQ 40.140625 3.328125 35.546875 0.953125 \nQ 30.953125 -1.421875 24.3125 -1.421875 \nQ 15.921875 -1.421875 10.953125 3.296875 \nQ 6 8.015625 6 15.921875 \nQ 6 25.140625 12.171875 29.828125 \nQ 18.359375 34.515625 30.609375 34.515625 \nL 43.21875 34.515625 \nL 43.21875 35.40625 \nQ 43.21875 41.609375 39.140625 45 \nQ 35.0625 48.390625 27.6875 48.390625 \nQ 23 48.390625 18.546875 47.265625 \nQ 14.109375 46.140625 10.015625 43.890625 \nL 10.015625 52.203125 \nQ 14.9375 54.109375 19.578125 55.046875 \nQ 24.21875 56 28.609375 56 \nQ 40.484375 56 46.34375 49.84375 \nQ 52.203125 43.703125 52.203125 31.203125 \nz\n\" id=\"DejaVuSans-97\"/>\n      <path d=\"M 52 44.1875 \nQ 55.375 50.25 60.0625 53.125 \nQ 64.75 56 71.09375 56 \nQ 79.640625 56 84.28125 50.015625 \nQ 88.921875 44.046875 88.921875 33.015625 \nL 88.921875 0 \nL 79.890625 0 \nL 79.890625 32.71875 \nQ 79.890625 40.578125 77.09375 44.375 \nQ 74.3125 48.1875 68.609375 48.1875 \nQ 61.625 48.1875 57.5625 43.546875 \nQ 53.515625 38.921875 53.515625 30.90625 \nL 53.515625 0 \nL 44.484375 0 \nL 44.484375 32.71875 \nQ 44.484375 40.625 41.703125 44.40625 \nQ 38.921875 48.1875 33.109375 48.1875 \nQ 26.21875 48.1875 22.15625 43.53125 \nQ 18.109375 38.875 18.109375 30.90625 \nL 18.109375 0 \nL 9.078125 0 \nL 9.078125 54.6875 \nL 18.109375 54.6875 \nL 18.109375 46.1875 \nQ 21.1875 51.21875 25.484375 53.609375 \nQ 29.78125 56 35.6875 56 \nQ 41.65625 56 45.828125 52.96875 \nQ 50 49.953125 52 44.1875 \nz\n\" id=\"DejaVuSans-109\"/>\n      <path d=\"M 18.109375 8.203125 \nL 18.109375 -20.796875 \nL 9.078125 -20.796875 \nL 9.078125 54.6875 \nL 18.109375 54.6875 \nL 18.109375 46.390625 \nQ 20.953125 51.265625 25.265625 53.625 \nQ 29.59375 56 35.59375 56 \nQ 45.5625 56 51.78125 48.09375 \nQ 58.015625 40.1875 58.015625 27.296875 \nQ 58.015625 14.40625 51.78125 6.484375 \nQ 45.5625 -1.421875 35.59375 -1.421875 \nQ 29.59375 -1.421875 25.265625 0.953125 \nQ 20.953125 3.328125 18.109375 8.203125 \nz\nM 48.6875 27.296875 \nQ 48.6875 37.203125 44.609375 42.84375 \nQ 40.53125 48.484375 33.40625 48.484375 \nQ 26.265625 48.484375 22.1875 42.84375 \nQ 18.109375 37.203125 18.109375 27.296875 \nQ 18.109375 17.390625 22.1875 11.75 \nQ 26.265625 6.109375 33.40625 6.109375 \nQ 40.53125 6.109375 44.609375 11.75 \nQ 48.6875 17.390625 48.6875 27.296875 \nz\n\" id=\"DejaVuSans-112\"/>\n      <path d=\"M 9.421875 75.984375 \nL 18.40625 75.984375 \nL 18.40625 0 \nL 9.421875 0 \nz\n\" id=\"DejaVuSans-108\"/>\n      <path d=\"M 56.203125 29.59375 \nL 56.203125 25.203125 \nL 14.890625 25.203125 \nQ 15.484375 15.921875 20.484375 11.0625 \nQ 25.484375 6.203125 34.421875 6.203125 \nQ 39.59375 6.203125 44.453125 7.46875 \nQ 49.3125 8.734375 54.109375 11.28125 \nL 54.109375 2.78125 \nQ 49.265625 0.734375 44.1875 -0.34375 \nQ 39.109375 -1.421875 33.890625 -1.421875 \nQ 20.796875 -1.421875 13.15625 6.1875 \nQ 5.515625 13.8125 5.515625 26.8125 \nQ 5.515625 40.234375 12.765625 48.109375 \nQ 20.015625 56 32.328125 56 \nQ 43.359375 56 49.78125 48.890625 \nQ 56.203125 41.796875 56.203125 29.59375 \nz\nM 47.21875 32.234375 \nQ 47.125 39.59375 43.09375 43.984375 \nQ 39.0625 48.390625 32.421875 48.390625 \nQ 24.90625 48.390625 20.390625 44.140625 \nQ 15.875 39.890625 15.1875 32.171875 \nz\n\" id=\"DejaVuSans-101\"/>\n      <path d=\"M 33.015625 40.375 \nQ 26.375 40.375 22.484375 35.828125 \nQ 18.609375 31.296875 18.609375 23.390625 \nQ 18.609375 15.53125 22.484375 10.953125 \nQ 26.375 6.390625 33.015625 6.390625 \nQ 39.65625 6.390625 43.53125 10.953125 \nQ 47.40625 15.53125 47.40625 23.390625 \nQ 47.40625 31.296875 43.53125 35.828125 \nQ 39.65625 40.375 33.015625 40.375 \nz\nM 52.59375 71.296875 \nL 52.59375 62.3125 \nQ 48.875 64.0625 45.09375 64.984375 \nQ 41.3125 65.921875 37.59375 65.921875 \nQ 27.828125 65.921875 22.671875 59.328125 \nQ 17.53125 52.734375 16.796875 39.40625 \nQ 19.671875 43.65625 24.015625 45.921875 \nQ 28.375 48.1875 33.59375 48.1875 \nQ 44.578125 48.1875 50.953125 41.515625 \nQ 57.328125 34.859375 57.328125 23.390625 \nQ 57.328125 12.15625 50.6875 5.359375 \nQ 44.046875 -1.421875 33.015625 -1.421875 \nQ 20.359375 -1.421875 13.671875 8.265625 \nQ 6.984375 17.96875 6.984375 36.375 \nQ 6.984375 53.65625 15.1875 63.9375 \nQ 23.390625 74.21875 37.203125 74.21875 \nQ 40.921875 74.21875 44.703125 73.484375 \nQ 48.484375 72.75 52.59375 71.296875 \nz\n\" id=\"DejaVuSans-54\"/>\n      <path d=\"M 40.578125 39.3125 \nQ 47.65625 37.796875 51.625 33 \nQ 55.609375 28.21875 55.609375 21.1875 \nQ 55.609375 10.40625 48.1875 4.484375 \nQ 40.765625 -1.421875 27.09375 -1.421875 \nQ 22.515625 -1.421875 17.65625 -0.515625 \nQ 12.796875 0.390625 7.625 2.203125 \nL 7.625 11.71875 \nQ 11.71875 9.328125 16.59375 8.109375 \nQ 21.484375 6.890625 26.8125 6.890625 \nQ 36.078125 6.890625 40.9375 10.546875 \nQ 45.796875 14.203125 45.796875 21.1875 \nQ 45.796875 27.640625 41.28125 31.265625 \nQ 36.765625 34.90625 28.71875 34.90625 \nL 20.21875 34.90625 \nL 20.21875 43.015625 \nL 29.109375 43.015625 \nQ 36.375 43.015625 40.234375 45.921875 \nQ 44.09375 48.828125 44.09375 54.296875 \nQ 44.09375 59.90625 40.109375 62.90625 \nQ 36.140625 65.921875 28.71875 65.921875 \nQ 24.65625 65.921875 20.015625 65.03125 \nQ 15.375 64.15625 9.8125 62.3125 \nL 9.8125 71.09375 \nQ 15.4375 72.65625 20.34375 73.4375 \nQ 25.25 74.21875 29.59375 74.21875 \nQ 40.828125 74.21875 47.359375 69.109375 \nQ 53.90625 64.015625 53.90625 55.328125 \nQ 53.90625 49.265625 50.4375 45.09375 \nQ 46.96875 40.921875 40.578125 39.3125 \nz\n\" id=\"DejaVuSans-51\"/>\n      <path d=\"M 19.1875 8.296875 \nL 53.609375 8.296875 \nL 53.609375 0 \nL 7.328125 0 \nL 7.328125 8.296875 \nQ 12.9375 14.109375 22.625 23.890625 \nQ 32.328125 33.6875 34.8125 36.53125 \nQ 39.546875 41.84375 41.421875 45.53125 \nQ 43.3125 49.21875 43.3125 52.78125 \nQ 43.3125 58.59375 39.234375 62.25 \nQ 35.15625 65.921875 28.609375 65.921875 \nQ 23.96875 65.921875 18.8125 64.3125 \nQ 13.671875 62.703125 7.8125 59.421875 \nL 7.8125 69.390625 \nQ 13.765625 71.78125 18.9375 73 \nQ 24.125 74.21875 28.421875 74.21875 \nQ 39.75 74.21875 46.484375 68.546875 \nQ 53.21875 62.890625 53.21875 53.421875 \nQ 53.21875 48.921875 51.53125 44.890625 \nQ 49.859375 40.875 45.40625 35.40625 \nQ 44.1875 33.984375 37.640625 27.21875 \nQ 31.109375 20.453125 19.1875 8.296875 \nz\n\" id=\"DejaVuSans-50\"/>\n     </defs>\n     <use xlink:href=\"#DejaVuSans-115\"/>\n     <use x=\"52.099609\" xlink:href=\"#DejaVuSans-97\"/>\n     <use x=\"113.378906\" xlink:href=\"#DejaVuSans-109\"/>\n     <use x=\"210.791016\" xlink:href=\"#DejaVuSans-112\"/>\n     <use x=\"274.267578\" xlink:href=\"#DejaVuSans-108\"/>\n     <use x=\"302.050781\" xlink:href=\"#DejaVuSans-101\"/>\n     <use x=\"363.574219\" xlink:href=\"#DejaVuSans-115\"/>\n     <use x=\"415.673828\" xlink:href=\"#DejaVuSans-32\"/>\n     <use x=\"447.460938\" xlink:href=\"#DejaVuSans-61\"/>\n     <use x=\"531.25\" xlink:href=\"#DejaVuSans-32\"/>\n     <use x=\"563.037109\" xlink:href=\"#DejaVuSans-54\"/>\n     <use x=\"626.660156\" xlink:href=\"#DejaVuSans-51\"/>\n     <use x=\"690.283203\" xlink:href=\"#DejaVuSans-50\"/>\n     <use x=\"753.90625\" xlink:href=\"#DejaVuSans-55\"/>\n    </g>\n    <!-- value = [2984.103, 3485.778] -->\n    <g transform=\"translate(134.780546 204.789986)scale(0.052518 -0.052518)\">\n     <defs>\n      <path d=\"M 2.984375 54.6875 \nL 12.5 54.6875 \nL 29.59375 8.796875 \nL 46.6875 54.6875 \nL 56.203125 54.6875 \nL 35.6875 0 \nL 23.484375 0 \nz\n\" id=\"DejaVuSans-118\"/>\n      <path d=\"M 8.5 21.578125 \nL 8.5 54.6875 \nL 17.484375 54.6875 \nL 17.484375 21.921875 \nQ 17.484375 14.15625 20.5 10.265625 \nQ 23.53125 6.390625 29.59375 6.390625 \nQ 36.859375 6.390625 41.078125 11.03125 \nQ 45.3125 15.671875 45.3125 23.6875 \nL 45.3125 54.6875 \nL 54.296875 54.6875 \nL 54.296875 0 \nL 45.3125 0 \nL 45.3125 8.40625 \nQ 42.046875 3.421875 37.71875 1 \nQ 33.40625 -1.421875 27.6875 -1.421875 \nQ 18.265625 -1.421875 13.375 4.4375 \nQ 8.5 10.296875 8.5 21.578125 \nz\nM 31.109375 56 \nz\n\" id=\"DejaVuSans-117\"/>\n      <path d=\"M 8.59375 75.984375 \nL 29.296875 75.984375 \nL 29.296875 69 \nL 17.578125 69 \nL 17.578125 -6.203125 \nL 29.296875 -6.203125 \nL 29.296875 -13.1875 \nL 8.59375 -13.1875 \nz\n\" id=\"DejaVuSans-91\"/>\n      <path d=\"M 31.78125 34.625 \nQ 24.75 34.625 20.71875 30.859375 \nQ 16.703125 27.09375 16.703125 20.515625 \nQ 16.703125 13.921875 20.71875 10.15625 \nQ 24.75 6.390625 31.78125 6.390625 \nQ 38.8125 6.390625 42.859375 10.171875 \nQ 46.921875 13.96875 46.921875 20.515625 \nQ 46.921875 27.09375 42.890625 30.859375 \nQ 38.875 34.625 31.78125 34.625 \nz\nM 21.921875 38.8125 \nQ 15.578125 40.375 12.03125 44.71875 \nQ 8.5 49.078125 8.5 55.328125 \nQ 8.5 64.0625 14.71875 69.140625 \nQ 20.953125 74.21875 31.78125 74.21875 \nQ 42.671875 74.21875 48.875 69.140625 \nQ 55.078125 64.0625 55.078125 55.328125 \nQ 55.078125 49.078125 51.53125 44.71875 \nQ 48 40.375 41.703125 38.8125 \nQ 48.828125 37.15625 52.796875 32.3125 \nQ 56.78125 27.484375 56.78125 20.515625 \nQ 56.78125 9.90625 50.3125 4.234375 \nQ 43.84375 -1.421875 31.78125 -1.421875 \nQ 19.734375 -1.421875 13.25 4.234375 \nQ 6.78125 9.90625 6.78125 20.515625 \nQ 6.78125 27.484375 10.78125 32.3125 \nQ 14.796875 37.15625 21.921875 38.8125 \nz\nM 18.3125 54.390625 \nQ 18.3125 48.734375 21.84375 45.5625 \nQ 25.390625 42.390625 31.78125 42.390625 \nQ 38.140625 42.390625 41.71875 45.5625 \nQ 45.3125 48.734375 45.3125 54.390625 \nQ 45.3125 60.0625 41.71875 63.234375 \nQ 38.140625 66.40625 31.78125 66.40625 \nQ 25.390625 66.40625 21.84375 63.234375 \nQ 18.3125 60.0625 18.3125 54.390625 \nz\n\" id=\"DejaVuSans-56\"/>\n      <path d=\"M 12.40625 8.296875 \nL 28.515625 8.296875 \nL 28.515625 63.921875 \nL 10.984375 60.40625 \nL 10.984375 69.390625 \nL 28.421875 72.90625 \nL 38.28125 72.90625 \nL 38.28125 8.296875 \nL 54.390625 8.296875 \nL 54.390625 0 \nL 12.40625 0 \nz\n\" id=\"DejaVuSans-49\"/>\n      <path d=\"M 11.71875 12.40625 \nL 22.015625 12.40625 \nL 22.015625 4 \nL 14.015625 -11.625 \nL 7.71875 -11.625 \nL 11.71875 4 \nz\n\" id=\"DejaVuSans-44\"/>\n      <path d=\"M 10.796875 72.90625 \nL 49.515625 72.90625 \nL 49.515625 64.59375 \nL 19.828125 64.59375 \nL 19.828125 46.734375 \nQ 21.96875 47.46875 24.109375 47.828125 \nQ 26.265625 48.1875 28.421875 48.1875 \nQ 40.625 48.1875 47.75 41.5 \nQ 54.890625 34.8125 54.890625 23.390625 \nQ 54.890625 11.625 47.5625 5.09375 \nQ 40.234375 -1.421875 26.90625 -1.421875 \nQ 22.3125 -1.421875 17.546875 -0.640625 \nQ 12.796875 0.140625 7.71875 1.703125 \nL 7.71875 11.625 \nQ 12.109375 9.234375 16.796875 8.0625 \nQ 21.484375 6.890625 26.703125 6.890625 \nQ 35.15625 6.890625 40.078125 11.328125 \nQ 45.015625 15.765625 45.015625 23.390625 \nQ 45.015625 31 40.078125 35.4375 \nQ 35.15625 39.890625 26.703125 39.890625 \nQ 22.75 39.890625 18.8125 39.015625 \nQ 14.890625 38.140625 10.796875 36.28125 \nz\n\" id=\"DejaVuSans-53\"/>\n      <path d=\"M 30.421875 75.984375 \nL 30.421875 -13.1875 \nL 9.71875 -13.1875 \nL 9.71875 -6.203125 \nL 21.390625 -6.203125 \nL 21.390625 69 \nL 9.71875 69 \nL 9.71875 75.984375 \nz\n\" id=\"DejaVuSans-93\"/>\n     </defs>\n     <use xlink:href=\"#DejaVuSans-118\"/>\n     <use x=\"59.179688\" xlink:href=\"#DejaVuSans-97\"/>\n     <use x=\"120.458984\" xlink:href=\"#DejaVuSans-108\"/>\n     <use x=\"148.242188\" xlink:href=\"#DejaVuSans-117\"/>\n     <use x=\"211.621094\" xlink:href=\"#DejaVuSans-101\"/>\n     <use x=\"273.144531\" xlink:href=\"#DejaVuSans-32\"/>\n     <use x=\"304.931641\" xlink:href=\"#DejaVuSans-61\"/>\n     <use x=\"388.720703\" xlink:href=\"#DejaVuSans-32\"/>\n     <use x=\"420.507812\" xlink:href=\"#DejaVuSans-91\"/>\n     <use x=\"459.521484\" xlink:href=\"#DejaVuSans-50\"/>\n     <use x=\"523.144531\" xlink:href=\"#DejaVuSans-57\"/>\n     <use x=\"586.767578\" xlink:href=\"#DejaVuSans-56\"/>\n     <use x=\"650.390625\" xlink:href=\"#DejaVuSans-52\"/>\n     <use x=\"714.013672\" xlink:href=\"#DejaVuSans-46\"/>\n     <use x=\"745.800781\" xlink:href=\"#DejaVuSans-49\"/>\n     <use x=\"809.423828\" xlink:href=\"#DejaVuSans-48\"/>\n     <use x=\"873.046875\" xlink:href=\"#DejaVuSans-51\"/>\n     <use x=\"936.669922\" xlink:href=\"#DejaVuSans-44\"/>\n     <use x=\"968.457031\" xlink:href=\"#DejaVuSans-32\"/>\n     <use x=\"1000.244141\" xlink:href=\"#DejaVuSans-51\"/>\n     <use x=\"1063.867188\" xlink:href=\"#DejaVuSans-52\"/>\n     <use x=\"1127.490234\" xlink:href=\"#DejaVuSans-56\"/>\n     <use x=\"1191.113281\" xlink:href=\"#DejaVuSans-53\"/>\n     <use x=\"1254.736328\" xlink:href=\"#DejaVuSans-46\"/>\n     <use x=\"1286.523438\" xlink:href=\"#DejaVuSans-55\"/>\n     <use x=\"1350.146484\" xlink:href=\"#DejaVuSans-55\"/>\n     <use x=\"1413.769531\" xlink:href=\"#DejaVuSans-56\"/>\n     <use x=\"1477.392578\" xlink:href=\"#DejaVuSans-93\"/>\n    </g>\n   </g>\n   <g id=\"patch_4\">\n    <path d=\"M 272.651011 184.260662 \nQ 252.641965 164.767978 231.832083 144.495127 \n\" style=\"fill:none;stroke:#000000;stroke-linecap:round;\"/>\n    <path d=\"M 271.879239 182.042425 \nL 272.651011 184.260662 \nL 270.413358 183.547137 \n\" style=\"fill:none;stroke:#000000;stroke-linecap:round;\"/>\n   </g>\n   <g id=\"text_2\">\n    <g id=\"patch_5\">\n     <path d=\"M 240.938404 207.982895 \nL 331.461596 207.982895 \nL 331.461596 186.937105 \nL 240.938404 186.937105 \nz\n\" style=\"fill:#ffffff;stroke:#000000;stroke-linejoin:miter;\"/>\n    </g>\n    <!-- gini = 0.5 -->\n    <g transform=\"translate(273.364359 193.028331)scale(0.052518 -0.052518)\">\n     <use xlink:href=\"#DejaVuSans-103\"/>\n     <use x=\"63.476562\" xlink:href=\"#DejaVuSans-105\"/>\n     <use x=\"91.259766\" xlink:href=\"#DejaVuSans-110\"/>\n     <use x=\"154.638672\" xlink:href=\"#DejaVuSans-105\"/>\n     <use x=\"182.421875\" xlink:href=\"#DejaVuSans-32\"/>\n     <use x=\"214.208984\" xlink:href=\"#DejaVuSans-61\"/>\n     <use x=\"297.998047\" xlink:href=\"#DejaVuSans-32\"/>\n     <use x=\"329.785156\" xlink:href=\"#DejaVuSans-48\"/>\n     <use x=\"393.408203\" xlink:href=\"#DejaVuSans-46\"/>\n     <use x=\"425.195312\" xlink:href=\"#DejaVuSans-53\"/>\n    </g>\n    <!-- samples = 31984 -->\n    <g transform=\"translate(263.061874 198.909159)scale(0.052518 -0.052518)\">\n     <use xlink:href=\"#DejaVuSans-115\"/>\n     <use x=\"52.099609\" xlink:href=\"#DejaVuSans-97\"/>\n     <use x=\"113.378906\" xlink:href=\"#DejaVuSans-109\"/>\n     <use x=\"210.791016\" xlink:href=\"#DejaVuSans-112\"/>\n     <use x=\"274.267578\" xlink:href=\"#DejaVuSans-108\"/>\n     <use x=\"302.050781\" xlink:href=\"#DejaVuSans-101\"/>\n     <use x=\"363.574219\" xlink:href=\"#DejaVuSans-115\"/>\n     <use x=\"415.673828\" xlink:href=\"#DejaVuSans-32\"/>\n     <use x=\"447.460938\" xlink:href=\"#DejaVuSans-61\"/>\n     <use x=\"531.25\" xlink:href=\"#DejaVuSans-32\"/>\n     <use x=\"563.037109\" xlink:href=\"#DejaVuSans-51\"/>\n     <use x=\"626.660156\" xlink:href=\"#DejaVuSans-49\"/>\n     <use x=\"690.283203\" xlink:href=\"#DejaVuSans-57\"/>\n     <use x=\"753.90625\" xlink:href=\"#DejaVuSans-56\"/>\n     <use x=\"817.529297\" xlink:href=\"#DejaVuSans-52\"/>\n    </g>\n    <!-- value = [15694.173, 16527.032] -->\n    <g transform=\"translate(243.03911 204.789986)scale(0.052518 -0.052518)\">\n     <use xlink:href=\"#DejaVuSans-118\"/>\n     <use x=\"59.179688\" xlink:href=\"#DejaVuSans-97\"/>\n     <use x=\"120.458984\" xlink:href=\"#DejaVuSans-108\"/>\n     <use x=\"148.242188\" xlink:href=\"#DejaVuSans-117\"/>\n     <use x=\"211.621094\" xlink:href=\"#DejaVuSans-101\"/>\n     <use x=\"273.144531\" xlink:href=\"#DejaVuSans-32\"/>\n     <use x=\"304.931641\" xlink:href=\"#DejaVuSans-61\"/>\n     <use x=\"388.720703\" xlink:href=\"#DejaVuSans-32\"/>\n     <use x=\"420.507812\" xlink:href=\"#DejaVuSans-91\"/>\n     <use x=\"459.521484\" xlink:href=\"#DejaVuSans-49\"/>\n     <use x=\"523.144531\" xlink:href=\"#DejaVuSans-53\"/>\n     <use x=\"586.767578\" xlink:href=\"#DejaVuSans-54\"/>\n     <use x=\"650.390625\" xlink:href=\"#DejaVuSans-57\"/>\n     <use x=\"714.013672\" xlink:href=\"#DejaVuSans-52\"/>\n     <use x=\"777.636719\" xlink:href=\"#DejaVuSans-46\"/>\n     <use x=\"809.423828\" xlink:href=\"#DejaVuSans-49\"/>\n     <use x=\"873.046875\" xlink:href=\"#DejaVuSans-55\"/>\n     <use x=\"936.669922\" xlink:href=\"#DejaVuSans-51\"/>\n     <use x=\"1000.292969\" xlink:href=\"#DejaVuSans-44\"/>\n     <use x=\"1032.080078\" xlink:href=\"#DejaVuSans-32\"/>\n     <use x=\"1063.867188\" xlink:href=\"#DejaVuSans-49\"/>\n     <use x=\"1127.490234\" xlink:href=\"#DejaVuSans-54\"/>\n     <use x=\"1191.113281\" xlink:href=\"#DejaVuSans-53\"/>\n     <use x=\"1254.736328\" xlink:href=\"#DejaVuSans-50\"/>\n     <use x=\"1318.359375\" xlink:href=\"#DejaVuSans-55\"/>\n     <use x=\"1381.982422\" xlink:href=\"#DejaVuSans-46\"/>\n     <use x=\"1413.769531\" xlink:href=\"#DejaVuSans-48\"/>\n     <use x=\"1477.392578\" xlink:href=\"#DejaVuSans-51\"/>\n     <use x=\"1541.015625\" xlink:href=\"#DejaVuSans-50\"/>\n     <use x=\"1604.638672\" xlink:href=\"#DejaVuSans-93\"/>\n    </g>\n   </g>\n   <g id=\"patch_6\">\n    <path d=\"M 132.348989 129.900662 \nQ 152.358035 110.407978 173.167917 90.135127 \n\" style=\"fill:none;stroke:#000000;stroke-linecap:round;\"/>\n    <path d=\"M 134.586642 129.187137 \nL 132.348989 129.900662 \nL 133.120761 127.682425 \n\" style=\"fill:none;stroke:#000000;stroke-linecap:round;\"/>\n   </g>\n   <g id=\"text_3\">\n    <g id=\"patch_7\">\n     <path d=\"M 76.87984 153.622895 \nL 160.72016 153.622895 \nL 160.72016 132.577105 \nL 76.87984 132.577105 \nz\n\" style=\"fill:#ffffff;stroke:#000000;stroke-linejoin:miter;\"/>\n    </g>\n    <!-- gini = 0.499 -->\n    <g transform=\"translate(102.622924 138.668331)scale(0.052518 -0.052518)\">\n     <use xlink:href=\"#DejaVuSans-103\"/>\n     <use x=\"63.476562\" xlink:href=\"#DejaVuSans-105\"/>\n     <use x=\"91.259766\" xlink:href=\"#DejaVuSans-110\"/>\n     <use x=\"154.638672\" xlink:href=\"#DejaVuSans-105\"/>\n     <use x=\"182.421875\" xlink:href=\"#DejaVuSans-32\"/>\n     <use x=\"214.208984\" xlink:href=\"#DejaVuSans-61\"/>\n     <use x=\"297.998047\" xlink:href=\"#DejaVuSans-32\"/>\n     <use x=\"329.785156\" xlink:href=\"#DejaVuSans-48\"/>\n     <use x=\"393.408203\" xlink:href=\"#DejaVuSans-46\"/>\n     <use x=\"425.195312\" xlink:href=\"#DejaVuSans-52\"/>\n     <use x=\"488.818359\" xlink:href=\"#DejaVuSans-57\"/>\n     <use x=\"552.441406\" xlink:href=\"#DejaVuSans-57\"/>\n    </g>\n    <!-- samples = 5818 -->\n    <g transform=\"translate(97.332591 144.549159)scale(0.052518 -0.052518)\">\n     <use xlink:href=\"#DejaVuSans-115\"/>\n     <use x=\"52.099609\" xlink:href=\"#DejaVuSans-97\"/>\n     <use x=\"113.378906\" xlink:href=\"#DejaVuSans-109\"/>\n     <use x=\"210.791016\" xlink:href=\"#DejaVuSans-112\"/>\n     <use x=\"274.267578\" xlink:href=\"#DejaVuSans-108\"/>\n     <use x=\"302.050781\" xlink:href=\"#DejaVuSans-101\"/>\n     <use x=\"363.574219\" xlink:href=\"#DejaVuSans-115\"/>\n     <use x=\"415.673828\" xlink:href=\"#DejaVuSans-32\"/>\n     <use x=\"447.460938\" xlink:href=\"#DejaVuSans-61\"/>\n     <use x=\"531.25\" xlink:href=\"#DejaVuSans-32\"/>\n     <use x=\"563.037109\" xlink:href=\"#DejaVuSans-53\"/>\n     <use x=\"626.660156\" xlink:href=\"#DejaVuSans-56\"/>\n     <use x=\"690.283203\" xlink:href=\"#DejaVuSans-49\"/>\n     <use x=\"753.90625\" xlink:href=\"#DejaVuSans-56\"/>\n    </g>\n    <!-- value = [3012.901, 2722.346] -->\n    <g transform=\"translate(78.980546 150.429986)scale(0.052518 -0.052518)\">\n     <use xlink:href=\"#DejaVuSans-118\"/>\n     <use x=\"59.179688\" xlink:href=\"#DejaVuSans-97\"/>\n     <use x=\"120.458984\" xlink:href=\"#DejaVuSans-108\"/>\n     <use x=\"148.242188\" xlink:href=\"#DejaVuSans-117\"/>\n     <use x=\"211.621094\" xlink:href=\"#DejaVuSans-101\"/>\n     <use x=\"273.144531\" xlink:href=\"#DejaVuSans-32\"/>\n     <use x=\"304.931641\" xlink:href=\"#DejaVuSans-61\"/>\n     <use x=\"388.720703\" xlink:href=\"#DejaVuSans-32\"/>\n     <use x=\"420.507812\" xlink:href=\"#DejaVuSans-91\"/>\n     <use x=\"459.521484\" xlink:href=\"#DejaVuSans-51\"/>\n     <use x=\"523.144531\" xlink:href=\"#DejaVuSans-48\"/>\n     <use x=\"586.767578\" xlink:href=\"#DejaVuSans-49\"/>\n     <use x=\"650.390625\" xlink:href=\"#DejaVuSans-50\"/>\n     <use x=\"714.013672\" xlink:href=\"#DejaVuSans-46\"/>\n     <use x=\"745.800781\" xlink:href=\"#DejaVuSans-57\"/>\n     <use x=\"809.423828\" xlink:href=\"#DejaVuSans-48\"/>\n     <use x=\"873.046875\" xlink:href=\"#DejaVuSans-49\"/>\n     <use x=\"936.669922\" xlink:href=\"#DejaVuSans-44\"/>\n     <use x=\"968.457031\" xlink:href=\"#DejaVuSans-32\"/>\n     <use x=\"1000.244141\" xlink:href=\"#DejaVuSans-50\"/>\n     <use x=\"1063.867188\" xlink:href=\"#DejaVuSans-55\"/>\n     <use x=\"1127.490234\" xlink:href=\"#DejaVuSans-50\"/>\n     <use x=\"1191.113281\" xlink:href=\"#DejaVuSans-50\"/>\n     <use x=\"1254.736328\" xlink:href=\"#DejaVuSans-46\"/>\n     <use x=\"1286.523438\" xlink:href=\"#DejaVuSans-51\"/>\n     <use x=\"1350.146484\" xlink:href=\"#DejaVuSans-52\"/>\n     <use x=\"1413.769531\" xlink:href=\"#DejaVuSans-54\"/>\n     <use x=\"1477.392578\" xlink:href=\"#DejaVuSans-93\"/>\n    </g>\n   </g>\n   <g id=\"patch_8\">\n    <path d=\"M 213.607296 126.740657 \nQ 195.219611 108.827492 176.031091 90.134159 \n\" style=\"fill:none;stroke:#000000;stroke-linecap:round;\"/>\n    <path d=\"M 212.835525 124.52242 \nL 213.607296 126.740657 \nL 211.369644 126.027132 \n\" style=\"fill:none;stroke:#000000;stroke-linecap:round;\"/>\n   </g>\n   <g id=\"text_4\">\n    <g id=\"patch_9\">\n     <path d=\"M 174.533532 156.636341 \nL 286.266468 156.636341 \nL 286.266468 129.417594 \nL 174.533532 129.417594 \nz\n\" style=\"fill:#ffffff;stroke:#000000;stroke-linejoin:miter;\"/>\n    </g>\n    <!-- Nominal Ethnicity_White Scottish &lt;= 0.5 -->\n    <g transform=\"translate(176.634238 135.654885)scale(0.052518 -0.052518)\">\n     <defs>\n      <path d=\"M 9.8125 72.90625 \nL 23.09375 72.90625 \nL 55.421875 11.921875 \nL 55.421875 72.90625 \nL 64.984375 72.90625 \nL 64.984375 0 \nL 51.703125 0 \nL 19.390625 60.984375 \nL 19.390625 0 \nL 9.8125 0 \nz\n\" id=\"DejaVuSans-78\"/>\n      <path d=\"M 30.609375 48.390625 \nQ 23.390625 48.390625 19.1875 42.75 \nQ 14.984375 37.109375 14.984375 27.296875 \nQ 14.984375 17.484375 19.15625 11.84375 \nQ 23.34375 6.203125 30.609375 6.203125 \nQ 37.796875 6.203125 41.984375 11.859375 \nQ 46.1875 17.53125 46.1875 27.296875 \nQ 46.1875 37.015625 41.984375 42.703125 \nQ 37.796875 48.390625 30.609375 48.390625 \nz\nM 30.609375 56 \nQ 42.328125 56 49.015625 48.375 \nQ 55.71875 40.765625 55.71875 27.296875 \nQ 55.71875 13.875 49.015625 6.21875 \nQ 42.328125 -1.421875 30.609375 -1.421875 \nQ 18.84375 -1.421875 12.171875 6.21875 \nQ 5.515625 13.875 5.515625 27.296875 \nQ 5.515625 40.765625 12.171875 48.375 \nQ 18.84375 56 30.609375 56 \nz\n\" id=\"DejaVuSans-111\"/>\n      <path d=\"M 9.8125 72.90625 \nL 55.90625 72.90625 \nL 55.90625 64.59375 \nL 19.671875 64.59375 \nL 19.671875 43.015625 \nL 54.390625 43.015625 \nL 54.390625 34.71875 \nL 19.671875 34.71875 \nL 19.671875 8.296875 \nL 56.78125 8.296875 \nL 56.78125 0 \nL 9.8125 0 \nz\n\" id=\"DejaVuSans-69\"/>\n      <path d=\"M 18.3125 70.21875 \nL 18.3125 54.6875 \nL 36.8125 54.6875 \nL 36.8125 47.703125 \nL 18.3125 47.703125 \nL 18.3125 18.015625 \nQ 18.3125 11.328125 20.140625 9.421875 \nQ 21.96875 7.515625 27.59375 7.515625 \nL 36.8125 7.515625 \nL 36.8125 0 \nL 27.59375 0 \nQ 17.1875 0 13.234375 3.875 \nQ 9.28125 7.765625 9.28125 18.015625 \nL 9.28125 47.703125 \nL 2.6875 47.703125 \nL 2.6875 54.6875 \nL 9.28125 54.6875 \nL 9.28125 70.21875 \nz\n\" id=\"DejaVuSans-116\"/>\n      <path d=\"M 54.890625 33.015625 \nL 54.890625 0 \nL 45.90625 0 \nL 45.90625 32.71875 \nQ 45.90625 40.484375 42.875 44.328125 \nQ 39.84375 48.1875 33.796875 48.1875 \nQ 26.515625 48.1875 22.3125 43.546875 \nQ 18.109375 38.921875 18.109375 30.90625 \nL 18.109375 0 \nL 9.078125 0 \nL 9.078125 75.984375 \nL 18.109375 75.984375 \nL 18.109375 46.1875 \nQ 21.34375 51.125 25.703125 53.5625 \nQ 30.078125 56 35.796875 56 \nQ 45.21875 56 50.046875 50.171875 \nQ 54.890625 44.34375 54.890625 33.015625 \nz\n\" id=\"DejaVuSans-104\"/>\n      <path d=\"M 48.78125 52.59375 \nL 48.78125 44.1875 \nQ 44.96875 46.296875 41.140625 47.34375 \nQ 37.3125 48.390625 33.40625 48.390625 \nQ 24.65625 48.390625 19.8125 42.84375 \nQ 14.984375 37.3125 14.984375 27.296875 \nQ 14.984375 17.28125 19.8125 11.734375 \nQ 24.65625 6.203125 33.40625 6.203125 \nQ 37.3125 6.203125 41.140625 7.25 \nQ 44.96875 8.296875 48.78125 10.40625 \nL 48.78125 2.09375 \nQ 45.015625 0.34375 40.984375 -0.53125 \nQ 36.96875 -1.421875 32.421875 -1.421875 \nQ 20.0625 -1.421875 12.78125 6.34375 \nQ 5.515625 14.109375 5.515625 27.296875 \nQ 5.515625 40.671875 12.859375 48.328125 \nQ 20.21875 56 33.015625 56 \nQ 37.15625 56 41.109375 55.140625 \nQ 45.0625 54.296875 48.78125 52.59375 \nz\n\" id=\"DejaVuSans-99\"/>\n      <path d=\"M 32.171875 -5.078125 \nQ 28.375 -14.84375 24.75 -17.8125 \nQ 21.140625 -20.796875 15.09375 -20.796875 \nL 7.90625 -20.796875 \nL 7.90625 -13.28125 \nL 13.1875 -13.28125 \nQ 16.890625 -13.28125 18.9375 -11.515625 \nQ 21 -9.765625 23.484375 -3.21875 \nL 25.09375 0.875 \nL 2.984375 54.6875 \nL 12.5 54.6875 \nL 29.59375 11.921875 \nL 46.6875 54.6875 \nL 56.203125 54.6875 \nz\n\" id=\"DejaVuSans-121\"/>\n      <path d=\"M 50.984375 -16.609375 \nL 50.984375 -23.578125 \nL -0.984375 -23.578125 \nL -0.984375 -16.609375 \nz\n\" id=\"DejaVuSans-95\"/>\n      <path d=\"M 3.328125 72.90625 \nL 13.28125 72.90625 \nL 28.609375 11.28125 \nL 43.890625 72.90625 \nL 54.984375 72.90625 \nL 70.3125 11.28125 \nL 85.59375 72.90625 \nL 95.609375 72.90625 \nL 77.296875 0 \nL 64.890625 0 \nL 49.515625 63.28125 \nL 33.984375 0 \nL 21.578125 0 \nz\n\" id=\"DejaVuSans-87\"/>\n      <path d=\"M 53.515625 70.515625 \nL 53.515625 60.890625 \nQ 47.90625 63.578125 42.921875 64.890625 \nQ 37.9375 66.21875 33.296875 66.21875 \nQ 25.25 66.21875 20.875 63.09375 \nQ 16.5 59.96875 16.5 54.203125 \nQ 16.5 49.359375 19.40625 46.890625 \nQ 22.3125 44.4375 30.421875 42.921875 \nL 36.375 41.703125 \nQ 47.40625 39.59375 52.65625 34.296875 \nQ 57.90625 29 57.90625 20.125 \nQ 57.90625 9.515625 50.796875 4.046875 \nQ 43.703125 -1.421875 29.984375 -1.421875 \nQ 24.8125 -1.421875 18.96875 -0.25 \nQ 13.140625 0.921875 6.890625 3.21875 \nL 6.890625 13.375 \nQ 12.890625 10.015625 18.65625 8.296875 \nQ 24.421875 6.59375 29.984375 6.59375 \nQ 38.421875 6.59375 43.015625 9.90625 \nQ 47.609375 13.234375 47.609375 19.390625 \nQ 47.609375 24.75 44.3125 27.78125 \nQ 41.015625 30.8125 33.5 32.328125 \nL 27.484375 33.5 \nQ 16.453125 35.6875 11.515625 40.375 \nQ 6.59375 45.0625 6.59375 53.421875 \nQ 6.59375 63.09375 13.40625 68.65625 \nQ 20.21875 74.21875 32.171875 74.21875 \nQ 37.3125 74.21875 42.625 73.28125 \nQ 47.953125 72.359375 53.515625 70.515625 \nz\n\" id=\"DejaVuSans-83\"/>\n      <path d=\"M 73.1875 49.21875 \nL 22.796875 31.296875 \nL 73.1875 13.484375 \nL 73.1875 4.59375 \nL 10.59375 27.296875 \nL 10.59375 35.40625 \nL 73.1875 58.109375 \nz\n\" id=\"DejaVuSans-60\"/>\n     </defs>\n     <use xlink:href=\"#DejaVuSans-78\"/>\n     <use x=\"74.804688\" xlink:href=\"#DejaVuSans-111\"/>\n     <use x=\"135.986328\" xlink:href=\"#DejaVuSans-109\"/>\n     <use x=\"233.398438\" xlink:href=\"#DejaVuSans-105\"/>\n     <use x=\"261.181641\" xlink:href=\"#DejaVuSans-110\"/>\n     <use x=\"324.560547\" xlink:href=\"#DejaVuSans-97\"/>\n     <use x=\"385.839844\" xlink:href=\"#DejaVuSans-108\"/>\n     <use x=\"413.623047\" xlink:href=\"#DejaVuSans-32\"/>\n     <use x=\"445.410156\" xlink:href=\"#DejaVuSans-69\"/>\n     <use x=\"508.59375\" xlink:href=\"#DejaVuSans-116\"/>\n     <use x=\"547.802734\" xlink:href=\"#DejaVuSans-104\"/>\n     <use x=\"611.181641\" xlink:href=\"#DejaVuSans-110\"/>\n     <use x=\"674.560547\" xlink:href=\"#DejaVuSans-105\"/>\n     <use x=\"702.34375\" xlink:href=\"#DejaVuSans-99\"/>\n     <use x=\"757.324219\" xlink:href=\"#DejaVuSans-105\"/>\n     <use x=\"785.107422\" xlink:href=\"#DejaVuSans-116\"/>\n     <use x=\"824.316406\" xlink:href=\"#DejaVuSans-121\"/>\n     <use x=\"883.496094\" xlink:href=\"#DejaVuSans-95\"/>\n     <use x=\"933.496094\" xlink:href=\"#DejaVuSans-87\"/>\n     <use x=\"1032.373047\" xlink:href=\"#DejaVuSans-104\"/>\n     <use x=\"1095.751953\" xlink:href=\"#DejaVuSans-105\"/>\n     <use x=\"1123.535156\" xlink:href=\"#DejaVuSans-116\"/>\n     <use x=\"1162.744141\" xlink:href=\"#DejaVuSans-101\"/>\n     <use x=\"1224.267578\" xlink:href=\"#DejaVuSans-32\"/>\n     <use x=\"1256.054688\" xlink:href=\"#DejaVuSans-83\"/>\n     <use x=\"1319.53125\" xlink:href=\"#DejaVuSans-99\"/>\n     <use x=\"1374.511719\" xlink:href=\"#DejaVuSans-111\"/>\n     <use x=\"1435.693359\" xlink:href=\"#DejaVuSans-116\"/>\n     <use x=\"1474.902344\" xlink:href=\"#DejaVuSans-116\"/>\n     <use x=\"1514.111328\" xlink:href=\"#DejaVuSans-105\"/>\n     <use x=\"1541.894531\" xlink:href=\"#DejaVuSans-115\"/>\n     <use x=\"1593.994141\" xlink:href=\"#DejaVuSans-104\"/>\n     <use x=\"1657.373047\" xlink:href=\"#DejaVuSans-32\"/>\n     <use x=\"1689.160156\" xlink:href=\"#DejaVuSans-60\"/>\n     <use x=\"1772.949219\" xlink:href=\"#DejaVuSans-61\"/>\n     <use x=\"1856.738281\" xlink:href=\"#DejaVuSans-32\"/>\n     <use x=\"1888.525391\" xlink:href=\"#DejaVuSans-48\"/>\n     <use x=\"1952.148438\" xlink:href=\"#DejaVuSans-46\"/>\n     <use x=\"1983.935547\" xlink:href=\"#DejaVuSans-53\"/>\n    </g>\n    <!-- gini = 0.499 -->\n    <g transform=\"translate(214.222924 141.681777)scale(0.052518 -0.052518)\">\n     <use xlink:href=\"#DejaVuSans-103\"/>\n     <use x=\"63.476562\" xlink:href=\"#DejaVuSans-105\"/>\n     <use x=\"91.259766\" xlink:href=\"#DejaVuSans-110\"/>\n     <use x=\"154.638672\" xlink:href=\"#DejaVuSans-105\"/>\n     <use x=\"182.421875\" xlink:href=\"#DejaVuSans-32\"/>\n     <use x=\"214.208984\" xlink:href=\"#DejaVuSans-61\"/>\n     <use x=\"297.998047\" xlink:href=\"#DejaVuSans-32\"/>\n     <use x=\"329.785156\" xlink:href=\"#DejaVuSans-48\"/>\n     <use x=\"393.408203\" xlink:href=\"#DejaVuSans-46\"/>\n     <use x=\"425.195312\" xlink:href=\"#DejaVuSans-52\"/>\n     <use x=\"488.818359\" xlink:href=\"#DejaVuSans-57\"/>\n     <use x=\"552.441406\" xlink:href=\"#DejaVuSans-57\"/>\n    </g>\n    <!-- samples = 38311 -->\n    <g transform=\"translate(207.261874 147.562605)scale(0.052518 -0.052518)\">\n     <use xlink:href=\"#DejaVuSans-115\"/>\n     <use x=\"52.099609\" xlink:href=\"#DejaVuSans-97\"/>\n     <use x=\"113.378906\" xlink:href=\"#DejaVuSans-109\"/>\n     <use x=\"210.791016\" xlink:href=\"#DejaVuSans-112\"/>\n     <use x=\"274.267578\" xlink:href=\"#DejaVuSans-108\"/>\n     <use x=\"302.050781\" xlink:href=\"#DejaVuSans-101\"/>\n     <use x=\"363.574219\" xlink:href=\"#DejaVuSans-115\"/>\n     <use x=\"415.673828\" xlink:href=\"#DejaVuSans-32\"/>\n     <use x=\"447.460938\" xlink:href=\"#DejaVuSans-61\"/>\n     <use x=\"531.25\" xlink:href=\"#DejaVuSans-32\"/>\n     <use x=\"563.037109\" xlink:href=\"#DejaVuSans-51\"/>\n     <use x=\"626.660156\" xlink:href=\"#DejaVuSans-56\"/>\n     <use x=\"690.283203\" xlink:href=\"#DejaVuSans-51\"/>\n     <use x=\"753.90625\" xlink:href=\"#DejaVuSans-49\"/>\n     <use x=\"817.529297\" xlink:href=\"#DejaVuSans-49\"/>\n    </g>\n    <!-- value = [18678.276, 20012.81] -->\n    <g transform=\"translate(188.909828 153.443433)scale(0.052518 -0.052518)\">\n     <use xlink:href=\"#DejaVuSans-118\"/>\n     <use x=\"59.179688\" xlink:href=\"#DejaVuSans-97\"/>\n     <use x=\"120.458984\" xlink:href=\"#DejaVuSans-108\"/>\n     <use x=\"148.242188\" xlink:href=\"#DejaVuSans-117\"/>\n     <use x=\"211.621094\" xlink:href=\"#DejaVuSans-101\"/>\n     <use x=\"273.144531\" xlink:href=\"#DejaVuSans-32\"/>\n     <use x=\"304.931641\" xlink:href=\"#DejaVuSans-61\"/>\n     <use x=\"388.720703\" xlink:href=\"#DejaVuSans-32\"/>\n     <use x=\"420.507812\" xlink:href=\"#DejaVuSans-91\"/>\n     <use x=\"459.521484\" xlink:href=\"#DejaVuSans-49\"/>\n     <use x=\"523.144531\" xlink:href=\"#DejaVuSans-56\"/>\n     <use x=\"586.767578\" xlink:href=\"#DejaVuSans-54\"/>\n     <use x=\"650.390625\" xlink:href=\"#DejaVuSans-55\"/>\n     <use x=\"714.013672\" xlink:href=\"#DejaVuSans-56\"/>\n     <use x=\"777.636719\" xlink:href=\"#DejaVuSans-46\"/>\n     <use x=\"809.423828\" xlink:href=\"#DejaVuSans-50\"/>\n     <use x=\"873.046875\" xlink:href=\"#DejaVuSans-55\"/>\n     <use x=\"936.669922\" xlink:href=\"#DejaVuSans-54\"/>\n     <use x=\"1000.292969\" xlink:href=\"#DejaVuSans-44\"/>\n     <use x=\"1032.080078\" xlink:href=\"#DejaVuSans-32\"/>\n     <use x=\"1063.867188\" xlink:href=\"#DejaVuSans-50\"/>\n     <use x=\"1127.490234\" xlink:href=\"#DejaVuSans-48\"/>\n     <use x=\"1191.113281\" xlink:href=\"#DejaVuSans-48\"/>\n     <use x=\"1254.736328\" xlink:href=\"#DejaVuSans-49\"/>\n     <use x=\"1318.359375\" xlink:href=\"#DejaVuSans-50\"/>\n     <use x=\"1381.982422\" xlink:href=\"#DejaVuSans-46\"/>\n     <use x=\"1413.769531\" xlink:href=\"#DejaVuSans-56\"/>\n     <use x=\"1477.392578\" xlink:href=\"#DejaVuSans-49\"/>\n     <use x=\"1541.015625\" xlink:href=\"#DejaVuSans-93\"/>\n    </g>\n   </g>\n   <g id=\"patch_10\">\n    <path d=\"M 76.548989 75.540662 \nQ 96.558035 56.047978 117.367917 35.775127 \n\" style=\"fill:none;stroke:#000000;stroke-linecap:round;\"/>\n    <path d=\"M 78.786642 74.827137 \nL 76.548989 75.540662 \nL 77.320761 73.322425 \n\" style=\"fill:none;stroke:#000000;stroke-linecap:round;\"/>\n   </g>\n   <g id=\"text_5\">\n    <g id=\"patch_11\">\n     <path d=\"M 21.07984 99.262895 \nL 104.92016 99.262895 \nL 104.92016 78.217105 \nL 21.07984 78.217105 \nz\n\" style=\"fill:#ffffff;stroke:#000000;stroke-linejoin:miter;\"/>\n    </g>\n    <!-- gini = 0.496 -->\n    <g transform=\"translate(46.822924 84.308331)scale(0.052518 -0.052518)\">\n     <use xlink:href=\"#DejaVuSans-103\"/>\n     <use x=\"63.476562\" xlink:href=\"#DejaVuSans-105\"/>\n     <use x=\"91.259766\" xlink:href=\"#DejaVuSans-110\"/>\n     <use x=\"154.638672\" xlink:href=\"#DejaVuSans-105\"/>\n     <use x=\"182.421875\" xlink:href=\"#DejaVuSans-32\"/>\n     <use x=\"214.208984\" xlink:href=\"#DejaVuSans-61\"/>\n     <use x=\"297.998047\" xlink:href=\"#DejaVuSans-32\"/>\n     <use x=\"329.785156\" xlink:href=\"#DejaVuSans-48\"/>\n     <use x=\"393.408203\" xlink:href=\"#DejaVuSans-46\"/>\n     <use x=\"425.195312\" xlink:href=\"#DejaVuSans-52\"/>\n     <use x=\"488.818359\" xlink:href=\"#DejaVuSans-57\"/>\n     <use x=\"552.441406\" xlink:href=\"#DejaVuSans-54\"/>\n    </g>\n    <!-- samples = 11677 -->\n    <g transform=\"translate(39.861874 90.189159)scale(0.052518 -0.052518)\">\n     <use xlink:href=\"#DejaVuSans-115\"/>\n     <use x=\"52.099609\" xlink:href=\"#DejaVuSans-97\"/>\n     <use x=\"113.378906\" xlink:href=\"#DejaVuSans-109\"/>\n     <use x=\"210.791016\" xlink:href=\"#DejaVuSans-112\"/>\n     <use x=\"274.267578\" xlink:href=\"#DejaVuSans-108\"/>\n     <use x=\"302.050781\" xlink:href=\"#DejaVuSans-101\"/>\n     <use x=\"363.574219\" xlink:href=\"#DejaVuSans-115\"/>\n     <use x=\"415.673828\" xlink:href=\"#DejaVuSans-32\"/>\n     <use x=\"447.460938\" xlink:href=\"#DejaVuSans-61\"/>\n     <use x=\"531.25\" xlink:href=\"#DejaVuSans-32\"/>\n     <use x=\"563.037109\" xlink:href=\"#DejaVuSans-49\"/>\n     <use x=\"626.660156\" xlink:href=\"#DejaVuSans-49\"/>\n     <use x=\"690.283203\" xlink:href=\"#DejaVuSans-54\"/>\n     <use x=\"753.90625\" xlink:href=\"#DejaVuSans-55\"/>\n     <use x=\"817.529297\" xlink:href=\"#DejaVuSans-55\"/>\n    </g>\n    <!-- value = [6211.823, 5167.844] -->\n    <g transform=\"translate(23.180546 96.069986)scale(0.052518 -0.052518)\">\n     <use xlink:href=\"#DejaVuSans-118\"/>\n     <use x=\"59.179688\" xlink:href=\"#DejaVuSans-97\"/>\n     <use x=\"120.458984\" xlink:href=\"#DejaVuSans-108\"/>\n     <use x=\"148.242188\" xlink:href=\"#DejaVuSans-117\"/>\n     <use x=\"211.621094\" xlink:href=\"#DejaVuSans-101\"/>\n     <use x=\"273.144531\" xlink:href=\"#DejaVuSans-32\"/>\n     <use x=\"304.931641\" xlink:href=\"#DejaVuSans-61\"/>\n     <use x=\"388.720703\" xlink:href=\"#DejaVuSans-32\"/>\n     <use x=\"420.507812\" xlink:href=\"#DejaVuSans-91\"/>\n     <use x=\"459.521484\" xlink:href=\"#DejaVuSans-54\"/>\n     <use x=\"523.144531\" xlink:href=\"#DejaVuSans-50\"/>\n     <use x=\"586.767578\" xlink:href=\"#DejaVuSans-49\"/>\n     <use x=\"650.390625\" xlink:href=\"#DejaVuSans-49\"/>\n     <use x=\"714.013672\" xlink:href=\"#DejaVuSans-46\"/>\n     <use x=\"745.800781\" xlink:href=\"#DejaVuSans-56\"/>\n     <use x=\"809.423828\" xlink:href=\"#DejaVuSans-50\"/>\n     <use x=\"873.046875\" xlink:href=\"#DejaVuSans-51\"/>\n     <use x=\"936.669922\" xlink:href=\"#DejaVuSans-44\"/>\n     <use x=\"968.457031\" xlink:href=\"#DejaVuSans-32\"/>\n     <use x=\"1000.244141\" xlink:href=\"#DejaVuSans-53\"/>\n     <use x=\"1063.867188\" xlink:href=\"#DejaVuSans-49\"/>\n     <use x=\"1127.490234\" xlink:href=\"#DejaVuSans-54\"/>\n     <use x=\"1191.113281\" xlink:href=\"#DejaVuSans-55\"/>\n     <use x=\"1254.736328\" xlink:href=\"#DejaVuSans-46\"/>\n     <use x=\"1286.523438\" xlink:href=\"#DejaVuSans-56\"/>\n     <use x=\"1350.146484\" xlink:href=\"#DejaVuSans-52\"/>\n     <use x=\"1413.769531\" xlink:href=\"#DejaVuSans-52\"/>\n     <use x=\"1477.392578\" xlink:href=\"#DejaVuSans-93\"/>\n    </g>\n   </g>\n   <g id=\"patch_12\">\n    <path d=\"M 157.807296 72.380657 \nQ 139.419611 54.467492 120.231091 35.774159 \n\" style=\"fill:none;stroke:#000000;stroke-linecap:round;\"/>\n    <path d=\"M 157.035525 70.16242 \nL 157.807296 72.380657 \nL 155.569644 71.667132 \n\" style=\"fill:none;stroke:#000000;stroke-linecap:round;\"/>\n   </g>\n   <g id=\"text_6\">\n    <g id=\"patch_13\">\n     <path d=\"M 129.338404 102.276341 \nL 219.861596 102.276341 \nL 219.861596 75.057594 \nL 129.338404 75.057594 \nz\n\" style=\"fill:#ffffff;stroke:#000000;stroke-linejoin:miter;\"/>\n    </g>\n    <!-- Nominal Gender_Male &lt;= 0.5 -->\n    <g transform=\"translate(135.448504 81.294885)scale(0.052518 -0.052518)\">\n     <defs>\n      <path d=\"M 59.515625 10.40625 \nL 59.515625 29.984375 \nL 43.40625 29.984375 \nL 43.40625 38.09375 \nL 69.28125 38.09375 \nL 69.28125 6.78125 \nQ 63.578125 2.734375 56.6875 0.65625 \nQ 49.8125 -1.421875 42 -1.421875 \nQ 24.90625 -1.421875 15.25 8.5625 \nQ 5.609375 18.5625 5.609375 36.375 \nQ 5.609375 54.25 15.25 64.234375 \nQ 24.90625 74.21875 42 74.21875 \nQ 49.125 74.21875 55.546875 72.453125 \nQ 61.96875 70.703125 67.390625 67.28125 \nL 67.390625 56.78125 \nQ 61.921875 61.421875 55.765625 63.765625 \nQ 49.609375 66.109375 42.828125 66.109375 \nQ 29.4375 66.109375 22.71875 58.640625 \nQ 16.015625 51.171875 16.015625 36.375 \nQ 16.015625 21.625 22.71875 14.15625 \nQ 29.4375 6.6875 42.828125 6.6875 \nQ 48.046875 6.6875 52.140625 7.59375 \nQ 56.25 8.5 59.515625 10.40625 \nz\n\" id=\"DejaVuSans-71\"/>\n      <path d=\"M 45.40625 46.390625 \nL 45.40625 75.984375 \nL 54.390625 75.984375 \nL 54.390625 0 \nL 45.40625 0 \nL 45.40625 8.203125 \nQ 42.578125 3.328125 38.25 0.953125 \nQ 33.9375 -1.421875 27.875 -1.421875 \nQ 17.96875 -1.421875 11.734375 6.484375 \nQ 5.515625 14.40625 5.515625 27.296875 \nQ 5.515625 40.1875 11.734375 48.09375 \nQ 17.96875 56 27.875 56 \nQ 33.9375 56 38.25 53.625 \nQ 42.578125 51.265625 45.40625 46.390625 \nz\nM 14.796875 27.296875 \nQ 14.796875 17.390625 18.875 11.75 \nQ 22.953125 6.109375 30.078125 6.109375 \nQ 37.203125 6.109375 41.296875 11.75 \nQ 45.40625 17.390625 45.40625 27.296875 \nQ 45.40625 37.203125 41.296875 42.84375 \nQ 37.203125 48.484375 30.078125 48.484375 \nQ 22.953125 48.484375 18.875 42.84375 \nQ 14.796875 37.203125 14.796875 27.296875 \nz\n\" id=\"DejaVuSans-100\"/>\n      <path d=\"M 41.109375 46.296875 \nQ 39.59375 47.171875 37.8125 47.578125 \nQ 36.03125 48 33.890625 48 \nQ 26.265625 48 22.1875 43.046875 \nQ 18.109375 38.09375 18.109375 28.8125 \nL 18.109375 0 \nL 9.078125 0 \nL 9.078125 54.6875 \nL 18.109375 54.6875 \nL 18.109375 46.1875 \nQ 20.953125 51.171875 25.484375 53.578125 \nQ 30.03125 56 36.53125 56 \nQ 37.453125 56 38.578125 55.875 \nQ 39.703125 55.765625 41.0625 55.515625 \nz\n\" id=\"DejaVuSans-114\"/>\n      <path d=\"M 9.8125 72.90625 \nL 24.515625 72.90625 \nL 43.109375 23.296875 \nL 61.8125 72.90625 \nL 76.515625 72.90625 \nL 76.515625 0 \nL 66.890625 0 \nL 66.890625 64.015625 \nL 48.09375 14.015625 \nL 38.1875 14.015625 \nL 19.390625 64.015625 \nL 19.390625 0 \nL 9.8125 0 \nz\n\" id=\"DejaVuSans-77\"/>\n     </defs>\n     <use xlink:href=\"#DejaVuSans-78\"/>\n     <use x=\"74.804688\" xlink:href=\"#DejaVuSans-111\"/>\n     <use x=\"135.986328\" xlink:href=\"#DejaVuSans-109\"/>\n     <use x=\"233.398438\" xlink:href=\"#DejaVuSans-105\"/>\n     <use x=\"261.181641\" xlink:href=\"#DejaVuSans-110\"/>\n     <use x=\"324.560547\" xlink:href=\"#DejaVuSans-97\"/>\n     <use x=\"385.839844\" xlink:href=\"#DejaVuSans-108\"/>\n     <use x=\"413.623047\" xlink:href=\"#DejaVuSans-32\"/>\n     <use x=\"445.410156\" xlink:href=\"#DejaVuSans-71\"/>\n     <use x=\"522.900391\" xlink:href=\"#DejaVuSans-101\"/>\n     <use x=\"584.423828\" xlink:href=\"#DejaVuSans-110\"/>\n     <use x=\"647.802734\" xlink:href=\"#DejaVuSans-100\"/>\n     <use x=\"711.279297\" xlink:href=\"#DejaVuSans-101\"/>\n     <use x=\"772.802734\" xlink:href=\"#DejaVuSans-114\"/>\n     <use x=\"813.916016\" xlink:href=\"#DejaVuSans-95\"/>\n     <use x=\"863.916016\" xlink:href=\"#DejaVuSans-77\"/>\n     <use x=\"950.195312\" xlink:href=\"#DejaVuSans-97\"/>\n     <use x=\"1011.474609\" xlink:href=\"#DejaVuSans-108\"/>\n     <use x=\"1039.257812\" xlink:href=\"#DejaVuSans-101\"/>\n     <use x=\"1100.78125\" xlink:href=\"#DejaVuSans-32\"/>\n     <use x=\"1132.568359\" xlink:href=\"#DejaVuSans-60\"/>\n     <use x=\"1216.357422\" xlink:href=\"#DejaVuSans-61\"/>\n     <use x=\"1300.146484\" xlink:href=\"#DejaVuSans-32\"/>\n     <use x=\"1331.933594\" xlink:href=\"#DejaVuSans-48\"/>\n     <use x=\"1395.556641\" xlink:href=\"#DejaVuSans-46\"/>\n     <use x=\"1427.34375\" xlink:href=\"#DejaVuSans-53\"/>\n    </g>\n    <!-- gini = 0.5 -->\n    <g transform=\"translate(161.764359 87.321777)scale(0.052518 -0.052518)\">\n     <use xlink:href=\"#DejaVuSans-103\"/>\n     <use x=\"63.476562\" xlink:href=\"#DejaVuSans-105\"/>\n     <use x=\"91.259766\" xlink:href=\"#DejaVuSans-110\"/>\n     <use x=\"154.638672\" xlink:href=\"#DejaVuSans-105\"/>\n     <use x=\"182.421875\" xlink:href=\"#DejaVuSans-32\"/>\n     <use x=\"214.208984\" xlink:href=\"#DejaVuSans-61\"/>\n     <use x=\"297.998047\" xlink:href=\"#DejaVuSans-32\"/>\n     <use x=\"329.785156\" xlink:href=\"#DejaVuSans-48\"/>\n     <use x=\"393.408203\" xlink:href=\"#DejaVuSans-46\"/>\n     <use x=\"425.195312\" xlink:href=\"#DejaVuSans-53\"/>\n    </g>\n    <!-- samples = 44129 -->\n    <g transform=\"translate(151.461874 93.202605)scale(0.052518 -0.052518)\">\n     <use xlink:href=\"#DejaVuSans-115\"/>\n     <use x=\"52.099609\" xlink:href=\"#DejaVuSans-97\"/>\n     <use x=\"113.378906\" xlink:href=\"#DejaVuSans-109\"/>\n     <use x=\"210.791016\" xlink:href=\"#DejaVuSans-112\"/>\n     <use x=\"274.267578\" xlink:href=\"#DejaVuSans-108\"/>\n     <use x=\"302.050781\" xlink:href=\"#DejaVuSans-101\"/>\n     <use x=\"363.574219\" xlink:href=\"#DejaVuSans-115\"/>\n     <use x=\"415.673828\" xlink:href=\"#DejaVuSans-32\"/>\n     <use x=\"447.460938\" xlink:href=\"#DejaVuSans-61\"/>\n     <use x=\"531.25\" xlink:href=\"#DejaVuSans-32\"/>\n     <use x=\"563.037109\" xlink:href=\"#DejaVuSans-52\"/>\n     <use x=\"626.660156\" xlink:href=\"#DejaVuSans-52\"/>\n     <use x=\"690.283203\" xlink:href=\"#DejaVuSans-49\"/>\n     <use x=\"753.90625\" xlink:href=\"#DejaVuSans-50\"/>\n     <use x=\"817.529297\" xlink:href=\"#DejaVuSans-57\"/>\n    </g>\n    <!-- value = [21691.177, 22735.156] -->\n    <g transform=\"translate(131.43911 99.083433)scale(0.052518 -0.052518)\">\n     <use xlink:href=\"#DejaVuSans-118\"/>\n     <use x=\"59.179688\" xlink:href=\"#DejaVuSans-97\"/>\n     <use x=\"120.458984\" xlink:href=\"#DejaVuSans-108\"/>\n     <use x=\"148.242188\" xlink:href=\"#DejaVuSans-117\"/>\n     <use x=\"211.621094\" xlink:href=\"#DejaVuSans-101\"/>\n     <use x=\"273.144531\" xlink:href=\"#DejaVuSans-32\"/>\n     <use x=\"304.931641\" xlink:href=\"#DejaVuSans-61\"/>\n     <use x=\"388.720703\" xlink:href=\"#DejaVuSans-32\"/>\n     <use x=\"420.507812\" xlink:href=\"#DejaVuSans-91\"/>\n     <use x=\"459.521484\" xlink:href=\"#DejaVuSans-50\"/>\n     <use x=\"523.144531\" xlink:href=\"#DejaVuSans-49\"/>\n     <use x=\"586.767578\" xlink:href=\"#DejaVuSans-54\"/>\n     <use x=\"650.390625\" xlink:href=\"#DejaVuSans-57\"/>\n     <use x=\"714.013672\" xlink:href=\"#DejaVuSans-49\"/>\n     <use x=\"777.636719\" xlink:href=\"#DejaVuSans-46\"/>\n     <use x=\"809.423828\" xlink:href=\"#DejaVuSans-49\"/>\n     <use x=\"873.046875\" xlink:href=\"#DejaVuSans-55\"/>\n     <use x=\"936.669922\" xlink:href=\"#DejaVuSans-55\"/>\n     <use x=\"1000.292969\" xlink:href=\"#DejaVuSans-44\"/>\n     <use x=\"1032.080078\" xlink:href=\"#DejaVuSans-32\"/>\n     <use x=\"1063.867188\" xlink:href=\"#DejaVuSans-50\"/>\n     <use x=\"1127.490234\" xlink:href=\"#DejaVuSans-50\"/>\n     <use x=\"1191.113281\" xlink:href=\"#DejaVuSans-55\"/>\n     <use x=\"1254.736328\" xlink:href=\"#DejaVuSans-51\"/>\n     <use x=\"1318.359375\" xlink:href=\"#DejaVuSans-53\"/>\n     <use x=\"1381.982422\" xlink:href=\"#DejaVuSans-46\"/>\n     <use x=\"1413.769531\" xlink:href=\"#DejaVuSans-49\"/>\n     <use x=\"1477.392578\" xlink:href=\"#DejaVuSans-53\"/>\n     <use x=\"1541.015625\" xlink:href=\"#DejaVuSans-54\"/>\n     <use x=\"1604.638672\" xlink:href=\"#DejaVuSans-93\"/>\n    </g>\n   </g>\n   <g id=\"patch_14\">\n    <path d=\"M 118.8 34.38 \nQ 118.8 34.38 118.8 34.38 \n\" style=\"fill:none;stroke:#000000;stroke-linecap:round;\"/>\n   </g>\n   <g id=\"text_7\">\n    <g id=\"patch_15\">\n     <path d=\"M 77.915012 47.916341 \nL 159.684988 47.916341 \nL 159.684988 20.697594 \nL 77.915012 20.697594 \nz\n\" style=\"fill:#ffffff;stroke:#000000;stroke-linejoin:miter;\"/>\n    </g>\n    <!-- Search Reason_Drugs &lt;= 0.5 -->\n    <g transform=\"translate(80.015718 26.934885)scale(0.052518 -0.052518)\">\n     <defs>\n      <path d=\"M 44.390625 34.1875 \nQ 47.5625 33.109375 50.5625 29.59375 \nQ 53.5625 26.078125 56.59375 19.921875 \nL 66.609375 0 \nL 56 0 \nL 46.6875 18.703125 \nQ 43.0625 26.03125 39.671875 28.421875 \nQ 36.28125 30.8125 30.421875 30.8125 \nL 19.671875 30.8125 \nL 19.671875 0 \nL 9.8125 0 \nL 9.8125 72.90625 \nL 32.078125 72.90625 \nQ 44.578125 72.90625 50.734375 67.671875 \nQ 56.890625 62.453125 56.890625 51.90625 \nQ 56.890625 45.015625 53.6875 40.46875 \nQ 50.484375 35.9375 44.390625 34.1875 \nz\nM 19.671875 64.796875 \nL 19.671875 38.921875 \nL 32.078125 38.921875 \nQ 39.203125 38.921875 42.84375 42.21875 \nQ 46.484375 45.515625 46.484375 51.90625 \nQ 46.484375 58.296875 42.84375 61.546875 \nQ 39.203125 64.796875 32.078125 64.796875 \nz\n\" id=\"DejaVuSans-82\"/>\n      <path d=\"M 19.671875 64.796875 \nL 19.671875 8.109375 \nL 31.59375 8.109375 \nQ 46.6875 8.109375 53.6875 14.9375 \nQ 60.6875 21.78125 60.6875 36.53125 \nQ 60.6875 51.171875 53.6875 57.984375 \nQ 46.6875 64.796875 31.59375 64.796875 \nz\nM 9.8125 72.90625 \nL 30.078125 72.90625 \nQ 51.265625 72.90625 61.171875 64.09375 \nQ 71.09375 55.28125 71.09375 36.53125 \nQ 71.09375 17.671875 61.125 8.828125 \nQ 51.171875 0 30.078125 0 \nL 9.8125 0 \nz\n\" id=\"DejaVuSans-68\"/>\n     </defs>\n     <use xlink:href=\"#DejaVuSans-83\"/>\n     <use x=\"63.476562\" xlink:href=\"#DejaVuSans-101\"/>\n     <use x=\"125\" xlink:href=\"#DejaVuSans-97\"/>\n     <use x=\"186.279297\" xlink:href=\"#DejaVuSans-114\"/>\n     <use x=\"225.142578\" xlink:href=\"#DejaVuSans-99\"/>\n     <use x=\"280.123047\" xlink:href=\"#DejaVuSans-104\"/>\n     <use x=\"343.501953\" xlink:href=\"#DejaVuSans-32\"/>\n     <use x=\"375.289062\" xlink:href=\"#DejaVuSans-82\"/>\n     <use x=\"440.271484\" xlink:href=\"#DejaVuSans-101\"/>\n     <use x=\"501.794922\" xlink:href=\"#DejaVuSans-97\"/>\n     <use x=\"563.074219\" xlink:href=\"#DejaVuSans-115\"/>\n     <use x=\"615.173828\" xlink:href=\"#DejaVuSans-111\"/>\n     <use x=\"676.355469\" xlink:href=\"#DejaVuSans-110\"/>\n     <use x=\"739.734375\" xlink:href=\"#DejaVuSans-95\"/>\n     <use x=\"789.734375\" xlink:href=\"#DejaVuSans-68\"/>\n     <use x=\"866.736328\" xlink:href=\"#DejaVuSans-114\"/>\n     <use x=\"907.849609\" xlink:href=\"#DejaVuSans-117\"/>\n     <use x=\"971.228516\" xlink:href=\"#DejaVuSans-103\"/>\n     <use x=\"1034.705078\" xlink:href=\"#DejaVuSans-115\"/>\n     <use x=\"1086.804688\" xlink:href=\"#DejaVuSans-32\"/>\n     <use x=\"1118.591797\" xlink:href=\"#DejaVuSans-60\"/>\n     <use x=\"1202.380859\" xlink:href=\"#DejaVuSans-61\"/>\n     <use x=\"1286.169922\" xlink:href=\"#DejaVuSans-32\"/>\n     <use x=\"1317.957031\" xlink:href=\"#DejaVuSans-48\"/>\n     <use x=\"1381.580078\" xlink:href=\"#DejaVuSans-46\"/>\n     <use x=\"1413.367188\" xlink:href=\"#DejaVuSans-53\"/>\n    </g>\n    <!-- gini = 0.5 -->\n    <g transform=\"translate(105.964359 32.961777)scale(0.052518 -0.052518)\">\n     <use xlink:href=\"#DejaVuSans-103\"/>\n     <use x=\"63.476562\" xlink:href=\"#DejaVuSans-105\"/>\n     <use x=\"91.259766\" xlink:href=\"#DejaVuSans-110\"/>\n     <use x=\"154.638672\" xlink:href=\"#DejaVuSans-105\"/>\n     <use x=\"182.421875\" xlink:href=\"#DejaVuSans-32\"/>\n     <use x=\"214.208984\" xlink:href=\"#DejaVuSans-61\"/>\n     <use x=\"297.998047\" xlink:href=\"#DejaVuSans-32\"/>\n     <use x=\"329.785156\" xlink:href=\"#DejaVuSans-48\"/>\n     <use x=\"393.408203\" xlink:href=\"#DejaVuSans-46\"/>\n     <use x=\"425.195312\" xlink:href=\"#DejaVuSans-53\"/>\n    </g>\n    <!-- samples = 55806 -->\n    <g transform=\"translate(95.661874 38.842605)scale(0.052518 -0.052518)\">\n     <use xlink:href=\"#DejaVuSans-115\"/>\n     <use x=\"52.099609\" xlink:href=\"#DejaVuSans-97\"/>\n     <use x=\"113.378906\" xlink:href=\"#DejaVuSans-109\"/>\n     <use x=\"210.791016\" xlink:href=\"#DejaVuSans-112\"/>\n     <use x=\"274.267578\" xlink:href=\"#DejaVuSans-108\"/>\n     <use x=\"302.050781\" xlink:href=\"#DejaVuSans-101\"/>\n     <use x=\"363.574219\" xlink:href=\"#DejaVuSans-115\"/>\n     <use x=\"415.673828\" xlink:href=\"#DejaVuSans-32\"/>\n     <use x=\"447.460938\" xlink:href=\"#DejaVuSans-61\"/>\n     <use x=\"531.25\" xlink:href=\"#DejaVuSans-32\"/>\n     <use x=\"563.037109\" xlink:href=\"#DejaVuSans-53\"/>\n     <use x=\"626.660156\" xlink:href=\"#DejaVuSans-53\"/>\n     <use x=\"690.283203\" xlink:href=\"#DejaVuSans-56\"/>\n     <use x=\"753.90625\" xlink:href=\"#DejaVuSans-48\"/>\n     <use x=\"817.529297\" xlink:href=\"#DejaVuSans-54\"/>\n    </g>\n    <!-- value = [27903.0, 27903.0] -->\n    <g transform=\"translate(82.321981 44.723433)scale(0.052518 -0.052518)\">\n     <use xlink:href=\"#DejaVuSans-118\"/>\n     <use x=\"59.179688\" xlink:href=\"#DejaVuSans-97\"/>\n     <use x=\"120.458984\" xlink:href=\"#DejaVuSans-108\"/>\n     <use x=\"148.242188\" xlink:href=\"#DejaVuSans-117\"/>\n     <use x=\"211.621094\" xlink:href=\"#DejaVuSans-101\"/>\n     <use x=\"273.144531\" xlink:href=\"#DejaVuSans-32\"/>\n     <use x=\"304.931641\" xlink:href=\"#DejaVuSans-61\"/>\n     <use x=\"388.720703\" xlink:href=\"#DejaVuSans-32\"/>\n     <use x=\"420.507812\" xlink:href=\"#DejaVuSans-91\"/>\n     <use x=\"459.521484\" xlink:href=\"#DejaVuSans-50\"/>\n     <use x=\"523.144531\" xlink:href=\"#DejaVuSans-55\"/>\n     <use x=\"586.767578\" xlink:href=\"#DejaVuSans-57\"/>\n     <use x=\"650.390625\" xlink:href=\"#DejaVuSans-48\"/>\n     <use x=\"714.013672\" xlink:href=\"#DejaVuSans-51\"/>\n     <use x=\"777.636719\" xlink:href=\"#DejaVuSans-46\"/>\n     <use x=\"809.423828\" xlink:href=\"#DejaVuSans-48\"/>\n     <use x=\"873.046875\" xlink:href=\"#DejaVuSans-44\"/>\n     <use x=\"904.833984\" xlink:href=\"#DejaVuSans-32\"/>\n     <use x=\"936.621094\" xlink:href=\"#DejaVuSans-50\"/>\n     <use x=\"1000.244141\" xlink:href=\"#DejaVuSans-55\"/>\n     <use x=\"1063.867188\" xlink:href=\"#DejaVuSans-57\"/>\n     <use x=\"1127.490234\" xlink:href=\"#DejaVuSans-48\"/>\n     <use x=\"1191.113281\" xlink:href=\"#DejaVuSans-51\"/>\n     <use x=\"1254.736328\" xlink:href=\"#DejaVuSans-46\"/>\n     <use x=\"1286.523438\" xlink:href=\"#DejaVuSans-48\"/>\n     <use x=\"1350.146484\" xlink:href=\"#DejaVuSans-93\"/>\n    </g>\n   </g>\n  </g>\n </g>\n</svg>\n",
      "image/png": "[encoded data removed]"
     },
     "metadata": {
      "needs_background": "light"
     }
    }
   ],
   "source": [
    "Visualising the ROC curve, it is as we expect given this sort of outcome, with performance barely above 50% at all thresholds. Optimizing the threshold will not siginificantly improve model performance."
   ]
  },
  {
   "cell_type": "code",
   "execution_count": 49,
   "metadata": {},
   "outputs": [
    {
     "output_type": "display_data",
     "data": {
      "application/vnd.plotly.v1+json": {
       "config": {
        "plotlyServerURL": "https://plot.ly"
       },
       "data": [
        {
         "mode": "lines",
         "name": "ROC",
         "type": "scatter",
         "x": [
          0,
          0.10694560669456067,
          0.6694002789400278,
          0.7773779637377963,
          1
         ],
         "y": [
          0,
          0.12492483463619963,
          0.7172279013830427,
          0.814792543595911,
          1
         ]
        },
        {
         "line": {
          "color": "rgba(50,50,50,0.2)"
         },
         "mode": "lines",
         "name": "Baseline",
         "type": "scatter",
         "x": [
          0,
          1
         ],
         "y": [
          0,
          1
         ]
        }
       ],
       "layout": {
        "autosize": false,
        "height": 800,
        "legend": {
         "title": {
          "text": "Data"
         },
         "x": 0.78,
         "y": 0.1
        },
        "template": {
         "data": {
          "bar": [
           {
            "error_x": {
             "color": "#2a3f5f"
            },
            "error_y": {
             "color": "#2a3f5f"
            },
            "marker": {
             "line": {
              "color": "#E5ECF6",
              "width": 0.5
             }
            },
            "type": "bar"
           }
          ],
          "barpolar": [
           {
            "marker": {
             "line": {
              "color": "#E5ECF6",
              "width": 0.5
             }
            },
            "type": "barpolar"
           }
          ],
          "carpet": [
           {
            "aaxis": {
             "endlinecolor": "#2a3f5f",
             "gridcolor": "white",
             "linecolor": "white",
             "minorgridcolor": "white",
             "startlinecolor": "#2a3f5f"
            },
            "baxis": {
             "endlinecolor": "#2a3f5f",
             "gridcolor": "white",
             "linecolor": "white",
             "minorgridcolor": "white",
             "startlinecolor": "#2a3f5f"
            },
            "type": "carpet"
           }
          ],
          "choropleth": [
           {
            "colorbar": {
             "outlinewidth": 0,
             "ticks": ""
            },
            "type": "choropleth"
           }
          ],
          "contour": [
           {
            "colorbar": {
             "outlinewidth": 0,
             "ticks": ""
            },
            "colorscale": [
             [
              0,
              "#0d0887"
             ],
             [
              0.1111111111111111,
              "#46039f"
             ],
             [
              0.2222222222222222,
              "#7201a8"
             ],
             [
              0.3333333333333333,
              "#9c179e"
             ],
             [
              0.4444444444444444,
              "#bd3786"
             ],
             [
              0.5555555555555556,
              "#d8576b"
             ],
             [
              0.6666666666666666,
              "#ed7953"
             ],
             [
              0.7777777777777778,
              "#fb9f3a"
             ],
             [
              0.8888888888888888,
              "#fdca26"
             ],
             [
              1,
              "#f0f921"
             ]
            ],
            "type": "contour"
           }
          ],
          "contourcarpet": [
           {
            "colorbar": {
             "outlinewidth": 0,
             "ticks": ""
            },
            "type": "contourcarpet"
           }
          ],
          "heatmap": [
           {
            "colorbar": {
             "outlinewidth": 0,
             "ticks": ""
            },
            "colorscale": [
             [
              0,
              "#0d0887"
             ],
             [
              0.1111111111111111,
              "#46039f"
             ],
             [
              0.2222222222222222,
              "#7201a8"
             ],
             [
              0.3333333333333333,
              "#9c179e"
             ],
             [
              0.4444444444444444,
              "#bd3786"
             ],
             [
              0.5555555555555556,
              "#d8576b"
             ],
             [
              0.6666666666666666,
              "#ed7953"
             ],
             [
              0.7777777777777778,
              "#fb9f3a"
             ],
             [
              0.8888888888888888,
              "#fdca26"
             ],
             [
              1,
              "#f0f921"
             ]
            ],
            "type": "heatmap"
           }
          ],
          "heatmapgl": [
           {
            "colorbar": {
             "outlinewidth": 0,
             "ticks": ""
            },
            "colorscale": [
             [
              0,
              "#0d0887"
             ],
             [
              0.1111111111111111,
              "#46039f"
             ],
             [
              0.2222222222222222,
              "#7201a8"
             ],
             [
              0.3333333333333333,
              "#9c179e"
             ],
             [
              0.4444444444444444,
              "#bd3786"
             ],
             [
              0.5555555555555556,
              "#d8576b"
             ],
             [
              0.6666666666666666,
              "#ed7953"
             ],
             [
              0.7777777777777778,
              "#fb9f3a"
             ],
             [
              0.8888888888888888,
              "#fdca26"
             ],
             [
              1,
              "#f0f921"
             ]
            ],
            "type": "heatmapgl"
           }
          ],
          "histogram": [
           {
            "marker": {
             "colorbar": {
              "outlinewidth": 0,
              "ticks": ""
             }
            },
            "type": "histogram"
           }
          ],
          "histogram2d": [
           {
            "colorbar": {
             "outlinewidth": 0,
             "ticks": ""
            },
            "colorscale": [
             [
              0,
              "#0d0887"
             ],
             [
              0.1111111111111111,
              "#46039f"
             ],
             [
              0.2222222222222222,
              "#7201a8"
             ],
             [
              0.3333333333333333,
              "#9c179e"
             ],
             [
              0.4444444444444444,
              "#bd3786"
             ],
             [
              0.5555555555555556,
              "#d8576b"
             ],
             [
              0.6666666666666666,
              "#ed7953"
             ],
             [
              0.7777777777777778,
              "#fb9f3a"
             ],
             [
              0.8888888888888888,
              "#fdca26"
             ],
             [
              1,
              "#f0f921"
             ]
            ],
            "type": "histogram2d"
           }
          ],
          "histogram2dcontour": [
           {
            "colorbar": {
             "outlinewidth": 0,
             "ticks": ""
            },
            "colorscale": [
             [
              0,
              "#0d0887"
             ],
             [
              0.1111111111111111,
              "#46039f"
             ],
             [
              0.2222222222222222,
              "#7201a8"
             ],
             [
              0.3333333333333333,
              "#9c179e"
             ],
             [
              0.4444444444444444,
              "#bd3786"
             ],
             [
              0.5555555555555556,
              "#d8576b"
             ],
             [
              0.6666666666666666,
              "#ed7953"
             ],
             [
              0.7777777777777778,
              "#fb9f3a"
             ],
             [
              0.8888888888888888,
              "#fdca26"
             ],
             [
              1,
              "#f0f921"
             ]
            ],
            "type": "histogram2dcontour"
           }
          ],
          "mesh3d": [
           {
            "colorbar": {
             "outlinewidth": 0,
             "ticks": ""
            },
            "type": "mesh3d"
           }
          ],
          "parcoords": [
           {
            "line": {
             "colorbar": {
              "outlinewidth": 0,
              "ticks": ""
             }
            },
            "type": "parcoords"
           }
          ],
          "pie": [
           {
            "automargin": true,
            "type": "pie"
           }
          ],
          "scatter": [
           {
            "marker": {
             "colorbar": {
              "outlinewidth": 0,
              "ticks": ""
             }
            },
            "type": "scatter"
           }
          ],
          "scatter3d": [
           {
            "line": {
             "colorbar": {
              "outlinewidth": 0,
              "ticks": ""
             }
            },
            "marker": {
             "colorbar": {
              "outlinewidth": 0,
              "ticks": ""
             }
            },
            "type": "scatter3d"
           }
          ],
          "scattercarpet": [
           {
            "marker": {
             "colorbar": {
              "outlinewidth": 0,
              "ticks": ""
             }
            },
            "type": "scattercarpet"
           }
          ],
          "scattergeo": [
           {
            "marker": {
             "colorbar": {
              "outlinewidth": 0,
              "ticks": ""
             }
            },
            "type": "scattergeo"
           }
          ],
          "scattergl": [
           {
            "marker": {
             "colorbar": {
              "outlinewidth": 0,
              "ticks": ""
             }
            },
            "type": "scattergl"
           }
          ],
          "scattermapbox": [
           {
            "marker": {
             "colorbar": {
              "outlinewidth": 0,
              "ticks": ""
             }
            },
            "type": "scattermapbox"
           }
          ],
          "scatterpolar": [
           {
            "marker": {
             "colorbar": {
              "outlinewidth": 0,
              "ticks": ""
             }
            },
            "type": "scatterpolar"
           }
          ],
          "scatterpolargl": [
           {
            "marker": {
             "colorbar": {
              "outlinewidth": 0,
              "ticks": ""
             }
            },
            "type": "scatterpolargl"
           }
          ],
          "scatterternary": [
           {
            "marker": {
             "colorbar": {
              "outlinewidth": 0,
              "ticks": ""
             }
            },
            "type": "scatterternary"
           }
          ],
          "surface": [
           {
            "colorbar": {
             "outlinewidth": 0,
             "ticks": ""
            },
            "colorscale": [
             [
              0,
              "#0d0887"
             ],
             [
              0.1111111111111111,
              "#46039f"
             ],
             [
              0.2222222222222222,
              "#7201a8"
             ],
             [
              0.3333333333333333,
              "#9c179e"
             ],
             [
              0.4444444444444444,
              "#bd3786"
             ],
             [
              0.5555555555555556,
              "#d8576b"
             ],
             [
              0.6666666666666666,
              "#ed7953"
             ],
             [
              0.7777777777777778,
              "#fb9f3a"
             ],
             [
              0.8888888888888888,
              "#fdca26"
             ],
             [
              1,
              "#f0f921"
             ]
            ],
            "type": "surface"
           }
          ],
          "table": [
           {
            "cells": {
             "fill": {
              "color": "#EBF0F8"
             },
             "line": {
              "color": "white"
             }
            },
            "header": {
             "fill": {
              "color": "#C8D4E3"
             },
             "line": {
              "color": "white"
             }
            },
            "type": "table"
           }
          ]
         },
         "layout": {
          "annotationdefaults": {
           "arrowcolor": "#2a3f5f",
           "arrowhead": 0,
           "arrowwidth": 1
          },
          "autotypenumbers": "strict",
          "coloraxis": {
           "colorbar": {
            "outlinewidth": 0,
            "ticks": ""
           }
          },
          "colorscale": {
           "diverging": [
            [
             0,
             "#8e0152"
            ],
            [
             0.1,
             "#c51b7d"
            ],
            [
             0.2,
             "#de77ae"
            ],
            [
             0.3,
             "#f1b6da"
            ],
            [
             0.4,
             "#fde0ef"
            ],
            [
             0.5,
             "#f7f7f7"
            ],
            [
             0.6,
             "#e6f5d0"
            ],
            [
             0.7,
             "#b8e186"
            ],
            [
             0.8,
             "#7fbc41"
            ],
            [
             0.9,
             "#4d9221"
            ],
            [
             1,
             "#276419"
            ]
           ],
           "sequential": [
            [
             0,
             "#0d0887"
            ],
            [
             0.1111111111111111,
             "#46039f"
            ],
            [
             0.2222222222222222,
             "#7201a8"
            ],
            [
             0.3333333333333333,
             "#9c179e"
            ],
            [
             0.4444444444444444,
             "#bd3786"
            ],
            [
             0.5555555555555556,
             "#d8576b"
            ],
            [
             0.6666666666666666,
             "#ed7953"
            ],
            [
             0.7777777777777778,
             "#fb9f3a"
            ],
            [
             0.8888888888888888,
             "#fdca26"
            ],
            [
             1,
             "#f0f921"
            ]
           ],
           "sequentialminus": [
            [
             0,
             "#0d0887"
            ],
            [
             0.1111111111111111,
             "#46039f"
            ],
            [
             0.2222222222222222,
             "#7201a8"
            ],
            [
             0.3333333333333333,
             "#9c179e"
            ],
            [
             0.4444444444444444,
             "#bd3786"
            ],
            [
             0.5555555555555556,
             "#d8576b"
            ],
            [
             0.6666666666666666,
             "#ed7953"
            ],
            [
             0.7777777777777778,
             "#fb9f3a"
            ],
            [
             0.8888888888888888,
             "#fdca26"
            ],
            [
             1,
             "#f0f921"
            ]
           ]
          },
          "colorway": [
           "#636efa",
           "#EF553B",
           "#00cc96",
           "#ab63fa",
           "#FFA15A",
           "#19d3f3",
           "#FF6692",
           "#B6E880",
           "#FF97FF",
           "#FECB52"
          ],
          "font": {
           "color": "#2a3f5f"
          },
          "geo": {
           "bgcolor": "white",
           "lakecolor": "white",
           "landcolor": "#E5ECF6",
           "showlakes": true,
           "showland": true,
           "subunitcolor": "white"
          },
          "hoverlabel": {
           "align": "left"
          },
          "hovermode": "closest",
          "mapbox": {
           "style": "light"
          },
          "paper_bgcolor": "white",
          "plot_bgcolor": "#E5ECF6",
          "polar": {
           "angularaxis": {
            "gridcolor": "white",
            "linecolor": "white",
            "ticks": ""
           },
           "bgcolor": "#E5ECF6",
           "radialaxis": {
            "gridcolor": "white",
            "linecolor": "white",
            "ticks": ""
           }
          },
          "scene": {
           "xaxis": {
            "backgroundcolor": "#E5ECF6",
            "gridcolor": "white",
            "gridwidth": 2,
            "linecolor": "white",
            "showbackground": true,
            "ticks": "",
            "zerolinecolor": "white"
           },
           "yaxis": {
            "backgroundcolor": "#E5ECF6",
            "gridcolor": "white",
            "gridwidth": 2,
            "linecolor": "white",
            "showbackground": true,
            "ticks": "",
            "zerolinecolor": "white"
           },
           "zaxis": {
            "backgroundcolor": "#E5ECF6",
            "gridcolor": "white",
            "gridwidth": 2,
            "linecolor": "white",
            "showbackground": true,
            "ticks": "",
            "zerolinecolor": "white"
           }
          },
          "shapedefaults": {
           "line": {
            "color": "#2a3f5f"
           }
          },
          "ternary": {
           "aaxis": {
            "gridcolor": "white",
            "linecolor": "white",
            "ticks": ""
           },
           "baxis": {
            "gridcolor": "white",
            "linecolor": "white",
            "ticks": ""
           },
           "bgcolor": "#E5ECF6",
           "caxis": {
            "gridcolor": "white",
            "linecolor": "white",
            "ticks": ""
           }
          },
          "title": {
           "x": 0.05
          },
          "xaxis": {
           "automargin": true,
           "gridcolor": "white",
           "linecolor": "white",
           "ticks": "",
           "title": {
            "standoff": 15
           },
           "zerolinecolor": "white",
           "zerolinewidth": 2
          },
          "yaxis": {
           "automargin": true,
           "gridcolor": "white",
           "linecolor": "white",
           "ticks": "",
           "title": {
            "standoff": 15
           },
           "zerolinecolor": "white",
           "zerolinewidth": 2
          }
         }
        },
        "title": {
         "text": "ROC Curve"
        },
        "width": 800,
        "xaxis": {
         "range": [
          0,
          1
         ],
         "title": {
          "text": "False Positive Rate (Sensitivty)"
         }
        },
        "yaxis": {
         "range": [
          0,
          1
         ],
         "title": {
          "text": "True Positive Rate (1-Precision)"
         }
        }
       }
      }
     },
     "metadata": {}
    }
   ],
   "source": [
    "from sklearn.metrics import confusion_matrix, plot_confusion_matrix, roc_curve\n",
    "import plotly.graph_objects as go\n",
    "\n",
    "best_model = DecisionTreeClassifier(**clf.best_params_)\n",
    "best_model.fit(X_train, y_train)\n",
    "y_pred = best_model.predict(X_train)\n",
    "\n",
    "roc_curve_fig = None\n",
    "roc_curve_fig = go.Figure()\n",
    "roc_curve_fig.update_layout(\n",
    "    autosize=False,\n",
    "    width=width,\n",
    "    height=height,\n",
    "    xaxis_title=\"False Positive Rate (Sensitivty)\",\n",
    "    yaxis_title=\"True Positive Rate (1-Precision)\",\n",
    "    title=f\"ROC Curve\",\n",
    "    yaxis_range=[0,1],\n",
    "    xaxis_range=[0,1],\n",
    "    legend=dict(\n",
    "        x=0.78,\n",
    "        y=0.1,\n",
    "        title_text='Data'\n",
    "        )\n",
    "    )\n",
    "\n",
    "roc_curve_fig.add_trace(go.Scatter(x=fpr, y=tpr, name=\"ROC\", mode=\"lines\"))\n",
    "roc_curve_fig.add_trace(go.Scatter(x=[0,1], y =[0,1], name=\"Baseline\", mode=\"lines\", line=dict(color = 'rgba(50,50,50,0.2)')))"
   ]
  },
  {
   "source": [
    "The confusion matrix shows us that the model is mostly just predicting positive results, and predicting much fewer negatives. The errors are not random: we will see low a false negative rate and high true positive rate because the model is rarely predicting negative. The false positive rate and true positive rate will both be high because the model predicts positive most of the time, fairly randomly."
   ],
   "cell_type": "markdown",
   "metadata": {}
  },
  {
   "cell_type": "code",
   "execution_count": 62,
   "metadata": {},
   "outputs": [
    {
     "output_type": "stream",
     "name": "stdout",
     "text": [
      "FPR: 0.67 TPR: 0.72 FNR: 0.28 TNR: 0.33\nPrecision: 0.37\nNPV: 0.68\n"
     ]
    },
    {
     "output_type": "display_data",
     "data": {
      "text/plain": "<Figure size 432x288 with 2 Axes>",
      "image/svg+xml": "<?xml version=\"1.0\" encoding=\"utf-8\" standalone=\"no\"?>\n<!DOCTYPE svg PUBLIC \"-//W3C//DTD SVG 1.1//EN\"\n  \"http://www.w3.org/Graphics/SVG/1.1/DTD/svg11.dtd\">\n<!-- Created with matplotlib (https://matplotlib.org/) -->\n<svg height=\"262.19625pt\" version=\"1.1\" viewBox=\"0 0 325.305125 262.19625\" width=\"325.305125pt\" xmlns=\"http://www.w3.org/2000/svg\" xmlns:xlink=\"http://www.w3.org/1999/xlink\">\n <metadata>\n  <rdf:RDF xmlns:cc=\"http://creativecommons.org/ns#\" xmlns:dc=\"http://purl.org/dc/elements/1.1/\" xmlns:rdf=\"http://www.w3.org/1999/02/22-rdf-syntax-ns#\">\n   <cc:Work>\n    <dc:type rdf:resource=\"http://purl.org/dc/dcmitype/StillImage\"/>\n    <dc:date>2021-05-09T16:23:45.485927</dc:date>\n    <dc:format>image/svg+xml</dc:format>\n    <dc:creator>\n     <cc:Agent>\n      <dc:title>Matplotlib v3.3.4, https://matplotlib.org/</dc:title>\n     </cc:Agent>\n    </dc:creator>\n   </cc:Work>\n  </rdf:RDF>\n </metadata>\n <defs>\n  <style type=\"text/css\">*{stroke-linecap:butt;stroke-linejoin:round;}</style>\n </defs>\n <g id=\"figure_1\">\n  <g id=\"patch_1\">\n   <path d=\"M 0 262.19625 \nL 325.305125 262.19625 \nL 325.305125 0 \nL 0 0 \nz\n\" style=\"fill:none;\"/>\n  </g>\n  <g id=\"axes_1\">\n   <g id=\"patch_2\">\n    <path d=\"M 34.240625 224.64 \nL 251.680625 224.64 \nL 251.680625 7.2 \nL 34.240625 7.2 \nz\n\" style=\"fill:#ffffff;\"/>\n   </g>\n   <g clip-path=\"url(#p7c3ab745bd)\">\n    <image height=\"218\" id=\"image4e8fe72ed1\" transform=\"scale(1 -1)translate(0 -218)\" width=\"218\" x=\"34.240625\" xlink:href=\"data:image/png;base64,\niVBORw0KGgoAAAANSUhEUgAAANoAAADaCAYAAADAHVzbAAACmUlEQVR4nO3VMRHCUAAFwSSDqfRIoKbFCg7iLQ0G8AAafnN/GHYVvObmrdf19ln4Ka/nPnsCg7bZA+AfCA0CQoOA0CAgNAgIDQJCg4DQICA0CAgNAkKDgNAgIDQICA0CQoOA0CAgNAgIDQJCg4DQICA0CAgNAkKDgNAgIDQICA0CQoOA0CAgNAgIDQJCg4DQICA0CAgNAkKDgNAgIDQICA0CQoOA0CAgNAgIDQJCg4DQICA0CAgNAkKDgNAgIDQICA0CQoOA0CAgNAgIDQJCg4DQICA0CAgNAkKDgNAgIDQICA0CQoOA0CAgNAgIDQJCg4DQICA0CAgNAkKDgNAgIDQICA0CQoOA0CAgNAgIDQJCg4DQICA0CAgNAkKDgNAgIDQICA0CQoOA0CAgNAgIDQJCg4DQICA0CAgNAkKDgNAgIDQICA0CQoOA0CAgNAgIDQJCg4DQICA0CAgNAkKDgNAgcHk/9tkbGHTej9kTGOTRICA0CAgNAkKDgNAgIDQICA0CQoOA0CAgNAgIDQJCg4DQICA0CAgNAkKDgNAgIDQICA0CQoOA0CAgNAgIDQJCg4DQICA0CAgNAkKDgNAgIDQICA0CQoOA0CAgNAgIDQJCg4DQICA0CAgNAkKDgNAgIDQICA0CQoOA0CAgNAgIDQJCg4DQICA0CAgNAkKDgNAgIDQICA0CQoOA0CAgNAgIDQJCg4DQICA0CAgNAkKDgNAgIDQICA0CQoOA0CAgNAgIDQJCg4DQICA0CAgNAkKDgNAgIDQICA0CQoOA0CAgNAgIDQJCg4DQICA0CAgNAkKDgNAgIDQICA0CQoOA0CAgNAgIDQJCg4DQICA0CAgNAkKDgNAgIDQICA0CQoOA0CAgNAgIDQJCg8AXEGkISaVI7osAAAAASUVORK5CYII=\" y=\"-6.64\"/>\n   </g>\n   <g id=\"matplotlib.axis_1\">\n    <g id=\"xtick_1\">\n     <g id=\"line2d_1\">\n      <defs>\n       <path d=\"M 0 0 \nL 0 3.5 \n\" id=\"md65612a147\" style=\"stroke:#000000;stroke-width:0.8;\"/>\n      </defs>\n      <g>\n       <use style=\"stroke:#000000;stroke-width:0.8;\" x=\"88.600625\" xlink:href=\"#md65612a147\" y=\"224.64\"/>\n      </g>\n     </g>\n     <g id=\"text_1\">\n      <!-- 0 -->\n      <g transform=\"translate(85.419375 239.238437)scale(0.1 -0.1)\">\n       <defs>\n        <path d=\"M 31.78125 66.40625 \nQ 24.171875 66.40625 20.328125 58.90625 \nQ 16.5 51.421875 16.5 36.375 \nQ 16.5 21.390625 20.328125 13.890625 \nQ 24.171875 6.390625 31.78125 6.390625 \nQ 39.453125 6.390625 43.28125 13.890625 \nQ 47.125 21.390625 47.125 36.375 \nQ 47.125 51.421875 43.28125 58.90625 \nQ 39.453125 66.40625 31.78125 66.40625 \nz\nM 31.78125 74.21875 \nQ 44.046875 74.21875 50.515625 64.515625 \nQ 56.984375 54.828125 56.984375 36.375 \nQ 56.984375 17.96875 50.515625 8.265625 \nQ 44.046875 -1.421875 31.78125 -1.421875 \nQ 19.53125 -1.421875 13.0625 8.265625 \nQ 6.59375 17.96875 6.59375 36.375 \nQ 6.59375 54.828125 13.0625 64.515625 \nQ 19.53125 74.21875 31.78125 74.21875 \nz\n\" id=\"DejaVuSans-48\"/>\n       </defs>\n       <use xlink:href=\"#DejaVuSans-48\"/>\n      </g>\n     </g>\n    </g>\n    <g id=\"xtick_2\">\n     <g id=\"line2d_2\">\n      <g>\n       <use style=\"stroke:#000000;stroke-width:0.8;\" x=\"197.320625\" xlink:href=\"#md65612a147\" y=\"224.64\"/>\n      </g>\n     </g>\n     <g id=\"text_2\">\n      <!-- 1 -->\n      <g transform=\"translate(194.139375 239.238437)scale(0.1 -0.1)\">\n       <defs>\n        <path d=\"M 12.40625 8.296875 \nL 28.515625 8.296875 \nL 28.515625 63.921875 \nL 10.984375 60.40625 \nL 10.984375 69.390625 \nL 28.421875 72.90625 \nL 38.28125 72.90625 \nL 38.28125 8.296875 \nL 54.390625 8.296875 \nL 54.390625 0 \nL 12.40625 0 \nz\n\" id=\"DejaVuSans-49\"/>\n       </defs>\n       <use xlink:href=\"#DejaVuSans-49\"/>\n      </g>\n     </g>\n    </g>\n    <g id=\"text_3\">\n     <!-- Predicted label -->\n     <g transform=\"translate(105.808281 252.916562)scale(0.1 -0.1)\">\n      <defs>\n       <path d=\"M 19.671875 64.796875 \nL 19.671875 37.40625 \nL 32.078125 37.40625 \nQ 38.96875 37.40625 42.71875 40.96875 \nQ 46.484375 44.53125 46.484375 51.125 \nQ 46.484375 57.671875 42.71875 61.234375 \nQ 38.96875 64.796875 32.078125 64.796875 \nz\nM 9.8125 72.90625 \nL 32.078125 72.90625 \nQ 44.34375 72.90625 50.609375 67.359375 \nQ 56.890625 61.8125 56.890625 51.125 \nQ 56.890625 40.328125 50.609375 34.8125 \nQ 44.34375 29.296875 32.078125 29.296875 \nL 19.671875 29.296875 \nL 19.671875 0 \nL 9.8125 0 \nz\n\" id=\"DejaVuSans-80\"/>\n       <path d=\"M 41.109375 46.296875 \nQ 39.59375 47.171875 37.8125 47.578125 \nQ 36.03125 48 33.890625 48 \nQ 26.265625 48 22.1875 43.046875 \nQ 18.109375 38.09375 18.109375 28.8125 \nL 18.109375 0 \nL 9.078125 0 \nL 9.078125 54.6875 \nL 18.109375 54.6875 \nL 18.109375 46.1875 \nQ 20.953125 51.171875 25.484375 53.578125 \nQ 30.03125 56 36.53125 56 \nQ 37.453125 56 38.578125 55.875 \nQ 39.703125 55.765625 41.0625 55.515625 \nz\n\" id=\"DejaVuSans-114\"/>\n       <path d=\"M 56.203125 29.59375 \nL 56.203125 25.203125 \nL 14.890625 25.203125 \nQ 15.484375 15.921875 20.484375 11.0625 \nQ 25.484375 6.203125 34.421875 6.203125 \nQ 39.59375 6.203125 44.453125 7.46875 \nQ 49.3125 8.734375 54.109375 11.28125 \nL 54.109375 2.78125 \nQ 49.265625 0.734375 44.1875 -0.34375 \nQ 39.109375 -1.421875 33.890625 -1.421875 \nQ 20.796875 -1.421875 13.15625 6.1875 \nQ 5.515625 13.8125 5.515625 26.8125 \nQ 5.515625 40.234375 12.765625 48.109375 \nQ 20.015625 56 32.328125 56 \nQ 43.359375 56 49.78125 48.890625 \nQ 56.203125 41.796875 56.203125 29.59375 \nz\nM 47.21875 32.234375 \nQ 47.125 39.59375 43.09375 43.984375 \nQ 39.0625 48.390625 32.421875 48.390625 \nQ 24.90625 48.390625 20.390625 44.140625 \nQ 15.875 39.890625 15.1875 32.171875 \nz\n\" id=\"DejaVuSans-101\"/>\n       <path d=\"M 45.40625 46.390625 \nL 45.40625 75.984375 \nL 54.390625 75.984375 \nL 54.390625 0 \nL 45.40625 0 \nL 45.40625 8.203125 \nQ 42.578125 3.328125 38.25 0.953125 \nQ 33.9375 -1.421875 27.875 -1.421875 \nQ 17.96875 -1.421875 11.734375 6.484375 \nQ 5.515625 14.40625 5.515625 27.296875 \nQ 5.515625 40.1875 11.734375 48.09375 \nQ 17.96875 56 27.875 56 \nQ 33.9375 56 38.25 53.625 \nQ 42.578125 51.265625 45.40625 46.390625 \nz\nM 14.796875 27.296875 \nQ 14.796875 17.390625 18.875 11.75 \nQ 22.953125 6.109375 30.078125 6.109375 \nQ 37.203125 6.109375 41.296875 11.75 \nQ 45.40625 17.390625 45.40625 27.296875 \nQ 45.40625 37.203125 41.296875 42.84375 \nQ 37.203125 48.484375 30.078125 48.484375 \nQ 22.953125 48.484375 18.875 42.84375 \nQ 14.796875 37.203125 14.796875 27.296875 \nz\n\" id=\"DejaVuSans-100\"/>\n       <path d=\"M 9.421875 54.6875 \nL 18.40625 54.6875 \nL 18.40625 0 \nL 9.421875 0 \nz\nM 9.421875 75.984375 \nL 18.40625 75.984375 \nL 18.40625 64.59375 \nL 9.421875 64.59375 \nz\n\" id=\"DejaVuSans-105\"/>\n       <path d=\"M 48.78125 52.59375 \nL 48.78125 44.1875 \nQ 44.96875 46.296875 41.140625 47.34375 \nQ 37.3125 48.390625 33.40625 48.390625 \nQ 24.65625 48.390625 19.8125 42.84375 \nQ 14.984375 37.3125 14.984375 27.296875 \nQ 14.984375 17.28125 19.8125 11.734375 \nQ 24.65625 6.203125 33.40625 6.203125 \nQ 37.3125 6.203125 41.140625 7.25 \nQ 44.96875 8.296875 48.78125 10.40625 \nL 48.78125 2.09375 \nQ 45.015625 0.34375 40.984375 -0.53125 \nQ 36.96875 -1.421875 32.421875 -1.421875 \nQ 20.0625 -1.421875 12.78125 6.34375 \nQ 5.515625 14.109375 5.515625 27.296875 \nQ 5.515625 40.671875 12.859375 48.328125 \nQ 20.21875 56 33.015625 56 \nQ 37.15625 56 41.109375 55.140625 \nQ 45.0625 54.296875 48.78125 52.59375 \nz\n\" id=\"DejaVuSans-99\"/>\n       <path d=\"M 18.3125 70.21875 \nL 18.3125 54.6875 \nL 36.8125 54.6875 \nL 36.8125 47.703125 \nL 18.3125 47.703125 \nL 18.3125 18.015625 \nQ 18.3125 11.328125 20.140625 9.421875 \nQ 21.96875 7.515625 27.59375 7.515625 \nL 36.8125 7.515625 \nL 36.8125 0 \nL 27.59375 0 \nQ 17.1875 0 13.234375 3.875 \nQ 9.28125 7.765625 9.28125 18.015625 \nL 9.28125 47.703125 \nL 2.6875 47.703125 \nL 2.6875 54.6875 \nL 9.28125 54.6875 \nL 9.28125 70.21875 \nz\n\" id=\"DejaVuSans-116\"/>\n       <path id=\"DejaVuSans-32\"/>\n       <path d=\"M 9.421875 75.984375 \nL 18.40625 75.984375 \nL 18.40625 0 \nL 9.421875 0 \nz\n\" id=\"DejaVuSans-108\"/>\n       <path d=\"M 34.28125 27.484375 \nQ 23.390625 27.484375 19.1875 25 \nQ 14.984375 22.515625 14.984375 16.5 \nQ 14.984375 11.71875 18.140625 8.90625 \nQ 21.296875 6.109375 26.703125 6.109375 \nQ 34.1875 6.109375 38.703125 11.40625 \nQ 43.21875 16.703125 43.21875 25.484375 \nL 43.21875 27.484375 \nz\nM 52.203125 31.203125 \nL 52.203125 0 \nL 43.21875 0 \nL 43.21875 8.296875 \nQ 40.140625 3.328125 35.546875 0.953125 \nQ 30.953125 -1.421875 24.3125 -1.421875 \nQ 15.921875 -1.421875 10.953125 3.296875 \nQ 6 8.015625 6 15.921875 \nQ 6 25.140625 12.171875 29.828125 \nQ 18.359375 34.515625 30.609375 34.515625 \nL 43.21875 34.515625 \nL 43.21875 35.40625 \nQ 43.21875 41.609375 39.140625 45 \nQ 35.0625 48.390625 27.6875 48.390625 \nQ 23 48.390625 18.546875 47.265625 \nQ 14.109375 46.140625 10.015625 43.890625 \nL 10.015625 52.203125 \nQ 14.9375 54.109375 19.578125 55.046875 \nQ 24.21875 56 28.609375 56 \nQ 40.484375 56 46.34375 49.84375 \nQ 52.203125 43.703125 52.203125 31.203125 \nz\n\" id=\"DejaVuSans-97\"/>\n       <path d=\"M 48.6875 27.296875 \nQ 48.6875 37.203125 44.609375 42.84375 \nQ 40.53125 48.484375 33.40625 48.484375 \nQ 26.265625 48.484375 22.1875 42.84375 \nQ 18.109375 37.203125 18.109375 27.296875 \nQ 18.109375 17.390625 22.1875 11.75 \nQ 26.265625 6.109375 33.40625 6.109375 \nQ 40.53125 6.109375 44.609375 11.75 \nQ 48.6875 17.390625 48.6875 27.296875 \nz\nM 18.109375 46.390625 \nQ 20.953125 51.265625 25.265625 53.625 \nQ 29.59375 56 35.59375 56 \nQ 45.5625 56 51.78125 48.09375 \nQ 58.015625 40.1875 58.015625 27.296875 \nQ 58.015625 14.40625 51.78125 6.484375 \nQ 45.5625 -1.421875 35.59375 -1.421875 \nQ 29.59375 -1.421875 25.265625 0.953125 \nQ 20.953125 3.328125 18.109375 8.203125 \nL 18.109375 0 \nL 9.078125 0 \nL 9.078125 75.984375 \nL 18.109375 75.984375 \nz\n\" id=\"DejaVuSans-98\"/>\n      </defs>\n      <use xlink:href=\"#DejaVuSans-80\"/>\n      <use x=\"58.552734\" xlink:href=\"#DejaVuSans-114\"/>\n      <use x=\"97.416016\" xlink:href=\"#DejaVuSans-101\"/>\n      <use x=\"158.939453\" xlink:href=\"#DejaVuSans-100\"/>\n      <use x=\"222.416016\" xlink:href=\"#DejaVuSans-105\"/>\n      <use x=\"250.199219\" xlink:href=\"#DejaVuSans-99\"/>\n      <use x=\"305.179688\" xlink:href=\"#DejaVuSans-116\"/>\n      <use x=\"344.388672\" xlink:href=\"#DejaVuSans-101\"/>\n      <use x=\"405.912109\" xlink:href=\"#DejaVuSans-100\"/>\n      <use x=\"469.388672\" xlink:href=\"#DejaVuSans-32\"/>\n      <use x=\"501.175781\" xlink:href=\"#DejaVuSans-108\"/>\n      <use x=\"528.958984\" xlink:href=\"#DejaVuSans-97\"/>\n      <use x=\"590.238281\" xlink:href=\"#DejaVuSans-98\"/>\n      <use x=\"653.714844\" xlink:href=\"#DejaVuSans-101\"/>\n      <use x=\"715.238281\" xlink:href=\"#DejaVuSans-108\"/>\n     </g>\n    </g>\n   </g>\n   <g id=\"matplotlib.axis_2\">\n    <g id=\"ytick_1\">\n     <g id=\"line2d_3\">\n      <defs>\n       <path d=\"M 0 0 \nL -3.5 0 \n\" id=\"mc993b775fb\" style=\"stroke:#000000;stroke-width:0.8;\"/>\n      </defs>\n      <g>\n       <use style=\"stroke:#000000;stroke-width:0.8;\" x=\"34.240625\" xlink:href=\"#mc993b775fb\" y=\"61.56\"/>\n      </g>\n     </g>\n     <g id=\"text_4\">\n      <!-- 0 -->\n      <g transform=\"translate(20.878125 65.359219)scale(0.1 -0.1)\">\n       <use xlink:href=\"#DejaVuSans-48\"/>\n      </g>\n     </g>\n    </g>\n    <g id=\"ytick_2\">\n     <g id=\"line2d_4\">\n      <g>\n       <use style=\"stroke:#000000;stroke-width:0.8;\" x=\"34.240625\" xlink:href=\"#mc993b775fb\" y=\"170.28\"/>\n      </g>\n     </g>\n     <g id=\"text_5\">\n      <!-- 1 -->\n      <g transform=\"translate(20.878125 174.079219)scale(0.1 -0.1)\">\n       <use xlink:href=\"#DejaVuSans-49\"/>\n      </g>\n     </g>\n    </g>\n    <g id=\"text_6\">\n     <!-- True label -->\n     <g transform=\"translate(14.798437 140.219219)rotate(-90)scale(0.1 -0.1)\">\n      <defs>\n       <path d=\"M -0.296875 72.90625 \nL 61.375 72.90625 \nL 61.375 64.59375 \nL 35.5 64.59375 \nL 35.5 0 \nL 25.59375 0 \nL 25.59375 64.59375 \nL -0.296875 64.59375 \nz\n\" id=\"DejaVuSans-84\"/>\n       <path d=\"M 8.5 21.578125 \nL 8.5 54.6875 \nL 17.484375 54.6875 \nL 17.484375 21.921875 \nQ 17.484375 14.15625 20.5 10.265625 \nQ 23.53125 6.390625 29.59375 6.390625 \nQ 36.859375 6.390625 41.078125 11.03125 \nQ 45.3125 15.671875 45.3125 23.6875 \nL 45.3125 54.6875 \nL 54.296875 54.6875 \nL 54.296875 0 \nL 45.3125 0 \nL 45.3125 8.40625 \nQ 42.046875 3.421875 37.71875 1 \nQ 33.40625 -1.421875 27.6875 -1.421875 \nQ 18.265625 -1.421875 13.375 4.4375 \nQ 8.5 10.296875 8.5 21.578125 \nz\nM 31.109375 56 \nz\n\" id=\"DejaVuSans-117\"/>\n      </defs>\n      <use xlink:href=\"#DejaVuSans-84\"/>\n      <use x=\"46.333984\" xlink:href=\"#DejaVuSans-114\"/>\n      <use x=\"87.447266\" xlink:href=\"#DejaVuSans-117\"/>\n      <use x=\"150.826172\" xlink:href=\"#DejaVuSans-101\"/>\n      <use x=\"212.349609\" xlink:href=\"#DejaVuSans-32\"/>\n      <use x=\"244.136719\" xlink:href=\"#DejaVuSans-108\"/>\n      <use x=\"271.919922\" xlink:href=\"#DejaVuSans-97\"/>\n      <use x=\"333.199219\" xlink:href=\"#DejaVuSans-98\"/>\n      <use x=\"396.675781\" xlink:href=\"#DejaVuSans-101\"/>\n      <use x=\"458.199219\" xlink:href=\"#DejaVuSans-108\"/>\n     </g>\n    </g>\n   </g>\n   <g id=\"patch_3\">\n    <path d=\"M 34.240625 224.64 \nL 34.240625 7.2 \n\" style=\"fill:none;stroke:#000000;stroke-linecap:square;stroke-linejoin:miter;stroke-width:0.8;\"/>\n   </g>\n   <g id=\"patch_4\">\n    <path d=\"M 251.680625 224.64 \nL 251.680625 7.2 \n\" style=\"fill:none;stroke:#000000;stroke-linecap:square;stroke-linejoin:miter;stroke-width:0.8;\"/>\n   </g>\n   <g id=\"patch_5\">\n    <path d=\"M 34.240625 224.64 \nL 251.680625 224.64 \n\" style=\"fill:none;stroke:#000000;stroke-linecap:square;stroke-linejoin:miter;stroke-width:0.8;\"/>\n   </g>\n   <g id=\"patch_6\">\n    <path d=\"M 34.240625 7.2 \nL 251.680625 7.2 \n\" style=\"fill:none;stroke:#000000;stroke-linecap:square;stroke-linejoin:miter;stroke-width:0.8;\"/>\n   </g>\n   <g id=\"text_7\">\n    <!-- 11852 -->\n    <g style=\"fill:#fde725;\" transform=\"translate(72.694375 64.319375)scale(0.1 -0.1)\">\n     <defs>\n      <path d=\"M 31.78125 34.625 \nQ 24.75 34.625 20.71875 30.859375 \nQ 16.703125 27.09375 16.703125 20.515625 \nQ 16.703125 13.921875 20.71875 10.15625 \nQ 24.75 6.390625 31.78125 6.390625 \nQ 38.8125 6.390625 42.859375 10.171875 \nQ 46.921875 13.96875 46.921875 20.515625 \nQ 46.921875 27.09375 42.890625 30.859375 \nQ 38.875 34.625 31.78125 34.625 \nz\nM 21.921875 38.8125 \nQ 15.578125 40.375 12.03125 44.71875 \nQ 8.5 49.078125 8.5 55.328125 \nQ 8.5 64.0625 14.71875 69.140625 \nQ 20.953125 74.21875 31.78125 74.21875 \nQ 42.671875 74.21875 48.875 69.140625 \nQ 55.078125 64.0625 55.078125 55.328125 \nQ 55.078125 49.078125 51.53125 44.71875 \nQ 48 40.375 41.703125 38.8125 \nQ 48.828125 37.15625 52.796875 32.3125 \nQ 56.78125 27.484375 56.78125 20.515625 \nQ 56.78125 9.90625 50.3125 4.234375 \nQ 43.84375 -1.421875 31.78125 -1.421875 \nQ 19.734375 -1.421875 13.25 4.234375 \nQ 6.78125 9.90625 6.78125 20.515625 \nQ 6.78125 27.484375 10.78125 32.3125 \nQ 14.796875 37.15625 21.921875 38.8125 \nz\nM 18.3125 54.390625 \nQ 18.3125 48.734375 21.84375 45.5625 \nQ 25.390625 42.390625 31.78125 42.390625 \nQ 38.140625 42.390625 41.71875 45.5625 \nQ 45.3125 48.734375 45.3125 54.390625 \nQ 45.3125 60.0625 41.71875 63.234375 \nQ 38.140625 66.40625 31.78125 66.40625 \nQ 25.390625 66.40625 21.84375 63.234375 \nQ 18.3125 60.0625 18.3125 54.390625 \nz\n\" id=\"DejaVuSans-56\"/>\n      <path d=\"M 10.796875 72.90625 \nL 49.515625 72.90625 \nL 49.515625 64.59375 \nL 19.828125 64.59375 \nL 19.828125 46.734375 \nQ 21.96875 47.46875 24.109375 47.828125 \nQ 26.265625 48.1875 28.421875 48.1875 \nQ 40.625 48.1875 47.75 41.5 \nQ 54.890625 34.8125 54.890625 23.390625 \nQ 54.890625 11.625 47.5625 5.09375 \nQ 40.234375 -1.421875 26.90625 -1.421875 \nQ 22.3125 -1.421875 17.546875 -0.640625 \nQ 12.796875 0.140625 7.71875 1.703125 \nL 7.71875 11.625 \nQ 12.109375 9.234375 16.796875 8.0625 \nQ 21.484375 6.890625 26.703125 6.890625 \nQ 35.15625 6.890625 40.078125 11.328125 \nQ 45.015625 15.765625 45.015625 23.390625 \nQ 45.015625 31 40.078125 35.4375 \nQ 35.15625 39.890625 26.703125 39.890625 \nQ 22.75 39.890625 18.8125 39.015625 \nQ 14.890625 38.140625 10.796875 36.28125 \nz\n\" id=\"DejaVuSans-53\"/>\n      <path d=\"M 19.1875 8.296875 \nL 53.609375 8.296875 \nL 53.609375 0 \nL 7.328125 0 \nL 7.328125 8.296875 \nQ 12.9375 14.109375 22.625 23.890625 \nQ 32.328125 33.6875 34.8125 36.53125 \nQ 39.546875 41.84375 41.421875 45.53125 \nQ 43.3125 49.21875 43.3125 52.78125 \nQ 43.3125 58.59375 39.234375 62.25 \nQ 35.15625 65.921875 28.609375 65.921875 \nQ 23.96875 65.921875 18.8125 64.3125 \nQ 13.671875 62.703125 7.8125 59.421875 \nL 7.8125 69.390625 \nQ 13.765625 71.78125 18.9375 73 \nQ 24.125 74.21875 28.421875 74.21875 \nQ 39.75 74.21875 46.484375 68.546875 \nQ 53.21875 62.890625 53.21875 53.421875 \nQ 53.21875 48.921875 51.53125 44.890625 \nQ 49.859375 40.875 45.40625 35.40625 \nQ 44.1875 33.984375 37.640625 27.21875 \nQ 31.109375 20.453125 19.1875 8.296875 \nz\n\" id=\"DejaVuSans-50\"/>\n     </defs>\n     <use xlink:href=\"#DejaVuSans-49\"/>\n     <use x=\"63.623047\" xlink:href=\"#DejaVuSans-49\"/>\n     <use x=\"127.246094\" xlink:href=\"#DejaVuSans-56\"/>\n     <use x=\"190.869141\" xlink:href=\"#DejaVuSans-53\"/>\n     <use x=\"254.492188\" xlink:href=\"#DejaVuSans-50\"/>\n    </g>\n   </g>\n   <g id=\"text_8\">\n    <!-- 23998 -->\n    <g style=\"fill:#440154;\" transform=\"translate(181.414375 64.319375)scale(0.1 -0.1)\">\n     <defs>\n      <path d=\"M 40.578125 39.3125 \nQ 47.65625 37.796875 51.625 33 \nQ 55.609375 28.21875 55.609375 21.1875 \nQ 55.609375 10.40625 48.1875 4.484375 \nQ 40.765625 -1.421875 27.09375 -1.421875 \nQ 22.515625 -1.421875 17.65625 -0.515625 \nQ 12.796875 0.390625 7.625 2.203125 \nL 7.625 11.71875 \nQ 11.71875 9.328125 16.59375 8.109375 \nQ 21.484375 6.890625 26.8125 6.890625 \nQ 36.078125 6.890625 40.9375 10.546875 \nQ 45.796875 14.203125 45.796875 21.1875 \nQ 45.796875 27.640625 41.28125 31.265625 \nQ 36.765625 34.90625 28.71875 34.90625 \nL 20.21875 34.90625 \nL 20.21875 43.015625 \nL 29.109375 43.015625 \nQ 36.375 43.015625 40.234375 45.921875 \nQ 44.09375 48.828125 44.09375 54.296875 \nQ 44.09375 59.90625 40.109375 62.90625 \nQ 36.140625 65.921875 28.71875 65.921875 \nQ 24.65625 65.921875 20.015625 65.03125 \nQ 15.375 64.15625 9.8125 62.3125 \nL 9.8125 71.09375 \nQ 15.4375 72.65625 20.34375 73.4375 \nQ 25.25 74.21875 29.59375 74.21875 \nQ 40.828125 74.21875 47.359375 69.109375 \nQ 53.90625 64.015625 53.90625 55.328125 \nQ 53.90625 49.265625 50.4375 45.09375 \nQ 46.96875 40.921875 40.578125 39.3125 \nz\n\" id=\"DejaVuSans-51\"/>\n      <path d=\"M 10.984375 1.515625 \nL 10.984375 10.5 \nQ 14.703125 8.734375 18.5 7.8125 \nQ 22.3125 6.890625 25.984375 6.890625 \nQ 35.75 6.890625 40.890625 13.453125 \nQ 46.046875 20.015625 46.78125 33.40625 \nQ 43.953125 29.203125 39.59375 26.953125 \nQ 35.25 24.703125 29.984375 24.703125 \nQ 19.046875 24.703125 12.671875 31.3125 \nQ 6.296875 37.9375 6.296875 49.421875 \nQ 6.296875 60.640625 12.9375 67.421875 \nQ 19.578125 74.21875 30.609375 74.21875 \nQ 43.265625 74.21875 49.921875 64.515625 \nQ 56.59375 54.828125 56.59375 36.375 \nQ 56.59375 19.140625 48.40625 8.859375 \nQ 40.234375 -1.421875 26.421875 -1.421875 \nQ 22.703125 -1.421875 18.890625 -0.6875 \nQ 15.09375 0.046875 10.984375 1.515625 \nz\nM 30.609375 32.421875 \nQ 37.25 32.421875 41.125 36.953125 \nQ 45.015625 41.5 45.015625 49.421875 \nQ 45.015625 57.28125 41.125 61.84375 \nQ 37.25 66.40625 30.609375 66.40625 \nQ 23.96875 66.40625 20.09375 61.84375 \nQ 16.21875 57.28125 16.21875 49.421875 \nQ 16.21875 41.5 20.09375 36.953125 \nQ 23.96875 32.421875 30.609375 32.421875 \nz\n\" id=\"DejaVuSans-57\"/>\n     </defs>\n     <use xlink:href=\"#DejaVuSans-50\"/>\n     <use x=\"63.623047\" xlink:href=\"#DejaVuSans-51\"/>\n     <use x=\"127.246094\" xlink:href=\"#DejaVuSans-57\"/>\n     <use x=\"190.869141\" xlink:href=\"#DejaVuSans-57\"/>\n     <use x=\"254.492188\" xlink:href=\"#DejaVuSans-56\"/>\n    </g>\n   </g>\n   <g id=\"text_9\">\n    <!-- 5643 -->\n    <g style=\"fill:#fde725;\" transform=\"translate(75.875625 173.039375)scale(0.1 -0.1)\">\n     <defs>\n      <path d=\"M 33.015625 40.375 \nQ 26.375 40.375 22.484375 35.828125 \nQ 18.609375 31.296875 18.609375 23.390625 \nQ 18.609375 15.53125 22.484375 10.953125 \nQ 26.375 6.390625 33.015625 6.390625 \nQ 39.65625 6.390625 43.53125 10.953125 \nQ 47.40625 15.53125 47.40625 23.390625 \nQ 47.40625 31.296875 43.53125 35.828125 \nQ 39.65625 40.375 33.015625 40.375 \nz\nM 52.59375 71.296875 \nL 52.59375 62.3125 \nQ 48.875 64.0625 45.09375 64.984375 \nQ 41.3125 65.921875 37.59375 65.921875 \nQ 27.828125 65.921875 22.671875 59.328125 \nQ 17.53125 52.734375 16.796875 39.40625 \nQ 19.671875 43.65625 24.015625 45.921875 \nQ 28.375 48.1875 33.59375 48.1875 \nQ 44.578125 48.1875 50.953125 41.515625 \nQ 57.328125 34.859375 57.328125 23.390625 \nQ 57.328125 12.15625 50.6875 5.359375 \nQ 44.046875 -1.421875 33.015625 -1.421875 \nQ 20.359375 -1.421875 13.671875 8.265625 \nQ 6.984375 17.96875 6.984375 36.375 \nQ 6.984375 53.65625 15.1875 63.9375 \nQ 23.390625 74.21875 37.203125 74.21875 \nQ 40.921875 74.21875 44.703125 73.484375 \nQ 48.484375 72.75 52.59375 71.296875 \nz\n\" id=\"DejaVuSans-54\"/>\n      <path d=\"M 37.796875 64.3125 \nL 12.890625 25.390625 \nL 37.796875 25.390625 \nz\nM 35.203125 72.90625 \nL 47.609375 72.90625 \nL 47.609375 25.390625 \nL 58.015625 25.390625 \nL 58.015625 17.1875 \nL 47.609375 17.1875 \nL 47.609375 0 \nL 37.796875 0 \nL 37.796875 17.1875 \nL 4.890625 17.1875 \nL 4.890625 26.703125 \nz\n\" id=\"DejaVuSans-52\"/>\n     </defs>\n     <use xlink:href=\"#DejaVuSans-53\"/>\n     <use x=\"63.623047\" xlink:href=\"#DejaVuSans-54\"/>\n     <use x=\"127.246094\" xlink:href=\"#DejaVuSans-52\"/>\n     <use x=\"190.869141\" xlink:href=\"#DejaVuSans-51\"/>\n    </g>\n   </g>\n   <g id=\"text_10\">\n    <!-- 14313 -->\n    <g style=\"fill:#fde725;\" transform=\"translate(181.414375 173.039375)scale(0.1 -0.1)\">\n     <use xlink:href=\"#DejaVuSans-49\"/>\n     <use x=\"63.623047\" xlink:href=\"#DejaVuSans-52\"/>\n     <use x=\"127.246094\" xlink:href=\"#DejaVuSans-51\"/>\n     <use x=\"190.869141\" xlink:href=\"#DejaVuSans-49\"/>\n     <use x=\"254.492188\" xlink:href=\"#DejaVuSans-51\"/>\n    </g>\n   </g>\n  </g>\n  <g id=\"axes_2\">\n   <g id=\"patch_7\">\n    <path clip-path=\"url(#p4f08570bf3)\" d=\"M 268.420625 224.64 \nL 268.420625 223.790625 \nL 268.420625 8.049375 \nL 268.420625 7.2 \nL 279.292625 7.2 \nL 279.292625 8.049375 \nL 279.292625 223.790625 \nL 279.292625 224.64 \nz\n\" style=\"fill:#ffffff;stroke:#ffffff;stroke-linejoin:miter;stroke-width:0.01;\"/>\n   </g>\n   <image height=\"217\" id=\"imageb9a21a9e7c\" transform=\"scale(1 -1)translate(0 -217)\" width=\"11\" x=\"268\" xlink:href=\"data:image/png;base64,\niVBORw0KGgoAAAANSUhEUgAAAAsAAADZCAYAAAD2WsoCAAABYUlEQVR4nO3aQW7DMBBDUWkk52Q9Q+9/kLbptkA2egsC4yJZE8QnZ2Q7TuZHfT7H4WfPmqfaseda5+IxC8SCMaYwl2CI86A2qOce1VlAcs6J3238FcfaeK4eAYnZxt0D4/xKkMUQ5yBzynmIMy2/9UwYsTZsgrQbxgziJm0EMXLVUcAupxvE5IwBUxjoHLvI3LKNmPMd2zjX4vPGHSf4/8dNzi3GDRDv0/0iPj/fd9yNNm0Exw3MweoqhdGkDXhESrYxRi4gOM9YQOuZmE0MGNSGYZxTcMBUG6t+OmBUrI0l4hxGE+c1Ydzk3ES87xhQbhPWRn13wCgZih1YYaY2lrWR2jpqY08KmGMWZ+mZnC9pw1Y0thu5oTzmFzjHhlISkJb/koDUM16RyDm1G7T8ts/BgKkb0GPQpUCWn06KBTzWjn3ZgQXnBV8It7zd20t+yCjBuOB9lmKAMzEv+SOQYPwCBCyBaHjgE4oAAAAASUVORK5CYII=\" y=\"-7\"/>\n   <g id=\"matplotlib.axis_3\"/>\n   <g id=\"matplotlib.axis_4\">\n    <g id=\"ytick_3\">\n     <g id=\"line2d_5\">\n      <defs>\n       <path d=\"M 0 0 \nL 3.5 0 \n\" id=\"m5d699398ca\" style=\"stroke:#000000;stroke-width:0.8;\"/>\n      </defs>\n      <g>\n       <use style=\"stroke:#000000;stroke-width:0.8;\" x=\"279.292625\" xlink:href=\"#m5d699398ca\" y=\"202.641303\"/>\n      </g>\n     </g>\n     <g id=\"text_11\">\n      <!-- 7500 -->\n      <g transform=\"translate(286.292625 206.440522)scale(0.1 -0.1)\">\n       <defs>\n        <path d=\"M 8.203125 72.90625 \nL 55.078125 72.90625 \nL 55.078125 68.703125 \nL 28.609375 0 \nL 18.3125 0 \nL 43.21875 64.59375 \nL 8.203125 64.59375 \nz\n\" id=\"DejaVuSans-55\"/>\n       </defs>\n       <use xlink:href=\"#DejaVuSans-55\"/>\n       <use x=\"63.623047\" xlink:href=\"#DejaVuSans-53\"/>\n       <use x=\"127.246094\" xlink:href=\"#DejaVuSans-48\"/>\n       <use x=\"190.869141\" xlink:href=\"#DejaVuSans-48\"/>\n      </g>\n     </g>\n    </g>\n    <g id=\"ytick_4\">\n     <g id=\"line2d_6\">\n      <g>\n       <use style=\"stroke:#000000;stroke-width:0.8;\" x=\"279.292625\" xlink:href=\"#m5d699398ca\" y=\"173.025395\"/>\n      </g>\n     </g>\n     <g id=\"text_12\">\n      <!-- 10000 -->\n      <g transform=\"translate(286.292625 176.824613)scale(0.1 -0.1)\">\n       <use xlink:href=\"#DejaVuSans-49\"/>\n       <use x=\"63.623047\" xlink:href=\"#DejaVuSans-48\"/>\n       <use x=\"127.246094\" xlink:href=\"#DejaVuSans-48\"/>\n       <use x=\"190.869141\" xlink:href=\"#DejaVuSans-48\"/>\n       <use x=\"254.492188\" xlink:href=\"#DejaVuSans-48\"/>\n      </g>\n     </g>\n    </g>\n    <g id=\"ytick_5\">\n     <g id=\"line2d_7\">\n      <g>\n       <use style=\"stroke:#000000;stroke-width:0.8;\" x=\"279.292625\" xlink:href=\"#m5d699398ca\" y=\"143.409486\"/>\n      </g>\n     </g>\n     <g id=\"text_13\">\n      <!-- 12500 -->\n      <g transform=\"translate(286.292625 147.208705)scale(0.1 -0.1)\">\n       <use xlink:href=\"#DejaVuSans-49\"/>\n       <use x=\"63.623047\" xlink:href=\"#DejaVuSans-50\"/>\n       <use x=\"127.246094\" xlink:href=\"#DejaVuSans-53\"/>\n       <use x=\"190.869141\" xlink:href=\"#DejaVuSans-48\"/>\n       <use x=\"254.492188\" xlink:href=\"#DejaVuSans-48\"/>\n      </g>\n     </g>\n    </g>\n    <g id=\"ytick_6\">\n     <g id=\"line2d_8\">\n      <g>\n       <use style=\"stroke:#000000;stroke-width:0.8;\" x=\"279.292625\" xlink:href=\"#m5d699398ca\" y=\"113.793578\"/>\n      </g>\n     </g>\n     <g id=\"text_14\">\n      <!-- 15000 -->\n      <g transform=\"translate(286.292625 117.592797)scale(0.1 -0.1)\">\n       <use xlink:href=\"#DejaVuSans-49\"/>\n       <use x=\"63.623047\" xlink:href=\"#DejaVuSans-53\"/>\n       <use x=\"127.246094\" xlink:href=\"#DejaVuSans-48\"/>\n       <use x=\"190.869141\" xlink:href=\"#DejaVuSans-48\"/>\n       <use x=\"254.492188\" xlink:href=\"#DejaVuSans-48\"/>\n      </g>\n     </g>\n    </g>\n    <g id=\"ytick_7\">\n     <g id=\"line2d_9\">\n      <g>\n       <use style=\"stroke:#000000;stroke-width:0.8;\" x=\"279.292625\" xlink:href=\"#m5d699398ca\" y=\"84.177669\"/>\n      </g>\n     </g>\n     <g id=\"text_15\">\n      <!-- 17500 -->\n      <g transform=\"translate(286.292625 87.976888)scale(0.1 -0.1)\">\n       <use xlink:href=\"#DejaVuSans-49\"/>\n       <use x=\"63.623047\" xlink:href=\"#DejaVuSans-55\"/>\n       <use x=\"127.246094\" xlink:href=\"#DejaVuSans-53\"/>\n       <use x=\"190.869141\" xlink:href=\"#DejaVuSans-48\"/>\n       <use x=\"254.492188\" xlink:href=\"#DejaVuSans-48\"/>\n      </g>\n     </g>\n    </g>\n    <g id=\"ytick_8\">\n     <g id=\"line2d_10\">\n      <g>\n       <use style=\"stroke:#000000;stroke-width:0.8;\" x=\"279.292625\" xlink:href=\"#m5d699398ca\" y=\"54.561761\"/>\n      </g>\n     </g>\n     <g id=\"text_16\">\n      <!-- 20000 -->\n      <g transform=\"translate(286.292625 58.36098)scale(0.1 -0.1)\">\n       <use xlink:href=\"#DejaVuSans-50\"/>\n       <use x=\"63.623047\" xlink:href=\"#DejaVuSans-48\"/>\n       <use x=\"127.246094\" xlink:href=\"#DejaVuSans-48\"/>\n       <use x=\"190.869141\" xlink:href=\"#DejaVuSans-48\"/>\n       <use x=\"254.492188\" xlink:href=\"#DejaVuSans-48\"/>\n      </g>\n     </g>\n    </g>\n    <g id=\"ytick_9\">\n     <g id=\"line2d_11\">\n      <g>\n       <use style=\"stroke:#000000;stroke-width:0.8;\" x=\"279.292625\" xlink:href=\"#m5d699398ca\" y=\"24.945852\"/>\n      </g>\n     </g>\n     <g id=\"text_17\">\n      <!-- 22500 -->\n      <g transform=\"translate(286.292625 28.745071)scale(0.1 -0.1)\">\n       <use xlink:href=\"#DejaVuSans-50\"/>\n       <use x=\"63.623047\" xlink:href=\"#DejaVuSans-50\"/>\n       <use x=\"127.246094\" xlink:href=\"#DejaVuSans-53\"/>\n       <use x=\"190.869141\" xlink:href=\"#DejaVuSans-48\"/>\n       <use x=\"254.492188\" xlink:href=\"#DejaVuSans-48\"/>\n      </g>\n     </g>\n    </g>\n   </g>\n   <g id=\"patch_8\">\n    <path d=\"M 268.420625 224.64 \nL 268.420625 223.790625 \nL 268.420625 8.049375 \nL 268.420625 7.2 \nL 279.292625 7.2 \nL 279.292625 8.049375 \nL 279.292625 223.790625 \nL 279.292625 224.64 \nz\n\" style=\"fill:none;stroke:#000000;stroke-linejoin:miter;stroke-width:0.8;\"/>\n   </g>\n  </g>\n </g>\n <defs>\n  <clipPath id=\"p7c3ab745bd\">\n   <rect height=\"217.44\" width=\"217.44\" x=\"34.240625\" y=\"7.2\"/>\n  </clipPath>\n  <clipPath id=\"p4f08570bf3\">\n   <rect height=\"217.44\" width=\"10.872\" x=\"268.420625\" y=\"7.2\"/>\n  </clipPath>\n </defs>\n</svg>\n",
      "image/png": "[encoded data removed]"
     },
     "metadata": {
      "needs_background": "light"
     }
    }
   ],
   "source": [
    "plot_confusion_matrix(best_model, X_train, y_train)\n",
    "\n",
    "tn, fp, fn, tp = confusion_matrix(y_train, y_pred).ravel()\n",
    "\n",
    "condition_neg = tn + fp\n",
    "condition_pos = tp + fn\n",
    "\n",
    "fpr = fp / conditon_neg\n",
    "tpr = tp / condition_pos\n",
    "fnr = fn / condition_pos\n",
    "tnr = tn / condition_neg\n",
    "\n",
    "print (\"FPR: {:.2f} TPR: {:.2f} FNR: {:.2f} TNR: {:.2f}\".format(fpr, tpr, fnr, tnr))\n",
    "\n",
    "print (\"Precision: {:.2f}\".format(tp / (tp + fp)))\n",
    "print (\"NPV: {:.2f}\".format(tn / (tn + fn)))"
   ]
  },
  {
   "source": [
    "The model precision is 0.37, this is roughly equal to prevelance. Given we know the model is struggling to seperate the classes, and leans towards making positive predicitons most of the time, the fact these numbers are almost equal confirms that the model is making predictions largely at random."
   ],
   "cell_type": "markdown",
   "metadata": {}
  },
  {
   "source": [
    "# Summary\n",
    "\n",
    "A decision tree is not a good model here at performs worse than the logistic regression. It seems there are no clear boundaries between the labels in any of the features and that makes it difficult for a decision tree to make predictions. Logistic regression may be performing better because it is able to find small correlations that the decision tree can't."
   ],
   "cell_type": "markdown",
   "metadata": {}
  }
 ]
}