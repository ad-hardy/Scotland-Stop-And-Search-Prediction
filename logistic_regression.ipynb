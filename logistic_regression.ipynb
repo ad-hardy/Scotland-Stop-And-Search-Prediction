{
 "metadata": {
  "language_info": {
   "codemirror_mode": {
    "name": "ipython",
    "version": 3
   },
   "file_extension": ".py",
   "mimetype": "text/x-python",
   "name": "python",
   "nbconvert_exporter": "python",
   "pygments_lexer": "ipython3",
   "version": "3.9.1"
  },
  "orig_nbformat": 2,
  "kernelspec": {
   "name": "python391jvsc74a57bd0d504e65763db0712997c5abf4e36f31acc377fe14fcbb9335ac404214f57dc0f",
   "display_name": "Python 3.9.1 64-bit ('base': conda)"
  }
 },
 "nbformat": 4,
 "nbformat_minor": 2,
 "cells": [
  {
   "cell_type": "code",
   "execution_count": 213,
   "metadata": {},
   "outputs": [],
   "source": [
    "import pandas as pd\n",
    "import numpy as np\n",
    "import classification_tools\n",
    "\n",
    "import importlib\n",
    "importlib.reload(classification_tools)\n",
    "\n",
    "pd.set_option(\"display.max_columns\",500)\n",
    "\n",
    "import warnings\n",
    "# suppress matplotlib warning in plot_confusion_matrix()\n",
    "warnings.filterwarnings('ignore', message='FixedFormatter should only be used together with FixedLocator')\n",
    "\n"
   ]
  },
  {
   "source": [
    "## Load Data\n"
   ],
   "cell_type": "markdown",
   "metadata": {}
  },
  {
   "cell_type": "code",
   "execution_count": 214,
   "metadata": {},
   "outputs": [
    {
     "output_type": "execute_result",
     "data": {
      "text/plain": [
       "                0                  0                  0   \n",
       "4                      0                  0                  0   \n",
       "...                  ...                ...                ...   \n",
       "74404                  0                  0                  0   \n",
       "74405                  0                  0                  0   \n",
       "74406                  0                  0                  0   \n",
       "74407                  0                  0                  0   \n",
       "74408                  0                  0                  0   \n",
       "\n",
       "       Council Code_13.0  Council Code_14.0  Council Code_15.0  \\\n",
       "0                      0                  0                  0   \n",
       "1                      0                  0                  0   \n",
       "2                      0                  0                  0   \n",
       "3                      0                  0                  0   \n",
       "4                      0                  0                  0   \n",
       "...                  ...                ...                ...   \n",
       "74404                  0                  0                  0   \n",
       "74405                  0                  0                  0   \n",
       "74406                  0                  0                  0   \n",
       "74407                  0                  0                  0   \n",
       "74408                  0                  0                  0   \n",
       "\n",
       "       Council Code_16.0  Council Code_17.0  Council Code_18.0  \\\n",
       "0                      0                  0                  0   \n",
       "1                      0                  0                  0   \n",
       "2                      0                  0                  0   \n",
       "3                      0                  0                  0   \n",
       "4                      0                  0                  0   \n",
       "...                  ...                ...                ...   \n",
       "74404                  0                  0                  0   \n",
       "74405                  0                  0                  0   \n",
       "74406                  0                  0                  0   \n",
       "74407                  0                  0                  1   \n",
       "74408                  0                  0                  0   \n",
       "\n",
       "       Council Code_19.0  Council Code_20.0  Council Code_21.0  \\\n",
       "0                      0                  0                  0   \n",
       "1                      0                  0                  0   \n",
       "2                      0                  0                  0   \n",
       "3                      0                  0                  0   \n",
       "4                      0                  0                  0   \n",
       "...                  ...                ...                ...   \n",
       "74404                  0                  0                  0   \n",
       "74405                  0                  0                  0   \n",
       "74406                  0                  0                  0   \n",
       "74407                  0                  0                  0   \n",
       "74408                  0                  0                  0   \n",
       "\n",
       "       Council Code_22.0  Council Code_23.0  Council Code_24.0  \\\n",
       "0                      0                  0                  0   \n",
       "1                      0                  0                  0   \n",
       "2                      0                  0                  0   \n",
       "3                      0                  0                  0   \n",
       "4                      0                  0                  0   \n",
       "...                  ...                ...                ...   \n",
       "74404                  0                  0                  0   \n",
       "74405                  0                  0                  0   \n",
       "74406                  0                  0                  0   \n",
       "74407                  0                  0                  0   \n",
       "74408                  0                  0                  0   \n",
       "\n",
       "       Council Code_25.0  Council Code_26.0  Council Code_27.0  \\\n",
       "0                      0                  0                  0   \n",
       "1                      0                  0                  0   \n",
       "2                      0                  0                  0   \n",
       "3                      0                  0                  0   \n",
       "4                      0                  0                  0   \n",
       "...                  ...                ...                ...   \n",
       "74404                  0                  0                  0   \n",
       "74405                  0                  0                  0   \n",
       "74406                  0                  0                  0   \n",
       "74407                  0                  0                  0   \n",
       "74408                  0                  0                  0   \n",
       "\n",
       "       Council Code_28.0  Council Code_29.0  Council Code_30.0  \\\n",
       "0                      0                  0                  0   \n",
       "1                      0                  0                  0   \n",
       "2                      0                  0                  0   \n",
       "3                      0                  0                  0   \n",
       "4                      0                  0                  0   \n",
       "...                  ...                ...                ...   \n",
       "74404                  0                  0                  0   \n",
       "74405                  0                  0                  0   \n",
       "74406                  0                  0                  0   \n",
       "74407                  0                  0                  0   \n",
       "74408                  0                  0                  0   \n",
       "\n",
       "       Council Code_31.0  Council Code_32.0  Search Reason Code_2.0  \\\n",
       "0                      0                  0                       0   \n",
       "1                      0                  0                       0   \n",
       "2                      0                  0                       0   \n",
       "3                      0                  0                       0   \n",
       "4                      0                  0                       0   \n",
       "...                  ...                ...                     ...   \n",
       "74404                  0                  1                       0   \n",
       "74405                  0                  1                       0   \n",
       "74406                  0                  1                       0   \n",
       "74407                  0                  0                       0   \n",
       "74408                  0                  1                       0   \n",
       "\n",
       "       Search Reason Code_3.0  Search Reason Code_4.0  Search Reason Code_9.0  \\\n",
       "0                           0                       0                       0   \n",
       "1                           0                       0                       0   \n",
       "2                           0                       0                       0   \n",
       "3                           0                       0                       0   \n",
       "4                           0                       0                       0   \n",
       "...                       ...                     ...                     ...   \n",
       "74404                       0                       0                       0   \n",
       "74405                       0                       0                       0   \n",
       "74406                       0                       0                       0   \n",
       "74407                       0                       0                       0   \n",
       "74408                       0                       0                       0   \n",
       "\n",
       "       Search Reason Code_10.0  Search Reason Code_11.0  \\\n",
       "0                            0                        0   \n",
       "1                            0                        0   \n",
       "2                            0                        0   \n",
       "3                            0                        0   \n",
       "4                            0                        0   \n",
       "...                        ...                      ...   \n",
       "74404                        0                        0   \n",
       "74405                        0                        0   \n",
       "74406                        0                        0   \n",
       "74407                        0                        0   \n",
       "74408                        0                        0   \n",
       "\n",
       "       Search Reason Code_12.0  Search Reason Code_14.0  \\\n",
       "0                            0                        0   \n",
       "1                            0                        0   \n",
       "2                            0                        0   \n",
       "3                            0                        0   \n",
       "4                            0                        0   \n",
       "...                        ...                      ...   \n",
       "74404                        0                        0   \n",
       "74405                        0                        0   \n",
       "74406                        0                        0   \n",
       "74407                        0                        0   \n",
       "74408                        0                        0   \n",
       "\n",
       "       Search Reason Code_17.0  Search Reason Code_19.0  \\\n",
       "0                            0                        0   \n",
       "1                            0                        0   \n",
       "2                            0                        0   \n",
       "3                            0                        0   \n",
       "4                            0                        0   \n",
       "...                        ...                      ...   \n",
       "74404                        0                        0   \n",
       "74405                        0                        0   \n",
       "74406                        0                        0   \n",
       "74407                        0                        0   \n",
       "74408                        0                        0   \n",
       "\n",
       "       Search Reason Code_20.0  Search Reason Code_21.0  \\\n",
       "0                            0                        0   \n",
       "1                            0                        1   \n",
       "2                            0                        1   \n",
       "3                            0                        0   \n",
       "4                            0                        0   \n",
       "...                        ...                      ...   \n",
       "74404                        0                        0   \n",
       "74405                        0                        0   \n",
       "74406                        0                        0   \n",
       "74407                        0                        0   \n",
       "74408                        0                        0   \n",
       "\n",
       "       Search Reason Code_22.0  Search Reason Code_23.0  Total_population  \\\n",
       "0                            0                        0           16832.0   \n",
       "1                            0                        0           16101.0   \n",
       "2                            0                        0           16101.0   \n",
       "3                            0                        0           20801.0   \n",
       "4                            0                        0           15236.0   \n",
       "...                        ...                      ...               ...   \n",
       "74404                        0                        0            9799.0   \n",
       "74405                        0                        0            9799.0   \n",
       "74406                        0                        0            9799.0   \n",
       "74407                        0                        0           10558.0   \n",
       "74408                        0                        0            9799.0   \n",
       "\n",
       "       Working_Age_population  income_count  employment_count         CIF  \\\n",
       "0                     10861.0    137.367098         66.203244  130.752139   \n",
       "1                     10908.0    111.354326         58.894106  101.169493   \n",
       "2                     10908.0    111.354326         58.894106  101.169493   \n",
       "3                     17835.0     83.770924         61.538243   81.550406   \n",
       "4                      9789.0     81.807889         43.692898   90.334077   \n",
       "...                       ...           ...               ...         ...   \n",
       "74404                  5715.0     68.070313         26.798347   75.528625   \n",
       "74405                  5715.0     68.070313         26.798347   75.528625   \n",
       "74406                  5715.0     68.070313         26.798347   75.528625   \n",
       "74407                  6110.0     71.942224         31.917409   79.966376   \n",
       "74408                  5715.0     68.070313         26.798347   75.528625   \n",
       "\n",
       "          ALCOHOL        DRUG         SMR   DEPRESS      LBWT       EMERG  \\\n",
       "0      153.641754  210.202353  125.896091  0.208168  0.065564  144.632842   \n",
       "1      149.910068  142.432209  111.925781  0.186531  0.052552  114.053475   \n",
       "2      149.910068  142.432209  111.925781  0.186531  0.052552  114.053475   \n",
       "3      125.521513  101.328398  113.511177  0.133666  0.047873   89.709822   \n",
       "4      112.810449  112.117288   98.564321  0.182332  0.049067  104.452087   \n",
       "...           ...         ...         ...       ...       ...         ...   \n",
       "74404   18.427084   36.439433   64.807429  0.153739  0.038883   49.682519   \n",
       "74405   18.427084   36.439433   64.807429  0.153739  0.038883   49.682519   \n",
       "74406   18.427084   36.439433   64.807429  0.153739  0.038883   49.682519   \n",
       "74407   52.563743   23.068384   84.988255  0.181353  0.057391   95.949801   \n",
       "74408   18.427084   36.439433   64.807429  0.153739  0.038883   49.682519   \n",
       "\n",
       "       Attendance  Attainment  no_qualifications  not_participating  \\\n",
       "0        0.717498    4.888793         151.627792           0.073459   \n",
       "1        0.763612    5.297681         102.113161           0.050899   \n",
       "2        0.763612    5.297681         102.113161           0.050899   \n",
       "3        0.728000    5.044630          75.173597           0.081155   \n",
       "4        0.842833    5.451705          90.662707           0.033264   \n",
       "...           ...         ...                ...                ...   \n",
       "74404    0.846743    5.614936         121.917645           0.024841   \n",
       "74405    0.846743    5.614936         121.917645           0.024841   \n",
       "74406    0.846743    5.614936         121.917645           0.024841   \n",
       "74407    0.823430    5.613980          96.190377           0.025328   \n",
       "74408    0.846743    5.614936         121.917645           0.024841   \n",
       "\n",
       "       University  crime_count  overcrowded_count  nocentralheating_count  \\\n",
       "0        0.044571    31.619297         161.767407                7.486098   \n",
       "1        0.068252    39.660145         125.782995               12.249426   \n",
       "2        0.068252    39.660145         125.782995               12.249426   \n",
       "3        0.105169    58.428537         216.764434               40.309889   \n",
       "4        0.122464    21.939354          83.170255                6.709373   \n",
       "...           ...          ...                ...                     ...   \n",
       "74404    0.086924    16.276470          46.818247               13.771099   \n",
       "74405    0.086924    16.276470          46.818247               13.771099   \n",
       "74406    0.086924    16.276470          46.818247               13.771099   \n",
       "74407    0.095934    14.419866          51.325535               23.666793   \n",
       "74408    0.086924    16.276470          46.818247               13.771099   \n",
       "\n",
       "       drive_petrol  drive_GP  drive_post  drive_primary  drive_retail  \\\n",
       "0          3.721862  2.277164    2.217059       2.200752      3.132896   \n",
       "1          3.193064  2.740710    2.169105       2.690311      2.955071   \n",
       "2          3.193064  2.740710    2.169105       2.690311      2.955071   \n",
       "3          2.283231  1.874862    3.066539       2.549486      2.946118   \n",
       "4          4.408539  2.733658    2.554872       2.748820      5.310371   \n",
       "...             ...       ...         ...            ...           ...   \n",
       "74404      4.419889  4.119678    3.339694       3.052060      5.836578   \n",
       "74405      4.419889  4.119678    3.339694       3.052060      5.836578   \n",
       "74406      4.419889  4.119678    3.339694       3.052060      5.836578   \n",
       "74407      6.310870  4.814053    4.916282       3.945324      5.890155   \n",
       "74408      4.419889  4.119678    3.339694       3.052060      5.836578   \n",
       "\n",
       "       drive_secondary      PT_GP    PT_post  PT_retail  broadband  \\\n",
       "0             4.435181   7.857706   7.001653   8.411012   0.010021   \n",
       "1             3.767685   8.837237   7.539053   9.343500   0.017194   \n",
       "2             3.767685   8.837237   7.539053   9.343500   0.017194   \n",
       "3             4.350470   5.270951   6.716557   7.025144   0.103023   \n",
       "4             6.252334   8.881655   8.871633  16.444906   0.042190   \n",
       "...                ...        ...        ...        ...        ...   \n",
       "74404        11.428119  11.333052   9.433850  14.124586   0.191165   \n",
       "74405        11.428119  11.333052   9.433850  14.124586   0.191165   \n",
       "74406        11.428119  11.333052   9.433850  14.124586   0.191165   \n",
       "74407         8.216449  13.623541  12.152823  15.284462   0.189425   \n",
       "74408        11.428119  11.333052   9.433850  14.124586   0.191165   \n",
       "\n",
       "       drive_petrol_log  drive_GP_log  drive_post_log  drive_primary_log  \\\n",
       "0              1.314224      0.822931        0.796182           0.788799   \n",
       "1              1.160981      1.008217        0.774315           0.989657   \n",
       "2              1.160981      1.008217        0.774315           0.989657   \n",
       "3              0.825591      0.628535        1.120549           0.935892   \n",
       "4              1.483543      1.005640        0.938002           1.011172   \n",
       "...                 ...           ...             ...                ...   \n",
       "74404          1.486115      1.415775        1.205879           1.115817   \n",
       "74405          1.486115      1.415775        1.205879           1.115817   \n",
       "74406          1.486115      1.415775        1.205879           1.115817   \n",
       "74407          1.842274      1.571539        1.592553           1.372531   \n",
       "74408          1.486115      1.415775        1.205879           1.115817   \n",
       "\n",
       "       drive_retail_log  drive_secondary_log  PT_GP_log  PT_post_log  \\\n",
       "0              1.141958             1.489568   2.061495     1.946146   \n",
       "1              1.083523             1.326461   2.178974     2.020097   \n",
       "2              1.083523             1.326461   2.178974     2.020097   \n",
       "3              1.080489             1.470284   1.662211     1.904576   \n",
       "4              1.669662             1.832955   2.183988     2.182859   \n",
       "...                 ...                  ...        ...          ...   \n",
       "74404          1.764145             2.436077   2.427723     2.244304   \n",
       "74405          1.764145             2.436077   2.427723     2.244304   \n",
       "74406          1.764145             2.436077   2.427723     2.244304   \n",
       "74407          1.773282             2.106138   2.611799     2.497561   \n",
       "74408          1.764145             2.436077   2.427723     2.244304   \n",
       "\n",
       "       PT_retail_log  income_count_log  crime_count_log  \\\n",
       "0           2.129542          4.922657         3.453768   \n",
       "1           2.234681          4.712717         3.680347   \n",
       "2           2.234681          4.712717         3.680347   \n",
       "3           1.949496          4.428086         4.067804   \n",
       "4           2.800016          4.404374         3.088282   \n",
       "...              ...               ...              ...   \n",
       "74404       2.647917          4.220541         2.789721   \n",
       "74405       2.647917          4.220541         2.789721   \n",
       "74406       2.647917          4.220541         2.789721   \n",
       "74407       2.726837          4.275863         2.668607   \n",
       "74408       2.647917          4.220541         2.789721   \n",
       "\n",
       "       overcrowded_count_log  nocentralheating_count_log  broadband_log  \\\n",
       "0                   5.086160                    2.013048      -4.563895   \n",
       "1                   4.834558                    2.505479      -4.040199   \n",
       "2                   4.834558                    2.505479      -4.040199   \n",
       "3                   5.378811                    3.696597      -2.268929   \n",
       "4                   4.420890                    1.903505      -3.156131   \n",
       "...                      ...                         ...            ...   \n",
       "74404               3.846273                    2.622572      -1.652526   \n",
       "74405               3.846273                    2.622572      -1.652526   \n",
       "74406               3.846273                    2.622572      -1.652526   \n",
       "74407               3.938188                    3.164073      -1.661652   \n",
       "74408               3.846273                    2.622572      -1.652526   \n",
       "\n",
       "       employment_count_log  \n",
       "0                  4.192729  \n",
       "1                  4.075741  \n",
       "2                  4.075741  \n",
       "3                  4.119659  \n",
       "4                  3.777186  \n",
       "...                     ...  \n",
       "74404              3.288340  \n",
       "74405              3.288340  \n",
       "74406              3.288340  \n",
       "74407              3.463152  \n",
       "74408              3.288340  \n",
       "\n",
       "[74409 rows x 232 columns]"
      ],
      "text/html": "<div>\n<style scoped>\n    .dataframe tbody tr th:only-of-type {\n        vertical-align: middle;\n    }\n\n    .dataframe tbody tr th {\n        vertical-align: top;\n    }\n\n    .dataframe thead th {\n        text-align: right;\n    }\n</style>\n<table border=\"1\" class=\"dataframe\">\n  <thead>\n    <tr style=\"text-align: right;\">\n      <th></th>\n      <th>ward_code</th>\n      <th>Year</th>\n      <th>Month</th>\n      <th>Day of the Week</th>\n      <th>Time of the Day</th>\n      <th>Search Result</th>\n      <th>Nominal Age</th>\n      <th>Desc Drugs Found_Class B</th>\n      <th>Desc Drugs Found_Class C</th>\n      <th>Desc Drugs Found_Class A</th>\n      <th>Desc Off Weap Found_Other</th>\n      <th>Desc Other Items Found_Other</th>\n      <th>Desc Off Weap Found_Bladed Instrument</th>\n      <th>Desc Other Items Found_Firearms</th>\n      <th>Desc Off Weap Found_Pointed Article</th>\n      <th>Desc Other Items Found_Stolen Property</th>\n      <th>Desc Off Weap Found_Blunt Instrument</th>\n      <th>Desc Tobacco Found_Tobacco</th>\n      <th>Desc Other Items Found_Disposal Of Cash</th>\n      <th>Desc Alcohol Found_Beer</th>\n      <th>Desc Tobacco Found_Cigarette Papers</th>\n      <th>Desc Drugs Found_Nps</th>\n      <th>Desc Alcohol Found_Wine</th>\n      <th>Desc Alcohol Found_Spirits</th>\n      <th>Desc Other Items Found_Crossbows</th>\n      <th>Desc Other Items Found_Controlled Container</th>\n      <th>Desc Alcohol Found_Cider</th>\n      <th>Desc Other Items Found_Fireworks</th>\n      <th>Ethnic Group_2</th>\n      <th>Ethnic Group_3</th>\n      <th>Ethnic Group_4</th>\n      <th>Ethnic Group_5</th>\n      <th>Ethnic Group_6</th>\n      <th>Ethnic Group_7</th>\n      <th>Ethnic Group_8</th>\n      <th>Ethnic Group_9</th>\n      <th>Ethnic Group_10</th>\n      <th>Ethnic Group_11</th>\n      <th>Ethnic Group_12</th>\n      <th>Ethnic Group_13</th>\n      <th>Ethnic Group_14</th>\n      <th>Ethnic Group_15</th>\n      <th>Ethnic Group_16</th>\n      <th>Ethnic Group_17</th>\n      <th>Ethnic Group_18</th>\n      <th>Ethnic Group_19</th>\n      <th>Ethnic Group_20</th>\n      <th>Search Statute_CONTROLLED CONTAINERS - Sec 21 Criminal Law (Consolidation) (Scotland) Act 1995</th>\n      <th>Search Statute_CONTROLLLED ARTICLE OR SUBSTANCE - Sec 21 Criminal Law (Consolidation) (Scotland) Act 1995</th>\n      <th>Search Statute_Edinburgh Airport Byelaw 9(2) (Search in interest of public safety)</th>\n      <th>Search Statute_Sec 109(1) Copyright, Designs and Patents Act 1988 (Piracy and trademark offences etc)</th>\n      <th>Search Statute_Sec 11 of the Protection of Badgers Act 1992 (Wildlife Crime)</th>\n      <th>Search Statute_Sec 11A of the Fireworks Act 2003</th>\n      <th>Search Statute_Sec 19 of the Wildlife and Countryside Act 1981</th>\n      <th>Search Statute_Sec 20 &amp; 32 Police and Fire Reform (Scotland) Act 2012 (Other)</th>\n      <th>Search Statute_Sec 20 &amp; 32 Police and Fire Reform (Scotland) Act 2012 (Protection of Life)</th>\n      <th>Search Statute_Sec 23(2) of the Misuse of Drugs Act 1971 (Drugs)</th>\n      <th>Search Statute_Sec 23(3) Misuse Of Drugs Act 1971</th>\n      <th>Search Statute_Sec 23A of the Misuse of Drugs Act 1971 (Drugs)</th>\n      <th>Search Statute_Sec 24(1) Forgery and Counterfeiting Act, 1981 (Search for counterfeit money)</th>\n      <th>Search Statute_Sec 27 Deer (Scotland) Act 1996</th>\n      <th>Search Statute_Sec 289 Proceeds of Crime Act 2002 (Cash)</th>\n      <th>Search Statute_Sec 4 of the Crossbows Act 1987</th>\n      <th>Search Statute_Sec 46(1) Firearms Act 1968</th>\n      <th>Search Statute_Sec 47(1) Firearms Act 1968 (Firearms)</th>\n      <th>Search Statute_Sec 48(1) of the Criminal Law (Consolidation) (Scotland) Act 1995 (Offensive Weapon)</th>\n      <th>Search Statute_Sec 49B of the Criminal Law (Consolidation) (Scotland) Act 1995 (Bladed Weapon/Offensive Weapon Schools)</th>\n      <th>Search Statute_Sec 50 of the Criminal Law (Consolidation) (Scotland) Act 1995 (Bladed Weapon)</th>\n      <th>Search Statute_Sec 53(1) of The Salmon and Freshwater Fisheries (Consolidation)(Scotland) Act 2003</th>\n      <th>Search Statute_Sec 60 Criminal Justice and Public Order Act 1994</th>\n      <th>Search Statute_Sec 60(1) Civic Government (Scotland) Act 1982 (Stolen Property)</th>\n      <th>Search Statute_Sec 66 Criminal Justice (Scotland) Act 2016 (Removal of person)</th>\n      <th>Search Statute_Sec 7 of the Wild Mammals (Scotland) Act 2002 (Wildlife Crime)</th>\n      <th>Search Statute_Warrant - Other</th>\n      <th>Nominal Gender_Male</th>\n      <th>Nominal Physical Search Type_STRIP_IS</th>\n      <th>Nominal Physical Search Type_STRIP_OS</th>\n      <th>Command Code_2.0</th>\n      <th>Command Code_3.0</th>\n      <th>Division Code_3.0</th>\n      <th>Division Code_4.0</th>\n      <th>Division Code_5.0</th>\n      <th>Division Code_6.0</th>\n      <th>Division Code_7.0</th>\n      <th>Division Code_8.0</th>\n      <th>Division Code_9.0</th>\n      <th>Division Code_10.0</th>\n      <th>Division Code_11.0</th>\n      <th>Division Code_12.0</th>\n      <th>Division Code_13.0</th>\n      <th>Division Code_14.0</th>\n      <th>Area Command Code_3.0</th>\n      <th>Area Command Code_4.0</th>\n      <th>Area Command Code_6.0</th>\n      <th>Area Command Code_7.0</th>\n      <th>Area Command Code_8.0</th>\n      <th>Area Command Code_10.0</th>\n      <th>Area Command Code_11.0</th>\n      <th>Area Command Code_13.0</th>\n      <th>Area Command Code_14.0</th>\n      <th>Area Command Code_15.0</th>\n      <th>Area Command Code_16.0</th>\n      <th>Area Command Code_17.0</th>\n      <th>Area Command Code_18.0</th>\n      <th>Area Command Code_20.0</th>\n      <th>Area Command Code_21.0</th>\n      <th>Area Command Code_22.0</th>\n      <th>Area Command Code_24.0</th>\n      <th>Area Command Code_25.0</th>\n      <th>Area Command Code_27.0</th>\n      <th>Area Command Code_28.0</th>\n      <th>Area Command Code_29.0</th>\n      <th>Area Command Code_30.0</th>\n      <th>Area Command Code_31.0</th>\n      <th>Area Command Code_32.0</th>\n      <th>Area Command Code_34.0</th>\n      <th>Area Command Code_35.0</th>\n      <th>Area Command Code_38.0</th>\n      <th>Area Command Code_40.0</th>\n      <th>Area Command Code_42.0</th>\n      <th>Area Command Code_45.0</th>\n      <th>Area Command Code_46.0</th>\n      <th>Area Command Code_47.0</th>\n      <th>Area Command Code_49.0</th>\n      <th>Area Command Code_50.0</th>\n      <th>Area Command Code_52.0</th>\n      <th>Area Command Code_53.0</th>\n      <th>Area Command Code_54.0</th>\n      <th>Area Command Code_55.0</th>\n      <th>Area Command Code_56.0</th>\n      <th>Area Command Code_57.0</th>\n      <th>Area Command Code_59.0</th>\n      <th>Area Command Code_60.0</th>\n      <th>Area Command Code_61.0</th>\n      <th>Area Command Code_62.0</th>\n      <th>Area Command Code_64.0</th>\n      <th>Area Command Code_65.0</th>\n      <th>Area Command Code_66.0</th>\n      <th>Area Command Code_68.0</th>\n      <th>Area Command Code_69.0</th>\n      <th>Area Command Code_70.0</th>\n      <th>Area Command Code_71.0</th>\n      <th>Area Command Code_73.0</th>\n      <th>Council Code_2.0</th>\n      <th>Council Code_3.0</th>\n      <th>Council Code_4.0</th>\n      <th>Council Code_5.0</th>\n      <th>Council Code_6.0</th>\n      <th>Council Code_7.0</th>\n      <th>Council Code_8.0</th>\n      <th>Council Code_9.0</th>\n      <th>Council Code_10.0</th>\n      <th>Council Code_11.0</th>\n      <th>Council Code_12.0</th>\n      <th>Council Code_13.0</th>\n      <th>Council Code_14.0</th>\n      <th>Council Code_15.0</th>\n      <th>Council Code_16.0</th>\n      <th>Council Code_17.0</th>\n      <th>Council Code_18.0</th>\n      <th>Council Code_19.0</th>\n      <th>Council Code_20.0</th>\n      <th>Council Code_21.0</th>\n      <th>Council Code_22.0</th>\n      <th>Council Code_23.0</th>\n      <th>Council Code_24.0</th>\n      <th>Council Code_25.0</th>\n      <th>Council Code_26.0</th>\n      <th>Council Code_27.0</th>\n      <th>Council Code_28.0</th>\n      <th>Council Code_29.0</th>\n      <th>Council Code_30.0</th>\n      <th>Council Code_31.0</th>\n      <th>Council Code_32.0</th>\n      <th>Search Reason Code_2.0</th>\n      <th>Search Reason Code_3.0</th>\n      <th>Search Reason Code_4.0</th>\n      <th>Search Reason Code_9.0</th>\n      <th>Search Reason Code_10.0</th>\n      <th>Search Reason Code_11.0</th>\n      <th>Search Reason Code_12.0</th>\n      <th>Search Reason Code_14.0</th>\n      <th>Search Reason Code_17.0</th>\n      <th>Search Reason Code_19.0</th>\n      <th>Search Reason Code_20.0</th>\n      <th>Search Reason Code_21.0</th>\n      <th>Search Reason Code_22.0</th>\n      <th>Search Reason Code_23.0</th>\n      <th>Total_population</th>\n      <th>Working_Age_population</th>\n      <th>income_count</th>\n      <th>employment_count</th>\n      <th>CIF</th>\n      <th>ALCOHOL</th>\n      <th>DRUG</th>\n      <th>SMR</th>\n      <th>DEPRESS</th>\n      <th>LBWT</th>\n      <th>EMERG</th>\n      <th>Attendance</th>\n      <th>Attainment</th>\n      <th>no_qualifications</th>\n      <th>not_participating</th>\n      <th>University</th>\n      <th>crime_count</th>\n      <th>overcrowded_count</th>\n      <th>nocentralheating_count</th>\n      <th>drive_petrol</th>\n      <th>drive_GP</th>\n      <th>drive_post</th>\n      <th>drive_primary</th>\n      <th>drive_retail</th>\n      <th>drive_secondary</th>\n      <th>PT_GP</th>\n      <th>PT_post</th>\n      <th>PT_retail</th>\n      <th>broadband</th>\n      <th>drive_petrol_log</th>\n      <th>drive_GP_log</th>\n      <th>drive_post_log</th>\n      <th>drive_primary_log</th>\n      <th>drive_retail_log</th>\n      <th>drive_secondary_log</th>\n      <th>PT_GP_log</th>\n      <th>PT_post_log</th>\n      <th>PT_retail_log</th>\n      <th>income_count_log</th>\n      <th>crime_count_log</th>\n      <th>overcrowded_count_log</th>\n      <th>nocentralheating_count_log</th>\n      <th>broadband_log</th>\n      <th>employment_count_log</th>\n    </tr>\n  </thead>\n  <tbody>\n    <tr>\n      <th>0</th>\n      <td>S13002838</td>\n      <td>2020</td>\n      <td>December</td>\n      <td>Thursday</td>\n      <td>14:00:00</td>\n      <td>1</td>\n      <td>38</td>\n      <td>1</td>\n      <td>0</td>\n      <td>0</td>\n      <td>0</td>\n      <td>0</td>\n      <td>0</td>\n      <td>0</td>\n      <td>0</td>\n      <td>0</td>\n      <td>0</td>\n      <td>0</td>\n      <td>0</td>\n      <td>0</td>\n      <td>0</td>\n      <td>0</td>\n      <td>0</td>\n      <td>0</td>\n      <td>0</td>\n      <td>0</td>\n      <td>0</td>\n      <td>0</td>\n      <td>0</td>\n      <td>0</td>\n      <td>0</td>\n      <td>0</td>\n      <td>0</td>\n      <td>0</td>\n      <td>1</td>\n      <td>0</td>\n      <td>0</td>\n      <td>0</td>\n      <td>0</td>\n      <td>0</td>\n      <td>0</td>\n      <td>0</td>\n      <td>0</td>\n      <td>0</td>\n      <td>0</td>\n      <td>0</td>\n      <td>0</td>\n      <td>0</td>\n      <td>0</td>\n      <td>0</td>\n      <td>0</td>\n      <td>0</td>\n      <td>0</td>\n      <td>0</td>\n      <td>0</td>\n      <td>0</td>\n      <td>1</td>\n      <td>0</td>\n      <td>0</td>\n      <td>0</td>\n      <td>0</td>\n      <td>0</td>\n      <td>0</td>\n      <td>0</td>\n      <td>0</td>\n      <td>0</td>\n      <td>0</td>\n      <td>0</td>\n      <td>0</td>\n      <td>0</td>\n      <td>0</td>\n      <td>0</td>\n      <td>0</td>\n      <td>0</td>\n      <td>1</td>\n      <td>0</td>\n      <td>0</td>\n      <td>0</td>\n      <td>0</td>\n      <td>0</td>\n      <td>0</td>\n      <td>0</td>\n      <td>0</td>\n      <td>0</td>\n      <td>0</td>\n      <td>0</td>\n      <td>0</td>\n      <td>0</td>\n      <td>0</td>\n      <td>0</td>\n      <td>0</td>\n      <td>0</td>\n      <td>0</td>\n      <td>0</td>\n      <td>0</td>\n      <td>0</td>\n      <td>0</td>\n      <td>0</td>\n      <td>0</td>\n      <td>0</td>\n      <td>0</td>\n      <td>0</td>\n      <td>0</td>\n      <td>0</td>\n      <td>0</td>\n      <td>0</td>\n      <td>0</td>\n      <td>0</td>\n      <td>0</td>\n      <td>0</td>\n      <td>0</td>\n      <td>0</td>\n      <td>0</td>\n      <td>0</td>\n      <td>0</td>\n      <td>0</td>\n      <td>0</td>\n      <td>0</td>\n      <td>0</td>\n      <td>0</td>\n      <td>0</td>\n      <td>0</td>\n      <td>0</td>\n      <td>0</td>\n      <td>0</td>\n      <td>0</td>\n      <td>0</td>\n      <td>0</td>\n      <td>0</td>\n      <td>0</td>\n      <td>0</td>\n      <td>0</td>\n      <td>0</td>\n      <td>0</td>\n      <td>0</td>\n      <td>0</td>\n      <td>0</td>\n      <td>0</td>\n      <td>0</td>\n      <td>0</td>\n      <td>0</td>\n      <td>0</td>\n      <td>0</td>\n      <td>0</td>\n      <td>0</td>\n      <td>0</td>\n      <td>0</td>\n      <td>0</td>\n      <td>0</td>\n      <td>0</td>\n      <td>0</td>\n      <td>0</td>\n      <td>0</td>\n      <td>0</td>\n      <td>0</td>\n      <td>0</td>\n      <td>0</td>\n      <td>0</td>\n      <td>0</td>\n      <td>0</td>\n      <td>0</td>\n      <td>0</td>\n      <td>0</td>\n      <td>0</td>\n      <td>0</td>\n      <td>0</td>\n      <td>0</td>\n      <td>0</td>\n      <td>0</td>\n      <td>0</td>\n      <td>0</td>\n      <td>0</td>\n      <td>0</td>\n      <td>0</td>\n      <td>0</td>\n      <td>0</td>\n      <td>0</td>\n      <td>0</td>\n      <td>0</td>\n      <td>0</td>\n      <td>0</td>\n      <td>0</td>\n      <td>0</td>\n      <td>0</td>\n      <td>0</td>\n      <td>0</td>\n      <td>0</td>\n      <td>0</td>\n      <td>16832.0</td>\n      <td>10861.0</td>\n      <td>137.367098</td>\n      <td>66.203244</td>\n      <td>130.752139</td>\n      <td>153.641754</td>\n      <td>210.202353</td>\n      <td>125.896091</td>\n      <td>0.208168</td>\n      <td>0.065564</td>\n      <td>144.632842</td>\n      <td>0.717498</td>\n      <td>4.888793</td>\n      <td>151.627792</td>\n      <td>0.073459</td>\n      <td>0.044571</td>\n      <td>31.619297</td>\n      <td>161.767407</td>\n      <td>7.486098</td>\n      <td>3.721862</td>\n      <td>2.277164</td>\n      <td>2.217059</td>\n      <td>2.200752</td>\n      <td>3.132896</td>\n      <td>4.435181</td>\n      <td>7.857706</td>\n      <td>7.001653</td>\n      <td>8.411012</td>\n      <td>0.010021</td>\n      <td>1.314224</td>\n      <td>0.822931</td>\n      <td>0.796182</td>\n      <td>0.788799</td>\n      <td>1.141958</td>\n      <td>1.489568</td>\n      <td>2.061495</td>\n      <td>1.946146</td>\n      <td>2.129542</td>\n      <td>4.922657</td>\n      <td>3.453768</td>\n      <td>5.086160</td>\n      <td>2.013048</td>\n      <td>-4.563895</td>\n      <td>4.192729</td>\n    </tr>\n    <tr>\n      <th>1</th>\n      <td>S13002839</td>\n      <td>2020</td>\n      <td>December</td>\n      <td>Thursday</td>\n      <td>08:20:00</td>\n      <td>1</td>\n      <td>38</td>\n      <td>1</td>\n      <td>0</td>\n      <td>0</td>\n      <td>0</td>\n      <td>0</td>\n      <td>0</td>\n      <td>0</td>\n      <td>0</td>\n      <td>0</td>\n      <td>0</td>\n      <td>0</td>\n      <td>0</td>\n      <td>0</td>\n      <td>0</td>\n      <td>0</td>\n      <td>0</td>\n      <td>0</td>\n      <td>0</td>\n      <td>0</td>\n      <td>0</td>\n      <td>0</td>\n      <td>1</td>\n      <td>0</td>\n      <td>0</td>\n      <td>0</td>\n      <td>0</td>\n      <td>0</td>\n      <td>0</td>\n      <td>0</td>\n      <td>0</td>\n      <td>0</td>\n      <td>0</td>\n      <td>0</td>\n      <td>0</td>\n      <td>0</td>\n      <td>0</td>\n      <td>0</td>\n      <td>0</td>\n      <td>0</td>\n      <td>0</td>\n      <td>0</td>\n      <td>0</td>\n      <td>0</td>\n      <td>0</td>\n      <td>0</td>\n      <td>0</td>\n      <td>0</td>\n      <td>0</td>\n      <td>0</td>\n      <td>0</td>\n      <td>1</td>\n      <td>0</td>\n      <td>0</td>\n      <td>0</td>\n      <td>0</td>\n      <td>0</td>\n      <td>0</td>\n      <td>0</td>\n      <td>0</td>\n      <td>0</td>\n      <td>0</td>\n      <td>0</td>\n      <td>0</td>\n      <td>0</td>\n      <td>0</td>\n      <td>0</td>\n      <td>0</td>\n      <td>1</td>\n      <td>0</td>\n      <td>0</td>\n      <td>0</td>\n      <td>0</td>\n      <td>0</td>\n      <td>0</td>\n      <td>0</td>\n      <td>0</td>\n      <td>0</td>\n      <td>0</td>\n      <td>0</td>\n      <td>0</td>\n      <td>0</td>\n      <td>0</td>\n      <td>0</td>\n      <td>0</td>\n      <td>0</td>\n      <td>0</td>\n      <td>0</td>\n      <td>0</td>\n      <td>0</td>\n      <td>0</td>\n      <td>0</td>\n      <td>0</td>\n      <td>0</td>\n      <td>0</td>\n      <td>0</td>\n      <td>0</td>\n      <td>0</td>\n      <td>0</td>\n      <td>0</td>\n      <td>0</td>\n      <td>0</td>\n      <td>0</td>\n      <td>0</td>\n      <td>0</td>\n      <td>0</td>\n      <td>0</td>\n      <td>0</td>\n      <td>0</td>\n      <td>0</td>\n      <td>0</td>\n      <td>0</td>\n      <td>0</td>\n      <td>0</td>\n      <td>0</td>\n      <td>0</td>\n      <td>0</td>\n      <td>0</td>\n      <td>0</td>\n      <td>0</td>\n      <td>0</td>\n      <td>0</td>\n      <td>0</td>\n      <td>0</td>\n      <td>0</td>\n      <td>0</td>\n      <td>0</td>\n      <td>0</td>\n      <td>0</td>\n      <td>0</td>\n      <td>0</td>\n      <td>0</td>\n      <td>0</td>\n      <td>0</td>\n      <td>0</td>\n      <td>0</td>\n      <td>0</td>\n      <td>0</td>\n      <td>0</td>\n      <td>0</td>\n      <td>0</td>\n      <td>0</td>\n      <td>0</td>\n      <td>0</td>\n      <td>0</td>\n      <td>0</td>\n      <td>0</td>\n      <td>0</td>\n      <td>0</td>\n      <td>0</td>\n      <td>0</td>\n      <td>0</td>\n      <td>0</td>\n      <td>0</td>\n      <td>0</td>\n      <td>0</td>\n      <td>0</td>\n      <td>0</td>\n      <td>0</td>\n      <td>0</td>\n      <td>0</td>\n      <td>0</td>\n      <td>0</td>\n      <td>0</td>\n      <td>0</td>\n      <td>0</td>\n      <td>0</td>\n      <td>0</td>\n      <td>0</td>\n      <td>0</td>\n      <td>0</td>\n      <td>0</td>\n      <td>0</td>\n      <td>0</td>\n      <td>0</td>\n      <td>0</td>\n      <td>0</td>\n      <td>0</td>\n      <td>0</td>\n      <td>1</td>\n      <td>0</td>\n      <td>0</td>\n      <td>16101.0</td>\n      <td>10908.0</td>\n      <td>111.354326</td>\n      <td>58.894106</td>\n      <td>101.169493</td>\n      <td>149.910068</td>\n      <td>142.432209</td>\n      <td>111.925781</td>\n      <td>0.186531</td>\n      <td>0.052552</td>\n      <td>114.053475</td>\n      <td>0.763612</td>\n      <td>5.297681</td>\n      <td>102.113161</td>\n      <td>0.050899</td>\n      <td>0.068252</td>\n      <td>39.660145</td>\n      <td>125.782995</td>\n      <td>12.249426</td>\n      <td>3.193064</td>\n      <td>2.740710</td>\n      <td>2.169105</td>\n      <td>2.690311</td>\n      <td>2.955071</td>\n      <td>3.767685</td>\n      <td>8.837237</td>\n      <td>7.539053</td>\n      <td>9.343500</td>\n      <td>0.017194</td>\n      <td>1.160981</td>\n      <td>1.008217</td>\n      <td>0.774315</td>\n      <td>0.989657</td>\n      <td>1.083523</td>\n      <td>1.326461</td>\n      <td>2.178974</td>\n      <td>2.020097</td>\n      <td>2.234681</td>\n      <td>4.712717</td>\n      <td>3.680347</td>\n      <td>4.834558</td>\n      <td>2.505479</td>\n      <td>-4.040199</td>\n      <td>4.075741</td>\n    </tr>\n    <tr>\n      <th>2</th>\n      <td>S13002839</td>\n      <td>2020</td>\n      <td>December</td>\n      <td>Thursday</td>\n      <td>08:20:00</td>\n      <td>1</td>\n      <td>39</td>\n      <td>1</td>\n      <td>0</td>\n      <td>0</td>\n      <td>0</td>\n      <td>0</td>\n      <td>0</td>\n      <td>0</td>\n      <td>0</td>\n      <td>0</td>\n      <td>0</td>\n      <td>0</td>\n      <td>0</td>\n      <td>0</td>\n      <td>0</td>\n      <td>0</td>\n      <td>0</td>\n      <td>0</td>\n      <td>0</td>\n      <td>0</td>\n      <td>0</td>\n      <td>0</td>\n      <td>1</td>\n      <td>0</td>\n      <td>0</td>\n      <td>0</td>\n      <td>0</td>\n      <td>0</td>\n      <td>0</td>\n      <td>0</td>\n      <td>0</td>\n      <td>0</td>\n      <td>0</td>\n      <td>0</td>\n      <td>0</td>\n      <td>0</td>\n      <td>0</td>\n      <td>0</td>\n      <td>0</td>\n      <td>0</td>\n      <td>0</td>\n      <td>0</td>\n      <td>0</td>\n      <td>0</td>\n      <td>0</td>\n      <td>0</td>\n      <td>0</td>\n      <td>0</td>\n      <td>0</td>\n      <td>0</td>\n      <td>0</td>\n      <td>1</td>\n      <td>0</td>\n      <td>0</td>\n      <td>0</td>\n      <td>0</td>\n      <td>0</td>\n      <td>0</td>\n      <td>0</td>\n      <td>0</td>\n      <td>0</td>\n      <td>0</td>\n      <td>0</td>\n      <td>0</td>\n      <td>0</td>\n      <td>0</td>\n      <td>0</td>\n      <td>0</td>\n      <td>1</td>\n      <td>0</td>\n      <td>0</td>\n      <td>0</td>\n      <td>0</td>\n      <td>0</td>\n      <td>0</td>\n      <td>0</td>\n      <td>0</td>\n      <td>0</td>\n      <td>0</td>\n      <td>0</td>\n      <td>0</td>\n      <td>0</td>\n      <td>0</td>\n      <td>0</td>\n      <td>0</td>\n      <td>0</td>\n      <td>0</td>\n      <td>0</td>\n      <td>0</td>\n      <td>0</td>\n      <td>0</td>\n      <td>0</td>\n      <td>0</td>\n      <td>0</td>\n      <td>0</td>\n      <td>0</td>\n      <td>0</td>\n      <td>0</td>\n      <td>0</td>\n      <td>0</td>\n      <td>0</td>\n      <td>0</td>\n      <td>0</td>\n      <td>0</td>\n      <td>0</td>\n      <td>0</td>\n      <td>0</td>\n      <td>0</td>\n      <td>0</td>\n      <td>0</td>\n      <td>0</td>\n      <td>0</td>\n      <td>0</td>\n      <td>0</td>\n      <td>0</td>\n      <td>0</td>\n      <td>0</td>\n      <td>0</td>\n      <td>0</td>\n      <td>0</td>\n      <td>0</td>\n      <td>0</td>\n      <td>0</td>\n      <td>0</td>\n      <td>0</td>\n      <td>0</td>\n      <td>0</td>\n      <td>0</td>\n      <td>0</td>\n      <td>0</td>\n      <td>0</td>\n      <td>0</td>\n      <td>0</td>\n      <td>0</td>\n      <td>0</td>\n      <td>0</td>\n      <td>0</td>\n      <td>0</td>\n      <td>0</td>\n      <td>0</td>\n      <td>0</td>\n      <td>0</td>\n      <td>0</td>\n      <td>0</td>\n      <td>0</td>\n      <td>0</td>\n      <td>0</td>\n      <td>0</td>\n      <td>0</td>\n      <td>0</td>\n      <td>0</td>\n      <td>0</td>\n      <td>0</td>\n      <td>0</td>\n      <td>0</td>\n      <td>0</td>\n      <td>0</td>\n      <td>0</td>\n      <td>0</td>\n      <td>0</td>\n      <td>0</td>\n      <td>0</td>\n      <td>0</td>\n      <td>0</td>\n      <td>0</td>\n      <td>0</td>\n      <td>0</td>\n      <td>0</td>\n      <td>0</td>\n      <td>0</td>\n      <td>0</td>\n      <td>0</td>\n      <td>0</td>\n      <td>0</td>\n      <td>0</td>\n      <td>0</td>\n      <td>0</td>\n      <td>0</td>\n      <td>0</td>\n      <td>1</td>\n      <td>0</td>\n      <td>0</td>\n      <td>16101.0</td>\n      <td>10908.0</td>\n      <td>111.354326</td>\n      <td>58.894106</td>\n      <td>101.169493</td>\n      <td>149.910068</td>\n      <td>142.432209</td>\n      <td>111.925781</td>\n      <td>0.186531</td>\n      <td>0.052552</td>\n      <td>114.053475</td>\n      <td>0.763612</td>\n      <td>5.297681</td>\n      <td>102.113161</td>\n      <td>0.050899</td>\n      <td>0.068252</td>\n      <td>39.660145</td>\n      <td>125.782995</td>\n      <td>12.249426</td>\n      <td>3.193064</td>\n      <td>2.740710</td>\n      <td>2.169105</td>\n      <td>2.690311</td>\n      <td>2.955071</td>\n      <td>3.767685</td>\n      <td>8.837237</td>\n      <td>7.539053</td>\n      <td>9.343500</td>\n      <td>0.017194</td>\n      <td>1.160981</td>\n      <td>1.008217</td>\n      <td>0.774315</td>\n      <td>0.989657</td>\n      <td>1.083523</td>\n      <td>1.326461</td>\n      <td>2.178974</td>\n      <td>2.020097</td>\n      <td>2.234681</td>\n      <td>4.712717</td>\n      <td>3.680347</td>\n      <td>4.834558</td>\n      <td>2.505479</td>\n      <td>-4.040199</td>\n      <td>4.075741</td>\n    </tr>\n    <tr>\n      <th>3</th>\n      <td>S13002842</td>\n      <td>2020</td>\n      <td>December</td>\n      <td>Thursday</td>\n      <td>03:30:00</td>\n      <td>0</td>\n      <td>28</td>\n      <td>0</td>\n      <td>0</td>\n      <td>0</td>\n      <td>0</td>\n      <td>0</td>\n      <td>0</td>\n      <td>0</td>\n      <td>0</td>\n      <td>0</td>\n      <td>0</td>\n      <td>0</td>\n      <td>0</td>\n      <td>0</td>\n      <td>0</td>\n      <td>0</td>\n      <td>0</td>\n      <td>0</td>\n      <td>0</td>\n      <td>0</td>\n      <td>0</td>\n      <td>0</td>\n      <td>0</td>\n      <td>0</td>\n      <td>0</td>\n      <td>0</td>\n      <td>0</td>\n      <td>0</td>\n      <td>0</td>\n      <td>0</td>\n      <td>0</td>\n      <td>0</td>\n      <td>0</td>\n      <td>0</td>\n      <td>0</td>\n      <td>0</td>\n      <td>0</td>\n      <td>0</td>\n      <td>0</td>\n      <td>0</td>\n      <td>0</td>\n      <td>0</td>\n      <td>0</td>\n      <td>0</td>\n      <td>0</td>\n      <td>0</td>\n      <td>0</td>\n      <td>0</td>\n      <td>0</td>\n      <td>0</td>\n      <td>1</td>\n      <td>0</td>\n      <td>0</td>\n      <td>0</td>\n      <td>0</td>\n      <td>0</td>\n      <td>0</td>\n      <td>0</td>\n      <td>0</td>\n      <td>0</td>\n      <td>0</td>\n      <td>0</td>\n      <td>0</td>\n      <td>0</td>\n      <td>0</td>\n      <td>0</td>\n      <td>0</td>\n      <td>0</td>\n      <td>1</td>\n      <td>0</td>\n      <td>0</td>\n      <td>0</td>\n      <td>0</td>\n      <td>0</td>\n      <td>0</td>\n      <td>0</td>\n      <td>0</td>\n      <td>0</td>\n      <td>0</td>\n      <td>0</td>\n      <td>0</td>\n      <td>0</td>\n      <td>0</td>\n      <td>0</td>\n      <td>0</td>\n      <td>0</td>\n      <td>0</td>\n      <td>0</td>\n      <td>0</td>\n      <td>0</td>\n      <td>0</td>\n      <td>0</td>\n      <td>0</td>\n      <td>0</td>\n      <td>0</td>\n      <td>0</td>\n      <td>0</td>\n      <td>0</td>\n      <td>0</td>\n      <td>0</td>\n      <td>0</td>\n      <td>0</td>\n      <td>0</td>\n      <td>0</td>\n      <td>0</td>\n      <td>0</td>\n      <td>0</td>\n      <td>0</td>\n      <td>0</td>\n      <td>0</td>\n      <td>0</td>\n      <td>0</td>\n      <td>0</td>\n      <td>0</td>\n      <td>0</td>\n      <td>0</td>\n      <td>0</td>\n      <td>0</td>\n      <td>0</td>\n      <td>0</td>\n      <td>0</td>\n      <td>0</td>\n      <td>0</td>\n      <td>0</td>\n      <td>0</td>\n      <td>0</td>\n      <td>0</td>\n      <td>0</td>\n      <td>0</td>\n      <td>0</td>\n      <td>0</td>\n      <td>0</td>\n      <td>0</td>\n      <td>0</td>\n      <td>0</td>\n      <td>0</td>\n      <td>0</td>\n      <td>0</td>\n      <td>0</td>\n      <td>0</td>\n      <td>0</td>\n      <td>0</td>\n      <td>0</td>\n      <td>0</td>\n      <td>0</td>\n      <td>0</td>\n      <td>0</td>\n      <td>0</td>\n      <td>0</td>\n      <td>0</td>\n      <td>0</td>\n      <td>0</td>\n      <td>0</td>\n      <td>0</td>\n      <td>0</td>\n      <td>0</td>\n      <td>0</td>\n      <td>0</td>\n      <td>0</td>\n      <td>0</td>\n      <td>0</td>\n      <td>0</td>\n      <td>0</td>\n      <td>0</td>\n      <td>0</td>\n      <td>0</td>\n      <td>0</td>\n      <td>0</td>\n      <td>0</td>\n      <td>0</td>\n      <td>0</td>\n      <td>0</td>\n      <td>0</td>\n      <td>0</td>\n      <td>0</td>\n      <td>0</td>\n      <td>0</td>\n      <td>0</td>\n      <td>0</td>\n      <td>0</td>\n      <td>0</td>\n      <td>0</td>\n      <td>20801.0</td>\n      <td>17835.0</td>\n      <td>83.770924</td>\n      <td>61.538243</td>\n      <td>81.550406</td>\n      <td>125.521513</td>\n      <td>101.328398</td>\n      <td>113.511177</td>\n      <td>0.133666</td>\n      <td>0.047873</td>\n      <td>89.709822</td>\n      <td>0.728000</td>\n      <td>5.044630</td>\n      <td>75.173597</td>\n      <td>0.081155</td>\n      <td>0.105169</td>\n      <td>58.428537</td>\n      <td>216.764434</td>\n      <td>40.309889</td>\n      <td>2.283231</td>\n      <td>1.874862</td>\n      <td>3.066539</td>\n      <td>2.549486</td>\n      <td>2.946118</td>\n      <td>4.350470</td>\n      <td>5.270951</td>\n      <td>6.716557</td>\n      <td>7.025144</td>\n      <td>0.103023</td>\n      <td>0.825591</td>\n      <td>0.628535</td>\n      <td>1.120549</td>\n      <td>0.935892</td>\n      <td>1.080489</td>\n      <td>1.470284</td>\n      <td>1.662211</td>\n      <td>1.904576</td>\n      <td>1.949496</td>\n      <td>4.428086</td>\n      <td>4.067804</td>\n      <td>5.378811</td>\n      <td>3.696597</td>\n      <td>-2.268929</td>\n      <td>4.119659</td>\n    </tr>\n    <tr>\n      <th>4</th>\n      <td>S13002837</td>\n      <td>2020</td>\n      <td>December</td>\n      <td>Thursday</td>\n      <td>02:40:00</td>\n      <td>0</td>\n      <td>30</td>\n      <td>0</td>\n      <td>0</td>\n      <td>0</td>\n      <td>0</td>\n      <td>0</td>\n      <td>0</td>\n      <td>0</td>\n      <td>0</td>\n      <td>0</td>\n      <td>0</td>\n      <td>0</td>\n      <td>0</td>\n      <td>0</td>\n      <td>0</td>\n      <td>0</td>\n      <td>0</td>\n      <td>0</td>\n      <td>0</td>\n      <td>0</td>\n      <td>0</td>\n      <td>0</td>\n      <td>0</td>\n      <td>0</td>\n      <td>0</td>\n      <td>0</td>\n      <td>1</td>\n      <td>0</td>\n      <td>0</td>\n      <td>0</td>\n      <td>0</td>\n      <td>0</td>\n      <td>0</td>\n      <td>0</td>\n      <td>0</td>\n      <td>0</td>\n      <td>0</td>\n      <td>0</td>\n      <td>0</td>\n      <td>0</td>\n      <td>0</td>\n      <td>0</td>\n      <td>0</td>\n      <td>0</td>\n      <td>0</td>\n      <td>0</td>\n      <td>0</td>\n      <td>0</td>\n      <td>0</td>\n      <td>0</td>\n      <td>1</td>\n      <td>0</td>\n      <td>0</td>\n      <td>0</td>\n      <td>0</td>\n      <td>0</td>\n      <td>0</td>\n      <td>0</td>\n      <td>0</td>\n      <td>0</td>\n      <td>0</td>\n      <td>0</td>\n      <td>0</td>\n      <td>0</td>\n      <td>0</td>\n      <td>0</td>\n      <td>0</td>\n      <td>0</td>\n      <td>0</td>\n      <td>0</td>\n      <td>0</td>\n      <td>0</td>\n      <td>0</td>\n      <td>0</td>\n      <td>0</td>\n      <td>0</td>\n      <td>0</td>\n      <td>0</td>\n      <td>0</td>\n      <td>0</td>\n      <td>0</td>\n      <td>0</td>\n      <td>0</td>\n      <td>0</td>\n      <td>0</td>\n      <td>0</td>\n      <td>0</td>\n      <td>0</td>\n      <td>0</td>\n      <td>0</td>\n      <td>0</td>\n      <td>0</td>\n      <td>0</td>\n      <td>0</td>\n      <td>0</td>\n      <td>0</td>\n      <td>0</td>\n      <td>0</td>\n      <td>0</td>\n      <td>0</td>\n      <td>0</td>\n      <td>0</td>\n      <td>0</td>\n      <td>0</td>\n      <td>0</td>\n      <td>0</td>\n      <td>0</td>\n      <td>0</td>\n      <td>0</td>\n      <td>0</td>\n      <td>0</td>\n      <td>0</td>\n      <td>0</td>\n      <td>0</td>\n      <td>0</td>\n      <td>0</td>\n      <td>0</td>\n      <td>0</td>\n      <td>0</td>\n      <td>0</td>\n      <td>0</td>\n      <td>0</td>\n      <td>0</td>\n      <td>0</td>\n      <td>0</td>\n      <td>0</td>\n      <td>0</td>\n      <td>0</td>\n      <td>0</td>\n      <td>0</td>\n      <td>0</td>\n      <td>0</td>\n      <td>0</td>\n      <td>0</td>\n      <td>0</td>\n      <td>0</td>\n      <td>0</td>\n      <td>0</td>\n      <td>0</td>\n      <td>0</td>\n      <td>0</td>\n      <td>0</td>\n      <td>0</td>\n      <td>0</td>\n      <td>0</td>\n      <td>0</td>\n      <td>0</td>\n      <td>0</td>\n      <td>0</td>\n      <td>0</td>\n      <td>0</td>\n      <td>0</td>\n      <td>0</td>\n      <td>0</td>\n      <td>0</td>\n      <td>0</td>\n      <td>0</td>\n      <td>0</td>\n      <td>0</td>\n      <td>0</td>\n      <td>0</td>\n      <td>0</td>\n      <td>0</td>\n      <td>0</td>\n      <td>0</td>\n      <td>0</td>\n      <td>0</td>\n      <td>0</td>\n      <td>0</td>\n      <td>0</td>\n      <td>0</td>\n      <td>0</td>\n      <td>0</td>\n      <td>0</td>\n      <td>0</td>\n      <td>0</td>\n      <td>0</td>\n      <td>0</td>\n      <td>0</td>\n      <td>0</td>\n      <td>0</td>\n      <td>0</td>\n      <td>15236.0</td>\n      <td>9789.0</td>\n      <td>81.807889</td>\n      <td>43.692898</td>\n      <td>90.334077</td>\n      <td>112.810449</td>\n      <td>112.117288</td>\n      <td>98.564321</td>\n      <td>0.182332</td>\n      <td>0.049067</td>\n      <td>104.452087</td>\n      <td>0.842833</td>\n      <td>5.451705</td>\n      <td>90.662707</td>\n      <td>0.033264</td>\n      <td>0.122464</td>\n      <td>21.939354</td>\n      <td>83.170255</td>\n      <td>6.709373</td>\n      <td>4.408539</td>\n      <td>2.733658</td>\n      <td>2.554872</td>\n      <td>2.748820</td>\n      <td>5.310371</td>\n      <td>6.252334</td>\n      <td>8.881655</td>\n      <td>8.871633</td>\n      <td>16.444906</td>\n      <td>0.042190</td>\n      <td>1.483543</td>\n      <td>1.005640</td>\n      <td>0.938002</td>\n      <td>1.011172</td>\n      <td>1.669662</td>\n      <td>1.832955</td>\n      <td>2.183988</td>\n      <td>2.182859</td>\n      <td>2.800016</td>\n      <td>4.404374</td>\n      <td>3.088282</td>\n      <td>4.420890</td>\n      <td>1.903505</td>\n      <td>-3.156131</td>\n      <td>3.777186</td>\n    </tr>\n    <tr>\n      <th>...</th>\n      <td>...</td>\n      <td>...</td>\n      <td>...</td>\n      <td>...</td>\n      <td>...</td>\n      <td>...</td>\n      <td>...</td>\n      <td>...</td>\n      <td>...</td>\n      <td>...</td>\n      <td>...</td>\n      <td>...</td>\n      <td>...</td>\n      <td>...</td>\n      <td>...</td>\n      <td>...</td>\n      <td>...</td>\n      <td>...</td>\n      <td>...</td>\n      <td>...</td>\n      <td>...</td>\n      <td>...</td>\n      <td>...</td>\n      <td>...</td>\n      <td>...</td>\n      <td>...</td>\n      <td>...</td>\n      <td>...</td>\n      <td>...</td>\n      <td>...</td>\n      <td>...</td>\n      <td>...</td>\n      <td>...</td>\n      <td>...</td>\n      <td>...</td>\n      <td>...</td>\n      <td>...</td>\n      <td>...</td>\n      <td>...</td>\n      <td>...</td>\n      <td>...</td>\n      <td>...</td>\n      <td>...</td>\n      <td>...</td>\n      <td>...</td>\n      <td>...</td>\n      <td>...</td>\n      <td>...</td>\n      <td>...</td>\n      <td>...</td>\n      <td>...</td>\n      <td>...</td>\n      <td>...</td>\n      <td>...</td>\n      <td>...</td>\n      <td>...</td>\n      <td>...</td>\n      <td>...</td>\n      <td>...</td>\n      <td>...</td>\n      <td>...</td>\n      <td>...</td>\n      <td>...</td>\n      <td>...</td>\n      <td>...</td>\n      <td>...</td>\n      <td>...</td>\n      <td>...</td>\n      <td>...</td>\n      <td>...</td>\n      <td>...</td>\n      <td>...</td>\n      <td>...</td>\n      <td>...</td>\n      <td>...</td>\n      <td>...</td>\n      <td>...</td>\n      <td>...</td>\n      <td>...</td>\n      <td>...</td>\n      <td>...</td>\n      <td>...</td>\n      <td>...</td>\n      <td>...</td>\n      <td>...</td>\n      <td>...</td>\n      <td>...</td>\n      <td>...</td>\n      <td>...</td>\n      <td>...</td>\n      <td>...</td>\n      <td>...</td>\n      <td>...</td>\n      <td>...</td>\n      <td>...</td>\n      <td>...</td>\n      <td>...</td>\n      <td>...</td>\n      <td>...</td>\n      <td>...</td>\n      <td>...</td>\n      <td>...</td>\n      <td>...</td>\n      <td>...</td>\n      <td>...</td>\n      <td>...</td>\n      <td>...</td>\n      <td>...</td>\n      <td>...</td>\n      <td>...</td>\n      <td>...</td>\n      <td>...</td>\n      <td>...</td>\n      <td>...</td>\n      <td>...</td>\n      <td>...</td>\n      <td>...</td>\n      <td>...</td>\n      <td>...</td>\n      <td>...</td>\n      <td>...</td>\n      <td>...</td>\n      <td>...</td>\n      <td>...</td>\n      <td>...</td>\n      <td>...</td>\n      <td>...</td>\n      <td>...</td>\n      <td>...</td>\n      <td>...</td>\n      <td>...</td>\n      <td>...</td>\n      <td>...</td>\n      <td>...</td>\n      <td>...</td>\n      <td>...</td>\n      <td>...</td>\n      <td>...</td>\n      <td>...</td>\n      <td>...</td>\n      <td>...</td>\n      <td>...</td>\n      <td>...</td>\n      <td>...</td>\n      <td>...</td>\n      <td>...</td>\n      <td>...</td>\n      <td>...</td>\n      <td>...</td>\n      <td>...</td>\n      <td>...</td>\n      <td>...</td>\n      <td>...</td>\n      <td>...</td>\n      <td>...</td>\n      <td>...</td>\n      <td>...</td>\n      <td>...</td>\n      <td>...</td>\n      <td>...</td>\n      <td>...</td>\n      <td>...</td>\n      <td>...</td>\n      <td>...</td>\n      <td>...</td>\n      <td>...</td>\n      <td>...</td>\n      <td>...</td>\n      <td>...</td>\n      <td>...</td>\n      <td>...</td>\n      <td>...</td>\n      <td>...</td>\n      <td>...</td>\n      <td>...</td>\n      <td>...</td>\n      <td>...</td>\n      <td>...</td>\n      <td>...</td>\n      <td>...</td>\n      <td>...</td>\n      <td>...</td>\n      <td>...</td>\n      <td>...</td>\n      <td>...</td>\n      <td>...</td>\n      <td>...</td>\n      <td>...</td>\n      <td>...</td>\n      <td>...</td>\n      <td>...</td>\n      <td>...</td>\n      <td>...</td>\n      <td>...</td>\n      <td>...</td>\n      <td>...</td>\n      <td>...</td>\n      <td>...</td>\n      <td>...</td>\n      <td>...</td>\n      <td>...</td>\n      <td>...</td>\n      <td>...</td>\n      <td>...</td>\n      <td>...</td>\n      <td>...</td>\n      <td>...</td>\n      <td>...</td>\n      <td>...</td>\n      <td>...</td>\n      <td>...</td>\n      <td>...</td>\n      <td>...</td>\n      <td>...</td>\n      <td>...</td>\n      <td>...</td>\n      <td>...</td>\n      <td>...</td>\n      <td>...</td>\n      <td>...</td>\n      <td>...</td>\n      <td>...</td>\n      <td>...</td>\n      <td>...</td>\n      <td>...</td>\n      <td>...</td>\n      <td>...</td>\n      <td>...</td>\n      <td>...</td>\n      <td>...</td>\n      <td>...</td>\n      <td>...</td>\n    </tr>\n    <tr>\n      <th>74404</th>\n      <td>S13002891</td>\n      <td>2019</td>\n      <td>November</td>\n      <td>Saturday</td>\n      <td>18:00:00</td>\n      <td>0</td>\n      <td>46</td>\n      <td>0</td>\n      <td>0</td>\n      <td>0</td>\n      <td>0</td>\n      <td>0</td>\n      <td>0</td>\n      <td>0</td>\n      <td>0</td>\n      <td>0</td>\n      <td>0</td>\n      <td>0</td>\n      <td>0</td>\n      <td>0</td>\n      <td>0</td>\n      <td>0</td>\n      <td>0</td>\n      <td>0</td>\n      <td>0</td>\n      <td>0</td>\n      <td>0</td>\n      <td>0</td>\n      <td>0</td>\n      <td>0</td>\n      <td>0</td>\n      <td>0</td>\n      <td>0</td>\n      <td>0</td>\n      <td>0</td>\n      <td>0</td>\n      <td>0</td>\n      <td>0</td>\n      <td>0</td>\n      <td>0</td>\n      <td>0</td>\n      <td>0</td>\n      <td>0</td>\n      <td>0</td>\n      <td>0</td>\n      <td>0</td>\n      <td>0</td>\n      <td>0</td>\n      <td>0</td>\n      <td>0</td>\n      <td>0</td>\n      <td>0</td>\n      <td>0</td>\n      <td>0</td>\n      <td>0</td>\n      <td>0</td>\n      <td>1</td>\n      <td>0</td>\n      <td>0</td>\n      <td>0</td>\n      <td>0</td>\n      <td>0</td>\n      <td>0</td>\n      <td>0</td>\n      <td>0</td>\n      <td>0</td>\n      <td>0</td>\n      <td>0</td>\n      <td>0</td>\n      <td>0</td>\n      <td>0</td>\n      <td>0</td>\n      <td>0</td>\n      <td>0</td>\n      <td>1</td>\n      <td>0</td>\n      <td>0</td>\n      <td>0</td>\n      <td>1</td>\n      <td>0</td>\n      <td>0</td>\n      <td>0</td>\n      <td>0</td>\n      <td>0</td>\n      <td>0</td>\n      <td>0</td>\n      <td>0</td>\n      <td>0</td>\n      <td>0</td>\n      <td>1</td>\n      <td>0</td>\n      <td>0</td>\n      <td>0</td>\n      <td>0</td>\n      <td>0</td>\n      <td>0</td>\n      <td>0</td>\n      <td>0</td>\n      <td>0</td>\n      <td>0</td>\n      <td>0</td>\n      <td>0</td>\n      <td>0</td>\n      <td>0</td>\n      <td>0</td>\n      <td>0</td>\n      <td>0</td>\n      <td>0</td>\n      <td>0</td>\n      <td>0</td>\n      <td>0</td>\n      <td>0</td>\n      <td>0</td>\n      <td>0</td>\n      <td>0</td>\n      <td>0</td>\n      <td>0</td>\n      <td>0</td>\n      <td>0</td>\n      <td>0</td>\n      <td>0</td>\n      <td>0</td>\n      <td>0</td>\n      <td>0</td>\n      <td>0</td>\n      <td>0</td>\n      <td>0</td>\n      <td>0</td>\n      <td>0</td>\n      <td>0</td>\n      <td>0</td>\n      <td>0</td>\n      <td>0</td>\n      <td>0</td>\n      <td>0</td>\n      <td>0</td>\n      <td>0</td>\n      <td>0</td>\n      <td>0</td>\n      <td>0</td>\n      <td>0</td>\n      <td>1</td>\n      <td>0</td>\n      <td>0</td>\n      <td>0</td>\n      <td>0</td>\n      <td>0</td>\n      <td>0</td>\n      <td>0</td>\n      <td>0</td>\n      <td>0</td>\n      <td>0</td>\n      <td>0</td>\n      <td>0</td>\n      <td>0</td>\n      <td>0</td>\n      <td>0</td>\n      <td>0</td>\n      <td>0</td>\n      <td>0</td>\n      <td>0</td>\n      <td>0</td>\n      <td>0</td>\n      <td>0</td>\n      <td>0</td>\n      <td>0</td>\n      <td>0</td>\n      <td>0</td>\n      <td>0</td>\n      <td>0</td>\n      <td>0</td>\n      <td>0</td>\n      <td>0</td>\n      <td>1</td>\n      <td>0</td>\n      <td>0</td>\n      <td>0</td>\n      <td>0</td>\n      <td>0</td>\n      <td>0</td>\n      <td>0</td>\n      <td>0</td>\n      <td>0</td>\n      <td>0</td>\n      <td>0</td>\n      <td>0</td>\n      <td>0</td>\n      <td>0</td>\n      <td>9799.0</td>\n      <td>5715.0</td>\n      <td>68.070313</td>\n      <td>26.798347</td>\n      <td>75.528625</td>\n      <td>18.427084</td>\n      <td>36.439433</td>\n      <td>64.807429</td>\n      <td>0.153739</td>\n      <td>0.038883</td>\n      <td>49.682519</td>\n      <td>0.846743</td>\n      <td>5.614936</td>\n      <td>121.917645</td>\n      <td>0.024841</td>\n      <td>0.086924</td>\n      <td>16.276470</td>\n      <td>46.818247</td>\n      <td>13.771099</td>\n      <td>4.419889</td>\n      <td>4.119678</td>\n      <td>3.339694</td>\n      <td>3.052060</td>\n      <td>5.836578</td>\n      <td>11.428119</td>\n      <td>11.333052</td>\n      <td>9.433850</td>\n      <td>14.124586</td>\n      <td>0.191165</td>\n      <td>1.486115</td>\n      <td>1.415775</td>\n      <td>1.205879</td>\n      <td>1.115817</td>\n      <td>1.764145</td>\n      <td>2.436077</td>\n      <td>2.427723</td>\n      <td>2.244304</td>\n      <td>2.647917</td>\n      <td>4.220541</td>\n      <td>2.789721</td>\n      <td>3.846273</td>\n      <td>2.622572</td>\n      <td>-1.652526</td>\n      <td>3.288340</td>\n    </tr>\n    <tr>\n      <th>74405</th>\n      <td>S13002891</td>\n      <td>2019</td>\n      <td>November</td>\n      <td>Saturday</td>\n      <td>18:00:00</td>\n      <td>0</td>\n      <td>44</td>\n      <td>0</td>\n      <td>0</td>\n      <td>0</td>\n      <td>0</td>\n      <td>0</td>\n      <td>0</td>\n      <td>0</td>\n      <td>0</td>\n      <td>0</td>\n      <td>0</td>\n      <td>0</td>\n      <td>0</td>\n      <td>0</td>\n      <td>0</td>\n      <td>0</td>\n      <td>0</td>\n      <td>0</td>\n      <td>0</td>\n      <td>0</td>\n      <td>0</td>\n      <td>0</td>\n      <td>0</td>\n      <td>0</td>\n      <td>0</td>\n      <td>0</td>\n      <td>0</td>\n      <td>0</td>\n      <td>0</td>\n      <td>0</td>\n      <td>0</td>\n      <td>0</td>\n      <td>0</td>\n      <td>0</td>\n      <td>0</td>\n      <td>0</td>\n      <td>0</td>\n      <td>0</td>\n      <td>0</td>\n      <td>0</td>\n      <td>0</td>\n      <td>0</td>\n      <td>0</td>\n      <td>0</td>\n      <td>0</td>\n      <td>0</td>\n      <td>0</td>\n      <td>0</td>\n      <td>0</td>\n      <td>0</td>\n      <td>1</td>\n      <td>0</td>\n      <td>0</td>\n      <td>0</td>\n      <td>0</td>\n      <td>0</td>\n      <td>0</td>\n      <td>0</td>\n      <td>0</td>\n      <td>0</td>\n      <td>0</td>\n      <td>0</td>\n      <td>0</td>\n      <td>0</td>\n      <td>0</td>\n      <td>0</td>\n      <td>0</td>\n      <td>0</td>\n      <td>1</td>\n      <td>0</td>\n      <td>0</td>\n      <td>0</td>\n      <td>1</td>\n      <td>0</td>\n      <td>0</td>\n      <td>0</td>\n      <td>0</td>\n      <td>0</td>\n      <td>0</td>\n      <td>0</td>\n      <td>0</td>\n      <td>0</td>\n      <td>0</td>\n      <td>1</td>\n      <td>0</td>\n      <td>0</td>\n      <td>0</td>\n      <td>0</td>\n      <td>0</td>\n      <td>0</td>\n      <td>0</td>\n      <td>0</td>\n      <td>0</td>\n      <td>0</td>\n      <td>0</td>\n      <td>0</td>\n      <td>0</td>\n      <td>0</td>\n      <td>0</td>\n      <td>0</td>\n      <td>0</td>\n      <td>0</td>\n      <td>0</td>\n      <td>0</td>\n      <td>0</td>\n      <td>0</td>\n      <td>0</td>\n      <td>0</td>\n      <td>0</td>\n      <td>0</td>\n      <td>0</td>\n      <td>0</td>\n      <td>0</td>\n      <td>0</td>\n      <td>0</td>\n      <td>0</td>\n      <td>0</td>\n      <td>0</td>\n      <td>0</td>\n      <td>0</td>\n      <td>0</td>\n      <td>0</td>\n      <td>0</td>\n      <td>0</td>\n      <td>0</td>\n      <td>0</td>\n      <td>0</td>\n      <td>0</td>\n      <td>0</td>\n      <td>0</td>\n      <td>0</td>\n      <td>0</td>\n      <td>0</td>\n      <td>0</td>\n      <td>0</td>\n      <td>1</td>\n      <td>0</td>\n      <td>0</td>\n      <td>0</td>\n      <td>0</td>\n      <td>0</td>\n      <td>0</td>\n      <td>0</td>\n      <td>0</td>\n      <td>0</td>\n      <td>0</td>\n      <td>0</td>\n      <td>0</td>\n      <td>0</td>\n      <td>0</td>\n      <td>0</td>\n      <td>0</td>\n      <td>0</td>\n      <td>0</td>\n      <td>0</td>\n      <td>0</td>\n      <td>0</td>\n      <td>0</td>\n      <td>0</td>\n      <td>0</td>\n      <td>0</td>\n      <td>0</td>\n      <td>0</td>\n      <td>0</td>\n      <td>0</td>\n      <td>0</td>\n      <td>0</td>\n      <td>1</td>\n      <td>0</td>\n      <td>0</td>\n      <td>0</td>\n      <td>0</td>\n      <td>0</td>\n      <td>0</td>\n      <td>0</td>\n      <td>0</td>\n      <td>0</td>\n      <td>0</td>\n      <td>0</td>\n      <td>0</td>\n      <td>0</td>\n      <td>0</td>\n      <td>9799.0</td>\n      <td>5715.0</td>\n      <td>68.070313</td>\n      <td>26.798347</td>\n      <td>75.528625</td>\n      <td>18.427084</td>\n      <td>36.439433</td>\n      <td>64.807429</td>\n      <td>0.153739</td>\n      <td>0.038883</td>\n      <td>49.682519</td>\n      <td>0.846743</td>\n      <td>5.614936</td>\n      <td>121.917645</td>\n      <td>0.024841</td>\n      <td>0.086924</td>\n      <td>16.276470</td>\n      <td>46.818247</td>\n      <td>13.771099</td>\n      <td>4.419889</td>\n      <td>4.119678</td>\n      <td>3.339694</td>\n      <td>3.052060</td>\n      <td>5.836578</td>\n      <td>11.428119</td>\n      <td>11.333052</td>\n      <td>9.433850</td>\n      <td>14.124586</td>\n      <td>0.191165</td>\n      <td>1.486115</td>\n      <td>1.415775</td>\n      <td>1.205879</td>\n      <td>1.115817</td>\n      <td>1.764145</td>\n      <td>2.436077</td>\n      <td>2.427723</td>\n      <td>2.244304</td>\n      <td>2.647917</td>\n      <td>4.220541</td>\n      <td>2.789721</td>\n      <td>3.846273</td>\n      <td>2.622572</td>\n      <td>-1.652526</td>\n      <td>3.288340</td>\n    </tr>\n    <tr>\n      <th>74406</th>\n      <td>S13002891</td>\n      <td>2019</td>\n      <td>November</td>\n      <td>Saturday</td>\n      <td>18:00:00</td>\n      <td>1</td>\n      <td>43</td>\n      <td>1</td>\n      <td>0</td>\n      <td>0</td>\n      <td>0</td>\n      <td>0</td>\n      <td>0</td>\n      <td>0</td>\n      <td>0</td>\n      <td>0</td>\n      <td>0</td>\n      <td>0</td>\n      <td>0</td>\n      <td>0</td>\n      <td>0</td>\n      <td>0</td>\n      <td>0</td>\n      <td>0</td>\n      <td>0</td>\n      <td>0</td>\n      <td>0</td>\n      <td>0</td>\n      <td>0</td>\n      <td>0</td>\n      <td>0</td>\n      <td>0</td>\n      <td>0</td>\n      <td>0</td>\n      <td>0</td>\n      <td>0</td>\n      <td>0</td>\n      <td>0</td>\n      <td>0</td>\n      <td>0</td>\n      <td>0</td>\n      <td>0</td>\n      <td>0</td>\n      <td>0</td>\n      <td>0</td>\n      <td>0</td>\n      <td>0</td>\n      <td>0</td>\n      <td>0</td>\n      <td>0</td>\n      <td>0</td>\n      <td>0</td>\n      <td>0</td>\n      <td>0</td>\n      <td>0</td>\n      <td>0</td>\n      <td>1</td>\n      <td>0</td>\n      <td>0</td>\n      <td>0</td>\n      <td>0</td>\n      <td>0</td>\n      <td>0</td>\n      <td>0</td>\n      <td>0</td>\n      <td>0</td>\n      <td>0</td>\n      <td>0</td>\n      <td>0</td>\n      <td>0</td>\n      <td>0</td>\n      <td>0</td>\n      <td>0</td>\n      <td>0</td>\n      <td>1</td>\n      <td>0</td>\n      <td>0</td>\n      <td>0</td>\n      <td>1</td>\n      <td>0</td>\n      <td>0</td>\n      <td>0</td>\n      <td>0</td>\n      <td>0</td>\n      <td>0</td>\n      <td>0</td>\n      <td>0</td>\n      <td>0</td>\n      <td>0</td>\n      <td>1</td>\n      <td>0</td>\n      <td>0</td>\n      <td>0</td>\n      <td>0</td>\n      <td>0</td>\n      <td>0</td>\n      <td>0</td>\n      <td>0</td>\n      <td>0</td>\n      <td>0</td>\n      <td>0</td>\n      <td>0</td>\n      <td>0</td>\n      <td>0</td>\n      <td>0</td>\n      <td>0</td>\n      <td>0</td>\n      <td>0</td>\n      <td>0</td>\n      <td>0</td>\n      <td>0</td>\n      <td>0</td>\n      <td>0</td>\n      <td>0</td>\n      <td>0</td>\n      <td>0</td>\n      <td>0</td>\n      <td>0</td>\n      <td>0</td>\n      <td>0</td>\n      <td>0</td>\n      <td>0</td>\n      <td>0</td>\n      <td>0</td>\n      <td>0</td>\n      <td>0</td>\n      <td>0</td>\n      <td>0</td>\n      <td>0</td>\n      <td>0</td>\n      <td>0</td>\n      <td>0</td>\n      <td>0</td>\n      <td>0</td>\n      <td>0</td>\n      <td>0</td>\n      <td>0</td>\n      <td>0</td>\n      <td>0</td>\n      <td>0</td>\n      <td>0</td>\n      <td>1</td>\n      <td>0</td>\n      <td>0</td>\n      <td>0</td>\n      <td>0</td>\n      <td>0</td>\n      <td>0</td>\n      <td>0</td>\n      <td>0</td>\n      <td>0</td>\n      <td>0</td>\n      <td>0</td>\n      <td>0</td>\n      <td>0</td>\n      <td>0</td>\n      <td>0</td>\n      <td>0</td>\n      <td>0</td>\n      <td>0</td>\n      <td>0</td>\n      <td>0</td>\n      <td>0</td>\n      <td>0</td>\n      <td>0</td>\n      <td>0</td>\n      <td>0</td>\n      <td>0</td>\n      <td>0</td>\n      <td>0</td>\n      <td>0</td>\n      <td>0</td>\n      <td>0</td>\n      <td>1</td>\n      <td>0</td>\n      <td>0</td>\n      <td>0</td>\n      <td>0</td>\n      <td>0</td>\n      <td>0</td>\n      <td>0</td>\n      <td>0</td>\n      <td>0</td>\n      <td>0</td>\n      <td>0</td>\n      <td>0</td>\n      <td>0</td>\n      <td>0</td>\n      <td>9799.0</td>\n      <td>5715.0</td>\n      <td>68.070313</td>\n      <td>26.798347</td>\n      <td>75.528625</td>\n      <td>18.427084</td>\n      <td>36.439433</td>\n      <td>64.807429</td>\n      <td>0.153739</td>\n      <td>0.038883</td>\n      <td>49.682519</td>\n      <td>0.846743</td>\n      <td>5.614936</td>\n      <td>121.917645</td>\n      <td>0.024841</td>\n      <td>0.086924</td>\n      <td>16.276470</td>\n      <td>46.818247</td>\n      <td>13.771099</td>\n      <td>4.419889</td>\n      <td>4.119678</td>\n      <td>3.339694</td>\n      <td>3.052060</td>\n      <td>5.836578</td>\n      <td>11.428119</td>\n      <td>11.333052</td>\n      <td>9.433850</td>\n      <td>14.124586</td>\n      <td>0.191165</td>\n      <td>1.486115</td>\n      <td>1.415775</td>\n      <td>1.205879</td>\n      <td>1.115817</td>\n      <td>1.764145</td>\n      <td>2.436077</td>\n      <td>2.427723</td>\n      <td>2.244304</td>\n      <td>2.647917</td>\n      <td>4.220541</td>\n      <td>2.789721</td>\n      <td>3.846273</td>\n      <td>2.622572</td>\n      <td>-1.652526</td>\n      <td>3.288340</td>\n    </tr>\n    <tr>\n      <th>74407</th>\n      <td>S13002767</td>\n      <td>2019</td>\n      <td>July</td>\n      <td>Tuesday</td>\n      <td>20:00:00</td>\n      <td>1</td>\n      <td>29</td>\n      <td>1</td>\n      <td>0</td>\n      <td>0</td>\n      <td>0</td>\n      <td>0</td>\n      <td>0</td>\n      <td>0</td>\n      <td>0</td>\n      <td>0</td>\n      <td>0</td>\n      <td>0</td>\n      <td>0</td>\n      <td>0</td>\n      <td>0</td>\n      <td>0</td>\n      <td>0</td>\n      <td>0</td>\n      <td>0</td>\n      <td>0</td>\n      <td>0</td>\n      <td>0</td>\n      <td>0</td>\n      <td>0</td>\n      <td>0</td>\n      <td>0</td>\n      <td>0</td>\n      <td>0</td>\n      <td>0</td>\n      <td>0</td>\n      <td>0</td>\n      <td>0</td>\n      <td>0</td>\n      <td>0</td>\n      <td>0</td>\n      <td>0</td>\n      <td>0</td>\n      <td>0</td>\n      <td>0</td>\n      <td>0</td>\n      <td>0</td>\n      <td>0</td>\n      <td>0</td>\n      <td>0</td>\n      <td>0</td>\n      <td>0</td>\n      <td>0</td>\n      <td>0</td>\n      <td>0</td>\n      <td>0</td>\n      <td>1</td>\n      <td>0</td>\n      <td>0</td>\n      <td>0</td>\n      <td>0</td>\n      <td>0</td>\n      <td>0</td>\n      <td>0</td>\n      <td>0</td>\n      <td>0</td>\n      <td>0</td>\n      <td>0</td>\n      <td>0</td>\n      <td>0</td>\n      <td>0</td>\n      <td>0</td>\n      <td>0</td>\n      <td>0</td>\n      <td>1</td>\n      <td>0</td>\n      <td>0</td>\n      <td>1</td>\n      <td>0</td>\n      <td>0</td>\n      <td>0</td>\n      <td>0</td>\n      <td>0</td>\n      <td>1</td>\n      <td>0</td>\n      <td>0</td>\n      <td>0</td>\n      <td>0</td>\n      <td>0</td>\n      <td>0</td>\n      <td>0</td>\n      <td>0</td>\n      <td>0</td>\n      <td>0</td>\n      <td>0</td>\n      <td>0</td>\n      <td>0</td>\n      <td>0</td>\n      <td>0</td>\n      <td>0</td>\n      <td>0</td>\n      <td>0</td>\n      <td>0</td>\n      <td>0</td>\n      <td>0</td>\n      <td>0</td>\n      <td>0</td>\n      <td>0</td>\n      <td>0</td>\n      <td>0</td>\n      <td>0</td>\n      <td>0</td>\n      <td>0</td>\n      <td>1</td>\n      <td>0</td>\n      <td>0</td>\n      <td>0</td>\n      <td>0</td>\n      <td>0</td>\n      <td>0</td>\n      <td>0</td>\n      <td>0</td>\n      <td>0</td>\n      <td>0</td>\n      <td>0</td>\n      <td>0</td>\n      <td>0</td>\n      <td>0</td>\n      <td>0</td>\n      <td>0</td>\n      <td>0</td>\n      <td>0</td>\n      <td>0</td>\n      <td>0</td>\n      <td>0</td>\n      <td>0</td>\n      <td>0</td>\n      <td>0</td>\n      <td>0</td>\n      <td>0</td>\n      <td>0</td>\n      <td>0</td>\n      <td>0</td>\n      <td>0</td>\n      <td>0</td>\n      <td>0</td>\n      <td>0</td>\n      <td>0</td>\n      <td>0</td>\n      <td>0</td>\n      <td>0</td>\n      <td>0</td>\n      <td>0</td>\n      <td>0</td>\n      <td>0</td>\n      <td>0</td>\n      <td>0</td>\n      <td>0</td>\n      <td>0</td>\n      <td>1</td>\n      <td>0</td>\n      <td>0</td>\n      <td>0</td>\n      <td>0</td>\n      <td>0</td>\n      <td>0</td>\n      <td>0</td>\n      <td>0</td>\n      <td>0</td>\n      <td>0</td>\n      <td>0</td>\n      <td>0</td>\n      <td>0</td>\n      <td>0</td>\n      <td>0</td>\n      <td>0</td>\n      <td>0</td>\n      <td>0</td>\n      <td>0</td>\n      <td>0</td>\n      <td>0</td>\n      <td>0</td>\n      <td>0</td>\n      <td>0</td>\n      <td>0</td>\n      <td>0</td>\n      <td>0</td>\n      <td>0</td>\n      <td>10558.0</td>\n      <td>6110.0</td>\n      <td>71.942224</td>\n      <td>31.917409</td>\n      <td>79.966376</td>\n      <td>52.563743</td>\n      <td>23.068384</td>\n      <td>84.988255</td>\n      <td>0.181353</td>\n      <td>0.057391</td>\n      <td>95.949801</td>\n      <td>0.823430</td>\n      <td>5.613980</td>\n      <td>96.190377</td>\n      <td>0.025328</td>\n      <td>0.095934</td>\n      <td>14.419866</td>\n      <td>51.325535</td>\n      <td>23.666793</td>\n      <td>6.310870</td>\n      <td>4.814053</td>\n      <td>4.916282</td>\n      <td>3.945324</td>\n      <td>5.890155</td>\n      <td>8.216449</td>\n      <td>13.623541</td>\n      <td>12.152823</td>\n      <td>15.284462</td>\n      <td>0.189425</td>\n      <td>1.842274</td>\n      <td>1.571539</td>\n      <td>1.592553</td>\n      <td>1.372531</td>\n      <td>1.773282</td>\n      <td>2.106138</td>\n      <td>2.611799</td>\n      <td>2.497561</td>\n      <td>2.726837</td>\n      <td>4.275863</td>\n      <td>2.668607</td>\n      <td>3.938188</td>\n      <td>3.164073</td>\n      <td>-1.661652</td>\n      <td>3.463152</td>\n    </tr>\n    <tr>\n      <th>74408</th>\n      <td>S13002891</td>\n      <td>2019</td>\n      <td>May</td>\n      <td>Monday</td>\n      <td>23:33:00</td>\n      <td>0</td>\n      <td>49</td>\n      <td>0</td>\n      <td>0</td>\n      <td>0</td>\n      <td>0</td>\n      <td>0</td>\n      <td>0</td>\n      <td>0</td>\n      <td>0</td>\n      <td>0</td>\n      <td>0</td>\n      <td>0</td>\n      <td>0</td>\n      <td>0</td>\n      <td>0</td>\n      <td>0</td>\n      <td>0</td>\n      <td>0</td>\n      <td>0</td>\n      <td>0</td>\n      <td>0</td>\n      <td>0</td>\n      <td>0</td>\n      <td>0</td>\n      <td>0</td>\n      <td>0</td>\n      <td>0</td>\n      <td>0</td>\n      <td>0</td>\n      <td>0</td>\n      <td>0</td>\n      <td>0</td>\n      <td>0</td>\n      <td>0</td>\n      <td>0</td>\n      <td>0</td>\n      <td>0</td>\n      <td>0</td>\n      <td>0</td>\n      <td>0</td>\n      <td>0</td>\n      <td>0</td>\n      <td>0</td>\n      <td>0</td>\n      <td>0</td>\n      <td>0</td>\n      <td>0</td>\n      <td>0</td>\n      <td>0</td>\n      <td>0</td>\n      <td>1</td>\n      <td>0</td>\n      <td>0</td>\n      <td>0</td>\n      <td>0</td>\n      <td>0</td>\n      <td>0</td>\n      <td>0</td>\n      <td>0</td>\n      <td>0</td>\n      <td>0</td>\n      <td>0</td>\n      <td>0</td>\n      <td>0</td>\n      <td>0</td>\n      <td>0</td>\n      <td>0</td>\n      <td>0</td>\n      <td>1</td>\n      <td>0</td>\n      <td>0</td>\n      <td>0</td>\n      <td>1</td>\n      <td>0</td>\n      <td>0</td>\n      <td>0</td>\n      <td>0</td>\n      <td>0</td>\n      <td>0</td>\n      <td>0</td>\n      <td>0</td>\n      <td>0</td>\n      <td>0</td>\n      <td>1</td>\n      <td>0</td>\n      <td>0</td>\n      <td>0</td>\n      <td>0</td>\n      <td>0</td>\n      <td>0</td>\n      <td>0</td>\n      <td>0</td>\n      <td>0</td>\n      <td>0</td>\n      <td>0</td>\n      <td>0</td>\n      <td>0</td>\n      <td>0</td>\n      <td>0</td>\n      <td>0</td>\n      <td>0</td>\n      <td>0</td>\n      <td>0</td>\n      <td>0</td>\n      <td>0</td>\n      <td>0</td>\n      <td>0</td>\n      <td>0</td>\n      <td>0</td>\n      <td>0</td>\n      <td>0</td>\n      <td>0</td>\n      <td>0</td>\n      <td>0</td>\n      <td>0</td>\n      <td>0</td>\n      <td>0</td>\n      <td>0</td>\n      <td>0</td>\n      <td>0</td>\n      <td>0</td>\n      <td>0</td>\n      <td>0</td>\n      <td>0</td>\n      <td>0</td>\n      <td>0</td>\n      <td>0</td>\n      <td>0</td>\n      <td>0</td>\n      <td>0</td>\n      <td>0</td>\n      <td>0</td>\n      <td>0</td>\n      <td>0</td>\n      <td>0</td>\n      <td>1</td>\n      <td>0</td>\n      <td>0</td>\n      <td>0</td>\n      <td>0</td>\n      <td>0</td>\n      <td>0</td>\n      <td>0</td>\n      <td>0</td>\n      <td>0</td>\n      <td>0</td>\n      <td>0</td>\n      <td>0</td>\n      <td>0</td>\n      <td>0</td>\n      <td>0</td>\n      <td>0</td>\n      <td>0</td>\n      <td>0</td>\n      <td>0</td>\n      <td>0</td>\n      <td>0</td>\n      <td>0</td>\n      <td>0</td>\n      <td>0</td>\n      <td>0</td>\n      <td>0</td>\n      <td>0</td>\n      <td>0</td>\n      <td>0</td>\n      <td>0</td>\n      <td>0</td>\n      <td>1</td>\n      <td>0</td>\n      <td>0</td>\n      <td>0</td>\n      <td>0</td>\n      <td>0</td>\n      <td>0</td>\n      <td>0</td>\n      <td>0</td>\n      <td>0</td>\n      <td>0</td>\n      <td>0</td>\n      <td>0</td>\n      <td>0</td>\n      <td>0</td>\n      <td>9799.0</td>\n      <td>5715.0</td>\n      <td>68.070313</td>\n      <td>26.798347</td>\n      <td>75.528625</td>\n      <td>18.427084</td>\n      <td>36.439433</td>\n      <td>64.807429</td>\n      <td>0.153739</td>\n      <td>0.038883</td>\n      <td>49.682519</td>\n      <td>0.846743</td>\n      <td>5.614936</td>\n      <td>121.917645</td>\n      <td>0.024841</td>\n      <td>0.086924</td>\n      <td>16.276470</td>\n      <td>46.818247</td>\n      <td>13.771099</td>\n      <td>4.419889</td>\n      <td>4.119678</td>\n      <td>3.339694</td>\n      <td>3.052060</td>\n      <td>5.836578</td>\n      <td>11.428119</td>\n      <td>11.333052</td>\n      <td>9.433850</td>\n      <td>14.124586</td>\n      <td>0.191165</td>\n      <td>1.486115</td>\n      <td>1.415775</td>\n      <td>1.205879</td>\n      <td>1.115817</td>\n      <td>1.764145</td>\n      <td>2.436077</td>\n      <td>2.427723</td>\n      <td>2.244304</td>\n      <td>2.647917</td>\n      <td>4.220541</td>\n      <td>2.789721</td>\n      <td>3.846273</td>\n      <td>2.622572</td>\n      <td>-1.652526</td>\n      <td>3.288340</td>\n    </tr>\n  </tbody>\n</table>\n<p>74409 rows × 232 columns</p>\n</div>"
     },
     "metadata": {},
     "execution_count": 214
    }
   ],
   "source": [
    "df_simd = pd.read_csv(\"data/simd_2020_ward.csv\", index_col=0)\n",
    "df_stopsearch = pd.read_csv(\"data/stop_search_clean.csv\", index_col=0)\n",
    "df_stopsearch = df_stopsearch.rename(columns={\"Multi Member Ward\":\"ward_code\"})\n",
    "\n",
    "df_init = df_stopsearch.merge(right=df_simd, how=\"left\", on=\"ward_code\", validate=\"many_to_one\")\n",
    "df_init\n"
   ]
  },
  {
   "cell_type": "code",
   "execution_count": 215,
   "metadata": {},
   "outputs": [],
   "source": [
    "label = \"Search Result\"\n",
    "s_labels = df_init[label]\n",
    "df_init = df_init.drop(label, axis=1)\n",
    "df_init = df_init.drop(\"ward_code\", axis=1)"
   ]
  },
  {
   "source": [
    "## Split Data"
   ],
   "cell_type": "markdown",
   "metadata": {}
  },
  {
   "cell_type": "code",
   "execution_count": 216,
   "metadata": {},
   "outputs": [],
   "source": [
    "from sklearn.model_selection import train_test_split\n",
    "\n",
    "X_train_init, X_val_init, y_train, y_val = train_test_split(df_init.copy(), s_labels.copy(), random_state=42, test_size=0.5)\n",
    "X_test_init, X_val_init, y_test, y_val = train_test_split(X_val_init, y_val, random_state=42, test_size=0.5)"
   ]
  },
  {
   "source": [
    "# Initial Model\n",
    "\n",
    "Intuitively we might expect the stop and search data on its own to have some predictive power in the outcome of a stop and search. We'll first build this model and then try and improve upon it with the deprivation data.\n",
    "\n",
    "We have a lot of features even in just the stop and search data - many of them one hot encodings of categorical variables. We will try and cut them down to what we think are the most useful initially.\n",
    "\n",
    "- The date/time columns are difficult to work with, so we will drop those initially.\n",
    "- Descriptions of items found are not predicting features, they would be targets and these can be our stretch goal for the project.\n",
    "- The search statute and search reason could be useful but have a feeling they could be well correlated, can we explore this?\n",
    "- Age, gender, ethnicity are definitely going to be important.\n",
    "- Command Code, Area Command Code and Council code could be useful to link areas that are close together or operate under the same police command.\n",
    "\n",
    "Initially, we'll start with just Age, Gender and Ethinicity\n"
   ],
   "cell_type": "markdown",
   "metadata": {}
  },
  {
   "cell_type": "code",
   "execution_count": 217,
   "metadata": {},
   "outputs": [
    {
     "output_type": "stream",
     "name": "stdout",
     "text": [
      "Training score: 0.642\nValidation Score:0.646\n"
     ]
    }
   ],
   "source": [
    "cols = X_train_init.columns[X_train_init.columns.str.contains(\"Ethnic Group.*\", regex=True)].to_list()\n",
    "cols += [\"Nominal Age\", \"Nominal Gender_Male\"]\n",
    "\n",
    "X_train = X_train_init[cols]\n",
    "X_val = X_val_init[cols]\n",
    "\n",
    "from sklearn.linear_model import LogisticRegression\n",
    "\n",
    "models = {}\n",
    "\n",
    "model=\"Age, Ethnicity, Gender\"\n",
    "#don't apply regularisation: our features are not standaridezed and we want to avoid this to aid interpretation\n",
    "models[model] = LogisticRegression(\n",
    "    penalty=\"none\"\n",
    "    )\n",
    "\n",
    "models[model].fit(X_train, y_train)\n",
    "\n",
    "print(\"Training score: {:.3f}\\nValidation Score:{:.3f}\".format(models[model].score(X_train, y_train), models[model].score(X_val, y_val)))"
   ]
  },
  {
   "source": [
    "### Accuracy"
   ],
   "cell_type": "markdown",
   "metadata": {}
  },
  {
   "cell_type": "code",
   "execution_count": 218,
   "metadata": {},
   "outputs": [
    {
     "output_type": "stream",
     "name": "stdout",
     "text": [
      "Proportion of positive outcomes = 0.3578378668960327\n"
     ]
    }
   ],
   "source": [
    "positive = y_train[y_train==1].count()\n",
    "negative = y_train[y_train==0].count()\n",
    "\n",
    "print(f\"Proportion of positive outcomes = {positive/(positive+negative)}\")"
   ]
  },
  {
   "source": [
    "Given that our data is split approximately 1/3 and 2/3 positive and negative outcomes, a 64% accuracy could mean our model is successful just always predicting negative.\n",
    "\n",
    "We can check other metrics to explore how effective our model actually is:\n",
    "- True positive rate and false negative rates\n",
    "- AUC ROC score"
   ],
   "cell_type": "markdown",
   "metadata": {}
  },
  {
   "source": [
    "### Confusion Matrix"
   ],
   "cell_type": "markdown",
   "metadata": {}
  },
  {
   "cell_type": "code",
   "execution_count": 219,
   "metadata": {},
   "outputs": [
    {
     "output_type": "stream",
     "name": "stdout",
     "text": [
      "True Negatives: 23,852\nFalse Positives: 39\nFalse Negatives: 13,270\nTrue Positives: 43\n\nTrue positive rate: 0.003230\nFalse positive rate: 0.001632\nConfusion matrix:\n [[23852    39]\n [13270    43]]\n"
     ]
    },
    {
     "output_type": "display_data",
     "data": {
      "text/plain": "<Figure size 432x288 with 2 Axes>",
      "image/svg+xml": "<?xml version=\"1.0\" encoding=\"utf-8\" standalone=\"no\"?>\n<!DOCTYPE svg PUBLIC \"-//W3C//DTD SVG 1.1//EN\"\n  \"http://www.w3.org/Graphics/SVG/1.1/DTD/svg11.dtd\">\n<!-- Created with matplotlib (https://matplotlib.org/) -->\n<svg height=\"277.314375pt\" version=\"1.1\" viewBox=\"0 0 354.791062 277.314375\" width=\"354.791062pt\" xmlns=\"http://www.w3.org/2000/svg\" xmlns:xlink=\"http://www.w3.org/1999/xlink\">\n <metadata>\n  <rdf:RDF xmlns:cc=\"http://creativecommons.org/ns#\" xmlns:dc=\"http://purl.org/dc/elements/1.1/\" xmlns:rdf=\"http://www.w3.org/1999/02/22-rdf-syntax-ns#\">\n   <cc:Work>\n    <dc:type rdf:resource=\"http://purl.org/dc/dcmitype/StillImage\"/>\n    <dc:date>2021-04-23T11:11:57.402957</dc:date>\n    <dc:format>image/svg+xml</dc:format>\n    <dc:creator>\n     <cc:Agent>\n      <dc:title>Matplotlib v3.3.4, https://matplotlib.org/</dc:title>\n     </cc:Agent>\n    </dc:creator>\n   </cc:Work>\n  </rdf:RDF>\n </metadata>\n <defs>\n  <style type=\"text/css\">*{stroke-linecap:butt;stroke-linejoin:round;}</style>\n </defs>\n <g id=\"figure_1\">\n  <g id=\"patch_1\">\n   <path d=\"M 0 277.314375 \nL 354.791062 277.314375 \nL 354.791062 0 \nL 0 0 \nz\n\" style=\"fill:none;\"/>\n  </g>\n  <g id=\"axes_1\">\n   <g id=\"patch_2\">\n    <path d=\"M 63.726563 256.43625 \nL 281.166562 256.43625 \nL 281.166562 38.99625 \nL 63.726563 38.99625 \nz\n\" style=\"fill:#ffffff;\"/>\n   </g>\n   <g clip-path=\"url(#pc0a552ff85)\">\n    <image height=\"218\" id=\"image9b3ff5a4d0\" transform=\"scale(1 -1)translate(0 -218)\" width=\"218\" x=\"63.726563\" xlink:href=\"data:image/png;base64,\niVBORw0KGgoAAAANSUhEUgAAANoAAADaCAYAAADAHVzbAAACmklEQVR4nO3VQQ3CUAAFQcoJOeCG1AJ2eifoIcEKEloN/7I/hBkF77J5y/312U/8lOd6mz2BQefZA+AfCA0CQoOA0CAgNAgIDQJCg4DQICA0CAgNAkKDgNAgIDQICA0CQoOA0CAgNAgIDQJCg4DQICA0CAgNAkKDgNAgIDQICA0CQoOA0CAgNAgIDQJCg4DQICA0CAgNAkKDgNAgIDQICA0CQoOA0CAgNAgIDQJCg4DQICA0CAgNAkKDgNAgIDQICA0CQoOA0CAgNAgIDQJCg4DQICA0CAgNAkKDgNAgIDQICA0CQoOA0CAgNAgIDQJCg4DQICA0CAgNAkKDgNAgIDQICA0CQoOA0CAgNAgIDQJCg4DQICA0CAgNAkKDgNAgIDQICA0CQoOA0CAgNAgIDQJCg4DQICA0CAgNAkKDgNAgIDQICA0CQoOA0CAgNAgIDQJCg4DQICA0CAgNAkKDgNAgsFyuj332CMZ839vsCQzyaBAQGgSEBgGhQUBoEBAaBIQGAaFBQGgQEBoEhAYBoUFAaBAQGgSEBgGhQUBoEBAaBIQGAaFBQGgQEBoEhAYBoUFAaBAQGgSEBgGhQUBoEBAaBIQGAaFBQGgQEBoEhAYBoUFAaBAQGgSEBgGhQUBoEBAaBIQGAaFBQGgQEBoEhAYBoUFAaBAQGgSEBgGhQUBoEBAaBIQGAaFBQGgQEBoEhAYBoUFAaBAQGgSEBgGhQUBoEBAaBIQGAaFBQGgQEBoEhAYBoUFAaBAQGgSEBgGhQUBoEBAaBIQGAaFBQGgQEBoEhAYBoUFAaBAQGgSEBgGhQUBoEBAaBIQGAaFBQGgQEBoEhAYBoUFAaBAQGgSEBgGhQUBoEBAaBIQGAaFBQGgQEBoEhAYBoUHgAHgBCZOQH2lWAAAAAElFTkSuQmCC\" y=\"-38.43625\"/>\n   </g>\n   <g id=\"matplotlib.axis_1\">\n    <g id=\"xtick_1\">\n     <g id=\"line2d_1\">\n      <defs>\n       <path d=\"M 0 0 \nL 0 3.5 \n\" id=\"mcf273fc3f2\" style=\"stroke:#000000;stroke-width:0.8;\"/>\n      </defs>\n      <g>\n       <use style=\"stroke:#000000;stroke-width:0.8;\" x=\"118.086563\" xlink:href=\"#mcf273fc3f2\" y=\"256.43625\"/>\n      </g>\n     </g>\n     <g id=\"line2d_2\">\n      <defs>\n       <path d=\"M 0 0 \nL 0 -3.5 \n\" id=\"me1b52286fc\" style=\"stroke:#000000;stroke-width:0.8;\"/>\n      </defs>\n      <g>\n       <use style=\"stroke:#000000;stroke-width:0.8;\" x=\"118.086563\" xlink:href=\"#me1b52286fc\" y=\"38.99625\"/>\n      </g>\n     </g>\n     <g id=\"text_1\">\n      <!-- Class 0 -->\n      <g transform=\"translate(100.162344 29.916562)scale(0.1 -0.1)\">\n       <defs>\n        <path d=\"M 64.40625 67.28125 \nL 64.40625 56.890625 \nQ 59.421875 61.53125 53.78125 63.8125 \nQ 48.140625 66.109375 41.796875 66.109375 \nQ 29.296875 66.109375 22.65625 58.46875 \nQ 16.015625 50.828125 16.015625 36.375 \nQ 16.015625 21.96875 22.65625 14.328125 \nQ 29.296875 6.6875 41.796875 6.6875 \nQ 48.140625 6.6875 53.78125 8.984375 \nQ 59.421875 11.28125 64.40625 15.921875 \nL 64.40625 5.609375 \nQ 59.234375 2.09375 53.4375 0.328125 \nQ 47.65625 -1.421875 41.21875 -1.421875 \nQ 24.65625 -1.421875 15.125 8.703125 \nQ 5.609375 18.84375 5.609375 36.375 \nQ 5.609375 53.953125 15.125 64.078125 \nQ 24.65625 74.21875 41.21875 74.21875 \nQ 47.75 74.21875 53.53125 72.484375 \nQ 59.328125 70.75 64.40625 67.28125 \nz\n\" id=\"DejaVuSans-67\"/>\n        <path d=\"M 9.421875 75.984375 \nL 18.40625 75.984375 \nL 18.40625 0 \nL 9.421875 0 \nz\n\" id=\"DejaVuSans-108\"/>\n        <path d=\"M 34.28125 27.484375 \nQ 23.390625 27.484375 19.1875 25 \nQ 14.984375 22.515625 14.984375 16.5 \nQ 14.984375 11.71875 18.140625 8.90625 \nQ 21.296875 6.109375 26.703125 6.109375 \nQ 34.1875 6.109375 38.703125 11.40625 \nQ 43.21875 16.703125 43.21875 25.484375 \nL 43.21875 27.484375 \nz\nM 52.203125 31.203125 \nL 52.203125 0 \nL 43.21875 0 \nL 43.21875 8.296875 \nQ 40.140625 3.328125 35.546875 0.953125 \nQ 30.953125 -1.421875 24.3125 -1.421875 \nQ 15.921875 -1.421875 10.953125 3.296875 \nQ 6 8.015625 6 15.921875 \nQ 6 25.140625 12.171875 29.828125 \nQ 18.359375 34.515625 30.609375 34.515625 \nL 43.21875 34.515625 \nL 43.21875 35.40625 \nQ 43.21875 41.609375 39.140625 45 \nQ 35.0625 48.390625 27.6875 48.390625 \nQ 23 48.390625 18.546875 47.265625 \nQ 14.109375 46.140625 10.015625 43.890625 \nL 10.015625 52.203125 \nQ 14.9375 54.109375 19.578125 55.046875 \nQ 24.21875 56 28.609375 56 \nQ 40.484375 56 46.34375 49.84375 \nQ 52.203125 43.703125 52.203125 31.203125 \nz\n\" id=\"DejaVuSans-97\"/>\n        <path d=\"M 44.28125 53.078125 \nL 44.28125 44.578125 \nQ 40.484375 46.53125 36.375 47.5 \nQ 32.28125 48.484375 27.875 48.484375 \nQ 21.1875 48.484375 17.84375 46.4375 \nQ 14.5 44.390625 14.5 40.28125 \nQ 14.5 37.15625 16.890625 35.375 \nQ 19.28125 33.59375 26.515625 31.984375 \nL 29.59375 31.296875 \nQ 39.15625 29.25 43.1875 25.515625 \nQ 47.21875 21.78125 47.21875 15.09375 \nQ 47.21875 7.46875 41.1875 3.015625 \nQ 35.15625 -1.421875 24.609375 -1.421875 \nQ 20.21875 -1.421875 15.453125 -0.5625 \nQ 10.6875 0.296875 5.421875 2 \nL 5.421875 11.28125 \nQ 10.40625 8.6875 15.234375 7.390625 \nQ 20.0625 6.109375 24.8125 6.109375 \nQ 31.15625 6.109375 34.5625 8.28125 \nQ 37.984375 10.453125 37.984375 14.40625 \nQ 37.984375 18.0625 35.515625 20.015625 \nQ 33.0625 21.96875 24.703125 23.78125 \nL 21.578125 24.515625 \nQ 13.234375 26.265625 9.515625 29.90625 \nQ 5.8125 33.546875 5.8125 39.890625 \nQ 5.8125 47.609375 11.28125 51.796875 \nQ 16.75 56 26.8125 56 \nQ 31.78125 56 36.171875 55.265625 \nQ 40.578125 54.546875 44.28125 53.078125 \nz\n\" id=\"DejaVuSans-115\"/>\n        <path id=\"DejaVuSans-32\"/>\n        <path d=\"M 31.78125 66.40625 \nQ 24.171875 66.40625 20.328125 58.90625 \nQ 16.5 51.421875 16.5 36.375 \nQ 16.5 21.390625 20.328125 13.890625 \nQ 24.171875 6.390625 31.78125 6.390625 \nQ 39.453125 6.390625 43.28125 13.890625 \nQ 47.125 21.390625 47.125 36.375 \nQ 47.125 51.421875 43.28125 58.90625 \nQ 39.453125 66.40625 31.78125 66.40625 \nz\nM 31.78125 74.21875 \nQ 44.046875 74.21875 50.515625 64.515625 \nQ 56.984375 54.828125 56.984375 36.375 \nQ 56.984375 17.96875 50.515625 8.265625 \nQ 44.046875 -1.421875 31.78125 -1.421875 \nQ 19.53125 -1.421875 13.0625 8.265625 \nQ 6.59375 17.96875 6.59375 36.375 \nQ 6.59375 54.828125 13.0625 64.515625 \nQ 19.53125 74.21875 31.78125 74.21875 \nz\n\" id=\"DejaVuSans-48\"/>\n       </defs>\n       <use xlink:href=\"#DejaVuSans-67\"/>\n       <use x=\"69.824219\" xlink:href=\"#DejaVuSans-108\"/>\n       <use x=\"97.607422\" xlink:href=\"#DejaVuSans-97\"/>\n       <use x=\"158.886719\" xlink:href=\"#DejaVuSans-115\"/>\n       <use x=\"210.986328\" xlink:href=\"#DejaVuSans-115\"/>\n       <use x=\"263.085938\" xlink:href=\"#DejaVuSans-32\"/>\n       <use x=\"294.873047\" xlink:href=\"#DejaVuSans-48\"/>\n      </g>\n     </g>\n    </g>\n    <g id=\"xtick_2\">\n     <g id=\"line2d_3\">\n      <g>\n       <use style=\"stroke:#000000;stroke-width:0.8;\" x=\"226.806563\" xlink:href=\"#mcf273fc3f2\" y=\"256.43625\"/>\n      </g>\n     </g>\n     <g id=\"line2d_4\">\n      <g>\n       <use style=\"stroke:#000000;stroke-width:0.8;\" x=\"226.806563\" xlink:href=\"#me1b52286fc\" y=\"38.99625\"/>\n      </g>\n     </g>\n     <g id=\"text_2\">\n      <!-- Class 1 -->\n      <g transform=\"translate(208.882344 29.916562)scale(0.1 -0.1)\">\n       <defs>\n        <path d=\"M 12.40625 8.296875 \nL 28.515625 8.296875 \nL 28.515625 63.921875 \nL 10.984375 60.40625 \nL 10.984375 69.390625 \nL 28.421875 72.90625 \nL 38.28125 72.90625 \nL 38.28125 8.296875 \nL 54.390625 8.296875 \nL 54.390625 0 \nL 12.40625 0 \nz\n\" id=\"DejaVuSans-49\"/>\n       </defs>\n       <use xlink:href=\"#DejaVuSans-67\"/>\n       <use x=\"69.824219\" xlink:href=\"#DejaVuSans-108\"/>\n       <use x=\"97.607422\" xlink:href=\"#DejaVuSans-97\"/>\n       <use x=\"158.886719\" xlink:href=\"#DejaVuSans-115\"/>\n       <use x=\"210.986328\" xlink:href=\"#DejaVuSans-115\"/>\n       <use x=\"263.085938\" xlink:href=\"#DejaVuSans-32\"/>\n       <use x=\"294.873047\" xlink:href=\"#DejaVuSans-49\"/>\n      </g>\n     </g>\n    </g>\n    <g id=\"text_3\">\n     <!-- Predicted -->\n     <g transform=\"translate(148.97625 268.034687)scale(0.1 -0.1)\">\n      <defs>\n       <path d=\"M 19.671875 64.796875 \nL 19.671875 37.40625 \nL 32.078125 37.40625 \nQ 38.96875 37.40625 42.71875 40.96875 \nQ 46.484375 44.53125 46.484375 51.125 \nQ 46.484375 57.671875 42.71875 61.234375 \nQ 38.96875 64.796875 32.078125 64.796875 \nz\nM 9.8125 72.90625 \nL 32.078125 72.90625 \nQ 44.34375 72.90625 50.609375 67.359375 \nQ 56.890625 61.8125 56.890625 51.125 \nQ 56.890625 40.328125 50.609375 34.8125 \nQ 44.34375 29.296875 32.078125 29.296875 \nL 19.671875 29.296875 \nL 19.671875 0 \nL 9.8125 0 \nz\n\" id=\"DejaVuSans-80\"/>\n       <path d=\"M 41.109375 46.296875 \nQ 39.59375 47.171875 37.8125 47.578125 \nQ 36.03125 48 33.890625 48 \nQ 26.265625 48 22.1875 43.046875 \nQ 18.109375 38.09375 18.109375 28.8125 \nL 18.109375 0 \nL 9.078125 0 \nL 9.078125 54.6875 \nL 18.109375 54.6875 \nL 18.109375 46.1875 \nQ 20.953125 51.171875 25.484375 53.578125 \nQ 30.03125 56 36.53125 56 \nQ 37.453125 56 38.578125 55.875 \nQ 39.703125 55.765625 41.0625 55.515625 \nz\n\" id=\"DejaVuSans-114\"/>\n       <path d=\"M 56.203125 29.59375 \nL 56.203125 25.203125 \nL 14.890625 25.203125 \nQ 15.484375 15.921875 20.484375 11.0625 \nQ 25.484375 6.203125 34.421875 6.203125 \nQ 39.59375 6.203125 44.453125 7.46875 \nQ 49.3125 8.734375 54.109375 11.28125 \nL 54.109375 2.78125 \nQ 49.265625 0.734375 44.1875 -0.34375 \nQ 39.109375 -1.421875 33.890625 -1.421875 \nQ 20.796875 -1.421875 13.15625 6.1875 \nQ 5.515625 13.8125 5.515625 26.8125 \nQ 5.515625 40.234375 12.765625 48.109375 \nQ 20.015625 56 32.328125 56 \nQ 43.359375 56 49.78125 48.890625 \nQ 56.203125 41.796875 56.203125 29.59375 \nz\nM 47.21875 32.234375 \nQ 47.125 39.59375 43.09375 43.984375 \nQ 39.0625 48.390625 32.421875 48.390625 \nQ 24.90625 48.390625 20.390625 44.140625 \nQ 15.875 39.890625 15.1875 32.171875 \nz\n\" id=\"DejaVuSans-101\"/>\n       <path d=\"M 45.40625 46.390625 \nL 45.40625 75.984375 \nL 54.390625 75.984375 \nL 54.390625 0 \nL 45.40625 0 \nL 45.40625 8.203125 \nQ 42.578125 3.328125 38.25 0.953125 \nQ 33.9375 -1.421875 27.875 -1.421875 \nQ 17.96875 -1.421875 11.734375 6.484375 \nQ 5.515625 14.40625 5.515625 27.296875 \nQ 5.515625 40.1875 11.734375 48.09375 \nQ 17.96875 56 27.875 56 \nQ 33.9375 56 38.25 53.625 \nQ 42.578125 51.265625 45.40625 46.390625 \nz\nM 14.796875 27.296875 \nQ 14.796875 17.390625 18.875 11.75 \nQ 22.953125 6.109375 30.078125 6.109375 \nQ 37.203125 6.109375 41.296875 11.75 \nQ 45.40625 17.390625 45.40625 27.296875 \nQ 45.40625 37.203125 41.296875 42.84375 \nQ 37.203125 48.484375 30.078125 48.484375 \nQ 22.953125 48.484375 18.875 42.84375 \nQ 14.796875 37.203125 14.796875 27.296875 \nz\n\" id=\"DejaVuSans-100\"/>\n       <path d=\"M 9.421875 54.6875 \nL 18.40625 54.6875 \nL 18.40625 0 \nL 9.421875 0 \nz\nM 9.421875 75.984375 \nL 18.40625 75.984375 \nL 18.40625 64.59375 \nL 9.421875 64.59375 \nz\n\" id=\"DejaVuSans-105\"/>\n       <path d=\"M 48.78125 52.59375 \nL 48.78125 44.1875 \nQ 44.96875 46.296875 41.140625 47.34375 \nQ 37.3125 48.390625 33.40625 48.390625 \nQ 24.65625 48.390625 19.8125 42.84375 \nQ 14.984375 37.3125 14.984375 27.296875 \nQ 14.984375 17.28125 19.8125 11.734375 \nQ 24.65625 6.203125 33.40625 6.203125 \nQ 37.3125 6.203125 41.140625 7.25 \nQ 44.96875 8.296875 48.78125 10.40625 \nL 48.78125 2.09375 \nQ 45.015625 0.34375 40.984375 -0.53125 \nQ 36.96875 -1.421875 32.421875 -1.421875 \nQ 20.0625 -1.421875 12.78125 6.34375 \nQ 5.515625 14.109375 5.515625 27.296875 \nQ 5.515625 40.671875 12.859375 48.328125 \nQ 20.21875 56 33.015625 56 \nQ 37.15625 56 41.109375 55.140625 \nQ 45.0625 54.296875 48.78125 52.59375 \nz\n\" id=\"DejaVuSans-99\"/>\n       <path d=\"M 18.3125 70.21875 \nL 18.3125 54.6875 \nL 36.8125 54.6875 \nL 36.8125 47.703125 \nL 18.3125 47.703125 \nL 18.3125 18.015625 \nQ 18.3125 11.328125 20.140625 9.421875 \nQ 21.96875 7.515625 27.59375 7.515625 \nL 36.8125 7.515625 \nL 36.8125 0 \nL 27.59375 0 \nQ 17.1875 0 13.234375 3.875 \nQ 9.28125 7.765625 9.28125 18.015625 \nL 9.28125 47.703125 \nL 2.6875 47.703125 \nL 2.6875 54.6875 \nL 9.28125 54.6875 \nL 9.28125 70.21875 \nz\n\" id=\"DejaVuSans-116\"/>\n      </defs>\n      <use xlink:href=\"#DejaVuSans-80\"/>\n      <use x=\"58.552734\" xlink:href=\"#DejaVuSans-114\"/>\n      <use x=\"97.416016\" xlink:href=\"#DejaVuSans-101\"/>\n      <use x=\"158.939453\" xlink:href=\"#DejaVuSans-100\"/>\n      <use x=\"222.416016\" xlink:href=\"#DejaVuSans-105\"/>\n      <use x=\"250.199219\" xlink:href=\"#DejaVuSans-99\"/>\n      <use x=\"305.179688\" xlink:href=\"#DejaVuSans-116\"/>\n      <use x=\"344.388672\" xlink:href=\"#DejaVuSans-101\"/>\n      <use x=\"405.912109\" xlink:href=\"#DejaVuSans-100\"/>\n     </g>\n    </g>\n   </g>\n   <g id=\"matplotlib.axis_2\">\n    <g id=\"ytick_1\">\n     <g id=\"line2d_5\">\n      <defs>\n       <path d=\"M 0 0 \nL -3.5 0 \n\" id=\"mad63a755ba\" style=\"stroke:#000000;stroke-width:0.8;\"/>\n      </defs>\n      <g>\n       <use style=\"stroke:#000000;stroke-width:0.8;\" x=\"63.726563\" xlink:href=\"#mad63a755ba\" y=\"93.35625\"/>\n      </g>\n     </g>\n     <g id=\"text_4\">\n      <!-- Class 0 -->\n      <g transform=\"translate(20.878125 97.155469)scale(0.1 -0.1)\">\n       <use xlink:href=\"#DejaVuSans-67\"/>\n       <use x=\"69.824219\" xlink:href=\"#DejaVuSans-108\"/>\n       <use x=\"97.607422\" xlink:href=\"#DejaVuSans-97\"/>\n       <use x=\"158.886719\" xlink:href=\"#DejaVuSans-115\"/>\n       <use x=\"210.986328\" xlink:href=\"#DejaVuSans-115\"/>\n       <use x=\"263.085938\" xlink:href=\"#DejaVuSans-32\"/>\n       <use x=\"294.873047\" xlink:href=\"#DejaVuSans-48\"/>\n      </g>\n     </g>\n    </g>\n    <g id=\"ytick_2\">\n     <g id=\"line2d_6\">\n      <g>\n       <use style=\"stroke:#000000;stroke-width:0.8;\" x=\"63.726563\" xlink:href=\"#mad63a755ba\" y=\"202.07625\"/>\n      </g>\n     </g>\n     <g id=\"text_5\">\n      <!-- Class 1 -->\n      <g transform=\"translate(20.878125 205.875469)scale(0.1 -0.1)\">\n       <use xlink:href=\"#DejaVuSans-67\"/>\n       <use x=\"69.824219\" xlink:href=\"#DejaVuSans-108\"/>\n       <use x=\"97.607422\" xlink:href=\"#DejaVuSans-97\"/>\n       <use x=\"158.886719\" xlink:href=\"#DejaVuSans-115\"/>\n       <use x=\"210.986328\" xlink:href=\"#DejaVuSans-115\"/>\n       <use x=\"263.085938\" xlink:href=\"#DejaVuSans-32\"/>\n       <use x=\"294.873047\" xlink:href=\"#DejaVuSans-49\"/>\n      </g>\n     </g>\n    </g>\n    <g id=\"text_6\">\n     <!-- Expected -->\n     <g transform=\"translate(14.798438 171.045937)rotate(-90)scale(0.1 -0.1)\">\n      <defs>\n       <path d=\"M 9.8125 72.90625 \nL 55.90625 72.90625 \nL 55.90625 64.59375 \nL 19.671875 64.59375 \nL 19.671875 43.015625 \nL 54.390625 43.015625 \nL 54.390625 34.71875 \nL 19.671875 34.71875 \nL 19.671875 8.296875 \nL 56.78125 8.296875 \nL 56.78125 0 \nL 9.8125 0 \nz\n\" id=\"DejaVuSans-69\"/>\n       <path d=\"M 54.890625 54.6875 \nL 35.109375 28.078125 \nL 55.90625 0 \nL 45.3125 0 \nL 29.390625 21.484375 \nL 13.484375 0 \nL 2.875 0 \nL 24.125 28.609375 \nL 4.6875 54.6875 \nL 15.28125 54.6875 \nL 29.78125 35.203125 \nL 44.28125 54.6875 \nz\n\" id=\"DejaVuSans-120\"/>\n       <path d=\"M 18.109375 8.203125 \nL 18.109375 -20.796875 \nL 9.078125 -20.796875 \nL 9.078125 54.6875 \nL 18.109375 54.6875 \nL 18.109375 46.390625 \nQ 20.953125 51.265625 25.265625 53.625 \nQ 29.59375 56 35.59375 56 \nQ 45.5625 56 51.78125 48.09375 \nQ 58.015625 40.1875 58.015625 27.296875 \nQ 58.015625 14.40625 51.78125 6.484375 \nQ 45.5625 -1.421875 35.59375 -1.421875 \nQ 29.59375 -1.421875 25.265625 0.953125 \nQ 20.953125 3.328125 18.109375 8.203125 \nz\nM 48.6875 27.296875 \nQ 48.6875 37.203125 44.609375 42.84375 \nQ 40.53125 48.484375 33.40625 48.484375 \nQ 26.265625 48.484375 22.1875 42.84375 \nQ 18.109375 37.203125 18.109375 27.296875 \nQ 18.109375 17.390625 22.1875 11.75 \nQ 26.265625 6.109375 33.40625 6.109375 \nQ 40.53125 6.109375 44.609375 11.75 \nQ 48.6875 17.390625 48.6875 27.296875 \nz\n\" id=\"DejaVuSans-112\"/>\n      </defs>\n      <use xlink:href=\"#DejaVuSans-69\"/>\n      <use x=\"63.183594\" xlink:href=\"#DejaVuSans-120\"/>\n      <use x=\"122.363281\" xlink:href=\"#DejaVuSans-112\"/>\n      <use x=\"185.839844\" xlink:href=\"#DejaVuSans-101\"/>\n      <use x=\"247.363281\" xlink:href=\"#DejaVuSans-99\"/>\n      <use x=\"302.34375\" xlink:href=\"#DejaVuSans-116\"/>\n      <use x=\"341.552734\" xlink:href=\"#DejaVuSans-101\"/>\n      <use x=\"403.076172\" xlink:href=\"#DejaVuSans-100\"/>\n     </g>\n    </g>\n   </g>\n   <g id=\"patch_3\">\n    <path d=\"M 63.726563 256.43625 \nL 63.726563 38.99625 \n\" style=\"fill:none;stroke:#000000;stroke-linecap:square;stroke-linejoin:miter;stroke-width:0.8;\"/>\n   </g>\n   <g id=\"patch_4\">\n    <path d=\"M 281.166562 256.43625 \nL 281.166562 38.99625 \n\" style=\"fill:none;stroke:#000000;stroke-linecap:square;stroke-linejoin:miter;stroke-width:0.8;\"/>\n   </g>\n   <g id=\"patch_5\">\n    <path d=\"M 63.726563 256.43625 \nL 281.166562 256.43625 \n\" style=\"fill:none;stroke:#000000;stroke-linecap:square;stroke-linejoin:miter;stroke-width:0.8;\"/>\n   </g>\n   <g id=\"patch_6\">\n    <path d=\"M 63.726563 38.99625 \nL 281.166562 38.99625 \n\" style=\"fill:none;stroke:#000000;stroke-linecap:square;stroke-linejoin:miter;stroke-width:0.8;\"/>\n   </g>\n   <g id=\"text_7\">\n    <!-- Confusion Matrix -->\n    <g transform=\"translate(121.804688 16.318125)scale(0.12 -0.12)\">\n     <defs>\n      <path d=\"M 30.609375 48.390625 \nQ 23.390625 48.390625 19.1875 42.75 \nQ 14.984375 37.109375 14.984375 27.296875 \nQ 14.984375 17.484375 19.15625 11.84375 \nQ 23.34375 6.203125 30.609375 6.203125 \nQ 37.796875 6.203125 41.984375 11.859375 \nQ 46.1875 17.53125 46.1875 27.296875 \nQ 46.1875 37.015625 41.984375 42.703125 \nQ 37.796875 48.390625 30.609375 48.390625 \nz\nM 30.609375 56 \nQ 42.328125 56 49.015625 48.375 \nQ 55.71875 40.765625 55.71875 27.296875 \nQ 55.71875 13.875 49.015625 6.21875 \nQ 42.328125 -1.421875 30.609375 -1.421875 \nQ 18.84375 -1.421875 12.171875 6.21875 \nQ 5.515625 13.875 5.515625 27.296875 \nQ 5.515625 40.765625 12.171875 48.375 \nQ 18.84375 56 30.609375 56 \nz\n\" id=\"DejaVuSans-111\"/>\n      <path d=\"M 54.890625 33.015625 \nL 54.890625 0 \nL 45.90625 0 \nL 45.90625 32.71875 \nQ 45.90625 40.484375 42.875 44.328125 \nQ 39.84375 48.1875 33.796875 48.1875 \nQ 26.515625 48.1875 22.3125 43.546875 \nQ 18.109375 38.921875 18.109375 30.90625 \nL 18.109375 0 \nL 9.078125 0 \nL 9.078125 54.6875 \nL 18.109375 54.6875 \nL 18.109375 46.1875 \nQ 21.34375 51.125 25.703125 53.5625 \nQ 30.078125 56 35.796875 56 \nQ 45.21875 56 50.046875 50.171875 \nQ 54.890625 44.34375 54.890625 33.015625 \nz\n\" id=\"DejaVuSans-110\"/>\n      <path d=\"M 37.109375 75.984375 \nL 37.109375 68.5 \nL 28.515625 68.5 \nQ 23.6875 68.5 21.796875 66.546875 \nQ 19.921875 64.59375 19.921875 59.515625 \nL 19.921875 54.6875 \nL 34.71875 54.6875 \nL 34.71875 47.703125 \nL 19.921875 47.703125 \nL 19.921875 0 \nL 10.890625 0 \nL 10.890625 47.703125 \nL 2.296875 47.703125 \nL 2.296875 54.6875 \nL 10.890625 54.6875 \nL 10.890625 58.5 \nQ 10.890625 67.625 15.140625 71.796875 \nQ 19.390625 75.984375 28.609375 75.984375 \nz\n\" id=\"DejaVuSans-102\"/>\n      <path d=\"M 8.5 21.578125 \nL 8.5 54.6875 \nL 17.484375 54.6875 \nL 17.484375 21.921875 \nQ 17.484375 14.15625 20.5 10.265625 \nQ 23.53125 6.390625 29.59375 6.390625 \nQ 36.859375 6.390625 41.078125 11.03125 \nQ 45.3125 15.671875 45.3125 23.6875 \nL 45.3125 54.6875 \nL 54.296875 54.6875 \nL 54.296875 0 \nL 45.3125 0 \nL 45.3125 8.40625 \nQ 42.046875 3.421875 37.71875 1 \nQ 33.40625 -1.421875 27.6875 -1.421875 \nQ 18.265625 -1.421875 13.375 4.4375 \nQ 8.5 10.296875 8.5 21.578125 \nz\nM 31.109375 56 \nz\n\" id=\"DejaVuSans-117\"/>\n      <path d=\"M 9.8125 72.90625 \nL 24.515625 72.90625 \nL 43.109375 23.296875 \nL 61.8125 72.90625 \nL 76.515625 72.90625 \nL 76.515625 0 \nL 66.890625 0 \nL 66.890625 64.015625 \nL 48.09375 14.015625 \nL 38.1875 14.015625 \nL 19.390625 64.015625 \nL 19.390625 0 \nL 9.8125 0 \nz\n\" id=\"DejaVuSans-77\"/>\n     </defs>\n     <use xlink:href=\"#DejaVuSans-67\"/>\n     <use x=\"69.824219\" xlink:href=\"#DejaVuSans-111\"/>\n     <use x=\"131.005859\" xlink:href=\"#DejaVuSans-110\"/>\n     <use x=\"194.384766\" xlink:href=\"#DejaVuSans-102\"/>\n     <use x=\"229.589844\" xlink:href=\"#DejaVuSans-117\"/>\n     <use x=\"292.96875\" xlink:href=\"#DejaVuSans-115\"/>\n     <use x=\"345.068359\" xlink:href=\"#DejaVuSans-105\"/>\n     <use x=\"372.851562\" xlink:href=\"#DejaVuSans-111\"/>\n     <use x=\"434.033203\" xlink:href=\"#DejaVuSans-110\"/>\n     <use x=\"497.412109\" xlink:href=\"#DejaVuSans-32\"/>\n     <use x=\"529.199219\" xlink:href=\"#DejaVuSans-77\"/>\n     <use x=\"615.478516\" xlink:href=\"#DejaVuSans-97\"/>\n     <use x=\"676.757812\" xlink:href=\"#DejaVuSans-116\"/>\n     <use x=\"715.966797\" xlink:href=\"#DejaVuSans-114\"/>\n     <use x=\"757.080078\" xlink:href=\"#DejaVuSans-105\"/>\n     <use x=\"784.863281\" xlink:href=\"#DejaVuSans-120\"/>\n    </g>\n   </g>\n  </g>\n  <g id=\"axes_2\">\n   <g id=\"patch_7\">\n    <path clip-path=\"url(#pf1ebdd7d57)\" d=\"M 297.906563 256.43625 \nL 297.906563 255.586875 \nL 297.906563 39.845625 \nL 297.906563 38.99625 \nL 308.778563 38.99625 \nL 308.778563 39.845625 \nL 308.778563 255.586875 \nL 308.778563 256.43625 \nz\n\" style=\"fill:#ffffff;stroke:#ffffff;stroke-linejoin:miter;stroke-width:0.01;\"/>\n   </g>\n   <image height=\"217\" id=\"image963feedadd\" transform=\"scale(1 -1)translate(0 -217)\" width=\"11\" x=\"298\" xlink:href=\"data:image/png;base64,\niVBORw0KGgoAAAANSUhEUgAAAAsAAADZCAYAAAD2WsoCAAABG0lEQVR4nO2YMQ5DIQxDqcT9j9uh+oSu7cYbnmQQna3IcRyH39f7M2db/PXZlrGtA2zrANt6rVM2aQAWUDpWOYTGOhYPBXAuUtmj4Uk3iflNGqiytbBo3CHxlbKwG0p3fPJf8/+Difk9GhnSDTH5rQvrxRdTIyNFi+lscUY0Ql4ycNwWjdIqm+YHlU01AHiAlGGbwuIrY60eogbjrJ1jVBmBvTsYYiRm/vXC6k3RjPSADvcMc7bdEeYXD72WdV58ed8pW3rDM7/4jI/wRoj5QypXrSd0CmdmpDvuHzBUIyIYxVfBOLxBtN3sXzXRGxo4w/whOp/vjYxxh3gDHvoIzoxGDQBmDaJN8SoT8PlqeN5AOt9x51X2xm01+AXeLt0TcCgzLwAAAABJRU5ErkJggg==\" y=\"-39\"/>\n   <g id=\"matplotlib.axis_3\"/>\n   <g id=\"matplotlib.axis_4\">\n    <g id=\"ytick_3\">\n     <g id=\"line2d_7\">\n      <defs>\n       <path d=\"M 0 0 \nL 3.5 0 \n\" id=\"meecd281315\" style=\"stroke:#000000;stroke-width:0.8;\"/>\n      </defs>\n      <g>\n       <use style=\"stroke:#000000;stroke-width:0.8;\" x=\"308.778563\" xlink:href=\"#meecd281315\" y=\"211.13663\"/>\n      </g>\n     </g>\n     <g id=\"text_8\">\n      <!-- 5000 -->\n      <g transform=\"translate(315.778563 214.935849)scale(0.1 -0.1)\">\n       <defs>\n        <path d=\"M 10.796875 72.90625 \nL 49.515625 72.90625 \nL 49.515625 64.59375 \nL 19.828125 64.59375 \nL 19.828125 46.734375 \nQ 21.96875 47.46875 24.109375 47.828125 \nQ 26.265625 48.1875 28.421875 48.1875 \nQ 40.625 48.1875 47.75 41.5 \nQ 54.890625 34.8125 54.890625 23.390625 \nQ 54.890625 11.625 47.5625 5.09375 \nQ 40.234375 -1.421875 26.90625 -1.421875 \nQ 22.3125 -1.421875 17.546875 -0.640625 \nQ 12.796875 0.140625 7.71875 1.703125 \nL 7.71875 11.625 \nQ 12.109375 9.234375 16.796875 8.0625 \nQ 21.484375 6.890625 26.703125 6.890625 \nQ 35.15625 6.890625 40.078125 11.328125 \nQ 45.015625 15.765625 45.015625 23.390625 \nQ 45.015625 31 40.078125 35.4375 \nQ 35.15625 39.890625 26.703125 39.890625 \nQ 22.75 39.890625 18.8125 39.015625 \nQ 14.890625 38.140625 10.796875 36.28125 \nz\n\" id=\"DejaVuSans-53\"/>\n       </defs>\n       <use xlink:href=\"#DejaVuSans-53\"/>\n       <use x=\"63.623047\" xlink:href=\"#DejaVuSans-48\"/>\n       <use x=\"127.246094\" xlink:href=\"#DejaVuSans-48\"/>\n       <use x=\"190.869141\" xlink:href=\"#DejaVuSans-48\"/>\n      </g>\n     </g>\n    </g>\n    <g id=\"ytick_4\">\n     <g id=\"line2d_8\">\n      <g>\n       <use style=\"stroke:#000000;stroke-width:0.8;\" x=\"308.778563\" xlink:href=\"#meecd281315\" y=\"165.480896\"/>\n      </g>\n     </g>\n     <g id=\"text_9\">\n      <!-- 10000 -->\n      <g transform=\"translate(315.778563 169.280115)scale(0.1 -0.1)\">\n       <use xlink:href=\"#DejaVuSans-49\"/>\n       <use x=\"63.623047\" xlink:href=\"#DejaVuSans-48\"/>\n       <use x=\"127.246094\" xlink:href=\"#DejaVuSans-48\"/>\n       <use x=\"190.869141\" xlink:href=\"#DejaVuSans-48\"/>\n       <use x=\"254.492188\" xlink:href=\"#DejaVuSans-48\"/>\n      </g>\n     </g>\n    </g>\n    <g id=\"ytick_5\">\n     <g id=\"line2d_9\">\n      <g>\n       <use style=\"stroke:#000000;stroke-width:0.8;\" x=\"308.778563\" xlink:href=\"#meecd281315\" y=\"119.825162\"/>\n      </g>\n     </g>\n     <g id=\"text_10\">\n      <!-- 15000 -->\n      <g transform=\"translate(315.778563 123.624381)scale(0.1 -0.1)\">\n       <use xlink:href=\"#DejaVuSans-49\"/>\n       <use x=\"63.623047\" xlink:href=\"#DejaVuSans-53\"/>\n       <use x=\"127.246094\" xlink:href=\"#DejaVuSans-48\"/>\n       <use x=\"190.869141\" xlink:href=\"#DejaVuSans-48\"/>\n       <use x=\"254.492188\" xlink:href=\"#DejaVuSans-48\"/>\n      </g>\n     </g>\n    </g>\n    <g id=\"ytick_6\">\n     <g id=\"line2d_10\">\n      <g>\n       <use style=\"stroke:#000000;stroke-width:0.8;\" x=\"308.778563\" xlink:href=\"#meecd281315\" y=\"74.169428\"/>\n      </g>\n     </g>\n     <g id=\"text_11\">\n      <!-- 20000 -->\n      <g transform=\"translate(315.778563 77.968646)scale(0.1 -0.1)\">\n       <defs>\n        <path d=\"M 19.1875 8.296875 \nL 53.609375 8.296875 \nL 53.609375 0 \nL 7.328125 0 \nL 7.328125 8.296875 \nQ 12.9375 14.109375 22.625 23.890625 \nQ 32.328125 33.6875 34.8125 36.53125 \nQ 39.546875 41.84375 41.421875 45.53125 \nQ 43.3125 49.21875 43.3125 52.78125 \nQ 43.3125 58.59375 39.234375 62.25 \nQ 35.15625 65.921875 28.609375 65.921875 \nQ 23.96875 65.921875 18.8125 64.3125 \nQ 13.671875 62.703125 7.8125 59.421875 \nL 7.8125 69.390625 \nQ 13.765625 71.78125 18.9375 73 \nQ 24.125 74.21875 28.421875 74.21875 \nQ 39.75 74.21875 46.484375 68.546875 \nQ 53.21875 62.890625 53.21875 53.421875 \nQ 53.21875 48.921875 51.53125 44.890625 \nQ 49.859375 40.875 45.40625 35.40625 \nQ 44.1875 33.984375 37.640625 27.21875 \nQ 31.109375 20.453125 19.1875 8.296875 \nz\n\" id=\"DejaVuSans-50\"/>\n       </defs>\n       <use xlink:href=\"#DejaVuSans-50\"/>\n       <use x=\"63.623047\" xlink:href=\"#DejaVuSans-48\"/>\n       <use x=\"127.246094\" xlink:href=\"#DejaVuSans-48\"/>\n       <use x=\"190.869141\" xlink:href=\"#DejaVuSans-48\"/>\n       <use x=\"254.492188\" xlink:href=\"#DejaVuSans-48\"/>\n      </g>\n     </g>\n    </g>\n   </g>\n   <g id=\"patch_8\">\n    <path d=\"M 297.906563 256.43625 \nL 297.906563 255.586875 \nL 297.906563 39.845625 \nL 297.906563 38.99625 \nL 308.778563 38.99625 \nL 308.778563 39.845625 \nL 308.778563 255.586875 \nL 308.778563 256.43625 \nz\n\" style=\"fill:none;stroke:#000000;stroke-linejoin:miter;stroke-width:0.8;\"/>\n   </g>\n  </g>\n </g>\n <defs>\n  <clipPath id=\"pc0a552ff85\">\n   <rect height=\"217.44\" width=\"217.44\" x=\"63.726563\" y=\"38.99625\"/>\n  </clipPath>\n  <clipPath id=\"pf1ebdd7d57\">\n   <rect height=\"217.44\" width=\"10.872\" x=\"297.906563\" y=\"38.99625\"/>\n  </clipPath>\n </defs>\n</svg>\n",
      "image/png": "[encoded data removed]"
     },
     "metadata": {
      "needs_background": "light"
     }
    }
   ],
   "source": [
    "from sklearn.metrics import confusion_matrix\n",
    "\n",
    "y_train_pred = classification_tools.predict_with_threshold(models[model], X_train, threshold=0.5)\n",
    "conf_mat = confusion_matrix(y_train, y_train_pred)\n",
    "tn, fp, fn, tp = conf_mat.ravel()\n",
    "\n",
    "print(\"True Negatives: {:,}\\nFalse Positives: {:,}\\nFalse Negatives: {:,}\\nTrue Positives: {:,}\\n\".format(tn,fp,fn,tp))\n",
    "\n",
    "print(\"True positive rate: {:3f}\".format(tp/(tp+fn)))\n",
    "print(\"False positive rate: {:3f}\".format(fp/(tn+fp)))\n",
    "\n",
    "classification_tools.plot_confusion_matrix(conf_mat)\n"
   ]
  },
  {
   "source": [
    "False positive rate is very low, this is good!\n",
    "\n",
    "True positive rate is very low, this is bad.\n",
    "\n",
    "The total propotion of positive predictions is very low, our model has simply learned to always predict negative. The ROC curve should backup the poor performance of our model."
   ],
   "cell_type": "markdown",
   "metadata": {}
  },
  {
   "source": [
    "### ROC Curve"
   ],
   "cell_type": "markdown",
   "metadata": {}
  },
  {
   "source": [
    "#### Train"
   ],
   "cell_type": "markdown",
   "metadata": {}
  },
  {
   "cell_type": "code",
   "execution_count": 220,
   "metadata": {},
   "outputs": [
    {
     "output_type": "display_data",
     "data": {
      "application/vnd.plotly.v1+json": {
       "config": {
        "plotlyServerURL": "https://plot.ly"
       },
       "data": [
        {
         "hovertemplate": "x=%{x}<br>y=%{y}<extra></extra>",
         "legendgroup": "",
         "line": {
          "color": "#636efa",
          "dash": "solid"
         },
         "mode": "lines",
         "name": "",
         "orientation": "v",
         "showlegend": false,
         "type": "scatter",
         "x": [
          0,
          0,
          0.00004185676614624754,
          0.00004185676614624754,
          0.00008371353229249508,
          0.0001255702984387426,
          0.00016742706458499016,
          0.0002092838307312377,
          0.0002092838307312377,
          0.0002511405968774852,
          0.0003348541291699803,
          0.0003348541291699803,
          0.0003767108953162279,
          0.000460424427608723,
          0.0005022811937549704,
          0.0005441379599012181,
          0.0006278514921937131,
          0.0006697082583399606,
          0.0007952785567787033,
          0.0008371353229249508,
          0.0008789920890711983,
          0.000920848855217446,
          0.0010464191536561885,
          0.0011301326859486835,
          0.0012557029843874262,
          0.0012975597505336738,
          0.0012975597505336738,
          0.0013812732828261689,
          0.0014231300489724165,
          0.0014231300489724165,
          0.0015068435812649115,
          0.0015905571135574066,
          0.0015905571135574066,
          0.0016742706458499016,
          0.0016742706458499016,
          0.0017161274119961492,
          0.0017579841781423966,
          0.0019672680088736343,
          0.0022184086057511197,
          0.0026788330333598425,
          0.003013687162529823,
          0.003306684525553556,
          0.0035159683562847933,
          0.003641538654723536,
          0.003850822485454774,
          0.0040182495500397635,
          0.004269390146917249,
          0.0043531036792097445,
          0.004436817211502239,
          0.004520530743794734,
          0.00460424427608723,
          0.004855384872964714,
          0.00493909840525721,
          0.00493909840525721,
          0.004980955171403457,
          0.004980955171403457,
          0.005022811937549705,
          0.005022811937549705,
          0.005022811937549705,
          0.0051065254698422,
          0.0051065254698422,
          0.005232095768280942,
          0.005357666066719685,
          0.005441379599012181,
          0.005692520195889666,
          0.005985517558913398,
          0.006362228454229626,
          0.006738939349545854,
          0.007492361140178309,
          0.008203926164664518,
          0.008789920890711983,
          0.009752626512075677,
          0.010254907705830648,
          0.010799045665731866,
          0.011426897157925579,
          0.012264032480850529,
          0.012640743376166757,
          0.012975597505336738,
          0.01310116780377548,
          0.013477878699091709,
          0.013729019295969194,
          0.013854589594407937,
          0.014022016658992926,
          0.014273157255870412,
          0.014398727554309154,
          0.014566154618894144,
          0.014691724917332886,
          0.014942865514210372,
          0.015026579046502868,
          0.015361433175672847,
          0.015445146707965342,
          0.015528860240257838,
          0.015696287304842828,
          0.015780000837135322,
          0.01582185760328157,
          0.01598928466786656,
          0.01598928466786656,
          0.01615671173245155,
          0.01615671173245155,
          0.01649156586162153,
          0.016742706458499016,
          0.0169938470553765,
          0.017454271482985225,
          0.017663555313716463,
          0.0178728391444477,
          0.017956552676740196,
          0.01804026620903269,
          0.01820769327361768,
          0.01841697710434892,
          0.018458833870495166,
          0.018626260935080154,
          0.018793687999665146,
          0.018835544765811393,
          0.01887740153195764,
          0.01891925829810389,
          0.018961115064250137,
          0.018961115064250137,
          0.019086685362688878,
          0.01925411242727387,
          0.019421539491858857,
          0.019505253024151355,
          0.0195471097902976,
          0.01958896655644385,
          0.01975639362102884,
          0.019923820685613828,
          0.019923820685613828,
          0.019923820685613828,
          0.01996567745176008,
          0.020049390984052572,
          0.020049390984052572,
          0.020133104516345066,
          0.020174961282491313,
          0.0204261018793688,
          0.020635385710100037,
          0.020677242476246284,
          0.020886526306977522,
          0.02092838307312377,
          0.02109581013770876,
          0.021137666903855008,
          0.021388807500732493,
          0.021639948097609978,
          0.021639948097609978,
          0.021765518396048723,
          0.021974802226779958,
          0.02214222929136495,
          0.022184086057511196,
          0.022267799589803693,
          0.02230965635594994,
          0.022477083420534928,
          0.022728224017412414,
          0.023063078146582396,
          0.02327236197731363,
          0.023397932275752376,
          0.023439789041898623,
          0.023607216106483614,
          0.023607216106483614,
          0.023607216106483614,
          0.023732786404922355,
          0.023732786404922355,
          0.023816499937214852,
          0.023900213469507346,
          0.023942070235653593,
          0.024025783767946087,
          0.024025783767946087,
          0.024276924364823572,
          0.024276924364823572,
          0.02436063789711607,
          0.02436063789711607,
          0.024402494663262317,
          0.02448620819555481,
          0.024528064961701058,
          0.024611778493993555,
          0.024611778493993555,
          0.02469549202628605,
          0.024737348792432296,
          0.02498848938930978,
          0.025072202921602275,
          0.025490770583064752,
          0.025951195010673476,
          0.025993051776819723,
          0.02636976267213595,
          0.02691390063203717,
          0.027625465656523376,
          0.0280858900841321,
          0.02837888744715583,
          0.02875559834247206,
          0.029174166003934535,
          0.029676447197689505,
          0.03013687162529823,
          0.030346155456029467,
          0.030764723117491944,
          0.03097400694822318,
          0.031350717843539405,
          0.03172742873885564,
          0.03202042610187937,
          0.03222970993261061,
          0.03277384789251182,
          0.03323427232012055,
          0.03348541291699803,
          0.03386212381231426,
          0.03402955087689925,
          0.03423883470763049,
          0.03444811853836172,
          0.03474111590138546,
          0.034824829433677956,
          0.03507597003055544,
          0.035285253861286676,
          0.03541082415972542,
          0.035452680925871664,
          0.035536394458164165,
          0.03562010799045666,
          0.0356619647566029,
          0.0356619647566029,
          0.0357456782888954,
          0.03578753505504165,
          0.035954962119626635,
          0.035954962119626635,
          0.035996818885772885,
          0.036038675651919136,
          0.036038675651919136,
          0.03608053241806538,
          0.03608053241806538,
          0.03612238918421163,
          0.03612238918421163,
          0.036206102716504124,
          0.036206102716504124,
          0.03624795948265037,
          0.03624795948265037,
          0.03637352978108911,
          0.03641538654723536,
          0.03654095684567411,
          0.036959524507136576,
          0.03796408689464652,
          0.03947093047591143,
          0.041270771420200074,
          0.042986898832196224,
          0.04461931271189988,
          0.046921434849943496,
          0.048804989326524634,
          0.05073040056925202,
          0.05324180653802687,
          0.05453936628856054,
          0.05571135574065548,
          0.0569670587250429,
          0.05834833200786907,
          0.059729605290695244,
          0.061236448871960156,
          0.06224101125947009,
          0.06341300071156503,
          0.0647942739943912,
          0.06609183374492486,
          0.06734753672931229,
          0.06860323971369972,
          0.06964965886735591,
          0.0705286509564271,
          0.07186806747310703,
          0.07312377045749445,
          0.0740446193127119,
          0.07521660876480683,
          0.07601188732158554,
          0.07714202000753421,
          0.07797915533045917,
          0.07852329329036038,
          0.07944414214557784,
          0.07977899627474781,
          0.08028127746850279,
          0.080825415428404,
          0.08095098572684274,
          0.08141141015445147,
          0.08174626428362144,
          0.08199740488049893,
          0.08220668871123017,
          0.08245782930810766,
          0.08254154284040015,
          0.08275082667113139,
          0.08283454020342389,
          0.08300196726800887,
          0.08308568080030136,
          0.08316939433259386,
          0.08321125109874011,
          0.08325310786488636,
          0.0832949646310326,
          0.08333682139717885,
          0.08342053492947135,
          0.08350424846176384,
          0.08367167552634884,
          0.08375538905864133,
          0.08388095935708008,
          0.08396467288937257,
          0.0840902431878113,
          0.08413209995395755,
          0.08413209995395755,
          0.08421581348625005,
          0.08421581348625005,
          0.08429952701854254,
          0.08429952701854254,
          0.08429952701854254,
          0.08434138378468879,
          0.08434138378468879,
          0.08442509731698129,
          0.08446695408312754,
          0.08455066761542003,
          0.08471809468000502,
          0.08471809468000502,
          0.08480180821229752,
          0.08480180821229752,
          0.08484366497844377,
          0.08488552174459,
          0.08496923527688251,
          0.08496923527688251,
          0.08505294880917501,
          0.08509480557532124,
          0.08517851910761375,
          0.08522037587376,
          0.08522037587376,
          0.08530408940605248,
          0.08551337323678372,
          0.08580637059980746,
          0.0859319408982462,
          0.08609936796283119,
          0.08647607885814743,
          0.0867272194550249,
          0.08710393035034113,
          0.08739692771336487,
          0.08773178184253484,
          0.08802477920555858,
          0.08823406303628982,
          0.0885689171654598,
          0.0886526306977523,
          0.08886191452848353,
          0.08902934159306852,
          0.08928048218994601,
          0.08940605248838475,
          0.08957347955296974,
          0.08982462014984723,
          0.08995019044828596,
          0.09003390398057846,
          0.0901594742790172,
          0.09020133104516345,
          0.09028504457745594,
          0.09070361223891842,
          0.09078732577121092,
          0.09082918253735717,
          0.09091289606964965,
          0.09091289606964965,
          0.09108032313423466,
          0.09112217990038089,
          0.09112217990038089,
          0.09124775019881964,
          0.09124775019881964,
          0.09128960696496588,
          0.09133146373111213,
          0.09133146373111213,
          0.09137332049725838,
          0.09145703402955088,
          0.09154074756184337,
          0.09158260432798962,
          0.09158260432798962,
          0.09170817462642836,
          0.09179188815872086,
          0.09183374492486711,
          0.09187560169101336,
          0.0920011719894521,
          0.09208488552174458,
          0.09225231258632959,
          0.09229416935247582,
          0.09233602611862207,
          0.09241973965091457,
          0.09250345318320706,
          0.0927127370139383,
          0.09283830731237705,
          0.09283830731237705,
          0.0928801640785233,
          0.09308944790925452,
          0.09317316144154703,
          0.09334058850613201,
          0.09338244527227826,
          0.09342430203842451,
          0.09346615880457076,
          0.093508015570717,
          0.09354987233686325,
          0.09371729940144824,
          0.09380101293374074,
          0.09388472646603323,
          0.09401029676447198,
          0.09405215353061823,
          0.09413586706291072,
          0.09426143736134947,
          0.0943032941274957,
          0.09434515089364195,
          0.0943870076597882,
          0.0945544347243732,
          0.0946381482566657,
          0.09476371855510443,
          0.09484743208739693,
          0.09484743208739693,
          0.09488928885354317,
          0.09493114561968942,
          0.09497300238583567,
          0.09501485915198192,
          0.09509857268427441,
          0.09518228621656691,
          0.09526599974885941,
          0.09530785651500565,
          0.09539157004729815,
          0.09539157004729815,
          0.0954334268134444,
          0.0954334268134444,
          0.09547528357959065,
          0.09547528357959065,
          0.09555899711188313,
          0.09564271064417564,
          0.09581013770876062,
          0.09777740571763426,
          0.10321878531664644,
          0.11565024486208196,
          0.1353229249508183,
          0.16336695826880415,
          0.19287597840190868,
          0.22774266460173287,
          0.2594700933405885,
          0.2862584236741869,
          0.31003306684525556,
          0.3328868611611067,
          0.35435938219413166,
          0.3744506299443305,
          0.391946758193462,
          0.40952659997488594,
          0.4273157255870411,
          0.4437235779163702,
          0.46335440123896027,
          0.4793018291406806,
          0.4968398141559583,
          0.514880080364991,
          0.5291113808547152,
          0.5449332384579967,
          0.5597505336737684,
          0.5763258130676824,
          0.5925243815662802,
          0.6097693692185342,
          0.6269725001046419,
          0.6427943577079235,
          0.6594952074002762,
          0.6741032187853166,
          0.6884182328073333,
          0.701226403248085,
          0.7135322924950819,
          0.7223222133857938,
          0.7319074128332845,
          0.7417437528776527,
          0.7493616843162697,
          0.7566447616257168,
          0.763090703612239,
          0.7695785023649073,
          0.7752710225607969,
          0.7808798292243941,
          0.784563224645264,
          0.7877443388723787,
          0.7903813151395923,
          0.792181156083881,
          0.7948181323510946,
          0.7958226947386045,
          0.7964505462307983,
          0.7972876815537232,
          0.7976225356828931,
          0.7981248168766482,
          0.7985015277719644,
          0.7990875224980118,
          0.7995060901594743,
          0.7997990875224981,
          0.8000502281193755,
          0.8003850822485454,
          0.8005106525469842,
          0.8007617931438618,
          0.8008455066761542,
          0.8009292202084467,
          0.8009710769745929,
          0.801138504039178,
          0.801138504039178,
          0.8011803608053242,
          0.8012222175714704,
          0.8013059311037629,
          0.8013477878699091,
          0.8013896446360554,
          0.8014733581683479,
          0.8014733581683479,
          0.8015570717006404,
          0.8016407852329329,
          0.8016826419990791,
          0.8018919258298104,
          0.8021849231928341,
          0.8024779205558579,
          0.8026872043865891,
          0.8031057720480516,
          0.8035243397095141,
          0.8037336235402452,
          0.8039847641371227,
          0.804361475032439,
          0.8046126156293165,
          0.8049056129923402,
          0.8053241806538027,
          0.8055334644845339,
          0.8059101753798501,
          0.8061194592105814,
          0.8063287430413126,
          0.8064961701058976,
          0.8066217404043363,
          0.8069565945335063,
          0.8072077351303838,
          0.8074170189611151,
          0.8076263027918463,
          0.8077937298564313,
          0.8080448704533088,
          0.8083797245824788,
          0.8085471516470637,
          0.8086727219455024,
          0.8088401490100875,
          0.8090075760746724,
          0.8091750031392575,
          0.8093005734376962,
          0.8093842869699887,
          0.8095517140345737,
          0.8096354275668662,
          0.8097191410991587,
          0.809760997865305,
          0.8098865681637437,
          0.8098865681637437,
          0.8099284249298899,
          0.8100121384621825,
          0.8100121384621825,
          0.8100539952283287,
          0.8101377087606212,
          0.8102632790590599,
          0.8104307061236449,
          0.8104725628897911,
          0.8107237034866687,
          0.8109329873173998,
          0.8116864091080324,
          0.8120631200033486,
          0.812816541793981,
          0.8133606797538823,
          0.8141978150768072,
          0.8148256665690009,
          0.8150768071658784,
          0.8154953748273408,
          0.8159976560210959,
          0.8165836507471432,
          0.8172533590054832,
          0.8177556401992382,
          0.8184253484575782,
          0.8188020593528944,
          0.8191369134820644,
          0.8197647649742581,
          0.8203926164664518,
          0.8205181867648905,
          0.8209786111924993,
          0.8213553220878155,
          0.8217320329831317,
          0.8218994600477167,
          0.8221087438784479,
          0.8223180277091792,
          0.8225691683060566,
          0.8227784521367879,
          0.8229458792013729,
          0.8231551630321041,
          0.8233225900966892,
          0.8234481603951279,
          0.8234900171612741,
          0.8236574442258591,
          0.8237830145242978,
          0.8240341551211754,
          0.8241178686534678,
          0.8242434389519065,
          0.8242852957180529,
          0.824494579548784,
          0.8245364363149303,
          0.8245364363149303,
          0.8245782930810766,
          0.8246201498472228,
          0.8246201498472228,
          0.8247875769118078,
          0.824829433677954,
          0.8249131472102466,
          0.8249131472102466,
          0.8249550039763928,
          0.8249968607425391,
          0.8250387175086853,
          0.8251224310409778,
          0.8252061445732702,
          0.825331714871709,
          0.8255409987024402,
          0.8255828554685865,
          0.8255828554685865,
          0.8256247122347328,
          0.8257502825331715,
          0.8257921392993177,
          0.8259177095977565,
          0.8259595663639028,
          0.8261269934284877,
          0.8263781340253652,
          0.8264199907915114,
          0.8265037043238039,
          0.8266292746222427,
          0.8266292746222427,
          0.8266711313883889,
          0.8266711313883889,
          0.8267129881545352,
          0.8267967016868277,
          0.8267967016868277,
          0.8268385584529739,
          0.8269222719852665,
          0.8269222719852665,
          0.8270059855175589,
          0.8270478422837052,
          0.8270478422837052,
          0.8271734125821439,
          0.8271734125821439,
          0.8272571261144364,
          0.8272571261144364,
          0.8274245531790214,
          0.8274664099451676,
          0.8275082667113138,
          0.8275082667113138,
          0.8275501234774602,
          0.8275501234774602,
          0.8275919802436064,
          0.8276756937758989,
          0.8276756937758989,
          0.8276756937758989,
          0.8278431208404838,
          0.8279268343727764,
          0.82855468586497,
          0.8296429617847725,
          0.8324055083504248,
          0.8368423255619271,
          0.8424511322255243,
          0.8489389309781926,
          0.8561382947553472,
          0.8615796743543593,
          0.8663513456950316,
          0.8703695952450714,
          0.8740948474320874,
          0.8779875266836884,
          0.8808756435477795,
          0.884349755137918,
          0.8882842911556653,
          0.8910886944874639,
          0.8943535222468713,
          0.8981206312000335,
          0.9008831777656858,
          0.9042317190573856,
          0.9087941065673266,
          0.9131890670126827,
          0.9172910300950149,
          0.9211418525804697,
          0.9248252480013394,
          0.9290527813821104,
          0.9332384579967352,
          0.9370474237160437,
          0.9411912435645222,
          0.9447490686869533,
          0.9473023314218744,
          0.9501904482859654,
          0.953329705746934,
          0.9560085387802938,
          0.9581013770876062,
          0.9605709262902348,
          0.9620777698714997,
          0.9628730484282785,
          0.9641706081788121,
          0.9651751705663221,
          0.9659285923569545,
          0.9665983006152945,
          0.967184295341342,
          0.9677702900673893,
          0.9681888577288519,
          0.9686911389226068,
          0.9690259930517768,
          0.9692352768825081,
          0.9696957013101167,
          0.9701142689715793,
          0.9703235528023105,
          0.9704491231007493,
          0.9704491231007493,
          0.9706165501653342,
          0.9707002636976267,
          0.9707839772299193,
          0.9708676907622117,
          0.9709514042945042,
          0.9709932610606504,
          0.9711188313590892,
          0.9712025448913817,
          0.9713281151898204,
          0.9714955422544054,
          0.9717048260851366,
          0.9721233937465992,
          0.9725838181742079,
          0.9731279561341091,
          0.9735046670294253,
          0.9738813779247415,
          0.974299945586204,
          0.9743418023523502,
          0.974802226779959,
          0.9750115106106902,
          0.9750533673768365,
          0.9753045079737139,
          0.9754300782721527,
          0.9757649324013227,
          0.9758067891674689,
          0.9758486459336152,
          0.9760160729982001,
          0.9761835000627852,
          0.9762253568289314,
          0.9763509271273701,
          0.9765183541919551,
          0.9766857812565402,
          0.9766857812565402,
          0.9768532083211251,
          0.9769369218534176,
          0.97702063538571,
          0.9771043489180026,
          0.9771462056841489,
          0.9771880624502951,
          0.9771880624502951,
          0.9773136327487338,
          0.97735548951488,
          0.97735548951488,
          0.9775229165794651,
          0.9778159139424888,
          0.977857770708635,
          0.9779833410070738,
          0.9780251977732201,
          0.9781089113055126,
          0.9781507680716588,
          0.9782763383700975,
          0.9783600519023901,
          0.9784019086685363,
          0.9784019086685363,
          0.9784856222008288,
          0.9785693357331212,
          0.9785693357331212,
          0.9786530492654137,
          0.9786530492654137,
          0.9787786195638525,
          0.978862333096145,
          0.9789460466284375,
          0.9789460466284375,
          0.9789879033945837,
          0.9791134736930225,
          0.979197187225315,
          0.979197187225315,
          0.9792809007576074,
          0.9793227575237538,
          0.9793227575237538,
          0.9794064710560462,
          0.9794064710560462,
          0.9794483278221925,
          0.9794483278221925,
          0.9794901845883387,
          0.9795320413544849,
          0.9796157548867774,
          0.9796157548867774,
          0.9796576116529236,
          0.9797413251852162,
          0.9797831819513625,
          0.9798250387175087,
          0.9798250387175087,
          0.9800761793143862,
          0.9800761793143862,
          0.9803273199112637,
          0.9804110334435562,
          0.9804528902097024,
          0.9804528902097024,
          0.9804947469758486,
          0.9806621740404337,
          0.9809970281696037,
          0.9812900255326273,
          0.9820015905571136,
          0.9826712988154536,
          0.9838432882675484,
          0.9847222803566197,
          0.9850571344857896,
          0.9856012724456908,
          0.9862291239378845,
          0.9868569754300782,
          0.9875266836884182,
          0.987987108116027,
          0.9884056757774894,
          0.9887823866728057,
          0.9892009543342681,
          0.9897450922941694,
          0.9900380896571931,
          0.9904985140848018,
          0.9909170817462642,
          0.9912519358754343,
          0.991544933238458,
          0.9918797873676279,
          0.9921727847306517,
          0.9924657820936754,
          0.992884349755138,
          0.9934703444811854,
          0.9936796283119166,
          0.9938889121426479,
          0.9940144824410866,
          0.9942656230379641,
          0.9943493365702566,
          0.9945586204009879,
          0.9948097609978653,
          0.9948516177640115,
          0.9949771880624503,
          0.9950190448285965,
          0.995102758360889,
          0.9952283286593278,
          0.9952283286593278,
          0.995437612490059,
          0.9954794692562052,
          0.9955213260223515,
          0.9957306098530827,
          0.9958143233853752,
          0.995939893683814,
          0.9960236072161065,
          0.996107320748399,
          0.996107320748399,
          0.9961910342806914,
          0.9961910342806914,
          0.9962328910468378,
          0.9962328910468378,
          0.9963584613452765,
          0.9965258884098614,
          0.996609601942154,
          0.9966514587083002,
          0.9967351722405927,
          0.9967770290067389,
          0.9969025993051777,
          0.996944456071324,
          0.9970281696036164,
          0.9971118831359089,
          0.9971118831359089,
          0.9971537399020551,
          0.9971537399020551,
          0.9971955966682015,
          0.9971955966682015,
          0.9972793102004939,
          0.9972793102004939,
          0.9973211669666402,
          0.9974048804989326,
          0.9974467372650789,
          0.9976141643296639,
          0.9978653049265414,
          0.9979908752249801,
          0.9980327319911264,
          0.9980745887572726,
          0.9981583022895651,
          0.9982001590557114,
          0.9982420158218576,
          0.9983257293541501,
          0.9984094428864426,
          0.9985350131848814,
          0.9985350131848814,
          0.9986605834833201,
          0.9987024402494663,
          0.9989535808463438,
          0.9989535808463438,
          0.9990372943786363,
          0.9991210079109288,
          0.9992047214432213,
          0.99933029174166,
          0.9994140052739525,
          0.9994140052739525,
          0.9995814323385376,
          0.9995814323385376,
          0.9997488594031225,
          0.9997488594031225,
          0.9998744297015613,
          0.9999162864677075,
          1
         ],
         "xaxis": "x",
         "y": [
          0,
          0.00007511454968827462,
          0.00007511454968827462,
          0.0004506872981296477,
          0.0005258018478179223,
          0.0005258018478179223,
          0.000600916397506197,
          0.000600916397506197,
          0.0006760309471944716,
          0.0008262600465710208,
          0.0008262600465710208,
          0.0009764891459475701,
          0.0009764891459475701,
          0.0009764891459475701,
          0.0009764891459475701,
          0.0010516036956358446,
          0.0010516036956358446,
          0.0013520618943889432,
          0.001577405543453767,
          0.001577405543453767,
          0.0018027491925185909,
          0.0018778637422068654,
          0.0019529782918951402,
          0.0020280928415834145,
          0.0021032073912716893,
          0.002403665590024788,
          0.002553894689401337,
          0.0027041237887778864,
          0.0027792383384661608,
          0.0028543528881544355,
          0.0030045819875309846,
          0.003154811086907534,
          0.0032299256365958084,
          0.0032299256365958084,
          0.003305040186284083,
          0.003305040186284083,
          0.003380154735972358,
          0.003530383835348907,
          0.0038308420341020056,
          0.0042064147825433785,
          0.004807331180049576,
          0.0055584766769323215,
          0.006009163975061969,
          0.006234507624126793,
          0.006685194922256441,
          0.0069105385713212645,
          0.007511454968827462,
          0.007811913167580561,
          0.007887027717268834,
          0.007887027717268834,
          0.008187485916021933,
          0.008187485916021933,
          0.008337715015398482,
          0.008412829565086757,
          0.008638173214151581,
          0.008788402313528131,
          0.008863516863216405,
          0.00893863141290468,
          0.009088860512281229,
          0.009239089611657779,
          0.009314204161346052,
          0.009539547810410876,
          0.009539547810410876,
          0.009539547810410876,
          0.0097648914594757,
          0.0097648914594757,
          0.00991512055885225,
          0.010140464207917074,
          0.011192067903552918,
          0.012393900698565313,
          0.013370389844512881,
          0.014497108089837002,
          0.015248253586719747,
          0.016525200931420417,
          0.01772703372643281,
          0.01885375197175693,
          0.019755126568016226,
          0.020431157515210695,
          0.021182303012093444,
          0.021557875760534816,
          0.02208367760835274,
          0.02245925035679411,
          0.022534364906482387,
          0.02290993765492376,
          0.023060166754300306,
          0.02313528130398858,
          0.023210395853676857,
          0.023435739502741682,
          0.023811312251183055,
          0.024111770449936152,
          0.024186884999624427,
          0.024337114099000978,
          0.024412228648689253,
          0.0245624577480658,
          0.0245624577480658,
          0.02471268684744235,
          0.024787801397130625,
          0.024787801397130625,
          0.0248629159468189,
          0.025163374145571998,
          0.025238488695260273,
          0.025463832344325095,
          0.025764290543078196,
          0.026214977841207843,
          0.026440321490272665,
          0.026590550589649216,
          0.026815894238714038,
          0.027041237887778864,
          0.02711635243746714,
          0.02749192518590851,
          0.027717268834973333,
          0.028092841583414706,
          0.02831818523247953,
          0.028393299782167807,
          0.028543528881544353,
          0.02876887253060918,
          0.028843987080297454,
          0.028843987080297454,
          0.028843987080297454,
          0.029294674378427102,
          0.029294674378427102,
          0.029444903477803652,
          0.029444903477803652,
          0.029444903477803652,
          0.029444903477803652,
          0.029520018027491924,
          0.029670247126868474,
          0.02974536167655675,
          0.0298955907759333,
          0.02997070532562157,
          0.03042139262375122,
          0.03042139262375122,
          0.03072185082250432,
          0.030872079921880867,
          0.030872079921880867,
          0.031247652670322243,
          0.031247652670322243,
          0.03139788176969879,
          0.03139788176969879,
          0.03147299631938707,
          0.03177345451814016,
          0.03184856906782844,
          0.03199879816720499,
          0.032374370915646364,
          0.03259971456471118,
          0.03290017276346428,
          0.03312551641252911,
          0.03312551641252911,
          0.033200630962217384,
          0.03350108916097048,
          0.03365131826034703,
          0.03365131826034703,
          0.03365131826034703,
          0.03365131826034703,
          0.03395177645910013,
          0.03425223465785322,
          0.03440246375722977,
          0.034552692856606324,
          0.03477803650567115,
          0.0349282656050477,
          0.0349282656050477,
          0.0349282656050477,
          0.03507849470442425,
          0.035153609254112525,
          0.035153609254112525,
          0.03522872380380079,
          0.03530383835348907,
          0.035378952903177344,
          0.03545406745286562,
          0.03545406745286562,
          0.035529182002553894,
          0.035529182002553894,
          0.03560429655224217,
          0.03560429655224217,
          0.035679411101930444,
          0.035679411101930444,
          0.03575452565161872,
          0.03613009840006009,
          0.03628032749943664,
          0.03628032749943664,
          0.03658078569818974,
          0.037331931195072485,
          0.038158191241643505,
          0.038608878539773156,
          0.038834222188837975,
          0.03920979493727935,
          0.039660482235409,
          0.040111169533538646,
          0.040787200480733116,
          0.04131300232855104,
          0.04153834597761587,
          0.04168857507699241,
          0.04228949147449861,
          0.04296552242169308,
          0.043416209719822726,
          0.04401712611732893,
          0.0443926988657703,
          0.04514384436265305,
          0.04544430256140614,
          0.046045218958912344,
          0.04694659355517164,
          0.047547509952677834,
          0.04777285360174266,
          0.048073311800495754,
          0.04814842635018403,
          0.048523999098625405,
          0.048674228198001955,
          0.048674228198001955,
          0.048824457297378505,
          0.048899571847066774,
          0.049200030045819874,
          0.04927514459550815,
          0.049350259145196425,
          0.049350259145196425,
          0.0494253736948847,
          0.0494253736948847,
          0.049500488244572975,
          0.04957560279426125,
          0.04957560279426125,
          0.0497258318936378,
          0.0497258318936378,
          0.049876060993014344,
          0.049876060993014344,
          0.04995117554270262,
          0.04995117554270262,
          0.050026290092390895,
          0.050026290092390895,
          0.05040186284083227,
          0.05040186284083227,
          0.050476977390520546,
          0.050627206489897096,
          0.05092766468865019,
          0.051303237437091566,
          0.05250507023210396,
          0.05430781942462255,
          0.05671148501464734,
          0.059265379704048674,
          0.06084278524750244,
          0.06287087808908585,
          0.0654247727784872,
          0.06722752197100579,
          0.06933072936227748,
          0.07113347855479607,
          0.07241042589949673,
          0.07443851874108015,
          0.07714264252985803,
          0.07887027717268835,
          0.08022233906707729,
          0.08172463006084278,
          0.0834522647036731,
          0.08480432659806204,
          0.08615638849245098,
          0.08743333583715165,
          0.08863516863216404,
          0.08991211597686471,
          0.09073837602343574,
          0.0920153233681364,
          0.09314204161346053,
          0.09449410350784947,
          0.09524524900473222,
          0.09644708179974461,
          0.09742357094569218,
          0.0982498309922632,
          0.09892586193945767,
          0.09960189288665214,
          0.09997746563509352,
          0.10020280928415834,
          0.10065349658228799,
          0.10072861113197626,
          0.10117929843010591,
          0.10147975662885901,
          0.10170510027792383,
          0.10178021482761211,
          0.10208067302636521,
          0.10223090212574176,
          0.1023811312251183,
          0.10245624577480658,
          0.10260647487418313,
          0.10260647487418313,
          0.1026815894238714,
          0.1026815894238714,
          0.10283181852324795,
          0.10283181852324795,
          0.10290693307293623,
          0.10290693307293623,
          0.10290693307293623,
          0.1029820476226245,
          0.10305716217231278,
          0.10320739127168932,
          0.10335762037106587,
          0.10343273492075415,
          0.10350784947044242,
          0.10350784947044242,
          0.1035829640201307,
          0.1035829640201307,
          0.10365807856981897,
          0.1038834222188838,
          0.10395853676857207,
          0.10410876586794862,
          0.10410876586794862,
          0.10418388041763689,
          0.10425899496732517,
          0.10425899496732517,
          0.10433410951701344,
          0.10433410951701344,
          0.10448433861638999,
          0.10463456771576654,
          0.10470968226545482,
          0.10470968226545482,
          0.10478479681514309,
          0.10485991136483137,
          0.10485991136483137,
          0.10485991136483137,
          0.10485991136483137,
          0.10493502591451964,
          0.10493502591451964,
          0.10501014046420792,
          0.10508525501389619,
          0.10546082776233756,
          0.10591151506046721,
          0.10636220235859686,
          0.10658754600766168,
          0.10666266055734996,
          0.1071133478554796,
          0.10756403515360925,
          0.10778937880267407,
          0.10824006610080372,
          0.10854052429955682,
          0.10876586794862164,
          0.10899121159768647,
          0.10899121159768647,
          0.10921655524675129,
          0.10929166979643958,
          0.10944189889581613,
          0.10959212799519266,
          0.1098174716442575,
          0.10989258619394576,
          0.10996770074363404,
          0.11004281529332231,
          0.1101179298430106,
          0.11026815894238715,
          0.1104183880417637,
          0.1104183880417637,
          0.11056861714114023,
          0.11064373169082851,
          0.11064373169082851,
          0.11064373169082851,
          0.11071884624051678,
          0.11079396079020506,
          0.11086907533989333,
          0.11086907533989333,
          0.11094418988958162,
          0.11101930443926988,
          0.11101930443926988,
          0.11109441898895817,
          0.11124464808833472,
          0.11124464808833472,
          0.11131976263802298,
          0.11131976263802298,
          0.11131976263802298,
          0.11131976263802298,
          0.11139487718771127,
          0.1115451062870878,
          0.1115451062870878,
          0.11162022083677609,
          0.11177044993615264,
          0.1118455644858409,
          0.11192067903552919,
          0.11207090813490574,
          0.11222113723428229,
          0.11237136633365882,
          0.11252159543303537,
          0.1127469390821002,
          0.11282205363178847,
          0.11297228273116502,
          0.11297228273116502,
          0.11312251183054157,
          0.11312251183054157,
          0.11319762638022986,
          0.11319762638022986,
          0.11342297002929468,
          0.11342297002929468,
          0.11342297002929468,
          0.11342297002929468,
          0.11342297002929468,
          0.11357319912867123,
          0.1136483136783595,
          0.1136483136783595,
          0.11372342822804778,
          0.11372342822804778,
          0.11387365732742433,
          0.11402388642680088,
          0.11402388642680088,
          0.11417411552617741,
          0.11417411552617741,
          0.11439945917524225,
          0.1145496882746188,
          0.11462480282430706,
          0.11462480282430706,
          0.11469991737399535,
          0.11469991737399535,
          0.11469991737399535,
          0.11477503192368362,
          0.1148501464733719,
          0.1148501464733719,
          0.11492526102306017,
          0.11492526102306017,
          0.11500037557274845,
          0.11500037557274845,
          0.11507549012243672,
          0.11507549012243672,
          0.11515060467212498,
          0.11522571922181327,
          0.11612709381807255,
          0.11800495756027943,
          0.12536618342973033,
          0.1382107714264253,
          0.15901750169007736,
          0.18635919777660934,
          0.21940959963945017,
          0.2548636670923158,
          0.28813941260422143,
          0.3193119507248554,
          0.3480057087057763,
          0.374446030196049,
          0.39705550965221964,
          0.41673552167054756,
          0.4377675955832645,
          0.45857432584691654,
          0.4790805979118155,
          0.49846015173139036,
          0.5168632164050176,
          0.536918801171787,
          0.5531435439044543,
          0.5712461503793285,
          0.5870202058138662,
          0.6029444903477804,
          0.6196950349282656,
          0.6350184030646736,
          0.6527454367911064,
          0.6682941485765793,
          0.6831668294148576,
          0.6999924885450312,
          0.7146398257342447,
          0.727559528280628,
          0.7392022834823105,
          0.7518966423796289,
          0.7618117629384812,
          0.7702245925035679,
          0.7790129948170961,
          0.7882520844287538,
          0.7966649139938407,
          0.8010215578757606,
          0.8059040036054984,
          0.8094343874408473,
          0.8125891985277548,
          0.8155937805152859,
          0.8178472170059341,
          0.820025538946894,
          0.8214527153909712,
          0.823030120934425,
          0.8240817246300608,
          0.8249079846766318,
          0.8255089010741381,
          0.8262600465710208,
          0.8267858484188387,
          0.8270111920679035,
          0.8271614211672801,
          0.8272365357169684,
          0.8273867648163449,
          0.8274618793660332,
          0.8275369939157214,
          0.8275369939157214,
          0.8275369939157214,
          0.827687223015098,
          0.8277623375647863,
          0.8277623375647863,
          0.8278374521144746,
          0.8279125666641628,
          0.8279876812138511,
          0.8279876812138511,
          0.8279876812138511,
          0.8279876812138511,
          0.8280627957635394,
          0.8280627957635394,
          0.8281379103132277,
          0.8281379103132277,
          0.8281379103132277,
          0.8281379103132277,
          0.8281379103132277,
          0.8282881394126043,
          0.828513483061669,
          0.8287388267107338,
          0.8291895140088635,
          0.8294148576579283,
          0.8296402013069931,
          0.8299406595057462,
          0.8304664613535642,
          0.8307669195523173,
          0.8310673777510704,
          0.8312927214001352,
          0.8313678359498234,
          0.8316682941485766,
          0.8318185232479531,
          0.8320438668970179,
          0.832344325095771,
          0.8327950123939007,
          0.8330954705926538,
          0.8332456996920303,
          0.8332456996920303,
          0.8335461578907835,
          0.8337715015398482,
          0.833996845188913,
          0.8345226470367311,
          0.8347479906857959,
          0.8352737925336138,
          0.8354991361826786,
          0.8356493652820551,
          0.8357244798317434,
          0.8358747089311199,
          0.8360249380304965,
          0.8361000525801848,
          0.8361000525801848,
          0.836175167129873,
          0.8362502816795613,
          0.8363253962292496,
          0.8364005107789378,
          0.8364756253286262,
          0.8364756253286262,
          0.836700968977691,
          0.836700968977691,
          0.836700968977691,
          0.8367760835273792,
          0.8367760835273792,
          0.8367760835273792,
          0.8369263126267558,
          0.8370765417261323,
          0.8373018853751972,
          0.8379028017727034,
          0.8385037181702095,
          0.838879290918651,
          0.839179749117404,
          0.8397806655149103,
          0.8403815819124164,
          0.8412078419589875,
          0.8415834147074288,
          0.8423345602043115,
          0.8436115075490123,
          0.8439870802974536,
          0.8444377675955833,
          0.8448133403440247,
          0.8453391421918426,
          0.8457147149402839,
          0.8464658604371667,
          0.8470667768346729,
          0.8472921204837377,
          0.847667693232179,
          0.8479681514309322,
          0.848193495079997,
          0.8485690678284383,
          0.8488695260271915,
          0.849019755126568,
          0.8490948696762562,
          0.8492450987756328,
          0.8492450987756328,
          0.8492450987756328,
          0.8493953278750094,
          0.8495455569743859,
          0.8496206715240742,
          0.8496957860737625,
          0.8499962442725156,
          0.8499962442725156,
          0.8499962442725156,
          0.8500713588222039,
          0.8501464733718921,
          0.8501464733718921,
          0.8502215879215804,
          0.8502215879215804,
          0.8502967024712687,
          0.8504469315706452,
          0.8504469315706452,
          0.8505220461203336,
          0.8505220461203336,
          0.8505971606700218,
          0.85067227521971,
          0.8508225043190866,
          0.8511980770675279,
          0.8511980770675279,
          0.8513483061669045,
          0.8513483061669045,
          0.8514234207165928,
          0.8514234207165928,
          0.851498535266281,
          0.851498535266281,
          0.8515736498159694,
          0.8516487643656576,
          0.8516487643656576,
          0.851723878915346,
          0.851723878915346,
          0.8517989934650342,
          0.8518741080147224,
          0.8518741080147224,
          0.8518741080147224,
          0.8519492225644107,
          0.8519492225644107,
          0.8522496807631639,
          0.8522496807631639,
          0.8522496807631639,
          0.8523247953128521,
          0.8523999098625403,
          0.8523999098625403,
          0.8524750244122287,
          0.8524750244122287,
          0.8524750244122287,
          0.8525501389619169,
          0.8525501389619169,
          0.8527754826109818,
          0.8527754826109818,
          0.8529257117103582,
          0.8529257117103582,
          0.8530008262600466,
          0.8530008262600466,
          0.8530759408097348,
          0.8530759408097348,
          0.8531510553594231,
          0.8532261699091114,
          0.8532261699091114,
          0.8533012844587997,
          0.8534515135581762,
          0.8534515135581762,
          0.8535266281078645,
          0.8539773154059941,
          0.8547284609028769,
          0.8557800645985127,
          0.8572823555922783,
          0.8594606775332382,
          0.8621648013220161,
          0.8653196124089236,
          0.8702771726883497,
          0.8746338165702696,
          0.8792158041012544,
          0.8826710733869151,
          0.8859761135731992,
          0.8901074138060542,
          0.8932622248929618,
          0.8958912341320514,
          0.8983700142717644,
          0.9017501690077367,
          0.9043791782468265,
          0.9073837602343574,
          0.9112897168181476,
          0.9153459025013145,
          0.918500713588222,
          0.9220310974235709,
          0.9266130849545557,
          0.929993239690528,
          0.9367535491624728,
          0.9412604221437693,
          0.9454668369263126,
          0.9503492826560505,
          0.9528280627957635,
          0.9561331029820477,
          0.9587621122211373,
          0.961165777811162,
          0.9642454743483813,
          0.9661233380905881,
          0.9675505145346653,
          0.9690528055284309,
          0.9701044092240667,
          0.9707804401712612,
          0.9717569293172087,
          0.9728085330128445,
          0.9738601367084805,
          0.9743108240066101,
          0.9752121986028693,
          0.9755877713513107,
          0.9761135731991287,
          0.9763389168481935,
          0.9765642604972583,
          0.9768647186960114,
          0.9771651768947646,
          0.9771651768947646,
          0.9773905205438294,
          0.9774656350935176,
          0.9774656350935176,
          0.9775407496432059,
          0.9776909787425825,
          0.9776909787425825,
          0.9777660932922707,
          0.9779163223916473,
          0.9779914369413355,
          0.9779914369413355,
          0.9779914369413355,
          0.9780665514910238,
          0.9782167805904004,
          0.9784421242394652,
          0.9785923533388418,
          0.9788928115375949,
          0.9792683842860362,
          0.9801697588822955,
          0.9804702170810486,
          0.9807706752798017,
          0.9809960189288666,
          0.9812964771276196,
          0.9814467062269961,
          0.9815969353263727,
          0.9817471644257493,
          0.9818973935251258,
          0.9820476226245024,
          0.9821227371741906,
          0.982197851723879,
          0.9823480808232554,
          0.982498309922632,
          0.9825734244723203,
          0.9825734244723203,
          0.9825734244723203,
          0.9826485390220085,
          0.9826485390220085,
          0.9826485390220085,
          0.9826485390220085,
          0.9826485390220085,
          0.9827236535716969,
          0.9827236535716969,
          0.9828738826710733,
          0.9828738826710733,
          0.9828738826710733,
          0.9829489972207617,
          0.9829489972207617,
          0.9829489972207617,
          0.9831743408698265,
          0.9832494554195148,
          0.983324569969203,
          0.983324569969203,
          0.9835499136182678,
          0.9836250281679562,
          0.9836250281679562,
          0.9837001427176444,
          0.9837752572673327,
          0.9839254863667092,
          0.9840006009163975,
          0.9840757154660857,
          0.9840757154660857,
          0.9841508300157741,
          0.9841508300157741,
          0.9842259445654623,
          0.9842259445654623,
          0.9843010591151506,
          0.9843761736648389,
          0.9843761736648389,
          0.9843761736648389,
          0.9844512882145272,
          0.9844512882145272,
          0.9844512882145272,
          0.9845264027642154,
          0.9845264027642154,
          0.9846015173139037,
          0.9846015173139037,
          0.9847517464132802,
          0.9848268609629686,
          0.9848268609629686,
          0.9849019755126568,
          0.9849770900623451,
          0.9849770900623451,
          0.9850522046120334,
          0.9851273191617216,
          0.9851273191617216,
          0.9852775482610981,
          0.9852775482610981,
          0.9853526628107865,
          0.9853526628107865,
          0.9853526628107865,
          0.9853526628107865,
          0.9854277773604747,
          0.9854277773604747,
          0.9854277773604747,
          0.9855780064598513,
          0.9856531210095395,
          0.986028693757981,
          0.9864793810561105,
          0.9868549538045519,
          0.9878314429504995,
          0.9880567865995643,
          0.9886577029970706,
          0.989333733944265,
          0.9899346503417712,
          0.9906106812889657,
          0.9910613685870954,
          0.9912867122361602,
          0.9921129722827312,
          0.992338315931796,
          0.9924134304814842,
          0.9929392323293021,
          0.9930894614286787,
          0.9936152632764966,
          0.9938406069255615,
          0.9941410651243145,
          0.9942161796740029,
          0.9944415233230677,
          0.9949673251708856,
          0.9949673251708856,
          0.9950424397205738,
          0.9952677833696387,
          0.9954180124690153,
          0.9955682415683917,
          0.9958686997671449,
          0.9960189288665214,
          0.9960940434162098,
          0.9960940434162098,
          0.996169157965898,
          0.9963193870652746,
          0.9963193870652746,
          0.9963193870652746,
          0.9963945016149628,
          0.9964696161646511,
          0.9965447307143394,
          0.9966198452640277,
          0.9966198452640277,
          0.9966198452640277,
          0.9966198452640277,
          0.9966198452640277,
          0.9966198452640277,
          0.9967700743634041,
          0.9969203034627807,
          0.9969203034627807,
          0.996995418012469,
          0.996995418012469,
          0.9972207616615338,
          0.9972207616615338,
          0.9972207616615338,
          0.9972207616615338,
          0.9972958762112221,
          0.9973709907609104,
          0.9973709907609104,
          0.9973709907609104,
          0.9973709907609104,
          0.9974461053105986,
          0.9974461053105986,
          0.997521219860287,
          0.9975963344099752,
          0.9976714489596635,
          0.9976714489596635,
          0.9977465635093518,
          0.9977465635093518,
          0.99782167805904,
          0.9978967926087283,
          0.9979719071584165,
          0.9979719071584165,
          0.9979719071584165,
          0.9979719071584165,
          0.9981221362577931,
          0.9983474799068579,
          0.9984225944565462,
          0.9984977090062345,
          0.9987230526552994,
          0.9987981672049876,
          0.9987981672049876,
          0.9987981672049876,
          0.9987981672049876,
          0.9988732817546759,
          0.9989483963043642,
          0.9990235108540524,
          0.9990986254037407,
          0.999173739953429,
          0.9992488545031173,
          0.9993990836024939,
          0.9994741981521821,
          0.9994741981521821,
          0.9995493127018703,
          0.9996995418012469,
          0.9996995418012469,
          0.9997746563509352,
          0.9997746563509352,
          0.9998497709006234,
          0.9998497709006234,
          1,
          1
         ],
         "yaxis": "y"
        },
        {
         "hovertemplate": "x=%{x}<br>y=%{y}<extra></extra>",
         "legendgroup": "",
         "line": {
          "color": "rgba(50,50,50,0.2)",
          "dash": "solid"
         },
         "mode": "lines",
         "name": "",
         "orientation": "v",
         "showlegend": false,
         "type": "scatter",
         "x": [
          0,
          1
         ],
         "xaxis": "x",
         "y": [
          0,
          1
         ],
         "yaxis": "y"
        }
       ],
       "layout": {
        "autosize": false,
        "height": 800,
        "template": {
         "data": {
          "bar": [
           {
            "error_x": {
             "color": "#2a3f5f"
            },
            "error_y": {
             "color": "#2a3f5f"
            },
            "marker": {
             "line": {
              "color": "#E5ECF6",
              "width": 0.5
             }
            },
            "type": "bar"
           }
          ],
          "barpolar": [
           {
            "marker": {
             "line": {
              "color": "#E5ECF6",
              "width": 0.5
             }
            },
            "type": "barpolar"
           }
          ],
          "carpet": [
           {
            "aaxis": {
             "endlinecolor": "#2a3f5f",
             "gridcolor": "white",
             "linecolor": "white",
             "minorgridcolor": "white",
             "startlinecolor": "#2a3f5f"
            },
            "baxis": {
             "endlinecolor": "#2a3f5f",
             "gridcolor": "white",
             "linecolor": "white",
             "minorgridcolor": "white",
             "startlinecolor": "#2a3f5f"
            },
            "type": "carpet"
           }
          ],
          "choropleth": [
           {
            "colorbar": {
             "outlinewidth": 0,
             "ticks": ""
            },
            "type": "choropleth"
           }
          ],
          "contour": [
           {
            "colorbar": {
             "outlinewidth": 0,
             "ticks": ""
            },
            "colorscale": [
             [
              0,
              "#0d0887"
             ],
             [
              0.1111111111111111,
              "#46039f"
             ],
             [
              0.2222222222222222,
              "#7201a8"
             ],
             [
              0.3333333333333333,
              "#9c179e"
             ],
             [
              0.4444444444444444,
              "#bd3786"
             ],
             [
              0.5555555555555556,
              "#d8576b"
             ],
             [
              0.6666666666666666,
              "#ed7953"
             ],
             [
              0.7777777777777778,
              "#fb9f3a"
             ],
             [
              0.8888888888888888,
              "#fdca26"
             ],
             [
              1,
              "#f0f921"
             ]
            ],
            "type": "contour"
           }
          ],
          "contourcarpet": [
           {
            "colorbar": {
             "outlinewidth": 0,
             "ticks": ""
            },
            "type": "contourcarpet"
           }
          ],
          "heatmap": [
           {
            "colorbar": {
             "outlinewidth": 0,
             "ticks": ""
            },
            "colorscale": [
             [
              0,
              "#0d0887"
             ],
             [
              0.1111111111111111,
              "#46039f"
             ],
             [
              0.2222222222222222,
              "#7201a8"
             ],
             [
              0.3333333333333333,
              "#9c179e"
             ],
             [
              0.4444444444444444,
              "#bd3786"
             ],
             [
              0.5555555555555556,
              "#d8576b"
             ],
             [
              0.6666666666666666,
              "#ed7953"
             ],
             [
              0.7777777777777778,
              "#fb9f3a"
             ],
             [
              0.8888888888888888,
              "#fdca26"
             ],
             [
              1,
              "#f0f921"
             ]
            ],
            "type": "heatmap"
           }
          ],
          "heatmapgl": [
           {
            "colorbar": {
             "outlinewidth": 0,
             "ticks": ""
            },
            "colorscale": [
             [
              0,
              "#0d0887"
             ],
             [
              0.1111111111111111,
              "#46039f"
             ],
             [
              0.2222222222222222,
              "#7201a8"
             ],
             [
              0.3333333333333333,
              "#9c179e"
             ],
             [
              0.4444444444444444,
              "#bd3786"
             ],
             [
              0.5555555555555556,
              "#d8576b"
             ],
             [
              0.6666666666666666,
              "#ed7953"
             ],
             [
              0.7777777777777778,
              "#fb9f3a"
             ],
             [
              0.8888888888888888,
              "#fdca26"
             ],
             [
              1,
              "#f0f921"
             ]
            ],
            "type": "heatmapgl"
           }
          ],
          "histogram": [
           {
            "marker": {
             "colorbar": {
              "outlinewidth": 0,
              "ticks": ""
             }
            },
            "type": "histogram"
           }
          ],
          "histogram2d": [
           {
            "colorbar": {
             "outlinewidth": 0,
             "ticks": ""
            },
            "colorscale": [
             [
              0,
              "#0d0887"
             ],
             [
              0.1111111111111111,
              "#46039f"
             ],
             [
              0.2222222222222222,
              "#7201a8"
             ],
             [
              0.3333333333333333,
              "#9c179e"
             ],
             [
              0.4444444444444444,
              "#bd3786"
             ],
             [
              0.5555555555555556,
              "#d8576b"
             ],
             [
              0.6666666666666666,
              "#ed7953"
             ],
             [
              0.7777777777777778,
              "#fb9f3a"
             ],
             [
              0.8888888888888888,
              "#fdca26"
             ],
             [
              1,
              "#f0f921"
             ]
            ],
            "type": "histogram2d"
           }
          ],
          "histogram2dcontour": [
           {
            "colorbar": {
             "outlinewidth": 0,
             "ticks": ""
            },
            "colorscale": [
             [
              0,
              "#0d0887"
             ],
             [
              0.1111111111111111,
              "#46039f"
             ],
             [
              0.2222222222222222,
              "#7201a8"
             ],
             [
              0.3333333333333333,
              "#9c179e"
             ],
             [
              0.4444444444444444,
              "#bd3786"
             ],
             [
              0.5555555555555556,
              "#d8576b"
             ],
             [
              0.6666666666666666,
              "#ed7953"
             ],
             [
              0.7777777777777778,
              "#fb9f3a"
             ],
             [
              0.8888888888888888,
              "#fdca26"
             ],
             [
              1,
              "#f0f921"
             ]
            ],
            "type": "histogram2dcontour"
           }
          ],
          "mesh3d": [
           {
            "colorbar": {
             "outlinewidth": 0,
             "ticks": ""
            },
            "type": "mesh3d"
           }
          ],
          "parcoords": [
           {
            "line": {
             "colorbar": {
              "outlinewidth": 0,
              "ticks": ""
             }
            },
            "type": "parcoords"
           }
          ],
          "pie": [
           {
            "automargin": true,
            "type": "pie"
           }
          ],
          "scatter": [
           {
            "marker": {
             "colorbar": {
              "outlinewidth": 0,
              "ticks": ""
             }
            },
            "type": "scatter"
           }
          ],
          "scatter3d": [
           {
            "line": {
             "colorbar": {
              "outlinewidth": 0,
              "ticks": ""
             }
            },
            "marker": {
             "colorbar": {
              "outlinewidth": 0,
              "ticks": ""
             }
            },
            "type": "scatter3d"
           }
          ],
          "scattercarpet": [
           {
            "marker": {
             "colorbar": {
              "outlinewidth": 0,
              "ticks": ""
             }
            },
            "type": "scattercarpet"
           }
          ],
          "scattergeo": [
           {
            "marker": {
             "colorbar": {
              "outlinewidth": 0,
              "ticks": ""
             }
            },
            "type": "scattergeo"
           }
          ],
          "scattergl": [
           {
            "marker": {
             "colorbar": {
              "outlinewidth": 0,
              "ticks": ""
             }
            },
            "type": "scattergl"
           }
          ],
          "scattermapbox": [
           {
            "marker": {
             "colorbar": {
              "outlinewidth": 0,
              "ticks": ""
             }
            },
            "type": "scattermapbox"
           }
          ],
          "scatterpolar": [
           {
            "marker": {
             "colorbar": {
              "outlinewidth": 0,
              "ticks": ""
             }
            },
            "type": "scatterpolar"
           }
          ],
          "scatterpolargl": [
           {
            "marker": {
             "colorbar": {
              "outlinewidth": 0,
              "ticks": ""
             }
            },
            "type": "scatterpolargl"
           }
          ],
          "scatterternary": [
           {
            "marker": {
             "colorbar": {
              "outlinewidth": 0,
              "ticks": ""
             }
            },
            "type": "scatterternary"
           }
          ],
          "surface": [
           {
            "colorbar": {
             "outlinewidth": 0,
             "ticks": ""
            },
            "colorscale": [
             [
              0,
              "#0d0887"
             ],
             [
              0.1111111111111111,
              "#46039f"
             ],
             [
              0.2222222222222222,
              "#7201a8"
             ],
             [
              0.3333333333333333,
              "#9c179e"
             ],
             [
              0.4444444444444444,
              "#bd3786"
             ],
             [
              0.5555555555555556,
              "#d8576b"
             ],
             [
              0.6666666666666666,
              "#ed7953"
             ],
             [
              0.7777777777777778,
              "#fb9f3a"
             ],
             [
              0.8888888888888888,
              "#fdca26"
             ],
             [
              1,
              "#f0f921"
             ]
            ],
            "type": "surface"
           }
          ],
          "table": [
           {
            "cells": {
             "fill": {
              "color": "#EBF0F8"
             },
             "line": {
              "color": "white"
             }
            },
            "header": {
             "fill": {
              "color": "#C8D4E3"
             },
             "line": {
              "color": "white"
             }
            },
            "type": "table"
           }
          ]
         },
         "layout": {
          "annotationdefaults": {
           "arrowcolor": "#2a3f5f",
           "arrowhead": 0,
           "arrowwidth": 1
          },
          "autotypenumbers": "strict",
          "coloraxis": {
           "colorbar": {
            "outlinewidth": 0,
            "ticks": ""
           }
          },
          "colorscale": {
           "diverging": [
            [
             0,
             "#8e0152"
            ],
            [
             0.1,
             "#c51b7d"
            ],
            [
             0.2,
             "#de77ae"
            ],
            [
             0.3,
             "#f1b6da"
            ],
            [
             0.4,
             "#fde0ef"
            ],
            [
             0.5,
             "#f7f7f7"
            ],
            [
             0.6,
             "#e6f5d0"
            ],
            [
             0.7,
             "#b8e186"
            ],
            [
             0.8,
             "#7fbc41"
            ],
            [
             0.9,
             "#4d9221"
            ],
            [
             1,
             "#276419"
            ]
           ],
           "sequential": [
            [
             0,
             "#0d0887"
            ],
            [
             0.1111111111111111,
             "#46039f"
            ],
            [
             0.2222222222222222,
             "#7201a8"
            ],
            [
             0.3333333333333333,
             "#9c179e"
            ],
            [
             0.4444444444444444,
             "#bd3786"
            ],
            [
             0.5555555555555556,
             "#d8576b"
            ],
            [
             0.6666666666666666,
             "#ed7953"
            ],
            [
             0.7777777777777778,
             "#fb9f3a"
            ],
            [
             0.8888888888888888,
             "#fdca26"
            ],
            [
             1,
             "#f0f921"
            ]
           ],
           "sequentialminus": [
            [
             0,
             "#0d0887"
            ],
            [
             0.1111111111111111,
             "#46039f"
            ],
            [
             0.2222222222222222,
             "#7201a8"
            ],
            [
             0.3333333333333333,
             "#9c179e"
            ],
            [
             0.4444444444444444,
             "#bd3786"
            ],
            [
             0.5555555555555556,
             "#d8576b"
            ],
            [
             0.6666666666666666,
             "#ed7953"
            ],
            [
             0.7777777777777778,
             "#fb9f3a"
            ],
            [
             0.8888888888888888,
             "#fdca26"
            ],
            [
             1,
             "#f0f921"
            ]
           ]
          },
          "colorway": [
           "#636efa",
           "#EF553B",
           "#00cc96",
           "#ab63fa",
           "#FFA15A",
           "#19d3f3",
           "#FF6692",
           "#B6E880",
           "#FF97FF",
           "#FECB52"
          ],
          "font": {
           "color": "#2a3f5f"
          },
          "geo": {
           "bgcolor": "white",
           "lakecolor": "white",
           "landcolor": "#E5ECF6",
           "showlakes": true,
           "showland": true,
           "subunitcolor": "white"
          },
          "hoverlabel": {
           "align": "left"
          },
          "hovermode": "closest",
          "mapbox": {
           "style": "light"
          },
          "paper_bgcolor": "white",
          "plot_bgcolor": "#E5ECF6",
          "polar": {
           "angularaxis": {
            "gridcolor": "white",
            "linecolor": "white",
            "ticks": ""
           },
           "bgcolor": "#E5ECF6",
           "radialaxis": {
            "gridcolor": "white",
            "linecolor": "white",
            "ticks": ""
           }
          },
          "scene": {
           "xaxis": {
            "backgroundcolor": "#E5ECF6",
            "gridcolor": "white",
            "gridwidth": 2,
            "linecolor": "white",
            "showbackground": true,
            "ticks": "",
            "zerolinecolor": "white"
           },
           "yaxis": {
            "backgroundcolor": "#E5ECF6",
            "gridcolor": "white",
            "gridwidth": 2,
            "linecolor": "white",
            "showbackground": true,
            "ticks": "",
            "zerolinecolor": "white"
           },
           "zaxis": {
            "backgroundcolor": "#E5ECF6",
            "gridcolor": "white",
            "gridwidth": 2,
            "linecolor": "white",
            "showbackground": true,
            "ticks": "",
            "zerolinecolor": "white"
           }
          },
          "shapedefaults": {
           "line": {
            "color": "#2a3f5f"
           }
          },
          "ternary": {
           "aaxis": {
            "gridcolor": "white",
            "linecolor": "white",
            "ticks": ""
           },
           "baxis": {
            "gridcolor": "white",
            "linecolor": "white",
            "ticks": ""
           },
           "bgcolor": "#E5ECF6",
           "caxis": {
            "gridcolor": "white",
            "linecolor": "white",
            "ticks": ""
           }
          },
          "title": {
           "x": 0.05
          },
          "xaxis": {
           "automargin": true,
           "gridcolor": "white",
           "linecolor": "white",
           "ticks": "",
           "title": {
            "standoff": 15
           },
           "zerolinecolor": "white",
           "zerolinewidth": 2
          },
          "yaxis": {
           "automargin": true,
           "gridcolor": "white",
           "linecolor": "white",
           "ticks": "",
           "title": {
            "standoff": 15
           },
           "zerolinecolor": "white",
           "zerolinewidth": 2
          }
         }
        },
        "title": {
         "text": "ROC Curve"
        },
        "width": 800,
        "xaxis": {
         "range": [
          0,
          1
         ],
         "title": {
          "text": "False Positive Rate (Sensitivty)"
         }
        },
        "yaxis": {
         "range": [
          0,
          1
         ],
         "title": {
          "text": "True Positive Rate (1-Precision)"
         }
        }
       }
      },
      "text/html": "<div>                            <div id=\"dfd226c1-7431-4fae-9ed0-f1c0c1c3b526\" class=\"plotly-graph-div\" style=\"height:800px; width:800px;\"></div>            <script type=\"text/javascript\">                require([\"plotly\"], function(Plotly) {                    window.PLOTLYENV=window.PLOTLYENV || {};                                    if (document.getElementById(\"dfd226c1-7431-4fae-9ed0-f1c0c1c3b526\")) {                    Plotly.newPlot(                        \"dfd226c1-7431-4fae-9ed0-f1c0c1c3b526\",                        [{\"hovertemplate\": \"x=%{x}<br>y=%{y}<extra></extra>\", \"legendgroup\": \"\", \"line\": {\"color\": \"#636efa\", \"dash\": \"solid\"}, \"mode\": \"lines\", \"name\": \"\", \"orientation\": \"v\", \"showlegend\": false, \"type\": \"scatter\", \"x\": [0.0, 0.0, 4.185676614624754e-05, 4.185676614624754e-05, 8.371353229249508e-05, 0.0001255702984387426, 0.00016742706458499016, 0.0002092838307312377, 0.0002092838307312377, 0.0002511405968774852, 0.0003348541291699803, 0.0003348541291699803, 0.0003767108953162279, 0.000460424427608723, 0.0005022811937549704, 0.0005441379599012181, 0.0006278514921937131, 0.0006697082583399606, 0.0007952785567787033, 0.0008371353229249508, 0.0008789920890711983, 0.000920848855217446, 0.0010464191536561885, 0.0011301326859486835, 0.0012557029843874262, 0.0012975597505336738, 0.0012975597505336738, 0.0013812732828261689, 0.0014231300489724165, 0.0014231300489724165, 0.0015068435812649115, 0.0015905571135574066, 0.0015905571135574066, 0.0016742706458499016, 0.0016742706458499016, 0.0017161274119961492, 0.0017579841781423966, 0.0019672680088736343, 0.0022184086057511197, 0.0026788330333598425, 0.003013687162529823, 0.003306684525553556, 0.0035159683562847933, 0.003641538654723536, 0.003850822485454774, 0.0040182495500397635, 0.004269390146917249, 0.0043531036792097445, 0.004436817211502239, 0.004520530743794734, 0.00460424427608723, 0.004855384872964714, 0.00493909840525721, 0.00493909840525721, 0.004980955171403457, 0.004980955171403457, 0.005022811937549705, 0.005022811937549705, 0.005022811937549705, 0.0051065254698422, 0.0051065254698422, 0.005232095768280942, 0.005357666066719685, 0.005441379599012181, 0.005692520195889666, 0.005985517558913398, 0.006362228454229626, 0.006738939349545854, 0.007492361140178309, 0.008203926164664518, 0.008789920890711983, 0.009752626512075677, 0.010254907705830648, 0.010799045665731866, 0.011426897157925579, 0.012264032480850529, 0.012640743376166757, 0.012975597505336738, 0.01310116780377548, 0.013477878699091709, 0.013729019295969194, 0.013854589594407937, 0.014022016658992926, 0.014273157255870412, 0.014398727554309154, 0.014566154618894144, 0.014691724917332886, 0.014942865514210372, 0.015026579046502868, 0.015361433175672847, 0.015445146707965342, 0.015528860240257838, 0.015696287304842828, 0.015780000837135322, 0.01582185760328157, 0.01598928466786656, 0.01598928466786656, 0.01615671173245155, 0.01615671173245155, 0.01649156586162153, 0.016742706458499016, 0.0169938470553765, 0.017454271482985225, 0.017663555313716463, 0.0178728391444477, 0.017956552676740196, 0.01804026620903269, 0.01820769327361768, 0.01841697710434892, 0.018458833870495166, 0.018626260935080154, 0.018793687999665146, 0.018835544765811393, 0.01887740153195764, 0.01891925829810389, 0.018961115064250137, 0.018961115064250137, 0.019086685362688878, 0.01925411242727387, 0.019421539491858857, 0.019505253024151355, 0.0195471097902976, 0.01958896655644385, 0.01975639362102884, 0.019923820685613828, 0.019923820685613828, 0.019923820685613828, 0.01996567745176008, 0.020049390984052572, 0.020049390984052572, 0.020133104516345066, 0.020174961282491313, 0.0204261018793688, 0.020635385710100037, 0.020677242476246284, 0.020886526306977522, 0.02092838307312377, 0.02109581013770876, 0.021137666903855008, 0.021388807500732493, 0.021639948097609978, 0.021639948097609978, 0.021765518396048723, 0.021974802226779958, 0.02214222929136495, 0.022184086057511196, 0.022267799589803693, 0.02230965635594994, 0.022477083420534928, 0.022728224017412414, 0.023063078146582396, 0.02327236197731363, 0.023397932275752376, 0.023439789041898623, 0.023607216106483614, 0.023607216106483614, 0.023607216106483614, 0.023732786404922355, 0.023732786404922355, 0.023816499937214852, 0.023900213469507346, 0.023942070235653593, 0.024025783767946087, 0.024025783767946087, 0.024276924364823572, 0.024276924364823572, 0.02436063789711607, 0.02436063789711607, 0.024402494663262317, 0.02448620819555481, 0.024528064961701058, 0.024611778493993555, 0.024611778493993555, 0.02469549202628605, 0.024737348792432296, 0.02498848938930978, 0.025072202921602275, 0.025490770583064752, 0.025951195010673476, 0.025993051776819723, 0.02636976267213595, 0.02691390063203717, 0.027625465656523376, 0.0280858900841321, 0.02837888744715583, 0.02875559834247206, 0.029174166003934535, 0.029676447197689505, 0.03013687162529823, 0.030346155456029467, 0.030764723117491944, 0.03097400694822318, 0.031350717843539405, 0.03172742873885564, 0.03202042610187937, 0.03222970993261061, 0.03277384789251182, 0.03323427232012055, 0.03348541291699803, 0.03386212381231426, 0.03402955087689925, 0.03423883470763049, 0.03444811853836172, 0.03474111590138546, 0.034824829433677956, 0.03507597003055544, 0.035285253861286676, 0.03541082415972542, 0.035452680925871664, 0.035536394458164165, 0.03562010799045666, 0.0356619647566029, 0.0356619647566029, 0.0357456782888954, 0.03578753505504165, 0.035954962119626635, 0.035954962119626635, 0.035996818885772885, 0.036038675651919136, 0.036038675651919136, 0.03608053241806538, 0.03608053241806538, 0.03612238918421163, 0.03612238918421163, 0.036206102716504124, 0.036206102716504124, 0.03624795948265037, 0.03624795948265037, 0.03637352978108911, 0.03641538654723536, 0.03654095684567411, 0.036959524507136576, 0.03796408689464652, 0.03947093047591143, 0.041270771420200074, 0.042986898832196224, 0.04461931271189988, 0.046921434849943496, 0.048804989326524634, 0.05073040056925202, 0.05324180653802687, 0.05453936628856054, 0.05571135574065548, 0.0569670587250429, 0.05834833200786907, 0.059729605290695244, 0.061236448871960156, 0.06224101125947009, 0.06341300071156503, 0.0647942739943912, 0.06609183374492486, 0.06734753672931229, 0.06860323971369972, 0.06964965886735591, 0.0705286509564271, 0.07186806747310703, 0.07312377045749445, 0.0740446193127119, 0.07521660876480683, 0.07601188732158554, 0.07714202000753421, 0.07797915533045917, 0.07852329329036038, 0.07944414214557784, 0.07977899627474781, 0.08028127746850279, 0.080825415428404, 0.08095098572684274, 0.08141141015445147, 0.08174626428362144, 0.08199740488049893, 0.08220668871123017, 0.08245782930810766, 0.08254154284040015, 0.08275082667113139, 0.08283454020342389, 0.08300196726800887, 0.08308568080030136, 0.08316939433259386, 0.08321125109874011, 0.08325310786488636, 0.0832949646310326, 0.08333682139717885, 0.08342053492947135, 0.08350424846176384, 0.08367167552634884, 0.08375538905864133, 0.08388095935708008, 0.08396467288937257, 0.0840902431878113, 0.08413209995395755, 0.08413209995395755, 0.08421581348625005, 0.08421581348625005, 0.08429952701854254, 0.08429952701854254, 0.08429952701854254, 0.08434138378468879, 0.08434138378468879, 0.08442509731698129, 0.08446695408312754, 0.08455066761542003, 0.08471809468000502, 0.08471809468000502, 0.08480180821229752, 0.08480180821229752, 0.08484366497844377, 0.08488552174459, 0.08496923527688251, 0.08496923527688251, 0.08505294880917501, 0.08509480557532124, 0.08517851910761375, 0.08522037587376, 0.08522037587376, 0.08530408940605248, 0.08551337323678372, 0.08580637059980746, 0.0859319408982462, 0.08609936796283119, 0.08647607885814743, 0.0867272194550249, 0.08710393035034113, 0.08739692771336487, 0.08773178184253484, 0.08802477920555858, 0.08823406303628982, 0.0885689171654598, 0.0886526306977523, 0.08886191452848353, 0.08902934159306852, 0.08928048218994601, 0.08940605248838475, 0.08957347955296974, 0.08982462014984723, 0.08995019044828596, 0.09003390398057846, 0.0901594742790172, 0.09020133104516345, 0.09028504457745594, 0.09070361223891842, 0.09078732577121092, 0.09082918253735717, 0.09091289606964965, 0.09091289606964965, 0.09108032313423466, 0.09112217990038089, 0.09112217990038089, 0.09124775019881964, 0.09124775019881964, 0.09128960696496588, 0.09133146373111213, 0.09133146373111213, 0.09137332049725838, 0.09145703402955088, 0.09154074756184337, 0.09158260432798962, 0.09158260432798962, 0.09170817462642836, 0.09179188815872086, 0.09183374492486711, 0.09187560169101336, 0.0920011719894521, 0.09208488552174458, 0.09225231258632959, 0.09229416935247582, 0.09233602611862207, 0.09241973965091457, 0.09250345318320706, 0.0927127370139383, 0.09283830731237705, 0.09283830731237705, 0.0928801640785233, 0.09308944790925452, 0.09317316144154703, 0.09334058850613201, 0.09338244527227826, 0.09342430203842451, 0.09346615880457076, 0.093508015570717, 0.09354987233686325, 0.09371729940144824, 0.09380101293374074, 0.09388472646603323, 0.09401029676447198, 0.09405215353061823, 0.09413586706291072, 0.09426143736134947, 0.0943032941274957, 0.09434515089364195, 0.0943870076597882, 0.0945544347243732, 0.0946381482566657, 0.09476371855510443, 0.09484743208739693, 0.09484743208739693, 0.09488928885354317, 0.09493114561968942, 0.09497300238583567, 0.09501485915198192, 0.09509857268427441, 0.09518228621656691, 0.09526599974885941, 0.09530785651500565, 0.09539157004729815, 0.09539157004729815, 0.0954334268134444, 0.0954334268134444, 0.09547528357959065, 0.09547528357959065, 0.09555899711188313, 0.09564271064417564, 0.09581013770876062, 0.09777740571763426, 0.10321878531664644, 0.11565024486208196, 0.1353229249508183, 0.16336695826880415, 0.19287597840190868, 0.22774266460173287, 0.2594700933405885, 0.2862584236741869, 0.31003306684525556, 0.3328868611611067, 0.35435938219413166, 0.3744506299443305, 0.391946758193462, 0.40952659997488594, 0.4273157255870411, 0.4437235779163702, 0.46335440123896027, 0.4793018291406806, 0.4968398141559583, 0.514880080364991, 0.5291113808547152, 0.5449332384579967, 0.5597505336737684, 0.5763258130676824, 0.5925243815662802, 0.6097693692185342, 0.6269725001046419, 0.6427943577079235, 0.6594952074002762, 0.6741032187853166, 0.6884182328073333, 0.701226403248085, 0.7135322924950819, 0.7223222133857938, 0.7319074128332845, 0.7417437528776527, 0.7493616843162697, 0.7566447616257168, 0.763090703612239, 0.7695785023649073, 0.7752710225607969, 0.7808798292243941, 0.784563224645264, 0.7877443388723787, 0.7903813151395923, 0.792181156083881, 0.7948181323510946, 0.7958226947386045, 0.7964505462307983, 0.7972876815537232, 0.7976225356828931, 0.7981248168766482, 0.7985015277719644, 0.7990875224980118, 0.7995060901594743, 0.7997990875224981, 0.8000502281193755, 0.8003850822485454, 0.8005106525469842, 0.8007617931438618, 0.8008455066761542, 0.8009292202084467, 0.8009710769745929, 0.801138504039178, 0.801138504039178, 0.8011803608053242, 0.8012222175714704, 0.8013059311037629, 0.8013477878699091, 0.8013896446360554, 0.8014733581683479, 0.8014733581683479, 0.8015570717006404, 0.8016407852329329, 0.8016826419990791, 0.8018919258298104, 0.8021849231928341, 0.8024779205558579, 0.8026872043865891, 0.8031057720480516, 0.8035243397095141, 0.8037336235402452, 0.8039847641371227, 0.804361475032439, 0.8046126156293165, 0.8049056129923402, 0.8053241806538027, 0.8055334644845339, 0.8059101753798501, 0.8061194592105814, 0.8063287430413126, 0.8064961701058976, 0.8066217404043363, 0.8069565945335063, 0.8072077351303838, 0.8074170189611151, 0.8076263027918463, 0.8077937298564313, 0.8080448704533088, 0.8083797245824788, 0.8085471516470637, 0.8086727219455024, 0.8088401490100875, 0.8090075760746724, 0.8091750031392575, 0.8093005734376962, 0.8093842869699887, 0.8095517140345737, 0.8096354275668662, 0.8097191410991587, 0.809760997865305, 0.8098865681637437, 0.8098865681637437, 0.8099284249298899, 0.8100121384621825, 0.8100121384621825, 0.8100539952283287, 0.8101377087606212, 0.8102632790590599, 0.8104307061236449, 0.8104725628897911, 0.8107237034866687, 0.8109329873173998, 0.8116864091080324, 0.8120631200033486, 0.812816541793981, 0.8133606797538823, 0.8141978150768072, 0.8148256665690009, 0.8150768071658784, 0.8154953748273408, 0.8159976560210959, 0.8165836507471432, 0.8172533590054832, 0.8177556401992382, 0.8184253484575782, 0.8188020593528944, 0.8191369134820644, 0.8197647649742581, 0.8203926164664518, 0.8205181867648905, 0.8209786111924993, 0.8213553220878155, 0.8217320329831317, 0.8218994600477167, 0.8221087438784479, 0.8223180277091792, 0.8225691683060566, 0.8227784521367879, 0.8229458792013729, 0.8231551630321041, 0.8233225900966892, 0.8234481603951279, 0.8234900171612741, 0.8236574442258591, 0.8237830145242978, 0.8240341551211754, 0.8241178686534678, 0.8242434389519065, 0.8242852957180529, 0.824494579548784, 0.8245364363149303, 0.8245364363149303, 0.8245782930810766, 0.8246201498472228, 0.8246201498472228, 0.8247875769118078, 0.824829433677954, 0.8249131472102466, 0.8249131472102466, 0.8249550039763928, 0.8249968607425391, 0.8250387175086853, 0.8251224310409778, 0.8252061445732702, 0.825331714871709, 0.8255409987024402, 0.8255828554685865, 0.8255828554685865, 0.8256247122347328, 0.8257502825331715, 0.8257921392993177, 0.8259177095977565, 0.8259595663639028, 0.8261269934284877, 0.8263781340253652, 0.8264199907915114, 0.8265037043238039, 0.8266292746222427, 0.8266292746222427, 0.8266711313883889, 0.8266711313883889, 0.8267129881545352, 0.8267967016868277, 0.8267967016868277, 0.8268385584529739, 0.8269222719852665, 0.8269222719852665, 0.8270059855175589, 0.8270478422837052, 0.8270478422837052, 0.8271734125821439, 0.8271734125821439, 0.8272571261144364, 0.8272571261144364, 0.8274245531790214, 0.8274664099451676, 0.8275082667113138, 0.8275082667113138, 0.8275501234774602, 0.8275501234774602, 0.8275919802436064, 0.8276756937758989, 0.8276756937758989, 0.8276756937758989, 0.8278431208404838, 0.8279268343727764, 0.82855468586497, 0.8296429617847725, 0.8324055083504248, 0.8368423255619271, 0.8424511322255243, 0.8489389309781926, 0.8561382947553472, 0.8615796743543593, 0.8663513456950316, 0.8703695952450714, 0.8740948474320874, 0.8779875266836884, 0.8808756435477795, 0.884349755137918, 0.8882842911556653, 0.8910886944874639, 0.8943535222468713, 0.8981206312000335, 0.9008831777656858, 0.9042317190573856, 0.9087941065673266, 0.9131890670126827, 0.9172910300950149, 0.9211418525804697, 0.9248252480013394, 0.9290527813821104, 0.9332384579967352, 0.9370474237160437, 0.9411912435645222, 0.9447490686869533, 0.9473023314218744, 0.9501904482859654, 0.953329705746934, 0.9560085387802938, 0.9581013770876062, 0.9605709262902348, 0.9620777698714997, 0.9628730484282785, 0.9641706081788121, 0.9651751705663221, 0.9659285923569545, 0.9665983006152945, 0.967184295341342, 0.9677702900673893, 0.9681888577288519, 0.9686911389226068, 0.9690259930517768, 0.9692352768825081, 0.9696957013101167, 0.9701142689715793, 0.9703235528023105, 0.9704491231007493, 0.9704491231007493, 0.9706165501653342, 0.9707002636976267, 0.9707839772299193, 0.9708676907622117, 0.9709514042945042, 0.9709932610606504, 0.9711188313590892, 0.9712025448913817, 0.9713281151898204, 0.9714955422544054, 0.9717048260851366, 0.9721233937465992, 0.9725838181742079, 0.9731279561341091, 0.9735046670294253, 0.9738813779247415, 0.974299945586204, 0.9743418023523502, 0.974802226779959, 0.9750115106106902, 0.9750533673768365, 0.9753045079737139, 0.9754300782721527, 0.9757649324013227, 0.9758067891674689, 0.9758486459336152, 0.9760160729982001, 0.9761835000627852, 0.9762253568289314, 0.9763509271273701, 0.9765183541919551, 0.9766857812565402, 0.9766857812565402, 0.9768532083211251, 0.9769369218534176, 0.97702063538571, 0.9771043489180026, 0.9771462056841489, 0.9771880624502951, 0.9771880624502951, 0.9773136327487338, 0.97735548951488, 0.97735548951488, 0.9775229165794651, 0.9778159139424888, 0.977857770708635, 0.9779833410070738, 0.9780251977732201, 0.9781089113055126, 0.9781507680716588, 0.9782763383700975, 0.9783600519023901, 0.9784019086685363, 0.9784019086685363, 0.9784856222008288, 0.9785693357331212, 0.9785693357331212, 0.9786530492654137, 0.9786530492654137, 0.9787786195638525, 0.978862333096145, 0.9789460466284375, 0.9789460466284375, 0.9789879033945837, 0.9791134736930225, 0.979197187225315, 0.979197187225315, 0.9792809007576074, 0.9793227575237538, 0.9793227575237538, 0.9794064710560462, 0.9794064710560462, 0.9794483278221925, 0.9794483278221925, 0.9794901845883387, 0.9795320413544849, 0.9796157548867774, 0.9796157548867774, 0.9796576116529236, 0.9797413251852162, 0.9797831819513625, 0.9798250387175087, 0.9798250387175087, 0.9800761793143862, 0.9800761793143862, 0.9803273199112637, 0.9804110334435562, 0.9804528902097024, 0.9804528902097024, 0.9804947469758486, 0.9806621740404337, 0.9809970281696037, 0.9812900255326273, 0.9820015905571136, 0.9826712988154536, 0.9838432882675484, 0.9847222803566197, 0.9850571344857896, 0.9856012724456908, 0.9862291239378845, 0.9868569754300782, 0.9875266836884182, 0.987987108116027, 0.9884056757774894, 0.9887823866728057, 0.9892009543342681, 0.9897450922941694, 0.9900380896571931, 0.9904985140848018, 0.9909170817462642, 0.9912519358754343, 0.991544933238458, 0.9918797873676279, 0.9921727847306517, 0.9924657820936754, 0.992884349755138, 0.9934703444811854, 0.9936796283119166, 0.9938889121426479, 0.9940144824410866, 0.9942656230379641, 0.9943493365702566, 0.9945586204009879, 0.9948097609978653, 0.9948516177640115, 0.9949771880624503, 0.9950190448285965, 0.995102758360889, 0.9952283286593278, 0.9952283286593278, 0.995437612490059, 0.9954794692562052, 0.9955213260223515, 0.9957306098530827, 0.9958143233853752, 0.995939893683814, 0.9960236072161065, 0.996107320748399, 0.996107320748399, 0.9961910342806914, 0.9961910342806914, 0.9962328910468378, 0.9962328910468378, 0.9963584613452765, 0.9965258884098614, 0.996609601942154, 0.9966514587083002, 0.9967351722405927, 0.9967770290067389, 0.9969025993051777, 0.996944456071324, 0.9970281696036164, 0.9971118831359089, 0.9971118831359089, 0.9971537399020551, 0.9971537399020551, 0.9971955966682015, 0.9971955966682015, 0.9972793102004939, 0.9972793102004939, 0.9973211669666402, 0.9974048804989326, 0.9974467372650789, 0.9976141643296639, 0.9978653049265414, 0.9979908752249801, 0.9980327319911264, 0.9980745887572726, 0.9981583022895651, 0.9982001590557114, 0.9982420158218576, 0.9983257293541501, 0.9984094428864426, 0.9985350131848814, 0.9985350131848814, 0.9986605834833201, 0.9987024402494663, 0.9989535808463438, 0.9989535808463438, 0.9990372943786363, 0.9991210079109288, 0.9992047214432213, 0.99933029174166, 0.9994140052739525, 0.9994140052739525, 0.9995814323385376, 0.9995814323385376, 0.9997488594031225, 0.9997488594031225, 0.9998744297015613, 0.9999162864677075, 1.0], \"xaxis\": \"x\", \"y\": [0.0, 7.511454968827462e-05, 7.511454968827462e-05, 0.0004506872981296477, 0.0005258018478179223, 0.0005258018478179223, 0.000600916397506197, 0.000600916397506197, 0.0006760309471944716, 0.0008262600465710208, 0.0008262600465710208, 0.0009764891459475701, 0.0009764891459475701, 0.0009764891459475701, 0.0009764891459475701, 0.0010516036956358446, 0.0010516036956358446, 0.0013520618943889432, 0.001577405543453767, 0.001577405543453767, 0.0018027491925185909, 0.0018778637422068654, 0.0019529782918951402, 0.0020280928415834145, 0.0021032073912716893, 0.002403665590024788, 0.002553894689401337, 0.0027041237887778864, 0.0027792383384661608, 0.0028543528881544355, 0.0030045819875309846, 0.003154811086907534, 0.0032299256365958084, 0.0032299256365958084, 0.003305040186284083, 0.003305040186284083, 0.003380154735972358, 0.003530383835348907, 0.0038308420341020056, 0.0042064147825433785, 0.004807331180049576, 0.0055584766769323215, 0.006009163975061969, 0.006234507624126793, 0.006685194922256441, 0.0069105385713212645, 0.007511454968827462, 0.007811913167580561, 0.007887027717268834, 0.007887027717268834, 0.008187485916021933, 0.008187485916021933, 0.008337715015398482, 0.008412829565086757, 0.008638173214151581, 0.008788402313528131, 0.008863516863216405, 0.00893863141290468, 0.009088860512281229, 0.009239089611657779, 0.009314204161346052, 0.009539547810410876, 0.009539547810410876, 0.009539547810410876, 0.0097648914594757, 0.0097648914594757, 0.00991512055885225, 0.010140464207917074, 0.011192067903552918, 0.012393900698565313, 0.013370389844512881, 0.014497108089837002, 0.015248253586719747, 0.016525200931420417, 0.01772703372643281, 0.01885375197175693, 0.019755126568016226, 0.020431157515210695, 0.021182303012093444, 0.021557875760534816, 0.02208367760835274, 0.02245925035679411, 0.022534364906482387, 0.02290993765492376, 0.023060166754300306, 0.02313528130398858, 0.023210395853676857, 0.023435739502741682, 0.023811312251183055, 0.024111770449936152, 0.024186884999624427, 0.024337114099000978, 0.024412228648689253, 0.0245624577480658, 0.0245624577480658, 0.02471268684744235, 0.024787801397130625, 0.024787801397130625, 0.0248629159468189, 0.025163374145571998, 0.025238488695260273, 0.025463832344325095, 0.025764290543078196, 0.026214977841207843, 0.026440321490272665, 0.026590550589649216, 0.026815894238714038, 0.027041237887778864, 0.02711635243746714, 0.02749192518590851, 0.027717268834973333, 0.028092841583414706, 0.02831818523247953, 0.028393299782167807, 0.028543528881544353, 0.02876887253060918, 0.028843987080297454, 0.028843987080297454, 0.028843987080297454, 0.029294674378427102, 0.029294674378427102, 0.029444903477803652, 0.029444903477803652, 0.029444903477803652, 0.029444903477803652, 0.029520018027491924, 0.029670247126868474, 0.02974536167655675, 0.0298955907759333, 0.02997070532562157, 0.03042139262375122, 0.03042139262375122, 0.03072185082250432, 0.030872079921880867, 0.030872079921880867, 0.031247652670322243, 0.031247652670322243, 0.03139788176969879, 0.03139788176969879, 0.03147299631938707, 0.03177345451814016, 0.03184856906782844, 0.03199879816720499, 0.032374370915646364, 0.03259971456471118, 0.03290017276346428, 0.03312551641252911, 0.03312551641252911, 0.033200630962217384, 0.03350108916097048, 0.03365131826034703, 0.03365131826034703, 0.03365131826034703, 0.03365131826034703, 0.03395177645910013, 0.03425223465785322, 0.03440246375722977, 0.034552692856606324, 0.03477803650567115, 0.0349282656050477, 0.0349282656050477, 0.0349282656050477, 0.03507849470442425, 0.035153609254112525, 0.035153609254112525, 0.03522872380380079, 0.03530383835348907, 0.035378952903177344, 0.03545406745286562, 0.03545406745286562, 0.035529182002553894, 0.035529182002553894, 0.03560429655224217, 0.03560429655224217, 0.035679411101930444, 0.035679411101930444, 0.03575452565161872, 0.03613009840006009, 0.03628032749943664, 0.03628032749943664, 0.03658078569818974, 0.037331931195072485, 0.038158191241643505, 0.038608878539773156, 0.038834222188837975, 0.03920979493727935, 0.039660482235409, 0.040111169533538646, 0.040787200480733116, 0.04131300232855104, 0.04153834597761587, 0.04168857507699241, 0.04228949147449861, 0.04296552242169308, 0.043416209719822726, 0.04401712611732893, 0.0443926988657703, 0.04514384436265305, 0.04544430256140614, 0.046045218958912344, 0.04694659355517164, 0.047547509952677834, 0.04777285360174266, 0.048073311800495754, 0.04814842635018403, 0.048523999098625405, 0.048674228198001955, 0.048674228198001955, 0.048824457297378505, 0.048899571847066774, 0.049200030045819874, 0.04927514459550815, 0.049350259145196425, 0.049350259145196425, 0.0494253736948847, 0.0494253736948847, 0.049500488244572975, 0.04957560279426125, 0.04957560279426125, 0.0497258318936378, 0.0497258318936378, 0.049876060993014344, 0.049876060993014344, 0.04995117554270262, 0.04995117554270262, 0.050026290092390895, 0.050026290092390895, 0.05040186284083227, 0.05040186284083227, 0.050476977390520546, 0.050627206489897096, 0.05092766468865019, 0.051303237437091566, 0.05250507023210396, 0.05430781942462255, 0.05671148501464734, 0.059265379704048674, 0.06084278524750244, 0.06287087808908585, 0.0654247727784872, 0.06722752197100579, 0.06933072936227748, 0.07113347855479607, 0.07241042589949673, 0.07443851874108015, 0.07714264252985803, 0.07887027717268835, 0.08022233906707729, 0.08172463006084278, 0.0834522647036731, 0.08480432659806204, 0.08615638849245098, 0.08743333583715165, 0.08863516863216404, 0.08991211597686471, 0.09073837602343574, 0.0920153233681364, 0.09314204161346053, 0.09449410350784947, 0.09524524900473222, 0.09644708179974461, 0.09742357094569218, 0.0982498309922632, 0.09892586193945767, 0.09960189288665214, 0.09997746563509352, 0.10020280928415834, 0.10065349658228799, 0.10072861113197626, 0.10117929843010591, 0.10147975662885901, 0.10170510027792383, 0.10178021482761211, 0.10208067302636521, 0.10223090212574176, 0.1023811312251183, 0.10245624577480658, 0.10260647487418313, 0.10260647487418313, 0.1026815894238714, 0.1026815894238714, 0.10283181852324795, 0.10283181852324795, 0.10290693307293623, 0.10290693307293623, 0.10290693307293623, 0.1029820476226245, 0.10305716217231278, 0.10320739127168932, 0.10335762037106587, 0.10343273492075415, 0.10350784947044242, 0.10350784947044242, 0.1035829640201307, 0.1035829640201307, 0.10365807856981897, 0.1038834222188838, 0.10395853676857207, 0.10410876586794862, 0.10410876586794862, 0.10418388041763689, 0.10425899496732517, 0.10425899496732517, 0.10433410951701344, 0.10433410951701344, 0.10448433861638999, 0.10463456771576654, 0.10470968226545482, 0.10470968226545482, 0.10478479681514309, 0.10485991136483137, 0.10485991136483137, 0.10485991136483137, 0.10485991136483137, 0.10493502591451964, 0.10493502591451964, 0.10501014046420792, 0.10508525501389619, 0.10546082776233756, 0.10591151506046721, 0.10636220235859686, 0.10658754600766168, 0.10666266055734996, 0.1071133478554796, 0.10756403515360925, 0.10778937880267407, 0.10824006610080372, 0.10854052429955682, 0.10876586794862164, 0.10899121159768647, 0.10899121159768647, 0.10921655524675129, 0.10929166979643958, 0.10944189889581613, 0.10959212799519266, 0.1098174716442575, 0.10989258619394576, 0.10996770074363404, 0.11004281529332231, 0.1101179298430106, 0.11026815894238715, 0.1104183880417637, 0.1104183880417637, 0.11056861714114023, 0.11064373169082851, 0.11064373169082851, 0.11064373169082851, 0.11071884624051678, 0.11079396079020506, 0.11086907533989333, 0.11086907533989333, 0.11094418988958162, 0.11101930443926988, 0.11101930443926988, 0.11109441898895817, 0.11124464808833472, 0.11124464808833472, 0.11131976263802298, 0.11131976263802298, 0.11131976263802298, 0.11131976263802298, 0.11139487718771127, 0.1115451062870878, 0.1115451062870878, 0.11162022083677609, 0.11177044993615264, 0.1118455644858409, 0.11192067903552919, 0.11207090813490574, 0.11222113723428229, 0.11237136633365882, 0.11252159543303537, 0.1127469390821002, 0.11282205363178847, 0.11297228273116502, 0.11297228273116502, 0.11312251183054157, 0.11312251183054157, 0.11319762638022986, 0.11319762638022986, 0.11342297002929468, 0.11342297002929468, 0.11342297002929468, 0.11342297002929468, 0.11342297002929468, 0.11357319912867123, 0.1136483136783595, 0.1136483136783595, 0.11372342822804778, 0.11372342822804778, 0.11387365732742433, 0.11402388642680088, 0.11402388642680088, 0.11417411552617741, 0.11417411552617741, 0.11439945917524225, 0.1145496882746188, 0.11462480282430706, 0.11462480282430706, 0.11469991737399535, 0.11469991737399535, 0.11469991737399535, 0.11477503192368362, 0.1148501464733719, 0.1148501464733719, 0.11492526102306017, 0.11492526102306017, 0.11500037557274845, 0.11500037557274845, 0.11507549012243672, 0.11507549012243672, 0.11515060467212498, 0.11522571922181327, 0.11612709381807255, 0.11800495756027943, 0.12536618342973033, 0.1382107714264253, 0.15901750169007736, 0.18635919777660934, 0.21940959963945017, 0.2548636670923158, 0.28813941260422143, 0.3193119507248554, 0.3480057087057763, 0.374446030196049, 0.39705550965221964, 0.41673552167054756, 0.4377675955832645, 0.45857432584691654, 0.4790805979118155, 0.49846015173139036, 0.5168632164050176, 0.536918801171787, 0.5531435439044543, 0.5712461503793285, 0.5870202058138662, 0.6029444903477804, 0.6196950349282656, 0.6350184030646736, 0.6527454367911064, 0.6682941485765793, 0.6831668294148576, 0.6999924885450312, 0.7146398257342447, 0.727559528280628, 0.7392022834823105, 0.7518966423796289, 0.7618117629384812, 0.7702245925035679, 0.7790129948170961, 0.7882520844287538, 0.7966649139938407, 0.8010215578757606, 0.8059040036054984, 0.8094343874408473, 0.8125891985277548, 0.8155937805152859, 0.8178472170059341, 0.820025538946894, 0.8214527153909712, 0.823030120934425, 0.8240817246300608, 0.8249079846766318, 0.8255089010741381, 0.8262600465710208, 0.8267858484188387, 0.8270111920679035, 0.8271614211672801, 0.8272365357169684, 0.8273867648163449, 0.8274618793660332, 0.8275369939157214, 0.8275369939157214, 0.8275369939157214, 0.827687223015098, 0.8277623375647863, 0.8277623375647863, 0.8278374521144746, 0.8279125666641628, 0.8279876812138511, 0.8279876812138511, 0.8279876812138511, 0.8279876812138511, 0.8280627957635394, 0.8280627957635394, 0.8281379103132277, 0.8281379103132277, 0.8281379103132277, 0.8281379103132277, 0.8281379103132277, 0.8282881394126043, 0.828513483061669, 0.8287388267107338, 0.8291895140088635, 0.8294148576579283, 0.8296402013069931, 0.8299406595057462, 0.8304664613535642, 0.8307669195523173, 0.8310673777510704, 0.8312927214001352, 0.8313678359498234, 0.8316682941485766, 0.8318185232479531, 0.8320438668970179, 0.832344325095771, 0.8327950123939007, 0.8330954705926538, 0.8332456996920303, 0.8332456996920303, 0.8335461578907835, 0.8337715015398482, 0.833996845188913, 0.8345226470367311, 0.8347479906857959, 0.8352737925336138, 0.8354991361826786, 0.8356493652820551, 0.8357244798317434, 0.8358747089311199, 0.8360249380304965, 0.8361000525801848, 0.8361000525801848, 0.836175167129873, 0.8362502816795613, 0.8363253962292496, 0.8364005107789378, 0.8364756253286262, 0.8364756253286262, 0.836700968977691, 0.836700968977691, 0.836700968977691, 0.8367760835273792, 0.8367760835273792, 0.8367760835273792, 0.8369263126267558, 0.8370765417261323, 0.8373018853751972, 0.8379028017727034, 0.8385037181702095, 0.838879290918651, 0.839179749117404, 0.8397806655149103, 0.8403815819124164, 0.8412078419589875, 0.8415834147074288, 0.8423345602043115, 0.8436115075490123, 0.8439870802974536, 0.8444377675955833, 0.8448133403440247, 0.8453391421918426, 0.8457147149402839, 0.8464658604371667, 0.8470667768346729, 0.8472921204837377, 0.847667693232179, 0.8479681514309322, 0.848193495079997, 0.8485690678284383, 0.8488695260271915, 0.849019755126568, 0.8490948696762562, 0.8492450987756328, 0.8492450987756328, 0.8492450987756328, 0.8493953278750094, 0.8495455569743859, 0.8496206715240742, 0.8496957860737625, 0.8499962442725156, 0.8499962442725156, 0.8499962442725156, 0.8500713588222039, 0.8501464733718921, 0.8501464733718921, 0.8502215879215804, 0.8502215879215804, 0.8502967024712687, 0.8504469315706452, 0.8504469315706452, 0.8505220461203336, 0.8505220461203336, 0.8505971606700218, 0.85067227521971, 0.8508225043190866, 0.8511980770675279, 0.8511980770675279, 0.8513483061669045, 0.8513483061669045, 0.8514234207165928, 0.8514234207165928, 0.851498535266281, 0.851498535266281, 0.8515736498159694, 0.8516487643656576, 0.8516487643656576, 0.851723878915346, 0.851723878915346, 0.8517989934650342, 0.8518741080147224, 0.8518741080147224, 0.8518741080147224, 0.8519492225644107, 0.8519492225644107, 0.8522496807631639, 0.8522496807631639, 0.8522496807631639, 0.8523247953128521, 0.8523999098625403, 0.8523999098625403, 0.8524750244122287, 0.8524750244122287, 0.8524750244122287, 0.8525501389619169, 0.8525501389619169, 0.8527754826109818, 0.8527754826109818, 0.8529257117103582, 0.8529257117103582, 0.8530008262600466, 0.8530008262600466, 0.8530759408097348, 0.8530759408097348, 0.8531510553594231, 0.8532261699091114, 0.8532261699091114, 0.8533012844587997, 0.8534515135581762, 0.8534515135581762, 0.8535266281078645, 0.8539773154059941, 0.8547284609028769, 0.8557800645985127, 0.8572823555922783, 0.8594606775332382, 0.8621648013220161, 0.8653196124089236, 0.8702771726883497, 0.8746338165702696, 0.8792158041012544, 0.8826710733869151, 0.8859761135731992, 0.8901074138060542, 0.8932622248929618, 0.8958912341320514, 0.8983700142717644, 0.9017501690077367, 0.9043791782468265, 0.9073837602343574, 0.9112897168181476, 0.9153459025013145, 0.918500713588222, 0.9220310974235709, 0.9266130849545557, 0.929993239690528, 0.9367535491624728, 0.9412604221437693, 0.9454668369263126, 0.9503492826560505, 0.9528280627957635, 0.9561331029820477, 0.9587621122211373, 0.961165777811162, 0.9642454743483813, 0.9661233380905881, 0.9675505145346653, 0.9690528055284309, 0.9701044092240667, 0.9707804401712612, 0.9717569293172087, 0.9728085330128445, 0.9738601367084805, 0.9743108240066101, 0.9752121986028693, 0.9755877713513107, 0.9761135731991287, 0.9763389168481935, 0.9765642604972583, 0.9768647186960114, 0.9771651768947646, 0.9771651768947646, 0.9773905205438294, 0.9774656350935176, 0.9774656350935176, 0.9775407496432059, 0.9776909787425825, 0.9776909787425825, 0.9777660932922707, 0.9779163223916473, 0.9779914369413355, 0.9779914369413355, 0.9779914369413355, 0.9780665514910238, 0.9782167805904004, 0.9784421242394652, 0.9785923533388418, 0.9788928115375949, 0.9792683842860362, 0.9801697588822955, 0.9804702170810486, 0.9807706752798017, 0.9809960189288666, 0.9812964771276196, 0.9814467062269961, 0.9815969353263727, 0.9817471644257493, 0.9818973935251258, 0.9820476226245024, 0.9821227371741906, 0.982197851723879, 0.9823480808232554, 0.982498309922632, 0.9825734244723203, 0.9825734244723203, 0.9825734244723203, 0.9826485390220085, 0.9826485390220085, 0.9826485390220085, 0.9826485390220085, 0.9826485390220085, 0.9827236535716969, 0.9827236535716969, 0.9828738826710733, 0.9828738826710733, 0.9828738826710733, 0.9829489972207617, 0.9829489972207617, 0.9829489972207617, 0.9831743408698265, 0.9832494554195148, 0.983324569969203, 0.983324569969203, 0.9835499136182678, 0.9836250281679562, 0.9836250281679562, 0.9837001427176444, 0.9837752572673327, 0.9839254863667092, 0.9840006009163975, 0.9840757154660857, 0.9840757154660857, 0.9841508300157741, 0.9841508300157741, 0.9842259445654623, 0.9842259445654623, 0.9843010591151506, 0.9843761736648389, 0.9843761736648389, 0.9843761736648389, 0.9844512882145272, 0.9844512882145272, 0.9844512882145272, 0.9845264027642154, 0.9845264027642154, 0.9846015173139037, 0.9846015173139037, 0.9847517464132802, 0.9848268609629686, 0.9848268609629686, 0.9849019755126568, 0.9849770900623451, 0.9849770900623451, 0.9850522046120334, 0.9851273191617216, 0.9851273191617216, 0.9852775482610981, 0.9852775482610981, 0.9853526628107865, 0.9853526628107865, 0.9853526628107865, 0.9853526628107865, 0.9854277773604747, 0.9854277773604747, 0.9854277773604747, 0.9855780064598513, 0.9856531210095395, 0.986028693757981, 0.9864793810561105, 0.9868549538045519, 0.9878314429504995, 0.9880567865995643, 0.9886577029970706, 0.989333733944265, 0.9899346503417712, 0.9906106812889657, 0.9910613685870954, 0.9912867122361602, 0.9921129722827312, 0.992338315931796, 0.9924134304814842, 0.9929392323293021, 0.9930894614286787, 0.9936152632764966, 0.9938406069255615, 0.9941410651243145, 0.9942161796740029, 0.9944415233230677, 0.9949673251708856, 0.9949673251708856, 0.9950424397205738, 0.9952677833696387, 0.9954180124690153, 0.9955682415683917, 0.9958686997671449, 0.9960189288665214, 0.9960940434162098, 0.9960940434162098, 0.996169157965898, 0.9963193870652746, 0.9963193870652746, 0.9963193870652746, 0.9963945016149628, 0.9964696161646511, 0.9965447307143394, 0.9966198452640277, 0.9966198452640277, 0.9966198452640277, 0.9966198452640277, 0.9966198452640277, 0.9966198452640277, 0.9967700743634041, 0.9969203034627807, 0.9969203034627807, 0.996995418012469, 0.996995418012469, 0.9972207616615338, 0.9972207616615338, 0.9972207616615338, 0.9972207616615338, 0.9972958762112221, 0.9973709907609104, 0.9973709907609104, 0.9973709907609104, 0.9973709907609104, 0.9974461053105986, 0.9974461053105986, 0.997521219860287, 0.9975963344099752, 0.9976714489596635, 0.9976714489596635, 0.9977465635093518, 0.9977465635093518, 0.99782167805904, 0.9978967926087283, 0.9979719071584165, 0.9979719071584165, 0.9979719071584165, 0.9979719071584165, 0.9981221362577931, 0.9983474799068579, 0.9984225944565462, 0.9984977090062345, 0.9987230526552994, 0.9987981672049876, 0.9987981672049876, 0.9987981672049876, 0.9987981672049876, 0.9988732817546759, 0.9989483963043642, 0.9990235108540524, 0.9990986254037407, 0.999173739953429, 0.9992488545031173, 0.9993990836024939, 0.9994741981521821, 0.9994741981521821, 0.9995493127018703, 0.9996995418012469, 0.9996995418012469, 0.9997746563509352, 0.9997746563509352, 0.9998497709006234, 0.9998497709006234, 1.0, 1.0], \"yaxis\": \"y\"}, {\"hovertemplate\": \"x=%{x}<br>y=%{y}<extra></extra>\", \"legendgroup\": \"\", \"line\": {\"color\": \"rgba(50,50,50,0.2)\", \"dash\": \"solid\"}, \"mode\": \"lines\", \"name\": \"\", \"orientation\": \"v\", \"showlegend\": false, \"type\": \"scatter\", \"x\": [0, 1], \"xaxis\": \"x\", \"y\": [0, 1], \"yaxis\": \"y\"}],                        {\"autosize\": false, \"height\": 800, \"template\": {\"data\": {\"bar\": [{\"error_x\": {\"color\": \"#2a3f5f\"}, \"error_y\": {\"color\": \"#2a3f5f\"}, \"marker\": {\"line\": {\"color\": \"#E5ECF6\", \"width\": 0.5}}, \"type\": \"bar\"}], \"barpolar\": [{\"marker\": {\"line\": {\"color\": \"#E5ECF6\", \"width\": 0.5}}, \"type\": \"barpolar\"}], \"carpet\": [{\"aaxis\": {\"endlinecolor\": \"#2a3f5f\", \"gridcolor\": \"white\", \"linecolor\": \"white\", \"minorgridcolor\": \"white\", \"startlinecolor\": \"#2a3f5f\"}, \"baxis\": {\"endlinecolor\": \"#2a3f5f\", \"gridcolor\": \"white\", \"linecolor\": \"white\", \"minorgridcolor\": \"white\", \"startlinecolor\": \"#2a3f5f\"}, \"type\": \"carpet\"}], \"choropleth\": [{\"colorbar\": {\"outlinewidth\": 0, \"ticks\": \"\"}, \"type\": \"choropleth\"}], \"contour\": [{\"colorbar\": {\"outlinewidth\": 0, \"ticks\": \"\"}, \"colorscale\": [[0.0, \"#0d0887\"], [0.1111111111111111, \"#46039f\"], [0.2222222222222222, \"#7201a8\"], [0.3333333333333333, \"#9c179e\"], [0.4444444444444444, \"#bd3786\"], [0.5555555555555556, \"#d8576b\"], [0.6666666666666666, \"#ed7953\"], [0.7777777777777778, \"#fb9f3a\"], [0.8888888888888888, \"#fdca26\"], [1.0, \"#f0f921\"]], \"type\": \"contour\"}], \"contourcarpet\": [{\"colorbar\": {\"outlinewidth\": 0, \"ticks\": \"\"}, \"type\": \"contourcarpet\"}], \"heatmap\": [{\"colorbar\": {\"outlinewidth\": 0, \"ticks\": \"\"}, \"colorscale\": [[0.0, \"#0d0887\"], [0.1111111111111111, \"#46039f\"], [0.2222222222222222, \"#7201a8\"], [0.3333333333333333, \"#9c179e\"], [0.4444444444444444, \"#bd3786\"], [0.5555555555555556, \"#d8576b\"], [0.6666666666666666, \"#ed7953\"], [0.7777777777777778, \"#fb9f3a\"], [0.8888888888888888, \"#fdca26\"], [1.0, \"#f0f921\"]], \"type\": \"heatmap\"}], \"heatmapgl\": [{\"colorbar\": {\"outlinewidth\": 0, \"ticks\": \"\"}, \"colorscale\": [[0.0, \"#0d0887\"], [0.1111111111111111, \"#46039f\"], [0.2222222222222222, \"#7201a8\"], [0.3333333333333333, \"#9c179e\"], [0.4444444444444444, \"#bd3786\"], [0.5555555555555556, \"#d8576b\"], [0.6666666666666666, \"#ed7953\"], [0.7777777777777778, \"#fb9f3a\"], [0.8888888888888888, \"#fdca26\"], [1.0, \"#f0f921\"]], \"type\": \"heatmapgl\"}], \"histogram\": [{\"marker\": {\"colorbar\": {\"outlinewidth\": 0, \"ticks\": \"\"}}, \"type\": \"histogram\"}], \"histogram2d\": [{\"colorbar\": {\"outlinewidth\": 0, \"ticks\": \"\"}, \"colorscale\": [[0.0, \"#0d0887\"], [0.1111111111111111, \"#46039f\"], [0.2222222222222222, \"#7201a8\"], [0.3333333333333333, \"#9c179e\"], [0.4444444444444444, \"#bd3786\"], [0.5555555555555556, \"#d8576b\"], [0.6666666666666666, \"#ed7953\"], [0.7777777777777778, \"#fb9f3a\"], [0.8888888888888888, \"#fdca26\"], [1.0, \"#f0f921\"]], \"type\": \"histogram2d\"}], \"histogram2dcontour\": [{\"colorbar\": {\"outlinewidth\": 0, \"ticks\": \"\"}, \"colorscale\": [[0.0, \"#0d0887\"], [0.1111111111111111, \"#46039f\"], [0.2222222222222222, \"#7201a8\"], [0.3333333333333333, \"#9c179e\"], [0.4444444444444444, \"#bd3786\"], [0.5555555555555556, \"#d8576b\"], [0.6666666666666666, \"#ed7953\"], [0.7777777777777778, \"#fb9f3a\"], [0.8888888888888888, \"#fdca26\"], [1.0, \"#f0f921\"]], \"type\": \"histogram2dcontour\"}], \"mesh3d\": [{\"colorbar\": {\"outlinewidth\": 0, \"ticks\": \"\"}, \"type\": \"mesh3d\"}], \"parcoords\": [{\"line\": {\"colorbar\": {\"outlinewidth\": 0, \"ticks\": \"\"}}, \"type\": \"parcoords\"}], \"pie\": [{\"automargin\": true, \"type\": \"pie\"}], \"scatter\": [{\"marker\": {\"colorbar\": {\"outlinewidth\": 0, \"ticks\": \"\"}}, \"type\": \"scatter\"}], \"scatter3d\": [{\"line\": {\"colorbar\": {\"outlinewidth\": 0, \"ticks\": \"\"}}, \"marker\": {\"colorbar\": {\"outlinewidth\": 0, \"ticks\": \"\"}}, \"type\": \"scatter3d\"}], \"scattercarpet\": [{\"marker\": {\"colorbar\": {\"outlinewidth\": 0, \"ticks\": \"\"}}, \"type\": \"scattercarpet\"}], \"scattergeo\": [{\"marker\": {\"colorbar\": {\"outlinewidth\": 0, \"ticks\": \"\"}}, \"type\": \"scattergeo\"}], \"scattergl\": [{\"marker\": {\"colorbar\": {\"outlinewidth\": 0, \"ticks\": \"\"}}, \"type\": \"scattergl\"}], \"scattermapbox\": [{\"marker\": {\"colorbar\": {\"outlinewidth\": 0, \"ticks\": \"\"}}, \"type\": \"scattermapbox\"}], \"scatterpolar\": [{\"marker\": {\"colorbar\": {\"outlinewidth\": 0, \"ticks\": \"\"}}, \"type\": \"scatterpolar\"}], \"scatterpolargl\": [{\"marker\": {\"colorbar\": {\"outlinewidth\": 0, \"ticks\": \"\"}}, \"type\": \"scatterpolargl\"}], \"scatterternary\": [{\"marker\": {\"colorbar\": {\"outlinewidth\": 0, \"ticks\": \"\"}}, \"type\": \"scatterternary\"}], \"surface\": [{\"colorbar\": {\"outlinewidth\": 0, \"ticks\": \"\"}, \"colorscale\": [[0.0, \"#0d0887\"], [0.1111111111111111, \"#46039f\"], [0.2222222222222222, \"#7201a8\"], [0.3333333333333333, \"#9c179e\"], [0.4444444444444444, \"#bd3786\"], [0.5555555555555556, \"#d8576b\"], [0.6666666666666666, \"#ed7953\"], [0.7777777777777778, \"#fb9f3a\"], [0.8888888888888888, \"#fdca26\"], [1.0, \"#f0f921\"]], \"type\": \"surface\"}], \"table\": [{\"cells\": {\"fill\": {\"color\": \"#EBF0F8\"}, \"line\": {\"color\": \"white\"}}, \"header\": {\"fill\": {\"color\": \"#C8D4E3\"}, \"line\": {\"color\": \"white\"}}, \"type\": \"table\"}]}, \"layout\": {\"annotationdefaults\": {\"arrowcolor\": \"#2a3f5f\", \"arrowhead\": 0, \"arrowwidth\": 1}, \"autotypenumbers\": \"strict\", \"coloraxis\": {\"colorbar\": {\"outlinewidth\": 0, \"ticks\": \"\"}}, \"colorscale\": {\"diverging\": [[0, \"#8e0152\"], [0.1, \"#c51b7d\"], [0.2, \"#de77ae\"], [0.3, \"#f1b6da\"], [0.4, \"#fde0ef\"], [0.5, \"#f7f7f7\"], [0.6, \"#e6f5d0\"], [0.7, \"#b8e186\"], [0.8, \"#7fbc41\"], [0.9, \"#4d9221\"], [1, \"#276419\"]], \"sequential\": [[0.0, \"#0d0887\"], [0.1111111111111111, \"#46039f\"], [0.2222222222222222, \"#7201a8\"], [0.3333333333333333, \"#9c179e\"], [0.4444444444444444, \"#bd3786\"], [0.5555555555555556, \"#d8576b\"], [0.6666666666666666, \"#ed7953\"], [0.7777777777777778, \"#fb9f3a\"], [0.8888888888888888, \"#fdca26\"], [1.0, \"#f0f921\"]], \"sequentialminus\": [[0.0, \"#0d0887\"], [0.1111111111111111, \"#46039f\"], [0.2222222222222222, \"#7201a8\"], [0.3333333333333333, \"#9c179e\"], [0.4444444444444444, \"#bd3786\"], [0.5555555555555556, \"#d8576b\"], [0.6666666666666666, \"#ed7953\"], [0.7777777777777778, \"#fb9f3a\"], [0.8888888888888888, \"#fdca26\"], [1.0, \"#f0f921\"]]}, \"colorway\": [\"#636efa\", \"#EF553B\", \"#00cc96\", \"#ab63fa\", \"#FFA15A\", \"#19d3f3\", \"#FF6692\", \"#B6E880\", \"#FF97FF\", \"#FECB52\"], \"font\": {\"color\": \"#2a3f5f\"}, \"geo\": {\"bgcolor\": \"white\", \"lakecolor\": \"white\", \"landcolor\": \"#E5ECF6\", \"showlakes\": true, \"showland\": true, \"subunitcolor\": \"white\"}, \"hoverlabel\": {\"align\": \"left\"}, \"hovermode\": \"closest\", \"mapbox\": {\"style\": \"light\"}, \"paper_bgcolor\": \"white\", \"plot_bgcolor\": \"#E5ECF6\", \"polar\": {\"angularaxis\": {\"gridcolor\": \"white\", \"linecolor\": \"white\", \"ticks\": \"\"}, \"bgcolor\": \"#E5ECF6\", \"radialaxis\": {\"gridcolor\": \"white\", \"linecolor\": \"white\", \"ticks\": \"\"}}, \"scene\": {\"xaxis\": {\"backgroundcolor\": \"#E5ECF6\", \"gridcolor\": \"white\", \"gridwidth\": 2, \"linecolor\": \"white\", \"showbackground\": true, \"ticks\": \"\", \"zerolinecolor\": \"white\"}, \"yaxis\": {\"backgroundcolor\": \"#E5ECF6\", \"gridcolor\": \"white\", \"gridwidth\": 2, \"linecolor\": \"white\", \"showbackground\": true, \"ticks\": \"\", \"zerolinecolor\": \"white\"}, \"zaxis\": {\"backgroundcolor\": \"#E5ECF6\", \"gridcolor\": \"white\", \"gridwidth\": 2, \"linecolor\": \"white\", \"showbackground\": true, \"ticks\": \"\", \"zerolinecolor\": \"white\"}}, \"shapedefaults\": {\"line\": {\"color\": \"#2a3f5f\"}}, \"ternary\": {\"aaxis\": {\"gridcolor\": \"white\", \"linecolor\": \"white\", \"ticks\": \"\"}, \"baxis\": {\"gridcolor\": \"white\", \"linecolor\": \"white\", \"ticks\": \"\"}, \"bgcolor\": \"#E5ECF6\", \"caxis\": {\"gridcolor\": \"white\", \"linecolor\": \"white\", \"ticks\": \"\"}}, \"title\": {\"x\": 0.05}, \"xaxis\": {\"automargin\": true, \"gridcolor\": \"white\", \"linecolor\": \"white\", \"ticks\": \"\", \"title\": {\"standoff\": 15}, \"zerolinecolor\": \"white\", \"zerolinewidth\": 2}, \"yaxis\": {\"automargin\": true, \"gridcolor\": \"white\", \"linecolor\": \"white\", \"ticks\": \"\", \"title\": {\"standoff\": 15}, \"zerolinecolor\": \"white\", \"zerolinewidth\": 2}}}, \"title\": {\"text\": \"ROC Curve\"}, \"width\": 800, \"xaxis\": {\"range\": [0, 1], \"title\": {\"text\": \"False Positive Rate (Sensitivty)\"}}, \"yaxis\": {\"range\": [0, 1], \"title\": {\"text\": \"True Positive Rate (1-Precision)\"}}},                        {\"responsive\": true}                    ).then(function(){\n                            \nvar gd = document.getElementById('dfd226c1-7431-4fae-9ed0-f1c0c1c3b526');\nvar x = new MutationObserver(function (mutations, observer) {{\n        var display = window.getComputedStyle(gd).display;\n        if (!display || display === 'none') {{\n            console.log([gd, 'removed!']);\n            Plotly.purge(gd);\n            observer.disconnect();\n        }}\n}});\n\n// Listen for the removal of the full notebook cells\nvar notebookContainer = gd.closest('#notebook-container');\nif (notebookContainer) {{\n    x.observe(notebookContainer, {childList: true});\n}}\n\n// Listen for the clearing of the current output cell\nvar outputEl = gd.closest('.output');\nif (outputEl) {{\n    x.observe(outputEl, {childList: true});\n}}\n\n                        })                };                });            </script>        </div>"
     },
     "metadata": {}
    },
    {
     "output_type": "stream",
     "name": "stdout",
     "text": [
      "AUC ROC score: 0.520\n"
     ]
    }
   ],
   "source": [
    "fig, auc = classification_tools.calc_roc(models[model], X_train, y_train)\n",
    "fig.show()\n",
    "print(\"AUC ROC score: {:.3f}\".format(auc))"
   ]
  },
  {
   "source": [
    "#### Validate"
   ],
   "cell_type": "markdown",
   "metadata": {}
  },
  {
   "cell_type": "code",
   "execution_count": 221,
   "metadata": {},
   "outputs": [
    {
     "output_type": "display_data",
     "data": {
      "application/vnd.plotly.v1+json": {
       "config": {
        "plotlyServerURL": "https://plot.ly"
       },
       "data": [
        {
         "hovertemplate": "x=%{x}<br>y=%{y}<extra></extra>",
         "legendgroup": "",
         "line": {
          "color": "#636efa",
          "dash": "solid"
         },
         "mode": "lines",
         "name": "",
         "orientation": "v",
         "showlegend": false,
         "type": "scatter",
         "x": [
          0,
          0,
          0.00008312551953449709,
          0.00008312551953449709,
          0.00016625103906899418,
          0.00016625103906899418,
          0.00033250207813798836,
          0.00033250207813798836,
          0.0005818786367414796,
          0.0007481296758104738,
          0.000997506234413965,
          0.0010806317539484621,
          0.0013300083125519534,
          0.0013300083125519534,
          0.0014131338320864505,
          0.0015793848711554447,
          0.0016625103906899418,
          0.0016625103906899418,
          0.001745635910224439,
          0.001745635910224439,
          0.001828761429758936,
          0.0019118869492934332,
          0.0019118869492934332,
          0.00199501246882793,
          0.00199501246882793,
          0.0021612635078969242,
          0.0021612635078969242,
          0.0023275145469659184,
          0.00257689110556941,
          0.0032418952618453864,
          0.003906899418121363,
          0.00457190357439734,
          0.004904405652535328,
          0.00515378221113882,
          0.005486284289276808,
          0.005652535328345802,
          0.0059850374064837905,
          0.006317539484621779,
          0.006400665004156276,
          0.006483790523690773,
          0.006650041562759767,
          0.006816292601828761,
          0.006899418121363259,
          0.006899418121363259,
          0.006982543640897756,
          0.007065669160432253,
          0.0071487946799667496,
          0.0071487946799667496,
          0.007315045719035744,
          0.007315045719035744,
          0.007813798836242726,
          0.008395677472984206,
          0.008977556109725686,
          0.00939318370739817,
          0.010640066500415627,
          0.011221945137157107,
          0.011803823773898587,
          0.012635078969243558,
          0.013549459684123025,
          0.014048212801330008,
          0.014463840399002495,
          0.014962593516209476,
          0.01512884455527847,
          0.015295095594347465,
          0.015876974231088945,
          0.01604322527015794,
          0.016126350789692434,
          0.016375727348295926,
          0.016708229426433914,
          0.016791354945968413,
          0.0171238570241064,
          0.017290108063175394,
          0.017373233582709893,
          0.01762261014131338,
          0.01762261014131338,
          0.01770573566084788,
          0.01778886118038238,
          0.01778886118038238,
          0.017871986699916874,
          0.017871986699916874,
          0.017955112219451373,
          0.017955112219451373,
          0.018038237738985868,
          0.01828761429758936,
          0.018620116375727348,
          0.01886949293433084,
          0.019534497090606815,
          0.01970074812967581,
          0.019783873649210307,
          0.019866999168744806,
          0.020116375727348295,
          0.020199501246882794,
          0.02028262676641729,
          0.020448877805486283,
          0.020698254364089775,
          0.020781379883624274,
          0.02086450540315877,
          0.02086450540315877,
          0.021030756442227762,
          0.02111388196176226,
          0.02119700748129676,
          0.021280133000831255,
          0.021363258520365754,
          0.021529509559434747,
          0.021612635078969242,
          0.021612635078969242,
          0.021778886118038236,
          0.021778886118038236,
          0.021945137157107233,
          0.021945137157107233,
          0.022111388196176227,
          0.022111388196176227,
          0.022194513715710722,
          0.022360764754779716,
          0.022443890274314215,
          0.02252701579384871,
          0.022693266832917707,
          0.022942643391521196,
          0.02377389858686617,
          0.023940149625935162,
          0.02402327514546966,
          0.024189526184538655,
          0.02427265170407315,
          0.024438902743142144,
          0.02493765586034913,
          0.025103906899418122,
          0.025187032418952617,
          0.025187032418952617,
          0.025187032418952617,
          0.025187032418952617,
          0.025270157938487116,
          0.02543640897755611,
          0.02543640897755611,
          0.025602660016625103,
          0.025602660016625103,
          0.025685785536159602,
          0.025685785536159602,
          0.025768911055694097,
          0.025768911055694097,
          0.02601828761429759,
          0.026101413133832088,
          0.026267664172901082,
          0.026350789692435577,
          0.02660016625103907,
          0.026849542809642562,
          0.02743142144638404,
          0.027930174563591023,
          0.02834580216126351,
          0.029177057356608478,
          0.029675810473815463,
          0.029925187032418952,
          0.030423940149625937,
          0.030507065669160432,
          0.03083956774729842,
          0.031255195344970906,
          0.031837073981712385,
          0.032418952618453865,
          0.03283458021612635,
          0.03316708229426434,
          0.03366583541147132,
          0.03449709060681629,
          0.03507896924355777,
          0.035494596841230255,
          0.036076475477971735,
          0.03640897755610972,
          0.036658354114713215,
          0.03690773067331671,
          0.037240232751454695,
          0.03740648379052369,
          0.037655860349127185,
          0.038237738985868665,
          0.038403990024937655,
          0.03848711554447215,
          0.03848711554447215,
          0.03857024106400665,
          0.03873649210307564,
          0.03873649210307564,
          0.038819617622610145,
          0.038985868661679135,
          0.038985868661679135,
          0.03906899418121363,
          0.03923524522028263,
          0.03931837073981712,
          0.03948462177888612,
          0.03965087281795511,
          0.03973399833748961,
          0.03981712385702411,
          0.03981712385702411,
          0.0399833748960931,
          0.0399833748960931,
          0.04039900249376559,
          0.04106400665004156,
          0.04164588528678304,
          0.04330839567747299,
          0.04522028262676642,
          0.048462177888611804,
          0.050789692435577724,
          0.052535328345802164,
          0.054447215295095594,
          0.056608478802992516,
          0.05785536159600998,
          0.059268495428096424,
          0.060432252701579384,
          0.06167913549459684,
          0.06350789692435578,
          0.06483790523690773,
          0.0656691604322527,
          0.06716541978387365,
          0.06832917705735661,
          0.06916043225270158,
          0.06999168744804656,
          0.0714879467996675,
          0.07231920199501247,
          0.07306733167082294,
          0.07448046550290939,
          0.07581047381546134,
          0.07747298420615129,
          0.07880299251870324,
          0.0799667497921862,
          0.08079800498753117,
          0.08204488778054862,
          0.08304239401496259,
          0.08354114713216958,
          0.08420615128844555,
          0.08495428096425603,
          0.085785536159601,
          0.08661679135494597,
          0.08703241895261846,
          0.08736492103075644,
          0.08769742310889443,
          0.08802992518703241,
          0.08819617622610142,
          0.0882793017456359,
          0.0883624272651704,
          0.08877805486284289,
          0.0889443059019119,
          0.0889443059019119,
          0.08919368246051537,
          0.08919368246051537,
          0.08927680798004987,
          0.08952618453865337,
          0.08960931005818787,
          0.08960931005818787,
          0.08960931005818787,
          0.08977556109725686,
          0.08985868661679136,
          0.08994181213632585,
          0.08994181213632585,
          0.09010806317539484,
          0.09019118869492934,
          0.09019118869492934,
          0.09027431421446384,
          0.09044056525353283,
          0.09044056525353283,
          0.09044056525353283,
          0.09052369077306734,
          0.09068994181213633,
          0.09077306733167083,
          0.09077306733167083,
          0.09085619285120532,
          0.09085619285120532,
          0.09110556940980881,
          0.09118869492934331,
          0.09118869492934331,
          0.0912718204488778,
          0.0914380714879468,
          0.09177057356608478,
          0.09193682460515379,
          0.09243557772236076,
          0.09276807980049875,
          0.09326683291770574,
          0.09343308395677473,
          0.09368246051537822,
          0.09401496259351622,
          0.0941812136325852,
          0.0942643391521197,
          0.0943474646716542,
          0.0944305901911887,
          0.09459684123025769,
          0.09492934330839568,
          0.09501246882793017,
          0.09526184538653366,
          0.09551122194513716,
          0.09567747298420615,
          0.09576059850374065,
          0.09592684954280964,
          0.09592684954280964,
          0.09609310058187864,
          0.09617622610141313,
          0.09617622610141313,
          0.09642560266001662,
          0.09659185369908561,
          0.09659185369908561,
          0.09675810473815462,
          0.09725685785536159,
          0.09725685785536159,
          0.09750623441396508,
          0.09750623441396508,
          0.09767248545303409,
          0.09775561097256857,
          0.09792186201163758,
          0.09817123857024107,
          0.09833748960931006,
          0.09842061512884455,
          0.09858686616791355,
          0.09875311720698254,
          0.09900249376558604,
          0.09900249376558604,
          0.09908561928512054,
          0.09908561928512054,
          0.09916874480465503,
          0.09916874480465503,
          0.09933499584372402,
          0.09933499584372402,
          0.09941812136325852,
          0.09958437240232751,
          0.09966749792186201,
          0.09966749792186201,
          0.099833748960931,
          0.099833748960931,
          0.099833748960931,
          0.0999168744804655,
          0.0999168744804655,
          0.1000831255195345,
          0.100166251039069,
          0.10033250207813799,
          0.10041562759767249,
          0.10058187863674148,
          0.10058187863674148,
          0.10058187863674148,
          0.10091438071487947,
          0.10108063175394846,
          0.10315876974231089,
          0.10955943474646716,
          0.12227763923524522,
          0.1455527847049044,
          0.17448046550290938,
          0.20216126350789693,
          0.2370739817123857,
          0.26674979218620115,
          0.29226932668329175,
          0.3157107231920199,
          0.3381546134663342,
          0.35768911055694097,
          0.3774729842061513,
          0.3945137157107232,
          0.4115544472152951,
          0.4291770573566085,
          0.4489609310058188,
          0.46458852867830425,
          0.48345802161263507,
          0.499667497921862,
          0.5156275976724854,
          0.5326683291770573,
          0.5469659185369908,
          0.5604322527015794,
          0.5766417290108063,
          0.5915211970074813,
          0.6083125519534497,
          0.6249376558603491,
          0.643640897755611,
          0.6605985037406483,
          0.6753948462177889,
          0.6900249376558604,
          0.7028262676641729,
          0.7142975893599335,
          0.7239401496259351,
          0.7337489609310058,
          0.7446384039900249,
          0.7545303408146301,
          0.7618453865336658,
          0.7681629260182876,
          0.7746467165419784,
          0.7804655029093932,
          0.786118038237739,
          0.7894430590191188,
          0.7927680798004988,
          0.7953449709060681,
          0.7970906068162926,
          0.7982543640897756,
          0.7997506234413965,
          0.8009143807148794,
          0.8022443890274314,
          0.8027431421446384,
          0.8030756442227764,
          0.8038237738985868,
          0.8040731504571904,
          0.8043225270157939,
          0.8044887780548629,
          0.8048212801330008,
          0.8049044056525353,
          0.8052369077306734,
          0.8052369077306734,
          0.8054031587697423,
          0.8054862842892768,
          0.8055694098088113,
          0.8055694098088113,
          0.8056525353283458,
          0.8058187863674148,
          0.8059019118869493,
          0.8060681629260182,
          0.8062344139650873,
          0.8067331670822943,
          0.8071487946799667,
          0.8076475477971737,
          0.8081463009143807,
          0.8083125519534498,
          0.8086450540315877,
          0.8090606816292601,
          0.8093100581878637,
          0.8096425602660017,
          0.8098088113050707,
          0.8102244389027431,
          0.8102244389027431,
          0.8103075644222777,
          0.8105569409808812,
          0.8110556940980881,
          0.8112219451371571,
          0.8114713216957606,
          0.8124688279301746,
          0.8127182044887781,
          0.8128013300083126,
          0.813216957605985,
          0.8135494596841231,
          0.8139650872817955,
          0.8141313383208645,
          0.814380714879468,
          0.8144638403990025,
          0.814713216957606,
          0.814879467996675,
          0.8151288445552785,
          0.8154613466334164,
          0.8154613466334164,
          0.815544472152951,
          0.8157938487115545,
          0.8157938487115545,
          0.8157938487115545,
          0.8159600997506234,
          0.8160432252701579,
          0.8162094763092269,
          0.8163757273482959,
          0.8168744804655029,
          0.8173732335827099,
          0.8181213632585204,
          0.8187032418952619,
          0.8197007481296759,
          0.8201995012468828,
          0.8203657522859518,
          0.8206151288445552,
          0.8209476309226933,
          0.8213632585203657,
          0.8220282626766418,
          0.8225270157938487,
          0.8228595178719867,
          0.8235245220282627,
          0.8239401496259352,
          0.8248545303408147,
          0.8250207813798837,
          0.8254364089775561,
          0.8256857855361596,
          0.8260182876142976,
          0.8262676641729011,
          0.8263507896924356,
          0.826600166251039,
          0.8269326683291771,
          0.8270989193682461,
          0.8271820448877806,
          0.8272651704073151,
          0.8275145469659185,
          0.8275145469659185,
          0.827597672485453,
          0.827763923524522,
          0.8278470490440565,
          0.8280133000831256,
          0.8281795511221945,
          0.828428927680798,
          0.828428927680798,
          0.8286783042394015,
          0.8288445552784705,
          0.8289276807980049,
          0.829093931837074,
          0.8291770573566085,
          0.8293433083956775,
          0.829592684954281,
          0.8296758104738154,
          0.8296758104738154,
          0.8300083125519534,
          0.8300083125519534,
          0.8300083125519534,
          0.830091438071488,
          0.830091438071488,
          0.8306733167082294,
          0.8308395677472984,
          0.831088944305902,
          0.831088944305902,
          0.8311720698254365,
          0.8311720698254365,
          0.8319201995012468,
          0.8333333333333334,
          0.8359102244389027,
          0.8395677472984207,
          0.844804655029094,
          0.8507896924355777,
          0.857190357439734,
          0.8618453865336658,
          0.8673316708229426,
          0.8706566916043226,
          0.8750623441396509,
          0.8778054862842892,
          0.8804655029093932,
          0.8832086450540316,
          0.8861180382377389,
          0.8891105569409808,
          0.8923524522028262,
          0.8958437240232752,
          0.899334995843724,
          0.9020781379883624,
          0.9060681629260183,
          0.9100581878636741,
          0.9149625935162095,
          0.9200332502078138,
          0.9247714048212802,
          0.929260182876143,
          0.9326683291770573,
          0.9377389858686617,
          0.941147132169576,
          0.9448046550290939,
          0.9478802992518703,
          0.9505403158769742,
          0.9540315876974231,
          0.9560266001662511,
          0.9593516209476309,
          0.9607647547797173,
          0.9628428927680798,
          0.9642560266001663,
          0.9654197838736492,
          0.9666666666666667,
          0.9675810473815462,
          0.9682460515378221,
          0.9689110556940981,
          0.9693266832917705,
          0.9697423108894431,
          0.970074812967581,
          0.9704073150457191,
          0.9706566916043226,
          0.971072319201995,
          0.971238570241064,
          0.971238570241064,
          0.971404821280133,
          0.9714879467996675,
          0.9716541978387365,
          0.971737323358271,
          0.97190357439734,
          0.97190357439734,
          0.972069825436409,
          0.9722360764754779,
          0.9723192019950124,
          0.9724023275145469,
          0.972734829592685,
          0.9729842061512884,
          0.9731504571903574,
          0.97356608478803,
          0.9739817123857024,
          0.9743973399833749,
          0.9749792186201164,
          0.9753117206982543,
          0.9757273482959269,
          0.9758935993349959,
          0.9763092269326683,
          0.9763092269326683,
          0.9764754779717373,
          0.9765586034912718,
          0.9767248545303409,
          0.9768079800498753,
          0.9769742310889443,
          0.9772236076475478,
          0.9773898586866168,
          0.9774729842061513,
          0.9776392352452202,
          0.9778054862842893,
          0.9778054862842893,
          0.9780548628428928,
          0.9781379883624273,
          0.9783042394014962,
          0.9787198669991688,
          0.9787198669991688,
          0.9788029925187033,
          0.9789692435577723,
          0.9791354945968412,
          0.9792186201163757,
          0.9794679966749792,
          0.9798004987531173,
          0.9800498753117207,
          0.9800498753117207,
          0.9801330008312552,
          0.9802992518703242,
          0.9804655029093932,
          0.9806317539484621,
          0.9807980049875312,
          0.9808811305070657,
          0.9809642560266002,
          0.9811305070656692,
          0.9812136325852037,
          0.9813798836242726,
          0.9814630091438071,
          0.9814630091438071,
          0.9816292601828761,
          0.9816292601828761,
          0.9817123857024106,
          0.9817123857024106,
          0.9817955112219451,
          0.9818786367414797,
          0.9818786367414797,
          0.9820448877805487,
          0.9821280133000831,
          0.9822942643391521,
          0.9825436408977556,
          0.9825436408977556,
          0.982793017456359,
          0.982793017456359,
          0.9829592684954281,
          0.9832917705735661,
          0.9834580216126351,
          0.9842061512884456,
          0.9851205320033251,
          0.985785536159601,
          0.9869492934330839,
          0.9876142975893599,
          0.9880299251870324,
          0.9880299251870324,
          0.9887780548628429,
          0.9894430590191189,
          0.9899418121363258,
          0.9901911886949294,
          0.9902743142144639,
          0.9903574397339984,
          0.9907730673316708,
          0.9916874480465503,
          0.9921862011637572,
          0.9924355777223608,
          0.9928512053200332,
          0.9931005818786367,
          0.9935162094763093,
          0.9936824605153782,
          0.9940149625935162,
          0.9940980881130507,
          0.9943474646716542,
          0.9944305901911887,
          0.9944305901911887,
          0.9945968412302577,
          0.9945968412302577,
          0.9946799667497922,
          0.9949293433083957,
          0.9950955943474646,
          0.9952618453865336,
          0.9954280964256027,
          0.9955943474646717,
          0.9958437240232751,
          0.9958437240232751,
          0.9958437240232751,
          0.9959268495428096,
          0.9960099750623441,
          0.9960099750623441,
          0.9960099750623441,
          0.9960099750623441,
          0.9962593516209476,
          0.9962593516209476,
          0.9964256026600167,
          0.9965918536990857,
          0.9966749792186201,
          0.9968412302576891,
          0.9970074812967581,
          0.9970074812967581,
          0.9970906068162926,
          0.9971737323358271,
          0.9974231088944306,
          0.9975062344139651,
          0.9976724854530341,
          0.9978387364921031,
          0.9978387364921031,
          0.9979218620116376,
          0.9982543640897755,
          0.9984206151288445,
          0.9985037406483791,
          0.9985868661679136,
          0.9987531172069826,
          0.9987531172069826,
          0.9989193682460515,
          0.9989193682460515,
          0.999002493765586,
          0.9990856192851205,
          0.9992518703241895,
          0.9994181213632585,
          0.999667497921862,
          0.999667497921862,
          0.9999168744804655,
          0.9999168744804655,
          1
         ],
         "xaxis": "x",
         "y": [
          0,
          0.00015213753232922562,
          0.00015213753232922562,
          0.00030427506465845124,
          0.00030427506465845124,
          0.00045641259698767686,
          0.00045641259698767686,
          0.0006085501293169025,
          0.0006085501293169025,
          0.0006085501293169025,
          0.0006085501293169025,
          0.0007606876616461281,
          0.0007606876616461281,
          0.0009128251939753537,
          0.0010649627263045794,
          0.0010649627263045794,
          0.001217100258633805,
          0.0015213753232922562,
          0.0015213753232922562,
          0.0018256503879507074,
          0.001977787920279933,
          0.001977787920279933,
          0.002129925452609159,
          0.002129925452609159,
          0.0022820629849383844,
          0.0022820629849383844,
          0.00243420051726761,
          0.00243420051726761,
          0.0025863380495968354,
          0.0027384755819260614,
          0.0030427506465845124,
          0.003194888178913738,
          0.003651300775901415,
          0.003955575840559866,
          0.003955575840559866,
          0.004564125969876769,
          0.00486840103453522,
          0.00486840103453522,
          0.005172676099193671,
          0.005172676099193671,
          0.005476951163852123,
          0.005476951163852123,
          0.005629088696181348,
          0.006085501293169025,
          0.006237638825498251,
          0.006237638825498251,
          0.006389776357827476,
          0.006694051422485928,
          0.006998326487144379,
          0.007150464019473604,
          0.007150464019473604,
          0.007759014148790507,
          0.008063289213448958,
          0.008976114407424312,
          0.009584664536741214,
          0.010497489730716568,
          0.01110603986003347,
          0.012931690247984177,
          0.013692377909630305,
          0.014300928038947208,
          0.015213753232922561,
          0.015670165829910238,
          0.016887266088544045,
          0.017800091282519397,
          0.018712916476494753,
          0.018712916476494753,
          0.018865054008823975,
          0.019321466605811653,
          0.01947360413814088,
          0.02023429179978701,
          0.020690704396774683,
          0.020994979461433135,
          0.021299254526091587,
          0.02160352959075004,
          0.021755667123079265,
          0.021755667123079265,
          0.022059942187737713,
          0.022364217252396165,
          0.02251635478472539,
          0.022820629849383843,
          0.022820629849383843,
          0.02297276738171307,
          0.02297276738171307,
          0.02297276738171307,
          0.02297276738171307,
          0.02297276738171307,
          0.02327704244637152,
          0.023429179978700747,
          0.023429179978700747,
          0.023733455043359195,
          0.02388559257568842,
          0.024037730108017647,
          0.024037730108017647,
          0.024189867640346873,
          0.0243420051726761,
          0.024798417769663777,
          0.024798417769663777,
          0.024950555301993003,
          0.02525483036665145,
          0.02525483036665145,
          0.025406967898980677,
          0.02571124296363913,
          0.025863380495968355,
          0.025863380495968355,
          0.025863380495968355,
          0.02601551802829758,
          0.02601551802829758,
          0.026167655560626807,
          0.026167655560626807,
          0.026624068157614485,
          0.02677620568994371,
          0.026928343222272933,
          0.02708048075460216,
          0.027536893351589837,
          0.027536893351589837,
          0.02784116841624829,
          0.02784116841624829,
          0.02814544348090674,
          0.02814544348090674,
          0.028601856077894415,
          0.028906131142552867,
          0.028906131142552867,
          0.02921040620721132,
          0.02921040620721132,
          0.029818956336528223,
          0.030123231401186674,
          0.030427506465845123,
          0.031036056595162027,
          0.031188194127491253,
          0.0314924691921497,
          0.03179674425680815,
          0.03194888178913738,
          0.032101019321466605,
          0.032101019321466605,
          0.03225315685379583,
          0.03225315685379583,
          0.03240529438612506,
          0.03240529438612506,
          0.03255743191845428,
          0.03255743191845428,
          0.03270956945078351,
          0.03270956945078351,
          0.032861706983112735,
          0.032861706983112735,
          0.03301384451544196,
          0.03377453217708809,
          0.03407880724174654,
          0.03453521983873421,
          0.03468735737106344,
          0.03514376996805112,
          0.035600182565038795,
          0.03575232009736802,
          0.03605659516202647,
          0.036665145291343376,
          0.037121557888331054,
          0.037577970485318725,
          0.03849079567929408,
          0.03879507074395253,
          0.03955575840559866,
          0.03955575840559866,
          0.04046858359957402,
          0.04153354632587859,
          0.04168568385820782,
          0.042142096455195496,
          0.0427506465845124,
          0.04305492164917085,
          0.04351133424615853,
          0.04396774684314621,
          0.04427202190780465,
          0.044576296972463104,
          0.04472843450479233,
          0.04503270956945078,
          0.045336984634109234,
          0.04548912216643846,
          0.04548912216643846,
          0.04548912216643846,
          0.04579339723109691,
          0.04594553476342614,
          0.04594553476342614,
          0.04624980982808459,
          0.04624980982808459,
          0.04624980982808459,
          0.046401947360413816,
          0.046401947360413816,
          0.046401947360413816,
          0.04655408489274304,
          0.04655408489274304,
          0.04670622242507227,
          0.04670622242507227,
          0.046858359957401494,
          0.04701049748973072,
          0.04746691008671839,
          0.048075460216035294,
          0.048836147877681424,
          0.050813935797961354,
          0.05370454891221665,
          0.05568233683249658,
          0.05826867488209341,
          0.06100715046401947,
          0.06344135098128709,
          0.06587555149855469,
          0.06815761448349308,
          0.07028753993610223,
          0.07180891525939449,
          0.07287387798569907,
          0.07454739084132056,
          0.0754602160352959,
          0.07728586642324661,
          0.07819869161722197,
          0.07880724174653887,
          0.08048075460216035,
          0.08184999239312338,
          0.08230640499011106,
          0.08367564278107409,
          0.0848927430397079,
          0.08626198083067092,
          0.08732694355697551,
          0.08869618134793854,
          0.08915259394492621,
          0.08991328160657235,
          0.09128251939753537,
          0.0926517571884984,
          0.09371671991480299,
          0.09462954510877833,
          0.09523809523809523,
          0.09615092043207059,
          0.09706374562604594,
          0.09767229575536285,
          0.09782443328769207,
          0.09782443328769207,
          0.0979765708200213,
          0.09828084588467975,
          0.09873725848166742,
          0.09873725848166742,
          0.09888939601399666,
          0.09888939601399666,
          0.09934580861098433,
          0.09934580861098433,
          0.09965008367564278,
          0.09980222120797201,
          0.09980222120797201,
          0.09980222120797201,
          0.10010649627263046,
          0.10025863380495968,
          0.10025863380495968,
          0.10041077133728891,
          0.10041077133728891,
          0.10056290886961813,
          0.10056290886961813,
          0.10056290886961813,
          0.10071504640194737,
          0.10071504640194737,
          0.10071504640194737,
          0.10086718393427659,
          0.10117145899893504,
          0.10117145899893504,
          0.10117145899893504,
          0.10117145899893504,
          0.10132359653126426,
          0.10132359653126426,
          0.10147573406359349,
          0.10147573406359349,
          0.10162787159592271,
          0.10193214666058116,
          0.10193214666058116,
          0.1020842841929104,
          0.10238855925756885,
          0.10299710938688575,
          0.10345352198387342,
          0.10375779704853187,
          0.10406207211319032,
          0.10421420964551956,
          0.10421420964551956,
          0.10467062224250723,
          0.10497489730716568,
          0.1051270348394949,
          0.1051270348394949,
          0.10527917237182413,
          0.10558344743648258,
          0.1057355849688118,
          0.10588772250114104,
          0.10603986003347025,
          0.10649627263045794,
          0.10664841016278716,
          0.10664841016278716,
          0.10680054769511639,
          0.10695268522744561,
          0.10695268522744561,
          0.10710482275977484,
          0.10725696029210406,
          0.10725696029210406,
          0.1074090978244333,
          0.10771337288909173,
          0.10771337288909173,
          0.10771337288909173,
          0.10786551042142097,
          0.10786551042142097,
          0.10801764795375018,
          0.10816978548607942,
          0.10816978548607942,
          0.10816978548607942,
          0.10832192301840864,
          0.10832192301840864,
          0.10832192301840864,
          0.10832192301840864,
          0.10832192301840864,
          0.10832192301840864,
          0.10847406055073787,
          0.10847406055073787,
          0.10862619808306709,
          0.10877833561539632,
          0.10893047314772554,
          0.10893047314772554,
          0.10908261068005477,
          0.10923474821238399,
          0.10923474821238399,
          0.10938688574471322,
          0.10953902327704244,
          0.10953902327704244,
          0.10999543587403013,
          0.11014757340635935,
          0.11014757340635935,
          0.11029971093868858,
          0.11029971093868858,
          0.11029971093868858,
          0.11029971093868858,
          0.1104518484710178,
          0.1104518484710178,
          0.11075612353567625,
          0.11121253613266392,
          0.11121253613266392,
          0.11121253613266392,
          0.11136467366499316,
          0.11486383690856534,
          0.12155788833105127,
          0.13220751559409707,
          0.15228966986155484,
          0.18150007606876617,
          0.2149703331811958,
          0.24980982808458846,
          0.28282367260003044,
          0.31507682945382626,
          0.34230944774075767,
          0.3646736649931538,
          0.3871900197778792,
          0.4115320249505553,
          0.433591967138293,
          0.4551954967290431,
          0.47816826411075614,
          0.49794614331355547,
          0.5154419595314164,
          0.5340027384755819,
          0.5507378670317967,
          0.5648866575384147,
          0.5823824737562757,
          0.5983569146508444,
          0.6134185303514377,
          0.6274151833257264,
          0.6432374866879659,
          0.659516202647193,
          0.6780769815913585,
          0.6913129469040012,
          0.7056138749429485,
          0.7215883158375171,
          0.7328464932298798,
          0.7425832952989503,
          0.7533850600943253,
          0.7625133120340788,
          0.7717937015061616,
          0.7807698159135859,
          0.7894416552563518,
          0.7959835691465085,
          0.8006998326487145,
          0.8045032709569451,
          0.8081545717328464,
          0.8110451848471018,
          0.8130229727673817,
          0.8148486231553325,
          0.815913585881637,
          0.8171306861402708,
          0.8180435113342461,
          0.8189563365282215,
          0.8191084740605508,
          0.81926061159288,
          0.8195648866575385,
          0.820021299254526,
          0.8201734367868553,
          0.8204777118515137,
          0.8207819869161722,
          0.8209341244485014,
          0.8209341244485014,
          0.8209341244485014,
          0.8210862619808307,
          0.8210862619808307,
          0.8210862619808307,
          0.8212383995131599,
          0.8213905370454891,
          0.8213905370454891,
          0.8213905370454891,
          0.8213905370454891,
          0.8213905370454891,
          0.8216948121101476,
          0.8218469496424768,
          0.8219990871748061,
          0.8221512247071352,
          0.8224554997717937,
          0.8230640499011106,
          0.8235204624980983,
          0.823976875095086,
          0.8242811501597445,
          0.824737562756732,
          0.824737562756732,
          0.8251939753537197,
          0.8256503879507074,
          0.8261068005476951,
          0.8264110756123536,
          0.8265632131446828,
          0.8268674882093412,
          0.8270196257416704,
          0.8273239008063289,
          0.8273239008063289,
          0.8274760383386581,
          0.8276281758709874,
          0.8276281758709874,
          0.8280845884679751,
          0.8283888635326335,
          0.828693138597292,
          0.8289974136619505,
          0.8291495511942796,
          0.8291495511942796,
          0.8291495511942796,
          0.8293016887266088,
          0.829453826258938,
          0.8296059637912673,
          0.8297581013235965,
          0.8299102388559257,
          0.8302145139205842,
          0.8302145139205842,
          0.8303666514529134,
          0.8305187889852427,
          0.8308230640499011,
          0.8309752015822304,
          0.831431614179218,
          0.8318880267762057,
          0.8323444393731934,
          0.8332572645671688,
          0.8337136771641565,
          0.834170089761144,
          0.8346265023581317,
          0.8353871900197779,
          0.8356914650844364,
          0.836147877681424,
          0.8370607028753994,
          0.8373649779400578,
          0.8378213905370455,
          0.8384299406663623,
          0.83888635326335,
          0.8396470409249962,
          0.8399513159896547,
          0.8405598661189716,
          0.8413205537806177,
          0.8416248288452761,
          0.8420812414422638,
          0.842233378974593,
          0.8425376540392515,
          0.8426897915715807,
          0.8429940666362392,
          0.8429940666362392,
          0.8432983417008976,
          0.8434504792332268,
          0.8434504792332268,
          0.8434504792332268,
          0.8437547542978853,
          0.8439068918302145,
          0.8439068918302145,
          0.8439068918302145,
          0.8440590293625437,
          0.8440590293625437,
          0.844211166894873,
          0.8445154419595314,
          0.8445154419595314,
          0.8445154419595314,
          0.8446675794918607,
          0.8448197170241899,
          0.8448197170241899,
          0.8451239920888484,
          0.8451239920888484,
          0.8454282671535067,
          0.845580404685836,
          0.845580404685836,
          0.8457325422181652,
          0.8457325422181652,
          0.8457325422181652,
          0.8457325422181652,
          0.8467975049444698,
          0.8467975049444698,
          0.846949642476799,
          0.8472539175414575,
          0.848318880267762,
          0.8499923931233836,
          0.8513616309143466,
          0.8544043815609311,
          0.8580556823368325,
          0.8618591206450631,
          0.8667275216795983,
          0.8712916476494751,
          0.8757036360870226,
          0.8787463867336072,
          0.8828541001064962,
          0.8858968507530808,
          0.8878746386733607,
          0.8909173893199452,
          0.8947208276281758,
          0.8986764034687358,
          0.9012627415183325,
          0.9053704548912217,
          0.9091738931994523,
          0.9120645063137076,
          0.9166286322835844,
          0.9208884831888027,
          0.9246919214970333,
          0.9277346721436178,
          0.9319945230488361,
          0.9365586490187129,
          0.9412749125209189,
          0.9447740757644911,
          0.948121101475734,
          0.9517724022516355,
          0.9548151528982199,
          0.958162178609463,
          0.9592271413357676,
          0.961509204320706,
          0.9634869922409859,
          0.9639434048379736,
          0.9653126426289366,
          0.9665297428875703,
          0.9682032557431919,
          0.9689639434048379,
          0.9697246310664841,
          0.9706374562604595,
          0.9710938688574471,
          0.9713981439221056,
          0.971702418986764,
          0.9721588315837517,
          0.9721588315837517,
          0.972310969116081,
          0.972310969116081,
          0.9724631066484102,
          0.9724631066484102,
          0.9724631066484102,
          0.9724631066484102,
          0.9724631066484102,
          0.9724631066484102,
          0.9726152441807394,
          0.9726152441807394,
          0.9729195192453979,
          0.9729195192453979,
          0.9732237943100563,
          0.9732237943100563,
          0.9736802069070439,
          0.9741366195040316,
          0.9748973071656778,
          0.9752015822303363,
          0.9756579948273238,
          0.9759622698919823,
          0.9767229575536285,
          0.9771793701506162,
          0.9774836452152746,
          0.9779400578122622,
          0.9780921953445915,
          0.9785486079415792,
          0.9787007454739084,
          0.9788528830062376,
          0.9788528830062376,
          0.9788528830062376,
          0.9788528830062376,
          0.9788528830062376,
          0.9790050205385669,
          0.9791571580708961,
          0.9791571580708961,
          0.9793092956032253,
          0.9793092956032253,
          0.9793092956032253,
          0.9793092956032253,
          0.9793092956032253,
          0.9794614331355546,
          0.9794614331355546,
          0.9794614331355546,
          0.979765708200213,
          0.979765708200213,
          0.9799178457325423,
          0.9802221207972007,
          0.9803742583295298,
          0.9805263958618591,
          0.9805263958618591,
          0.9806785333941883,
          0.9806785333941883,
          0.9806785333941883,
          0.9806785333941883,
          0.9806785333941883,
          0.9808306709265175,
          0.9809828084588468,
          0.981134945991176,
          0.981134945991176,
          0.981134945991176,
          0.9814392210558345,
          0.9814392210558345,
          0.9815913585881637,
          0.9817434961204929,
          0.9818956336528222,
          0.9820477711851514,
          0.9820477711851514,
          0.9821999087174806,
          0.9821999087174806,
          0.9823520462498099,
          0.9823520462498099,
          0.9823520462498099,
          0.9828084588467975,
          0.9828084588467975,
          0.9829605963791267,
          0.9831127339114559,
          0.9831127339114559,
          0.9834170089761144,
          0.9841776966377606,
          0.9852426593640651,
          0.9860033470257112,
          0.9866118971550282,
          0.9866118971550282,
          0.9875247223490035,
          0.9885896850753081,
          0.9896546478016126,
          0.9899589228662711,
          0.9907196105279172,
          0.9908717480602465,
          0.9910238855925757,
          0.9913281606572342,
          0.991936710786551,
          0.991936710786551,
          0.9923931233835387,
          0.9928495359805264,
          0.9928495359805264,
          0.9928495359805264,
          0.9930016735128556,
          0.9930016735128556,
          0.9936102236421726,
          0.9937623611745018,
          0.9937623611745018,
          0.993914498706831,
          0.9943709113038186,
          0.9943709113038186,
          0.9945230488361478,
          0.9948273239008063,
          0.9948273239008063,
          0.9951315989654648,
          0.9951315989654648,
          0.9957401490947817,
          0.9957401490947817,
          0.9957401490947817,
          0.9960444241594402,
          0.9963486992240986,
          0.9965008367564279,
          0.9965008367564279,
          0.9968051118210862,
          0.9971093868857447,
          0.9972615244180739,
          0.9972615244180739,
          0.9975657994827324,
          0.9975657994827324,
          0.9977179370150616,
          0.9978700745473909,
          0.9978700745473909,
          0.9978700745473909,
          0.9980222120797201,
          0.9980222120797201,
          0.9981743496120493,
          0.9981743496120493,
          0.9981743496120493,
          0.9981743496120493,
          0.9981743496120493,
          0.9983264871443785,
          0.9984786246767078,
          0.9984786246767078,
          0.998630762209037,
          0.9987828997413662,
          0.9987828997413662,
          0.9989350372736954,
          0.9990871748060246,
          0.9990871748060246,
          0.9992393123383538,
          0.9993914498706831,
          0.9993914498706831,
          0.9995435874030123,
          0.9995435874030123,
          0.9995435874030123,
          0.9998478624676708,
          0.9998478624676708,
          1,
          1
         ],
         "yaxis": "y"
        },
        {
         "hovertemplate": "x=%{x}<br>y=%{y}<extra></extra>",
         "legendgroup": "",
         "line": {
          "color": "rgba(50,50,50,0.2)",
          "dash": "solid"
         },
         "mode": "lines",
         "name": "",
         "orientation": "v",
         "showlegend": false,
         "type": "scatter",
         "x": [
          0,
          1
         ],
         "xaxis": "x",
         "y": [
          0,
          1
         ],
         "yaxis": "y"
        }
       ],
       "layout": {
        "autosize": false,
        "height": 800,
        "template": {
         "data": {
          "bar": [
           {
            "error_x": {
             "color": "#2a3f5f"
            },
            "error_y": {
             "color": "#2a3f5f"
            },
            "marker": {
             "line": {
              "color": "#E5ECF6",
              "width": 0.5
             }
            },
            "type": "bar"
           }
          ],
          "barpolar": [
           {
            "marker": {
             "line": {
              "color": "#E5ECF6",
              "width": 0.5
             }
            },
            "type": "barpolar"
           }
          ],
          "carpet": [
           {
            "aaxis": {
             "endlinecolor": "#2a3f5f",
             "gridcolor": "white",
             "linecolor": "white",
             "minorgridcolor": "white",
             "startlinecolor": "#2a3f5f"
            },
            "baxis": {
             "endlinecolor": "#2a3f5f",
             "gridcolor": "white",
             "linecolor": "white",
             "minorgridcolor": "white",
             "startlinecolor": "#2a3f5f"
            },
            "type": "carpet"
           }
          ],
          "choropleth": [
           {
            "colorbar": {
             "outlinewidth": 0,
             "ticks": ""
            },
            "type": "choropleth"
           }
          ],
          "contour": [
           {
            "colorbar": {
             "outlinewidth": 0,
             "ticks": ""
            },
            "colorscale": [
             [
              0,
              "#0d0887"
             ],
             [
              0.1111111111111111,
              "#46039f"
             ],
             [
              0.2222222222222222,
              "#7201a8"
             ],
             [
              0.3333333333333333,
              "#9c179e"
             ],
             [
              0.4444444444444444,
              "#bd3786"
             ],
             [
              0.5555555555555556,
              "#d8576b"
             ],
             [
              0.6666666666666666,
              "#ed7953"
             ],
             [
              0.7777777777777778,
              "#fb9f3a"
             ],
             [
              0.8888888888888888,
              "#fdca26"
             ],
             [
              1,
              "#f0f921"
             ]
            ],
            "type": "contour"
           }
          ],
          "contourcarpet": [
           {
            "colorbar": {
             "outlinewidth": 0,
             "ticks": ""
            },
            "type": "contourcarpet"
           }
          ],
          "heatmap": [
           {
            "colorbar": {
             "outlinewidth": 0,
             "ticks": ""
            },
            "colorscale": [
             [
              0,
              "#0d0887"
             ],
             [
              0.1111111111111111,
              "#46039f"
             ],
             [
              0.2222222222222222,
              "#7201a8"
             ],
             [
              0.3333333333333333,
              "#9c179e"
             ],
             [
              0.4444444444444444,
              "#bd3786"
             ],
             [
              0.5555555555555556,
              "#d8576b"
             ],
             [
              0.6666666666666666,
              "#ed7953"
             ],
             [
              0.7777777777777778,
              "#fb9f3a"
             ],
             [
              0.8888888888888888,
              "#fdca26"
             ],
             [
              1,
              "#f0f921"
             ]
            ],
            "type": "heatmap"
           }
          ],
          "heatmapgl": [
           {
            "colorbar": {
             "outlinewidth": 0,
             "ticks": ""
            },
            "colorscale": [
             [
              0,
              "#0d0887"
             ],
             [
              0.1111111111111111,
              "#46039f"
             ],
             [
              0.2222222222222222,
              "#7201a8"
             ],
             [
              0.3333333333333333,
              "#9c179e"
             ],
             [
              0.4444444444444444,
              "#bd3786"
             ],
             [
              0.5555555555555556,
              "#d8576b"
             ],
             [
              0.6666666666666666,
              "#ed7953"
             ],
             [
              0.7777777777777778,
              "#fb9f3a"
             ],
             [
              0.8888888888888888,
              "#fdca26"
             ],
             [
              1,
              "#f0f921"
             ]
            ],
            "type": "heatmapgl"
           }
          ],
          "histogram": [
           {
            "marker": {
             "colorbar": {
              "outlinewidth": 0,
              "ticks": ""
             }
            },
            "type": "histogram"
           }
          ],
          "histogram2d": [
           {
            "colorbar": {
             "outlinewidth": 0,
             "ticks": ""
            },
            "colorscale": [
             [
              0,
              "#0d0887"
             ],
             [
              0.1111111111111111,
              "#46039f"
             ],
             [
              0.2222222222222222,
              "#7201a8"
             ],
             [
              0.3333333333333333,
              "#9c179e"
             ],
             [
              0.4444444444444444,
              "#bd3786"
             ],
             [
              0.5555555555555556,
              "#d8576b"
             ],
             [
              0.6666666666666666,
              "#ed7953"
             ],
             [
              0.7777777777777778,
              "#fb9f3a"
             ],
             [
              0.8888888888888888,
              "#fdca26"
             ],
             [
              1,
              "#f0f921"
             ]
            ],
            "type": "histogram2d"
           }
          ],
          "histogram2dcontour": [
           {
            "colorbar": {
             "outlinewidth": 0,
             "ticks": ""
            },
            "colorscale": [
             [
              0,
              "#0d0887"
             ],
             [
              0.1111111111111111,
              "#46039f"
             ],
             [
              0.2222222222222222,
              "#7201a8"
             ],
             [
              0.3333333333333333,
              "#9c179e"
             ],
             [
              0.4444444444444444,
              "#bd3786"
             ],
             [
              0.5555555555555556,
              "#d8576b"
             ],
             [
              0.6666666666666666,
              "#ed7953"
             ],
             [
              0.7777777777777778,
              "#fb9f3a"
             ],
             [
              0.8888888888888888,
              "#fdca26"
             ],
             [
              1,
              "#f0f921"
             ]
            ],
            "type": "histogram2dcontour"
           }
          ],
          "mesh3d": [
           {
            "colorbar": {
             "outlinewidth": 0,
             "ticks": ""
            },
            "type": "mesh3d"
           }
          ],
          "parcoords": [
           {
            "line": {
             "colorbar": {
              "outlinewidth": 0,
              "ticks": ""
             }
            },
            "type": "parcoords"
           }
          ],
          "pie": [
           {
            "automargin": true,
            "type": "pie"
           }
          ],
          "scatter": [
           {
            "marker": {
             "colorbar": {
              "outlinewidth": 0,
              "ticks": ""
             }
            },
            "type": "scatter"
           }
          ],
          "scatter3d": [
           {
            "line": {
             "colorbar": {
              "outlinewidth": 0,
              "ticks": ""
             }
            },
            "marker": {
             "colorbar": {
              "outlinewidth": 0,
              "ticks": ""
             }
            },
            "type": "scatter3d"
           }
          ],
          "scattercarpet": [
           {
            "marker": {
             "colorbar": {
              "outlinewidth": 0,
              "ticks": ""
             }
            },
            "type": "scattercarpet"
           }
          ],
          "scattergeo": [
           {
            "marker": {
             "colorbar": {
              "outlinewidth": 0,
              "ticks": ""
             }
            },
            "type": "scattergeo"
           }
          ],
          "scattergl": [
           {
            "marker": {
             "colorbar": {
              "outlinewidth": 0,
              "ticks": ""
             }
            },
            "type": "scattergl"
           }
          ],
          "scattermapbox": [
           {
            "marker": {
             "colorbar": {
              "outlinewidth": 0,
              "ticks": ""
             }
            },
            "type": "scattermapbox"
           }
          ],
          "scatterpolar": [
           {
            "marker": {
             "colorbar": {
              "outlinewidth": 0,
              "ticks": ""
             }
            },
            "type": "scatterpolar"
           }
          ],
          "scatterpolargl": [
           {
            "marker": {
             "colorbar": {
              "outlinewidth": 0,
              "ticks": ""
             }
            },
            "type": "scatterpolargl"
           }
          ],
          "scatterternary": [
           {
            "marker": {
             "colorbar": {
              "outlinewidth": 0,
              "ticks": ""
             }
            },
            "type": "scatterternary"
           }
          ],
          "surface": [
           {
            "colorbar": {
             "outlinewidth": 0,
             "ticks": ""
            },
            "colorscale": [
             [
              0,
              "#0d0887"
             ],
             [
              0.1111111111111111,
              "#46039f"
             ],
             [
              0.2222222222222222,
              "#7201a8"
             ],
             [
              0.3333333333333333,
              "#9c179e"
             ],
             [
              0.4444444444444444,
              "#bd3786"
             ],
             [
              0.5555555555555556,
              "#d8576b"
             ],
             [
              0.6666666666666666,
              "#ed7953"
             ],
             [
              0.7777777777777778,
              "#fb9f3a"
             ],
             [
              0.8888888888888888,
              "#fdca26"
             ],
             [
              1,
              "#f0f921"
             ]
            ],
            "type": "surface"
           }
          ],
          "table": [
           {
            "cells": {
             "fill": {
              "color": "#EBF0F8"
             },
             "line": {
              "color": "white"
             }
            },
            "header": {
             "fill": {
              "color": "#C8D4E3"
             },
             "line": {
              "color": "white"
             }
            },
            "type": "table"
           }
          ]
         },
         "layout": {
          "annotationdefaults": {
           "arrowcolor": "#2a3f5f",
           "arrowhead": 0,
           "arrowwidth": 1
          },
          "autotypenumbers": "strict",
          "coloraxis": {
           "colorbar": {
            "outlinewidth": 0,
            "ticks": ""
           }
          },
          "colorscale": {
           "diverging": [
            [
             0,
             "#8e0152"
            ],
            [
             0.1,
             "#c51b7d"
            ],
            [
             0.2,
             "#de77ae"
            ],
            [
             0.3,
             "#f1b6da"
            ],
            [
             0.4,
             "#fde0ef"
            ],
            [
             0.5,
             "#f7f7f7"
            ],
            [
             0.6,
             "#e6f5d0"
            ],
            [
             0.7,
             "#b8e186"
            ],
            [
             0.8,
             "#7fbc41"
            ],
            [
             0.9,
             "#4d9221"
            ],
            [
             1,
             "#276419"
            ]
           ],
           "sequential": [
            [
             0,
             "#0d0887"
            ],
            [
             0.1111111111111111,
             "#46039f"
            ],
            [
             0.2222222222222222,
             "#7201a8"
            ],
            [
             0.3333333333333333,
             "#9c179e"
            ],
            [
             0.4444444444444444,
             "#bd3786"
            ],
            [
             0.5555555555555556,
             "#d8576b"
            ],
            [
             0.6666666666666666,
             "#ed7953"
            ],
            [
             0.7777777777777778,
             "#fb9f3a"
            ],
            [
             0.8888888888888888,
             "#fdca26"
            ],
            [
             1,
             "#f0f921"
            ]
           ],
           "sequentialminus": [
            [
             0,
             "#0d0887"
            ],
            [
             0.1111111111111111,
             "#46039f"
            ],
            [
             0.2222222222222222,
             "#7201a8"
            ],
            [
             0.3333333333333333,
             "#9c179e"
            ],
            [
             0.4444444444444444,
             "#bd3786"
            ],
            [
             0.5555555555555556,
             "#d8576b"
            ],
            [
             0.6666666666666666,
             "#ed7953"
            ],
            [
             0.7777777777777778,
             "#fb9f3a"
            ],
            [
             0.8888888888888888,
             "#fdca26"
            ],
            [
             1,
             "#f0f921"
            ]
           ]
          },
          "colorway": [
           "#636efa",
           "#EF553B",
           "#00cc96",
           "#ab63fa",
           "#FFA15A",
           "#19d3f3",
           "#FF6692",
           "#B6E880",
           "#FF97FF",
           "#FECB52"
          ],
          "font": {
           "color": "#2a3f5f"
          },
          "geo": {
           "bgcolor": "white",
           "lakecolor": "white",
           "landcolor": "#E5ECF6",
           "showlakes": true,
           "showland": true,
           "subunitcolor": "white"
          },
          "hoverlabel": {
           "align": "left"
          },
          "hovermode": "closest",
          "mapbox": {
           "style": "light"
          },
          "paper_bgcolor": "white",
          "plot_bgcolor": "#E5ECF6",
          "polar": {
           "angularaxis": {
            "gridcolor": "white",
            "linecolor": "white",
            "ticks": ""
           },
           "bgcolor": "#E5ECF6",
           "radialaxis": {
            "gridcolor": "white",
            "linecolor": "white",
            "ticks": ""
           }
          },
          "scene": {
           "xaxis": {
            "backgroundcolor": "#E5ECF6",
            "gridcolor": "white",
            "gridwidth": 2,
            "linecolor": "white",
            "showbackground": true,
            "ticks": "",
            "zerolinecolor": "white"
           },
           "yaxis": {
            "backgroundcolor": "#E5ECF6",
            "gridcolor": "white",
            "gridwidth": 2,
            "linecolor": "white",
            "showbackground": true,
            "ticks": "",
            "zerolinecolor": "white"
           },
           "zaxis": {
            "backgroundcolor": "#E5ECF6",
            "gridcolor": "white",
            "gridwidth": 2,
            "linecolor": "white",
            "showbackground": true,
            "ticks": "",
            "zerolinecolor": "white"
           }
          },
          "shapedefaults": {
           "line": {
            "color": "#2a3f5f"
           }
          },
          "ternary": {
           "aaxis": {
            "gridcolor": "white",
            "linecolor": "white",
            "ticks": ""
           },
           "baxis": {
            "gridcolor": "white",
            "linecolor": "white",
            "ticks": ""
           },
           "bgcolor": "#E5ECF6",
           "caxis": {
            "gridcolor": "white",
            "linecolor": "white",
            "ticks": ""
           }
          },
          "title": {
           "x": 0.05
          },
          "xaxis": {
           "automargin": true,
           "gridcolor": "white",
           "linecolor": "white",
           "ticks": "",
           "title": {
            "standoff": 15
           },
           "zerolinecolor": "white",
           "zerolinewidth": 2
          },
          "yaxis": {
           "automargin": true,
           "gridcolor": "white",
           "linecolor": "white",
           "ticks": "",
           "title": {
            "standoff": 15
           },
           "zerolinecolor": "white",
           "zerolinewidth": 2
          }
         }
        },
        "title": {
         "text": "ROC Curve"
        },
        "width": 800,
        "xaxis": {
         "range": [
          0,
          1
         ],
         "title": {
          "text": "False Positive Rate (Sensitivty)"
         }
        },
        "yaxis": {
         "range": [
          0,
          1
         ],
         "title": {
          "text": "True Positive Rate (1-Precision)"
         }
        }
       }
      },
      "text/html": "<div>                            <div id=\"2ad7d4f8-7e83-44d6-b397-77d125404df8\" class=\"plotly-graph-div\" style=\"height:800px; width:800px;\"></div>            <script type=\"text/javascript\">                require([\"plotly\"], function(Plotly) {                    window.PLOTLYENV=window.PLOTLYENV || {};                                    if (document.getElementById(\"2ad7d4f8-7e83-44d6-b397-77d125404df8\")) {                    Plotly.newPlot(                        \"2ad7d4f8-7e83-44d6-b397-77d125404df8\",                        [{\"hovertemplate\": \"x=%{x}<br>y=%{y}<extra></extra>\", \"legendgroup\": \"\", \"line\": {\"color\": \"#636efa\", \"dash\": \"solid\"}, \"mode\": \"lines\", \"name\": \"\", \"orientation\": \"v\", \"showlegend\": false, \"type\": \"scatter\", \"x\": [0.0, 0.0, 8.312551953449709e-05, 8.312551953449709e-05, 0.00016625103906899418, 0.00016625103906899418, 0.00033250207813798836, 0.00033250207813798836, 0.0005818786367414796, 0.0007481296758104738, 0.000997506234413965, 0.0010806317539484621, 0.0013300083125519534, 0.0013300083125519534, 0.0014131338320864505, 0.0015793848711554447, 0.0016625103906899418, 0.0016625103906899418, 0.001745635910224439, 0.001745635910224439, 0.001828761429758936, 0.0019118869492934332, 0.0019118869492934332, 0.00199501246882793, 0.00199501246882793, 0.0021612635078969242, 0.0021612635078969242, 0.0023275145469659184, 0.00257689110556941, 0.0032418952618453864, 0.003906899418121363, 0.00457190357439734, 0.004904405652535328, 0.00515378221113882, 0.005486284289276808, 0.005652535328345802, 0.0059850374064837905, 0.006317539484621779, 0.006400665004156276, 0.006483790523690773, 0.006650041562759767, 0.006816292601828761, 0.006899418121363259, 0.006899418121363259, 0.006982543640897756, 0.007065669160432253, 0.0071487946799667496, 0.0071487946799667496, 0.007315045719035744, 0.007315045719035744, 0.007813798836242726, 0.008395677472984206, 0.008977556109725686, 0.00939318370739817, 0.010640066500415627, 0.011221945137157107, 0.011803823773898587, 0.012635078969243558, 0.013549459684123025, 0.014048212801330008, 0.014463840399002495, 0.014962593516209476, 0.01512884455527847, 0.015295095594347465, 0.015876974231088945, 0.01604322527015794, 0.016126350789692434, 0.016375727348295926, 0.016708229426433914, 0.016791354945968413, 0.0171238570241064, 0.017290108063175394, 0.017373233582709893, 0.01762261014131338, 0.01762261014131338, 0.01770573566084788, 0.01778886118038238, 0.01778886118038238, 0.017871986699916874, 0.017871986699916874, 0.017955112219451373, 0.017955112219451373, 0.018038237738985868, 0.01828761429758936, 0.018620116375727348, 0.01886949293433084, 0.019534497090606815, 0.01970074812967581, 0.019783873649210307, 0.019866999168744806, 0.020116375727348295, 0.020199501246882794, 0.02028262676641729, 0.020448877805486283, 0.020698254364089775, 0.020781379883624274, 0.02086450540315877, 0.02086450540315877, 0.021030756442227762, 0.02111388196176226, 0.02119700748129676, 0.021280133000831255, 0.021363258520365754, 0.021529509559434747, 0.021612635078969242, 0.021612635078969242, 0.021778886118038236, 0.021778886118038236, 0.021945137157107233, 0.021945137157107233, 0.022111388196176227, 0.022111388196176227, 0.022194513715710722, 0.022360764754779716, 0.022443890274314215, 0.02252701579384871, 0.022693266832917707, 0.022942643391521196, 0.02377389858686617, 0.023940149625935162, 0.02402327514546966, 0.024189526184538655, 0.02427265170407315, 0.024438902743142144, 0.02493765586034913, 0.025103906899418122, 0.025187032418952617, 0.025187032418952617, 0.025187032418952617, 0.025187032418952617, 0.025270157938487116, 0.02543640897755611, 0.02543640897755611, 0.025602660016625103, 0.025602660016625103, 0.025685785536159602, 0.025685785536159602, 0.025768911055694097, 0.025768911055694097, 0.02601828761429759, 0.026101413133832088, 0.026267664172901082, 0.026350789692435577, 0.02660016625103907, 0.026849542809642562, 0.02743142144638404, 0.027930174563591023, 0.02834580216126351, 0.029177057356608478, 0.029675810473815463, 0.029925187032418952, 0.030423940149625937, 0.030507065669160432, 0.03083956774729842, 0.031255195344970906, 0.031837073981712385, 0.032418952618453865, 0.03283458021612635, 0.03316708229426434, 0.03366583541147132, 0.03449709060681629, 0.03507896924355777, 0.035494596841230255, 0.036076475477971735, 0.03640897755610972, 0.036658354114713215, 0.03690773067331671, 0.037240232751454695, 0.03740648379052369, 0.037655860349127185, 0.038237738985868665, 0.038403990024937655, 0.03848711554447215, 0.03848711554447215, 0.03857024106400665, 0.03873649210307564, 0.03873649210307564, 0.038819617622610145, 0.038985868661679135, 0.038985868661679135, 0.03906899418121363, 0.03923524522028263, 0.03931837073981712, 0.03948462177888612, 0.03965087281795511, 0.03973399833748961, 0.03981712385702411, 0.03981712385702411, 0.0399833748960931, 0.0399833748960931, 0.04039900249376559, 0.04106400665004156, 0.04164588528678304, 0.04330839567747299, 0.04522028262676642, 0.048462177888611804, 0.050789692435577724, 0.052535328345802164, 0.054447215295095594, 0.056608478802992516, 0.05785536159600998, 0.059268495428096424, 0.060432252701579384, 0.06167913549459684, 0.06350789692435578, 0.06483790523690773, 0.0656691604322527, 0.06716541978387365, 0.06832917705735661, 0.06916043225270158, 0.06999168744804656, 0.0714879467996675, 0.07231920199501247, 0.07306733167082294, 0.07448046550290939, 0.07581047381546134, 0.07747298420615129, 0.07880299251870324, 0.0799667497921862, 0.08079800498753117, 0.08204488778054862, 0.08304239401496259, 0.08354114713216958, 0.08420615128844555, 0.08495428096425603, 0.085785536159601, 0.08661679135494597, 0.08703241895261846, 0.08736492103075644, 0.08769742310889443, 0.08802992518703241, 0.08819617622610142, 0.0882793017456359, 0.0883624272651704, 0.08877805486284289, 0.0889443059019119, 0.0889443059019119, 0.08919368246051537, 0.08919368246051537, 0.08927680798004987, 0.08952618453865337, 0.08960931005818787, 0.08960931005818787, 0.08960931005818787, 0.08977556109725686, 0.08985868661679136, 0.08994181213632585, 0.08994181213632585, 0.09010806317539484, 0.09019118869492934, 0.09019118869492934, 0.09027431421446384, 0.09044056525353283, 0.09044056525353283, 0.09044056525353283, 0.09052369077306734, 0.09068994181213633, 0.09077306733167083, 0.09077306733167083, 0.09085619285120532, 0.09085619285120532, 0.09110556940980881, 0.09118869492934331, 0.09118869492934331, 0.0912718204488778, 0.0914380714879468, 0.09177057356608478, 0.09193682460515379, 0.09243557772236076, 0.09276807980049875, 0.09326683291770574, 0.09343308395677473, 0.09368246051537822, 0.09401496259351622, 0.0941812136325852, 0.0942643391521197, 0.0943474646716542, 0.0944305901911887, 0.09459684123025769, 0.09492934330839568, 0.09501246882793017, 0.09526184538653366, 0.09551122194513716, 0.09567747298420615, 0.09576059850374065, 0.09592684954280964, 0.09592684954280964, 0.09609310058187864, 0.09617622610141313, 0.09617622610141313, 0.09642560266001662, 0.09659185369908561, 0.09659185369908561, 0.09675810473815462, 0.09725685785536159, 0.09725685785536159, 0.09750623441396508, 0.09750623441396508, 0.09767248545303409, 0.09775561097256857, 0.09792186201163758, 0.09817123857024107, 0.09833748960931006, 0.09842061512884455, 0.09858686616791355, 0.09875311720698254, 0.09900249376558604, 0.09900249376558604, 0.09908561928512054, 0.09908561928512054, 0.09916874480465503, 0.09916874480465503, 0.09933499584372402, 0.09933499584372402, 0.09941812136325852, 0.09958437240232751, 0.09966749792186201, 0.09966749792186201, 0.099833748960931, 0.099833748960931, 0.099833748960931, 0.0999168744804655, 0.0999168744804655, 0.1000831255195345, 0.100166251039069, 0.10033250207813799, 0.10041562759767249, 0.10058187863674148, 0.10058187863674148, 0.10058187863674148, 0.10091438071487947, 0.10108063175394846, 0.10315876974231089, 0.10955943474646716, 0.12227763923524522, 0.1455527847049044, 0.17448046550290938, 0.20216126350789693, 0.2370739817123857, 0.26674979218620115, 0.29226932668329175, 0.3157107231920199, 0.3381546134663342, 0.35768911055694097, 0.3774729842061513, 0.3945137157107232, 0.4115544472152951, 0.4291770573566085, 0.4489609310058188, 0.46458852867830425, 0.48345802161263507, 0.499667497921862, 0.5156275976724854, 0.5326683291770573, 0.5469659185369908, 0.5604322527015794, 0.5766417290108063, 0.5915211970074813, 0.6083125519534497, 0.6249376558603491, 0.643640897755611, 0.6605985037406483, 0.6753948462177889, 0.6900249376558604, 0.7028262676641729, 0.7142975893599335, 0.7239401496259351, 0.7337489609310058, 0.7446384039900249, 0.7545303408146301, 0.7618453865336658, 0.7681629260182876, 0.7746467165419784, 0.7804655029093932, 0.786118038237739, 0.7894430590191188, 0.7927680798004988, 0.7953449709060681, 0.7970906068162926, 0.7982543640897756, 0.7997506234413965, 0.8009143807148794, 0.8022443890274314, 0.8027431421446384, 0.8030756442227764, 0.8038237738985868, 0.8040731504571904, 0.8043225270157939, 0.8044887780548629, 0.8048212801330008, 0.8049044056525353, 0.8052369077306734, 0.8052369077306734, 0.8054031587697423, 0.8054862842892768, 0.8055694098088113, 0.8055694098088113, 0.8056525353283458, 0.8058187863674148, 0.8059019118869493, 0.8060681629260182, 0.8062344139650873, 0.8067331670822943, 0.8071487946799667, 0.8076475477971737, 0.8081463009143807, 0.8083125519534498, 0.8086450540315877, 0.8090606816292601, 0.8093100581878637, 0.8096425602660017, 0.8098088113050707, 0.8102244389027431, 0.8102244389027431, 0.8103075644222777, 0.8105569409808812, 0.8110556940980881, 0.8112219451371571, 0.8114713216957606, 0.8124688279301746, 0.8127182044887781, 0.8128013300083126, 0.813216957605985, 0.8135494596841231, 0.8139650872817955, 0.8141313383208645, 0.814380714879468, 0.8144638403990025, 0.814713216957606, 0.814879467996675, 0.8151288445552785, 0.8154613466334164, 0.8154613466334164, 0.815544472152951, 0.8157938487115545, 0.8157938487115545, 0.8157938487115545, 0.8159600997506234, 0.8160432252701579, 0.8162094763092269, 0.8163757273482959, 0.8168744804655029, 0.8173732335827099, 0.8181213632585204, 0.8187032418952619, 0.8197007481296759, 0.8201995012468828, 0.8203657522859518, 0.8206151288445552, 0.8209476309226933, 0.8213632585203657, 0.8220282626766418, 0.8225270157938487, 0.8228595178719867, 0.8235245220282627, 0.8239401496259352, 0.8248545303408147, 0.8250207813798837, 0.8254364089775561, 0.8256857855361596, 0.8260182876142976, 0.8262676641729011, 0.8263507896924356, 0.826600166251039, 0.8269326683291771, 0.8270989193682461, 0.8271820448877806, 0.8272651704073151, 0.8275145469659185, 0.8275145469659185, 0.827597672485453, 0.827763923524522, 0.8278470490440565, 0.8280133000831256, 0.8281795511221945, 0.828428927680798, 0.828428927680798, 0.8286783042394015, 0.8288445552784705, 0.8289276807980049, 0.829093931837074, 0.8291770573566085, 0.8293433083956775, 0.829592684954281, 0.8296758104738154, 0.8296758104738154, 0.8300083125519534, 0.8300083125519534, 0.8300083125519534, 0.830091438071488, 0.830091438071488, 0.8306733167082294, 0.8308395677472984, 0.831088944305902, 0.831088944305902, 0.8311720698254365, 0.8311720698254365, 0.8319201995012468, 0.8333333333333334, 0.8359102244389027, 0.8395677472984207, 0.844804655029094, 0.8507896924355777, 0.857190357439734, 0.8618453865336658, 0.8673316708229426, 0.8706566916043226, 0.8750623441396509, 0.8778054862842892, 0.8804655029093932, 0.8832086450540316, 0.8861180382377389, 0.8891105569409808, 0.8923524522028262, 0.8958437240232752, 0.899334995843724, 0.9020781379883624, 0.9060681629260183, 0.9100581878636741, 0.9149625935162095, 0.9200332502078138, 0.9247714048212802, 0.929260182876143, 0.9326683291770573, 0.9377389858686617, 0.941147132169576, 0.9448046550290939, 0.9478802992518703, 0.9505403158769742, 0.9540315876974231, 0.9560266001662511, 0.9593516209476309, 0.9607647547797173, 0.9628428927680798, 0.9642560266001663, 0.9654197838736492, 0.9666666666666667, 0.9675810473815462, 0.9682460515378221, 0.9689110556940981, 0.9693266832917705, 0.9697423108894431, 0.970074812967581, 0.9704073150457191, 0.9706566916043226, 0.971072319201995, 0.971238570241064, 0.971238570241064, 0.971404821280133, 0.9714879467996675, 0.9716541978387365, 0.971737323358271, 0.97190357439734, 0.97190357439734, 0.972069825436409, 0.9722360764754779, 0.9723192019950124, 0.9724023275145469, 0.972734829592685, 0.9729842061512884, 0.9731504571903574, 0.97356608478803, 0.9739817123857024, 0.9743973399833749, 0.9749792186201164, 0.9753117206982543, 0.9757273482959269, 0.9758935993349959, 0.9763092269326683, 0.9763092269326683, 0.9764754779717373, 0.9765586034912718, 0.9767248545303409, 0.9768079800498753, 0.9769742310889443, 0.9772236076475478, 0.9773898586866168, 0.9774729842061513, 0.9776392352452202, 0.9778054862842893, 0.9778054862842893, 0.9780548628428928, 0.9781379883624273, 0.9783042394014962, 0.9787198669991688, 0.9787198669991688, 0.9788029925187033, 0.9789692435577723, 0.9791354945968412, 0.9792186201163757, 0.9794679966749792, 0.9798004987531173, 0.9800498753117207, 0.9800498753117207, 0.9801330008312552, 0.9802992518703242, 0.9804655029093932, 0.9806317539484621, 0.9807980049875312, 0.9808811305070657, 0.9809642560266002, 0.9811305070656692, 0.9812136325852037, 0.9813798836242726, 0.9814630091438071, 0.9814630091438071, 0.9816292601828761, 0.9816292601828761, 0.9817123857024106, 0.9817123857024106, 0.9817955112219451, 0.9818786367414797, 0.9818786367414797, 0.9820448877805487, 0.9821280133000831, 0.9822942643391521, 0.9825436408977556, 0.9825436408977556, 0.982793017456359, 0.982793017456359, 0.9829592684954281, 0.9832917705735661, 0.9834580216126351, 0.9842061512884456, 0.9851205320033251, 0.985785536159601, 0.9869492934330839, 0.9876142975893599, 0.9880299251870324, 0.9880299251870324, 0.9887780548628429, 0.9894430590191189, 0.9899418121363258, 0.9901911886949294, 0.9902743142144639, 0.9903574397339984, 0.9907730673316708, 0.9916874480465503, 0.9921862011637572, 0.9924355777223608, 0.9928512053200332, 0.9931005818786367, 0.9935162094763093, 0.9936824605153782, 0.9940149625935162, 0.9940980881130507, 0.9943474646716542, 0.9944305901911887, 0.9944305901911887, 0.9945968412302577, 0.9945968412302577, 0.9946799667497922, 0.9949293433083957, 0.9950955943474646, 0.9952618453865336, 0.9954280964256027, 0.9955943474646717, 0.9958437240232751, 0.9958437240232751, 0.9958437240232751, 0.9959268495428096, 0.9960099750623441, 0.9960099750623441, 0.9960099750623441, 0.9960099750623441, 0.9962593516209476, 0.9962593516209476, 0.9964256026600167, 0.9965918536990857, 0.9966749792186201, 0.9968412302576891, 0.9970074812967581, 0.9970074812967581, 0.9970906068162926, 0.9971737323358271, 0.9974231088944306, 0.9975062344139651, 0.9976724854530341, 0.9978387364921031, 0.9978387364921031, 0.9979218620116376, 0.9982543640897755, 0.9984206151288445, 0.9985037406483791, 0.9985868661679136, 0.9987531172069826, 0.9987531172069826, 0.9989193682460515, 0.9989193682460515, 0.999002493765586, 0.9990856192851205, 0.9992518703241895, 0.9994181213632585, 0.999667497921862, 0.999667497921862, 0.9999168744804655, 0.9999168744804655, 1.0], \"xaxis\": \"x\", \"y\": [0.0, 0.00015213753232922562, 0.00015213753232922562, 0.00030427506465845124, 0.00030427506465845124, 0.00045641259698767686, 0.00045641259698767686, 0.0006085501293169025, 0.0006085501293169025, 0.0006085501293169025, 0.0006085501293169025, 0.0007606876616461281, 0.0007606876616461281, 0.0009128251939753537, 0.0010649627263045794, 0.0010649627263045794, 0.001217100258633805, 0.0015213753232922562, 0.0015213753232922562, 0.0018256503879507074, 0.001977787920279933, 0.001977787920279933, 0.002129925452609159, 0.002129925452609159, 0.0022820629849383844, 0.0022820629849383844, 0.00243420051726761, 0.00243420051726761, 0.0025863380495968354, 0.0027384755819260614, 0.0030427506465845124, 0.003194888178913738, 0.003651300775901415, 0.003955575840559866, 0.003955575840559866, 0.004564125969876769, 0.00486840103453522, 0.00486840103453522, 0.005172676099193671, 0.005172676099193671, 0.005476951163852123, 0.005476951163852123, 0.005629088696181348, 0.006085501293169025, 0.006237638825498251, 0.006237638825498251, 0.006389776357827476, 0.006694051422485928, 0.006998326487144379, 0.007150464019473604, 0.007150464019473604, 0.007759014148790507, 0.008063289213448958, 0.008976114407424312, 0.009584664536741214, 0.010497489730716568, 0.01110603986003347, 0.012931690247984177, 0.013692377909630305, 0.014300928038947208, 0.015213753232922561, 0.015670165829910238, 0.016887266088544045, 0.017800091282519397, 0.018712916476494753, 0.018712916476494753, 0.018865054008823975, 0.019321466605811653, 0.01947360413814088, 0.02023429179978701, 0.020690704396774683, 0.020994979461433135, 0.021299254526091587, 0.02160352959075004, 0.021755667123079265, 0.021755667123079265, 0.022059942187737713, 0.022364217252396165, 0.02251635478472539, 0.022820629849383843, 0.022820629849383843, 0.02297276738171307, 0.02297276738171307, 0.02297276738171307, 0.02297276738171307, 0.02297276738171307, 0.02327704244637152, 0.023429179978700747, 0.023429179978700747, 0.023733455043359195, 0.02388559257568842, 0.024037730108017647, 0.024037730108017647, 0.024189867640346873, 0.0243420051726761, 0.024798417769663777, 0.024798417769663777, 0.024950555301993003, 0.02525483036665145, 0.02525483036665145, 0.025406967898980677, 0.02571124296363913, 0.025863380495968355, 0.025863380495968355, 0.025863380495968355, 0.02601551802829758, 0.02601551802829758, 0.026167655560626807, 0.026167655560626807, 0.026624068157614485, 0.02677620568994371, 0.026928343222272933, 0.02708048075460216, 0.027536893351589837, 0.027536893351589837, 0.02784116841624829, 0.02784116841624829, 0.02814544348090674, 0.02814544348090674, 0.028601856077894415, 0.028906131142552867, 0.028906131142552867, 0.02921040620721132, 0.02921040620721132, 0.029818956336528223, 0.030123231401186674, 0.030427506465845123, 0.031036056595162027, 0.031188194127491253, 0.0314924691921497, 0.03179674425680815, 0.03194888178913738, 0.032101019321466605, 0.032101019321466605, 0.03225315685379583, 0.03225315685379583, 0.03240529438612506, 0.03240529438612506, 0.03255743191845428, 0.03255743191845428, 0.03270956945078351, 0.03270956945078351, 0.032861706983112735, 0.032861706983112735, 0.03301384451544196, 0.03377453217708809, 0.03407880724174654, 0.03453521983873421, 0.03468735737106344, 0.03514376996805112, 0.035600182565038795, 0.03575232009736802, 0.03605659516202647, 0.036665145291343376, 0.037121557888331054, 0.037577970485318725, 0.03849079567929408, 0.03879507074395253, 0.03955575840559866, 0.03955575840559866, 0.04046858359957402, 0.04153354632587859, 0.04168568385820782, 0.042142096455195496, 0.0427506465845124, 0.04305492164917085, 0.04351133424615853, 0.04396774684314621, 0.04427202190780465, 0.044576296972463104, 0.04472843450479233, 0.04503270956945078, 0.045336984634109234, 0.04548912216643846, 0.04548912216643846, 0.04548912216643846, 0.04579339723109691, 0.04594553476342614, 0.04594553476342614, 0.04624980982808459, 0.04624980982808459, 0.04624980982808459, 0.046401947360413816, 0.046401947360413816, 0.046401947360413816, 0.04655408489274304, 0.04655408489274304, 0.04670622242507227, 0.04670622242507227, 0.046858359957401494, 0.04701049748973072, 0.04746691008671839, 0.048075460216035294, 0.048836147877681424, 0.050813935797961354, 0.05370454891221665, 0.05568233683249658, 0.05826867488209341, 0.06100715046401947, 0.06344135098128709, 0.06587555149855469, 0.06815761448349308, 0.07028753993610223, 0.07180891525939449, 0.07287387798569907, 0.07454739084132056, 0.0754602160352959, 0.07728586642324661, 0.07819869161722197, 0.07880724174653887, 0.08048075460216035, 0.08184999239312338, 0.08230640499011106, 0.08367564278107409, 0.0848927430397079, 0.08626198083067092, 0.08732694355697551, 0.08869618134793854, 0.08915259394492621, 0.08991328160657235, 0.09128251939753537, 0.0926517571884984, 0.09371671991480299, 0.09462954510877833, 0.09523809523809523, 0.09615092043207059, 0.09706374562604594, 0.09767229575536285, 0.09782443328769207, 0.09782443328769207, 0.0979765708200213, 0.09828084588467975, 0.09873725848166742, 0.09873725848166742, 0.09888939601399666, 0.09888939601399666, 0.09934580861098433, 0.09934580861098433, 0.09965008367564278, 0.09980222120797201, 0.09980222120797201, 0.09980222120797201, 0.10010649627263046, 0.10025863380495968, 0.10025863380495968, 0.10041077133728891, 0.10041077133728891, 0.10056290886961813, 0.10056290886961813, 0.10056290886961813, 0.10071504640194737, 0.10071504640194737, 0.10071504640194737, 0.10086718393427659, 0.10117145899893504, 0.10117145899893504, 0.10117145899893504, 0.10117145899893504, 0.10132359653126426, 0.10132359653126426, 0.10147573406359349, 0.10147573406359349, 0.10162787159592271, 0.10193214666058116, 0.10193214666058116, 0.1020842841929104, 0.10238855925756885, 0.10299710938688575, 0.10345352198387342, 0.10375779704853187, 0.10406207211319032, 0.10421420964551956, 0.10421420964551956, 0.10467062224250723, 0.10497489730716568, 0.1051270348394949, 0.1051270348394949, 0.10527917237182413, 0.10558344743648258, 0.1057355849688118, 0.10588772250114104, 0.10603986003347025, 0.10649627263045794, 0.10664841016278716, 0.10664841016278716, 0.10680054769511639, 0.10695268522744561, 0.10695268522744561, 0.10710482275977484, 0.10725696029210406, 0.10725696029210406, 0.1074090978244333, 0.10771337288909173, 0.10771337288909173, 0.10771337288909173, 0.10786551042142097, 0.10786551042142097, 0.10801764795375018, 0.10816978548607942, 0.10816978548607942, 0.10816978548607942, 0.10832192301840864, 0.10832192301840864, 0.10832192301840864, 0.10832192301840864, 0.10832192301840864, 0.10832192301840864, 0.10847406055073787, 0.10847406055073787, 0.10862619808306709, 0.10877833561539632, 0.10893047314772554, 0.10893047314772554, 0.10908261068005477, 0.10923474821238399, 0.10923474821238399, 0.10938688574471322, 0.10953902327704244, 0.10953902327704244, 0.10999543587403013, 0.11014757340635935, 0.11014757340635935, 0.11029971093868858, 0.11029971093868858, 0.11029971093868858, 0.11029971093868858, 0.1104518484710178, 0.1104518484710178, 0.11075612353567625, 0.11121253613266392, 0.11121253613266392, 0.11121253613266392, 0.11136467366499316, 0.11486383690856534, 0.12155788833105127, 0.13220751559409707, 0.15228966986155484, 0.18150007606876617, 0.2149703331811958, 0.24980982808458846, 0.28282367260003044, 0.31507682945382626, 0.34230944774075767, 0.3646736649931538, 0.3871900197778792, 0.4115320249505553, 0.433591967138293, 0.4551954967290431, 0.47816826411075614, 0.49794614331355547, 0.5154419595314164, 0.5340027384755819, 0.5507378670317967, 0.5648866575384147, 0.5823824737562757, 0.5983569146508444, 0.6134185303514377, 0.6274151833257264, 0.6432374866879659, 0.659516202647193, 0.6780769815913585, 0.6913129469040012, 0.7056138749429485, 0.7215883158375171, 0.7328464932298798, 0.7425832952989503, 0.7533850600943253, 0.7625133120340788, 0.7717937015061616, 0.7807698159135859, 0.7894416552563518, 0.7959835691465085, 0.8006998326487145, 0.8045032709569451, 0.8081545717328464, 0.8110451848471018, 0.8130229727673817, 0.8148486231553325, 0.815913585881637, 0.8171306861402708, 0.8180435113342461, 0.8189563365282215, 0.8191084740605508, 0.81926061159288, 0.8195648866575385, 0.820021299254526, 0.8201734367868553, 0.8204777118515137, 0.8207819869161722, 0.8209341244485014, 0.8209341244485014, 0.8209341244485014, 0.8210862619808307, 0.8210862619808307, 0.8210862619808307, 0.8212383995131599, 0.8213905370454891, 0.8213905370454891, 0.8213905370454891, 0.8213905370454891, 0.8213905370454891, 0.8216948121101476, 0.8218469496424768, 0.8219990871748061, 0.8221512247071352, 0.8224554997717937, 0.8230640499011106, 0.8235204624980983, 0.823976875095086, 0.8242811501597445, 0.824737562756732, 0.824737562756732, 0.8251939753537197, 0.8256503879507074, 0.8261068005476951, 0.8264110756123536, 0.8265632131446828, 0.8268674882093412, 0.8270196257416704, 0.8273239008063289, 0.8273239008063289, 0.8274760383386581, 0.8276281758709874, 0.8276281758709874, 0.8280845884679751, 0.8283888635326335, 0.828693138597292, 0.8289974136619505, 0.8291495511942796, 0.8291495511942796, 0.8291495511942796, 0.8293016887266088, 0.829453826258938, 0.8296059637912673, 0.8297581013235965, 0.8299102388559257, 0.8302145139205842, 0.8302145139205842, 0.8303666514529134, 0.8305187889852427, 0.8308230640499011, 0.8309752015822304, 0.831431614179218, 0.8318880267762057, 0.8323444393731934, 0.8332572645671688, 0.8337136771641565, 0.834170089761144, 0.8346265023581317, 0.8353871900197779, 0.8356914650844364, 0.836147877681424, 0.8370607028753994, 0.8373649779400578, 0.8378213905370455, 0.8384299406663623, 0.83888635326335, 0.8396470409249962, 0.8399513159896547, 0.8405598661189716, 0.8413205537806177, 0.8416248288452761, 0.8420812414422638, 0.842233378974593, 0.8425376540392515, 0.8426897915715807, 0.8429940666362392, 0.8429940666362392, 0.8432983417008976, 0.8434504792332268, 0.8434504792332268, 0.8434504792332268, 0.8437547542978853, 0.8439068918302145, 0.8439068918302145, 0.8439068918302145, 0.8440590293625437, 0.8440590293625437, 0.844211166894873, 0.8445154419595314, 0.8445154419595314, 0.8445154419595314, 0.8446675794918607, 0.8448197170241899, 0.8448197170241899, 0.8451239920888484, 0.8451239920888484, 0.8454282671535067, 0.845580404685836, 0.845580404685836, 0.8457325422181652, 0.8457325422181652, 0.8457325422181652, 0.8457325422181652, 0.8467975049444698, 0.8467975049444698, 0.846949642476799, 0.8472539175414575, 0.848318880267762, 0.8499923931233836, 0.8513616309143466, 0.8544043815609311, 0.8580556823368325, 0.8618591206450631, 0.8667275216795983, 0.8712916476494751, 0.8757036360870226, 0.8787463867336072, 0.8828541001064962, 0.8858968507530808, 0.8878746386733607, 0.8909173893199452, 0.8947208276281758, 0.8986764034687358, 0.9012627415183325, 0.9053704548912217, 0.9091738931994523, 0.9120645063137076, 0.9166286322835844, 0.9208884831888027, 0.9246919214970333, 0.9277346721436178, 0.9319945230488361, 0.9365586490187129, 0.9412749125209189, 0.9447740757644911, 0.948121101475734, 0.9517724022516355, 0.9548151528982199, 0.958162178609463, 0.9592271413357676, 0.961509204320706, 0.9634869922409859, 0.9639434048379736, 0.9653126426289366, 0.9665297428875703, 0.9682032557431919, 0.9689639434048379, 0.9697246310664841, 0.9706374562604595, 0.9710938688574471, 0.9713981439221056, 0.971702418986764, 0.9721588315837517, 0.9721588315837517, 0.972310969116081, 0.972310969116081, 0.9724631066484102, 0.9724631066484102, 0.9724631066484102, 0.9724631066484102, 0.9724631066484102, 0.9724631066484102, 0.9726152441807394, 0.9726152441807394, 0.9729195192453979, 0.9729195192453979, 0.9732237943100563, 0.9732237943100563, 0.9736802069070439, 0.9741366195040316, 0.9748973071656778, 0.9752015822303363, 0.9756579948273238, 0.9759622698919823, 0.9767229575536285, 0.9771793701506162, 0.9774836452152746, 0.9779400578122622, 0.9780921953445915, 0.9785486079415792, 0.9787007454739084, 0.9788528830062376, 0.9788528830062376, 0.9788528830062376, 0.9788528830062376, 0.9788528830062376, 0.9790050205385669, 0.9791571580708961, 0.9791571580708961, 0.9793092956032253, 0.9793092956032253, 0.9793092956032253, 0.9793092956032253, 0.9793092956032253, 0.9794614331355546, 0.9794614331355546, 0.9794614331355546, 0.979765708200213, 0.979765708200213, 0.9799178457325423, 0.9802221207972007, 0.9803742583295298, 0.9805263958618591, 0.9805263958618591, 0.9806785333941883, 0.9806785333941883, 0.9806785333941883, 0.9806785333941883, 0.9806785333941883, 0.9808306709265175, 0.9809828084588468, 0.981134945991176, 0.981134945991176, 0.981134945991176, 0.9814392210558345, 0.9814392210558345, 0.9815913585881637, 0.9817434961204929, 0.9818956336528222, 0.9820477711851514, 0.9820477711851514, 0.9821999087174806, 0.9821999087174806, 0.9823520462498099, 0.9823520462498099, 0.9823520462498099, 0.9828084588467975, 0.9828084588467975, 0.9829605963791267, 0.9831127339114559, 0.9831127339114559, 0.9834170089761144, 0.9841776966377606, 0.9852426593640651, 0.9860033470257112, 0.9866118971550282, 0.9866118971550282, 0.9875247223490035, 0.9885896850753081, 0.9896546478016126, 0.9899589228662711, 0.9907196105279172, 0.9908717480602465, 0.9910238855925757, 0.9913281606572342, 0.991936710786551, 0.991936710786551, 0.9923931233835387, 0.9928495359805264, 0.9928495359805264, 0.9928495359805264, 0.9930016735128556, 0.9930016735128556, 0.9936102236421726, 0.9937623611745018, 0.9937623611745018, 0.993914498706831, 0.9943709113038186, 0.9943709113038186, 0.9945230488361478, 0.9948273239008063, 0.9948273239008063, 0.9951315989654648, 0.9951315989654648, 0.9957401490947817, 0.9957401490947817, 0.9957401490947817, 0.9960444241594402, 0.9963486992240986, 0.9965008367564279, 0.9965008367564279, 0.9968051118210862, 0.9971093868857447, 0.9972615244180739, 0.9972615244180739, 0.9975657994827324, 0.9975657994827324, 0.9977179370150616, 0.9978700745473909, 0.9978700745473909, 0.9978700745473909, 0.9980222120797201, 0.9980222120797201, 0.9981743496120493, 0.9981743496120493, 0.9981743496120493, 0.9981743496120493, 0.9981743496120493, 0.9983264871443785, 0.9984786246767078, 0.9984786246767078, 0.998630762209037, 0.9987828997413662, 0.9987828997413662, 0.9989350372736954, 0.9990871748060246, 0.9990871748060246, 0.9992393123383538, 0.9993914498706831, 0.9993914498706831, 0.9995435874030123, 0.9995435874030123, 0.9995435874030123, 0.9998478624676708, 0.9998478624676708, 1.0, 1.0], \"yaxis\": \"y\"}, {\"hovertemplate\": \"x=%{x}<br>y=%{y}<extra></extra>\", \"legendgroup\": \"\", \"line\": {\"color\": \"rgba(50,50,50,0.2)\", \"dash\": \"solid\"}, \"mode\": \"lines\", \"name\": \"\", \"orientation\": \"v\", \"showlegend\": false, \"type\": \"scatter\", \"x\": [0, 1], \"xaxis\": \"x\", \"y\": [0, 1], \"yaxis\": \"y\"}],                        {\"autosize\": false, \"height\": 800, \"template\": {\"data\": {\"bar\": [{\"error_x\": {\"color\": \"#2a3f5f\"}, \"error_y\": {\"color\": \"#2a3f5f\"}, \"marker\": {\"line\": {\"color\": \"#E5ECF6\", \"width\": 0.5}}, \"type\": \"bar\"}], \"barpolar\": [{\"marker\": {\"line\": {\"color\": \"#E5ECF6\", \"width\": 0.5}}, \"type\": \"barpolar\"}], \"carpet\": [{\"aaxis\": {\"endlinecolor\": \"#2a3f5f\", \"gridcolor\": \"white\", \"linecolor\": \"white\", \"minorgridcolor\": \"white\", \"startlinecolor\": \"#2a3f5f\"}, \"baxis\": {\"endlinecolor\": \"#2a3f5f\", \"gridcolor\": \"white\", \"linecolor\": \"white\", \"minorgridcolor\": \"white\", \"startlinecolor\": \"#2a3f5f\"}, \"type\": \"carpet\"}], \"choropleth\": [{\"colorbar\": {\"outlinewidth\": 0, \"ticks\": \"\"}, \"type\": \"choropleth\"}], \"contour\": [{\"colorbar\": {\"outlinewidth\": 0, \"ticks\": \"\"}, \"colorscale\": [[0.0, \"#0d0887\"], [0.1111111111111111, \"#46039f\"], [0.2222222222222222, \"#7201a8\"], [0.3333333333333333, \"#9c179e\"], [0.4444444444444444, \"#bd3786\"], [0.5555555555555556, \"#d8576b\"], [0.6666666666666666, \"#ed7953\"], [0.7777777777777778, \"#fb9f3a\"], [0.8888888888888888, \"#fdca26\"], [1.0, \"#f0f921\"]], \"type\": \"contour\"}], \"contourcarpet\": [{\"colorbar\": {\"outlinewidth\": 0, \"ticks\": \"\"}, \"type\": \"contourcarpet\"}], \"heatmap\": [{\"colorbar\": {\"outlinewidth\": 0, \"ticks\": \"\"}, \"colorscale\": [[0.0, \"#0d0887\"], [0.1111111111111111, \"#46039f\"], [0.2222222222222222, \"#7201a8\"], [0.3333333333333333, \"#9c179e\"], [0.4444444444444444, \"#bd3786\"], [0.5555555555555556, \"#d8576b\"], [0.6666666666666666, \"#ed7953\"], [0.7777777777777778, \"#fb9f3a\"], [0.8888888888888888, \"#fdca26\"], [1.0, \"#f0f921\"]], \"type\": \"heatmap\"}], \"heatmapgl\": [{\"colorbar\": {\"outlinewidth\": 0, \"ticks\": \"\"}, \"colorscale\": [[0.0, \"#0d0887\"], [0.1111111111111111, \"#46039f\"], [0.2222222222222222, \"#7201a8\"], [0.3333333333333333, \"#9c179e\"], [0.4444444444444444, \"#bd3786\"], [0.5555555555555556, \"#d8576b\"], [0.6666666666666666, \"#ed7953\"], [0.7777777777777778, \"#fb9f3a\"], [0.8888888888888888, \"#fdca26\"], [1.0, \"#f0f921\"]], \"type\": \"heatmapgl\"}], \"histogram\": [{\"marker\": {\"colorbar\": {\"outlinewidth\": 0, \"ticks\": \"\"}}, \"type\": \"histogram\"}], \"histogram2d\": [{\"colorbar\": {\"outlinewidth\": 0, \"ticks\": \"\"}, \"colorscale\": [[0.0, \"#0d0887\"], [0.1111111111111111, \"#46039f\"], [0.2222222222222222, \"#7201a8\"], [0.3333333333333333, \"#9c179e\"], [0.4444444444444444, \"#bd3786\"], [0.5555555555555556, \"#d8576b\"], [0.6666666666666666, \"#ed7953\"], [0.7777777777777778, \"#fb9f3a\"], [0.8888888888888888, \"#fdca26\"], [1.0, \"#f0f921\"]], \"type\": \"histogram2d\"}], \"histogram2dcontour\": [{\"colorbar\": {\"outlinewidth\": 0, \"ticks\": \"\"}, \"colorscale\": [[0.0, \"#0d0887\"], [0.1111111111111111, \"#46039f\"], [0.2222222222222222, \"#7201a8\"], [0.3333333333333333, \"#9c179e\"], [0.4444444444444444, \"#bd3786\"], [0.5555555555555556, \"#d8576b\"], [0.6666666666666666, \"#ed7953\"], [0.7777777777777778, \"#fb9f3a\"], [0.8888888888888888, \"#fdca26\"], [1.0, \"#f0f921\"]], \"type\": \"histogram2dcontour\"}], \"mesh3d\": [{\"colorbar\": {\"outlinewidth\": 0, \"ticks\": \"\"}, \"type\": \"mesh3d\"}], \"parcoords\": [{\"line\": {\"colorbar\": {\"outlinewidth\": 0, \"ticks\": \"\"}}, \"type\": \"parcoords\"}], \"pie\": [{\"automargin\": true, \"type\": \"pie\"}], \"scatter\": [{\"marker\": {\"colorbar\": {\"outlinewidth\": 0, \"ticks\": \"\"}}, \"type\": \"scatter\"}], \"scatter3d\": [{\"line\": {\"colorbar\": {\"outlinewidth\": 0, \"ticks\": \"\"}}, \"marker\": {\"colorbar\": {\"outlinewidth\": 0, \"ticks\": \"\"}}, \"type\": \"scatter3d\"}], \"scattercarpet\": [{\"marker\": {\"colorbar\": {\"outlinewidth\": 0, \"ticks\": \"\"}}, \"type\": \"scattercarpet\"}], \"scattergeo\": [{\"marker\": {\"colorbar\": {\"outlinewidth\": 0, \"ticks\": \"\"}}, \"type\": \"scattergeo\"}], \"scattergl\": [{\"marker\": {\"colorbar\": {\"outlinewidth\": 0, \"ticks\": \"\"}}, \"type\": \"scattergl\"}], \"scattermapbox\": [{\"marker\": {\"colorbar\": {\"outlinewidth\": 0, \"ticks\": \"\"}}, \"type\": \"scattermapbox\"}], \"scatterpolar\": [{\"marker\": {\"colorbar\": {\"outlinewidth\": 0, \"ticks\": \"\"}}, \"type\": \"scatterpolar\"}], \"scatterpolargl\": [{\"marker\": {\"colorbar\": {\"outlinewidth\": 0, \"ticks\": \"\"}}, \"type\": \"scatterpolargl\"}], \"scatterternary\": [{\"marker\": {\"colorbar\": {\"outlinewidth\": 0, \"ticks\": \"\"}}, \"type\": \"scatterternary\"}], \"surface\": [{\"colorbar\": {\"outlinewidth\": 0, \"ticks\": \"\"}, \"colorscale\": [[0.0, \"#0d0887\"], [0.1111111111111111, \"#46039f\"], [0.2222222222222222, \"#7201a8\"], [0.3333333333333333, \"#9c179e\"], [0.4444444444444444, \"#bd3786\"], [0.5555555555555556, \"#d8576b\"], [0.6666666666666666, \"#ed7953\"], [0.7777777777777778, \"#fb9f3a\"], [0.8888888888888888, \"#fdca26\"], [1.0, \"#f0f921\"]], \"type\": \"surface\"}], \"table\": [{\"cells\": {\"fill\": {\"color\": \"#EBF0F8\"}, \"line\": {\"color\": \"white\"}}, \"header\": {\"fill\": {\"color\": \"#C8D4E3\"}, \"line\": {\"color\": \"white\"}}, \"type\": \"table\"}]}, \"layout\": {\"annotationdefaults\": {\"arrowcolor\": \"#2a3f5f\", \"arrowhead\": 0, \"arrowwidth\": 1}, \"autotypenumbers\": \"strict\", \"coloraxis\": {\"colorbar\": {\"outlinewidth\": 0, \"ticks\": \"\"}}, \"colorscale\": {\"diverging\": [[0, \"#8e0152\"], [0.1, \"#c51b7d\"], [0.2, \"#de77ae\"], [0.3, \"#f1b6da\"], [0.4, \"#fde0ef\"], [0.5, \"#f7f7f7\"], [0.6, \"#e6f5d0\"], [0.7, \"#b8e186\"], [0.8, \"#7fbc41\"], [0.9, \"#4d9221\"], [1, \"#276419\"]], \"sequential\": [[0.0, \"#0d0887\"], [0.1111111111111111, \"#46039f\"], [0.2222222222222222, \"#7201a8\"], [0.3333333333333333, \"#9c179e\"], [0.4444444444444444, \"#bd3786\"], [0.5555555555555556, \"#d8576b\"], [0.6666666666666666, \"#ed7953\"], [0.7777777777777778, \"#fb9f3a\"], [0.8888888888888888, \"#fdca26\"], [1.0, \"#f0f921\"]], \"sequentialminus\": [[0.0, \"#0d0887\"], [0.1111111111111111, \"#46039f\"], [0.2222222222222222, \"#7201a8\"], [0.3333333333333333, \"#9c179e\"], [0.4444444444444444, \"#bd3786\"], [0.5555555555555556, \"#d8576b\"], [0.6666666666666666, \"#ed7953\"], [0.7777777777777778, \"#fb9f3a\"], [0.8888888888888888, \"#fdca26\"], [1.0, \"#f0f921\"]]}, \"colorway\": [\"#636efa\", \"#EF553B\", \"#00cc96\", \"#ab63fa\", \"#FFA15A\", \"#19d3f3\", \"#FF6692\", \"#B6E880\", \"#FF97FF\", \"#FECB52\"], \"font\": {\"color\": \"#2a3f5f\"}, \"geo\": {\"bgcolor\": \"white\", \"lakecolor\": \"white\", \"landcolor\": \"#E5ECF6\", \"showlakes\": true, \"showland\": true, \"subunitcolor\": \"white\"}, \"hoverlabel\": {\"align\": \"left\"}, \"hovermode\": \"closest\", \"mapbox\": {\"style\": \"light\"}, \"paper_bgcolor\": \"white\", \"plot_bgcolor\": \"#E5ECF6\", \"polar\": {\"angularaxis\": {\"gridcolor\": \"white\", \"linecolor\": \"white\", \"ticks\": \"\"}, \"bgcolor\": \"#E5ECF6\", \"radialaxis\": {\"gridcolor\": \"white\", \"linecolor\": \"white\", \"ticks\": \"\"}}, \"scene\": {\"xaxis\": {\"backgroundcolor\": \"#E5ECF6\", \"gridcolor\": \"white\", \"gridwidth\": 2, \"linecolor\": \"white\", \"showbackground\": true, \"ticks\": \"\", \"zerolinecolor\": \"white\"}, \"yaxis\": {\"backgroundcolor\": \"#E5ECF6\", \"gridcolor\": \"white\", \"gridwidth\": 2, \"linecolor\": \"white\", \"showbackground\": true, \"ticks\": \"\", \"zerolinecolor\": \"white\"}, \"zaxis\": {\"backgroundcolor\": \"#E5ECF6\", \"gridcolor\": \"white\", \"gridwidth\": 2, \"linecolor\": \"white\", \"showbackground\": true, \"ticks\": \"\", \"zerolinecolor\": \"white\"}}, \"shapedefaults\": {\"line\": {\"color\": \"#2a3f5f\"}}, \"ternary\": {\"aaxis\": {\"gridcolor\": \"white\", \"linecolor\": \"white\", \"ticks\": \"\"}, \"baxis\": {\"gridcolor\": \"white\", \"linecolor\": \"white\", \"ticks\": \"\"}, \"bgcolor\": \"#E5ECF6\", \"caxis\": {\"gridcolor\": \"white\", \"linecolor\": \"white\", \"ticks\": \"\"}}, \"title\": {\"x\": 0.05}, \"xaxis\": {\"automargin\": true, \"gridcolor\": \"white\", \"linecolor\": \"white\", \"ticks\": \"\", \"title\": {\"standoff\": 15}, \"zerolinecolor\": \"white\", \"zerolinewidth\": 2}, \"yaxis\": {\"automargin\": true, \"gridcolor\": \"white\", \"linecolor\": \"white\", \"ticks\": \"\", \"title\": {\"standoff\": 15}, \"zerolinecolor\": \"white\", \"zerolinewidth\": 2}}}, \"title\": {\"text\": \"ROC Curve\"}, \"width\": 800, \"xaxis\": {\"range\": [0, 1], \"title\": {\"text\": \"False Positive Rate (Sensitivty)\"}}, \"yaxis\": {\"range\": [0, 1], \"title\": {\"text\": \"True Positive Rate (1-Precision)\"}}},                        {\"responsive\": true}                    ).then(function(){\n                            \nvar gd = document.getElementById('2ad7d4f8-7e83-44d6-b397-77d125404df8');\nvar x = new MutationObserver(function (mutations, observer) {{\n        var display = window.getComputedStyle(gd).display;\n        if (!display || display === 'none') {{\n            console.log([gd, 'removed!']);\n            Plotly.purge(gd);\n            observer.disconnect();\n        }}\n}});\n\n// Listen for the removal of the full notebook cells\nvar notebookContainer = gd.closest('#notebook-container');\nif (notebookContainer) {{\n    x.observe(notebookContainer, {childList: true});\n}}\n\n// Listen for the clearing of the current output cell\nvar outputEl = gd.closest('.output');\nif (outputEl) {{\n    x.observe(outputEl, {childList: true});\n}}\n\n                        })                };                });            </script>        </div>"
     },
     "metadata": {}
    },
    {
     "output_type": "stream",
     "name": "stdout",
     "text": [
      "AUC ROC score: 0.512\n"
     ]
    }
   ],
   "source": [
    "fig, auc = classification_tools.calc_roc(models[model], X_val, y_val)\n",
    "fig.show()\n",
    "print(\"AUC ROC score: {:.3f}\".format(auc))"
   ]
  },
  {
   "source": [
    "And it does. The area under the curve is barely over 50%.\n",
    "\n",
    "Interpreting this: ethnicity, age and gender are not (or, rather, are only very midly) predictive of the outcome of a stop and search in Scotland.\n",
    "\n",
    "What do they indidiual cofficients look like?"
   ],
   "cell_type": "markdown",
   "metadata": {}
  },
  {
   "source": [
    "### Coefficients"
   ],
   "cell_type": "markdown",
   "metadata": {}
  },
  {
   "cell_type": "code",
   "execution_count": 222,
   "metadata": {},
   "outputs": [
    {
     "output_type": "stream",
     "name": "stdout",
     "text": [
      " 6.90e-01: Ethnic Group_10\n 6.83e-01: Ethnic Group_18\n 4.34e-01: Ethnic Group_12\n-3.58e-01: Ethnic Group_4\n 3.50e-01: Ethnic Group_8\n 3.18e-01: Ethnic Group_19\n 2.97e-01: Ethnic Group_13\n-2.85e-01: Ethnic Group_20\n-2.13e-01: Ethnic Group_17\n 2.07e-01: Ethnic Group_5\n-1.66e-01: Ethnic Group_7\n 1.37e-01: Nominal Gender_Male\n-1.09e-01: Ethnic Group_15\n-1.05e-01: Ethnic Group_9\n 1.03e-01: Ethnic Group_2\n-6.32e-02: Ethnic Group_6\n 5.69e-02: Ethnic Group_11\n 2.99e-02: Ethnic Group_16\n 1.82e-02: Ethnic Group_3\n 1.05e-02: Ethnic Group_14\n-1.28e-04: Nominal Age\n"
     ]
    }
   ],
   "source": [
    "coefficients = classification_tools.get_feature_weights(cols, models[model])\n"
   ]
  },
  {
   "source": [
    "Age seems to be having very little effect, how does the model perform without it?"
   ],
   "cell_type": "markdown",
   "metadata": {}
  },
  {
   "cell_type": "code",
   "execution_count": 223,
   "metadata": {},
   "outputs": [
    {
     "output_type": "stream",
     "name": "stdout",
     "text": [
      "Training score: 0.642\nValidation Score:0.646\n"
     ]
    }
   ],
   "source": [
    "cols = X_train_init.columns[X_train_init.columns.str.contains(\"Ethnic Group.*\", regex=True)].to_list()\n",
    "cols += [\"Nominal Gender_Male\"]\n",
    "\n",
    "X_train = X_train_init[cols]\n",
    "X_val = X_val_init[cols]\n",
    "\n",
    "from sklearn.linear_model import LogisticRegression\n",
    "\n",
    "models = {}\n",
    "\n",
    "model=\"Ethnicity, Gender\"\n",
    "\n",
    "models[model] = LogisticRegression(\n",
    "    penalty=\"none\"\n",
    "    )\n",
    "\n",
    "models[model].fit(X_train, y_train)\n",
    "\n",
    "print(\"Training score: {:.3f}\\nValidation Score:{:.3f}\".format(models[model].score(X_train, y_train), models[model].score(X_val, y_val)))"
   ]
  },
  {
   "cell_type": "code",
   "execution_count": 224,
   "metadata": {},
   "outputs": [
    {
     "output_type": "display_data",
     "data": {
      "application/vnd.plotly.v1+json": {
       "config": {
        "plotlyServerURL": "https://plot.ly"
       },
       "data": [
        {
         "hovertemplate": "x=%{x}<br>y=%{y}<extra></extra>",
         "legendgroup": "",
         "line": {
          "color": "#636efa",
          "dash": "solid"
         },
         "mode": "lines",
         "name": "",
         "orientation": "v",
         "showlegend": false,
         "type": "scatter",
         "x": [
          0,
          0.0003348541291699803,
          0.0016324138797036542,
          0.005399522832865933,
          0.005441379599012181,
          0.01615671173245155,
          0.01649156586162153,
          0.02025867481478381,
          0.024276924364823572,
          0.035452680925871664,
          0.035954962119626635,
          0.03624795948265037,
          0.03637352978108911,
          0.08350424846176384,
          0.08404838642166507,
          0.08530408940605248,
          0.09137332049725838,
          0.09392658323217948,
          0.09547528357959065,
          0.8015570717006404,
          0.8103469925913523,
          0.8105981331882299,
          0.8248712904441002,
          0.8265455610899501,
          0.8267967016868277,
          0.8271734125821439,
          0.8272571261144364,
          0.9706584069314804,
          0.9766439244903938,
          0.9771880624502951,
          0.9794064710560462,
          0.9794483278221925,
          0.9804947469758486,
          0.995939893683814,
          0.9961910342806914,
          0.9972793102004939,
          0.9972793102004939,
          0.99966514587083,
          1
         ],
         "xaxis": "x",
         "y": [
          0,
          0.0009764891459475701,
          0.0032299256365958084,
          0.009464433260722603,
          0.009539547810410876,
          0.0248629159468189,
          0.025088259595883722,
          0.02974536167655675,
          0.035153609254112525,
          0.048899571847066774,
          0.0494253736948847,
          0.05025163374145572,
          0.05040186284083227,
          0.10290693307293623,
          0.10350784947044242,
          0.10493502591451964,
          0.11101930443926988,
          0.11342297002929468,
          0.11507549012243672,
          0.8281379103132277,
          0.8367760835273792,
          0.8370014271764441,
          0.8505220461203336,
          0.852024337114099,
          0.8524750244122287,
          0.8530008262600466,
          0.8530008262600466,
          0.9775407496432059,
          0.9824231953729438,
          0.9828738826710733,
          0.9846015173139037,
          0.984676631863592,
          0.9854277773604747,
          0.9966198452640277,
          0.9969203034627807,
          0.9976714489596635,
          0.9977465635093518,
          0.9997746563509352,
          1
         ],
         "yaxis": "y"
        },
        {
         "hovertemplate": "x=%{x}<br>y=%{y}<extra></extra>",
         "legendgroup": "",
         "line": {
          "color": "rgba(50,50,50,0.2)",
          "dash": "solid"
         },
         "mode": "lines",
         "name": "",
         "orientation": "v",
         "showlegend": false,
         "type": "scatter",
         "x": [
          0,
          1
         ],
         "xaxis": "x",
         "y": [
          0,
          1
         ],
         "yaxis": "y"
        }
       ],
       "layout": {
        "autosize": false,
        "height": 800,
        "template": {
         "data": {
          "bar": [
           {
            "error_x": {
             "color": "#2a3f5f"
            },
            "error_y": {
             "color": "#2a3f5f"
            },
            "marker": {
             "line": {
              "color": "#E5ECF6",
              "width": 0.5
             }
            },
            "type": "bar"
           }
          ],
          "barpolar": [
           {
            "marker": {
             "line": {
              "color": "#E5ECF6",
              "width": 0.5
             }
            },
            "type": "barpolar"
           }
          ],
          "carpet": [
           {
            "aaxis": {
             "endlinecolor": "#2a3f5f",
             "gridcolor": "white",
             "linecolor": "white",
             "minorgridcolor": "white",
             "startlinecolor": "#2a3f5f"
            },
            "baxis": {
             "endlinecolor": "#2a3f5f",
             "gridcolor": "white",
             "linecolor": "white",
             "minorgridcolor": "white",
             "startlinecolor": "#2a3f5f"
            },
            "type": "carpet"
           }
          ],
          "choropleth": [
           {
            "colorbar": {
             "outlinewidth": 0,
             "ticks": ""
            },
            "type": "choropleth"
           }
          ],
          "contour": [
           {
            "colorbar": {
             "outlinewidth": 0,
             "ticks": ""
            },
            "colorscale": [
             [
              0,
              "#0d0887"
             ],
             [
              0.1111111111111111,
              "#46039f"
             ],
             [
              0.2222222222222222,
              "#7201a8"
             ],
             [
              0.3333333333333333,
              "#9c179e"
             ],
             [
              0.4444444444444444,
              "#bd3786"
             ],
             [
              0.5555555555555556,
              "#d8576b"
             ],
             [
              0.6666666666666666,
              "#ed7953"
             ],
             [
              0.7777777777777778,
              "#fb9f3a"
             ],
             [
              0.8888888888888888,
              "#fdca26"
             ],
             [
              1,
              "#f0f921"
             ]
            ],
            "type": "contour"
           }
          ],
          "contourcarpet": [
           {
            "colorbar": {
             "outlinewidth": 0,
             "ticks": ""
            },
            "type": "contourcarpet"
           }
          ],
          "heatmap": [
           {
            "colorbar": {
             "outlinewidth": 0,
             "ticks": ""
            },
            "colorscale": [
             [
              0,
              "#0d0887"
             ],
             [
              0.1111111111111111,
              "#46039f"
             ],
             [
              0.2222222222222222,
              "#7201a8"
             ],
             [
              0.3333333333333333,
              "#9c179e"
             ],
             [
              0.4444444444444444,
              "#bd3786"
             ],
             [
              0.5555555555555556,
              "#d8576b"
             ],
             [
              0.6666666666666666,
              "#ed7953"
             ],
             [
              0.7777777777777778,
              "#fb9f3a"
             ],
             [
              0.8888888888888888,
              "#fdca26"
             ],
             [
              1,
              "#f0f921"
             ]
            ],
            "type": "heatmap"
           }
          ],
          "heatmapgl": [
           {
            "colorbar": {
             "outlinewidth": 0,
             "ticks": ""
            },
            "colorscale": [
             [
              0,
              "#0d0887"
             ],
             [
              0.1111111111111111,
              "#46039f"
             ],
             [
              0.2222222222222222,
              "#7201a8"
             ],
             [
              0.3333333333333333,
              "#9c179e"
             ],
             [
              0.4444444444444444,
              "#bd3786"
             ],
             [
              0.5555555555555556,
              "#d8576b"
             ],
             [
              0.6666666666666666,
              "#ed7953"
             ],
             [
              0.7777777777777778,
              "#fb9f3a"
             ],
             [
              0.8888888888888888,
              "#fdca26"
             ],
             [
              1,
              "#f0f921"
             ]
            ],
            "type": "heatmapgl"
           }
          ],
          "histogram": [
           {
            "marker": {
             "colorbar": {
              "outlinewidth": 0,
              "ticks": ""
             }
            },
            "type": "histogram"
           }
          ],
          "histogram2d": [
           {
            "colorbar": {
             "outlinewidth": 0,
             "ticks": ""
            },
            "colorscale": [
             [
              0,
              "#0d0887"
             ],
             [
              0.1111111111111111,
              "#46039f"
             ],
             [
              0.2222222222222222,
              "#7201a8"
             ],
             [
              0.3333333333333333,
              "#9c179e"
             ],
             [
              0.4444444444444444,
              "#bd3786"
             ],
             [
              0.5555555555555556,
              "#d8576b"
             ],
             [
              0.6666666666666666,
              "#ed7953"
             ],
             [
              0.7777777777777778,
              "#fb9f3a"
             ],
             [
              0.8888888888888888,
              "#fdca26"
             ],
             [
              1,
              "#f0f921"
             ]
            ],
            "type": "histogram2d"
           }
          ],
          "histogram2dcontour": [
           {
            "colorbar": {
             "outlinewidth": 0,
             "ticks": ""
            },
            "colorscale": [
             [
              0,
              "#0d0887"
             ],
             [
              0.1111111111111111,
              "#46039f"
             ],
             [
              0.2222222222222222,
              "#7201a8"
             ],
             [
              0.3333333333333333,
              "#9c179e"
             ],
             [
              0.4444444444444444,
              "#bd3786"
             ],
             [
              0.5555555555555556,
              "#d8576b"
             ],
             [
              0.6666666666666666,
              "#ed7953"
             ],
             [
              0.7777777777777778,
              "#fb9f3a"
             ],
             [
              0.8888888888888888,
              "#fdca26"
             ],
             [
              1,
              "#f0f921"
             ]
            ],
            "type": "histogram2dcontour"
           }
          ],
          "mesh3d": [
           {
            "colorbar": {
             "outlinewidth": 0,
             "ticks": ""
            },
            "type": "mesh3d"
           }
          ],
          "parcoords": [
           {
            "line": {
             "colorbar": {
              "outlinewidth": 0,
              "ticks": ""
             }
            },
            "type": "parcoords"
           }
          ],
          "pie": [
           {
            "automargin": true,
            "type": "pie"
           }
          ],
          "scatter": [
           {
            "marker": {
             "colorbar": {
              "outlinewidth": 0,
              "ticks": ""
             }
            },
            "type": "scatter"
           }
          ],
          "scatter3d": [
           {
            "line": {
             "colorbar": {
              "outlinewidth": 0,
              "ticks": ""
             }
            },
            "marker": {
             "colorbar": {
              "outlinewidth": 0,
              "ticks": ""
             }
            },
            "type": "scatter3d"
           }
          ],
          "scattercarpet": [
           {
            "marker": {
             "colorbar": {
              "outlinewidth": 0,
              "ticks": ""
             }
            },
            "type": "scattercarpet"
           }
          ],
          "scattergeo": [
           {
            "marker": {
             "colorbar": {
              "outlinewidth": 0,
              "ticks": ""
             }
            },
            "type": "scattergeo"
           }
          ],
          "scattergl": [
           {
            "marker": {
             "colorbar": {
              "outlinewidth": 0,
              "ticks": ""
             }
            },
            "type": "scattergl"
           }
          ],
          "scattermapbox": [
           {
            "marker": {
             "colorbar": {
              "outlinewidth": 0,
              "ticks": ""
             }
            },
            "type": "scattermapbox"
           }
          ],
          "scatterpolar": [
           {
            "marker": {
             "colorbar": {
              "outlinewidth": 0,
              "ticks": ""
             }
            },
            "type": "scatterpolar"
           }
          ],
          "scatterpolargl": [
           {
            "marker": {
             "colorbar": {
              "outlinewidth": 0,
              "ticks": ""
             }
            },
            "type": "scatterpolargl"
           }
          ],
          "scatterternary": [
           {
            "marker": {
             "colorbar": {
              "outlinewidth": 0,
              "ticks": ""
             }
            },
            "type": "scatterternary"
           }
          ],
          "surface": [
           {
            "colorbar": {
             "outlinewidth": 0,
             "ticks": ""
            },
            "colorscale": [
             [
              0,
              "#0d0887"
             ],
             [
              0.1111111111111111,
              "#46039f"
             ],
             [
              0.2222222222222222,
              "#7201a8"
             ],
             [
              0.3333333333333333,
              "#9c179e"
             ],
             [
              0.4444444444444444,
              "#bd3786"
             ],
             [
              0.5555555555555556,
              "#d8576b"
             ],
             [
              0.6666666666666666,
              "#ed7953"
             ],
             [
              0.7777777777777778,
              "#fb9f3a"
             ],
             [
              0.8888888888888888,
              "#fdca26"
             ],
             [
              1,
              "#f0f921"
             ]
            ],
            "type": "surface"
           }
          ],
          "table": [
           {
            "cells": {
             "fill": {
              "color": "#EBF0F8"
             },
             "line": {
              "color": "white"
             }
            },
            "header": {
             "fill": {
              "color": "#C8D4E3"
             },
             "line": {
              "color": "white"
             }
            },
            "type": "table"
           }
          ]
         },
         "layout": {
          "annotationdefaults": {
           "arrowcolor": "#2a3f5f",
           "arrowhead": 0,
           "arrowwidth": 1
          },
          "autotypenumbers": "strict",
          "coloraxis": {
           "colorbar": {
            "outlinewidth": 0,
            "ticks": ""
           }
          },
          "colorscale": {
           "diverging": [
            [
             0,
             "#8e0152"
            ],
            [
             0.1,
             "#c51b7d"
            ],
            [
             0.2,
             "#de77ae"
            ],
            [
             0.3,
             "#f1b6da"
            ],
            [
             0.4,
             "#fde0ef"
            ],
            [
             0.5,
             "#f7f7f7"
            ],
            [
             0.6,
             "#e6f5d0"
            ],
            [
             0.7,
             "#b8e186"
            ],
            [
             0.8,
             "#7fbc41"
            ],
            [
             0.9,
             "#4d9221"
            ],
            [
             1,
             "#276419"
            ]
           ],
           "sequential": [
            [
             0,
             "#0d0887"
            ],
            [
             0.1111111111111111,
             "#46039f"
            ],
            [
             0.2222222222222222,
             "#7201a8"
            ],
            [
             0.3333333333333333,
             "#9c179e"
            ],
            [
             0.4444444444444444,
             "#bd3786"
            ],
            [
             0.5555555555555556,
             "#d8576b"
            ],
            [
             0.6666666666666666,
             "#ed7953"
            ],
            [
             0.7777777777777778,
             "#fb9f3a"
            ],
            [
             0.8888888888888888,
             "#fdca26"
            ],
            [
             1,
             "#f0f921"
            ]
           ],
           "sequentialminus": [
            [
             0,
             "#0d0887"
            ],
            [
             0.1111111111111111,
             "#46039f"
            ],
            [
             0.2222222222222222,
             "#7201a8"
            ],
            [
             0.3333333333333333,
             "#9c179e"
            ],
            [
             0.4444444444444444,
             "#bd3786"
            ],
            [
             0.5555555555555556,
             "#d8576b"
            ],
            [
             0.6666666666666666,
             "#ed7953"
            ],
            [
             0.7777777777777778,
             "#fb9f3a"
            ],
            [
             0.8888888888888888,
             "#fdca26"
            ],
            [
             1,
             "#f0f921"
            ]
           ]
          },
          "colorway": [
           "#636efa",
           "#EF553B",
           "#00cc96",
           "#ab63fa",
           "#FFA15A",
           "#19d3f3",
           "#FF6692",
           "#B6E880",
           "#FF97FF",
           "#FECB52"
          ],
          "font": {
           "color": "#2a3f5f"
          },
          "geo": {
           "bgcolor": "white",
           "lakecolor": "white",
           "landcolor": "#E5ECF6",
           "showlakes": true,
           "showland": true,
           "subunitcolor": "white"
          },
          "hoverlabel": {
           "align": "left"
          },
          "hovermode": "closest",
          "mapbox": {
           "style": "light"
          },
          "paper_bgcolor": "white",
          "plot_bgcolor": "#E5ECF6",
          "polar": {
           "angularaxis": {
            "gridcolor": "white",
            "linecolor": "white",
            "ticks": ""
           },
           "bgcolor": "#E5ECF6",
           "radialaxis": {
            "gridcolor": "white",
            "linecolor": "white",
            "ticks": ""
           }
          },
          "scene": {
           "xaxis": {
            "backgroundcolor": "#E5ECF6",
            "gridcolor": "white",
            "gridwidth": 2,
            "linecolor": "white",
            "showbackground": true,
            "ticks": "",
            "zerolinecolor": "white"
           },
           "yaxis": {
            "backgroundcolor": "#E5ECF6",
            "gridcolor": "white",
            "gridwidth": 2,
            "linecolor": "white",
            "showbackground": true,
            "ticks": "",
            "zerolinecolor": "white"
           },
           "zaxis": {
            "backgroundcolor": "#E5ECF6",
            "gridcolor": "white",
            "gridwidth": 2,
            "linecolor": "white",
            "showbackground": true,
            "ticks": "",
            "zerolinecolor": "white"
           }
          },
          "shapedefaults": {
           "line": {
            "color": "#2a3f5f"
           }
          },
          "ternary": {
           "aaxis": {
            "gridcolor": "white",
            "linecolor": "white",
            "ticks": ""
           },
           "baxis": {
            "gridcolor": "white",
            "linecolor": "white",
            "ticks": ""
           },
           "bgcolor": "#E5ECF6",
           "caxis": {
            "gridcolor": "white",
            "linecolor": "white",
            "ticks": ""
           }
          },
          "title": {
           "x": 0.05
          },
          "xaxis": {
           "automargin": true,
           "gridcolor": "white",
           "linecolor": "white",
           "ticks": "",
           "title": {
            "standoff": 15
           },
           "zerolinecolor": "white",
           "zerolinewidth": 2
          },
          "yaxis": {
           "automargin": true,
           "gridcolor": "white",
           "linecolor": "white",
           "ticks": "",
           "title": {
            "standoff": 15
           },
           "zerolinecolor": "white",
           "zerolinewidth": 2
          }
         }
        },
        "title": {
         "text": "ROC Curve"
        },
        "width": 800,
        "xaxis": {
         "range": [
          0,
          1
         ],
         "title": {
          "text": "False Positive Rate (Sensitivty)"
         }
        },
        "yaxis": {
         "range": [
          0,
          1
         ],
         "title": {
          "text": "True Positive Rate (1-Precision)"
         }
        }
       }
      },
      "text/html": "<div>                            <div id=\"a87a06cf-c281-42a3-9faf-3b85f5329ed5\" class=\"plotly-graph-div\" style=\"height:800px; width:800px;\"></div>            <script type=\"text/javascript\">                require([\"plotly\"], function(Plotly) {                    window.PLOTLYENV=window.PLOTLYENV || {};                                    if (document.getElementById(\"a87a06cf-c281-42a3-9faf-3b85f5329ed5\")) {                    Plotly.newPlot(                        \"a87a06cf-c281-42a3-9faf-3b85f5329ed5\",                        [{\"hovertemplate\": \"x=%{x}<br>y=%{y}<extra></extra>\", \"legendgroup\": \"\", \"line\": {\"color\": \"#636efa\", \"dash\": \"solid\"}, \"mode\": \"lines\", \"name\": \"\", \"orientation\": \"v\", \"showlegend\": false, \"type\": \"scatter\", \"x\": [0.0, 0.0003348541291699803, 0.0016324138797036542, 0.005399522832865933, 0.005441379599012181, 0.01615671173245155, 0.01649156586162153, 0.02025867481478381, 0.024276924364823572, 0.035452680925871664, 0.035954962119626635, 0.03624795948265037, 0.03637352978108911, 0.08350424846176384, 0.08404838642166507, 0.08530408940605248, 0.09137332049725838, 0.09392658323217948, 0.09547528357959065, 0.8015570717006404, 0.8103469925913523, 0.8105981331882299, 0.8248712904441002, 0.8265455610899501, 0.8267967016868277, 0.8271734125821439, 0.8272571261144364, 0.9706584069314804, 0.9766439244903938, 0.9771880624502951, 0.9794064710560462, 0.9794483278221925, 0.9804947469758486, 0.995939893683814, 0.9961910342806914, 0.9972793102004939, 0.9972793102004939, 0.99966514587083, 1.0], \"xaxis\": \"x\", \"y\": [0.0, 0.0009764891459475701, 0.0032299256365958084, 0.009464433260722603, 0.009539547810410876, 0.0248629159468189, 0.025088259595883722, 0.02974536167655675, 0.035153609254112525, 0.048899571847066774, 0.0494253736948847, 0.05025163374145572, 0.05040186284083227, 0.10290693307293623, 0.10350784947044242, 0.10493502591451964, 0.11101930443926988, 0.11342297002929468, 0.11507549012243672, 0.8281379103132277, 0.8367760835273792, 0.8370014271764441, 0.8505220461203336, 0.852024337114099, 0.8524750244122287, 0.8530008262600466, 0.8530008262600466, 0.9775407496432059, 0.9824231953729438, 0.9828738826710733, 0.9846015173139037, 0.984676631863592, 0.9854277773604747, 0.9966198452640277, 0.9969203034627807, 0.9976714489596635, 0.9977465635093518, 0.9997746563509352, 1.0], \"yaxis\": \"y\"}, {\"hovertemplate\": \"x=%{x}<br>y=%{y}<extra></extra>\", \"legendgroup\": \"\", \"line\": {\"color\": \"rgba(50,50,50,0.2)\", \"dash\": \"solid\"}, \"mode\": \"lines\", \"name\": \"\", \"orientation\": \"v\", \"showlegend\": false, \"type\": \"scatter\", \"x\": [0, 1], \"xaxis\": \"x\", \"y\": [0, 1], \"yaxis\": \"y\"}],                        {\"autosize\": false, \"height\": 800, \"template\": {\"data\": {\"bar\": [{\"error_x\": {\"color\": \"#2a3f5f\"}, \"error_y\": {\"color\": \"#2a3f5f\"}, \"marker\": {\"line\": {\"color\": \"#E5ECF6\", \"width\": 0.5}}, \"type\": \"bar\"}], \"barpolar\": [{\"marker\": {\"line\": {\"color\": \"#E5ECF6\", \"width\": 0.5}}, \"type\": \"barpolar\"}], \"carpet\": [{\"aaxis\": {\"endlinecolor\": \"#2a3f5f\", \"gridcolor\": \"white\", \"linecolor\": \"white\", \"minorgridcolor\": \"white\", \"startlinecolor\": \"#2a3f5f\"}, \"baxis\": {\"endlinecolor\": \"#2a3f5f\", \"gridcolor\": \"white\", \"linecolor\": \"white\", \"minorgridcolor\": \"white\", \"startlinecolor\": \"#2a3f5f\"}, \"type\": \"carpet\"}], \"choropleth\": [{\"colorbar\": {\"outlinewidth\": 0, \"ticks\": \"\"}, \"type\": \"choropleth\"}], \"contour\": [{\"colorbar\": {\"outlinewidth\": 0, \"ticks\": \"\"}, \"colorscale\": [[0.0, \"#0d0887\"], [0.1111111111111111, \"#46039f\"], [0.2222222222222222, \"#7201a8\"], [0.3333333333333333, \"#9c179e\"], [0.4444444444444444, \"#bd3786\"], [0.5555555555555556, \"#d8576b\"], [0.6666666666666666, \"#ed7953\"], [0.7777777777777778, \"#fb9f3a\"], [0.8888888888888888, \"#fdca26\"], [1.0, \"#f0f921\"]], \"type\": \"contour\"}], \"contourcarpet\": [{\"colorbar\": {\"outlinewidth\": 0, \"ticks\": \"\"}, \"type\": \"contourcarpet\"}], \"heatmap\": [{\"colorbar\": {\"outlinewidth\": 0, \"ticks\": \"\"}, \"colorscale\": [[0.0, \"#0d0887\"], [0.1111111111111111, \"#46039f\"], [0.2222222222222222, \"#7201a8\"], [0.3333333333333333, \"#9c179e\"], [0.4444444444444444, \"#bd3786\"], [0.5555555555555556, \"#d8576b\"], [0.6666666666666666, \"#ed7953\"], [0.7777777777777778, \"#fb9f3a\"], [0.8888888888888888, \"#fdca26\"], [1.0, \"#f0f921\"]], \"type\": \"heatmap\"}], \"heatmapgl\": [{\"colorbar\": {\"outlinewidth\": 0, \"ticks\": \"\"}, \"colorscale\": [[0.0, \"#0d0887\"], [0.1111111111111111, \"#46039f\"], [0.2222222222222222, \"#7201a8\"], [0.3333333333333333, \"#9c179e\"], [0.4444444444444444, \"#bd3786\"], [0.5555555555555556, \"#d8576b\"], [0.6666666666666666, \"#ed7953\"], [0.7777777777777778, \"#fb9f3a\"], [0.8888888888888888, \"#fdca26\"], [1.0, \"#f0f921\"]], \"type\": \"heatmapgl\"}], \"histogram\": [{\"marker\": {\"colorbar\": {\"outlinewidth\": 0, \"ticks\": \"\"}}, \"type\": \"histogram\"}], \"histogram2d\": [{\"colorbar\": {\"outlinewidth\": 0, \"ticks\": \"\"}, \"colorscale\": [[0.0, \"#0d0887\"], [0.1111111111111111, \"#46039f\"], [0.2222222222222222, \"#7201a8\"], [0.3333333333333333, \"#9c179e\"], [0.4444444444444444, \"#bd3786\"], [0.5555555555555556, \"#d8576b\"], [0.6666666666666666, \"#ed7953\"], [0.7777777777777778, \"#fb9f3a\"], [0.8888888888888888, \"#fdca26\"], [1.0, \"#f0f921\"]], \"type\": \"histogram2d\"}], \"histogram2dcontour\": [{\"colorbar\": {\"outlinewidth\": 0, \"ticks\": \"\"}, \"colorscale\": [[0.0, \"#0d0887\"], [0.1111111111111111, \"#46039f\"], [0.2222222222222222, \"#7201a8\"], [0.3333333333333333, \"#9c179e\"], [0.4444444444444444, \"#bd3786\"], [0.5555555555555556, \"#d8576b\"], [0.6666666666666666, \"#ed7953\"], [0.7777777777777778, \"#fb9f3a\"], [0.8888888888888888, \"#fdca26\"], [1.0, \"#f0f921\"]], \"type\": \"histogram2dcontour\"}], \"mesh3d\": [{\"colorbar\": {\"outlinewidth\": 0, \"ticks\": \"\"}, \"type\": \"mesh3d\"}], \"parcoords\": [{\"line\": {\"colorbar\": {\"outlinewidth\": 0, \"ticks\": \"\"}}, \"type\": \"parcoords\"}], \"pie\": [{\"automargin\": true, \"type\": \"pie\"}], \"scatter\": [{\"marker\": {\"colorbar\": {\"outlinewidth\": 0, \"ticks\": \"\"}}, \"type\": \"scatter\"}], \"scatter3d\": [{\"line\": {\"colorbar\": {\"outlinewidth\": 0, \"ticks\": \"\"}}, \"marker\": {\"colorbar\": {\"outlinewidth\": 0, \"ticks\": \"\"}}, \"type\": \"scatter3d\"}], \"scattercarpet\": [{\"marker\": {\"colorbar\": {\"outlinewidth\": 0, \"ticks\": \"\"}}, \"type\": \"scattercarpet\"}], \"scattergeo\": [{\"marker\": {\"colorbar\": {\"outlinewidth\": 0, \"ticks\": \"\"}}, \"type\": \"scattergeo\"}], \"scattergl\": [{\"marker\": {\"colorbar\": {\"outlinewidth\": 0, \"ticks\": \"\"}}, \"type\": \"scattergl\"}], \"scattermapbox\": [{\"marker\": {\"colorbar\": {\"outlinewidth\": 0, \"ticks\": \"\"}}, \"type\": \"scattermapbox\"}], \"scatterpolar\": [{\"marker\": {\"colorbar\": {\"outlinewidth\": 0, \"ticks\": \"\"}}, \"type\": \"scatterpolar\"}], \"scatterpolargl\": [{\"marker\": {\"colorbar\": {\"outlinewidth\": 0, \"ticks\": \"\"}}, \"type\": \"scatterpolargl\"}], \"scatterternary\": [{\"marker\": {\"colorbar\": {\"outlinewidth\": 0, \"ticks\": \"\"}}, \"type\": \"scatterternary\"}], \"surface\": [{\"colorbar\": {\"outlinewidth\": 0, \"ticks\": \"\"}, \"colorscale\": [[0.0, \"#0d0887\"], [0.1111111111111111, \"#46039f\"], [0.2222222222222222, \"#7201a8\"], [0.3333333333333333, \"#9c179e\"], [0.4444444444444444, \"#bd3786\"], [0.5555555555555556, \"#d8576b\"], [0.6666666666666666, \"#ed7953\"], [0.7777777777777778, \"#fb9f3a\"], [0.8888888888888888, \"#fdca26\"], [1.0, \"#f0f921\"]], \"type\": \"surface\"}], \"table\": [{\"cells\": {\"fill\": {\"color\": \"#EBF0F8\"}, \"line\": {\"color\": \"white\"}}, \"header\": {\"fill\": {\"color\": \"#C8D4E3\"}, \"line\": {\"color\": \"white\"}}, \"type\": \"table\"}]}, \"layout\": {\"annotationdefaults\": {\"arrowcolor\": \"#2a3f5f\", \"arrowhead\": 0, \"arrowwidth\": 1}, \"autotypenumbers\": \"strict\", \"coloraxis\": {\"colorbar\": {\"outlinewidth\": 0, \"ticks\": \"\"}}, \"colorscale\": {\"diverging\": [[0, \"#8e0152\"], [0.1, \"#c51b7d\"], [0.2, \"#de77ae\"], [0.3, \"#f1b6da\"], [0.4, \"#fde0ef\"], [0.5, \"#f7f7f7\"], [0.6, \"#e6f5d0\"], [0.7, \"#b8e186\"], [0.8, \"#7fbc41\"], [0.9, \"#4d9221\"], [1, \"#276419\"]], \"sequential\": [[0.0, \"#0d0887\"], [0.1111111111111111, \"#46039f\"], [0.2222222222222222, \"#7201a8\"], [0.3333333333333333, \"#9c179e\"], [0.4444444444444444, \"#bd3786\"], [0.5555555555555556, \"#d8576b\"], [0.6666666666666666, \"#ed7953\"], [0.7777777777777778, \"#fb9f3a\"], [0.8888888888888888, \"#fdca26\"], [1.0, \"#f0f921\"]], \"sequentialminus\": [[0.0, \"#0d0887\"], [0.1111111111111111, \"#46039f\"], [0.2222222222222222, \"#7201a8\"], [0.3333333333333333, \"#9c179e\"], [0.4444444444444444, \"#bd3786\"], [0.5555555555555556, \"#d8576b\"], [0.6666666666666666, \"#ed7953\"], [0.7777777777777778, \"#fb9f3a\"], [0.8888888888888888, \"#fdca26\"], [1.0, \"#f0f921\"]]}, \"colorway\": [\"#636efa\", \"#EF553B\", \"#00cc96\", \"#ab63fa\", \"#FFA15A\", \"#19d3f3\", \"#FF6692\", \"#B6E880\", \"#FF97FF\", \"#FECB52\"], \"font\": {\"color\": \"#2a3f5f\"}, \"geo\": {\"bgcolor\": \"white\", \"lakecolor\": \"white\", \"landcolor\": \"#E5ECF6\", \"showlakes\": true, \"showland\": true, \"subunitcolor\": \"white\"}, \"hoverlabel\": {\"align\": \"left\"}, \"hovermode\": \"closest\", \"mapbox\": {\"style\": \"light\"}, \"paper_bgcolor\": \"white\", \"plot_bgcolor\": \"#E5ECF6\", \"polar\": {\"angularaxis\": {\"gridcolor\": \"white\", \"linecolor\": \"white\", \"ticks\": \"\"}, \"bgcolor\": \"#E5ECF6\", \"radialaxis\": {\"gridcolor\": \"white\", \"linecolor\": \"white\", \"ticks\": \"\"}}, \"scene\": {\"xaxis\": {\"backgroundcolor\": \"#E5ECF6\", \"gridcolor\": \"white\", \"gridwidth\": 2, \"linecolor\": \"white\", \"showbackground\": true, \"ticks\": \"\", \"zerolinecolor\": \"white\"}, \"yaxis\": {\"backgroundcolor\": \"#E5ECF6\", \"gridcolor\": \"white\", \"gridwidth\": 2, \"linecolor\": \"white\", \"showbackground\": true, \"ticks\": \"\", \"zerolinecolor\": \"white\"}, \"zaxis\": {\"backgroundcolor\": \"#E5ECF6\", \"gridcolor\": \"white\", \"gridwidth\": 2, \"linecolor\": \"white\", \"showbackground\": true, \"ticks\": \"\", \"zerolinecolor\": \"white\"}}, \"shapedefaults\": {\"line\": {\"color\": \"#2a3f5f\"}}, \"ternary\": {\"aaxis\": {\"gridcolor\": \"white\", \"linecolor\": \"white\", \"ticks\": \"\"}, \"baxis\": {\"gridcolor\": \"white\", \"linecolor\": \"white\", \"ticks\": \"\"}, \"bgcolor\": \"#E5ECF6\", \"caxis\": {\"gridcolor\": \"white\", \"linecolor\": \"white\", \"ticks\": \"\"}}, \"title\": {\"x\": 0.05}, \"xaxis\": {\"automargin\": true, \"gridcolor\": \"white\", \"linecolor\": \"white\", \"ticks\": \"\", \"title\": {\"standoff\": 15}, \"zerolinecolor\": \"white\", \"zerolinewidth\": 2}, \"yaxis\": {\"automargin\": true, \"gridcolor\": \"white\", \"linecolor\": \"white\", \"ticks\": \"\", \"title\": {\"standoff\": 15}, \"zerolinecolor\": \"white\", \"zerolinewidth\": 2}}}, \"title\": {\"text\": \"ROC Curve\"}, \"width\": 800, \"xaxis\": {\"range\": [0, 1], \"title\": {\"text\": \"False Positive Rate (Sensitivty)\"}}, \"yaxis\": {\"range\": [0, 1], \"title\": {\"text\": \"True Positive Rate (1-Precision)\"}}},                        {\"responsive\": true}                    ).then(function(){\n                            \nvar gd = document.getElementById('a87a06cf-c281-42a3-9faf-3b85f5329ed5');\nvar x = new MutationObserver(function (mutations, observer) {{\n        var display = window.getComputedStyle(gd).display;\n        if (!display || display === 'none') {{\n            console.log([gd, 'removed!']);\n            Plotly.purge(gd);\n            observer.disconnect();\n        }}\n}});\n\n// Listen for the removal of the full notebook cells\nvar notebookContainer = gd.closest('#notebook-container');\nif (notebookContainer) {{\n    x.observe(notebookContainer, {childList: true});\n}}\n\n// Listen for the clearing of the current output cell\nvar outputEl = gd.closest('.output');\nif (outputEl) {{\n    x.observe(outputEl, {childList: true});\n}}\n\n                        })                };                });            </script>        </div>"
     },
     "metadata": {}
    },
    {
     "output_type": "stream",
     "name": "stdout",
     "text": [
      "AUC ROC score: 0.521\n"
     ]
    }
   ],
   "source": [
    "fig, auc = classification_tools.calc_roc(models[model], X_train, y_train)\n",
    "fig.show()\n",
    "print(\"AUC ROC score: {:.3f}\".format(auc))"
   ]
  },
  {
   "cell_type": "code",
   "execution_count": 225,
   "metadata": {},
   "outputs": [
    {
     "output_type": "display_data",
     "data": {
      "application/vnd.plotly.v1+json": {
       "config": {
        "plotlyServerURL": "https://plot.ly"
       },
       "data": [
        {
         "hovertemplate": "x=%{x}<br>y=%{y}<extra></extra>",
         "legendgroup": "",
         "line": {
          "color": "#636efa",
          "dash": "solid"
         },
         "mode": "lines",
         "name": "",
         "orientation": "v",
         "showlegend": false,
         "type": "scatter",
         "x": [
          0,
          0.0005818786367414796,
          0.0006650041562759767,
          0.0021612635078969242,
          0.007315045719035744,
          0.017955112219451373,
          0.01820448877805486,
          0.022111388196176227,
          0.02601828761429759,
          0.038403990024937655,
          0.038985868661679135,
          0.03981712385702411,
          0.0399833748960931,
          0.08919368246051537,
          0.08977556109725686,
          0.0912718204488778,
          0.09667497921862012,
          0.09933499584372402,
          0.10083125519534497,
          0.8058187863674148,
          0.8159600997506234,
          0.828428927680798,
          0.830423940149626,
          0.8309226932668329,
          0.8310058187863674,
          0.8310058187863674,
          0.9721529509559435,
          0.9785536159600997,
          0.9787198669991688,
          0.9816292601828761,
          0.9816292601828761,
          0.982793017456359,
          0.9957605985037407,
          0.9962593516209476,
          0.9969243557772236,
          0.9970074812967581,
          0.9995843724023276,
          1
         ],
         "xaxis": "x",
         "y": [
          0,
          0.0006085501293169025,
          0.0006085501293169025,
          0.0022820629849383844,
          0.007150464019473604,
          0.022820629849383843,
          0.02327704244637152,
          0.026624068157614485,
          0.03255743191845428,
          0.045641259698767686,
          0.04594553476342614,
          0.04670622242507227,
          0.04670622242507227,
          0.09965008367564278,
          0.10041077133728891,
          0.10193214666058116,
          0.10771337288909173,
          0.10908261068005477,
          0.11121253613266392,
          0.8213905370454891,
          0.8302145139205842,
          0.8440590293625437,
          0.8454282671535067,
          0.8458846797504944,
          0.8463410923474821,
          0.8464932298798113,
          0.9724631066484102,
          0.9790050205385669,
          0.9794614331355546,
          0.9814392210558345,
          0.9815913585881637,
          0.9829605963791267,
          0.9957401490947817,
          0.9972615244180739,
          0.9977179370150616,
          0.9980222120797201,
          0.9995435874030123,
          1
         ],
         "yaxis": "y"
        },
        {
         "hovertemplate": "x=%{x}<br>y=%{y}<extra></extra>",
         "legendgroup": "",
         "line": {
          "color": "rgba(50,50,50,0.2)",
          "dash": "solid"
         },
         "mode": "lines",
         "name": "",
         "orientation": "v",
         "showlegend": false,
         "type": "scatter",
         "x": [
          0,
          1
         ],
         "xaxis": "x",
         "y": [
          0,
          1
         ],
         "yaxis": "y"
        }
       ],
       "layout": {
        "autosize": false,
        "height": 800,
        "template": {
         "data": {
          "bar": [
           {
            "error_x": {
             "color": "#2a3f5f"
            },
            "error_y": {
             "color": "#2a3f5f"
            },
            "marker": {
             "line": {
              "color": "#E5ECF6",
              "width": 0.5
             }
            },
            "type": "bar"
           }
          ],
          "barpolar": [
           {
            "marker": {
             "line": {
              "color": "#E5ECF6",
              "width": 0.5
             }
            },
            "type": "barpolar"
           }
          ],
          "carpet": [
           {
            "aaxis": {
             "endlinecolor": "#2a3f5f",
             "gridcolor": "white",
             "linecolor": "white",
             "minorgridcolor": "white",
             "startlinecolor": "#2a3f5f"
            },
            "baxis": {
             "endlinecolor": "#2a3f5f",
             "gridcolor": "white",
             "linecolor": "white",
             "minorgridcolor": "white",
             "startlinecolor": "#2a3f5f"
            },
            "type": "carpet"
           }
          ],
          "choropleth": [
           {
            "colorbar": {
             "outlinewidth": 0,
             "ticks": ""
            },
            "type": "choropleth"
           }
          ],
          "contour": [
           {
            "colorbar": {
             "outlinewidth": 0,
             "ticks": ""
            },
            "colorscale": [
             [
              0,
              "#0d0887"
             ],
             [
              0.1111111111111111,
              "#46039f"
             ],
             [
              0.2222222222222222,
              "#7201a8"
             ],
             [
              0.3333333333333333,
              "#9c179e"
             ],
             [
              0.4444444444444444,
              "#bd3786"
             ],
             [
              0.5555555555555556,
              "#d8576b"
             ],
             [
              0.6666666666666666,
              "#ed7953"
             ],
             [
              0.7777777777777778,
              "#fb9f3a"
             ],
             [
              0.8888888888888888,
              "#fdca26"
             ],
             [
              1,
              "#f0f921"
             ]
            ],
            "type": "contour"
           }
          ],
          "contourcarpet": [
           {
            "colorbar": {
             "outlinewidth": 0,
             "ticks": ""
            },
            "type": "contourcarpet"
           }
          ],
          "heatmap": [
           {
            "colorbar": {
             "outlinewidth": 0,
             "ticks": ""
            },
            "colorscale": [
             [
              0,
              "#0d0887"
             ],
             [
              0.1111111111111111,
              "#46039f"
             ],
             [
              0.2222222222222222,
              "#7201a8"
             ],
             [
              0.3333333333333333,
              "#9c179e"
             ],
             [
              0.4444444444444444,
              "#bd3786"
             ],
             [
              0.5555555555555556,
              "#d8576b"
             ],
             [
              0.6666666666666666,
              "#ed7953"
             ],
             [
              0.7777777777777778,
              "#fb9f3a"
             ],
             [
              0.8888888888888888,
              "#fdca26"
             ],
             [
              1,
              "#f0f921"
             ]
            ],
            "type": "heatmap"
           }
          ],
          "heatmapgl": [
           {
            "colorbar": {
             "outlinewidth": 0,
             "ticks": ""
            },
            "colorscale": [
             [
              0,
              "#0d0887"
             ],
             [
              0.1111111111111111,
              "#46039f"
             ],
             [
              0.2222222222222222,
              "#7201a8"
             ],
             [
              0.3333333333333333,
              "#9c179e"
             ],
             [
              0.4444444444444444,
              "#bd3786"
             ],
             [
              0.5555555555555556,
              "#d8576b"
             ],
             [
              0.6666666666666666,
              "#ed7953"
             ],
             [
              0.7777777777777778,
              "#fb9f3a"
             ],
             [
              0.8888888888888888,
              "#fdca26"
             ],
             [
              1,
              "#f0f921"
             ]
            ],
            "type": "heatmapgl"
           }
          ],
          "histogram": [
           {
            "marker": {
             "colorbar": {
              "outlinewidth": 0,
              "ticks": ""
             }
            },
            "type": "histogram"
           }
          ],
          "histogram2d": [
           {
            "colorbar": {
             "outlinewidth": 0,
             "ticks": ""
            },
            "colorscale": [
             [
              0,
              "#0d0887"
             ],
             [
              0.1111111111111111,
              "#46039f"
             ],
             [
              0.2222222222222222,
              "#7201a8"
             ],
             [
              0.3333333333333333,
              "#9c179e"
             ],
             [
              0.4444444444444444,
              "#bd3786"
             ],
             [
              0.5555555555555556,
              "#d8576b"
             ],
             [
              0.6666666666666666,
              "#ed7953"
             ],
             [
              0.7777777777777778,
              "#fb9f3a"
             ],
             [
              0.8888888888888888,
              "#fdca26"
             ],
             [
              1,
              "#f0f921"
             ]
            ],
            "type": "histogram2d"
           }
          ],
          "histogram2dcontour": [
           {
            "colorbar": {
             "outlinewidth": 0,
             "ticks": ""
            },
            "colorscale": [
             [
              0,
              "#0d0887"
             ],
             [
              0.1111111111111111,
              "#46039f"
             ],
             [
              0.2222222222222222,
              "#7201a8"
             ],
             [
              0.3333333333333333,
              "#9c179e"
             ],
             [
              0.4444444444444444,
              "#bd3786"
             ],
             [
              0.5555555555555556,
              "#d8576b"
             ],
             [
              0.6666666666666666,
              "#ed7953"
             ],
             [
              0.7777777777777778,
              "#fb9f3a"
             ],
             [
              0.8888888888888888,
              "#fdca26"
             ],
             [
              1,
              "#f0f921"
             ]
            ],
            "type": "histogram2dcontour"
           }
          ],
          "mesh3d": [
           {
            "colorbar": {
             "outlinewidth": 0,
             "ticks": ""
            },
            "type": "mesh3d"
           }
          ],
          "parcoords": [
           {
            "line": {
             "colorbar": {
              "outlinewidth": 0,
              "ticks": ""
             }
            },
            "type": "parcoords"
           }
          ],
          "pie": [
           {
            "automargin": true,
            "type": "pie"
           }
          ],
          "scatter": [
           {
            "marker": {
             "colorbar": {
              "outlinewidth": 0,
              "ticks": ""
             }
            },
            "type": "scatter"
           }
          ],
          "scatter3d": [
           {
            "line": {
             "colorbar": {
              "outlinewidth": 0,
              "ticks": ""
             }
            },
            "marker": {
             "colorbar": {
              "outlinewidth": 0,
              "ticks": ""
             }
            },
            "type": "scatter3d"
           }
          ],
          "scattercarpet": [
           {
            "marker": {
             "colorbar": {
              "outlinewidth": 0,
              "ticks": ""
             }
            },
            "type": "scattercarpet"
           }
          ],
          "scattergeo": [
           {
            "marker": {
             "colorbar": {
              "outlinewidth": 0,
              "ticks": ""
             }
            },
            "type": "scattergeo"
           }
          ],
          "scattergl": [
           {
            "marker": {
             "colorbar": {
              "outlinewidth": 0,
              "ticks": ""
             }
            },
            "type": "scattergl"
           }
          ],
          "scattermapbox": [
           {
            "marker": {
             "colorbar": {
              "outlinewidth": 0,
              "ticks": ""
             }
            },
            "type": "scattermapbox"
           }
          ],
          "scatterpolar": [
           {
            "marker": {
             "colorbar": {
              "outlinewidth": 0,
              "ticks": ""
             }
            },
            "type": "scatterpolar"
           }
          ],
          "scatterpolargl": [
           {
            "marker": {
             "colorbar": {
              "outlinewidth": 0,
              "ticks": ""
             }
            },
            "type": "scatterpolargl"
           }
          ],
          "scatterternary": [
           {
            "marker": {
             "colorbar": {
              "outlinewidth": 0,
              "ticks": ""
             }
            },
            "type": "scatterternary"
           }
          ],
          "surface": [
           {
            "colorbar": {
             "outlinewidth": 0,
             "ticks": ""
            },
            "colorscale": [
             [
              0,
              "#0d0887"
             ],
             [
              0.1111111111111111,
              "#46039f"
             ],
             [
              0.2222222222222222,
              "#7201a8"
             ],
             [
              0.3333333333333333,
              "#9c179e"
             ],
             [
              0.4444444444444444,
              "#bd3786"
             ],
             [
              0.5555555555555556,
              "#d8576b"
             ],
             [
              0.6666666666666666,
              "#ed7953"
             ],
             [
              0.7777777777777778,
              "#fb9f3a"
             ],
             [
              0.8888888888888888,
              "#fdca26"
             ],
             [
              1,
              "#f0f921"
             ]
            ],
            "type": "surface"
           }
          ],
          "table": [
           {
            "cells": {
             "fill": {
              "color": "#EBF0F8"
             },
             "line": {
              "color": "white"
             }
            },
            "header": {
             "fill": {
              "color": "#C8D4E3"
             },
             "line": {
              "color": "white"
             }
            },
            "type": "table"
           }
          ]
         },
         "layout": {
          "annotationdefaults": {
           "arrowcolor": "#2a3f5f",
           "arrowhead": 0,
           "arrowwidth": 1
          },
          "autotypenumbers": "strict",
          "coloraxis": {
           "colorbar": {
            "outlinewidth": 0,
            "ticks": ""
           }
          },
          "colorscale": {
           "diverging": [
            [
             0,
             "#8e0152"
            ],
            [
             0.1,
             "#c51b7d"
            ],
            [
             0.2,
             "#de77ae"
            ],
            [
             0.3,
             "#f1b6da"
            ],
            [
             0.4,
             "#fde0ef"
            ],
            [
             0.5,
             "#f7f7f7"
            ],
            [
             0.6,
             "#e6f5d0"
            ],
            [
             0.7,
             "#b8e186"
            ],
            [
             0.8,
             "#7fbc41"
            ],
            [
             0.9,
             "#4d9221"
            ],
            [
             1,
             "#276419"
            ]
           ],
           "sequential": [
            [
             0,
             "#0d0887"
            ],
            [
             0.1111111111111111,
             "#46039f"
            ],
            [
             0.2222222222222222,
             "#7201a8"
            ],
            [
             0.3333333333333333,
             "#9c179e"
            ],
            [
             0.4444444444444444,
             "#bd3786"
            ],
            [
             0.5555555555555556,
             "#d8576b"
            ],
            [
             0.6666666666666666,
             "#ed7953"
            ],
            [
             0.7777777777777778,
             "#fb9f3a"
            ],
            [
             0.8888888888888888,
             "#fdca26"
            ],
            [
             1,
             "#f0f921"
            ]
           ],
           "sequentialminus": [
            [
             0,
             "#0d0887"
            ],
            [
             0.1111111111111111,
             "#46039f"
            ],
            [
             0.2222222222222222,
             "#7201a8"
            ],
            [
             0.3333333333333333,
             "#9c179e"
            ],
            [
             0.4444444444444444,
             "#bd3786"
            ],
            [
             0.5555555555555556,
             "#d8576b"
            ],
            [
             0.6666666666666666,
             "#ed7953"
            ],
            [
             0.7777777777777778,
             "#fb9f3a"
            ],
            [
             0.8888888888888888,
             "#fdca26"
            ],
            [
             1,
             "#f0f921"
            ]
           ]
          },
          "colorway": [
           "#636efa",
           "#EF553B",
           "#00cc96",
           "#ab63fa",
           "#FFA15A",
           "#19d3f3",
           "#FF6692",
           "#B6E880",
           "#FF97FF",
           "#FECB52"
          ],
          "font": {
           "color": "#2a3f5f"
          },
          "geo": {
           "bgcolor": "white",
           "lakecolor": "white",
           "landcolor": "#E5ECF6",
           "showlakes": true,
           "showland": true,
           "subunitcolor": "white"
          },
          "hoverlabel": {
           "align": "left"
          },
          "hovermode": "closest",
          "mapbox": {
           "style": "light"
          },
          "paper_bgcolor": "white",
          "plot_bgcolor": "#E5ECF6",
          "polar": {
           "angularaxis": {
            "gridcolor": "white",
            "linecolor": "white",
            "ticks": ""
           },
           "bgcolor": "#E5ECF6",
           "radialaxis": {
            "gridcolor": "white",
            "linecolor": "white",
            "ticks": ""
           }
          },
          "scene": {
           "xaxis": {
            "backgroundcolor": "#E5ECF6",
            "gridcolor": "white",
            "gridwidth": 2,
            "linecolor": "white",
            "showbackground": true,
            "ticks": "",
            "zerolinecolor": "white"
           },
           "yaxis": {
            "backgroundcolor": "#E5ECF6",
            "gridcolor": "white",
            "gridwidth": 2,
            "linecolor": "white",
            "showbackground": true,
            "ticks": "",
            "zerolinecolor": "white"
           },
           "zaxis": {
            "backgroundcolor": "#E5ECF6",
            "gridcolor": "white",
            "gridwidth": 2,
            "linecolor": "white",
            "showbackground": true,
            "ticks": "",
            "zerolinecolor": "white"
           }
          },
          "shapedefaults": {
           "line": {
            "color": "#2a3f5f"
           }
          },
          "ternary": {
           "aaxis": {
            "gridcolor": "white",
            "linecolor": "white",
            "ticks": ""
           },
           "baxis": {
            "gridcolor": "white",
            "linecolor": "white",
            "ticks": ""
           },
           "bgcolor": "#E5ECF6",
           "caxis": {
            "gridcolor": "white",
            "linecolor": "white",
            "ticks": ""
           }
          },
          "title": {
           "x": 0.05
          },
          "xaxis": {
           "automargin": true,
           "gridcolor": "white",
           "linecolor": "white",
           "ticks": "",
           "title": {
            "standoff": 15
           },
           "zerolinecolor": "white",
           "zerolinewidth": 2
          },
          "yaxis": {
           "automargin": true,
           "gridcolor": "white",
           "linecolor": "white",
           "ticks": "",
           "title": {
            "standoff": 15
           },
           "zerolinecolor": "white",
           "zerolinewidth": 2
          }
         }
        },
        "title": {
         "text": "ROC Curve"
        },
        "width": 800,
        "xaxis": {
         "range": [
          0,
          1
         ],
         "title": {
          "text": "False Positive Rate (Sensitivty)"
         }
        },
        "yaxis": {
         "range": [
          0,
          1
         ],
         "title": {
          "text": "True Positive Rate (1-Precision)"
         }
        }
       }
      },
      "text/html": "<div>                            <div id=\"c077b7b4-cb64-449c-b1dc-a645f56884ff\" class=\"plotly-graph-div\" style=\"height:800px; width:800px;\"></div>            <script type=\"text/javascript\">                require([\"plotly\"], function(Plotly) {                    window.PLOTLYENV=window.PLOTLYENV || {};                                    if (document.getElementById(\"c077b7b4-cb64-449c-b1dc-a645f56884ff\")) {                    Plotly.newPlot(                        \"c077b7b4-cb64-449c-b1dc-a645f56884ff\",                        [{\"hovertemplate\": \"x=%{x}<br>y=%{y}<extra></extra>\", \"legendgroup\": \"\", \"line\": {\"color\": \"#636efa\", \"dash\": \"solid\"}, \"mode\": \"lines\", \"name\": \"\", \"orientation\": \"v\", \"showlegend\": false, \"type\": \"scatter\", \"x\": [0.0, 0.0005818786367414796, 0.0006650041562759767, 0.0021612635078969242, 0.007315045719035744, 0.017955112219451373, 0.01820448877805486, 0.022111388196176227, 0.02601828761429759, 0.038403990024937655, 0.038985868661679135, 0.03981712385702411, 0.0399833748960931, 0.08919368246051537, 0.08977556109725686, 0.0912718204488778, 0.09667497921862012, 0.09933499584372402, 0.10083125519534497, 0.8058187863674148, 0.8159600997506234, 0.828428927680798, 0.830423940149626, 0.8309226932668329, 0.8310058187863674, 0.8310058187863674, 0.9721529509559435, 0.9785536159600997, 0.9787198669991688, 0.9816292601828761, 0.9816292601828761, 0.982793017456359, 0.9957605985037407, 0.9962593516209476, 0.9969243557772236, 0.9970074812967581, 0.9995843724023276, 1.0], \"xaxis\": \"x\", \"y\": [0.0, 0.0006085501293169025, 0.0006085501293169025, 0.0022820629849383844, 0.007150464019473604, 0.022820629849383843, 0.02327704244637152, 0.026624068157614485, 0.03255743191845428, 0.045641259698767686, 0.04594553476342614, 0.04670622242507227, 0.04670622242507227, 0.09965008367564278, 0.10041077133728891, 0.10193214666058116, 0.10771337288909173, 0.10908261068005477, 0.11121253613266392, 0.8213905370454891, 0.8302145139205842, 0.8440590293625437, 0.8454282671535067, 0.8458846797504944, 0.8463410923474821, 0.8464932298798113, 0.9724631066484102, 0.9790050205385669, 0.9794614331355546, 0.9814392210558345, 0.9815913585881637, 0.9829605963791267, 0.9957401490947817, 0.9972615244180739, 0.9977179370150616, 0.9980222120797201, 0.9995435874030123, 1.0], \"yaxis\": \"y\"}, {\"hovertemplate\": \"x=%{x}<br>y=%{y}<extra></extra>\", \"legendgroup\": \"\", \"line\": {\"color\": \"rgba(50,50,50,0.2)\", \"dash\": \"solid\"}, \"mode\": \"lines\", \"name\": \"\", \"orientation\": \"v\", \"showlegend\": false, \"type\": \"scatter\", \"x\": [0, 1], \"xaxis\": \"x\", \"y\": [0, 1], \"yaxis\": \"y\"}],                        {\"autosize\": false, \"height\": 800, \"template\": {\"data\": {\"bar\": [{\"error_x\": {\"color\": \"#2a3f5f\"}, \"error_y\": {\"color\": \"#2a3f5f\"}, \"marker\": {\"line\": {\"color\": \"#E5ECF6\", \"width\": 0.5}}, \"type\": \"bar\"}], \"barpolar\": [{\"marker\": {\"line\": {\"color\": \"#E5ECF6\", \"width\": 0.5}}, \"type\": \"barpolar\"}], \"carpet\": [{\"aaxis\": {\"endlinecolor\": \"#2a3f5f\", \"gridcolor\": \"white\", \"linecolor\": \"white\", \"minorgridcolor\": \"white\", \"startlinecolor\": \"#2a3f5f\"}, \"baxis\": {\"endlinecolor\": \"#2a3f5f\", \"gridcolor\": \"white\", \"linecolor\": \"white\", \"minorgridcolor\": \"white\", \"startlinecolor\": \"#2a3f5f\"}, \"type\": \"carpet\"}], \"choropleth\": [{\"colorbar\": {\"outlinewidth\": 0, \"ticks\": \"\"}, \"type\": \"choropleth\"}], \"contour\": [{\"colorbar\": {\"outlinewidth\": 0, \"ticks\": \"\"}, \"colorscale\": [[0.0, \"#0d0887\"], [0.1111111111111111, \"#46039f\"], [0.2222222222222222, \"#7201a8\"], [0.3333333333333333, \"#9c179e\"], [0.4444444444444444, \"#bd3786\"], [0.5555555555555556, \"#d8576b\"], [0.6666666666666666, \"#ed7953\"], [0.7777777777777778, \"#fb9f3a\"], [0.8888888888888888, \"#fdca26\"], [1.0, \"#f0f921\"]], \"type\": \"contour\"}], \"contourcarpet\": [{\"colorbar\": {\"outlinewidth\": 0, \"ticks\": \"\"}, \"type\": \"contourcarpet\"}], \"heatmap\": [{\"colorbar\": {\"outlinewidth\": 0, \"ticks\": \"\"}, \"colorscale\": [[0.0, \"#0d0887\"], [0.1111111111111111, \"#46039f\"], [0.2222222222222222, \"#7201a8\"], [0.3333333333333333, \"#9c179e\"], [0.4444444444444444, \"#bd3786\"], [0.5555555555555556, \"#d8576b\"], [0.6666666666666666, \"#ed7953\"], [0.7777777777777778, \"#fb9f3a\"], [0.8888888888888888, \"#fdca26\"], [1.0, \"#f0f921\"]], \"type\": \"heatmap\"}], \"heatmapgl\": [{\"colorbar\": {\"outlinewidth\": 0, \"ticks\": \"\"}, \"colorscale\": [[0.0, \"#0d0887\"], [0.1111111111111111, \"#46039f\"], [0.2222222222222222, \"#7201a8\"], [0.3333333333333333, \"#9c179e\"], [0.4444444444444444, \"#bd3786\"], [0.5555555555555556, \"#d8576b\"], [0.6666666666666666, \"#ed7953\"], [0.7777777777777778, \"#fb9f3a\"], [0.8888888888888888, \"#fdca26\"], [1.0, \"#f0f921\"]], \"type\": \"heatmapgl\"}], \"histogram\": [{\"marker\": {\"colorbar\": {\"outlinewidth\": 0, \"ticks\": \"\"}}, \"type\": \"histogram\"}], \"histogram2d\": [{\"colorbar\": {\"outlinewidth\": 0, \"ticks\": \"\"}, \"colorscale\": [[0.0, \"#0d0887\"], [0.1111111111111111, \"#46039f\"], [0.2222222222222222, \"#7201a8\"], [0.3333333333333333, \"#9c179e\"], [0.4444444444444444, \"#bd3786\"], [0.5555555555555556, \"#d8576b\"], [0.6666666666666666, \"#ed7953\"], [0.7777777777777778, \"#fb9f3a\"], [0.8888888888888888, \"#fdca26\"], [1.0, \"#f0f921\"]], \"type\": \"histogram2d\"}], \"histogram2dcontour\": [{\"colorbar\": {\"outlinewidth\": 0, \"ticks\": \"\"}, \"colorscale\": [[0.0, \"#0d0887\"], [0.1111111111111111, \"#46039f\"], [0.2222222222222222, \"#7201a8\"], [0.3333333333333333, \"#9c179e\"], [0.4444444444444444, \"#bd3786\"], [0.5555555555555556, \"#d8576b\"], [0.6666666666666666, \"#ed7953\"], [0.7777777777777778, \"#fb9f3a\"], [0.8888888888888888, \"#fdca26\"], [1.0, \"#f0f921\"]], \"type\": \"histogram2dcontour\"}], \"mesh3d\": [{\"colorbar\": {\"outlinewidth\": 0, \"ticks\": \"\"}, \"type\": \"mesh3d\"}], \"parcoords\": [{\"line\": {\"colorbar\": {\"outlinewidth\": 0, \"ticks\": \"\"}}, \"type\": \"parcoords\"}], \"pie\": [{\"automargin\": true, \"type\": \"pie\"}], \"scatter\": [{\"marker\": {\"colorbar\": {\"outlinewidth\": 0, \"ticks\": \"\"}}, \"type\": \"scatter\"}], \"scatter3d\": [{\"line\": {\"colorbar\": {\"outlinewidth\": 0, \"ticks\": \"\"}}, \"marker\": {\"colorbar\": {\"outlinewidth\": 0, \"ticks\": \"\"}}, \"type\": \"scatter3d\"}], \"scattercarpet\": [{\"marker\": {\"colorbar\": {\"outlinewidth\": 0, \"ticks\": \"\"}}, \"type\": \"scattercarpet\"}], \"scattergeo\": [{\"marker\": {\"colorbar\": {\"outlinewidth\": 0, \"ticks\": \"\"}}, \"type\": \"scattergeo\"}], \"scattergl\": [{\"marker\": {\"colorbar\": {\"outlinewidth\": 0, \"ticks\": \"\"}}, \"type\": \"scattergl\"}], \"scattermapbox\": [{\"marker\": {\"colorbar\": {\"outlinewidth\": 0, \"ticks\": \"\"}}, \"type\": \"scattermapbox\"}], \"scatterpolar\": [{\"marker\": {\"colorbar\": {\"outlinewidth\": 0, \"ticks\": \"\"}}, \"type\": \"scatterpolar\"}], \"scatterpolargl\": [{\"marker\": {\"colorbar\": {\"outlinewidth\": 0, \"ticks\": \"\"}}, \"type\": \"scatterpolargl\"}], \"scatterternary\": [{\"marker\": {\"colorbar\": {\"outlinewidth\": 0, \"ticks\": \"\"}}, \"type\": \"scatterternary\"}], \"surface\": [{\"colorbar\": {\"outlinewidth\": 0, \"ticks\": \"\"}, \"colorscale\": [[0.0, \"#0d0887\"], [0.1111111111111111, \"#46039f\"], [0.2222222222222222, \"#7201a8\"], [0.3333333333333333, \"#9c179e\"], [0.4444444444444444, \"#bd3786\"], [0.5555555555555556, \"#d8576b\"], [0.6666666666666666, \"#ed7953\"], [0.7777777777777778, \"#fb9f3a\"], [0.8888888888888888, \"#fdca26\"], [1.0, \"#f0f921\"]], \"type\": \"surface\"}], \"table\": [{\"cells\": {\"fill\": {\"color\": \"#EBF0F8\"}, \"line\": {\"color\": \"white\"}}, \"header\": {\"fill\": {\"color\": \"#C8D4E3\"}, \"line\": {\"color\": \"white\"}}, \"type\": \"table\"}]}, \"layout\": {\"annotationdefaults\": {\"arrowcolor\": \"#2a3f5f\", \"arrowhead\": 0, \"arrowwidth\": 1}, \"autotypenumbers\": \"strict\", \"coloraxis\": {\"colorbar\": {\"outlinewidth\": 0, \"ticks\": \"\"}}, \"colorscale\": {\"diverging\": [[0, \"#8e0152\"], [0.1, \"#c51b7d\"], [0.2, \"#de77ae\"], [0.3, \"#f1b6da\"], [0.4, \"#fde0ef\"], [0.5, \"#f7f7f7\"], [0.6, \"#e6f5d0\"], [0.7, \"#b8e186\"], [0.8, \"#7fbc41\"], [0.9, \"#4d9221\"], [1, \"#276419\"]], \"sequential\": [[0.0, \"#0d0887\"], [0.1111111111111111, \"#46039f\"], [0.2222222222222222, \"#7201a8\"], [0.3333333333333333, \"#9c179e\"], [0.4444444444444444, \"#bd3786\"], [0.5555555555555556, \"#d8576b\"], [0.6666666666666666, \"#ed7953\"], [0.7777777777777778, \"#fb9f3a\"], [0.8888888888888888, \"#fdca26\"], [1.0, \"#f0f921\"]], \"sequentialminus\": [[0.0, \"#0d0887\"], [0.1111111111111111, \"#46039f\"], [0.2222222222222222, \"#7201a8\"], [0.3333333333333333, \"#9c179e\"], [0.4444444444444444, \"#bd3786\"], [0.5555555555555556, \"#d8576b\"], [0.6666666666666666, \"#ed7953\"], [0.7777777777777778, \"#fb9f3a\"], [0.8888888888888888, \"#fdca26\"], [1.0, \"#f0f921\"]]}, \"colorway\": [\"#636efa\", \"#EF553B\", \"#00cc96\", \"#ab63fa\", \"#FFA15A\", \"#19d3f3\", \"#FF6692\", \"#B6E880\", \"#FF97FF\", \"#FECB52\"], \"font\": {\"color\": \"#2a3f5f\"}, \"geo\": {\"bgcolor\": \"white\", \"lakecolor\": \"white\", \"landcolor\": \"#E5ECF6\", \"showlakes\": true, \"showland\": true, \"subunitcolor\": \"white\"}, \"hoverlabel\": {\"align\": \"left\"}, \"hovermode\": \"closest\", \"mapbox\": {\"style\": \"light\"}, \"paper_bgcolor\": \"white\", \"plot_bgcolor\": \"#E5ECF6\", \"polar\": {\"angularaxis\": {\"gridcolor\": \"white\", \"linecolor\": \"white\", \"ticks\": \"\"}, \"bgcolor\": \"#E5ECF6\", \"radialaxis\": {\"gridcolor\": \"white\", \"linecolor\": \"white\", \"ticks\": \"\"}}, \"scene\": {\"xaxis\": {\"backgroundcolor\": \"#E5ECF6\", \"gridcolor\": \"white\", \"gridwidth\": 2, \"linecolor\": \"white\", \"showbackground\": true, \"ticks\": \"\", \"zerolinecolor\": \"white\"}, \"yaxis\": {\"backgroundcolor\": \"#E5ECF6\", \"gridcolor\": \"white\", \"gridwidth\": 2, \"linecolor\": \"white\", \"showbackground\": true, \"ticks\": \"\", \"zerolinecolor\": \"white\"}, \"zaxis\": {\"backgroundcolor\": \"#E5ECF6\", \"gridcolor\": \"white\", \"gridwidth\": 2, \"linecolor\": \"white\", \"showbackground\": true, \"ticks\": \"\", \"zerolinecolor\": \"white\"}}, \"shapedefaults\": {\"line\": {\"color\": \"#2a3f5f\"}}, \"ternary\": {\"aaxis\": {\"gridcolor\": \"white\", \"linecolor\": \"white\", \"ticks\": \"\"}, \"baxis\": {\"gridcolor\": \"white\", \"linecolor\": \"white\", \"ticks\": \"\"}, \"bgcolor\": \"#E5ECF6\", \"caxis\": {\"gridcolor\": \"white\", \"linecolor\": \"white\", \"ticks\": \"\"}}, \"title\": {\"x\": 0.05}, \"xaxis\": {\"automargin\": true, \"gridcolor\": \"white\", \"linecolor\": \"white\", \"ticks\": \"\", \"title\": {\"standoff\": 15}, \"zerolinecolor\": \"white\", \"zerolinewidth\": 2}, \"yaxis\": {\"automargin\": true, \"gridcolor\": \"white\", \"linecolor\": \"white\", \"ticks\": \"\", \"title\": {\"standoff\": 15}, \"zerolinecolor\": \"white\", \"zerolinewidth\": 2}}}, \"title\": {\"text\": \"ROC Curve\"}, \"width\": 800, \"xaxis\": {\"range\": [0, 1], \"title\": {\"text\": \"False Positive Rate (Sensitivty)\"}}, \"yaxis\": {\"range\": [0, 1], \"title\": {\"text\": \"True Positive Rate (1-Precision)\"}}},                        {\"responsive\": true}                    ).then(function(){\n                            \nvar gd = document.getElementById('c077b7b4-cb64-449c-b1dc-a645f56884ff');\nvar x = new MutationObserver(function (mutations, observer) {{\n        var display = window.getComputedStyle(gd).display;\n        if (!display || display === 'none') {{\n            console.log([gd, 'removed!']);\n            Plotly.purge(gd);\n            observer.disconnect();\n        }}\n}});\n\n// Listen for the removal of the full notebook cells\nvar notebookContainer = gd.closest('#notebook-container');\nif (notebookContainer) {{\n    x.observe(notebookContainer, {childList: true});\n}}\n\n// Listen for the clearing of the current output cell\nvar outputEl = gd.closest('.output');\nif (outputEl) {{\n    x.observe(outputEl, {childList: true});\n}}\n\n                        })                };                });            </script>        </div>"
     },
     "metadata": {}
    },
    {
     "output_type": "stream",
     "name": "stdout",
     "text": [
      "AUC ROC score: 0.511\n"
     ]
    }
   ],
   "source": [
    "fig, auc = classification_tools.calc_roc(models[model], X_val, y_val)\n",
    "fig.show()\n",
    "print(\"AUC ROC score: {:.3f}\".format(auc))"
   ]
  },
  {
   "cell_type": "code",
   "execution_count": 226,
   "metadata": {},
   "outputs": [
    {
     "output_type": "stream",
     "name": "stdout",
     "text": [
      " 1.06e+00: Ethnic Group_10\n 5.49e-01: Ethnic Group_18\n 4.54e-01: Ethnic Group_12\n-3.51e-01: Ethnic Group_4\n 3.43e-01: Ethnic Group_8\n 3.07e-01: Ethnic Group_19\n 2.89e-01: Ethnic Group_13\n-2.88e-01: Ethnic Group_20\n-2.43e-01: Ethnic Group_17\n 2.05e-01: Ethnic Group_5\n-1.89e-01: Ethnic Group_15\n-1.87e-01: Ethnic Group_7\n 1.38e-01: Nominal Gender_Male\n 1.02e-01: Ethnic Group_2\n-8.69e-02: Ethnic Group_9\n 7.24e-02: Ethnic Group_11\n-6.91e-02: Ethnic Group_6\n 3.23e-02: Ethnic Group_16\n 1.30e-02: Ethnic Group_3\n 8.52e-03: Ethnic Group_14\n"
     ]
    }
   ],
   "source": [
    "coefficients = classification_tools.get_feature_weights(cols, models[model])"
   ]
  },
  {
   "source": [
    "AUC score is about the same, but the ROC graph is now consistently above the baseline of 0.5 and is less sensitive to threshold choice. This model should generally perform more consistently against real data.\n",
    "\n",
    "What about Gender and Ethnicity Independently?"
   ],
   "cell_type": "markdown",
   "metadata": {}
  },
  {
   "cell_type": "code",
   "execution_count": 240,
   "metadata": {},
   "outputs": [
    {
     "output_type": "stream",
     "name": "stdout",
     "text": [
      "Training score: 0.642\nValidation Score:0.646\n"
     ]
    },
    {
     "output_type": "display_data",
     "data": {
      "application/vnd.plotly.v1+json": {
       "config": {
        "plotlyServerURL": "https://plot.ly"
       },
       "data": [
        {
         "hovertemplate": "x=%{x}<br>y=%{y}<extra></extra>",
         "legendgroup": "",
         "line": {
          "color": "#636efa",
          "dash": "solid"
         },
         "mode": "lines",
         "name": "",
         "orientation": "v",
         "showlegend": false,
         "type": "scatter",
         "x": [
          0,
          0.0006650041562759767,
          0.0021612635078969242,
          0.007564422277639235,
          0.01878636741479634,
          0.023524522028262676,
          0.027597672485453036,
          0.041479634247714045,
          0.10083125519534497,
          0.10141313383208644,
          0.10731504571903575,
          0.10881130507065669,
          0.1115544472152951,
          0.957689110556941,
          0.9730673316708229,
          0.9750623441396509,
          0.9752285951787198,
          0.9821280133000831,
          0.9833748960931006,
          0.9989193682460515,
          1
         ],
         "xaxis": "x",
         "y": [
          0,
          0.0006085501293169025,
          0.0022820629849383844,
          0.007606876616461281,
          0.023581317511029973,
          0.027689030883919063,
          0.033622394644758864,
          0.04822759774836452,
          0.10999543587403013,
          0.11075612353567625,
          0.11699376236117451,
          0.11927582534611289,
          0.12110147573406359,
          0.9572493534154876,
          0.9730716567777271,
          0.9745930321010193,
          0.975049444698007,
          0.9831127339114559,
          0.9847862467670775,
          0.9990871748060246,
          1
         ],
         "yaxis": "y"
        },
        {
         "hovertemplate": "x=%{x}<br>y=%{y}<extra></extra>",
         "legendgroup": "",
         "line": {
          "color": "rgba(50,50,50,0.2)",
          "dash": "solid"
         },
         "mode": "lines",
         "name": "",
         "orientation": "v",
         "showlegend": false,
         "type": "scatter",
         "x": [
          0,
          1
         ],
         "xaxis": "x",
         "y": [
          0,
          1
         ],
         "yaxis": "y"
        }
       ],
       "layout": {
        "autosize": false,
        "height": 800,
        "template": {
         "data": {
          "bar": [
           {
            "error_x": {
             "color": "#2a3f5f"
            },
            "error_y": {
             "color": "#2a3f5f"
            },
            "marker": {
             "line": {
              "color": "#E5ECF6",
              "width": 0.5
             }
            },
            "type": "bar"
           }
          ],
          "barpolar": [
           {
            "marker": {
             "line": {
              "color": "#E5ECF6",
              "width": 0.5
             }
            },
            "type": "barpolar"
           }
          ],
          "carpet": [
           {
            "aaxis": {
             "endlinecolor": "#2a3f5f",
             "gridcolor": "white",
             "linecolor": "white",
             "minorgridcolor": "white",
             "startlinecolor": "#2a3f5f"
            },
            "baxis": {
             "endlinecolor": "#2a3f5f",
             "gridcolor": "white",
             "linecolor": "white",
             "minorgridcolor": "white",
             "startlinecolor": "#2a3f5f"
            },
            "type": "carpet"
           }
          ],
          "choropleth": [
           {
            "colorbar": {
             "outlinewidth": 0,
             "ticks": ""
            },
            "type": "choropleth"
           }
          ],
          "contour": [
           {
            "colorbar": {
             "outlinewidth": 0,
             "ticks": ""
            },
            "colorscale": [
             [
              0,
              "#0d0887"
             ],
             [
              0.1111111111111111,
              "#46039f"
             ],
             [
              0.2222222222222222,
              "#7201a8"
             ],
             [
              0.3333333333333333,
              "#9c179e"
             ],
             [
              0.4444444444444444,
              "#bd3786"
             ],
             [
              0.5555555555555556,
              "#d8576b"
             ],
             [
              0.6666666666666666,
              "#ed7953"
             ],
             [
              0.7777777777777778,
              "#fb9f3a"
             ],
             [
              0.8888888888888888,
              "#fdca26"
             ],
             [
              1,
              "#f0f921"
             ]
            ],
            "type": "contour"
           }
          ],
          "contourcarpet": [
           {
            "colorbar": {
             "outlinewidth": 0,
             "ticks": ""
            },
            "type": "contourcarpet"
           }
          ],
          "heatmap": [
           {
            "colorbar": {
             "outlinewidth": 0,
             "ticks": ""
            },
            "colorscale": [
             [
              0,
              "#0d0887"
             ],
             [
              0.1111111111111111,
              "#46039f"
             ],
             [
              0.2222222222222222,
              "#7201a8"
             ],
             [
              0.3333333333333333,
              "#9c179e"
             ],
             [
              0.4444444444444444,
              "#bd3786"
             ],
             [
              0.5555555555555556,
              "#d8576b"
             ],
             [
              0.6666666666666666,
              "#ed7953"
             ],
             [
              0.7777777777777778,
              "#fb9f3a"
             ],
             [
              0.8888888888888888,
              "#fdca26"
             ],
             [
              1,
              "#f0f921"
             ]
            ],
            "type": "heatmap"
           }
          ],
          "heatmapgl": [
           {
            "colorbar": {
             "outlinewidth": 0,
             "ticks": ""
            },
            "colorscale": [
             [
              0,
              "#0d0887"
             ],
             [
              0.1111111111111111,
              "#46039f"
             ],
             [
              0.2222222222222222,
              "#7201a8"
             ],
             [
              0.3333333333333333,
              "#9c179e"
             ],
             [
              0.4444444444444444,
              "#bd3786"
             ],
             [
              0.5555555555555556,
              "#d8576b"
             ],
             [
              0.6666666666666666,
              "#ed7953"
             ],
             [
              0.7777777777777778,
              "#fb9f3a"
             ],
             [
              0.8888888888888888,
              "#fdca26"
             ],
             [
              1,
              "#f0f921"
             ]
            ],
            "type": "heatmapgl"
           }
          ],
          "histogram": [
           {
            "marker": {
             "colorbar": {
              "outlinewidth": 0,
              "ticks": ""
             }
            },
            "type": "histogram"
           }
          ],
          "histogram2d": [
           {
            "colorbar": {
             "outlinewidth": 0,
             "ticks": ""
            },
            "colorscale": [
             [
              0,
              "#0d0887"
             ],
             [
              0.1111111111111111,
              "#46039f"
             ],
             [
              0.2222222222222222,
              "#7201a8"
             ],
             [
              0.3333333333333333,
              "#9c179e"
             ],
             [
              0.4444444444444444,
              "#bd3786"
             ],
             [
              0.5555555555555556,
              "#d8576b"
             ],
             [
              0.6666666666666666,
              "#ed7953"
             ],
             [
              0.7777777777777778,
              "#fb9f3a"
             ],
             [
              0.8888888888888888,
              "#fdca26"
             ],
             [
              1,
              "#f0f921"
             ]
            ],
            "type": "histogram2d"
           }
          ],
          "histogram2dcontour": [
           {
            "colorbar": {
             "outlinewidth": 0,
             "ticks": ""
            },
            "colorscale": [
             [
              0,
              "#0d0887"
             ],
             [
              0.1111111111111111,
              "#46039f"
             ],
             [
              0.2222222222222222,
              "#7201a8"
             ],
             [
              0.3333333333333333,
              "#9c179e"
             ],
             [
              0.4444444444444444,
              "#bd3786"
             ],
             [
              0.5555555555555556,
              "#d8576b"
             ],
             [
              0.6666666666666666,
              "#ed7953"
             ],
             [
              0.7777777777777778,
              "#fb9f3a"
             ],
             [
              0.8888888888888888,
              "#fdca26"
             ],
             [
              1,
              "#f0f921"
             ]
            ],
            "type": "histogram2dcontour"
           }
          ],
          "mesh3d": [
           {
            "colorbar": {
             "outlinewidth": 0,
             "ticks": ""
            },
            "type": "mesh3d"
           }
          ],
          "parcoords": [
           {
            "line": {
             "colorbar": {
              "outlinewidth": 0,
              "ticks": ""
             }
            },
            "type": "parcoords"
           }
          ],
          "pie": [
           {
            "automargin": true,
            "type": "pie"
           }
          ],
          "scatter": [
           {
            "marker": {
             "colorbar": {
              "outlinewidth": 0,
              "ticks": ""
             }
            },
            "type": "scatter"
           }
          ],
          "scatter3d": [
           {
            "line": {
             "colorbar": {
              "outlinewidth": 0,
              "ticks": ""
             }
            },
            "marker": {
             "colorbar": {
              "outlinewidth": 0,
              "ticks": ""
             }
            },
            "type": "scatter3d"
           }
          ],
          "scattercarpet": [
           {
            "marker": {
             "colorbar": {
              "outlinewidth": 0,
              "ticks": ""
             }
            },
            "type": "scattercarpet"
           }
          ],
          "scattergeo": [
           {
            "marker": {
             "colorbar": {
              "outlinewidth": 0,
              "ticks": ""
             }
            },
            "type": "scattergeo"
           }
          ],
          "scattergl": [
           {
            "marker": {
             "colorbar": {
              "outlinewidth": 0,
              "ticks": ""
             }
            },
            "type": "scattergl"
           }
          ],
          "scattermapbox": [
           {
            "marker": {
             "colorbar": {
              "outlinewidth": 0,
              "ticks": ""
             }
            },
            "type": "scattermapbox"
           }
          ],
          "scatterpolar": [
           {
            "marker": {
             "colorbar": {
              "outlinewidth": 0,
              "ticks": ""
             }
            },
            "type": "scatterpolar"
           }
          ],
          "scatterpolargl": [
           {
            "marker": {
             "colorbar": {
              "outlinewidth": 0,
              "ticks": ""
             }
            },
            "type": "scatterpolargl"
           }
          ],
          "scatterternary": [
           {
            "marker": {
             "colorbar": {
              "outlinewidth": 0,
              "ticks": ""
             }
            },
            "type": "scatterternary"
           }
          ],
          "surface": [
           {
            "colorbar": {
             "outlinewidth": 0,
             "ticks": ""
            },
            "colorscale": [
             [
              0,
              "#0d0887"
             ],
             [
              0.1111111111111111,
              "#46039f"
             ],
             [
              0.2222222222222222,
              "#7201a8"
             ],
             [
              0.3333333333333333,
              "#9c179e"
             ],
             [
              0.4444444444444444,
              "#bd3786"
             ],
             [
              0.5555555555555556,
              "#d8576b"
             ],
             [
              0.6666666666666666,
              "#ed7953"
             ],
             [
              0.7777777777777778,
              "#fb9f3a"
             ],
             [
              0.8888888888888888,
              "#fdca26"
             ],
             [
              1,
              "#f0f921"
             ]
            ],
            "type": "surface"
           }
          ],
          "table": [
           {
            "cells": {
             "fill": {
              "color": "#EBF0F8"
             },
             "line": {
              "color": "white"
             }
            },
            "header": {
             "fill": {
              "color": "#C8D4E3"
             },
             "line": {
              "color": "white"
             }
            },
            "type": "table"
           }
          ]
         },
         "layout": {
          "annotationdefaults": {
           "arrowcolor": "#2a3f5f",
           "arrowhead": 0,
           "arrowwidth": 1
          },
          "autotypenumbers": "strict",
          "coloraxis": {
           "colorbar": {
            "outlinewidth": 0,
            "ticks": ""
           }
          },
          "colorscale": {
           "diverging": [
            [
             0,
             "#8e0152"
            ],
            [
             0.1,
             "#c51b7d"
            ],
            [
             0.2,
             "#de77ae"
            ],
            [
             0.3,
             "#f1b6da"
            ],
            [
             0.4,
             "#fde0ef"
            ],
            [
             0.5,
             "#f7f7f7"
            ],
            [
             0.6,
             "#e6f5d0"
            ],
            [
             0.7,
             "#b8e186"
            ],
            [
             0.8,
             "#7fbc41"
            ],
            [
             0.9,
             "#4d9221"
            ],
            [
             1,
             "#276419"
            ]
           ],
           "sequential": [
            [
             0,
             "#0d0887"
            ],
            [
             0.1111111111111111,
             "#46039f"
            ],
            [
             0.2222222222222222,
             "#7201a8"
            ],
            [
             0.3333333333333333,
             "#9c179e"
            ],
            [
             0.4444444444444444,
             "#bd3786"
            ],
            [
             0.5555555555555556,
             "#d8576b"
            ],
            [
             0.6666666666666666,
             "#ed7953"
            ],
            [
             0.7777777777777778,
             "#fb9f3a"
            ],
            [
             0.8888888888888888,
             "#fdca26"
            ],
            [
             1,
             "#f0f921"
            ]
           ],
           "sequentialminus": [
            [
             0,
             "#0d0887"
            ],
            [
             0.1111111111111111,
             "#46039f"
            ],
            [
             0.2222222222222222,
             "#7201a8"
            ],
            [
             0.3333333333333333,
             "#9c179e"
            ],
            [
             0.4444444444444444,
             "#bd3786"
            ],
            [
             0.5555555555555556,
             "#d8576b"
            ],
            [
             0.6666666666666666,
             "#ed7953"
            ],
            [
             0.7777777777777778,
             "#fb9f3a"
            ],
            [
             0.8888888888888888,
             "#fdca26"
            ],
            [
             1,
             "#f0f921"
            ]
           ]
          },
          "colorway": [
           "#636efa",
           "#EF553B",
           "#00cc96",
           "#ab63fa",
           "#FFA15A",
           "#19d3f3",
           "#FF6692",
           "#B6E880",
           "#FF97FF",
           "#FECB52"
          ],
          "font": {
           "color": "#2a3f5f"
          },
          "geo": {
           "bgcolor": "white",
           "lakecolor": "white",
           "landcolor": "#E5ECF6",
           "showlakes": true,
           "showland": true,
           "subunitcolor": "white"
          },
          "hoverlabel": {
           "align": "left"
          },
          "hovermode": "closest",
          "mapbox": {
           "style": "light"
          },
          "paper_bgcolor": "white",
          "plot_bgcolor": "#E5ECF6",
          "polar": {
           "angularaxis": {
            "gridcolor": "white",
            "linecolor": "white",
            "ticks": ""
           },
           "bgcolor": "#E5ECF6",
           "radialaxis": {
            "gridcolor": "white",
            "linecolor": "white",
            "ticks": ""
           }
          },
          "scene": {
           "xaxis": {
            "backgroundcolor": "#E5ECF6",
            "gridcolor": "white",
            "gridwidth": 2,
            "linecolor": "white",
            "showbackground": true,
            "ticks": "",
            "zerolinecolor": "white"
           },
           "yaxis": {
            "backgroundcolor": "#E5ECF6",
            "gridcolor": "white",
            "gridwidth": 2,
            "linecolor": "white",
            "showbackground": true,
            "ticks": "",
            "zerolinecolor": "white"
           },
           "zaxis": {
            "backgroundcolor": "#E5ECF6",
            "gridcolor": "white",
            "gridwidth": 2,
            "linecolor": "white",
            "showbackground": true,
            "ticks": "",
            "zerolinecolor": "white"
           }
          },
          "shapedefaults": {
           "line": {
            "color": "#2a3f5f"
           }
          },
          "ternary": {
           "aaxis": {
            "gridcolor": "white",
            "linecolor": "white",
            "ticks": ""
           },
           "baxis": {
            "gridcolor": "white",
            "linecolor": "white",
            "ticks": ""
           },
           "bgcolor": "#E5ECF6",
           "caxis": {
            "gridcolor": "white",
            "linecolor": "white",
            "ticks": ""
           }
          },
          "title": {
           "x": 0.05
          },
          "xaxis": {
           "automargin": true,
           "gridcolor": "white",
           "linecolor": "white",
           "ticks": "",
           "title": {
            "standoff": 15
           },
           "zerolinecolor": "white",
           "zerolinewidth": 2
          },
          "yaxis": {
           "automargin": true,
           "gridcolor": "white",
           "linecolor": "white",
           "ticks": "",
           "title": {
            "standoff": 15
           },
           "zerolinecolor": "white",
           "zerolinewidth": 2
          }
         }
        },
        "title": {
         "text": "ROC Curve"
        },
        "width": 800,
        "xaxis": {
         "range": [
          0,
          1
         ],
         "title": {
          "text": "False Positive Rate (Sensitivty)"
         }
        },
        "yaxis": {
         "range": [
          0,
          1
         ],
         "title": {
          "text": "True Positive Rate (1-Precision)"
         }
        }
       }
      },
      "text/html": "<div>                            <div id=\"e97474af-0dba-461b-9676-878a20ebe96e\" class=\"plotly-graph-div\" style=\"height:800px; width:800px;\"></div>            <script type=\"text/javascript\">                require([\"plotly\"], function(Plotly) {                    window.PLOTLYENV=window.PLOTLYENV || {};                                    if (document.getElementById(\"e97474af-0dba-461b-9676-878a20ebe96e\")) {                    Plotly.newPlot(                        \"e97474af-0dba-461b-9676-878a20ebe96e\",                        [{\"hovertemplate\": \"x=%{x}<br>y=%{y}<extra></extra>\", \"legendgroup\": \"\", \"line\": {\"color\": \"#636efa\", \"dash\": \"solid\"}, \"mode\": \"lines\", \"name\": \"\", \"orientation\": \"v\", \"showlegend\": false, \"type\": \"scatter\", \"x\": [0.0, 0.0006650041562759767, 0.0021612635078969242, 0.007564422277639235, 0.01878636741479634, 0.023524522028262676, 0.027597672485453036, 0.041479634247714045, 0.10083125519534497, 0.10141313383208644, 0.10731504571903575, 0.10881130507065669, 0.1115544472152951, 0.957689110556941, 0.9730673316708229, 0.9750623441396509, 0.9752285951787198, 0.9821280133000831, 0.9833748960931006, 0.9989193682460515, 1.0], \"xaxis\": \"x\", \"y\": [0.0, 0.0006085501293169025, 0.0022820629849383844, 0.007606876616461281, 0.023581317511029973, 0.027689030883919063, 0.033622394644758864, 0.04822759774836452, 0.10999543587403013, 0.11075612353567625, 0.11699376236117451, 0.11927582534611289, 0.12110147573406359, 0.9572493534154876, 0.9730716567777271, 0.9745930321010193, 0.975049444698007, 0.9831127339114559, 0.9847862467670775, 0.9990871748060246, 1.0], \"yaxis\": \"y\"}, {\"hovertemplate\": \"x=%{x}<br>y=%{y}<extra></extra>\", \"legendgroup\": \"\", \"line\": {\"color\": \"rgba(50,50,50,0.2)\", \"dash\": \"solid\"}, \"mode\": \"lines\", \"name\": \"\", \"orientation\": \"v\", \"showlegend\": false, \"type\": \"scatter\", \"x\": [0, 1], \"xaxis\": \"x\", \"y\": [0, 1], \"yaxis\": \"y\"}],                        {\"autosize\": false, \"height\": 800, \"template\": {\"data\": {\"bar\": [{\"error_x\": {\"color\": \"#2a3f5f\"}, \"error_y\": {\"color\": \"#2a3f5f\"}, \"marker\": {\"line\": {\"color\": \"#E5ECF6\", \"width\": 0.5}}, \"type\": \"bar\"}], \"barpolar\": [{\"marker\": {\"line\": {\"color\": \"#E5ECF6\", \"width\": 0.5}}, \"type\": \"barpolar\"}], \"carpet\": [{\"aaxis\": {\"endlinecolor\": \"#2a3f5f\", \"gridcolor\": \"white\", \"linecolor\": \"white\", \"minorgridcolor\": \"white\", \"startlinecolor\": \"#2a3f5f\"}, \"baxis\": {\"endlinecolor\": \"#2a3f5f\", \"gridcolor\": \"white\", \"linecolor\": \"white\", \"minorgridcolor\": \"white\", \"startlinecolor\": \"#2a3f5f\"}, \"type\": \"carpet\"}], \"choropleth\": [{\"colorbar\": {\"outlinewidth\": 0, \"ticks\": \"\"}, \"type\": \"choropleth\"}], \"contour\": [{\"colorbar\": {\"outlinewidth\": 0, \"ticks\": \"\"}, \"colorscale\": [[0.0, \"#0d0887\"], [0.1111111111111111, \"#46039f\"], [0.2222222222222222, \"#7201a8\"], [0.3333333333333333, \"#9c179e\"], [0.4444444444444444, \"#bd3786\"], [0.5555555555555556, \"#d8576b\"], [0.6666666666666666, \"#ed7953\"], [0.7777777777777778, \"#fb9f3a\"], [0.8888888888888888, \"#fdca26\"], [1.0, \"#f0f921\"]], \"type\": \"contour\"}], \"contourcarpet\": [{\"colorbar\": {\"outlinewidth\": 0, \"ticks\": \"\"}, \"type\": \"contourcarpet\"}], \"heatmap\": [{\"colorbar\": {\"outlinewidth\": 0, \"ticks\": \"\"}, \"colorscale\": [[0.0, \"#0d0887\"], [0.1111111111111111, \"#46039f\"], [0.2222222222222222, \"#7201a8\"], [0.3333333333333333, \"#9c179e\"], [0.4444444444444444, \"#bd3786\"], [0.5555555555555556, \"#d8576b\"], [0.6666666666666666, \"#ed7953\"], [0.7777777777777778, \"#fb9f3a\"], [0.8888888888888888, \"#fdca26\"], [1.0, \"#f0f921\"]], \"type\": \"heatmap\"}], \"heatmapgl\": [{\"colorbar\": {\"outlinewidth\": 0, \"ticks\": \"\"}, \"colorscale\": [[0.0, \"#0d0887\"], [0.1111111111111111, \"#46039f\"], [0.2222222222222222, \"#7201a8\"], [0.3333333333333333, \"#9c179e\"], [0.4444444444444444, \"#bd3786\"], [0.5555555555555556, \"#d8576b\"], [0.6666666666666666, \"#ed7953\"], [0.7777777777777778, \"#fb9f3a\"], [0.8888888888888888, \"#fdca26\"], [1.0, \"#f0f921\"]], \"type\": \"heatmapgl\"}], \"histogram\": [{\"marker\": {\"colorbar\": {\"outlinewidth\": 0, \"ticks\": \"\"}}, \"type\": \"histogram\"}], \"histogram2d\": [{\"colorbar\": {\"outlinewidth\": 0, \"ticks\": \"\"}, \"colorscale\": [[0.0, \"#0d0887\"], [0.1111111111111111, \"#46039f\"], [0.2222222222222222, \"#7201a8\"], [0.3333333333333333, \"#9c179e\"], [0.4444444444444444, \"#bd3786\"], [0.5555555555555556, \"#d8576b\"], [0.6666666666666666, \"#ed7953\"], [0.7777777777777778, \"#fb9f3a\"], [0.8888888888888888, \"#fdca26\"], [1.0, \"#f0f921\"]], \"type\": \"histogram2d\"}], \"histogram2dcontour\": [{\"colorbar\": {\"outlinewidth\": 0, \"ticks\": \"\"}, \"colorscale\": [[0.0, \"#0d0887\"], [0.1111111111111111, \"#46039f\"], [0.2222222222222222, \"#7201a8\"], [0.3333333333333333, \"#9c179e\"], [0.4444444444444444, \"#bd3786\"], [0.5555555555555556, \"#d8576b\"], [0.6666666666666666, \"#ed7953\"], [0.7777777777777778, \"#fb9f3a\"], [0.8888888888888888, \"#fdca26\"], [1.0, \"#f0f921\"]], \"type\": \"histogram2dcontour\"}], \"mesh3d\": [{\"colorbar\": {\"outlinewidth\": 0, \"ticks\": \"\"}, \"type\": \"mesh3d\"}], \"parcoords\": [{\"line\": {\"colorbar\": {\"outlinewidth\": 0, \"ticks\": \"\"}}, \"type\": \"parcoords\"}], \"pie\": [{\"automargin\": true, \"type\": \"pie\"}], \"scatter\": [{\"marker\": {\"colorbar\": {\"outlinewidth\": 0, \"ticks\": \"\"}}, \"type\": \"scatter\"}], \"scatter3d\": [{\"line\": {\"colorbar\": {\"outlinewidth\": 0, \"ticks\": \"\"}}, \"marker\": {\"colorbar\": {\"outlinewidth\": 0, \"ticks\": \"\"}}, \"type\": \"scatter3d\"}], \"scattercarpet\": [{\"marker\": {\"colorbar\": {\"outlinewidth\": 0, \"ticks\": \"\"}}, \"type\": \"scattercarpet\"}], \"scattergeo\": [{\"marker\": {\"colorbar\": {\"outlinewidth\": 0, \"ticks\": \"\"}}, \"type\": \"scattergeo\"}], \"scattergl\": [{\"marker\": {\"colorbar\": {\"outlinewidth\": 0, \"ticks\": \"\"}}, \"type\": \"scattergl\"}], \"scattermapbox\": [{\"marker\": {\"colorbar\": {\"outlinewidth\": 0, \"ticks\": \"\"}}, \"type\": \"scattermapbox\"}], \"scatterpolar\": [{\"marker\": {\"colorbar\": {\"outlinewidth\": 0, \"ticks\": \"\"}}, \"type\": \"scatterpolar\"}], \"scatterpolargl\": [{\"marker\": {\"colorbar\": {\"outlinewidth\": 0, \"ticks\": \"\"}}, \"type\": \"scatterpolargl\"}], \"scatterternary\": [{\"marker\": {\"colorbar\": {\"outlinewidth\": 0, \"ticks\": \"\"}}, \"type\": \"scatterternary\"}], \"surface\": [{\"colorbar\": {\"outlinewidth\": 0, \"ticks\": \"\"}, \"colorscale\": [[0.0, \"#0d0887\"], [0.1111111111111111, \"#46039f\"], [0.2222222222222222, \"#7201a8\"], [0.3333333333333333, \"#9c179e\"], [0.4444444444444444, \"#bd3786\"], [0.5555555555555556, \"#d8576b\"], [0.6666666666666666, \"#ed7953\"], [0.7777777777777778, \"#fb9f3a\"], [0.8888888888888888, \"#fdca26\"], [1.0, \"#f0f921\"]], \"type\": \"surface\"}], \"table\": [{\"cells\": {\"fill\": {\"color\": \"#EBF0F8\"}, \"line\": {\"color\": \"white\"}}, \"header\": {\"fill\": {\"color\": \"#C8D4E3\"}, \"line\": {\"color\": \"white\"}}, \"type\": \"table\"}]}, \"layout\": {\"annotationdefaults\": {\"arrowcolor\": \"#2a3f5f\", \"arrowhead\": 0, \"arrowwidth\": 1}, \"autotypenumbers\": \"strict\", \"coloraxis\": {\"colorbar\": {\"outlinewidth\": 0, \"ticks\": \"\"}}, \"colorscale\": {\"diverging\": [[0, \"#8e0152\"], [0.1, \"#c51b7d\"], [0.2, \"#de77ae\"], [0.3, \"#f1b6da\"], [0.4, \"#fde0ef\"], [0.5, \"#f7f7f7\"], [0.6, \"#e6f5d0\"], [0.7, \"#b8e186\"], [0.8, \"#7fbc41\"], [0.9, \"#4d9221\"], [1, \"#276419\"]], \"sequential\": [[0.0, \"#0d0887\"], [0.1111111111111111, \"#46039f\"], [0.2222222222222222, \"#7201a8\"], [0.3333333333333333, \"#9c179e\"], [0.4444444444444444, \"#bd3786\"], [0.5555555555555556, \"#d8576b\"], [0.6666666666666666, \"#ed7953\"], [0.7777777777777778, \"#fb9f3a\"], [0.8888888888888888, \"#fdca26\"], [1.0, \"#f0f921\"]], \"sequentialminus\": [[0.0, \"#0d0887\"], [0.1111111111111111, \"#46039f\"], [0.2222222222222222, \"#7201a8\"], [0.3333333333333333, \"#9c179e\"], [0.4444444444444444, \"#bd3786\"], [0.5555555555555556, \"#d8576b\"], [0.6666666666666666, \"#ed7953\"], [0.7777777777777778, \"#fb9f3a\"], [0.8888888888888888, \"#fdca26\"], [1.0, \"#f0f921\"]]}, \"colorway\": [\"#636efa\", \"#EF553B\", \"#00cc96\", \"#ab63fa\", \"#FFA15A\", \"#19d3f3\", \"#FF6692\", \"#B6E880\", \"#FF97FF\", \"#FECB52\"], \"font\": {\"color\": \"#2a3f5f\"}, \"geo\": {\"bgcolor\": \"white\", \"lakecolor\": \"white\", \"landcolor\": \"#E5ECF6\", \"showlakes\": true, \"showland\": true, \"subunitcolor\": \"white\"}, \"hoverlabel\": {\"align\": \"left\"}, \"hovermode\": \"closest\", \"mapbox\": {\"style\": \"light\"}, \"paper_bgcolor\": \"white\", \"plot_bgcolor\": \"#E5ECF6\", \"polar\": {\"angularaxis\": {\"gridcolor\": \"white\", \"linecolor\": \"white\", \"ticks\": \"\"}, \"bgcolor\": \"#E5ECF6\", \"radialaxis\": {\"gridcolor\": \"white\", \"linecolor\": \"white\", \"ticks\": \"\"}}, \"scene\": {\"xaxis\": {\"backgroundcolor\": \"#E5ECF6\", \"gridcolor\": \"white\", \"gridwidth\": 2, \"linecolor\": \"white\", \"showbackground\": true, \"ticks\": \"\", \"zerolinecolor\": \"white\"}, \"yaxis\": {\"backgroundcolor\": \"#E5ECF6\", \"gridcolor\": \"white\", \"gridwidth\": 2, \"linecolor\": \"white\", \"showbackground\": true, \"ticks\": \"\", \"zerolinecolor\": \"white\"}, \"zaxis\": {\"backgroundcolor\": \"#E5ECF6\", \"gridcolor\": \"white\", \"gridwidth\": 2, \"linecolor\": \"white\", \"showbackground\": true, \"ticks\": \"\", \"zerolinecolor\": \"white\"}}, \"shapedefaults\": {\"line\": {\"color\": \"#2a3f5f\"}}, \"ternary\": {\"aaxis\": {\"gridcolor\": \"white\", \"linecolor\": \"white\", \"ticks\": \"\"}, \"baxis\": {\"gridcolor\": \"white\", \"linecolor\": \"white\", \"ticks\": \"\"}, \"bgcolor\": \"#E5ECF6\", \"caxis\": {\"gridcolor\": \"white\", \"linecolor\": \"white\", \"ticks\": \"\"}}, \"title\": {\"x\": 0.05}, \"xaxis\": {\"automargin\": true, \"gridcolor\": \"white\", \"linecolor\": \"white\", \"ticks\": \"\", \"title\": {\"standoff\": 15}, \"zerolinecolor\": \"white\", \"zerolinewidth\": 2}, \"yaxis\": {\"automargin\": true, \"gridcolor\": \"white\", \"linecolor\": \"white\", \"ticks\": \"\", \"title\": {\"standoff\": 15}, \"zerolinecolor\": \"white\", \"zerolinewidth\": 2}}}, \"title\": {\"text\": \"ROC Curve\"}, \"width\": 800, \"xaxis\": {\"range\": [0, 1], \"title\": {\"text\": \"False Positive Rate (Sensitivty)\"}}, \"yaxis\": {\"range\": [0, 1], \"title\": {\"text\": \"True Positive Rate (1-Precision)\"}}},                        {\"responsive\": true}                    ).then(function(){\n                            \nvar gd = document.getElementById('e97474af-0dba-461b-9676-878a20ebe96e');\nvar x = new MutationObserver(function (mutations, observer) {{\n        var display = window.getComputedStyle(gd).display;\n        if (!display || display === 'none') {{\n            console.log([gd, 'removed!']);\n            Plotly.purge(gd);\n            observer.disconnect();\n        }}\n}});\n\n// Listen for the removal of the full notebook cells\nvar notebookContainer = gd.closest('#notebook-container');\nif (notebookContainer) {{\n    x.observe(notebookContainer, {childList: true});\n}}\n\n// Listen for the clearing of the current output cell\nvar outputEl = gd.closest('.output');\nif (outputEl) {{\n    x.observe(outputEl, {childList: true});\n}}\n\n                        })                };                });            </script>        </div>"
     },
     "metadata": {}
    },
    {
     "output_type": "stream",
     "name": "stdout",
     "text": [
      "AUC ROC score: 0.505\nCoefficents:\n 1.08e+00: Ethnic Group_10\n 5.67e-01: Ethnic Group_18\n 4.68e-01: Ethnic Group_12\n-3.61e-01: Ethnic Group_4\n 3.59e-01: Ethnic Group_8\n 3.14e-01: Ethnic Group_19\n 3.08e-01: Ethnic Group_13\n-2.85e-01: Ethnic Group_20\n-2.24e-01: Ethnic Group_17\n 2.13e-01: Ethnic Group_5\n-1.71e-01: Ethnic Group_7\n-1.67e-01: Ethnic Group_15\n 1.03e-01: Ethnic Group_2\n-6.96e-02: Ethnic Group_9\n-6.44e-02: Ethnic Group_6\n 5.29e-02: Ethnic Group_11\n 4.69e-02: Ethnic Group_16\n 2.59e-02: Ethnic Group_14\n 1.48e-02: Ethnic Group_3\n"
     ]
    }
   ],
   "source": [
    "cols = X_train_init.columns[X_train_init.columns.str.contains(\"Ethnic Group.*\", regex=True)].to_list()\n",
    "\n",
    "X_train = X_train_init[cols]\n",
    "X_val = X_val_init[cols]\n",
    "\n",
    "from sklearn.linear_model import LogisticRegression\n",
    "\n",
    "models = {}\n",
    "\n",
    "model=\"Ethnicity\"\n",
    "\n",
    "models[model] = LogisticRegression(\n",
    "    penalty=\"none\"\n",
    "    )\n",
    "\n",
    "models[model].fit(X_train, y_train)\n",
    "\n",
    "print(\"Training score: {:.3f}\\nValidation Score:{:.3f}\".format(models[model].score(X_train, y_train), models[model].score(X_val, y_val)))\n",
    "\n",
    "fig, auc = classification_tools.calc_roc(models[model], X_val, y_val)\n",
    "fig.show()\n",
    "print(\"AUC ROC score: {:.3f}\".format(auc))\n",
    "\n",
    "print(\"Coefficents:\")\n",
    "coefficients = classification_tools.get_feature_weights(cols, models[model])"
   ]
  },
  {
   "cell_type": "code",
   "execution_count": 241,
   "metadata": {},
   "outputs": [
    {
     "output_type": "stream",
     "name": "stdout",
     "text": [
      "Training score: 0.642\nValidation Score:0.647\n"
     ]
    },
    {
     "output_type": "display_data",
     "data": {
      "application/vnd.plotly.v1+json": {
       "config": {
        "plotlyServerURL": "https://plot.ly"
       },
       "data": [
        {
         "hovertemplate": "x=%{x}<br>y=%{y}<extra></extra>",
         "legendgroup": "",
         "line": {
          "color": "#636efa",
          "dash": "solid"
         },
         "mode": "lines",
         "name": "",
         "orientation": "v",
         "showlegend": false,
         "type": "scatter",
         "x": [
          0,
          0.8382377389858686,
          1
         ],
         "xaxis": "x",
         "y": [
          0,
          0.8551650692225772,
          1
         ],
         "yaxis": "y"
        },
        {
         "hovertemplate": "x=%{x}<br>y=%{y}<extra></extra>",
         "legendgroup": "",
         "line": {
          "color": "rgba(50,50,50,0.2)",
          "dash": "solid"
         },
         "mode": "lines",
         "name": "",
         "orientation": "v",
         "showlegend": false,
         "type": "scatter",
         "x": [
          0,
          1
         ],
         "xaxis": "x",
         "y": [
          0,
          1
         ],
         "yaxis": "y"
        }
       ],
       "layout": {
        "autosize": false,
        "height": 800,
        "template": {
         "data": {
          "bar": [
           {
            "error_x": {
             "color": "#2a3f5f"
            },
            "error_y": {
             "color": "#2a3f5f"
            },
            "marker": {
             "line": {
              "color": "#E5ECF6",
              "width": 0.5
             }
            },
            "type": "bar"
           }
          ],
          "barpolar": [
           {
            "marker": {
             "line": {
              "color": "#E5ECF6",
              "width": 0.5
             }
            },
            "type": "barpolar"
           }
          ],
          "carpet": [
           {
            "aaxis": {
             "endlinecolor": "#2a3f5f",
             "gridcolor": "white",
             "linecolor": "white",
             "minorgridcolor": "white",
             "startlinecolor": "#2a3f5f"
            },
            "baxis": {
             "endlinecolor": "#2a3f5f",
             "gridcolor": "white",
             "linecolor": "white",
             "minorgridcolor": "white",
             "startlinecolor": "#2a3f5f"
            },
            "type": "carpet"
           }
          ],
          "choropleth": [
           {
            "colorbar": {
             "outlinewidth": 0,
             "ticks": ""
            },
            "type": "choropleth"
           }
          ],
          "contour": [
           {
            "colorbar": {
             "outlinewidth": 0,
             "ticks": ""
            },
            "colorscale": [
             [
              0,
              "#0d0887"
             ],
             [
              0.1111111111111111,
              "#46039f"
             ],
             [
              0.2222222222222222,
              "#7201a8"
             ],
             [
              0.3333333333333333,
              "#9c179e"
             ],
             [
              0.4444444444444444,
              "#bd3786"
             ],
             [
              0.5555555555555556,
              "#d8576b"
             ],
             [
              0.6666666666666666,
              "#ed7953"
             ],
             [
              0.7777777777777778,
              "#fb9f3a"
             ],
             [
              0.8888888888888888,
              "#fdca26"
             ],
             [
              1,
              "#f0f921"
             ]
            ],
            "type": "contour"
           }
          ],
          "contourcarpet": [
           {
            "colorbar": {
             "outlinewidth": 0,
             "ticks": ""
            },
            "type": "contourcarpet"
           }
          ],
          "heatmap": [
           {
            "colorbar": {
             "outlinewidth": 0,
             "ticks": ""
            },
            "colorscale": [
             [
              0,
              "#0d0887"
             ],
             [
              0.1111111111111111,
              "#46039f"
             ],
             [
              0.2222222222222222,
              "#7201a8"
             ],
             [
              0.3333333333333333,
              "#9c179e"
             ],
             [
              0.4444444444444444,
              "#bd3786"
             ],
             [
              0.5555555555555556,
              "#d8576b"
             ],
             [
              0.6666666666666666,
              "#ed7953"
             ],
             [
              0.7777777777777778,
              "#fb9f3a"
             ],
             [
              0.8888888888888888,
              "#fdca26"
             ],
             [
              1,
              "#f0f921"
             ]
            ],
            "type": "heatmap"
           }
          ],
          "heatmapgl": [
           {
            "colorbar": {
             "outlinewidth": 0,
             "ticks": ""
            },
            "colorscale": [
             [
              0,
              "#0d0887"
             ],
             [
              0.1111111111111111,
              "#46039f"
             ],
             [
              0.2222222222222222,
              "#7201a8"
             ],
             [
              0.3333333333333333,
              "#9c179e"
             ],
             [
              0.4444444444444444,
              "#bd3786"
             ],
             [
              0.5555555555555556,
              "#d8576b"
             ],
             [
              0.6666666666666666,
              "#ed7953"
             ],
             [
              0.7777777777777778,
              "#fb9f3a"
             ],
             [
              0.8888888888888888,
              "#fdca26"
             ],
             [
              1,
              "#f0f921"
             ]
            ],
            "type": "heatmapgl"
           }
          ],
          "histogram": [
           {
            "marker": {
             "colorbar": {
              "outlinewidth": 0,
              "ticks": ""
             }
            },
            "type": "histogram"
           }
          ],
          "histogram2d": [
           {
            "colorbar": {
             "outlinewidth": 0,
             "ticks": ""
            },
            "colorscale": [
             [
              0,
              "#0d0887"
             ],
             [
              0.1111111111111111,
              "#46039f"
             ],
             [
              0.2222222222222222,
              "#7201a8"
             ],
             [
              0.3333333333333333,
              "#9c179e"
             ],
             [
              0.4444444444444444,
              "#bd3786"
             ],
             [
              0.5555555555555556,
              "#d8576b"
             ],
             [
              0.6666666666666666,
              "#ed7953"
             ],
             [
              0.7777777777777778,
              "#fb9f3a"
             ],
             [
              0.8888888888888888,
              "#fdca26"
             ],
             [
              1,
              "#f0f921"
             ]
            ],
            "type": "histogram2d"
           }
          ],
          "histogram2dcontour": [
           {
            "colorbar": {
             "outlinewidth": 0,
             "ticks": ""
            },
            "colorscale": [
             [
              0,
              "#0d0887"
             ],
             [
              0.1111111111111111,
              "#46039f"
             ],
             [
              0.2222222222222222,
              "#7201a8"
             ],
             [
              0.3333333333333333,
              "#9c179e"
             ],
             [
              0.4444444444444444,
              "#bd3786"
             ],
             [
              0.5555555555555556,
              "#d8576b"
             ],
             [
              0.6666666666666666,
              "#ed7953"
             ],
             [
              0.7777777777777778,
              "#fb9f3a"
             ],
             [
              0.8888888888888888,
              "#fdca26"
             ],
             [
              1,
              "#f0f921"
             ]
            ],
            "type": "histogram2dcontour"
           }
          ],
          "mesh3d": [
           {
            "colorbar": {
             "outlinewidth": 0,
             "ticks": ""
            },
            "type": "mesh3d"
           }
          ],
          "parcoords": [
           {
            "line": {
             "colorbar": {
              "outlinewidth": 0,
              "ticks": ""
             }
            },
            "type": "parcoords"
           }
          ],
          "pie": [
           {
            "automargin": true,
            "type": "pie"
           }
          ],
          "scatter": [
           {
            "marker": {
             "colorbar": {
              "outlinewidth": 0,
              "ticks": ""
             }
            },
            "type": "scatter"
           }
          ],
          "scatter3d": [
           {
            "line": {
             "colorbar": {
              "outlinewidth": 0,
              "ticks": ""
             }
            },
            "marker": {
             "colorbar": {
              "outlinewidth": 0,
              "ticks": ""
             }
            },
            "type": "scatter3d"
           }
          ],
          "scattercarpet": [
           {
            "marker": {
             "colorbar": {
              "outlinewidth": 0,
              "ticks": ""
             }
            },
            "type": "scattercarpet"
           }
          ],
          "scattergeo": [
           {
            "marker": {
             "colorbar": {
              "outlinewidth": 0,
              "ticks": ""
             }
            },
            "type": "scattergeo"
           }
          ],
          "scattergl": [
           {
            "marker": {
             "colorbar": {
              "outlinewidth": 0,
              "ticks": ""
             }
            },
            "type": "scattergl"
           }
          ],
          "scattermapbox": [
           {
            "marker": {
             "colorbar": {
              "outlinewidth": 0,
              "ticks": ""
             }
            },
            "type": "scattermapbox"
           }
          ],
          "scatterpolar": [
           {
            "marker": {
             "colorbar": {
              "outlinewidth": 0,
              "ticks": ""
             }
            },
            "type": "scatterpolar"
           }
          ],
          "scatterpolargl": [
           {
            "marker": {
             "colorbar": {
              "outlinewidth": 0,
              "ticks": ""
             }
            },
            "type": "scatterpolargl"
           }
          ],
          "scatterternary": [
           {
            "marker": {
             "colorbar": {
              "outlinewidth": 0,
              "ticks": ""
             }
            },
            "type": "scatterternary"
           }
          ],
          "surface": [
           {
            "colorbar": {
             "outlinewidth": 0,
             "ticks": ""
            },
            "colorscale": [
             [
              0,
              "#0d0887"
             ],
             [
              0.1111111111111111,
              "#46039f"
             ],
             [
              0.2222222222222222,
              "#7201a8"
             ],
             [
              0.3333333333333333,
              "#9c179e"
             ],
             [
              0.4444444444444444,
              "#bd3786"
             ],
             [
              0.5555555555555556,
              "#d8576b"
             ],
             [
              0.6666666666666666,
              "#ed7953"
             ],
             [
              0.7777777777777778,
              "#fb9f3a"
             ],
             [
              0.8888888888888888,
              "#fdca26"
             ],
             [
              1,
              "#f0f921"
             ]
            ],
            "type": "surface"
           }
          ],
          "table": [
           {
            "cells": {
             "fill": {
              "color": "#EBF0F8"
             },
             "line": {
              "color": "white"
             }
            },
            "header": {
             "fill": {
              "color": "#C8D4E3"
             },
             "line": {
              "color": "white"
             }
            },
            "type": "table"
           }
          ]
         },
         "layout": {
          "annotationdefaults": {
           "arrowcolor": "#2a3f5f",
           "arrowhead": 0,
           "arrowwidth": 1
          },
          "autotypenumbers": "strict",
          "coloraxis": {
           "colorbar": {
            "outlinewidth": 0,
            "ticks": ""
           }
          },
          "colorscale": {
           "diverging": [
            [
             0,
             "#8e0152"
            ],
            [
             0.1,
             "#c51b7d"
            ],
            [
             0.2,
             "#de77ae"
            ],
            [
             0.3,
             "#f1b6da"
            ],
            [
             0.4,
             "#fde0ef"
            ],
            [
             0.5,
             "#f7f7f7"
            ],
            [
             0.6,
             "#e6f5d0"
            ],
            [
             0.7,
             "#b8e186"
            ],
            [
             0.8,
             "#7fbc41"
            ],
            [
             0.9,
             "#4d9221"
            ],
            [
             1,
             "#276419"
            ]
           ],
           "sequential": [
            [
             0,
             "#0d0887"
            ],
            [
             0.1111111111111111,
             "#46039f"
            ],
            [
             0.2222222222222222,
             "#7201a8"
            ],
            [
             0.3333333333333333,
             "#9c179e"
            ],
            [
             0.4444444444444444,
             "#bd3786"
            ],
            [
             0.5555555555555556,
             "#d8576b"
            ],
            [
             0.6666666666666666,
             "#ed7953"
            ],
            [
             0.7777777777777778,
             "#fb9f3a"
            ],
            [
             0.8888888888888888,
             "#fdca26"
            ],
            [
             1,
             "#f0f921"
            ]
           ],
           "sequentialminus": [
            [
             0,
             "#0d0887"
            ],
            [
             0.1111111111111111,
             "#46039f"
            ],
            [
             0.2222222222222222,
             "#7201a8"
            ],
            [
             0.3333333333333333,
             "#9c179e"
            ],
            [
             0.4444444444444444,
             "#bd3786"
            ],
            [
             0.5555555555555556,
             "#d8576b"
            ],
            [
             0.6666666666666666,
             "#ed7953"
            ],
            [
             0.7777777777777778,
             "#fb9f3a"
            ],
            [
             0.8888888888888888,
             "#fdca26"
            ],
            [
             1,
             "#f0f921"
            ]
           ]
          },
          "colorway": [
           "#636efa",
           "#EF553B",
           "#00cc96",
           "#ab63fa",
           "#FFA15A",
           "#19d3f3",
           "#FF6692",
           "#B6E880",
           "#FF97FF",
           "#FECB52"
          ],
          "font": {
           "color": "#2a3f5f"
          },
          "geo": {
           "bgcolor": "white",
           "lakecolor": "white",
           "landcolor": "#E5ECF6",
           "showlakes": true,
           "showland": true,
           "subunitcolor": "white"
          },
          "hoverlabel": {
           "align": "left"
          },
          "hovermode": "closest",
          "mapbox": {
           "style": "light"
          },
          "paper_bgcolor": "white",
          "plot_bgcolor": "#E5ECF6",
          "polar": {
           "angularaxis": {
            "gridcolor": "white",
            "linecolor": "white",
            "ticks": ""
           },
           "bgcolor": "#E5ECF6",
           "radialaxis": {
            "gridcolor": "white",
            "linecolor": "white",
            "ticks": ""
           }
          },
          "scene": {
           "xaxis": {
            "backgroundcolor": "#E5ECF6",
            "gridcolor": "white",
            "gridwidth": 2,
            "linecolor": "white",
            "showbackground": true,
            "ticks": "",
            "zerolinecolor": "white"
           },
           "yaxis": {
            "backgroundcolor": "#E5ECF6",
            "gridcolor": "white",
            "gridwidth": 2,
            "linecolor": "white",
            "showbackground": true,
            "ticks": "",
            "zerolinecolor": "white"
           },
           "zaxis": {
            "backgroundcolor": "#E5ECF6",
            "gridcolor": "white",
            "gridwidth": 2,
            "linecolor": "white",
            "showbackground": true,
            "ticks": "",
            "zerolinecolor": "white"
           }
          },
          "shapedefaults": {
           "line": {
            "color": "#2a3f5f"
           }
          },
          "ternary": {
           "aaxis": {
            "gridcolor": "white",
            "linecolor": "white",
            "ticks": ""
           },
           "baxis": {
            "gridcolor": "white",
            "linecolor": "white",
            "ticks": ""
           },
           "bgcolor": "#E5ECF6",
           "caxis": {
            "gridcolor": "white",
            "linecolor": "white",
            "ticks": ""
           }
          },
          "title": {
           "x": 0.05
          },
          "xaxis": {
           "automargin": true,
           "gridcolor": "white",
           "linecolor": "white",
           "ticks": "",
           "title": {
            "standoff": 15
           },
           "zerolinecolor": "white",
           "zerolinewidth": 2
          },
          "yaxis": {
           "automargin": true,
           "gridcolor": "white",
           "linecolor": "white",
           "ticks": "",
           "title": {
            "standoff": 15
           },
           "zerolinecolor": "white",
           "zerolinewidth": 2
          }
         }
        },
        "title": {
         "text": "ROC Curve"
        },
        "width": 800,
        "xaxis": {
         "range": [
          0,
          1
         ],
         "title": {
          "text": "False Positive Rate (Sensitivty)"
         }
        },
        "yaxis": {
         "range": [
          0,
          1
         ],
         "title": {
          "text": "True Positive Rate (1-Precision)"
         }
        }
       }
      },
      "text/html": "<div>                            <div id=\"cf3ba5a3-56dd-414b-a572-03ab0b26b73b\" class=\"plotly-graph-div\" style=\"height:800px; width:800px;\"></div>            <script type=\"text/javascript\">                require([\"plotly\"], function(Plotly) {                    window.PLOTLYENV=window.PLOTLYENV || {};                                    if (document.getElementById(\"cf3ba5a3-56dd-414b-a572-03ab0b26b73b\")) {                    Plotly.newPlot(                        \"cf3ba5a3-56dd-414b-a572-03ab0b26b73b\",                        [{\"hovertemplate\": \"x=%{x}<br>y=%{y}<extra></extra>\", \"legendgroup\": \"\", \"line\": {\"color\": \"#636efa\", \"dash\": \"solid\"}, \"mode\": \"lines\", \"name\": \"\", \"orientation\": \"v\", \"showlegend\": false, \"type\": \"scatter\", \"x\": [0.0, 0.8382377389858686, 1.0], \"xaxis\": \"x\", \"y\": [0.0, 0.8551650692225772, 1.0], \"yaxis\": \"y\"}, {\"hovertemplate\": \"x=%{x}<br>y=%{y}<extra></extra>\", \"legendgroup\": \"\", \"line\": {\"color\": \"rgba(50,50,50,0.2)\", \"dash\": \"solid\"}, \"mode\": \"lines\", \"name\": \"\", \"orientation\": \"v\", \"showlegend\": false, \"type\": \"scatter\", \"x\": [0, 1], \"xaxis\": \"x\", \"y\": [0, 1], \"yaxis\": \"y\"}],                        {\"autosize\": false, \"height\": 800, \"template\": {\"data\": {\"bar\": [{\"error_x\": {\"color\": \"#2a3f5f\"}, \"error_y\": {\"color\": \"#2a3f5f\"}, \"marker\": {\"line\": {\"color\": \"#E5ECF6\", \"width\": 0.5}}, \"type\": \"bar\"}], \"barpolar\": [{\"marker\": {\"line\": {\"color\": \"#E5ECF6\", \"width\": 0.5}}, \"type\": \"barpolar\"}], \"carpet\": [{\"aaxis\": {\"endlinecolor\": \"#2a3f5f\", \"gridcolor\": \"white\", \"linecolor\": \"white\", \"minorgridcolor\": \"white\", \"startlinecolor\": \"#2a3f5f\"}, \"baxis\": {\"endlinecolor\": \"#2a3f5f\", \"gridcolor\": \"white\", \"linecolor\": \"white\", \"minorgridcolor\": \"white\", \"startlinecolor\": \"#2a3f5f\"}, \"type\": \"carpet\"}], \"choropleth\": [{\"colorbar\": {\"outlinewidth\": 0, \"ticks\": \"\"}, \"type\": \"choropleth\"}], \"contour\": [{\"colorbar\": {\"outlinewidth\": 0, \"ticks\": \"\"}, \"colorscale\": [[0.0, \"#0d0887\"], [0.1111111111111111, \"#46039f\"], [0.2222222222222222, \"#7201a8\"], [0.3333333333333333, \"#9c179e\"], [0.4444444444444444, \"#bd3786\"], [0.5555555555555556, \"#d8576b\"], [0.6666666666666666, \"#ed7953\"], [0.7777777777777778, \"#fb9f3a\"], [0.8888888888888888, \"#fdca26\"], [1.0, \"#f0f921\"]], \"type\": \"contour\"}], \"contourcarpet\": [{\"colorbar\": {\"outlinewidth\": 0, \"ticks\": \"\"}, \"type\": \"contourcarpet\"}], \"heatmap\": [{\"colorbar\": {\"outlinewidth\": 0, \"ticks\": \"\"}, \"colorscale\": [[0.0, \"#0d0887\"], [0.1111111111111111, \"#46039f\"], [0.2222222222222222, \"#7201a8\"], [0.3333333333333333, \"#9c179e\"], [0.4444444444444444, \"#bd3786\"], [0.5555555555555556, \"#d8576b\"], [0.6666666666666666, \"#ed7953\"], [0.7777777777777778, \"#fb9f3a\"], [0.8888888888888888, \"#fdca26\"], [1.0, \"#f0f921\"]], \"type\": \"heatmap\"}], \"heatmapgl\": [{\"colorbar\": {\"outlinewidth\": 0, \"ticks\": \"\"}, \"colorscale\": [[0.0, \"#0d0887\"], [0.1111111111111111, \"#46039f\"], [0.2222222222222222, \"#7201a8\"], [0.3333333333333333, \"#9c179e\"], [0.4444444444444444, \"#bd3786\"], [0.5555555555555556, \"#d8576b\"], [0.6666666666666666, \"#ed7953\"], [0.7777777777777778, \"#fb9f3a\"], [0.8888888888888888, \"#fdca26\"], [1.0, \"#f0f921\"]], \"type\": \"heatmapgl\"}], \"histogram\": [{\"marker\": {\"colorbar\": {\"outlinewidth\": 0, \"ticks\": \"\"}}, \"type\": \"histogram\"}], \"histogram2d\": [{\"colorbar\": {\"outlinewidth\": 0, \"ticks\": \"\"}, \"colorscale\": [[0.0, \"#0d0887\"], [0.1111111111111111, \"#46039f\"], [0.2222222222222222, \"#7201a8\"], [0.3333333333333333, \"#9c179e\"], [0.4444444444444444, \"#bd3786\"], [0.5555555555555556, \"#d8576b\"], [0.6666666666666666, \"#ed7953\"], [0.7777777777777778, \"#fb9f3a\"], [0.8888888888888888, \"#fdca26\"], [1.0, \"#f0f921\"]], \"type\": \"histogram2d\"}], \"histogram2dcontour\": [{\"colorbar\": {\"outlinewidth\": 0, \"ticks\": \"\"}, \"colorscale\": [[0.0, \"#0d0887\"], [0.1111111111111111, \"#46039f\"], [0.2222222222222222, \"#7201a8\"], [0.3333333333333333, \"#9c179e\"], [0.4444444444444444, \"#bd3786\"], [0.5555555555555556, \"#d8576b\"], [0.6666666666666666, \"#ed7953\"], [0.7777777777777778, \"#fb9f3a\"], [0.8888888888888888, \"#fdca26\"], [1.0, \"#f0f921\"]], \"type\": \"histogram2dcontour\"}], \"mesh3d\": [{\"colorbar\": {\"outlinewidth\": 0, \"ticks\": \"\"}, \"type\": \"mesh3d\"}], \"parcoords\": [{\"line\": {\"colorbar\": {\"outlinewidth\": 0, \"ticks\": \"\"}}, \"type\": \"parcoords\"}], \"pie\": [{\"automargin\": true, \"type\": \"pie\"}], \"scatter\": [{\"marker\": {\"colorbar\": {\"outlinewidth\": 0, \"ticks\": \"\"}}, \"type\": \"scatter\"}], \"scatter3d\": [{\"line\": {\"colorbar\": {\"outlinewidth\": 0, \"ticks\": \"\"}}, \"marker\": {\"colorbar\": {\"outlinewidth\": 0, \"ticks\": \"\"}}, \"type\": \"scatter3d\"}], \"scattercarpet\": [{\"marker\": {\"colorbar\": {\"outlinewidth\": 0, \"ticks\": \"\"}}, \"type\": \"scattercarpet\"}], \"scattergeo\": [{\"marker\": {\"colorbar\": {\"outlinewidth\": 0, \"ticks\": \"\"}}, \"type\": \"scattergeo\"}], \"scattergl\": [{\"marker\": {\"colorbar\": {\"outlinewidth\": 0, \"ticks\": \"\"}}, \"type\": \"scattergl\"}], \"scattermapbox\": [{\"marker\": {\"colorbar\": {\"outlinewidth\": 0, \"ticks\": \"\"}}, \"type\": \"scattermapbox\"}], \"scatterpolar\": [{\"marker\": {\"colorbar\": {\"outlinewidth\": 0, \"ticks\": \"\"}}, \"type\": \"scatterpolar\"}], \"scatterpolargl\": [{\"marker\": {\"colorbar\": {\"outlinewidth\": 0, \"ticks\": \"\"}}, \"type\": \"scatterpolargl\"}], \"scatterternary\": [{\"marker\": {\"colorbar\": {\"outlinewidth\": 0, \"ticks\": \"\"}}, \"type\": \"scatterternary\"}], \"surface\": [{\"colorbar\": {\"outlinewidth\": 0, \"ticks\": \"\"}, \"colorscale\": [[0.0, \"#0d0887\"], [0.1111111111111111, \"#46039f\"], [0.2222222222222222, \"#7201a8\"], [0.3333333333333333, \"#9c179e\"], [0.4444444444444444, \"#bd3786\"], [0.5555555555555556, \"#d8576b\"], [0.6666666666666666, \"#ed7953\"], [0.7777777777777778, \"#fb9f3a\"], [0.8888888888888888, \"#fdca26\"], [1.0, \"#f0f921\"]], \"type\": \"surface\"}], \"table\": [{\"cells\": {\"fill\": {\"color\": \"#EBF0F8\"}, \"line\": {\"color\": \"white\"}}, \"header\": {\"fill\": {\"color\": \"#C8D4E3\"}, \"line\": {\"color\": \"white\"}}, \"type\": \"table\"}]}, \"layout\": {\"annotationdefaults\": {\"arrowcolor\": \"#2a3f5f\", \"arrowhead\": 0, \"arrowwidth\": 1}, \"autotypenumbers\": \"strict\", \"coloraxis\": {\"colorbar\": {\"outlinewidth\": 0, \"ticks\": \"\"}}, \"colorscale\": {\"diverging\": [[0, \"#8e0152\"], [0.1, \"#c51b7d\"], [0.2, \"#de77ae\"], [0.3, \"#f1b6da\"], [0.4, \"#fde0ef\"], [0.5, \"#f7f7f7\"], [0.6, \"#e6f5d0\"], [0.7, \"#b8e186\"], [0.8, \"#7fbc41\"], [0.9, \"#4d9221\"], [1, \"#276419\"]], \"sequential\": [[0.0, \"#0d0887\"], [0.1111111111111111, \"#46039f\"], [0.2222222222222222, \"#7201a8\"], [0.3333333333333333, \"#9c179e\"], [0.4444444444444444, \"#bd3786\"], [0.5555555555555556, \"#d8576b\"], [0.6666666666666666, \"#ed7953\"], [0.7777777777777778, \"#fb9f3a\"], [0.8888888888888888, \"#fdca26\"], [1.0, \"#f0f921\"]], \"sequentialminus\": [[0.0, \"#0d0887\"], [0.1111111111111111, \"#46039f\"], [0.2222222222222222, \"#7201a8\"], [0.3333333333333333, \"#9c179e\"], [0.4444444444444444, \"#bd3786\"], [0.5555555555555556, \"#d8576b\"], [0.6666666666666666, \"#ed7953\"], [0.7777777777777778, \"#fb9f3a\"], [0.8888888888888888, \"#fdca26\"], [1.0, \"#f0f921\"]]}, \"colorway\": [\"#636efa\", \"#EF553B\", \"#00cc96\", \"#ab63fa\", \"#FFA15A\", \"#19d3f3\", \"#FF6692\", \"#B6E880\", \"#FF97FF\", \"#FECB52\"], \"font\": {\"color\": \"#2a3f5f\"}, \"geo\": {\"bgcolor\": \"white\", \"lakecolor\": \"white\", \"landcolor\": \"#E5ECF6\", \"showlakes\": true, \"showland\": true, \"subunitcolor\": \"white\"}, \"hoverlabel\": {\"align\": \"left\"}, \"hovermode\": \"closest\", \"mapbox\": {\"style\": \"light\"}, \"paper_bgcolor\": \"white\", \"plot_bgcolor\": \"#E5ECF6\", \"polar\": {\"angularaxis\": {\"gridcolor\": \"white\", \"linecolor\": \"white\", \"ticks\": \"\"}, \"bgcolor\": \"#E5ECF6\", \"radialaxis\": {\"gridcolor\": \"white\", \"linecolor\": \"white\", \"ticks\": \"\"}}, \"scene\": {\"xaxis\": {\"backgroundcolor\": \"#E5ECF6\", \"gridcolor\": \"white\", \"gridwidth\": 2, \"linecolor\": \"white\", \"showbackground\": true, \"ticks\": \"\", \"zerolinecolor\": \"white\"}, \"yaxis\": {\"backgroundcolor\": \"#E5ECF6\", \"gridcolor\": \"white\", \"gridwidth\": 2, \"linecolor\": \"white\", \"showbackground\": true, \"ticks\": \"\", \"zerolinecolor\": \"white\"}, \"zaxis\": {\"backgroundcolor\": \"#E5ECF6\", \"gridcolor\": \"white\", \"gridwidth\": 2, \"linecolor\": \"white\", \"showbackground\": true, \"ticks\": \"\", \"zerolinecolor\": \"white\"}}, \"shapedefaults\": {\"line\": {\"color\": \"#2a3f5f\"}}, \"ternary\": {\"aaxis\": {\"gridcolor\": \"white\", \"linecolor\": \"white\", \"ticks\": \"\"}, \"baxis\": {\"gridcolor\": \"white\", \"linecolor\": \"white\", \"ticks\": \"\"}, \"bgcolor\": \"#E5ECF6\", \"caxis\": {\"gridcolor\": \"white\", \"linecolor\": \"white\", \"ticks\": \"\"}}, \"title\": {\"x\": 0.05}, \"xaxis\": {\"automargin\": true, \"gridcolor\": \"white\", \"linecolor\": \"white\", \"ticks\": \"\", \"title\": {\"standoff\": 15}, \"zerolinecolor\": \"white\", \"zerolinewidth\": 2}, \"yaxis\": {\"automargin\": true, \"gridcolor\": \"white\", \"linecolor\": \"white\", \"ticks\": \"\", \"title\": {\"standoff\": 15}, \"zerolinecolor\": \"white\", \"zerolinewidth\": 2}}}, \"title\": {\"text\": \"ROC Curve\"}, \"width\": 800, \"xaxis\": {\"range\": [0, 1], \"title\": {\"text\": \"False Positive Rate (Sensitivty)\"}}, \"yaxis\": {\"range\": [0, 1], \"title\": {\"text\": \"True Positive Rate (1-Precision)\"}}},                        {\"responsive\": true}                    ).then(function(){\n                            \nvar gd = document.getElementById('cf3ba5a3-56dd-414b-a572-03ab0b26b73b');\nvar x = new MutationObserver(function (mutations, observer) {{\n        var display = window.getComputedStyle(gd).display;\n        if (!display || display === 'none') {{\n            console.log([gd, 'removed!']);\n            Plotly.purge(gd);\n            observer.disconnect();\n        }}\n}});\n\n// Listen for the removal of the full notebook cells\nvar notebookContainer = gd.closest('#notebook-container');\nif (notebookContainer) {{\n    x.observe(notebookContainer, {childList: true});\n}}\n\n// Listen for the clearing of the current output cell\nvar outputEl = gd.closest('.output');\nif (outputEl) {{\n    x.observe(outputEl, {childList: true});\n}}\n\n                        })                };                });            </script>        </div>"
     },
     "metadata": {}
    },
    {
     "output_type": "stream",
     "name": "stdout",
     "text": [
      "AUC ROC score: 0.508\nCoefficents:\nGender: 0.147\n"
     ]
    }
   ],
   "source": [
    "cols = [\"Nominal Gender_Male\"]\n",
    "\n",
    "X_train = X_train_init[cols]\n",
    "X_val = X_val_init[cols]\n",
    "\n",
    "from sklearn.linear_model import LogisticRegression\n",
    "\n",
    "models = {}\n",
    "\n",
    "model=\"Gender\"\n",
    "\n",
    "models[model] = LogisticRegression(\n",
    "    penalty=\"none\"\n",
    "    )\n",
    "\n",
    "models[model].fit(X_train, y_train)\n",
    "\n",
    "print(\"Training score: {:.3f}\\nValidation Score:{:.3f}\".format(models[model].score(X_train, y_train), models[model].score(X_val, y_val)))\n",
    "\n",
    "fig, auc = classification_tools.calc_roc(models[model], X_val, y_val)\n",
    "fig.show()\n",
    "print(\"AUC ROC score: {:.3f}\".format(auc))\n",
    "print(\"Coefficents:\")\n",
    "print(\"Gender: {:.3f}\".format(models[model].coef_[0][0]))"
   ]
  },
  {
   "source": [
    "It seems these two combined give the limited predictive power this model has, so we'll use this combination as a base to try and improve upon."
   ],
   "cell_type": "markdown",
   "metadata": {}
  },
  {
   "cell_type": "code",
   "execution_count": null,
   "metadata": {},
   "outputs": [],
   "source": [
    "model=\"Search Reason\"\n",
    "cols []\n",
    "\n",
    "cols += X_train_init.columns[X_train_init.columns.str.contains(\"Ethnic Group.*\", regex=True)].to_list()\n",
    "cols += X_train_init.columns[X_train_init.columns.str.contains(\"Search Reason.*\", regex=True)].to_list()\n",
    "cols += [\"Nominal Gender_Male\"]\n",
    "\n",
    "X_train = X_train_init[cols]\n",
    "X_val = X_val_init[cols]\n",
    "\n",
    "from sklearn.linear_model import LogisticRegression\n",
    "\n",
    "models = {}\n",
    "\n",
    "\n",
    "\n",
    "models[model] = LogisticRegression(\n",
    "    penalty=\"none\"\n",
    "    )\n",
    "\n",
    "models[model].fit(X_train, y_train)\n",
    "\n",
    "print(\"Training score: {:.3f}\\nValidation Score:{:.3f}\".format(models[model].score(X_train, y_train), models[model].score(X_val, y_val)))\n",
    "\n",
    "fig, auc = classification_tools.calc_roc(models[model], X_val, y_val)\n",
    "fig.show()\n",
    "print(\"AUC ROC score: {:.3f}\".format(auc))\n",
    "\n",
    "print(\"Coefficents:\")\n",
    "coefficients = classification_tools.get_feature_weights(cols, models[model])"
   ]
  }
 ]
}