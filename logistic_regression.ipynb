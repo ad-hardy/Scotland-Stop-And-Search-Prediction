{
 "metadata": {
  "language_info": {
   "codemirror_mode": {
    "name": "ipython",
    "version": 3
   },
   "file_extension": ".py",
   "mimetype": "text/x-python",
   "name": "python",
   "nbconvert_exporter": "python",
   "pygments_lexer": "ipython3",
   "version": "3.9.1"
  },
  "orig_nbformat": 2,
  "kernelspec": {
   "name": "python391jvsc74a57bd0d504e65763db0712997c5abf4e36f31acc377fe14fcbb9335ac404214f57dc0f",
   "display_name": "Python 3.9.1 64-bit ('base': conda)"
  }
 },
 "nbformat": 4,
 "nbformat_minor": 2,
 "cells": [
  {
   "cell_type": "code",
   "execution_count": 411,
   "metadata": {},
   "outputs": [],
   "source": [
    "import pandas as pd\n",
    "import numpy as np\n",
    "import classification_tools\n",
    "\n",
    "import importlib\n",
    "importlib.reload(classification_tools)\n",
    "\n",
    "pd.set_option(\"display.max_columns\",500)\n",
    "\n",
    "import warnings\n",
    "# suppress matplotlib warning in plot_confusion_matrix()\n",
    "warnings.filterwarnings('ignore', message='FixedFormatter should only be used together with FixedLocator')\n",
    "\n"
   ]
  },
  {
   "source": [
    "## Load Data\n"
   ],
   "cell_type": "markdown",
   "metadata": {}
  },
  {
   "cell_type": "code",
   "execution_count": 412,
   "metadata": {},
   "outputs": [
    {
     "output_type": "execute_result",
     "data": {
      "text/plain": [
       "            0   \n",
       "\n",
       "       Council Desc_Midlothian  Council Desc_Moray  \\\n",
       "0                            0                   0   \n",
       "1                            0                   0   \n",
       "2                            0                   0   \n",
       "3                            0                   0   \n",
       "4                            0                   0   \n",
       "...                        ...                 ...   \n",
       "74404                        0                   0   \n",
       "74405                        0                   0   \n",
       "74406                        0                   0   \n",
       "74407                        0                   0   \n",
       "74408                        0                   0   \n",
       "\n",
       "       Council Desc_North Ayrshire  Council Desc_North Lanarkshire  \\\n",
       "0                                0                               0   \n",
       "1                                0                               0   \n",
       "2                                0                               0   \n",
       "3                                0                               0   \n",
       "4                                0                               0   \n",
       "...                            ...                             ...   \n",
       "74404                            0                               0   \n",
       "74405                            0                               0   \n",
       "74406                            0                               0   \n",
       "74407                            0                               0   \n",
       "74408                            0                               0   \n",
       "\n",
       "       Council Desc_Orkney Islands  Council Desc_Perth & Kinross  \\\n",
       "0                                0                             0   \n",
       "1                                0                             0   \n",
       "2                                0                             0   \n",
       "3                                0                             0   \n",
       "4                                0                             0   \n",
       "...                            ...                           ...   \n",
       "74404                            0                             0   \n",
       "74405                            0                             0   \n",
       "74406                            0                             0   \n",
       "74407                            0                             0   \n",
       "74408                            0                             0   \n",
       "\n",
       "       Council Desc_Renfrewshire  Council Desc_Scottish Borders  \\\n",
       "0                              0                              0   \n",
       "1                              0                              0   \n",
       "2                              0                              0   \n",
       "3                              0                              0   \n",
       "4                              0                              0   \n",
       "...                          ...                            ...   \n",
       "74404                          0                              0   \n",
       "74405                          0                              0   \n",
       "74406                          0                              0   \n",
       "74407                          0                              0   \n",
       "74408                          0                              0   \n",
       "\n",
       "       Council Desc_Shetland Islands  Council Desc_South Ayrshire  \\\n",
       "0                                  0                            0   \n",
       "1                                  0                            0   \n",
       "2                                  0                            0   \n",
       "3                                  0                            0   \n",
       "4                                  0                            0   \n",
       "...                              ...                          ...   \n",
       "74404                              0                            0   \n",
       "74405                              0                            0   \n",
       "74406                              0                            0   \n",
       "74407                              0                            0   \n",
       "74408                              0                            0   \n",
       "\n",
       "       Council Desc_South Lanarkshire  Council Desc_Stirling  \\\n",
       "0                                   0                      0   \n",
       "1                                   0                      0   \n",
       "2                                   0                      0   \n",
       "3                                   0                      0   \n",
       "4                                   0                      0   \n",
       "...                               ...                    ...   \n",
       "74404                               0                      0   \n",
       "74405                               0                      0   \n",
       "74406                               0                      0   \n",
       "74407                               0                      0   \n",
       "74408                               0                      0   \n",
       "\n",
       "       Council Desc_West Dunbartonshire  Council Desc_West Lothian  \\\n",
       "0                                     0                          0   \n",
       "1                                     0                          0   \n",
       "2                                     0                          0   \n",
       "3                                     0                          0   \n",
       "4                                     0                          0   \n",
       "...                                 ...                        ...   \n",
       "74404                                 0                          0   \n",
       "74405                                 0                          0   \n",
       "74406                                 0                          0   \n",
       "74407                                 0                          0   \n",
       "74408                                 0                          0   \n",
       "\n",
       "       Search Reason_Care & Welfare  Search Reason_Crossbows  \\\n",
       "0                                 0                        0   \n",
       "1                                 0                        0   \n",
       "2                                 0                        0   \n",
       "3                                 0                        0   \n",
       "4                                 0                        0   \n",
       "...                             ...                      ...   \n",
       "74404                             0                        0   \n",
       "74405                             0                        0   \n",
       "74406                             0                        0   \n",
       "74407                             0                        0   \n",
       "74408                             0                        0   \n",
       "\n",
       "       Search Reason_Drugs  Search Reason_Firearms  Search Reason_Fireworks  \\\n",
       "0                        1                       0                        0   \n",
       "1                        0                       0                        0   \n",
       "2                        0                       0                        0   \n",
       "3                        1                       0                        0   \n",
       "4                        1                       0                        0   \n",
       "...                    ...                     ...                      ...   \n",
       "74404                    1                       0                        0   \n",
       "74405                    1                       0                        0   \n",
       "74406                    1                       0                        0   \n",
       "74407                    1                       0                        0   \n",
       "74408                    1                       0                        0   \n",
       "\n",
       "       Search Reason_Other  Search Reason_Proceeds Of Crime  \\\n",
       "0                        0                                0   \n",
       "1                        0                                0   \n",
       "2                        0                                0   \n",
       "3                        0                                0   \n",
       "4                        0                                0   \n",
       "...                    ...                              ...   \n",
       "74404                    0                                0   \n",
       "74405                    0                                0   \n",
       "74406                    0                                0   \n",
       "74407                    0                                0   \n",
       "74408                    0                                0   \n",
       "\n",
       "       Search Reason_Protection Of Life  Search Reason_Public Order  \\\n",
       "0                                     0                           0   \n",
       "1                                     0                           0   \n",
       "2                                     0                           0   \n",
       "3                                     0                           0   \n",
       "4                                     0                           0   \n",
       "...                                 ...                         ...   \n",
       "74404                                 0                           0   \n",
       "74405                                 0                           0   \n",
       "74406                                 0                           0   \n",
       "74407                                 0                           0   \n",
       "74408                                 0                           0   \n",
       "\n",
       "       Search Reason_Sport Event  Search Reason_Stolen Property  \\\n",
       "0                              0                              0   \n",
       "1                              0                              0   \n",
       "2                              0                              0   \n",
       "3                              0                              0   \n",
       "4                              0                              0   \n",
       "...                          ...                            ...   \n",
       "74404                          0                              0   \n",
       "74405                          0                              0   \n",
       "74406                          0                              0   \n",
       "74407                          0                              0   \n",
       "74408                          0                              0   \n",
       "\n",
       "       Search Reason_Warrant  Search Reason_Weapons  Search Reason_Wildlife  \\\n",
       "0                          0                      0                       0   \n",
       "1                          1                      0                       0   \n",
       "2                          1                      0                       0   \n",
       "3                          0                      0                       0   \n",
       "4                          0                      0                       0   \n",
       "...                      ...                    ...                     ...   \n",
       "74404                      0                      0                       0   \n",
       "74405                      0                      0                       0   \n",
       "74406                      0                      0                       0   \n",
       "74407                      0                      0                       0   \n",
       "74408                      0                      0                       0   \n",
       "\n",
       "       Total_population  Working_Age_population  income_count  \\\n",
       "0               16832.0                 10861.0    137.367098   \n",
       "1               16101.0                 10908.0    111.354326   \n",
       "2               16101.0                 10908.0    111.354326   \n",
       "3               20801.0                 17835.0     83.770924   \n",
       "4               15236.0                  9789.0     81.807889   \n",
       "...                 ...                     ...           ...   \n",
       "74404            9799.0                  5715.0     68.070313   \n",
       "74405            9799.0                  5715.0     68.070313   \n",
       "74406            9799.0                  5715.0     68.070313   \n",
       "74407           10558.0                  6110.0     71.942224   \n",
       "74408            9799.0                  5715.0     68.070313   \n",
       "\n",
       "       employment_count         CIF     ALCOHOL        DRUG         SMR  \\\n",
       "0             66.203244  130.752139  153.641754  210.202353  125.896091   \n",
       "1             58.894106  101.169493  149.910068  142.432209  111.925781   \n",
       "2             58.894106  101.169493  149.910068  142.432209  111.925781   \n",
       "3             61.538243   81.550406  125.521513  101.328398  113.511177   \n",
       "4             43.692898   90.334077  112.810449  112.117288   98.564321   \n",
       "...                 ...         ...         ...         ...         ...   \n",
       "74404         26.798347   75.528625   18.427084   36.439433   64.807429   \n",
       "74405         26.798347   75.528625   18.427084   36.439433   64.807429   \n",
       "74406         26.798347   75.528625   18.427084   36.439433   64.807429   \n",
       "74407         31.917409   79.966376   52.563743   23.068384   84.988255   \n",
       "74408         26.798347   75.528625   18.427084   36.439433   64.807429   \n",
       "\n",
       "        DEPRESS      LBWT       EMERG  Attendance  Attainment  \\\n",
       "0      0.208168  0.065564  144.632842    0.717498    4.888793   \n",
       "1      0.186531  0.052552  114.053475    0.763612    5.297681   \n",
       "2      0.186531  0.052552  114.053475    0.763612    5.297681   \n",
       "3      0.133666  0.047873   89.709822    0.728000    5.044630   \n",
       "4      0.182332  0.049067  104.452087    0.842833    5.451705   \n",
       "...         ...       ...         ...         ...         ...   \n",
       "74404  0.153739  0.038883   49.682519    0.846743    5.614936   \n",
       "74405  0.153739  0.038883   49.682519    0.846743    5.614936   \n",
       "74406  0.153739  0.038883   49.682519    0.846743    5.614936   \n",
       "74407  0.181353  0.057391   95.949801    0.823430    5.613980   \n",
       "74408  0.153739  0.038883   49.682519    0.846743    5.614936   \n",
       "\n",
       "       no_qualifications  not_participating  University  crime_count  \\\n",
       "0             151.627792           0.073459    0.044571    31.619297   \n",
       "1             102.113161           0.050899    0.068252    39.660145   \n",
       "2             102.113161           0.050899    0.068252    39.660145   \n",
       "3              75.173597           0.081155    0.105169    58.428537   \n",
       "4              90.662707           0.033264    0.122464    21.939354   \n",
       "...                  ...                ...         ...          ...   \n",
       "74404         121.917645           0.024841    0.086924    16.276470   \n",
       "74405         121.917645           0.024841    0.086924    16.276470   \n",
       "74406         121.917645           0.024841    0.086924    16.276470   \n",
       "74407          96.190377           0.025328    0.095934    14.419866   \n",
       "74408         121.917645           0.024841    0.086924    16.276470   \n",
       "\n",
       "       overcrowded_count  nocentralheating_count  drive_petrol  drive_GP  \\\n",
       "0             161.767407                7.486098      3.721862  2.277164   \n",
       "1             125.782995               12.249426      3.193064  2.740710   \n",
       "2             125.782995               12.249426      3.193064  2.740710   \n",
       "3             216.764434               40.309889      2.283231  1.874862   \n",
       "4              83.170255                6.709373      4.408539  2.733658   \n",
       "...                  ...                     ...           ...       ...   \n",
       "74404          46.818247               13.771099      4.419889  4.119678   \n",
       "74405          46.818247               13.771099      4.419889  4.119678   \n",
       "74406          46.818247               13.771099      4.419889  4.119678   \n",
       "74407          51.325535               23.666793      6.310870  4.814053   \n",
       "74408          46.818247               13.771099      4.419889  4.119678   \n",
       "\n",
       "       drive_post  drive_primary  drive_retail  drive_secondary      PT_GP  \\\n",
       "0        2.217059       2.200752      3.132896         4.435181   7.857706   \n",
       "1        2.169105       2.690311      2.955071         3.767685   8.837237   \n",
       "2        2.169105       2.690311      2.955071         3.767685   8.837237   \n",
       "3        3.066539       2.549486      2.946118         4.350470   5.270951   \n",
       "4        2.554872       2.748820      5.310371         6.252334   8.881655   \n",
       "...           ...            ...           ...              ...        ...   \n",
       "74404    3.339694       3.052060      5.836578        11.428119  11.333052   \n",
       "74405    3.339694       3.052060      5.836578        11.428119  11.333052   \n",
       "74406    3.339694       3.052060      5.836578        11.428119  11.333052   \n",
       "74407    4.916282       3.945324      5.890155         8.216449  13.623541   \n",
       "74408    3.339694       3.052060      5.836578        11.428119  11.333052   \n",
       "\n",
       "         PT_post  PT_retail  broadband  drive_petrol_log  drive_GP_log  \\\n",
       "0       7.001653   8.411012   0.010021          1.314224      0.822931   \n",
       "1       7.539053   9.343500   0.017194          1.160981      1.008217   \n",
       "2       7.539053   9.343500   0.017194          1.160981      1.008217   \n",
       "3       6.716557   7.025144   0.103023          0.825591      0.628535   \n",
       "4       8.871633  16.444906   0.042190          1.483543      1.005640   \n",
       "...          ...        ...        ...               ...           ...   \n",
       "74404   9.433850  14.124586   0.191165          1.486115      1.415775   \n",
       "74405   9.433850  14.124586   0.191165          1.486115      1.415775   \n",
       "74406   9.433850  14.124586   0.191165          1.486115      1.415775   \n",
       "74407  12.152823  15.284462   0.189425          1.842274      1.571539   \n",
       "74408   9.433850  14.124586   0.191165          1.486115      1.415775   \n",
       "\n",
       "       drive_post_log  drive_primary_log  drive_retail_log  \\\n",
       "0            0.796182           0.788799          1.141958   \n",
       "1            0.774315           0.989657          1.083523   \n",
       "2            0.774315           0.989657          1.083523   \n",
       "3            1.120549           0.935892          1.080489   \n",
       "4            0.938002           1.011172          1.669662   \n",
       "...               ...                ...               ...   \n",
       "74404        1.205879           1.115817          1.764145   \n",
       "74405        1.205879           1.115817          1.764145   \n",
       "74406        1.205879           1.115817          1.764145   \n",
       "74407        1.592553           1.372531          1.773282   \n",
       "74408        1.205879           1.115817          1.764145   \n",
       "\n",
       "       drive_secondary_log  PT_GP_log  PT_post_log  PT_retail_log  \\\n",
       "0                 1.489568   2.061495     1.946146       2.129542   \n",
       "1                 1.326461   2.178974     2.020097       2.234681   \n",
       "2                 1.326461   2.178974     2.020097       2.234681   \n",
       "3                 1.470284   1.662211     1.904576       1.949496   \n",
       "4                 1.832955   2.183988     2.182859       2.800016   \n",
       "...                    ...        ...          ...            ...   \n",
       "74404             2.436077   2.427723     2.244304       2.647917   \n",
       "74405             2.436077   2.427723     2.244304       2.647917   \n",
       "74406             2.436077   2.427723     2.244304       2.647917   \n",
       "74407             2.106138   2.611799     2.497561       2.726837   \n",
       "74408             2.436077   2.427723     2.244304       2.647917   \n",
       "\n",
       "       income_count_log  crime_count_log  overcrowded_count_log  \\\n",
       "0              4.922657         3.453768               5.086160   \n",
       "1              4.712717         3.680347               4.834558   \n",
       "2              4.712717         3.680347               4.834558   \n",
       "3              4.428086         4.067804               5.378811   \n",
       "4              4.404374         3.088282               4.420890   \n",
       "...                 ...              ...                    ...   \n",
       "74404          4.220541         2.789721               3.846273   \n",
       "74405          4.220541         2.789721               3.846273   \n",
       "74406          4.220541         2.789721               3.846273   \n",
       "74407          4.275863         2.668607               3.938188   \n",
       "74408          4.220541         2.789721               3.846273   \n",
       "\n",
       "       nocentralheating_count_log  broadband_log  employment_count_log  \n",
       "0                        2.013048      -4.563895              4.192729  \n",
       "1                        2.505479      -4.040199              4.075741  \n",
       "2                        2.505479      -4.040199              4.075741  \n",
       "3                        3.696597      -2.268929              4.119659  \n",
       "4                        1.903505      -3.156131              3.777186  \n",
       "...                           ...            ...                   ...  \n",
       "74404                    2.622572      -1.652526              3.288340  \n",
       "74405                    2.622572      -1.652526              3.288340  \n",
       "74406                    2.622572      -1.652526              3.288340  \n",
       "74407                    3.164073      -1.661652              3.463152  \n",
       "74408                    2.622572      -1.652526              3.288340  \n",
       "\n",
       "[74409 rows x 244 columns]"
      ],
      "text/html": "<div>\n<style scoped>\n    .dataframe tbody tr th:only-of-type {\n        vertical-align: middle;\n    }\n\n    .dataframe tbody tr th {\n        vertical-align: top;\n    }\n\n    .dataframe thead th {\n        text-align: right;\n    }\n</style>\n<table border=\"1\" class=\"dataframe\">\n  <thead>\n    <tr style=\"text-align: right;\">\n      <th></th>\n      <th>ward_code</th>\n      <th>Year</th>\n      <th>Month</th>\n      <th>Day of the Week</th>\n      <th>Time of the Day</th>\n      <th>Search Result</th>\n      <th>Nominal Age</th>\n      <th>Desc Drugs Found_Class B</th>\n      <th>Desc Drugs Found_Class C</th>\n      <th>Desc Drugs Found_Class A</th>\n      <th>Desc Off Weap Found_Other</th>\n      <th>Desc Other Items Found_Other</th>\n      <th>Desc Off Weap Found_Bladed Instrument</th>\n      <th>Desc Other Items Found_Firearms</th>\n      <th>Desc Off Weap Found_Pointed Article</th>\n      <th>Desc Other Items Found_Stolen Property</th>\n      <th>Desc Off Weap Found_Blunt Instrument</th>\n      <th>Desc Tobacco Found_Tobacco</th>\n      <th>Desc Other Items Found_Disposal Of Cash</th>\n      <th>Desc Alcohol Found_Beer</th>\n      <th>Desc Tobacco Found_Cigarette Papers</th>\n      <th>Desc Drugs Found_Nps</th>\n      <th>Desc Alcohol Found_Wine</th>\n      <th>Desc Alcohol Found_Spirits</th>\n      <th>Desc Other Items Found_Crossbows</th>\n      <th>Desc Other Items Found_Controlled Container</th>\n      <th>Desc Alcohol Found_Cider</th>\n      <th>Desc Other Items Found_Fireworks</th>\n      <th>Nominal Ethnicity_Any Mixed Ethnic group</th>\n      <th>Nominal Ethnicity_Arab, Arab Scottish, Arab British</th>\n      <th>Nominal Ethnicity_Bangladeshi, Bangladeshi Scottish, Bangladeshi British</th>\n      <th>Nominal Ethnicity_Black, Black Scottish, Black British</th>\n      <th>Nominal Ethnicity_Caribbean, Caribbean Scottish, Caribbean British</th>\n      <th>Nominal Ethnicity_Chinese, Chinese Scottish, Chinese British</th>\n      <th>Nominal Ethnicity_Indian, Indian Scottish, Indian British</th>\n      <th>Nominal Ethnicity_Not Provided / Unknown</th>\n      <th>Nominal Ethnicity_Other African</th>\n      <th>Nominal Ethnicity_Other Asian</th>\n      <th>Nominal Ethnicity_Other Caribbean or Black</th>\n      <th>Nominal Ethnicity_Other Ethnic Group</th>\n      <th>Nominal Ethnicity_Pakistani, Pakistani Scottish, Pakistani British</th>\n      <th>Nominal Ethnicity_Pakistani, Pakistani Scottish, Pakistani British</th>\n      <th>Nominal Ethnicity_White British</th>\n      <th>Nominal Ethnicity_White English</th>\n      <th>Nominal Ethnicity_White Gypsy/Traveller</th>\n      <th>Nominal Ethnicity_White Irish</th>\n      <th>Nominal Ethnicity_White Northen Ireland</th>\n      <th>Nominal Ethnicity_White Other</th>\n      <th>Nominal Ethnicity_White Polish</th>\n      <th>Nominal Ethnicity_White Scottish</th>\n      <th>Nominal Ethnicity_White Welsh</th>\n      <th>Search Statute_CONTROLLED CONTAINERS - Sec 21 Criminal Law (Consolidation) (Scotland) Act 1995</th>\n      <th>Search Statute_CONTROLLLED ARTICLE OR SUBSTANCE - Sec 21 Criminal Law (Consolidation) (Scotland) Act 1995</th>\n      <th>Search Statute_Edinburgh Airport Byelaw 9(2) (Search in interest of public safety)</th>\n      <th>Search Statute_Sec 109(1) Copyright, Designs and Patents Act 1988 (Piracy and trademark offences etc)</th>\n      <th>Search Statute_Sec 11 of the Protection of Badgers Act 1992 (Wildlife Crime)</th>\n      <th>Search Statute_Sec 11A of the Fireworks Act 2003</th>\n      <th>Search Statute_Sec 19 of the Wildlife and Countryside Act 1981</th>\n      <th>Search Statute_Sec 20 &amp; 32 Police and Fire Reform (Scotland) Act 2012 (Other)</th>\n      <th>Search Statute_Sec 20 &amp; 32 Police and Fire Reform (Scotland) Act 2012 (Protection of Life)</th>\n      <th>Search Statute_Sec 23(2) of the Misuse of Drugs Act 1971 (Drugs)</th>\n      <th>Search Statute_Sec 23(3) Misuse Of Drugs Act 1971</th>\n      <th>Search Statute_Sec 23A of the Misuse of Drugs Act 1971 (Drugs)</th>\n      <th>Search Statute_Sec 24(1) Forgery and Counterfeiting Act, 1981 (Search for counterfeit money)</th>\n      <th>Search Statute_Sec 27 Deer (Scotland) Act 1996</th>\n      <th>Search Statute_Sec 289 Proceeds of Crime Act 2002 (Cash)</th>\n      <th>Search Statute_Sec 4 of the Crossbows Act 1987</th>\n      <th>Search Statute_Sec 46(1) Firearms Act 1968</th>\n      <th>Search Statute_Sec 47(1) Firearms Act 1968 (Firearms)</th>\n      <th>Search Statute_Sec 48(1) of the Criminal Law (Consolidation) (Scotland) Act 1995 (Offensive Weapon)</th>\n      <th>Search Statute_Sec 49B of the Criminal Law (Consolidation) (Scotland) Act 1995 (Bladed Weapon/Offensive Weapon Schools)</th>\n      <th>Search Statute_Sec 50 of the Criminal Law (Consolidation) (Scotland) Act 1995 (Bladed Weapon)</th>\n      <th>Search Statute_Sec 53(1) of The Salmon and Freshwater Fisheries (Consolidation)(Scotland) Act 2003</th>\n      <th>Search Statute_Sec 60 Criminal Justice and Public Order Act 1994</th>\n      <th>Search Statute_Sec 60(1) Civic Government (Scotland) Act 1982 (Stolen Property)</th>\n      <th>Search Statute_Sec 66 Criminal Justice (Scotland) Act 2016 (Removal of person)</th>\n      <th>Search Statute_Sec 7 of the Wild Mammals (Scotland) Act 2002 (Wildlife Crime)</th>\n      <th>Search Statute_Warrant - Other</th>\n      <th>Nominal Gender_Male</th>\n      <th>Nominal Physical Search Type_STRIP_IS</th>\n      <th>Nominal Physical Search Type_STRIP_OS</th>\n      <th>Command Desc_3</th>\n      <th>Command Desc_East</th>\n      <th>Command Desc_North</th>\n      <th>Command Desc_West</th>\n      <th>Division Desc_13</th>\n      <th>Division Desc_Argyll and West Dunbartonshire</th>\n      <th>Division Desc_Ayrshire</th>\n      <th>Division Desc_Dumfries and Galloway</th>\n      <th>Division Desc_Edinburgh</th>\n      <th>Division Desc_Fife</th>\n      <th>Division Desc_Forth Valley</th>\n      <th>Division Desc_Greater Glasgow</th>\n      <th>Division Desc_Highland and Islands</th>\n      <th>Division Desc_Lanarkshire</th>\n      <th>Division Desc_North East</th>\n      <th>Division Desc_Renfrewshire and Inverclyde</th>\n      <th>Division Desc_Tayside</th>\n      <th>Division Desc_The Lothians and Scottish Borders</th>\n      <th>Area Command Desc_71</th>\n      <th>Area Command Desc_Aberdeen North - AK</th>\n      <th>Area Command Desc_Aberdeen South - AU</th>\n      <th>Area Command Desc_Aberdeenshire North - AP</th>\n      <th>Area Command Desc_Aberdeenshire South - AV</th>\n      <th>Area Command Desc_Angus - DE</th>\n      <th>Area Command Desc_Central Fife - PA</th>\n      <th>Area Command Desc_Clackmannanshire - CA</th>\n      <th>Area Command Desc_Clydesdale - QC</th>\n      <th>Area Command Desc_Cowal, Bute &amp; Helensburgh - LD</th>\n      <th>Area Command Desc_Cumbernauld - QJ</th>\n      <th>Area Command Desc_Dumfriesshire - VA</th>\n      <th>Area Command Desc_Dundee City - DC</th>\n      <th>Area Command Desc_East Ayrshire - UC</th>\n      <th>Area Command Desc_East Dumbartonshire - GJ</th>\n      <th>Area Command Desc_East Fife - PB</th>\n      <th>Area Command Desc_East Kilbride Cambuslang and Rutherglen - QA</th>\n      <th>Area Command Desc_East Lothian - JE</th>\n      <th>Area Command Desc_East Refrewshire - GC</th>\n      <th>Area Command Desc_Edinburgh North East - ED</th>\n      <th>Area Command Desc_Edinburgh North West - EN</th>\n      <th>Area Command Desc_Edinburgh South East - EC</th>\n      <th>Area Command Desc_Edinburgh South West - ES</th>\n      <th>Area Command Desc_Falkirk - CF</th>\n      <th>Area Command Desc_Galloway - VG</th>\n      <th>Area Command Desc_Glasgow City Centre - GP</th>\n      <th>Area Command Desc_Glasgow East - GK</th>\n      <th>Area Command Desc_Glasgow North - GF</th>\n      <th>Area Command Desc_Glasgow North West - GU</th>\n      <th>Area Command Desc_Glasgow South East - GD</th>\n      <th>Area Command Desc_Glasgow South West - GA</th>\n      <th>Area Command Desc_Hamilton - QB</th>\n      <th>Area Command Desc_Inverclyde - KC</th>\n      <th>Area Command Desc_Inverness - NA</th>\n      <th>Area Command Desc_Midlothian - JL</th>\n      <th>Area Command Desc_Monklands - QG</th>\n      <th>Area Command Desc_Moray - AE</th>\n      <th>Area Command Desc_North Ayrshire - UA</th>\n      <th>Area Command Desc_North Highlands - NE</th>\n      <th>Area Command Desc_Oban, Mid Argyll, Kintyre and the Islands - LB</th>\n      <th>Area Command Desc_Orkney - NK</th>\n      <th>Area Command Desc_Paisley - KA</th>\n      <th>Area Command Desc_Perth &amp; Kinross - DP</th>\n      <th>Area Command Desc_Renfrew - KB</th>\n      <th>Area Command Desc_Scottish Borders - JB</th>\n      <th>Area Command Desc_Shetland - NL</th>\n      <th>Area Command Desc_South Ayrshire - UD</th>\n      <th>Area Command Desc_South Highland - NB</th>\n      <th>Area Command Desc_Stirling - CS</th>\n      <th>Area Command Desc_West Dunbartonshire - LA</th>\n      <th>Area Command Desc_West Fife - PD</th>\n      <th>Area Command Desc_West Lothian - JG</th>\n      <th>Area Command Desc_Western Isles - ND</th>\n      <th>Area Command Desc_Wishaw Motherwell and Bellshill - QE</th>\n      <th>Council Desc_32</th>\n      <th>Council Desc_Aberdeen City</th>\n      <th>Council Desc_Aberdeenshire</th>\n      <th>Council Desc_Angus</th>\n      <th>Council Desc_Argyll &amp; Bute</th>\n      <th>Council Desc_City of Edinburgh</th>\n      <th>Council Desc_Clackmannanshire</th>\n      <th>Council Desc_Dumfries &amp; Galloway</th>\n      <th>Council Desc_Dundee City</th>\n      <th>Council Desc_East Ayrshire</th>\n      <th>Council Desc_East Dunbartonshire</th>\n      <th>Council Desc_East Lothian</th>\n      <th>Council Desc_East Renfrewshire</th>\n      <th>Council Desc_Eilean Siar</th>\n      <th>Council Desc_Falkirk</th>\n      <th>Council Desc_Fife</th>\n      <th>Council Desc_Glasgow City</th>\n      <th>Council Desc_Highland</th>\n      <th>Council Desc_Inverclyde</th>\n      <th>Council Desc_Midlothian</th>\n      <th>Council Desc_Moray</th>\n      <th>Council Desc_North Ayrshire</th>\n      <th>Council Desc_North Lanarkshire</th>\n      <th>Council Desc_Orkney Islands</th>\n      <th>Council Desc_Perth &amp; Kinross</th>\n      <th>Council Desc_Renfrewshire</th>\n      <th>Council Desc_Scottish Borders</th>\n      <th>Council Desc_Shetland Islands</th>\n      <th>Council Desc_South Ayrshire</th>\n      <th>Council Desc_South Lanarkshire</th>\n      <th>Council Desc_Stirling</th>\n      <th>Council Desc_West Dunbartonshire</th>\n      <th>Council Desc_West Lothian</th>\n      <th>Search Reason_Care &amp; Welfare</th>\n      <th>Search Reason_Crossbows</th>\n      <th>Search Reason_Drugs</th>\n      <th>Search Reason_Firearms</th>\n      <th>Search Reason_Fireworks</th>\n      <th>Search Reason_Other</th>\n      <th>Search Reason_Proceeds Of Crime</th>\n      <th>Search Reason_Protection Of Life</th>\n      <th>Search Reason_Public Order</th>\n      <th>Search Reason_Sport Event</th>\n      <th>Search Reason_Stolen Property</th>\n      <th>Search Reason_Warrant</th>\n      <th>Search Reason_Weapons</th>\n      <th>Search Reason_Wildlife</th>\n      <th>Total_population</th>\n      <th>Working_Age_population</th>\n      <th>income_count</th>\n      <th>employment_count</th>\n      <th>CIF</th>\n      <th>ALCOHOL</th>\n      <th>DRUG</th>\n      <th>SMR</th>\n      <th>DEPRESS</th>\n      <th>LBWT</th>\n      <th>EMERG</th>\n      <th>Attendance</th>\n      <th>Attainment</th>\n      <th>no_qualifications</th>\n      <th>not_participating</th>\n      <th>University</th>\n      <th>crime_count</th>\n      <th>overcrowded_count</th>\n      <th>nocentralheating_count</th>\n      <th>drive_petrol</th>\n      <th>drive_GP</th>\n      <th>drive_post</th>\n      <th>drive_primary</th>\n      <th>drive_retail</th>\n      <th>drive_secondary</th>\n      <th>PT_GP</th>\n      <th>PT_post</th>\n      <th>PT_retail</th>\n      <th>broadband</th>\n      <th>drive_petrol_log</th>\n      <th>drive_GP_log</th>\n      <th>drive_post_log</th>\n      <th>drive_primary_log</th>\n      <th>drive_retail_log</th>\n      <th>drive_secondary_log</th>\n      <th>PT_GP_log</th>\n      <th>PT_post_log</th>\n      <th>PT_retail_log</th>\n      <th>income_count_log</th>\n      <th>crime_count_log</th>\n      <th>overcrowded_count_log</th>\n      <th>nocentralheating_count_log</th>\n      <th>broadband_log</th>\n      <th>employment_count_log</th>\n    </tr>\n  </thead>\n  <tbody>\n    <tr>\n      <th>0</th>\n      <td>S13002838</td>\n      <td>2020</td>\n      <td>December</td>\n      <td>Thursday</td>\n      <td>14:00:00</td>\n      <td>1</td>\n      <td>38</td>\n      <td>1</td>\n      <td>0</td>\n      <td>0</td>\n      <td>0</td>\n      <td>0</td>\n      <td>0</td>\n      <td>0</td>\n      <td>0</td>\n      <td>0</td>\n      <td>0</td>\n      <td>0</td>\n      <td>0</td>\n      <td>0</td>\n      <td>0</td>\n      <td>0</td>\n      <td>0</td>\n      <td>0</td>\n      <td>0</td>\n      <td>0</td>\n      <td>0</td>\n      <td>0</td>\n      <td>0</td>\n      <td>0</td>\n      <td>0</td>\n      <td>0</td>\n      <td>0</td>\n      <td>0</td>\n      <td>0</td>\n      <td>0</td>\n      <td>0</td>\n      <td>0</td>\n      <td>0</td>\n      <td>0</td>\n      <td>1</td>\n      <td>0</td>\n      <td>0</td>\n      <td>0</td>\n      <td>0</td>\n      <td>0</td>\n      <td>0</td>\n      <td>0</td>\n      <td>0</td>\n      <td>0</td>\n      <td>0</td>\n      <td>0</td>\n      <td>0</td>\n      <td>0</td>\n      <td>0</td>\n      <td>0</td>\n      <td>0</td>\n      <td>0</td>\n      <td>0</td>\n      <td>0</td>\n      <td>1</td>\n      <td>0</td>\n      <td>0</td>\n      <td>0</td>\n      <td>0</td>\n      <td>0</td>\n      <td>0</td>\n      <td>0</td>\n      <td>0</td>\n      <td>0</td>\n      <td>0</td>\n      <td>0</td>\n      <td>0</td>\n      <td>0</td>\n      <td>0</td>\n      <td>0</td>\n      <td>0</td>\n      <td>0</td>\n      <td>1</td>\n      <td>0</td>\n      <td>0</td>\n      <td>0</td>\n      <td>0</td>\n      <td>1</td>\n      <td>0</td>\n      <td>0</td>\n      <td>0</td>\n      <td>0</td>\n      <td>0</td>\n      <td>0</td>\n      <td>0</td>\n      <td>0</td>\n      <td>0</td>\n      <td>0</td>\n      <td>0</td>\n      <td>1</td>\n      <td>0</td>\n      <td>0</td>\n      <td>0</td>\n      <td>0</td>\n      <td>1</td>\n      <td>0</td>\n      <td>0</td>\n      <td>0</td>\n      <td>0</td>\n      <td>0</td>\n      <td>0</td>\n      <td>0</td>\n      <td>0</td>\n      <td>0</td>\n      <td>0</td>\n      <td>0</td>\n      <td>0</td>\n      <td>0</td>\n      <td>0</td>\n      <td>0</td>\n      <td>0</td>\n      <td>0</td>\n      <td>0</td>\n      <td>0</td>\n      <td>0</td>\n      <td>0</td>\n      <td>0</td>\n      <td>0</td>\n      <td>0</td>\n      <td>0</td>\n      <td>0</td>\n      <td>0</td>\n      <td>0</td>\n      <td>0</td>\n      <td>0</td>\n      <td>0</td>\n      <td>0</td>\n      <td>0</td>\n      <td>0</td>\n      <td>0</td>\n      <td>0</td>\n      <td>0</td>\n      <td>0</td>\n      <td>0</td>\n      <td>0</td>\n      <td>0</td>\n      <td>0</td>\n      <td>0</td>\n      <td>0</td>\n      <td>0</td>\n      <td>0</td>\n      <td>0</td>\n      <td>0</td>\n      <td>0</td>\n      <td>0</td>\n      <td>0</td>\n      <td>0</td>\n      <td>0</td>\n      <td>1</td>\n      <td>0</td>\n      <td>0</td>\n      <td>0</td>\n      <td>0</td>\n      <td>0</td>\n      <td>0</td>\n      <td>0</td>\n      <td>0</td>\n      <td>0</td>\n      <td>0</td>\n      <td>0</td>\n      <td>0</td>\n      <td>0</td>\n      <td>0</td>\n      <td>0</td>\n      <td>0</td>\n      <td>0</td>\n      <td>0</td>\n      <td>0</td>\n      <td>0</td>\n      <td>0</td>\n      <td>0</td>\n      <td>0</td>\n      <td>0</td>\n      <td>0</td>\n      <td>0</td>\n      <td>0</td>\n      <td>0</td>\n      <td>0</td>\n      <td>0</td>\n      <td>0</td>\n      <td>0</td>\n      <td>0</td>\n      <td>1</td>\n      <td>0</td>\n      <td>0</td>\n      <td>0</td>\n      <td>0</td>\n      <td>0</td>\n      <td>0</td>\n      <td>0</td>\n      <td>0</td>\n      <td>0</td>\n      <td>0</td>\n      <td>0</td>\n      <td>16832.0</td>\n      <td>10861.0</td>\n      <td>137.367098</td>\n      <td>66.203244</td>\n      <td>130.752139</td>\n      <td>153.641754</td>\n      <td>210.202353</td>\n      <td>125.896091</td>\n      <td>0.208168</td>\n      <td>0.065564</td>\n      <td>144.632842</td>\n      <td>0.717498</td>\n      <td>4.888793</td>\n      <td>151.627792</td>\n      <td>0.073459</td>\n      <td>0.044571</td>\n      <td>31.619297</td>\n      <td>161.767407</td>\n      <td>7.486098</td>\n      <td>3.721862</td>\n      <td>2.277164</td>\n      <td>2.217059</td>\n      <td>2.200752</td>\n      <td>3.132896</td>\n      <td>4.435181</td>\n      <td>7.857706</td>\n      <td>7.001653</td>\n      <td>8.411012</td>\n      <td>0.010021</td>\n      <td>1.314224</td>\n      <td>0.822931</td>\n      <td>0.796182</td>\n      <td>0.788799</td>\n      <td>1.141958</td>\n      <td>1.489568</td>\n      <td>2.061495</td>\n      <td>1.946146</td>\n      <td>2.129542</td>\n      <td>4.922657</td>\n      <td>3.453768</td>\n      <td>5.086160</td>\n      <td>2.013048</td>\n      <td>-4.563895</td>\n      <td>4.192729</td>\n    </tr>\n    <tr>\n      <th>1</th>\n      <td>S13002839</td>\n      <td>2020</td>\n      <td>December</td>\n      <td>Thursday</td>\n      <td>08:20:00</td>\n      <td>1</td>\n      <td>38</td>\n      <td>1</td>\n      <td>0</td>\n      <td>0</td>\n      <td>0</td>\n      <td>0</td>\n      <td>0</td>\n      <td>0</td>\n      <td>0</td>\n      <td>0</td>\n      <td>0</td>\n      <td>0</td>\n      <td>0</td>\n      <td>0</td>\n      <td>0</td>\n      <td>0</td>\n      <td>0</td>\n      <td>0</td>\n      <td>0</td>\n      <td>0</td>\n      <td>0</td>\n      <td>0</td>\n      <td>0</td>\n      <td>0</td>\n      <td>0</td>\n      <td>0</td>\n      <td>0</td>\n      <td>0</td>\n      <td>0</td>\n      <td>0</td>\n      <td>0</td>\n      <td>0</td>\n      <td>0</td>\n      <td>0</td>\n      <td>0</td>\n      <td>0</td>\n      <td>0</td>\n      <td>1</td>\n      <td>0</td>\n      <td>0</td>\n      <td>0</td>\n      <td>0</td>\n      <td>0</td>\n      <td>0</td>\n      <td>0</td>\n      <td>0</td>\n      <td>0</td>\n      <td>0</td>\n      <td>0</td>\n      <td>0</td>\n      <td>0</td>\n      <td>0</td>\n      <td>0</td>\n      <td>0</td>\n      <td>0</td>\n      <td>1</td>\n      <td>0</td>\n      <td>0</td>\n      <td>0</td>\n      <td>0</td>\n      <td>0</td>\n      <td>0</td>\n      <td>0</td>\n      <td>0</td>\n      <td>0</td>\n      <td>0</td>\n      <td>0</td>\n      <td>0</td>\n      <td>0</td>\n      <td>0</td>\n      <td>0</td>\n      <td>0</td>\n      <td>1</td>\n      <td>0</td>\n      <td>0</td>\n      <td>0</td>\n      <td>0</td>\n      <td>1</td>\n      <td>0</td>\n      <td>0</td>\n      <td>0</td>\n      <td>0</td>\n      <td>0</td>\n      <td>0</td>\n      <td>0</td>\n      <td>0</td>\n      <td>0</td>\n      <td>0</td>\n      <td>0</td>\n      <td>1</td>\n      <td>0</td>\n      <td>0</td>\n      <td>0</td>\n      <td>0</td>\n      <td>1</td>\n      <td>0</td>\n      <td>0</td>\n      <td>0</td>\n      <td>0</td>\n      <td>0</td>\n      <td>0</td>\n      <td>0</td>\n      <td>0</td>\n      <td>0</td>\n      <td>0</td>\n      <td>0</td>\n      <td>0</td>\n      <td>0</td>\n      <td>0</td>\n      <td>0</td>\n      <td>0</td>\n      <td>0</td>\n      <td>0</td>\n      <td>0</td>\n      <td>0</td>\n      <td>0</td>\n      <td>0</td>\n      <td>0</td>\n      <td>0</td>\n      <td>0</td>\n      <td>0</td>\n      <td>0</td>\n      <td>0</td>\n      <td>0</td>\n      <td>0</td>\n      <td>0</td>\n      <td>0</td>\n      <td>0</td>\n      <td>0</td>\n      <td>0</td>\n      <td>0</td>\n      <td>0</td>\n      <td>0</td>\n      <td>0</td>\n      <td>0</td>\n      <td>0</td>\n      <td>0</td>\n      <td>0</td>\n      <td>0</td>\n      <td>0</td>\n      <td>0</td>\n      <td>0</td>\n      <td>0</td>\n      <td>0</td>\n      <td>0</td>\n      <td>0</td>\n      <td>0</td>\n      <td>0</td>\n      <td>1</td>\n      <td>0</td>\n      <td>0</td>\n      <td>0</td>\n      <td>0</td>\n      <td>0</td>\n      <td>0</td>\n      <td>0</td>\n      <td>0</td>\n      <td>0</td>\n      <td>0</td>\n      <td>0</td>\n      <td>0</td>\n      <td>0</td>\n      <td>0</td>\n      <td>0</td>\n      <td>0</td>\n      <td>0</td>\n      <td>0</td>\n      <td>0</td>\n      <td>0</td>\n      <td>0</td>\n      <td>0</td>\n      <td>0</td>\n      <td>0</td>\n      <td>0</td>\n      <td>0</td>\n      <td>0</td>\n      <td>0</td>\n      <td>0</td>\n      <td>0</td>\n      <td>0</td>\n      <td>0</td>\n      <td>0</td>\n      <td>0</td>\n      <td>0</td>\n      <td>0</td>\n      <td>0</td>\n      <td>0</td>\n      <td>0</td>\n      <td>0</td>\n      <td>0</td>\n      <td>0</td>\n      <td>1</td>\n      <td>0</td>\n      <td>0</td>\n      <td>16101.0</td>\n      <td>10908.0</td>\n      <td>111.354326</td>\n      <td>58.894106</td>\n      <td>101.169493</td>\n      <td>149.910068</td>\n      <td>142.432209</td>\n      <td>111.925781</td>\n      <td>0.186531</td>\n      <td>0.052552</td>\n      <td>114.053475</td>\n      <td>0.763612</td>\n      <td>5.297681</td>\n      <td>102.113161</td>\n      <td>0.050899</td>\n      <td>0.068252</td>\n      <td>39.660145</td>\n      <td>125.782995</td>\n      <td>12.249426</td>\n      <td>3.193064</td>\n      <td>2.740710</td>\n      <td>2.169105</td>\n      <td>2.690311</td>\n      <td>2.955071</td>\n      <td>3.767685</td>\n      <td>8.837237</td>\n      <td>7.539053</td>\n      <td>9.343500</td>\n      <td>0.017194</td>\n      <td>1.160981</td>\n      <td>1.008217</td>\n      <td>0.774315</td>\n      <td>0.989657</td>\n      <td>1.083523</td>\n      <td>1.326461</td>\n      <td>2.178974</td>\n      <td>2.020097</td>\n      <td>2.234681</td>\n      <td>4.712717</td>\n      <td>3.680347</td>\n      <td>4.834558</td>\n      <td>2.505479</td>\n      <td>-4.040199</td>\n      <td>4.075741</td>\n    </tr>\n    <tr>\n      <th>2</th>\n      <td>S13002839</td>\n      <td>2020</td>\n      <td>December</td>\n      <td>Thursday</td>\n      <td>08:20:00</td>\n      <td>1</td>\n      <td>39</td>\n      <td>1</td>\n      <td>0</td>\n      <td>0</td>\n      <td>0</td>\n      <td>0</td>\n      <td>0</td>\n      <td>0</td>\n      <td>0</td>\n      <td>0</td>\n      <td>0</td>\n      <td>0</td>\n      <td>0</td>\n      <td>0</td>\n      <td>0</td>\n      <td>0</td>\n      <td>0</td>\n      <td>0</td>\n      <td>0</td>\n      <td>0</td>\n      <td>0</td>\n      <td>0</td>\n      <td>0</td>\n      <td>0</td>\n      <td>0</td>\n      <td>0</td>\n      <td>0</td>\n      <td>0</td>\n      <td>0</td>\n      <td>0</td>\n      <td>0</td>\n      <td>0</td>\n      <td>0</td>\n      <td>0</td>\n      <td>0</td>\n      <td>0</td>\n      <td>0</td>\n      <td>1</td>\n      <td>0</td>\n      <td>0</td>\n      <td>0</td>\n      <td>0</td>\n      <td>0</td>\n      <td>0</td>\n      <td>0</td>\n      <td>0</td>\n      <td>0</td>\n      <td>0</td>\n      <td>0</td>\n      <td>0</td>\n      <td>0</td>\n      <td>0</td>\n      <td>0</td>\n      <td>0</td>\n      <td>0</td>\n      <td>1</td>\n      <td>0</td>\n      <td>0</td>\n      <td>0</td>\n      <td>0</td>\n      <td>0</td>\n      <td>0</td>\n      <td>0</td>\n      <td>0</td>\n      <td>0</td>\n      <td>0</td>\n      <td>0</td>\n      <td>0</td>\n      <td>0</td>\n      <td>0</td>\n      <td>0</td>\n      <td>0</td>\n      <td>1</td>\n      <td>0</td>\n      <td>0</td>\n      <td>0</td>\n      <td>0</td>\n      <td>1</td>\n      <td>0</td>\n      <td>0</td>\n      <td>0</td>\n      <td>0</td>\n      <td>0</td>\n      <td>0</td>\n      <td>0</td>\n      <td>0</td>\n      <td>0</td>\n      <td>0</td>\n      <td>0</td>\n      <td>1</td>\n      <td>0</td>\n      <td>0</td>\n      <td>0</td>\n      <td>0</td>\n      <td>1</td>\n      <td>0</td>\n      <td>0</td>\n      <td>0</td>\n      <td>0</td>\n      <td>0</td>\n      <td>0</td>\n      <td>0</td>\n      <td>0</td>\n      <td>0</td>\n      <td>0</td>\n      <td>0</td>\n      <td>0</td>\n      <td>0</td>\n      <td>0</td>\n      <td>0</td>\n      <td>0</td>\n      <td>0</td>\n      <td>0</td>\n      <td>0</td>\n      <td>0</td>\n      <td>0</td>\n      <td>0</td>\n      <td>0</td>\n      <td>0</td>\n      <td>0</td>\n      <td>0</td>\n      <td>0</td>\n      <td>0</td>\n      <td>0</td>\n      <td>0</td>\n      <td>0</td>\n      <td>0</td>\n      <td>0</td>\n      <td>0</td>\n      <td>0</td>\n      <td>0</td>\n      <td>0</td>\n      <td>0</td>\n      <td>0</td>\n      <td>0</td>\n      <td>0</td>\n      <td>0</td>\n      <td>0</td>\n      <td>0</td>\n      <td>0</td>\n      <td>0</td>\n      <td>0</td>\n      <td>0</td>\n      <td>0</td>\n      <td>0</td>\n      <td>0</td>\n      <td>0</td>\n      <td>0</td>\n      <td>1</td>\n      <td>0</td>\n      <td>0</td>\n      <td>0</td>\n      <td>0</td>\n      <td>0</td>\n      <td>0</td>\n      <td>0</td>\n      <td>0</td>\n      <td>0</td>\n      <td>0</td>\n      <td>0</td>\n      <td>0</td>\n      <td>0</td>\n      <td>0</td>\n      <td>0</td>\n      <td>0</td>\n      <td>0</td>\n      <td>0</td>\n      <td>0</td>\n      <td>0</td>\n      <td>0</td>\n      <td>0</td>\n      <td>0</td>\n      <td>0</td>\n      <td>0</td>\n      <td>0</td>\n      <td>0</td>\n      <td>0</td>\n      <td>0</td>\n      <td>0</td>\n      <td>0</td>\n      <td>0</td>\n      <td>0</td>\n      <td>0</td>\n      <td>0</td>\n      <td>0</td>\n      <td>0</td>\n      <td>0</td>\n      <td>0</td>\n      <td>0</td>\n      <td>0</td>\n      <td>0</td>\n      <td>1</td>\n      <td>0</td>\n      <td>0</td>\n      <td>16101.0</td>\n      <td>10908.0</td>\n      <td>111.354326</td>\n      <td>58.894106</td>\n      <td>101.169493</td>\n      <td>149.910068</td>\n      <td>142.432209</td>\n      <td>111.925781</td>\n      <td>0.186531</td>\n      <td>0.052552</td>\n      <td>114.053475</td>\n      <td>0.763612</td>\n      <td>5.297681</td>\n      <td>102.113161</td>\n      <td>0.050899</td>\n      <td>0.068252</td>\n      <td>39.660145</td>\n      <td>125.782995</td>\n      <td>12.249426</td>\n      <td>3.193064</td>\n      <td>2.740710</td>\n      <td>2.169105</td>\n      <td>2.690311</td>\n      <td>2.955071</td>\n      <td>3.767685</td>\n      <td>8.837237</td>\n      <td>7.539053</td>\n      <td>9.343500</td>\n      <td>0.017194</td>\n      <td>1.160981</td>\n      <td>1.008217</td>\n      <td>0.774315</td>\n      <td>0.989657</td>\n      <td>1.083523</td>\n      <td>1.326461</td>\n      <td>2.178974</td>\n      <td>2.020097</td>\n      <td>2.234681</td>\n      <td>4.712717</td>\n      <td>3.680347</td>\n      <td>4.834558</td>\n      <td>2.505479</td>\n      <td>-4.040199</td>\n      <td>4.075741</td>\n    </tr>\n    <tr>\n      <th>3</th>\n      <td>S13002842</td>\n      <td>2020</td>\n      <td>December</td>\n      <td>Thursday</td>\n      <td>03:30:00</td>\n      <td>0</td>\n      <td>28</td>\n      <td>0</td>\n      <td>0</td>\n      <td>0</td>\n      <td>0</td>\n      <td>0</td>\n      <td>0</td>\n      <td>0</td>\n      <td>0</td>\n      <td>0</td>\n      <td>0</td>\n      <td>0</td>\n      <td>0</td>\n      <td>0</td>\n      <td>0</td>\n      <td>0</td>\n      <td>0</td>\n      <td>0</td>\n      <td>0</td>\n      <td>0</td>\n      <td>0</td>\n      <td>0</td>\n      <td>0</td>\n      <td>0</td>\n      <td>0</td>\n      <td>0</td>\n      <td>0</td>\n      <td>0</td>\n      <td>0</td>\n      <td>0</td>\n      <td>0</td>\n      <td>0</td>\n      <td>0</td>\n      <td>0</td>\n      <td>0</td>\n      <td>0</td>\n      <td>0</td>\n      <td>0</td>\n      <td>0</td>\n      <td>0</td>\n      <td>0</td>\n      <td>0</td>\n      <td>0</td>\n      <td>1</td>\n      <td>0</td>\n      <td>0</td>\n      <td>0</td>\n      <td>0</td>\n      <td>0</td>\n      <td>0</td>\n      <td>0</td>\n      <td>0</td>\n      <td>0</td>\n      <td>0</td>\n      <td>1</td>\n      <td>0</td>\n      <td>0</td>\n      <td>0</td>\n      <td>0</td>\n      <td>0</td>\n      <td>0</td>\n      <td>0</td>\n      <td>0</td>\n      <td>0</td>\n      <td>0</td>\n      <td>0</td>\n      <td>0</td>\n      <td>0</td>\n      <td>0</td>\n      <td>0</td>\n      <td>0</td>\n      <td>0</td>\n      <td>1</td>\n      <td>0</td>\n      <td>0</td>\n      <td>0</td>\n      <td>0</td>\n      <td>1</td>\n      <td>0</td>\n      <td>0</td>\n      <td>0</td>\n      <td>0</td>\n      <td>0</td>\n      <td>0</td>\n      <td>0</td>\n      <td>0</td>\n      <td>0</td>\n      <td>0</td>\n      <td>0</td>\n      <td>1</td>\n      <td>0</td>\n      <td>0</td>\n      <td>0</td>\n      <td>0</td>\n      <td>1</td>\n      <td>0</td>\n      <td>0</td>\n      <td>0</td>\n      <td>0</td>\n      <td>0</td>\n      <td>0</td>\n      <td>0</td>\n      <td>0</td>\n      <td>0</td>\n      <td>0</td>\n      <td>0</td>\n      <td>0</td>\n      <td>0</td>\n      <td>0</td>\n      <td>0</td>\n      <td>0</td>\n      <td>0</td>\n      <td>0</td>\n      <td>0</td>\n      <td>0</td>\n      <td>0</td>\n      <td>0</td>\n      <td>0</td>\n      <td>0</td>\n      <td>0</td>\n      <td>0</td>\n      <td>0</td>\n      <td>0</td>\n      <td>0</td>\n      <td>0</td>\n      <td>0</td>\n      <td>0</td>\n      <td>0</td>\n      <td>0</td>\n      <td>0</td>\n      <td>0</td>\n      <td>0</td>\n      <td>0</td>\n      <td>0</td>\n      <td>0</td>\n      <td>0</td>\n      <td>0</td>\n      <td>0</td>\n      <td>0</td>\n      <td>0</td>\n      <td>0</td>\n      <td>0</td>\n      <td>0</td>\n      <td>0</td>\n      <td>0</td>\n      <td>0</td>\n      <td>0</td>\n      <td>0</td>\n      <td>1</td>\n      <td>0</td>\n      <td>0</td>\n      <td>0</td>\n      <td>0</td>\n      <td>0</td>\n      <td>0</td>\n      <td>0</td>\n      <td>0</td>\n      <td>0</td>\n      <td>0</td>\n      <td>0</td>\n      <td>0</td>\n      <td>0</td>\n      <td>0</td>\n      <td>0</td>\n      <td>0</td>\n      <td>0</td>\n      <td>0</td>\n      <td>0</td>\n      <td>0</td>\n      <td>0</td>\n      <td>0</td>\n      <td>0</td>\n      <td>0</td>\n      <td>0</td>\n      <td>0</td>\n      <td>0</td>\n      <td>0</td>\n      <td>0</td>\n      <td>0</td>\n      <td>0</td>\n      <td>0</td>\n      <td>0</td>\n      <td>1</td>\n      <td>0</td>\n      <td>0</td>\n      <td>0</td>\n      <td>0</td>\n      <td>0</td>\n      <td>0</td>\n      <td>0</td>\n      <td>0</td>\n      <td>0</td>\n      <td>0</td>\n      <td>0</td>\n      <td>20801.0</td>\n      <td>17835.0</td>\n      <td>83.770924</td>\n      <td>61.538243</td>\n      <td>81.550406</td>\n      <td>125.521513</td>\n      <td>101.328398</td>\n      <td>113.511177</td>\n      <td>0.133666</td>\n      <td>0.047873</td>\n      <td>89.709822</td>\n      <td>0.728000</td>\n      <td>5.044630</td>\n      <td>75.173597</td>\n      <td>0.081155</td>\n      <td>0.105169</td>\n      <td>58.428537</td>\n      <td>216.764434</td>\n      <td>40.309889</td>\n      <td>2.283231</td>\n      <td>1.874862</td>\n      <td>3.066539</td>\n      <td>2.549486</td>\n      <td>2.946118</td>\n      <td>4.350470</td>\n      <td>5.270951</td>\n      <td>6.716557</td>\n      <td>7.025144</td>\n      <td>0.103023</td>\n      <td>0.825591</td>\n      <td>0.628535</td>\n      <td>1.120549</td>\n      <td>0.935892</td>\n      <td>1.080489</td>\n      <td>1.470284</td>\n      <td>1.662211</td>\n      <td>1.904576</td>\n      <td>1.949496</td>\n      <td>4.428086</td>\n      <td>4.067804</td>\n      <td>5.378811</td>\n      <td>3.696597</td>\n      <td>-2.268929</td>\n      <td>4.119659</td>\n    </tr>\n    <tr>\n      <th>4</th>\n      <td>S13002837</td>\n      <td>2020</td>\n      <td>December</td>\n      <td>Thursday</td>\n      <td>02:40:00</td>\n      <td>0</td>\n      <td>30</td>\n      <td>0</td>\n      <td>0</td>\n      <td>0</td>\n      <td>0</td>\n      <td>0</td>\n      <td>0</td>\n      <td>0</td>\n      <td>0</td>\n      <td>0</td>\n      <td>0</td>\n      <td>0</td>\n      <td>0</td>\n      <td>0</td>\n      <td>0</td>\n      <td>0</td>\n      <td>0</td>\n      <td>0</td>\n      <td>0</td>\n      <td>0</td>\n      <td>0</td>\n      <td>0</td>\n      <td>0</td>\n      <td>0</td>\n      <td>0</td>\n      <td>0</td>\n      <td>0</td>\n      <td>0</td>\n      <td>0</td>\n      <td>0</td>\n      <td>0</td>\n      <td>0</td>\n      <td>0</td>\n      <td>0</td>\n      <td>0</td>\n      <td>0</td>\n      <td>0</td>\n      <td>0</td>\n      <td>0</td>\n      <td>0</td>\n      <td>0</td>\n      <td>1</td>\n      <td>0</td>\n      <td>0</td>\n      <td>0</td>\n      <td>0</td>\n      <td>0</td>\n      <td>0</td>\n      <td>0</td>\n      <td>0</td>\n      <td>0</td>\n      <td>0</td>\n      <td>0</td>\n      <td>0</td>\n      <td>1</td>\n      <td>0</td>\n      <td>0</td>\n      <td>0</td>\n      <td>0</td>\n      <td>0</td>\n      <td>0</td>\n      <td>0</td>\n      <td>0</td>\n      <td>0</td>\n      <td>0</td>\n      <td>0</td>\n      <td>0</td>\n      <td>0</td>\n      <td>0</td>\n      <td>0</td>\n      <td>0</td>\n      <td>0</td>\n      <td>0</td>\n      <td>0</td>\n      <td>0</td>\n      <td>0</td>\n      <td>0</td>\n      <td>1</td>\n      <td>0</td>\n      <td>0</td>\n      <td>0</td>\n      <td>0</td>\n      <td>0</td>\n      <td>0</td>\n      <td>0</td>\n      <td>0</td>\n      <td>0</td>\n      <td>0</td>\n      <td>0</td>\n      <td>1</td>\n      <td>0</td>\n      <td>0</td>\n      <td>0</td>\n      <td>0</td>\n      <td>1</td>\n      <td>0</td>\n      <td>0</td>\n      <td>0</td>\n      <td>0</td>\n      <td>0</td>\n      <td>0</td>\n      <td>0</td>\n      <td>0</td>\n      <td>0</td>\n      <td>0</td>\n      <td>0</td>\n      <td>0</td>\n      <td>0</td>\n      <td>0</td>\n      <td>0</td>\n      <td>0</td>\n      <td>0</td>\n      <td>0</td>\n      <td>0</td>\n      <td>0</td>\n      <td>0</td>\n      <td>0</td>\n      <td>0</td>\n      <td>0</td>\n      <td>0</td>\n      <td>0</td>\n      <td>0</td>\n      <td>0</td>\n      <td>0</td>\n      <td>0</td>\n      <td>0</td>\n      <td>0</td>\n      <td>0</td>\n      <td>0</td>\n      <td>0</td>\n      <td>0</td>\n      <td>0</td>\n      <td>0</td>\n      <td>0</td>\n      <td>0</td>\n      <td>0</td>\n      <td>0</td>\n      <td>0</td>\n      <td>0</td>\n      <td>0</td>\n      <td>0</td>\n      <td>0</td>\n      <td>0</td>\n      <td>0</td>\n      <td>0</td>\n      <td>0</td>\n      <td>0</td>\n      <td>0</td>\n      <td>1</td>\n      <td>0</td>\n      <td>0</td>\n      <td>0</td>\n      <td>0</td>\n      <td>0</td>\n      <td>0</td>\n      <td>0</td>\n      <td>0</td>\n      <td>0</td>\n      <td>0</td>\n      <td>0</td>\n      <td>0</td>\n      <td>0</td>\n      <td>0</td>\n      <td>0</td>\n      <td>0</td>\n      <td>0</td>\n      <td>0</td>\n      <td>0</td>\n      <td>0</td>\n      <td>0</td>\n      <td>0</td>\n      <td>0</td>\n      <td>0</td>\n      <td>0</td>\n      <td>0</td>\n      <td>0</td>\n      <td>0</td>\n      <td>0</td>\n      <td>0</td>\n      <td>0</td>\n      <td>0</td>\n      <td>0</td>\n      <td>1</td>\n      <td>0</td>\n      <td>0</td>\n      <td>0</td>\n      <td>0</td>\n      <td>0</td>\n      <td>0</td>\n      <td>0</td>\n      <td>0</td>\n      <td>0</td>\n      <td>0</td>\n      <td>0</td>\n      <td>15236.0</td>\n      <td>9789.0</td>\n      <td>81.807889</td>\n      <td>43.692898</td>\n      <td>90.334077</td>\n      <td>112.810449</td>\n      <td>112.117288</td>\n      <td>98.564321</td>\n      <td>0.182332</td>\n      <td>0.049067</td>\n      <td>104.452087</td>\n      <td>0.842833</td>\n      <td>5.451705</td>\n      <td>90.662707</td>\n      <td>0.033264</td>\n      <td>0.122464</td>\n      <td>21.939354</td>\n      <td>83.170255</td>\n      <td>6.709373</td>\n      <td>4.408539</td>\n      <td>2.733658</td>\n      <td>2.554872</td>\n      <td>2.748820</td>\n      <td>5.310371</td>\n      <td>6.252334</td>\n      <td>8.881655</td>\n      <td>8.871633</td>\n      <td>16.444906</td>\n      <td>0.042190</td>\n      <td>1.483543</td>\n      <td>1.005640</td>\n      <td>0.938002</td>\n      <td>1.011172</td>\n      <td>1.669662</td>\n      <td>1.832955</td>\n      <td>2.183988</td>\n      <td>2.182859</td>\n      <td>2.800016</td>\n      <td>4.404374</td>\n      <td>3.088282</td>\n      <td>4.420890</td>\n      <td>1.903505</td>\n      <td>-3.156131</td>\n      <td>3.777186</td>\n    </tr>\n    <tr>\n      <th>...</th>\n      <td>...</td>\n      <td>...</td>\n      <td>...</td>\n      <td>...</td>\n      <td>...</td>\n      <td>...</td>\n      <td>...</td>\n      <td>...</td>\n      <td>...</td>\n      <td>...</td>\n      <td>...</td>\n      <td>...</td>\n      <td>...</td>\n      <td>...</td>\n      <td>...</td>\n      <td>...</td>\n      <td>...</td>\n      <td>...</td>\n      <td>...</td>\n      <td>...</td>\n      <td>...</td>\n      <td>...</td>\n      <td>...</td>\n      <td>...</td>\n      <td>...</td>\n      <td>...</td>\n      <td>...</td>\n      <td>...</td>\n      <td>...</td>\n      <td>...</td>\n      <td>...</td>\n      <td>...</td>\n      <td>...</td>\n      <td>...</td>\n      <td>...</td>\n      <td>...</td>\n      <td>...</td>\n      <td>...</td>\n      <td>...</td>\n      <td>...</td>\n      <td>...</td>\n      <td>...</td>\n      <td>...</td>\n      <td>...</td>\n      <td>...</td>\n      <td>...</td>\n      <td>...</td>\n      <td>...</td>\n      <td>...</td>\n      <td>...</td>\n      <td>...</td>\n      <td>...</td>\n      <td>...</td>\n      <td>...</td>\n      <td>...</td>\n      <td>...</td>\n      <td>...</td>\n      <td>...</td>\n      <td>...</td>\n      <td>...</td>\n      <td>...</td>\n      <td>...</td>\n      <td>...</td>\n      <td>...</td>\n      <td>...</td>\n      <td>...</td>\n      <td>...</td>\n      <td>...</td>\n      <td>...</td>\n      <td>...</td>\n      <td>...</td>\n      <td>...</td>\n      <td>...</td>\n      <td>...</td>\n      <td>...</td>\n      <td>...</td>\n      <td>...</td>\n      <td>...</td>\n      <td>...</td>\n      <td>...</td>\n      <td>...</td>\n      <td>...</td>\n      <td>...</td>\n      <td>...</td>\n      <td>...</td>\n      <td>...</td>\n      <td>...</td>\n      <td>...</td>\n      <td>...</td>\n      <td>...</td>\n      <td>...</td>\n      <td>...</td>\n      <td>...</td>\n      <td>...</td>\n      <td>...</td>\n      <td>...</td>\n      <td>...</td>\n      <td>...</td>\n      <td>...</td>\n      <td>...</td>\n      <td>...</td>\n      <td>...</td>\n      <td>...</td>\n      <td>...</td>\n      <td>...</td>\n      <td>...</td>\n      <td>...</td>\n      <td>...</td>\n      <td>...</td>\n      <td>...</td>\n      <td>...</td>\n      <td>...</td>\n      <td>...</td>\n      <td>...</td>\n      <td>...</td>\n      <td>...</td>\n      <td>...</td>\n      <td>...</td>\n      <td>...</td>\n      <td>...</td>\n      <td>...</td>\n      <td>...</td>\n      <td>...</td>\n      <td>...</td>\n      <td>...</td>\n      <td>...</td>\n      <td>...</td>\n      <td>...</td>\n      <td>...</td>\n      <td>...</td>\n      <td>...</td>\n      <td>...</td>\n      <td>...</td>\n      <td>...</td>\n      <td>...</td>\n      <td>...</td>\n      <td>...</td>\n      <td>...</td>\n      <td>...</td>\n      <td>...</td>\n      <td>...</td>\n      <td>...</td>\n      <td>...</td>\n      <td>...</td>\n      <td>...</td>\n      <td>...</td>\n      <td>...</td>\n      <td>...</td>\n      <td>...</td>\n      <td>...</td>\n      <td>...</td>\n      <td>...</td>\n      <td>...</td>\n      <td>...</td>\n      <td>...</td>\n      <td>...</td>\n      <td>...</td>\n      <td>...</td>\n      <td>...</td>\n      <td>...</td>\n      <td>...</td>\n      <td>...</td>\n      <td>...</td>\n      <td>...</td>\n      <td>...</td>\n      <td>...</td>\n      <td>...</td>\n      <td>...</td>\n      <td>...</td>\n      <td>...</td>\n      <td>...</td>\n      <td>...</td>\n      <td>...</td>\n      <td>...</td>\n      <td>...</td>\n      <td>...</td>\n      <td>...</td>\n      <td>...</td>\n      <td>...</td>\n      <td>...</td>\n      <td>...</td>\n      <td>...</td>\n      <td>...</td>\n      <td>...</td>\n      <td>...</td>\n      <td>...</td>\n      <td>...</td>\n      <td>...</td>\n      <td>...</td>\n      <td>...</td>\n      <td>...</td>\n      <td>...</td>\n      <td>...</td>\n      <td>...</td>\n      <td>...</td>\n      <td>...</td>\n      <td>...</td>\n      <td>...</td>\n      <td>...</td>\n      <td>...</td>\n      <td>...</td>\n      <td>...</td>\n      <td>...</td>\n      <td>...</td>\n      <td>...</td>\n      <td>...</td>\n      <td>...</td>\n      <td>...</td>\n      <td>...</td>\n      <td>...</td>\n      <td>...</td>\n      <td>...</td>\n      <td>...</td>\n      <td>...</td>\n      <td>...</td>\n      <td>...</td>\n      <td>...</td>\n      <td>...</td>\n      <td>...</td>\n      <td>...</td>\n      <td>...</td>\n      <td>...</td>\n      <td>...</td>\n      <td>...</td>\n      <td>...</td>\n      <td>...</td>\n      <td>...</td>\n      <td>...</td>\n      <td>...</td>\n      <td>...</td>\n      <td>...</td>\n      <td>...</td>\n      <td>...</td>\n      <td>...</td>\n      <td>...</td>\n      <td>...</td>\n      <td>...</td>\n      <td>...</td>\n      <td>...</td>\n      <td>...</td>\n      <td>...</td>\n      <td>...</td>\n      <td>...</td>\n      <td>...</td>\n    </tr>\n    <tr>\n      <th>74404</th>\n      <td>S13002891</td>\n      <td>2019</td>\n      <td>November</td>\n      <td>Saturday</td>\n      <td>18:00:00</td>\n      <td>0</td>\n      <td>46</td>\n      <td>0</td>\n      <td>0</td>\n      <td>0</td>\n      <td>0</td>\n      <td>0</td>\n      <td>0</td>\n      <td>0</td>\n      <td>0</td>\n      <td>0</td>\n      <td>0</td>\n      <td>0</td>\n      <td>0</td>\n      <td>0</td>\n      <td>0</td>\n      <td>0</td>\n      <td>0</td>\n      <td>0</td>\n      <td>0</td>\n      <td>0</td>\n      <td>0</td>\n      <td>0</td>\n      <td>0</td>\n      <td>0</td>\n      <td>0</td>\n      <td>0</td>\n      <td>0</td>\n      <td>0</td>\n      <td>0</td>\n      <td>0</td>\n      <td>0</td>\n      <td>0</td>\n      <td>0</td>\n      <td>0</td>\n      <td>0</td>\n      <td>0</td>\n      <td>0</td>\n      <td>0</td>\n      <td>0</td>\n      <td>0</td>\n      <td>0</td>\n      <td>0</td>\n      <td>0</td>\n      <td>1</td>\n      <td>0</td>\n      <td>0</td>\n      <td>0</td>\n      <td>0</td>\n      <td>0</td>\n      <td>0</td>\n      <td>0</td>\n      <td>0</td>\n      <td>0</td>\n      <td>0</td>\n      <td>1</td>\n      <td>0</td>\n      <td>0</td>\n      <td>0</td>\n      <td>0</td>\n      <td>0</td>\n      <td>0</td>\n      <td>0</td>\n      <td>0</td>\n      <td>0</td>\n      <td>0</td>\n      <td>0</td>\n      <td>0</td>\n      <td>0</td>\n      <td>0</td>\n      <td>0</td>\n      <td>0</td>\n      <td>0</td>\n      <td>1</td>\n      <td>0</td>\n      <td>0</td>\n      <td>1</td>\n      <td>0</td>\n      <td>0</td>\n      <td>0</td>\n      <td>1</td>\n      <td>0</td>\n      <td>0</td>\n      <td>0</td>\n      <td>0</td>\n      <td>0</td>\n      <td>0</td>\n      <td>0</td>\n      <td>0</td>\n      <td>0</td>\n      <td>0</td>\n      <td>0</td>\n      <td>0</td>\n      <td>0</td>\n      <td>1</td>\n      <td>0</td>\n      <td>0</td>\n      <td>0</td>\n      <td>0</td>\n      <td>0</td>\n      <td>0</td>\n      <td>0</td>\n      <td>0</td>\n      <td>0</td>\n      <td>0</td>\n      <td>0</td>\n      <td>0</td>\n      <td>0</td>\n      <td>0</td>\n      <td>0</td>\n      <td>0</td>\n      <td>0</td>\n      <td>0</td>\n      <td>0</td>\n      <td>0</td>\n      <td>0</td>\n      <td>0</td>\n      <td>0</td>\n      <td>0</td>\n      <td>0</td>\n      <td>0</td>\n      <td>0</td>\n      <td>0</td>\n      <td>0</td>\n      <td>0</td>\n      <td>0</td>\n      <td>0</td>\n      <td>0</td>\n      <td>0</td>\n      <td>0</td>\n      <td>0</td>\n      <td>0</td>\n      <td>0</td>\n      <td>0</td>\n      <td>0</td>\n      <td>0</td>\n      <td>0</td>\n      <td>0</td>\n      <td>0</td>\n      <td>0</td>\n      <td>0</td>\n      <td>0</td>\n      <td>0</td>\n      <td>0</td>\n      <td>0</td>\n      <td>0</td>\n      <td>0</td>\n      <td>0</td>\n      <td>1</td>\n      <td>0</td>\n      <td>0</td>\n      <td>0</td>\n      <td>0</td>\n      <td>0</td>\n      <td>0</td>\n      <td>0</td>\n      <td>0</td>\n      <td>0</td>\n      <td>0</td>\n      <td>0</td>\n      <td>0</td>\n      <td>0</td>\n      <td>0</td>\n      <td>0</td>\n      <td>0</td>\n      <td>0</td>\n      <td>0</td>\n      <td>0</td>\n      <td>0</td>\n      <td>0</td>\n      <td>0</td>\n      <td>0</td>\n      <td>0</td>\n      <td>0</td>\n      <td>0</td>\n      <td>0</td>\n      <td>0</td>\n      <td>0</td>\n      <td>0</td>\n      <td>0</td>\n      <td>0</td>\n      <td>0</td>\n      <td>0</td>\n      <td>1</td>\n      <td>0</td>\n      <td>0</td>\n      <td>0</td>\n      <td>0</td>\n      <td>0</td>\n      <td>0</td>\n      <td>0</td>\n      <td>0</td>\n      <td>0</td>\n      <td>0</td>\n      <td>0</td>\n      <td>9799.0</td>\n      <td>5715.0</td>\n      <td>68.070313</td>\n      <td>26.798347</td>\n      <td>75.528625</td>\n      <td>18.427084</td>\n      <td>36.439433</td>\n      <td>64.807429</td>\n      <td>0.153739</td>\n      <td>0.038883</td>\n      <td>49.682519</td>\n      <td>0.846743</td>\n      <td>5.614936</td>\n      <td>121.917645</td>\n      <td>0.024841</td>\n      <td>0.086924</td>\n      <td>16.276470</td>\n      <td>46.818247</td>\n      <td>13.771099</td>\n      <td>4.419889</td>\n      <td>4.119678</td>\n      <td>3.339694</td>\n      <td>3.052060</td>\n      <td>5.836578</td>\n      <td>11.428119</td>\n      <td>11.333052</td>\n      <td>9.433850</td>\n      <td>14.124586</td>\n      <td>0.191165</td>\n      <td>1.486115</td>\n      <td>1.415775</td>\n      <td>1.205879</td>\n      <td>1.115817</td>\n      <td>1.764145</td>\n      <td>2.436077</td>\n      <td>2.427723</td>\n      <td>2.244304</td>\n      <td>2.647917</td>\n      <td>4.220541</td>\n      <td>2.789721</td>\n      <td>3.846273</td>\n      <td>2.622572</td>\n      <td>-1.652526</td>\n      <td>3.288340</td>\n    </tr>\n    <tr>\n      <th>74405</th>\n      <td>S13002891</td>\n      <td>2019</td>\n      <td>November</td>\n      <td>Saturday</td>\n      <td>18:00:00</td>\n      <td>0</td>\n      <td>44</td>\n      <td>0</td>\n      <td>0</td>\n      <td>0</td>\n      <td>0</td>\n      <td>0</td>\n      <td>0</td>\n      <td>0</td>\n      <td>0</td>\n      <td>0</td>\n      <td>0</td>\n      <td>0</td>\n      <td>0</td>\n      <td>0</td>\n      <td>0</td>\n      <td>0</td>\n      <td>0</td>\n      <td>0</td>\n      <td>0</td>\n      <td>0</td>\n      <td>0</td>\n      <td>0</td>\n      <td>0</td>\n      <td>0</td>\n      <td>0</td>\n      <td>0</td>\n      <td>0</td>\n      <td>0</td>\n      <td>0</td>\n      <td>0</td>\n      <td>0</td>\n      <td>0</td>\n      <td>0</td>\n      <td>0</td>\n      <td>0</td>\n      <td>0</td>\n      <td>0</td>\n      <td>0</td>\n      <td>0</td>\n      <td>0</td>\n      <td>0</td>\n      <td>0</td>\n      <td>0</td>\n      <td>1</td>\n      <td>0</td>\n      <td>0</td>\n      <td>0</td>\n      <td>0</td>\n      <td>0</td>\n      <td>0</td>\n      <td>0</td>\n      <td>0</td>\n      <td>0</td>\n      <td>0</td>\n      <td>1</td>\n      <td>0</td>\n      <td>0</td>\n      <td>0</td>\n      <td>0</td>\n      <td>0</td>\n      <td>0</td>\n      <td>0</td>\n      <td>0</td>\n      <td>0</td>\n      <td>0</td>\n      <td>0</td>\n      <td>0</td>\n      <td>0</td>\n      <td>0</td>\n      <td>0</td>\n      <td>0</td>\n      <td>0</td>\n      <td>1</td>\n      <td>0</td>\n      <td>0</td>\n      <td>1</td>\n      <td>0</td>\n      <td>0</td>\n      <td>0</td>\n      <td>1</td>\n      <td>0</td>\n      <td>0</td>\n      <td>0</td>\n      <td>0</td>\n      <td>0</td>\n      <td>0</td>\n      <td>0</td>\n      <td>0</td>\n      <td>0</td>\n      <td>0</td>\n      <td>0</td>\n      <td>0</td>\n      <td>0</td>\n      <td>1</td>\n      <td>0</td>\n      <td>0</td>\n      <td>0</td>\n      <td>0</td>\n      <td>0</td>\n      <td>0</td>\n      <td>0</td>\n      <td>0</td>\n      <td>0</td>\n      <td>0</td>\n      <td>0</td>\n      <td>0</td>\n      <td>0</td>\n      <td>0</td>\n      <td>0</td>\n      <td>0</td>\n      <td>0</td>\n      <td>0</td>\n      <td>0</td>\n      <td>0</td>\n      <td>0</td>\n      <td>0</td>\n      <td>0</td>\n      <td>0</td>\n      <td>0</td>\n      <td>0</td>\n      <td>0</td>\n      <td>0</td>\n      <td>0</td>\n      <td>0</td>\n      <td>0</td>\n      <td>0</td>\n      <td>0</td>\n      <td>0</td>\n      <td>0</td>\n      <td>0</td>\n      <td>0</td>\n      <td>0</td>\n      <td>0</td>\n      <td>0</td>\n      <td>0</td>\n      <td>0</td>\n      <td>0</td>\n      <td>0</td>\n      <td>0</td>\n      <td>0</td>\n      <td>0</td>\n      <td>0</td>\n      <td>0</td>\n      <td>0</td>\n      <td>0</td>\n      <td>0</td>\n      <td>0</td>\n      <td>1</td>\n      <td>0</td>\n      <td>0</td>\n      <td>0</td>\n      <td>0</td>\n      <td>0</td>\n      <td>0</td>\n      <td>0</td>\n      <td>0</td>\n      <td>0</td>\n      <td>0</td>\n      <td>0</td>\n      <td>0</td>\n      <td>0</td>\n      <td>0</td>\n      <td>0</td>\n      <td>0</td>\n      <td>0</td>\n      <td>0</td>\n      <td>0</td>\n      <td>0</td>\n      <td>0</td>\n      <td>0</td>\n      <td>0</td>\n      <td>0</td>\n      <td>0</td>\n      <td>0</td>\n      <td>0</td>\n      <td>0</td>\n      <td>0</td>\n      <td>0</td>\n      <td>0</td>\n      <td>0</td>\n      <td>0</td>\n      <td>0</td>\n      <td>1</td>\n      <td>0</td>\n      <td>0</td>\n      <td>0</td>\n      <td>0</td>\n      <td>0</td>\n      <td>0</td>\n      <td>0</td>\n      <td>0</td>\n      <td>0</td>\n      <td>0</td>\n      <td>0</td>\n      <td>9799.0</td>\n      <td>5715.0</td>\n      <td>68.070313</td>\n      <td>26.798347</td>\n      <td>75.528625</td>\n      <td>18.427084</td>\n      <td>36.439433</td>\n      <td>64.807429</td>\n      <td>0.153739</td>\n      <td>0.038883</td>\n      <td>49.682519</td>\n      <td>0.846743</td>\n      <td>5.614936</td>\n      <td>121.917645</td>\n      <td>0.024841</td>\n      <td>0.086924</td>\n      <td>16.276470</td>\n      <td>46.818247</td>\n      <td>13.771099</td>\n      <td>4.419889</td>\n      <td>4.119678</td>\n      <td>3.339694</td>\n      <td>3.052060</td>\n      <td>5.836578</td>\n      <td>11.428119</td>\n      <td>11.333052</td>\n      <td>9.433850</td>\n      <td>14.124586</td>\n      <td>0.191165</td>\n      <td>1.486115</td>\n      <td>1.415775</td>\n      <td>1.205879</td>\n      <td>1.115817</td>\n      <td>1.764145</td>\n      <td>2.436077</td>\n      <td>2.427723</td>\n      <td>2.244304</td>\n      <td>2.647917</td>\n      <td>4.220541</td>\n      <td>2.789721</td>\n      <td>3.846273</td>\n      <td>2.622572</td>\n      <td>-1.652526</td>\n      <td>3.288340</td>\n    </tr>\n    <tr>\n      <th>74406</th>\n      <td>S13002891</td>\n      <td>2019</td>\n      <td>November</td>\n      <td>Saturday</td>\n      <td>18:00:00</td>\n      <td>1</td>\n      <td>43</td>\n      <td>1</td>\n      <td>0</td>\n      <td>0</td>\n      <td>0</td>\n      <td>0</td>\n      <td>0</td>\n      <td>0</td>\n      <td>0</td>\n      <td>0</td>\n      <td>0</td>\n      <td>0</td>\n      <td>0</td>\n      <td>0</td>\n      <td>0</td>\n      <td>0</td>\n      <td>0</td>\n      <td>0</td>\n      <td>0</td>\n      <td>0</td>\n      <td>0</td>\n      <td>0</td>\n      <td>0</td>\n      <td>0</td>\n      <td>0</td>\n      <td>0</td>\n      <td>0</td>\n      <td>0</td>\n      <td>0</td>\n      <td>0</td>\n      <td>0</td>\n      <td>0</td>\n      <td>0</td>\n      <td>0</td>\n      <td>0</td>\n      <td>0</td>\n      <td>0</td>\n      <td>0</td>\n      <td>0</td>\n      <td>0</td>\n      <td>0</td>\n      <td>0</td>\n      <td>0</td>\n      <td>1</td>\n      <td>0</td>\n      <td>0</td>\n      <td>0</td>\n      <td>0</td>\n      <td>0</td>\n      <td>0</td>\n      <td>0</td>\n      <td>0</td>\n      <td>0</td>\n      <td>0</td>\n      <td>1</td>\n      <td>0</td>\n      <td>0</td>\n      <td>0</td>\n      <td>0</td>\n      <td>0</td>\n      <td>0</td>\n      <td>0</td>\n      <td>0</td>\n      <td>0</td>\n      <td>0</td>\n      <td>0</td>\n      <td>0</td>\n      <td>0</td>\n      <td>0</td>\n      <td>0</td>\n      <td>0</td>\n      <td>0</td>\n      <td>1</td>\n      <td>0</td>\n      <td>0</td>\n      <td>1</td>\n      <td>0</td>\n      <td>0</td>\n      <td>0</td>\n      <td>1</td>\n      <td>0</td>\n      <td>0</td>\n      <td>0</td>\n      <td>0</td>\n      <td>0</td>\n      <td>0</td>\n      <td>0</td>\n      <td>0</td>\n      <td>0</td>\n      <td>0</td>\n      <td>0</td>\n      <td>0</td>\n      <td>0</td>\n      <td>1</td>\n      <td>0</td>\n      <td>0</td>\n      <td>0</td>\n      <td>0</td>\n      <td>0</td>\n      <td>0</td>\n      <td>0</td>\n      <td>0</td>\n      <td>0</td>\n      <td>0</td>\n      <td>0</td>\n      <td>0</td>\n      <td>0</td>\n      <td>0</td>\n      <td>0</td>\n      <td>0</td>\n      <td>0</td>\n      <td>0</td>\n      <td>0</td>\n      <td>0</td>\n      <td>0</td>\n      <td>0</td>\n      <td>0</td>\n      <td>0</td>\n      <td>0</td>\n      <td>0</td>\n      <td>0</td>\n      <td>0</td>\n      <td>0</td>\n      <td>0</td>\n      <td>0</td>\n      <td>0</td>\n      <td>0</td>\n      <td>0</td>\n      <td>0</td>\n      <td>0</td>\n      <td>0</td>\n      <td>0</td>\n      <td>0</td>\n      <td>0</td>\n      <td>0</td>\n      <td>0</td>\n      <td>0</td>\n      <td>0</td>\n      <td>0</td>\n      <td>0</td>\n      <td>0</td>\n      <td>0</td>\n      <td>0</td>\n      <td>0</td>\n      <td>0</td>\n      <td>0</td>\n      <td>0</td>\n      <td>1</td>\n      <td>0</td>\n      <td>0</td>\n      <td>0</td>\n      <td>0</td>\n      <td>0</td>\n      <td>0</td>\n      <td>0</td>\n      <td>0</td>\n      <td>0</td>\n      <td>0</td>\n      <td>0</td>\n      <td>0</td>\n      <td>0</td>\n      <td>0</td>\n      <td>0</td>\n      <td>0</td>\n      <td>0</td>\n      <td>0</td>\n      <td>0</td>\n      <td>0</td>\n      <td>0</td>\n      <td>0</td>\n      <td>0</td>\n      <td>0</td>\n      <td>0</td>\n      <td>0</td>\n      <td>0</td>\n      <td>0</td>\n      <td>0</td>\n      <td>0</td>\n      <td>0</td>\n      <td>0</td>\n      <td>0</td>\n      <td>0</td>\n      <td>1</td>\n      <td>0</td>\n      <td>0</td>\n      <td>0</td>\n      <td>0</td>\n      <td>0</td>\n      <td>0</td>\n      <td>0</td>\n      <td>0</td>\n      <td>0</td>\n      <td>0</td>\n      <td>0</td>\n      <td>9799.0</td>\n      <td>5715.0</td>\n      <td>68.070313</td>\n      <td>26.798347</td>\n      <td>75.528625</td>\n      <td>18.427084</td>\n      <td>36.439433</td>\n      <td>64.807429</td>\n      <td>0.153739</td>\n      <td>0.038883</td>\n      <td>49.682519</td>\n      <td>0.846743</td>\n      <td>5.614936</td>\n      <td>121.917645</td>\n      <td>0.024841</td>\n      <td>0.086924</td>\n      <td>16.276470</td>\n      <td>46.818247</td>\n      <td>13.771099</td>\n      <td>4.419889</td>\n      <td>4.119678</td>\n      <td>3.339694</td>\n      <td>3.052060</td>\n      <td>5.836578</td>\n      <td>11.428119</td>\n      <td>11.333052</td>\n      <td>9.433850</td>\n      <td>14.124586</td>\n      <td>0.191165</td>\n      <td>1.486115</td>\n      <td>1.415775</td>\n      <td>1.205879</td>\n      <td>1.115817</td>\n      <td>1.764145</td>\n      <td>2.436077</td>\n      <td>2.427723</td>\n      <td>2.244304</td>\n      <td>2.647917</td>\n      <td>4.220541</td>\n      <td>2.789721</td>\n      <td>3.846273</td>\n      <td>2.622572</td>\n      <td>-1.652526</td>\n      <td>3.288340</td>\n    </tr>\n    <tr>\n      <th>74407</th>\n      <td>S13002767</td>\n      <td>2019</td>\n      <td>July</td>\n      <td>Tuesday</td>\n      <td>20:00:00</td>\n      <td>1</td>\n      <td>29</td>\n      <td>1</td>\n      <td>0</td>\n      <td>0</td>\n      <td>0</td>\n      <td>0</td>\n      <td>0</td>\n      <td>0</td>\n      <td>0</td>\n      <td>0</td>\n      <td>0</td>\n      <td>0</td>\n      <td>0</td>\n      <td>0</td>\n      <td>0</td>\n      <td>0</td>\n      <td>0</td>\n      <td>0</td>\n      <td>0</td>\n      <td>0</td>\n      <td>0</td>\n      <td>0</td>\n      <td>0</td>\n      <td>0</td>\n      <td>0</td>\n      <td>0</td>\n      <td>0</td>\n      <td>0</td>\n      <td>0</td>\n      <td>0</td>\n      <td>0</td>\n      <td>0</td>\n      <td>0</td>\n      <td>0</td>\n      <td>0</td>\n      <td>0</td>\n      <td>0</td>\n      <td>0</td>\n      <td>0</td>\n      <td>0</td>\n      <td>0</td>\n      <td>0</td>\n      <td>0</td>\n      <td>1</td>\n      <td>0</td>\n      <td>0</td>\n      <td>0</td>\n      <td>0</td>\n      <td>0</td>\n      <td>0</td>\n      <td>0</td>\n      <td>0</td>\n      <td>0</td>\n      <td>0</td>\n      <td>1</td>\n      <td>0</td>\n      <td>0</td>\n      <td>0</td>\n      <td>0</td>\n      <td>0</td>\n      <td>0</td>\n      <td>0</td>\n      <td>0</td>\n      <td>0</td>\n      <td>0</td>\n      <td>0</td>\n      <td>0</td>\n      <td>0</td>\n      <td>0</td>\n      <td>0</td>\n      <td>0</td>\n      <td>0</td>\n      <td>1</td>\n      <td>0</td>\n      <td>0</td>\n      <td>0</td>\n      <td>0</td>\n      <td>0</td>\n      <td>0</td>\n      <td>0</td>\n      <td>0</td>\n      <td>0</td>\n      <td>0</td>\n      <td>0</td>\n      <td>0</td>\n      <td>0</td>\n      <td>0</td>\n      <td>0</td>\n      <td>0</td>\n      <td>0</td>\n      <td>0</td>\n      <td>0</td>\n      <td>0</td>\n      <td>0</td>\n      <td>0</td>\n      <td>0</td>\n      <td>0</td>\n      <td>0</td>\n      <td>0</td>\n      <td>0</td>\n      <td>0</td>\n      <td>0</td>\n      <td>0</td>\n      <td>0</td>\n      <td>0</td>\n      <td>0</td>\n      <td>0</td>\n      <td>0</td>\n      <td>0</td>\n      <td>0</td>\n      <td>0</td>\n      <td>0</td>\n      <td>0</td>\n      <td>0</td>\n      <td>0</td>\n      <td>0</td>\n      <td>0</td>\n      <td>0</td>\n      <td>0</td>\n      <td>0</td>\n      <td>0</td>\n      <td>0</td>\n      <td>0</td>\n      <td>0</td>\n      <td>0</td>\n      <td>0</td>\n      <td>0</td>\n      <td>0</td>\n      <td>0</td>\n      <td>0</td>\n      <td>0</td>\n      <td>0</td>\n      <td>0</td>\n      <td>0</td>\n      <td>0</td>\n      <td>0</td>\n      <td>0</td>\n      <td>0</td>\n      <td>0</td>\n      <td>0</td>\n      <td>0</td>\n      <td>0</td>\n      <td>0</td>\n      <td>0</td>\n      <td>0</td>\n      <td>0</td>\n      <td>0</td>\n      <td>0</td>\n      <td>0</td>\n      <td>0</td>\n      <td>0</td>\n      <td>0</td>\n      <td>0</td>\n      <td>0</td>\n      <td>0</td>\n      <td>0</td>\n      <td>0</td>\n      <td>0</td>\n      <td>0</td>\n      <td>0</td>\n      <td>0</td>\n      <td>0</td>\n      <td>0</td>\n      <td>0</td>\n      <td>0</td>\n      <td>0</td>\n      <td>0</td>\n      <td>0</td>\n      <td>0</td>\n      <td>0</td>\n      <td>0</td>\n      <td>0</td>\n      <td>0</td>\n      <td>0</td>\n      <td>0</td>\n      <td>0</td>\n      <td>0</td>\n      <td>0</td>\n      <td>0</td>\n      <td>0</td>\n      <td>0</td>\n      <td>0</td>\n      <td>1</td>\n      <td>0</td>\n      <td>0</td>\n      <td>0</td>\n      <td>0</td>\n      <td>0</td>\n      <td>0</td>\n      <td>0</td>\n      <td>0</td>\n      <td>0</td>\n      <td>0</td>\n      <td>0</td>\n      <td>10558.0</td>\n      <td>6110.0</td>\n      <td>71.942224</td>\n      <td>31.917409</td>\n      <td>79.966376</td>\n      <td>52.563743</td>\n      <td>23.068384</td>\n      <td>84.988255</td>\n      <td>0.181353</td>\n      <td>0.057391</td>\n      <td>95.949801</td>\n      <td>0.823430</td>\n      <td>5.613980</td>\n      <td>96.190377</td>\n      <td>0.025328</td>\n      <td>0.095934</td>\n      <td>14.419866</td>\n      <td>51.325535</td>\n      <td>23.666793</td>\n      <td>6.310870</td>\n      <td>4.814053</td>\n      <td>4.916282</td>\n      <td>3.945324</td>\n      <td>5.890155</td>\n      <td>8.216449</td>\n      <td>13.623541</td>\n      <td>12.152823</td>\n      <td>15.284462</td>\n      <td>0.189425</td>\n      <td>1.842274</td>\n      <td>1.571539</td>\n      <td>1.592553</td>\n      <td>1.372531</td>\n      <td>1.773282</td>\n      <td>2.106138</td>\n      <td>2.611799</td>\n      <td>2.497561</td>\n      <td>2.726837</td>\n      <td>4.275863</td>\n      <td>2.668607</td>\n      <td>3.938188</td>\n      <td>3.164073</td>\n      <td>-1.661652</td>\n      <td>3.463152</td>\n    </tr>\n    <tr>\n      <th>74408</th>\n      <td>S13002891</td>\n      <td>2019</td>\n      <td>May</td>\n      <td>Monday</td>\n      <td>23:33:00</td>\n      <td>0</td>\n      <td>49</td>\n      <td>0</td>\n      <td>0</td>\n      <td>0</td>\n      <td>0</td>\n      <td>0</td>\n      <td>0</td>\n      <td>0</td>\n      <td>0</td>\n      <td>0</td>\n      <td>0</td>\n      <td>0</td>\n      <td>0</td>\n      <td>0</td>\n      <td>0</td>\n      <td>0</td>\n      <td>0</td>\n      <td>0</td>\n      <td>0</td>\n      <td>0</td>\n      <td>0</td>\n      <td>0</td>\n      <td>0</td>\n      <td>0</td>\n      <td>0</td>\n      <td>0</td>\n      <td>0</td>\n      <td>0</td>\n      <td>0</td>\n      <td>0</td>\n      <td>0</td>\n      <td>0</td>\n      <td>0</td>\n      <td>0</td>\n      <td>0</td>\n      <td>0</td>\n      <td>0</td>\n      <td>0</td>\n      <td>0</td>\n      <td>0</td>\n      <td>0</td>\n      <td>0</td>\n      <td>0</td>\n      <td>1</td>\n      <td>0</td>\n      <td>0</td>\n      <td>0</td>\n      <td>0</td>\n      <td>0</td>\n      <td>0</td>\n      <td>0</td>\n      <td>0</td>\n      <td>0</td>\n      <td>0</td>\n      <td>1</td>\n      <td>0</td>\n      <td>0</td>\n      <td>0</td>\n      <td>0</td>\n      <td>0</td>\n      <td>0</td>\n      <td>0</td>\n      <td>0</td>\n      <td>0</td>\n      <td>0</td>\n      <td>0</td>\n      <td>0</td>\n      <td>0</td>\n      <td>0</td>\n      <td>0</td>\n      <td>0</td>\n      <td>0</td>\n      <td>1</td>\n      <td>0</td>\n      <td>0</td>\n      <td>1</td>\n      <td>0</td>\n      <td>0</td>\n      <td>0</td>\n      <td>1</td>\n      <td>0</td>\n      <td>0</td>\n      <td>0</td>\n      <td>0</td>\n      <td>0</td>\n      <td>0</td>\n      <td>0</td>\n      <td>0</td>\n      <td>0</td>\n      <td>0</td>\n      <td>0</td>\n      <td>0</td>\n      <td>0</td>\n      <td>1</td>\n      <td>0</td>\n      <td>0</td>\n      <td>0</td>\n      <td>0</td>\n      <td>0</td>\n      <td>0</td>\n      <td>0</td>\n      <td>0</td>\n      <td>0</td>\n      <td>0</td>\n      <td>0</td>\n      <td>0</td>\n      <td>0</td>\n      <td>0</td>\n      <td>0</td>\n      <td>0</td>\n      <td>0</td>\n      <td>0</td>\n      <td>0</td>\n      <td>0</td>\n      <td>0</td>\n      <td>0</td>\n      <td>0</td>\n      <td>0</td>\n      <td>0</td>\n      <td>0</td>\n      <td>0</td>\n      <td>0</td>\n      <td>0</td>\n      <td>0</td>\n      <td>0</td>\n      <td>0</td>\n      <td>0</td>\n      <td>0</td>\n      <td>0</td>\n      <td>0</td>\n      <td>0</td>\n      <td>0</td>\n      <td>0</td>\n      <td>0</td>\n      <td>0</td>\n      <td>0</td>\n      <td>0</td>\n      <td>0</td>\n      <td>0</td>\n      <td>0</td>\n      <td>0</td>\n      <td>0</td>\n      <td>0</td>\n      <td>0</td>\n      <td>0</td>\n      <td>0</td>\n      <td>0</td>\n      <td>1</td>\n      <td>0</td>\n      <td>0</td>\n      <td>0</td>\n      <td>0</td>\n      <td>0</td>\n      <td>0</td>\n      <td>0</td>\n      <td>0</td>\n      <td>0</td>\n      <td>0</td>\n      <td>0</td>\n      <td>0</td>\n      <td>0</td>\n      <td>0</td>\n      <td>0</td>\n      <td>0</td>\n      <td>0</td>\n      <td>0</td>\n      <td>0</td>\n      <td>0</td>\n      <td>0</td>\n      <td>0</td>\n      <td>0</td>\n      <td>0</td>\n      <td>0</td>\n      <td>0</td>\n      <td>0</td>\n      <td>0</td>\n      <td>0</td>\n      <td>0</td>\n      <td>0</td>\n      <td>0</td>\n      <td>0</td>\n      <td>0</td>\n      <td>1</td>\n      <td>0</td>\n      <td>0</td>\n      <td>0</td>\n      <td>0</td>\n      <td>0</td>\n      <td>0</td>\n      <td>0</td>\n      <td>0</td>\n      <td>0</td>\n      <td>0</td>\n      <td>0</td>\n      <td>9799.0</td>\n      <td>5715.0</td>\n      <td>68.070313</td>\n      <td>26.798347</td>\n      <td>75.528625</td>\n      <td>18.427084</td>\n      <td>36.439433</td>\n      <td>64.807429</td>\n      <td>0.153739</td>\n      <td>0.038883</td>\n      <td>49.682519</td>\n      <td>0.846743</td>\n      <td>5.614936</td>\n      <td>121.917645</td>\n      <td>0.024841</td>\n      <td>0.086924</td>\n      <td>16.276470</td>\n      <td>46.818247</td>\n      <td>13.771099</td>\n      <td>4.419889</td>\n      <td>4.119678</td>\n      <td>3.339694</td>\n      <td>3.052060</td>\n      <td>5.836578</td>\n      <td>11.428119</td>\n      <td>11.333052</td>\n      <td>9.433850</td>\n      <td>14.124586</td>\n      <td>0.191165</td>\n      <td>1.486115</td>\n      <td>1.415775</td>\n      <td>1.205879</td>\n      <td>1.115817</td>\n      <td>1.764145</td>\n      <td>2.436077</td>\n      <td>2.427723</td>\n      <td>2.244304</td>\n      <td>2.647917</td>\n      <td>4.220541</td>\n      <td>2.789721</td>\n      <td>3.846273</td>\n      <td>2.622572</td>\n      <td>-1.652526</td>\n      <td>3.288340</td>\n    </tr>\n  </tbody>\n</table>\n<p>74409 rows × 244 columns</p>\n</div>"
     },
     "metadata": {},
     "execution_count": 412
    }
   ],
   "source": [
    "df_simd = pd.read_csv(\"data/simd_2020_ward.csv\", index_col=0)\n",
    "df_stopsearch = pd.read_csv(\"data/stop_search_clean.csv\", index_col=0)\n",
    "df_stopsearch = df_stopsearch.rename(columns={\"Multi Member Ward\":\"ward_code\"})\n",
    "\n",
    "df_init = df_stopsearch.merge(right=df_simd, how=\"left\", on=\"ward_code\", validate=\"many_to_one\")\n",
    "df_init\n"
   ]
  },
  {
   "cell_type": "code",
   "execution_count": 413,
   "metadata": {},
   "outputs": [],
   "source": [
    "label = \"Search Result\"\n",
    "s_labels = df_init[label]\n",
    "df_init = df_init.drop(label, axis=1)\n",
    "df_init = df_init.drop(\"ward_code\", axis=1)"
   ]
  },
  {
   "source": [
    "## Split Data"
   ],
   "cell_type": "markdown",
   "metadata": {}
  },
  {
   "cell_type": "code",
   "execution_count": 414,
   "metadata": {},
   "outputs": [],
   "source": [
    "from sklearn.model_selection import train_test_split\n",
    "\n",
    "X_train_init, X_val_init, y_train, y_val = train_test_split(df_init.copy(), s_labels.copy(), random_state=42, test_size=0.5)\n",
    "X_test_init, X_val_init, y_test, y_val = train_test_split(X_val_init, y_val, random_state=42, test_size=0.5)"
   ]
  },
  {
   "source": [
    "# Initial Model\n",
    "\n",
    "Intuitively we might expect the stop and search data on its own to have some predictive power in the outcome of a stop and search. We'll first build this model and then try and improve upon it with the deprivation data.\n",
    "\n",
    "We have a lot of features even in just the stop and search data - many of them one hot encodings of categorical variables. We will try and cut them down to what we think are the most useful initially.\n",
    "\n",
    "- The date/time columns are difficult to work with, so we will drop those initially.\n",
    "- Descriptions of items found are not predicting features, they would be targets and these can be our stretch goal for the project.\n",
    "- The search statute and search reason could be useful but have a feeling they could be well correlated, can we explore this?\n",
    "- Age, gender, ethnicity are definitely going to be important.\n",
    "- Command Code, Area Command Code and Council code could be useful to link areas that are close together or operate under the same police command.\n",
    "\n",
    "Initially, we'll start with just Age, Gender and Ethinicity\n"
   ],
   "cell_type": "markdown",
   "metadata": {}
  },
  {
   "cell_type": "code",
   "execution_count": 415,
   "metadata": {},
   "outputs": [
    {
     "output_type": "stream",
     "name": "stdout",
     "text": [
      "Training score: 0.642\nValidation Score:0.646\n"
     ]
    }
   ],
   "source": [
    "cols = X_train_init.columns[X_train_init.columns.str.contains(\"Nominal Ethnicity.*\", regex=True)].to_list()\n",
    "cols += [\"Nominal Age\", \"Nominal Gender_Male\"]\n",
    "\n",
    "X_train = X_train_init[cols]\n",
    "X_val = X_val_init[cols]\n",
    "\n",
    "from sklearn.linear_model import LogisticRegression\n",
    "\n",
    "models = {}\n",
    "\n",
    "model=\"Age, Ethnicity, Gender\"\n",
    "#don't apply regularisation: our features are not standaridezed and we want to avoid this to aid interpretation\n",
    "models[model] = LogisticRegression(\n",
    "    penalty=\"none\",\n",
    "    max_iter=300\n",
    "    )\n",
    "\n",
    "models[model].fit(X_train, y_train)\n",
    "\n",
    "print(\"Training score: {:.3f}\\nValidation Score:{:.3f}\".format(models[model].score(X_train, y_train), models[model].score(X_val, y_val)))"
   ]
  },
  {
   "source": [
    "### Accuracy"
   ],
   "cell_type": "markdown",
   "metadata": {}
  },
  {
   "cell_type": "code",
   "execution_count": 416,
   "metadata": {},
   "outputs": [
    {
     "output_type": "stream",
     "name": "stdout",
     "text": [
      "Proportion of positive outcomes = 0.3578378668960327\n"
     ]
    }
   ],
   "source": [
    "positive = y_train[y_train==1].count()\n",
    "negative = y_train[y_train==0].count()\n",
    "\n",
    "print(f\"Proportion of positive outcomes = {positive/(positive+negative)}\")"
   ]
  },
  {
   "source": [
    "Given that our data is split approximately 1/3 and 2/3 positive and negative outcomes, a 64% accuracy could mean our model is successful just always predicting negative.\n",
    "\n",
    "We can check other metrics to explore how effective our model actually is:\n",
    "- True positive rate and false negative rates\n",
    "- AUC ROC score"
   ],
   "cell_type": "markdown",
   "metadata": {}
  },
  {
   "source": [
    "### Confusion Matrix"
   ],
   "cell_type": "markdown",
   "metadata": {}
  },
  {
   "cell_type": "code",
   "execution_count": 417,
   "metadata": {},
   "outputs": [
    {
     "output_type": "stream",
     "name": "stdout",
     "text": [
      "True Negatives: 23,852\nFalse Positives: 39\nFalse Negatives: 13,270\nTrue Positives: 43\n\nTrue positive rate: 0.003230\nFalse positive rate: 0.001632\nConfusion matrix:\n [[23852    39]\n [13270    43]]\n"
     ]
    },
    {
     "output_type": "display_data",
     "data": {
      "text/plain": "<Figure size 432x288 with 2 Axes>",
      "image/svg+xml": "<?xml version=\"1.0\" encoding=\"utf-8\" standalone=\"no\"?>\n<!DOCTYPE svg PUBLIC \"-//W3C//DTD SVG 1.1//EN\"\n  \"http://www.w3.org/Graphics/SVG/1.1/DTD/svg11.dtd\">\n<!-- Created with matplotlib (https://matplotlib.org/) -->\n<svg height=\"277.314375pt\" version=\"1.1\" viewBox=\"0 0 354.791062 277.314375\" width=\"354.791062pt\" xmlns=\"http://www.w3.org/2000/svg\" xmlns:xlink=\"http://www.w3.org/1999/xlink\">\n <metadata>\n  <rdf:RDF xmlns:cc=\"http://creativecommons.org/ns#\" xmlns:dc=\"http://purl.org/dc/elements/1.1/\" xmlns:rdf=\"http://www.w3.org/1999/02/22-rdf-syntax-ns#\">\n   <cc:Work>\n    <dc:type rdf:resource=\"http://purl.org/dc/dcmitype/StillImage\"/>\n    <dc:date>2021-04-23T11:50:41.071243</dc:date>\n    <dc:format>image/svg+xml</dc:format>\n    <dc:creator>\n     <cc:Agent>\n      <dc:title>Matplotlib v3.3.4, https://matplotlib.org/</dc:title>\n     </cc:Agent>\n    </dc:creator>\n   </cc:Work>\n  </rdf:RDF>\n </metadata>\n <defs>\n  <style type=\"text/css\">*{stroke-linecap:butt;stroke-linejoin:round;}</style>\n </defs>\n <g id=\"figure_1\">\n  <g id=\"patch_1\">\n   <path d=\"M 0 277.314375 \nL 354.791062 277.314375 \nL 354.791062 0 \nL 0 0 \nz\n\" style=\"fill:none;\"/>\n  </g>\n  <g id=\"axes_1\">\n   <g id=\"patch_2\">\n    <path d=\"M 63.726563 256.43625 \nL 281.166562 256.43625 \nL 281.166562 38.99625 \nL 63.726563 38.99625 \nz\n\" style=\"fill:#ffffff;\"/>\n   </g>\n   <g clip-path=\"url(#pfa7ed49d34)\">\n    <image height=\"218\" id=\"imagee133e4cc5c\" transform=\"scale(1 -1)translate(0 -218)\" width=\"218\" x=\"63.726563\" xlink:href=\"data:image/png;base64,\niVBORw0KGgoAAAANSUhEUgAAANoAAADaCAYAAADAHVzbAAACmklEQVR4nO3VQQ3CUAAFQcoJOeCG1AJ2eifoIcEKEloN/7I/hBkF77J5y/312U/8lOd6mz2BQefZA+AfCA0CQoOA0CAgNAgIDQJCg4DQICA0CAgNAkKDgNAgIDQICA0CQoOA0CAgNAgIDQJCg4DQICA0CAgNAkKDgNAgIDQICA0CQoOA0CAgNAgIDQJCg4DQICA0CAgNAkKDgNAgIDQICA0CQoOA0CAgNAgIDQJCg4DQICA0CAgNAkKDgNAgIDQICA0CQoOA0CAgNAgIDQJCg4DQICA0CAgNAkKDgNAgIDQICA0CQoOA0CAgNAgIDQJCg4DQICA0CAgNAkKDgNAgIDQICA0CQoOA0CAgNAgIDQJCg4DQICA0CAgNAkKDgNAgIDQICA0CQoOA0CAgNAgIDQJCg4DQICA0CAgNAkKDgNAgIDQICA0CQoOA0CAgNAgIDQJCg4DQICA0CAgNAkKDgNAgsFyuj332CMZ839vsCQzyaBAQGgSEBgGhQUBoEBAaBIQGAaFBQGgQEBoEhAYBoUFAaBAQGgSEBgGhQUBoEBAaBIQGAaFBQGgQEBoEhAYBoUFAaBAQGgSEBgGhQUBoEBAaBIQGAaFBQGgQEBoEhAYBoUFAaBAQGgSEBgGhQUBoEBAaBIQGAaFBQGgQEBoEhAYBoUFAaBAQGgSEBgGhQUBoEBAaBIQGAaFBQGgQEBoEhAYBoUFAaBAQGgSEBgGhQUBoEBAaBIQGAaFBQGgQEBoEhAYBoUFAaBAQGgSEBgGhQUBoEBAaBIQGAaFBQGgQEBoEhAYBoUFAaBAQGgSEBgGhQUBoEBAaBIQGAaFBQGgQEBoEhAYBoUFAaBAQGgSEBgGhQUBoEBAaBIQGAaFBQGgQEBoEhAYBoUHgAHgBCZOQH2lWAAAAAElFTkSuQmCC\" y=\"-38.43625\"/>\n   </g>\n   <g id=\"matplotlib.axis_1\">\n    <g id=\"xtick_1\">\n     <g id=\"line2d_1\">\n      <defs>\n       <path d=\"M 0 0 \nL 0 3.5 \n\" id=\"me8aaa1cd04\" style=\"stroke:#000000;stroke-width:0.8;\"/>\n      </defs>\n      <g>\n       <use style=\"stroke:#000000;stroke-width:0.8;\" x=\"118.086563\" xlink:href=\"#me8aaa1cd04\" y=\"256.43625\"/>\n      </g>\n     </g>\n     <g id=\"line2d_2\">\n      <defs>\n       <path d=\"M 0 0 \nL 0 -3.5 \n\" id=\"m9d8a5e5a1d\" style=\"stroke:#000000;stroke-width:0.8;\"/>\n      </defs>\n      <g>\n       <use style=\"stroke:#000000;stroke-width:0.8;\" x=\"118.086563\" xlink:href=\"#m9d8a5e5a1d\" y=\"38.99625\"/>\n      </g>\n     </g>\n     <g id=\"text_1\">\n      <!-- Class 0 -->\n      <g transform=\"translate(100.162344 29.916562)scale(0.1 -0.1)\">\n       <defs>\n        <path d=\"M 64.40625 67.28125 \nL 64.40625 56.890625 \nQ 59.421875 61.53125 53.78125 63.8125 \nQ 48.140625 66.109375 41.796875 66.109375 \nQ 29.296875 66.109375 22.65625 58.46875 \nQ 16.015625 50.828125 16.015625 36.375 \nQ 16.015625 21.96875 22.65625 14.328125 \nQ 29.296875 6.6875 41.796875 6.6875 \nQ 48.140625 6.6875 53.78125 8.984375 \nQ 59.421875 11.28125 64.40625 15.921875 \nL 64.40625 5.609375 \nQ 59.234375 2.09375 53.4375 0.328125 \nQ 47.65625 -1.421875 41.21875 -1.421875 \nQ 24.65625 -1.421875 15.125 8.703125 \nQ 5.609375 18.84375 5.609375 36.375 \nQ 5.609375 53.953125 15.125 64.078125 \nQ 24.65625 74.21875 41.21875 74.21875 \nQ 47.75 74.21875 53.53125 72.484375 \nQ 59.328125 70.75 64.40625 67.28125 \nz\n\" id=\"DejaVuSans-67\"/>\n        <path d=\"M 9.421875 75.984375 \nL 18.40625 75.984375 \nL 18.40625 0 \nL 9.421875 0 \nz\n\" id=\"DejaVuSans-108\"/>\n        <path d=\"M 34.28125 27.484375 \nQ 23.390625 27.484375 19.1875 25 \nQ 14.984375 22.515625 14.984375 16.5 \nQ 14.984375 11.71875 18.140625 8.90625 \nQ 21.296875 6.109375 26.703125 6.109375 \nQ 34.1875 6.109375 38.703125 11.40625 \nQ 43.21875 16.703125 43.21875 25.484375 \nL 43.21875 27.484375 \nz\nM 52.203125 31.203125 \nL 52.203125 0 \nL 43.21875 0 \nL 43.21875 8.296875 \nQ 40.140625 3.328125 35.546875 0.953125 \nQ 30.953125 -1.421875 24.3125 -1.421875 \nQ 15.921875 -1.421875 10.953125 3.296875 \nQ 6 8.015625 6 15.921875 \nQ 6 25.140625 12.171875 29.828125 \nQ 18.359375 34.515625 30.609375 34.515625 \nL 43.21875 34.515625 \nL 43.21875 35.40625 \nQ 43.21875 41.609375 39.140625 45 \nQ 35.0625 48.390625 27.6875 48.390625 \nQ 23 48.390625 18.546875 47.265625 \nQ 14.109375 46.140625 10.015625 43.890625 \nL 10.015625 52.203125 \nQ 14.9375 54.109375 19.578125 55.046875 \nQ 24.21875 56 28.609375 56 \nQ 40.484375 56 46.34375 49.84375 \nQ 52.203125 43.703125 52.203125 31.203125 \nz\n\" id=\"DejaVuSans-97\"/>\n        <path d=\"M 44.28125 53.078125 \nL 44.28125 44.578125 \nQ 40.484375 46.53125 36.375 47.5 \nQ 32.28125 48.484375 27.875 48.484375 \nQ 21.1875 48.484375 17.84375 46.4375 \nQ 14.5 44.390625 14.5 40.28125 \nQ 14.5 37.15625 16.890625 35.375 \nQ 19.28125 33.59375 26.515625 31.984375 \nL 29.59375 31.296875 \nQ 39.15625 29.25 43.1875 25.515625 \nQ 47.21875 21.78125 47.21875 15.09375 \nQ 47.21875 7.46875 41.1875 3.015625 \nQ 35.15625 -1.421875 24.609375 -1.421875 \nQ 20.21875 -1.421875 15.453125 -0.5625 \nQ 10.6875 0.296875 5.421875 2 \nL 5.421875 11.28125 \nQ 10.40625 8.6875 15.234375 7.390625 \nQ 20.0625 6.109375 24.8125 6.109375 \nQ 31.15625 6.109375 34.5625 8.28125 \nQ 37.984375 10.453125 37.984375 14.40625 \nQ 37.984375 18.0625 35.515625 20.015625 \nQ 33.0625 21.96875 24.703125 23.78125 \nL 21.578125 24.515625 \nQ 13.234375 26.265625 9.515625 29.90625 \nQ 5.8125 33.546875 5.8125 39.890625 \nQ 5.8125 47.609375 11.28125 51.796875 \nQ 16.75 56 26.8125 56 \nQ 31.78125 56 36.171875 55.265625 \nQ 40.578125 54.546875 44.28125 53.078125 \nz\n\" id=\"DejaVuSans-115\"/>\n        <path id=\"DejaVuSans-32\"/>\n        <path d=\"M 31.78125 66.40625 \nQ 24.171875 66.40625 20.328125 58.90625 \nQ 16.5 51.421875 16.5 36.375 \nQ 16.5 21.390625 20.328125 13.890625 \nQ 24.171875 6.390625 31.78125 6.390625 \nQ 39.453125 6.390625 43.28125 13.890625 \nQ 47.125 21.390625 47.125 36.375 \nQ 47.125 51.421875 43.28125 58.90625 \nQ 39.453125 66.40625 31.78125 66.40625 \nz\nM 31.78125 74.21875 \nQ 44.046875 74.21875 50.515625 64.515625 \nQ 56.984375 54.828125 56.984375 36.375 \nQ 56.984375 17.96875 50.515625 8.265625 \nQ 44.046875 -1.421875 31.78125 -1.421875 \nQ 19.53125 -1.421875 13.0625 8.265625 \nQ 6.59375 17.96875 6.59375 36.375 \nQ 6.59375 54.828125 13.0625 64.515625 \nQ 19.53125 74.21875 31.78125 74.21875 \nz\n\" id=\"DejaVuSans-48\"/>\n       </defs>\n       <use xlink:href=\"#DejaVuSans-67\"/>\n       <use x=\"69.824219\" xlink:href=\"#DejaVuSans-108\"/>\n       <use x=\"97.607422\" xlink:href=\"#DejaVuSans-97\"/>\n       <use x=\"158.886719\" xlink:href=\"#DejaVuSans-115\"/>\n       <use x=\"210.986328\" xlink:href=\"#DejaVuSans-115\"/>\n       <use x=\"263.085938\" xlink:href=\"#DejaVuSans-32\"/>\n       <use x=\"294.873047\" xlink:href=\"#DejaVuSans-48\"/>\n      </g>\n     </g>\n    </g>\n    <g id=\"xtick_2\">\n     <g id=\"line2d_3\">\n      <g>\n       <use style=\"stroke:#000000;stroke-width:0.8;\" x=\"226.806563\" xlink:href=\"#me8aaa1cd04\" y=\"256.43625\"/>\n      </g>\n     </g>\n     <g id=\"line2d_4\">\n      <g>\n       <use style=\"stroke:#000000;stroke-width:0.8;\" x=\"226.806563\" xlink:href=\"#m9d8a5e5a1d\" y=\"38.99625\"/>\n      </g>\n     </g>\n     <g id=\"text_2\">\n      <!-- Class 1 -->\n      <g transform=\"translate(208.882344 29.916562)scale(0.1 -0.1)\">\n       <defs>\n        <path d=\"M 12.40625 8.296875 \nL 28.515625 8.296875 \nL 28.515625 63.921875 \nL 10.984375 60.40625 \nL 10.984375 69.390625 \nL 28.421875 72.90625 \nL 38.28125 72.90625 \nL 38.28125 8.296875 \nL 54.390625 8.296875 \nL 54.390625 0 \nL 12.40625 0 \nz\n\" id=\"DejaVuSans-49\"/>\n       </defs>\n       <use xlink:href=\"#DejaVuSans-67\"/>\n       <use x=\"69.824219\" xlink:href=\"#DejaVuSans-108\"/>\n       <use x=\"97.607422\" xlink:href=\"#DejaVuSans-97\"/>\n       <use x=\"158.886719\" xlink:href=\"#DejaVuSans-115\"/>\n       <use x=\"210.986328\" xlink:href=\"#DejaVuSans-115\"/>\n       <use x=\"263.085938\" xlink:href=\"#DejaVuSans-32\"/>\n       <use x=\"294.873047\" xlink:href=\"#DejaVuSans-49\"/>\n      </g>\n     </g>\n    </g>\n    <g id=\"text_3\">\n     <!-- Predicted -->\n     <g transform=\"translate(148.97625 268.034687)scale(0.1 -0.1)\">\n      <defs>\n       <path d=\"M 19.671875 64.796875 \nL 19.671875 37.40625 \nL 32.078125 37.40625 \nQ 38.96875 37.40625 42.71875 40.96875 \nQ 46.484375 44.53125 46.484375 51.125 \nQ 46.484375 57.671875 42.71875 61.234375 \nQ 38.96875 64.796875 32.078125 64.796875 \nz\nM 9.8125 72.90625 \nL 32.078125 72.90625 \nQ 44.34375 72.90625 50.609375 67.359375 \nQ 56.890625 61.8125 56.890625 51.125 \nQ 56.890625 40.328125 50.609375 34.8125 \nQ 44.34375 29.296875 32.078125 29.296875 \nL 19.671875 29.296875 \nL 19.671875 0 \nL 9.8125 0 \nz\n\" id=\"DejaVuSans-80\"/>\n       <path d=\"M 41.109375 46.296875 \nQ 39.59375 47.171875 37.8125 47.578125 \nQ 36.03125 48 33.890625 48 \nQ 26.265625 48 22.1875 43.046875 \nQ 18.109375 38.09375 18.109375 28.8125 \nL 18.109375 0 \nL 9.078125 0 \nL 9.078125 54.6875 \nL 18.109375 54.6875 \nL 18.109375 46.1875 \nQ 20.953125 51.171875 25.484375 53.578125 \nQ 30.03125 56 36.53125 56 \nQ 37.453125 56 38.578125 55.875 \nQ 39.703125 55.765625 41.0625 55.515625 \nz\n\" id=\"DejaVuSans-114\"/>\n       <path d=\"M 56.203125 29.59375 \nL 56.203125 25.203125 \nL 14.890625 25.203125 \nQ 15.484375 15.921875 20.484375 11.0625 \nQ 25.484375 6.203125 34.421875 6.203125 \nQ 39.59375 6.203125 44.453125 7.46875 \nQ 49.3125 8.734375 54.109375 11.28125 \nL 54.109375 2.78125 \nQ 49.265625 0.734375 44.1875 -0.34375 \nQ 39.109375 -1.421875 33.890625 -1.421875 \nQ 20.796875 -1.421875 13.15625 6.1875 \nQ 5.515625 13.8125 5.515625 26.8125 \nQ 5.515625 40.234375 12.765625 48.109375 \nQ 20.015625 56 32.328125 56 \nQ 43.359375 56 49.78125 48.890625 \nQ 56.203125 41.796875 56.203125 29.59375 \nz\nM 47.21875 32.234375 \nQ 47.125 39.59375 43.09375 43.984375 \nQ 39.0625 48.390625 32.421875 48.390625 \nQ 24.90625 48.390625 20.390625 44.140625 \nQ 15.875 39.890625 15.1875 32.171875 \nz\n\" id=\"DejaVuSans-101\"/>\n       <path d=\"M 45.40625 46.390625 \nL 45.40625 75.984375 \nL 54.390625 75.984375 \nL 54.390625 0 \nL 45.40625 0 \nL 45.40625 8.203125 \nQ 42.578125 3.328125 38.25 0.953125 \nQ 33.9375 -1.421875 27.875 -1.421875 \nQ 17.96875 -1.421875 11.734375 6.484375 \nQ 5.515625 14.40625 5.515625 27.296875 \nQ 5.515625 40.1875 11.734375 48.09375 \nQ 17.96875 56 27.875 56 \nQ 33.9375 56 38.25 53.625 \nQ 42.578125 51.265625 45.40625 46.390625 \nz\nM 14.796875 27.296875 \nQ 14.796875 17.390625 18.875 11.75 \nQ 22.953125 6.109375 30.078125 6.109375 \nQ 37.203125 6.109375 41.296875 11.75 \nQ 45.40625 17.390625 45.40625 27.296875 \nQ 45.40625 37.203125 41.296875 42.84375 \nQ 37.203125 48.484375 30.078125 48.484375 \nQ 22.953125 48.484375 18.875 42.84375 \nQ 14.796875 37.203125 14.796875 27.296875 \nz\n\" id=\"DejaVuSans-100\"/>\n       <path d=\"M 9.421875 54.6875 \nL 18.40625 54.6875 \nL 18.40625 0 \nL 9.421875 0 \nz\nM 9.421875 75.984375 \nL 18.40625 75.984375 \nL 18.40625 64.59375 \nL 9.421875 64.59375 \nz\n\" id=\"DejaVuSans-105\"/>\n       <path d=\"M 48.78125 52.59375 \nL 48.78125 44.1875 \nQ 44.96875 46.296875 41.140625 47.34375 \nQ 37.3125 48.390625 33.40625 48.390625 \nQ 24.65625 48.390625 19.8125 42.84375 \nQ 14.984375 37.3125 14.984375 27.296875 \nQ 14.984375 17.28125 19.8125 11.734375 \nQ 24.65625 6.203125 33.40625 6.203125 \nQ 37.3125 6.203125 41.140625 7.25 \nQ 44.96875 8.296875 48.78125 10.40625 \nL 48.78125 2.09375 \nQ 45.015625 0.34375 40.984375 -0.53125 \nQ 36.96875 -1.421875 32.421875 -1.421875 \nQ 20.0625 -1.421875 12.78125 6.34375 \nQ 5.515625 14.109375 5.515625 27.296875 \nQ 5.515625 40.671875 12.859375 48.328125 \nQ 20.21875 56 33.015625 56 \nQ 37.15625 56 41.109375 55.140625 \nQ 45.0625 54.296875 48.78125 52.59375 \nz\n\" id=\"DejaVuSans-99\"/>\n       <path d=\"M 18.3125 70.21875 \nL 18.3125 54.6875 \nL 36.8125 54.6875 \nL 36.8125 47.703125 \nL 18.3125 47.703125 \nL 18.3125 18.015625 \nQ 18.3125 11.328125 20.140625 9.421875 \nQ 21.96875 7.515625 27.59375 7.515625 \nL 36.8125 7.515625 \nL 36.8125 0 \nL 27.59375 0 \nQ 17.1875 0 13.234375 3.875 \nQ 9.28125 7.765625 9.28125 18.015625 \nL 9.28125 47.703125 \nL 2.6875 47.703125 \nL 2.6875 54.6875 \nL 9.28125 54.6875 \nL 9.28125 70.21875 \nz\n\" id=\"DejaVuSans-116\"/>\n      </defs>\n      <use xlink:href=\"#DejaVuSans-80\"/>\n      <use x=\"58.552734\" xlink:href=\"#DejaVuSans-114\"/>\n      <use x=\"97.416016\" xlink:href=\"#DejaVuSans-101\"/>\n      <use x=\"158.939453\" xlink:href=\"#DejaVuSans-100\"/>\n      <use x=\"222.416016\" xlink:href=\"#DejaVuSans-105\"/>\n      <use x=\"250.199219\" xlink:href=\"#DejaVuSans-99\"/>\n      <use x=\"305.179688\" xlink:href=\"#DejaVuSans-116\"/>\n      <use x=\"344.388672\" xlink:href=\"#DejaVuSans-101\"/>\n      <use x=\"405.912109\" xlink:href=\"#DejaVuSans-100\"/>\n     </g>\n    </g>\n   </g>\n   <g id=\"matplotlib.axis_2\">\n    <g id=\"ytick_1\">\n     <g id=\"line2d_5\">\n      <defs>\n       <path d=\"M 0 0 \nL -3.5 0 \n\" id=\"m0dab9bf703\" style=\"stroke:#000000;stroke-width:0.8;\"/>\n      </defs>\n      <g>\n       <use style=\"stroke:#000000;stroke-width:0.8;\" x=\"63.726563\" xlink:href=\"#m0dab9bf703\" y=\"93.35625\"/>\n      </g>\n     </g>\n     <g id=\"text_4\">\n      <!-- Class 0 -->\n      <g transform=\"translate(20.878125 97.155469)scale(0.1 -0.1)\">\n       <use xlink:href=\"#DejaVuSans-67\"/>\n       <use x=\"69.824219\" xlink:href=\"#DejaVuSans-108\"/>\n       <use x=\"97.607422\" xlink:href=\"#DejaVuSans-97\"/>\n       <use x=\"158.886719\" xlink:href=\"#DejaVuSans-115\"/>\n       <use x=\"210.986328\" xlink:href=\"#DejaVuSans-115\"/>\n       <use x=\"263.085938\" xlink:href=\"#DejaVuSans-32\"/>\n       <use x=\"294.873047\" xlink:href=\"#DejaVuSans-48\"/>\n      </g>\n     </g>\n    </g>\n    <g id=\"ytick_2\">\n     <g id=\"line2d_6\">\n      <g>\n       <use style=\"stroke:#000000;stroke-width:0.8;\" x=\"63.726563\" xlink:href=\"#m0dab9bf703\" y=\"202.07625\"/>\n      </g>\n     </g>\n     <g id=\"text_5\">\n      <!-- Class 1 -->\n      <g transform=\"translate(20.878125 205.875469)scale(0.1 -0.1)\">\n       <use xlink:href=\"#DejaVuSans-67\"/>\n       <use x=\"69.824219\" xlink:href=\"#DejaVuSans-108\"/>\n       <use x=\"97.607422\" xlink:href=\"#DejaVuSans-97\"/>\n       <use x=\"158.886719\" xlink:href=\"#DejaVuSans-115\"/>\n       <use x=\"210.986328\" xlink:href=\"#DejaVuSans-115\"/>\n       <use x=\"263.085938\" xlink:href=\"#DejaVuSans-32\"/>\n       <use x=\"294.873047\" xlink:href=\"#DejaVuSans-49\"/>\n      </g>\n     </g>\n    </g>\n    <g id=\"text_6\">\n     <!-- Expected -->\n     <g transform=\"translate(14.798438 171.045937)rotate(-90)scale(0.1 -0.1)\">\n      <defs>\n       <path d=\"M 9.8125 72.90625 \nL 55.90625 72.90625 \nL 55.90625 64.59375 \nL 19.671875 64.59375 \nL 19.671875 43.015625 \nL 54.390625 43.015625 \nL 54.390625 34.71875 \nL 19.671875 34.71875 \nL 19.671875 8.296875 \nL 56.78125 8.296875 \nL 56.78125 0 \nL 9.8125 0 \nz\n\" id=\"DejaVuSans-69\"/>\n       <path d=\"M 54.890625 54.6875 \nL 35.109375 28.078125 \nL 55.90625 0 \nL 45.3125 0 \nL 29.390625 21.484375 \nL 13.484375 0 \nL 2.875 0 \nL 24.125 28.609375 \nL 4.6875 54.6875 \nL 15.28125 54.6875 \nL 29.78125 35.203125 \nL 44.28125 54.6875 \nz\n\" id=\"DejaVuSans-120\"/>\n       <path d=\"M 18.109375 8.203125 \nL 18.109375 -20.796875 \nL 9.078125 -20.796875 \nL 9.078125 54.6875 \nL 18.109375 54.6875 \nL 18.109375 46.390625 \nQ 20.953125 51.265625 25.265625 53.625 \nQ 29.59375 56 35.59375 56 \nQ 45.5625 56 51.78125 48.09375 \nQ 58.015625 40.1875 58.015625 27.296875 \nQ 58.015625 14.40625 51.78125 6.484375 \nQ 45.5625 -1.421875 35.59375 -1.421875 \nQ 29.59375 -1.421875 25.265625 0.953125 \nQ 20.953125 3.328125 18.109375 8.203125 \nz\nM 48.6875 27.296875 \nQ 48.6875 37.203125 44.609375 42.84375 \nQ 40.53125 48.484375 33.40625 48.484375 \nQ 26.265625 48.484375 22.1875 42.84375 \nQ 18.109375 37.203125 18.109375 27.296875 \nQ 18.109375 17.390625 22.1875 11.75 \nQ 26.265625 6.109375 33.40625 6.109375 \nQ 40.53125 6.109375 44.609375 11.75 \nQ 48.6875 17.390625 48.6875 27.296875 \nz\n\" id=\"DejaVuSans-112\"/>\n      </defs>\n      <use xlink:href=\"#DejaVuSans-69\"/>\n      <use x=\"63.183594\" xlink:href=\"#DejaVuSans-120\"/>\n      <use x=\"122.363281\" xlink:href=\"#DejaVuSans-112\"/>\n      <use x=\"185.839844\" xlink:href=\"#DejaVuSans-101\"/>\n      <use x=\"247.363281\" xlink:href=\"#DejaVuSans-99\"/>\n      <use x=\"302.34375\" xlink:href=\"#DejaVuSans-116\"/>\n      <use x=\"341.552734\" xlink:href=\"#DejaVuSans-101\"/>\n      <use x=\"403.076172\" xlink:href=\"#DejaVuSans-100\"/>\n     </g>\n    </g>\n   </g>\n   <g id=\"patch_3\">\n    <path d=\"M 63.726563 256.43625 \nL 63.726563 38.99625 \n\" style=\"fill:none;stroke:#000000;stroke-linecap:square;stroke-linejoin:miter;stroke-width:0.8;\"/>\n   </g>\n   <g id=\"patch_4\">\n    <path d=\"M 281.166562 256.43625 \nL 281.166562 38.99625 \n\" style=\"fill:none;stroke:#000000;stroke-linecap:square;stroke-linejoin:miter;stroke-width:0.8;\"/>\n   </g>\n   <g id=\"patch_5\">\n    <path d=\"M 63.726563 256.43625 \nL 281.166562 256.43625 \n\" style=\"fill:none;stroke:#000000;stroke-linecap:square;stroke-linejoin:miter;stroke-width:0.8;\"/>\n   </g>\n   <g id=\"patch_6\">\n    <path d=\"M 63.726563 38.99625 \nL 281.166562 38.99625 \n\" style=\"fill:none;stroke:#000000;stroke-linecap:square;stroke-linejoin:miter;stroke-width:0.8;\"/>\n   </g>\n   <g id=\"text_7\">\n    <!-- Confusion Matrix -->\n    <g transform=\"translate(121.804688 16.318125)scale(0.12 -0.12)\">\n     <defs>\n      <path d=\"M 30.609375 48.390625 \nQ 23.390625 48.390625 19.1875 42.75 \nQ 14.984375 37.109375 14.984375 27.296875 \nQ 14.984375 17.484375 19.15625 11.84375 \nQ 23.34375 6.203125 30.609375 6.203125 \nQ 37.796875 6.203125 41.984375 11.859375 \nQ 46.1875 17.53125 46.1875 27.296875 \nQ 46.1875 37.015625 41.984375 42.703125 \nQ 37.796875 48.390625 30.609375 48.390625 \nz\nM 30.609375 56 \nQ 42.328125 56 49.015625 48.375 \nQ 55.71875 40.765625 55.71875 27.296875 \nQ 55.71875 13.875 49.015625 6.21875 \nQ 42.328125 -1.421875 30.609375 -1.421875 \nQ 18.84375 -1.421875 12.171875 6.21875 \nQ 5.515625 13.875 5.515625 27.296875 \nQ 5.515625 40.765625 12.171875 48.375 \nQ 18.84375 56 30.609375 56 \nz\n\" id=\"DejaVuSans-111\"/>\n      <path d=\"M 54.890625 33.015625 \nL 54.890625 0 \nL 45.90625 0 \nL 45.90625 32.71875 \nQ 45.90625 40.484375 42.875 44.328125 \nQ 39.84375 48.1875 33.796875 48.1875 \nQ 26.515625 48.1875 22.3125 43.546875 \nQ 18.109375 38.921875 18.109375 30.90625 \nL 18.109375 0 \nL 9.078125 0 \nL 9.078125 54.6875 \nL 18.109375 54.6875 \nL 18.109375 46.1875 \nQ 21.34375 51.125 25.703125 53.5625 \nQ 30.078125 56 35.796875 56 \nQ 45.21875 56 50.046875 50.171875 \nQ 54.890625 44.34375 54.890625 33.015625 \nz\n\" id=\"DejaVuSans-110\"/>\n      <path d=\"M 37.109375 75.984375 \nL 37.109375 68.5 \nL 28.515625 68.5 \nQ 23.6875 68.5 21.796875 66.546875 \nQ 19.921875 64.59375 19.921875 59.515625 \nL 19.921875 54.6875 \nL 34.71875 54.6875 \nL 34.71875 47.703125 \nL 19.921875 47.703125 \nL 19.921875 0 \nL 10.890625 0 \nL 10.890625 47.703125 \nL 2.296875 47.703125 \nL 2.296875 54.6875 \nL 10.890625 54.6875 \nL 10.890625 58.5 \nQ 10.890625 67.625 15.140625 71.796875 \nQ 19.390625 75.984375 28.609375 75.984375 \nz\n\" id=\"DejaVuSans-102\"/>\n      <path d=\"M 8.5 21.578125 \nL 8.5 54.6875 \nL 17.484375 54.6875 \nL 17.484375 21.921875 \nQ 17.484375 14.15625 20.5 10.265625 \nQ 23.53125 6.390625 29.59375 6.390625 \nQ 36.859375 6.390625 41.078125 11.03125 \nQ 45.3125 15.671875 45.3125 23.6875 \nL 45.3125 54.6875 \nL 54.296875 54.6875 \nL 54.296875 0 \nL 45.3125 0 \nL 45.3125 8.40625 \nQ 42.046875 3.421875 37.71875 1 \nQ 33.40625 -1.421875 27.6875 -1.421875 \nQ 18.265625 -1.421875 13.375 4.4375 \nQ 8.5 10.296875 8.5 21.578125 \nz\nM 31.109375 56 \nz\n\" id=\"DejaVuSans-117\"/>\n      <path d=\"M 9.8125 72.90625 \nL 24.515625 72.90625 \nL 43.109375 23.296875 \nL 61.8125 72.90625 \nL 76.515625 72.90625 \nL 76.515625 0 \nL 66.890625 0 \nL 66.890625 64.015625 \nL 48.09375 14.015625 \nL 38.1875 14.015625 \nL 19.390625 64.015625 \nL 19.390625 0 \nL 9.8125 0 \nz\n\" id=\"DejaVuSans-77\"/>\n     </defs>\n     <use xlink:href=\"#DejaVuSans-67\"/>\n     <use x=\"69.824219\" xlink:href=\"#DejaVuSans-111\"/>\n     <use x=\"131.005859\" xlink:href=\"#DejaVuSans-110\"/>\n     <use x=\"194.384766\" xlink:href=\"#DejaVuSans-102\"/>\n     <use x=\"229.589844\" xlink:href=\"#DejaVuSans-117\"/>\n     <use x=\"292.96875\" xlink:href=\"#DejaVuSans-115\"/>\n     <use x=\"345.068359\" xlink:href=\"#DejaVuSans-105\"/>\n     <use x=\"372.851562\" xlink:href=\"#DejaVuSans-111\"/>\n     <use x=\"434.033203\" xlink:href=\"#DejaVuSans-110\"/>\n     <use x=\"497.412109\" xlink:href=\"#DejaVuSans-32\"/>\n     <use x=\"529.199219\" xlink:href=\"#DejaVuSans-77\"/>\n     <use x=\"615.478516\" xlink:href=\"#DejaVuSans-97\"/>\n     <use x=\"676.757812\" xlink:href=\"#DejaVuSans-116\"/>\n     <use x=\"715.966797\" xlink:href=\"#DejaVuSans-114\"/>\n     <use x=\"757.080078\" xlink:href=\"#DejaVuSans-105\"/>\n     <use x=\"784.863281\" xlink:href=\"#DejaVuSans-120\"/>\n    </g>\n   </g>\n  </g>\n  <g id=\"axes_2\">\n   <g id=\"patch_7\">\n    <path clip-path=\"url(#p6d6f19baff)\" d=\"M 297.906563 256.43625 \nL 297.906563 255.586875 \nL 297.906563 39.845625 \nL 297.906563 38.99625 \nL 308.778563 38.99625 \nL 308.778563 39.845625 \nL 308.778563 255.586875 \nL 308.778563 256.43625 \nz\n\" style=\"fill:#ffffff;stroke:#ffffff;stroke-linejoin:miter;stroke-width:0.01;\"/>\n   </g>\n   <image height=\"217\" id=\"image3815bc295b\" transform=\"scale(1 -1)translate(0 -217)\" width=\"11\" x=\"298\" xlink:href=\"data:image/png;base64,\niVBORw0KGgoAAAANSUhEUgAAAAsAAADZCAYAAAD2WsoCAAABG0lEQVR4nO2YMQ5DIQxDqcT9j9uh+oSu7cYbnmQQna3IcRyH39f7M2db/PXZlrGtA2zrANt6rVM2aQAWUDpWOYTGOhYPBXAuUtmj4Uk3iflNGqiytbBo3CHxlbKwG0p3fPJf8/+Difk9GhnSDTH5rQvrxRdTIyNFi+lscUY0Ql4ycNwWjdIqm+YHlU01AHiAlGGbwuIrY60eogbjrJ1jVBmBvTsYYiRm/vXC6k3RjPSADvcMc7bdEeYXD72WdV58ed8pW3rDM7/4jI/wRoj5QypXrSd0CmdmpDvuHzBUIyIYxVfBOLxBtN3sXzXRGxo4w/whOp/vjYxxh3gDHvoIzoxGDQBmDaJN8SoT8PlqeN5AOt9x51X2xm01+AXeLt0TcCgzLwAAAABJRU5ErkJggg==\" y=\"-39\"/>\n   <g id=\"matplotlib.axis_3\"/>\n   <g id=\"matplotlib.axis_4\">\n    <g id=\"ytick_3\">\n     <g id=\"line2d_7\">\n      <defs>\n       <path d=\"M 0 0 \nL 3.5 0 \n\" id=\"mb9c5f7ed32\" style=\"stroke:#000000;stroke-width:0.8;\"/>\n      </defs>\n      <g>\n       <use style=\"stroke:#000000;stroke-width:0.8;\" x=\"308.778563\" xlink:href=\"#mb9c5f7ed32\" y=\"211.13663\"/>\n      </g>\n     </g>\n     <g id=\"text_8\">\n      <!-- 5000 -->\n      <g transform=\"translate(315.778563 214.935849)scale(0.1 -0.1)\">\n       <defs>\n        <path d=\"M 10.796875 72.90625 \nL 49.515625 72.90625 \nL 49.515625 64.59375 \nL 19.828125 64.59375 \nL 19.828125 46.734375 \nQ 21.96875 47.46875 24.109375 47.828125 \nQ 26.265625 48.1875 28.421875 48.1875 \nQ 40.625 48.1875 47.75 41.5 \nQ 54.890625 34.8125 54.890625 23.390625 \nQ 54.890625 11.625 47.5625 5.09375 \nQ 40.234375 -1.421875 26.90625 -1.421875 \nQ 22.3125 -1.421875 17.546875 -0.640625 \nQ 12.796875 0.140625 7.71875 1.703125 \nL 7.71875 11.625 \nQ 12.109375 9.234375 16.796875 8.0625 \nQ 21.484375 6.890625 26.703125 6.890625 \nQ 35.15625 6.890625 40.078125 11.328125 \nQ 45.015625 15.765625 45.015625 23.390625 \nQ 45.015625 31 40.078125 35.4375 \nQ 35.15625 39.890625 26.703125 39.890625 \nQ 22.75 39.890625 18.8125 39.015625 \nQ 14.890625 38.140625 10.796875 36.28125 \nz\n\" id=\"DejaVuSans-53\"/>\n       </defs>\n       <use xlink:href=\"#DejaVuSans-53\"/>\n       <use x=\"63.623047\" xlink:href=\"#DejaVuSans-48\"/>\n       <use x=\"127.246094\" xlink:href=\"#DejaVuSans-48\"/>\n       <use x=\"190.869141\" xlink:href=\"#DejaVuSans-48\"/>\n      </g>\n     </g>\n    </g>\n    <g id=\"ytick_4\">\n     <g id=\"line2d_8\">\n      <g>\n       <use style=\"stroke:#000000;stroke-width:0.8;\" x=\"308.778563\" xlink:href=\"#mb9c5f7ed32\" y=\"165.480896\"/>\n      </g>\n     </g>\n     <g id=\"text_9\">\n      <!-- 10000 -->\n      <g transform=\"translate(315.778563 169.280115)scale(0.1 -0.1)\">\n       <use xlink:href=\"#DejaVuSans-49\"/>\n       <use x=\"63.623047\" xlink:href=\"#DejaVuSans-48\"/>\n       <use x=\"127.246094\" xlink:href=\"#DejaVuSans-48\"/>\n       <use x=\"190.869141\" xlink:href=\"#DejaVuSans-48\"/>\n       <use x=\"254.492188\" xlink:href=\"#DejaVuSans-48\"/>\n      </g>\n     </g>\n    </g>\n    <g id=\"ytick_5\">\n     <g id=\"line2d_9\">\n      <g>\n       <use style=\"stroke:#000000;stroke-width:0.8;\" x=\"308.778563\" xlink:href=\"#mb9c5f7ed32\" y=\"119.825162\"/>\n      </g>\n     </g>\n     <g id=\"text_10\">\n      <!-- 15000 -->\n      <g transform=\"translate(315.778563 123.624381)scale(0.1 -0.1)\">\n       <use xlink:href=\"#DejaVuSans-49\"/>\n       <use x=\"63.623047\" xlink:href=\"#DejaVuSans-53\"/>\n       <use x=\"127.246094\" xlink:href=\"#DejaVuSans-48\"/>\n       <use x=\"190.869141\" xlink:href=\"#DejaVuSans-48\"/>\n       <use x=\"254.492188\" xlink:href=\"#DejaVuSans-48\"/>\n      </g>\n     </g>\n    </g>\n    <g id=\"ytick_6\">\n     <g id=\"line2d_10\">\n      <g>\n       <use style=\"stroke:#000000;stroke-width:0.8;\" x=\"308.778563\" xlink:href=\"#mb9c5f7ed32\" y=\"74.169428\"/>\n      </g>\n     </g>\n     <g id=\"text_11\">\n      <!-- 20000 -->\n      <g transform=\"translate(315.778563 77.968646)scale(0.1 -0.1)\">\n       <defs>\n        <path d=\"M 19.1875 8.296875 \nL 53.609375 8.296875 \nL 53.609375 0 \nL 7.328125 0 \nL 7.328125 8.296875 \nQ 12.9375 14.109375 22.625 23.890625 \nQ 32.328125 33.6875 34.8125 36.53125 \nQ 39.546875 41.84375 41.421875 45.53125 \nQ 43.3125 49.21875 43.3125 52.78125 \nQ 43.3125 58.59375 39.234375 62.25 \nQ 35.15625 65.921875 28.609375 65.921875 \nQ 23.96875 65.921875 18.8125 64.3125 \nQ 13.671875 62.703125 7.8125 59.421875 \nL 7.8125 69.390625 \nQ 13.765625 71.78125 18.9375 73 \nQ 24.125 74.21875 28.421875 74.21875 \nQ 39.75 74.21875 46.484375 68.546875 \nQ 53.21875 62.890625 53.21875 53.421875 \nQ 53.21875 48.921875 51.53125 44.890625 \nQ 49.859375 40.875 45.40625 35.40625 \nQ 44.1875 33.984375 37.640625 27.21875 \nQ 31.109375 20.453125 19.1875 8.296875 \nz\n\" id=\"DejaVuSans-50\"/>\n       </defs>\n       <use xlink:href=\"#DejaVuSans-50\"/>\n       <use x=\"63.623047\" xlink:href=\"#DejaVuSans-48\"/>\n       <use x=\"127.246094\" xlink:href=\"#DejaVuSans-48\"/>\n       <use x=\"190.869141\" xlink:href=\"#DejaVuSans-48\"/>\n       <use x=\"254.492188\" xlink:href=\"#DejaVuSans-48\"/>\n      </g>\n     </g>\n    </g>\n   </g>\n   <g id=\"patch_8\">\n    <path d=\"M 297.906563 256.43625 \nL 297.906563 255.586875 \nL 297.906563 39.845625 \nL 297.906563 38.99625 \nL 308.778563 38.99625 \nL 308.778563 39.845625 \nL 308.778563 255.586875 \nL 308.778563 256.43625 \nz\n\" style=\"fill:none;stroke:#000000;stroke-linejoin:miter;stroke-width:0.8;\"/>\n   </g>\n  </g>\n </g>\n <defs>\n  <clipPath id=\"pfa7ed49d34\">\n   <rect height=\"217.44\" width=\"217.44\" x=\"63.726563\" y=\"38.99625\"/>\n  </clipPath>\n  <clipPath id=\"p6d6f19baff\">\n   <rect height=\"217.44\" width=\"10.872\" x=\"297.906563\" y=\"38.99625\"/>\n  </clipPath>\n </defs>\n</svg>\n",
      "image/png": "[encoded data removed]"
     },
     "metadata": {
      "needs_background": "light"
     }
    }
   ],
   "source": [
    "from sklearn.metrics import confusion_matrix\n",
    "\n",
    "y_train_pred = classification_tools.predict_with_threshold(models[model], X_train, threshold=0.5)\n",
    "conf_mat = confusion_matrix(y_train, y_train_pred)\n",
    "tn, fp, fn, tp = conf_mat.ravel()\n",
    "\n",
    "print(\"True Negatives: {:,}\\nFalse Positives: {:,}\\nFalse Negatives: {:,}\\nTrue Positives: {:,}\\n\".format(tn,fp,fn,tp))\n",
    "\n",
    "print(\"True positive rate: {:3f}\".format(tp/(tp+fn)))\n",
    "print(\"False positive rate: {:3f}\".format(fp/(tn+fp)))\n",
    "\n",
    "classification_tools.plot_confusion_matrix(conf_mat)\n"
   ]
  },
  {
   "source": [
    "False positive rate is very low, this is good!\n",
    "\n",
    "True positive rate is very low, this is bad.\n",
    "\n",
    "The total propotion of positive predictions is very low, our model has simply learned to always predict negative. The ROC curve should backup the poor performance of our model."
   ],
   "cell_type": "markdown",
   "metadata": {}
  },
  {
   "source": [
    "### ROC Curve"
   ],
   "cell_type": "markdown",
   "metadata": {}
  },
  {
   "source": [
    "#### Train"
   ],
   "cell_type": "markdown",
   "metadata": {}
  },
  {
   "cell_type": "code",
   "execution_count": 418,
   "metadata": {},
   "outputs": [
    {
     "output_type": "display_data",
     "data": {
      "application/vnd.plotly.v1+json": {
       "config": {
        "plotlyServerURL": "https://plot.ly"
       },
       "data": [
        {
         "hovertemplate": "x=%{x}<br>y=%{y}<extra></extra>",
         "legendgroup": "",
         "line": {
          "color": "#636efa",
          "dash": "solid"
         },
         "mode": "lines",
         "name": "",
         "showlegend": false,
         "type": "scattergl",
         "x": [
          0,
          0,
          0.00004185676614624754,
          0.00004185676614624754,
          0.00008371353229249508,
          0.0001255702984387426,
          0.00016742706458499016,
          0.0002092838307312377,
          0.0002092838307312377,
          0.0002511405968774852,
          0.0003348541291699803,
          0.0003348541291699803,
          0.0003767108953162279,
          0.000460424427608723,
          0.0005022811937549704,
          0.0005441379599012181,
          0.0006278514921937131,
          0.0006697082583399606,
          0.0007952785567787033,
          0.0008371353229249508,
          0.0008789920890711983,
          0.000920848855217446,
          0.0010464191536561885,
          0.0011301326859486835,
          0.0012557029843874262,
          0.0012975597505336738,
          0.0012975597505336738,
          0.0013812732828261689,
          0.0014231300489724165,
          0.0014231300489724165,
          0.0015068435812649115,
          0.0015905571135574066,
          0.0015905571135574066,
          0.0016742706458499016,
          0.0016742706458499016,
          0.0017161274119961492,
          0.0017579841781423966,
          0.0019672680088736343,
          0.0022184086057511197,
          0.0026788330333598425,
          0.003013687162529823,
          0.003306684525553556,
          0.0035159683562847933,
          0.003641538654723536,
          0.003850822485454774,
          0.0040182495500397635,
          0.004269390146917249,
          0.0043531036792097445,
          0.004436817211502239,
          0.004520530743794734,
          0.00460424427608723,
          0.004855384872964714,
          0.00493909840525721,
          0.00493909840525721,
          0.004980955171403457,
          0.004980955171403457,
          0.005022811937549705,
          0.005022811937549705,
          0.005022811937549705,
          0.0051065254698422,
          0.0051065254698422,
          0.005232095768280942,
          0.005357666066719685,
          0.005441379599012181,
          0.005692520195889666,
          0.005985517558913398,
          0.006362228454229626,
          0.006738939349545854,
          0.007492361140178309,
          0.00816206939851827,
          0.008748064124565736,
          0.009668912979783182,
          0.010171194173538152,
          0.010673475367293123,
          0.01121761332719434,
          0.012012891883973044,
          0.012305889246996778,
          0.012640743376166757,
          0.0127663136746055,
          0.01310116780377548,
          0.01326859486836047,
          0.013352308400652966,
          0.013477878699091709,
          0.013687162529822945,
          0.013812732828261688,
          0.014063873425139173,
          0.014315014022016658,
          0.014398727554309154,
          0.014566154618894144,
          0.014691724917332886,
          0.014775438449625382,
          0.014859151981917878,
          0.014984722280356619,
          0.015026579046502868,
          0.015068435812649114,
          0.015110292578795361,
          0.015277719643380353,
          0.015277719643380353,
          0.015403289941819095,
          0.015403289941819095,
          0.015445146707965342,
          0.015445146707965342,
          0.015612573772550332,
          0.015612573772550332,
          0.01565443053869658,
          0.015738144070989075,
          0.016072998200159054,
          0.01632413879703654,
          0.016575279393914025,
          0.01703570382152275,
          0.017244987652253987,
          0.017454271482985225,
          0.01753798501527772,
          0.017621698547570213,
          0.017789125612155204,
          0.017998409442886443,
          0.01804026620903269,
          0.01820769327361768,
          0.01837512033820267,
          0.01841697710434892,
          0.018458833870495166,
          0.018500690636641413,
          0.01854254740278766,
          0.01854254740278766,
          0.018668117701226405,
          0.018835544765811393,
          0.019002971830396384,
          0.019086685362688878,
          0.019128542128835125,
          0.019170398894981375,
          0.019337825959566363,
          0.019505253024151355,
          0.019505253024151355,
          0.0195471097902976,
          0.01958896655644385,
          0.019630823322590096,
          0.019672680088736343,
          0.019714536854882593,
          0.019714536854882593,
          0.01975639362102884,
          0.01975639362102884,
          0.019840107153321334,
          0.019923820685613828,
          0.019923820685613828,
          0.01996567745176008,
          0.01996567745176008,
          0.020007534217906325,
          0.020133104516345066,
          0.020174961282491313,
          0.02025867481478381,
          0.02025867481478381,
          0.020342388347076305,
          0.02038424511322255,
          0.0204261018793688,
          0.020677242476246284,
          0.02076095600853878,
          0.021179523670001255,
          0.021639948097609978,
          0.022016658992926208,
          0.022560796952827426,
          0.02327236197731363,
          0.023732786404922355,
          0.024025783767946087,
          0.024402494663262317,
          0.02482106232472479,
          0.02532334351847976,
          0.025783767946088484,
          0.025993051776819723,
          0.0264116194382822,
          0.026620903269013434,
          0.026997614164329664,
          0.02737432505964589,
          0.027667322422669626,
          0.02787660625340086,
          0.02842074421330208,
          0.028881168640910802,
          0.029132309237788288,
          0.029509020133104517,
          0.029676447197689505,
          0.029885731028420744,
          0.030095014859151982,
          0.030388012222175714,
          0.030471725754468208,
          0.030722866351345694,
          0.030932150182076932,
          0.031057720480515676,
          0.031099577246661923,
          0.031183290778954417,
          0.03126700431124691,
          0.03130886107739316,
          0.03130886107739316,
          0.031392574609685656,
          0.031434431375831906,
          0.031601858440416894,
          0.031601858440416894,
          0.03168557197270939,
          0.03176928550500188,
          0.03202042610187937,
          0.03222970993261061,
          0.03243899376334185,
          0.032606420827926835,
          0.03285756142480432,
          0.033108702021681806,
          0.03323427232012055,
          0.03344355615085178,
          0.03361098321543678,
          0.03365283998158302,
          0.03373655351387552,
          0.03390398057846051,
          0.03415512117533799,
          0.034489975304507973,
          0.03469925913523921,
          0.034824829433677956,
          0.0348666861998242,
          0.035034113264409195,
          0.035034113264409195,
          0.035034113264409195,
          0.03515968356284793,
          0.03515968356284793,
          0.035243397095140426,
          0.035285253861286676,
          0.03536896739357917,
          0.03536896739357917,
          0.03562010799045666,
          0.0356619647566029,
          0.0357456782888954,
          0.03612238918421163,
          0.036708383910259094,
          0.03762923276547654,
          0.03871750868527898,
          0.03968021430664267,
          0.0407684902264451,
          0.04198233644468628,
          0.04311246913063497,
          0.04436817211502239,
          0.04524716420409359,
          0.045875015696287304,
          0.046419153656188525,
          0.04704700514838223,
          0.04780042693901469,
          0.0485119919635009,
          0.049307270520279604,
          0.04985140848018082,
          0.05064668703695952,
          0.051986103553639446,
          0.052697668578125655,
          0.05328366330417312,
          0.053869658030220584,
          0.05424636892553681,
          0.05495793395002302,
          0.05571135574065548,
          0.056088066635971705,
          0.05675777489431166,
          0.057260056088066634,
          0.0578460508141141,
          0.058306475241722826,
          0.058515759072454064,
          0.05905989703235528,
          0.05918546733079402,
          0.059478464693817755,
          0.05989703235528023,
          0.05989703235528023,
          0.06010631618601147,
          0.060190029718303964,
          0.060190029718303964,
          0.06027374325059646,
          0.06031560001674271,
          0.060441170315181446,
          0.060441170315181446,
          0.06060859737976644,
          0.06060859737976644,
          0.060692310912058935,
          0.060734167678205185,
          0.06077602444435143,
          0.06085973797664392,
          0.06085973797664392,
          0.06090159474279017,
          0.060943451508936416,
          0.060943451508936416,
          0.06098530827508267,
          0.06098530827508267,
          0.06102716504122892,
          0.06102716504122892,
          0.06111087857352141,
          0.06111087857352141,
          0.061152735339667655,
          0.061152735339667655,
          0.061194592105813905,
          0.061194592105813905,
          0.06132016240425265,
          0.06132016240425265,
          0.06136201917039889,
          0.061403875936545144,
          0.06148758946883764,
          0.06148758946883764,
          0.06157130300113013,
          0.06161315976727638,
          0.061696873299568876,
          0.06173873006571512,
          0.06173873006571512,
          0.061864300364153864,
          0.061864300364153864,
          0.06228286802561634,
          0.06282700598551756,
          0.06349671424385751,
          0.06416642250219748,
          0.06471056046209869,
          0.06579883638190114,
          0.06651040140638734,
          0.0670963961324348,
          0.06856138294755347,
          0.06910552090745468,
          0.06969151563350215,
          0.07031936712569586,
          0.07094721861788958,
          0.0715750701100833,
          0.07216106483613076,
          0.07257963249759324,
          0.07287262986061697,
          0.07350048135281068,
          0.0739609057804194,
          0.07446318697417438,
          0.07509103846636808,
          0.07546774936168432,
          0.07592817378929304,
          0.07647231174919426,
          0.07697459294294923,
          0.07743501737055795,
          0.07793729856431292,
          0.07823029592733666,
          0.07877443388723787,
          0.0791511447825541,
          0.07948599891172407,
          0.07982085304089406,
          0.0800301368716253,
          0.08023942070235654,
          0.08036499100079528,
          0.08044870453308778,
          0.08069984512996525,
          0.08095098572684274,
          0.0810765560252815,
          0.08111841279142773,
          0.08128583985601272,
          0.08141141015445147,
          0.08149512368674396,
          0.08157883721903646,
          0.08166255075132896,
          0.0817044075174752,
          0.0817881210497677,
          0.08182997781591395,
          0.0818718345820602,
          0.08191369134820643,
          0.08191369134820643,
          0.08199740488049893,
          0.08216483194508392,
          0.08224854547737642,
          0.08237411577581516,
          0.08245782930810766,
          0.0825833996065464,
          0.08262525637269265,
          0.08262525637269265,
          0.08270896990498514,
          0.08270896990498514,
          0.08279268343727764,
          0.08279268343727764,
          0.08279268343727764,
          0.08283454020342389,
          0.08283454020342389,
          0.08291825373571637,
          0.08296011050186262,
          0.08304382403415513,
          0.08312753756644761,
          0.08321125109874011,
          0.0832949646310326,
          0.08333682139717885,
          0.08333682139717885,
          0.0834623916956176,
          0.08350424846176384,
          0.08358796199405634,
          0.08367167552634884,
          0.08371353229249508,
          0.08383910259093383,
          0.08383910259093383,
          0.08392281612322632,
          0.0840902431878113,
          0.08413209995395755,
          0.0841739567201038,
          0.08421581348625005,
          0.08429952701854254,
          0.08438324055083504,
          0.08459252438156628,
          0.08471809468000502,
          0.08471809468000502,
          0.08475995144615127,
          0.08496923527688251,
          0.08505294880917501,
          0.08522037587376,
          0.08526223263990625,
          0.08530408940605248,
          0.08534594617219873,
          0.08538780293834498,
          0.08542965970449123,
          0.08559708676907622,
          0.08568080030136872,
          0.08576451383366121,
          0.08584822736595371,
          0.08605751119668495,
          0.08609936796283119,
          0.08639236532585493,
          0.08643422209200118,
          0.08655979239043991,
          0.0867272194550249,
          0.0868109329873174,
          0.08718764388263363,
          0.08731321418107237,
          0.08756435477794985,
          0.08794106567326608,
          0.08798292243941233,
          0.08827591980243607,
          0.0883177765685823,
          0.0886526306977523,
          0.08869448746389853,
          0.08898748482692227,
          0.08915491189150726,
          0.0893641957222385,
          0.089447909254531,
          0.08978276338370098,
          0.08990833368213971,
          0.08999204721443221,
          0.09007576074672471,
          0.09028504457745594,
          0.09045247164204094,
          0.09045247164204094,
          0.09070361223891842,
          0.09074546900506467,
          0.09087103930350342,
          0.0910384663680884,
          0.09108032313423466,
          0.09133146373111213,
          0.09137332049725838,
          0.09149889079569712,
          0.09154074756184337,
          0.09162446109413587,
          0.09175003139257461,
          0.09183374492486711,
          0.09187560169101336,
          0.0919174584571596,
          0.0920011719894521,
          0.09221045582018333,
          0.09225231258632959,
          0.09246159641706082,
          0.09254530994935331,
          0.09262902348164581,
          0.09267088024779206,
          0.0927127370139383,
          0.0927964505462308,
          0.0928801640785233,
          0.0928801640785233,
          0.09304759114310829,
          0.09313130467540078,
          0.09313130467540078,
          0.09325687497383953,
          0.09325687497383953,
          0.09329873173998576,
          0.09329873173998576,
          0.09334058850613201,
          0.09334058850613201,
          0.09338244527227826,
          0.09338244527227826,
          0.09342430203842451,
          0.09342430203842451,
          0.09354987233686325,
          0.09363358586915575,
          0.093675442635302,
          0.09384286969988699,
          0.09396843999832573,
          0.09417772382905697,
          0.0943870076597882,
          0.09472186178895818,
          0.09501485915198192,
          0.09514042945042066,
          0.0953497132811519,
          0.09564271064417564,
          0.09585199447490687,
          0.09601942153949186,
          0.0961449918379306,
          0.0962287053702231,
          0.09647984596710059,
          0.09656355949939308,
          0.09673098656397806,
          0.09689841362856305,
          0.0970239839270018,
          0.09714955422544054,
          0.09731698129002553,
          0.09744255158846428,
          0.09756812188690302,
          0.09760997865304927,
          0.09769369218534175,
          0.09790297601607299,
          0.0979866895483655,
          0.09802854631451174,
          0.09815411661295048,
          0.09827968691138923,
          0.09840525720982797,
          0.09844711397597422,
          0.09853082750826671,
          0.09861454104055921,
          0.0986982545728517,
          0.0987819681051442,
          0.09882382487129045,
          0.09882382487129045,
          0.09890753840358293,
          0.09899125193587544,
          0.09911682223431417,
          0.09920053576660667,
          0.09936796283119166,
          0.1013352308400653,
          0.10677661043907748,
          0.119208069984513,
          0.13888075007324935,
          0.1669247833912352,
          0.1964338035243397,
          0.23130048972416392,
          0.26302791846301954,
          0.289816248796618,
          0.3135908919676866,
          0.33644468628353774,
          0.35791720731656274,
          0.37800845506676156,
          0.395504583315893,
          0.41308442509731697,
          0.4308735507094722,
          0.4472814030388012,
          0.4669122263613913,
          0.4828596542631116,
          0.5003976392783893,
          0.5184379054874221,
          0.5326692059771462,
          0.5484910635804278,
          0.5633083587961994,
          0.5798836381901135,
          0.5960822066887113,
          0.6133271943409652,
          0.630530325227073,
          0.6463521828303546,
          0.6630530325227073,
          0.6776610439077477,
          0.6919760579297644,
          0.7047842283705161,
          0.7170901176175128,
          0.7258800385082248,
          0.7354652379557155,
          0.7453015780000837,
          0.7529195094387008,
          0.7602025867481479,
          0.7666485287346699,
          0.7731363274873383,
          0.778828847683228,
          0.7844376543468252,
          0.7881210497676949,
          0.7913021639948098,
          0.7939391402620234,
          0.795738981206312,
          0.7983759574735256,
          0.7993805198610355,
          0.8000083713532292,
          0.8008455066761542,
          0.8011803608053242,
          0.8016826419990791,
          0.8020593528943953,
          0.8026453476204428,
          0.8030639152819053,
          0.803356912644929,
          0.8036080532418065,
          0.8039429073709765,
          0.8040684776694152,
          0.8043196182662927,
          0.8044033317985853,
          0.8044870453308778,
          0.804528902097024,
          0.8046963291616089,
          0.8046963291616089,
          0.8047381859277553,
          0.8047800426939015,
          0.804863756226194,
          0.8049056129923402,
          0.8049474697584864,
          0.8050311832907789,
          0.8050311832907789,
          0.8051148968230715,
          0.8051148968230715,
          0.8052823238876564,
          0.8053241806538027,
          0.8053660374199489,
          0.8054497509522415,
          0.8054916077183877,
          0.8057427483152652,
          0.8059520321459964,
          0.8067054539366288,
          0.8070821648319451,
          0.8078355866225776,
          0.8083797245824788,
          0.8092168599054037,
          0.8098447113975974,
          0.8100958519944749,
          0.8105144196559374,
          0.8110167008496924,
          0.8116026955757398,
          0.8122724038340797,
          0.8127746850278348,
          0.8134443932861747,
          0.8138211041814909,
          0.8141559583106609,
          0.8147838098028546,
          0.8154116612950484,
          0.8155372315934871,
          0.8159976560210959,
          0.8163743669164121,
          0.8167510778117283,
          0.8169185048763132,
          0.8171277887070445,
          0.8173370725377758,
          0.8175882131346532,
          0.8177974969653845,
          0.8179649240299695,
          0.8181742078607007,
          0.8183416349252857,
          0.8184672052237244,
          0.8185090619898706,
          0.8186764890544557,
          0.8188020593528944,
          0.8190531999497719,
          0.8191369134820644,
          0.8192624837805031,
          0.8193043405466494,
          0.8195136243773806,
          0.8195554811435268,
          0.8195554811435268,
          0.8195973379096732,
          0.8196391946758194,
          0.8196810514419656,
          0.8198484785065506,
          0.819932192038843,
          0.819932192038843,
          0.8200159055711356,
          0.8201414758695743,
          0.8202251894018668,
          0.8203089029341593,
          0.8203507597003056,
          0.8204763299987443,
          0.820769327361768,
          0.8208948976602067,
          0.8209786111924993,
          0.821104181490938,
          0.821104181490938,
          0.8213134653216693,
          0.8213553220878155,
          0.821439035620108,
          0.8215227491524005,
          0.8216483194508393,
          0.8218157465154242,
          0.821941316813863,
          0.8221087438784479,
          0.8222343141768867,
          0.8223180277091792,
          0.8223598844753255,
          0.8224435980076179,
          0.8224854547737642,
          0.8225273115399104,
          0.8225273115399104,
          0.8225691683060566,
          0.822611025072203,
          0.822611025072203,
          0.8227365953706417,
          0.8227365953706417,
          0.8227784521367879,
          0.8228203089029341,
          0.8228621656690804,
          0.8229458792013729,
          0.8230295927336654,
          0.8231551630321041,
          0.8233644468628354,
          0.8234063036289816,
          0.8234063036289816,
          0.8234481603951279,
          0.8235737306935667,
          0.8236155874597129,
          0.8236993009920054,
          0.8237411577581516,
          0.8239085848227365,
          0.8241597254196141,
          0.8242434389519065,
          0.8242852957180529,
          0.8242852957180529,
          0.8243690092503453,
          0.8243690092503453,
          0.8244527227826378,
          0.824494579548784,
          0.8245364363149303,
          0.8245364363149303,
          0.8245782930810766,
          0.8245782930810766,
          0.8246201498472228,
          0.8247038633795153,
          0.8247038633795153,
          0.8247038633795153,
          0.8247875769118078,
          0.8247875769118078,
          0.824829433677954,
          0.8248712904441002,
          0.8249550039763928,
          0.8249968607425391,
          0.8251224310409778,
          0.8251224310409778,
          0.8252061445732702,
          0.8252061445732702,
          0.8253735716378553,
          0.8254154284040015,
          0.825499141936294,
          0.825499141936294,
          0.8255828554685865,
          0.8255828554685865,
          0.8256247122347328,
          0.8256247122347328,
          0.825666569000879,
          0.8257502825331715,
          0.8263781340253652,
          0.8274664099451676,
          0.83022895651082,
          0.8346657737223222,
          0.8402745803859194,
          0.8467623791385878,
          0.8539617429157423,
          0.8594031225147545,
          0.8641747938554267,
          0.8681930434054665,
          0.8719182955924826,
          0.8758109748440835,
          0.8786990917081746,
          0.8821732032983132,
          0.8861077393160605,
          0.888912142647859,
          0.8921769704072663,
          0.8959440793604286,
          0.898706625926081,
          0.9020551672177808,
          0.9066175547277218,
          0.9110125151730777,
          0.91511447825541,
          0.9189653007408648,
          0.9226486961617345,
          0.9268762295425056,
          0.9310619061571302,
          0.9348708718764388,
          0.9390146917249174,
          0.9425725168473483,
          0.9451257795822695,
          0.9480138964463606,
          0.9511531539073291,
          0.9538319869406889,
          0.9559248252480014,
          0.9583943744506299,
          0.9599012180318949,
          0.9606964965886735,
          0.9619940563392072,
          0.9629986187267172,
          0.9637520405173496,
          0.9644217487756895,
          0.965007743501737,
          0.9655937382277845,
          0.966012305889247,
          0.966514587083002,
          0.966849441212172,
          0.9670587250429031,
          0.9675191494705119,
          0.9679377171319744,
          0.9681470009627057,
          0.9682725712611444,
          0.9682725712611444,
          0.9684399983257294,
          0.9685237118580219,
          0.9686074253903143,
          0.9686911389226068,
          0.9687748524548994,
          0.9688167092210456,
          0.9689422795194843,
          0.9690259930517768,
          0.9691515633502156,
          0.9693189904148005,
          0.9695282742455318,
          0.9699468419069943,
          0.970407266334603,
          0.9709514042945042,
          0.9713281151898204,
          0.9717048260851366,
          0.9721233937465992,
          0.9721652505127454,
          0.9726256749403541,
          0.9728349587710854,
          0.9728768155372316,
          0.9731279561341091,
          0.9732535264325478,
          0.9735883805617178,
          0.973630237327864,
          0.9736720940940103,
          0.9738395211585953,
          0.9740069482231802,
          0.9740488049893266,
          0.9741743752877653,
          0.9743418023523502,
          0.9745092294169353,
          0.9745092294169353,
          0.9746766564815202,
          0.9747603700138128,
          0.9748440835461052,
          0.9749277970783977,
          0.9749696538445439,
          0.9750115106106902,
          0.9750115106106902,
          0.975137080909129,
          0.9751789376752752,
          0.9751789376752752,
          0.9753463647398602,
          0.9756393621028839,
          0.9756812188690301,
          0.9758067891674689,
          0.9758486459336152,
          0.9759323594659076,
          0.9759742162320539,
          0.9760997865304927,
          0.9761835000627852,
          0.9762253568289314,
          0.9762253568289314,
          0.9763090703612239,
          0.9763927838935164,
          0.9763927838935164,
          0.9764764974258089,
          0.9764764974258089,
          0.9766020677242476,
          0.9766857812565402,
          0.9767694947888326,
          0.9767694947888326,
          0.9768113515549789,
          0.9769369218534176,
          0.97702063538571,
          0.97702063538571,
          0.9771043489180026,
          0.9771462056841489,
          0.9771462056841489,
          0.9772299192164413,
          0.9772299192164413,
          0.9773136327487338,
          0.9773136327487338,
          0.97735548951488,
          0.9773973462810264,
          0.9774810598133188,
          0.9774810598133188,
          0.9775229165794651,
          0.9776066301117575,
          0.9776484868779038,
          0.97769034364405,
          0.97769034364405,
          0.9779414842409275,
          0.9779414842409275,
          0.978192624837805,
          0.9782763383700975,
          0.9783181951362437,
          0.9784856222008288,
          0.9788204763299987,
          0.9791134736930225,
          0.9798250387175087,
          0.9804947469758486,
          0.9816667364279436,
          0.9825457285170148,
          0.9828805826461847,
          0.983424720606086,
          0.9840525720982797,
          0.9846804235904734,
          0.9853501318488134,
          0.9858105562764221,
          0.9862291239378845,
          0.9866058348332007,
          0.9870244024946633,
          0.9875685404545644,
          0.9878615378175882,
          0.988321962245197,
          0.9887405299066594,
          0.9890753840358294,
          0.9893683813988531,
          0.9897032355280231,
          0.9899962328910469,
          0.9902892302540706,
          0.9907077979155331,
          0.9912937926415805,
          0.9915030764723117,
          0.991712360303043,
          0.9918379306014817,
          0.9920890711983592,
          0.9921727847306517,
          0.992382068561383,
          0.9926332091582605,
          0.9926750659244067,
          0.9928006362228454,
          0.9928424929889916,
          0.9929262065212842,
          0.9930517768197229,
          0.9930517768197229,
          0.9932610606504542,
          0.9933029174166004,
          0.9933447741827467,
          0.9935540580134778,
          0.9936377715457704,
          0.9937633418442091,
          0.9938470553765016,
          0.9939307689087941,
          0.9939307689087941,
          0.9940144824410866,
          0.9940144824410866,
          0.9940563392072328,
          0.9940563392072328,
          0.9941819095056716,
          0.9943493365702566,
          0.9944330501025491,
          0.9944749068686953,
          0.9945586204009879,
          0.9946004771671341,
          0.9947260474655728,
          0.994767904231719,
          0.9948516177640115,
          0.9949353312963041,
          0.9949353312963041,
          0.9949771880624503,
          0.9949771880624503,
          0.9950190448285965,
          0.9950190448285965,
          0.995102758360889,
          0.995102758360889,
          0.9951446151270353,
          0.9952283286593278,
          0.9952701854254741,
          0.995437612490059,
          0.9956887530869365,
          0.9958143233853752,
          0.9958561801515214,
          0.9958980369176678,
          0.9959817504499603,
          0.9960236072161065,
          0.9960654639822527,
          0.9961491775145452,
          0.9962328910468378,
          0.9963584613452765,
          0.9963584613452765,
          0.9964840316437152,
          0.9965258884098614,
          0.9967770290067389,
          0.9967770290067389,
          0.9968607425390315,
          0.996944456071324,
          0.9970281696036164,
          0.9971537399020551,
          0.9972374534343477,
          0.9972374534343477,
          0.9974048804989326,
          0.9974048804989326,
          0.9976141643296639,
          0.9976141643296639,
          0.9976560210958101,
          0.9976978778619564,
          0.9978234481603951,
          0.9979071616926877,
          0.9979490184588339,
          0.9979908752249801,
          0.9980745887572726,
          0.9981164455234188,
          0.9982001590557114,
          0.9983257293541501,
          0.9984094428864426,
          0.998493156418735,
          0.9985350131848814,
          0.9986187267171738,
          0.9987024402494663,
          0.9987024402494663,
          0.9987442970156126,
          0.9987442970156126,
          0.9988698673140514,
          0.9988698673140514,
          0.9989954376124901,
          0.9990372943786363,
          0.999162864677075,
          0.9992047214432213,
          0.9992465782093676,
          0.99933029174166,
          0.9993721485078063,
          0.9994558620400987,
          0.999497718806245,
          0.9995814323385376,
          0.99966514587083,
          0.9997070026369763,
          0.9997488594031225,
          0.9997488594031225,
          0.999832572935415,
          0.999832572935415,
          0.9998744297015613,
          0.9999162864677075,
          1
         ],
         "xaxis": "x",
         "y": [
          0,
          0.00007511454968827462,
          0.00007511454968827462,
          0.0004506872981296477,
          0.0005258018478179223,
          0.0005258018478179223,
          0.000600916397506197,
          0.000600916397506197,
          0.0006760309471944716,
          0.0008262600465710208,
          0.0008262600465710208,
          0.0009764891459475701,
          0.0009764891459475701,
          0.0009764891459475701,
          0.0009764891459475701,
          0.0010516036956358446,
          0.0010516036956358446,
          0.0013520618943889432,
          0.001577405543453767,
          0.001577405543453767,
          0.0018027491925185909,
          0.0018778637422068654,
          0.0019529782918951402,
          0.0020280928415834145,
          0.0021032073912716893,
          0.002403665590024788,
          0.002553894689401337,
          0.0027041237887778864,
          0.0027792383384661608,
          0.0028543528881544355,
          0.0030045819875309846,
          0.003154811086907534,
          0.0032299256365958084,
          0.0032299256365958084,
          0.003305040186284083,
          0.003305040186284083,
          0.003380154735972358,
          0.003530383835348907,
          0.0038308420341020056,
          0.0042064147825433785,
          0.004807331180049576,
          0.0055584766769323215,
          0.006009163975061969,
          0.006234507624126793,
          0.006685194922256441,
          0.0069105385713212645,
          0.007511454968827462,
          0.007811913167580561,
          0.007887027717268834,
          0.007887027717268834,
          0.008187485916021933,
          0.008187485916021933,
          0.008337715015398482,
          0.008412829565086757,
          0.008638173214151581,
          0.008788402313528131,
          0.008863516863216405,
          0.00893863141290468,
          0.009088860512281229,
          0.009239089611657779,
          0.009314204161346052,
          0.009539547810410876,
          0.009539547810410876,
          0.009539547810410876,
          0.0097648914594757,
          0.0097648914594757,
          0.00991512055885225,
          0.010140464207917074,
          0.011192067903552918,
          0.012393900698565313,
          0.013370389844512881,
          0.014421993540148727,
          0.015173139037031474,
          0.01645008638173214,
          0.017576804627056263,
          0.01870352287238038,
          0.019604897468639675,
          0.02028092841583415,
          0.021032073912716893,
          0.021407646661158266,
          0.02193344850897619,
          0.02230902125741756,
          0.022384135807105836,
          0.022684594005858934,
          0.022834823105235484,
          0.022985052204612035,
          0.02313528130398858,
          0.023510854052429957,
          0.023661083151806504,
          0.023811312251183055,
          0.02388642680087133,
          0.024036655900247877,
          0.024111770449936152,
          0.024111770449936152,
          0.024186884999624427,
          0.024186884999624427,
          0.024337114099000978,
          0.024412228648689253,
          0.024412228648689253,
          0.024487343198377524,
          0.0245624577480658,
          0.024637572297754075,
          0.024637572297754075,
          0.02471268684744235,
          0.02471268684744235,
          0.02471268684744235,
          0.025013145046195447,
          0.025088259595883722,
          0.025313603244948548,
          0.025614061443701645,
          0.026064748741831293,
          0.026290092390896115,
          0.026440321490272665,
          0.02666566513933749,
          0.026891008788402313,
          0.02696612333809059,
          0.02734169608653196,
          0.027567039735596786,
          0.02794261248403816,
          0.02816795613310298,
          0.028243070682791256,
          0.028393299782167807,
          0.02861864343123263,
          0.028693757980920904,
          0.028693757980920904,
          0.028693757980920904,
          0.02914444527905055,
          0.02914444527905055,
          0.029294674378427102,
          0.029294674378427102,
          0.029294674378427102,
          0.029294674378427102,
          0.029369788928115377,
          0.029369788928115377,
          0.029444903477803652,
          0.0295951325771802,
          0.029670247126868474,
          0.029820476226245025,
          0.0298955907759333,
          0.0298955907759333,
          0.02997070532562157,
          0.02997070532562157,
          0.030045819875309847,
          0.030120934424998122,
          0.030120934424998122,
          0.030196048974686397,
          0.030271163524374672,
          0.030271163524374672,
          0.030346278074062948,
          0.030346278074062948,
          0.03042139262375122,
          0.03042139262375122,
          0.030496507173439494,
          0.030496507173439494,
          0.030496507173439494,
          0.03057162172312777,
          0.030947194471569142,
          0.031097423570945693,
          0.03139788176969879,
          0.03214902726658154,
          0.03297528731315256,
          0.0334259746112822,
          0.03365131826034703,
          0.034026891008788404,
          0.03447757830691805,
          0.0349282656050477,
          0.03560429655224217,
          0.03613009840006009,
          0.036355442049124914,
          0.036505671148501465,
          0.03710658754600766,
          0.037782618493202136,
          0.03823330579133178,
          0.038834222188837975,
          0.03920979493727935,
          0.039960940434162096,
          0.040261398632915196,
          0.04086231503042139,
          0.041763689626680686,
          0.04236460602418689,
          0.042589949673251706,
          0.04289040787200481,
          0.04296552242169308,
          0.04334109517013446,
          0.043491324269511,
          0.043491324269511,
          0.04364155336888755,
          0.04371666791857583,
          0.04401712611732893,
          0.0440922406670172,
          0.04416735521670548,
          0.04416735521670548,
          0.044242469766393754,
          0.044242469766393754,
          0.0443926988657703,
          0.04454292796514685,
          0.0449936152632765,
          0.04529407346202959,
          0.04544430256140614,
          0.04581987530984752,
          0.04597010440922407,
          0.046045218958912344,
          0.04634567715766544,
          0.04649590625704199,
          0.046871479005483364,
          0.04709682265454818,
          0.047397280853301284,
          0.04762262450236611,
          0.047697739052054385,
          0.04799819725080748,
          0.04814842635018403,
          0.04814842635018403,
          0.04814842635018403,
          0.04814842635018403,
          0.04844888454893713,
          0.04874934274769023,
          0.048899571847066774,
          0.049049800946443324,
          0.04927514459550815,
          0.0494253736948847,
          0.0494253736948847,
          0.04957560279426125,
          0.049650717343949526,
          0.049650717343949526,
          0.0497258318936378,
          0.049876060993014344,
          0.05010140464207917,
          0.050476977390520546,
          0.051153008337715015,
          0.05273041388116878,
          0.054157590325246,
          0.05550965221963494,
          0.05648614136558251,
          0.057763088710283184,
          0.0594907233531135,
          0.060392097949372794,
          0.061518816194696915,
          0.06242019079095621,
          0.06317133628783896,
          0.0642229399834748,
          0.0657252309772403,
          0.06647637647412304,
          0.06692706377225269,
          0.06767820926913543,
          0.06903027116352438,
          0.06978141666040712,
          0.07068279125666642,
          0.07120859310448434,
          0.07226019680012018,
          0.07271088409824983,
          0.07331180049575603,
          0.0739878314429505,
          0.07481409148952152,
          0.07533989333733944,
          0.07624126793359874,
          0.07699241343048148,
          0.07744310072861113,
          0.07804401712611733,
          0.0784195898745587,
          0.07856981897393525,
          0.07864493352362352,
          0.07887027717268835,
          0.07894539172237662,
          0.07924584992112972,
          0.079320964470818,
          0.07939607902050627,
          0.07954630811988282,
          0.07954630811988282,
          0.07984676631863592,
          0.07992188086832419,
          0.07999699541801247,
          0.07999699541801247,
          0.08007210996770074,
          0.08007210996770074,
          0.08007210996770074,
          0.08014722451738902,
          0.08022233906707729,
          0.08022233906707729,
          0.08037256816645384,
          0.08037256816645384,
          0.08052279726583039,
          0.08052279726583039,
          0.08059791181551866,
          0.08059791181551866,
          0.08067302636520694,
          0.08067302636520694,
          0.08089837001427176,
          0.08089837001427176,
          0.08097348456396004,
          0.08097348456396004,
          0.0811237136633366,
          0.08127394276271314,
          0.08134905731240141,
          0.08134905731240141,
          0.08142417186208968,
          0.08149928641177796,
          0.08149928641177796,
          0.08149928641177796,
          0.08149928641177796,
          0.08157440096146623,
          0.08157440096146623,
          0.08164951551115451,
          0.08164951551115451,
          0.08217531735897243,
          0.08240066100803725,
          0.08330203560429655,
          0.08450386839930894,
          0.08502967024712686,
          0.08578081574400961,
          0.08638173214151582,
          0.08713287763839855,
          0.08795913768496957,
          0.08886051228122888,
          0.0893863141290468,
          0.0902876887253061,
          0.0914144069706302,
          0.09239089611657778,
          0.0932171561631488,
          0.09396830166003155,
          0.09494479080597912,
          0.09562082175317359,
          0.09614662360099151,
          0.09644708179974461,
          0.09712311274693908,
          0.09734845639600391,
          0.09764891459475701,
          0.09832494554195148,
          0.09877563284008112,
          0.09930143468789905,
          0.09952677833696387,
          0.09982723653571697,
          0.10005258018478179,
          0.10042815293322317,
          0.10050326748291144,
          0.10072861113197626,
          0.10087884023135281,
          0.10102906933072936,
          0.10125441297979419,
          0.10125441297979419,
          0.10132952752948246,
          0.10140464207917073,
          0.10147975662885901,
          0.10155487117854728,
          0.10162998572823556,
          0.10162998572823556,
          0.10178021482761211,
          0.10185532937730038,
          0.10193044392698866,
          0.10193044392698866,
          0.10200555847667693,
          0.10215578757605348,
          0.10215578757605348,
          0.10223090212574176,
          0.10223090212574176,
          0.10223090212574176,
          0.10230601667543003,
          0.1023811312251183,
          0.10253136032449485,
          0.1026815894238714,
          0.10275670397355968,
          0.10283181852324795,
          0.10283181852324795,
          0.10290693307293623,
          0.10290693307293623,
          0.1029820476226245,
          0.10320739127168932,
          0.1032825058213776,
          0.10343273492075415,
          0.10343273492075415,
          0.10350784947044242,
          0.1035829640201307,
          0.1035829640201307,
          0.10365807856981897,
          0.10380830766919552,
          0.10380830766919552,
          0.1038834222188838,
          0.1038834222188838,
          0.1038834222188838,
          0.1038834222188838,
          0.1038834222188838,
          0.10395853676857207,
          0.10410876586794862,
          0.10418388041763689,
          0.10418388041763689,
          0.10425899496732517,
          0.10440922406670172,
          0.10448433861638999,
          0.10448433861638999,
          0.10455945316607827,
          0.10470968226545482,
          0.10485991136483137,
          0.10501014046420792,
          0.10516036956358446,
          0.10538571321264929,
          0.10546082776233756,
          0.10561105686171411,
          0.10561105686171411,
          0.10576128596109066,
          0.10576128596109066,
          0.10583640051077894,
          0.10583640051077894,
          0.10606174415984376,
          0.10606174415984376,
          0.10606174415984376,
          0.10606174415984376,
          0.10606174415984376,
          0.10613685870953203,
          0.10613685870953203,
          0.10621197325922031,
          0.10636220235859686,
          0.10673777510703823,
          0.10718846240516788,
          0.10726357695485615,
          0.1077142642529858,
          0.1077142642529858,
          0.10793960790205062,
          0.1080147224517389,
          0.10808983700142717,
          0.10854052429955682,
          0.10854052429955682,
          0.10899121159768647,
          0.10914144069706302,
          0.10936678434612784,
          0.1095170134455044,
          0.10996770074363404,
          0.10996770074363404,
          0.11026815894238715,
          0.1104183880417637,
          0.11064373169082851,
          0.11064373169082851,
          0.11086907533989333,
          0.11086907533989333,
          0.11109441898895817,
          0.11131976263802298,
          0.11146999173739953,
          0.1115451062870878,
          0.11169533538646435,
          0.11177044993615264,
          0.11192067903552919,
          0.11192067903552919,
          0.112146022684594,
          0.11222113723428229,
          0.11229625178397055,
          0.11237136633365882,
          0.11237136633365882,
          0.1124464808833471,
          0.1124464808833471,
          0.11252159543303537,
          0.11259670998272366,
          0.11259670998272366,
          0.11267182453241192,
          0.1127469390821002,
          0.11289716818147676,
          0.11297228273116502,
          0.11297228273116502,
          0.11297228273116502,
          0.11312251183054157,
          0.11327274092991813,
          0.11327274092991813,
          0.11327274092991813,
          0.1133478554796064,
          0.11342297002929468,
          0.11349808457898294,
          0.11349808457898294,
          0.11357319912867123,
          0.11357319912867123,
          0.1136483136783595,
          0.11372342822804778,
          0.11379854277773604,
          0.11379854277773604,
          0.1139487718771126,
          0.1139487718771126,
          0.1139487718771126,
          0.1139487718771126,
          0.1139487718771126,
          0.11402388642680088,
          0.1142492300758657,
          0.11432434462555396,
          0.11477503192368362,
          0.1148501464733719,
          0.11500037557274845,
          0.11515060467212498,
          0.11545106287087809,
          0.11552617742056637,
          0.11552617742056637,
          0.11567640651994292,
          0.11575152106963119,
          0.11575152106963119,
          0.11582663561931947,
          0.11597686471869602,
          0.11620220836776084,
          0.11650266656651394,
          0.11665289566589049,
          0.11680312476526704,
          0.11680312476526704,
          0.11695335386464357,
          0.11710358296402013,
          0.11717869751370841,
          0.11747915571246151,
          0.11755427026214978,
          0.11792984301059115,
          0.11815518665965598,
          0.11830541575903253,
          0.1183805303087208,
          0.11845564485840908,
          0.11860587395778563,
          0.1186809885074739,
          0.1186809885074739,
          0.11875610305716217,
          0.11875610305716217,
          0.11890633215653872,
          0.11890633215653872,
          0.118981446706227,
          0.118981446706227,
          0.11905656125591527,
          0.11913167580560355,
          0.12003305040186284,
          0.12191091414406971,
          0.1292721400135206,
          0.14211672801021558,
          0.16292345827386764,
          0.19026515436039962,
          0.22331555622324045,
          0.25876962367610606,
          0.2920453691880117,
          0.3232179073086457,
          0.3519116652895666,
          0.3783519867798393,
          0.4009614662360099,
          0.42064147825433784,
          0.4416735521670548,
          0.4624802824307068,
          0.4829865544956058,
          0.5023661083151807,
          0.520769172988808,
          0.5408247577555773,
          0.5570495004882445,
          0.5751521069631188,
          0.5909261623976564,
          0.6068504469315706,
          0.6236009915120558,
          0.638924359648464,
          0.6566513933748968,
          0.6722001051603695,
          0.687072785998648,
          0.7038984451288215,
          0.718545782318035,
          0.7314654848644182,
          0.7431082400661008,
          0.7558025989634192,
          0.7657177195222714,
          0.7741305490873582,
          0.7829189514008863,
          0.7921580410125442,
          0.8005708705776309,
          0.8049275144595508,
          0.8098099601892886,
          0.8133403440246376,
          0.8164951551115451,
          0.8194997370990761,
          0.8217531735897243,
          0.8239314955306843,
          0.8253586719747615,
          0.8269360775182153,
          0.8279876812138511,
          0.8288139412604222,
          0.8294148576579283,
          0.830166003154811,
          0.830691805002629,
          0.8309171486516939,
          0.8310673777510704,
          0.8311424923007587,
          0.8312927214001352,
          0.8313678359498234,
          0.8314429504995118,
          0.8314429504995118,
          0.8314429504995118,
          0.8315931795988883,
          0.8316682941485766,
          0.8316682941485766,
          0.8317434086982649,
          0.8318185232479531,
          0.8318936377976414,
          0.8318936377976414,
          0.8318936377976414,
          0.8318936377976414,
          0.8319687523473297,
          0.8319687523473297,
          0.8320438668970179,
          0.8320438668970179,
          0.8321940959963945,
          0.8321940959963945,
          0.8322692105460828,
          0.8322692105460828,
          0.8322692105460828,
          0.8322692105460828,
          0.8324194396454593,
          0.8325696687448358,
          0.8327950123939007,
          0.8333959287914069,
          0.833996845188913,
          0.8343724179373545,
          0.8346728761361075,
          0.8352737925336138,
          0.8358747089311199,
          0.836700968977691,
          0.8370765417261323,
          0.8378276872230151,
          0.8391046345677158,
          0.8394802073161571,
          0.8399308946142868,
          0.8403064673627282,
          0.8408322692105461,
          0.8412078419589875,
          0.8419589874558702,
          0.8425599038533764,
          0.8427852475024412,
          0.8431608202508826,
          0.8434612784496357,
          0.8436866220987005,
          0.8440621948471418,
          0.844362653045895,
          0.8445128821452715,
          0.8445879966949598,
          0.8447382257943363,
          0.8447382257943363,
          0.8447382257943363,
          0.8448884548937129,
          0.8450386839930895,
          0.8451137985427777,
          0.845188913092466,
          0.8454893712912191,
          0.8454893712912191,
          0.8454893712912191,
          0.8455644858409074,
          0.8456396003905957,
          0.8456396003905957,
          0.8457147149402839,
          0.8457147149402839,
          0.8457898294899722,
          0.8457898294899722,
          0.8458649440396605,
          0.8458649440396605,
          0.8460151731390371,
          0.8460151731390371,
          0.8461654022384136,
          0.8462405167881019,
          0.846540974986855,
          0.8467663186359198,
          0.8470667768346729,
          0.8471418913843611,
          0.8471418913843611,
          0.8474423495831143,
          0.8475174641328025,
          0.8477428077818674,
          0.8478930368812438,
          0.8478930368812438,
          0.8478930368812438,
          0.8480432659806204,
          0.8481183805303087,
          0.8482686096296853,
          0.8484939532787501,
          0.8487944114775032,
          0.8487944114775032,
          0.8488695260271915,
          0.8488695260271915,
          0.8489446405768798,
          0.849019755126568,
          0.849019755126568,
          0.8490948696762562,
          0.8491699842259446,
          0.8491699842259446,
          0.8492450987756328,
          0.8492450987756328,
          0.8493202133253211,
          0.8493953278750094,
          0.8495455569743859,
          0.8499211297228273,
          0.8499211297228273,
          0.8500713588222039,
          0.8500713588222039,
          0.8501464733718921,
          0.8501464733718921,
          0.8502215879215804,
          0.8502215879215804,
          0.8502967024712687,
          0.850371817020957,
          0.850371817020957,
          0.8504469315706452,
          0.8504469315706452,
          0.8505220461203336,
          0.8505220461203336,
          0.8505220461203336,
          0.85067227521971,
          0.85067227521971,
          0.8507473897693983,
          0.8507473897693983,
          0.8508225043190866,
          0.8508225043190866,
          0.8508976188687749,
          0.8508976188687749,
          0.8509727334184631,
          0.8510478479681515,
          0.8510478479681515,
          0.8511229625178397,
          0.8512731916172163,
          0.8512731916172163,
          0.8514234207165928,
          0.851498535266281,
          0.851498535266281,
          0.851498535266281,
          0.851498535266281,
          0.851498535266281,
          0.8515736498159694,
          0.8515736498159694,
          0.851723878915346,
          0.851723878915346,
          0.8517989934650342,
          0.8517989934650342,
          0.8518741080147224,
          0.8518741080147224,
          0.8520994516637873,
          0.8520994516637873,
          0.8521745662134755,
          0.8521745662134755,
          0.8522496807631639,
          0.8527003680612935,
          0.8534515135581762,
          0.8545031172538121,
          0.8560054082475775,
          0.8581837301885376,
          0.8608878539773154,
          0.8640426650642229,
          0.8690002253436491,
          0.873356869225569,
          0.8779388567565537,
          0.8813941260422143,
          0.8846991662284984,
          0.8888304664613536,
          0.8919852775482611,
          0.8946142867873507,
          0.8970930669270638,
          0.9004732216630361,
          0.9031022309021257,
          0.9061068128896568,
          0.910012769473447,
          0.9140689551566138,
          0.9172237662435214,
          0.9207541500788703,
          0.925336137609855,
          0.9287162923458274,
          0.9354766018177721,
          0.9399834747990686,
          0.944189889581612,
          0.9490723353113498,
          0.9515511154510629,
          0.9548561556373469,
          0.9574851648764365,
          0.9598888304664613,
          0.9629685270036806,
          0.9648463907458875,
          0.9662735671899647,
          0.9677758581837302,
          0.9688274618793661,
          0.9695034928265605,
          0.9704799819725081,
          0.9715315856681439,
          0.9725831893637797,
          0.9730338766619094,
          0.9739352512581687,
          0.9743108240066101,
          0.974836625854428,
          0.9750619695034928,
          0.9752873131525577,
          0.9755877713513107,
          0.9758882295500638,
          0.9758882295500638,
          0.9761135731991287,
          0.976188687748817,
          0.976188687748817,
          0.9762638022985052,
          0.9764140313978817,
          0.9764140313978817,
          0.9764891459475701,
          0.9766393750469466,
          0.9767144895966349,
          0.9767144895966349,
          0.9767144895966349,
          0.9767896041463231,
          0.9769398332456997,
          0.9771651768947646,
          0.977315405994141,
          0.9776158641928941,
          0.9779914369413355,
          0.9788928115375949,
          0.9791932697363479,
          0.979493727935101,
          0.9797190715841658,
          0.980019529782919,
          0.9801697588822955,
          0.9803199879816721,
          0.9804702170810486,
          0.9806204461804251,
          0.9807706752798017,
          0.98084578982949,
          0.9809209043791782,
          0.9810711334785548,
          0.9812213625779314,
          0.9812964771276196,
          0.9812964771276196,
          0.9812964771276196,
          0.9813715916773079,
          0.9813715916773079,
          0.9813715916773079,
          0.9813715916773079,
          0.9813715916773079,
          0.9814467062269961,
          0.9814467062269961,
          0.9815969353263727,
          0.9815969353263727,
          0.9815969353263727,
          0.981672049876061,
          0.981672049876061,
          0.981672049876061,
          0.9818973935251258,
          0.9819725080748141,
          0.9820476226245024,
          0.9820476226245024,
          0.9822729662735672,
          0.9823480808232554,
          0.9823480808232554,
          0.9824231953729438,
          0.982498309922632,
          0.9826485390220085,
          0.9827236535716969,
          0.9827987681213851,
          0.9827987681213851,
          0.9828738826710733,
          0.9828738826710733,
          0.9829489972207617,
          0.9829489972207617,
          0.9830241117704499,
          0.9830992263201382,
          0.9830992263201382,
          0.9830992263201382,
          0.9831743408698265,
          0.9831743408698265,
          0.9831743408698265,
          0.9832494554195148,
          0.9832494554195148,
          0.9833996845188913,
          0.9833996845188913,
          0.9835499136182678,
          0.9836250281679562,
          0.9836250281679562,
          0.9837001427176444,
          0.9837752572673327,
          0.9837752572673327,
          0.983850371817021,
          0.9839254863667092,
          0.9839254863667092,
          0.9840757154660857,
          0.9840757154660857,
          0.9841508300157741,
          0.9841508300157741,
          0.9841508300157741,
          0.9841508300157741,
          0.9841508300157741,
          0.9843010591151506,
          0.9843761736648389,
          0.9847517464132802,
          0.9852024337114099,
          0.9855780064598513,
          0.9865544956057989,
          0.9867798392548637,
          0.9873807556523698,
          0.9880567865995643,
          0.9886577029970706,
          0.989333733944265,
          0.9897844212423946,
          0.9900097648914594,
          0.9908360249380305,
          0.9910613685870954,
          0.9911364831367836,
          0.9916622849846015,
          0.9918125140839781,
          0.992338315931796,
          0.9925636595808608,
          0.9928641177796139,
          0.9929392323293021,
          0.993164575978367,
          0.993690377826185,
          0.993690377826185,
          0.9937654923758732,
          0.993990836024938,
          0.9941410651243145,
          0.9942912942236911,
          0.9945917524224442,
          0.9947419815218208,
          0.994817096071509,
          0.994817096071509,
          0.9948922106211974,
          0.9950424397205738,
          0.9950424397205738,
          0.9950424397205738,
          0.9951175542702622,
          0.9951926688199504,
          0.9952677833696387,
          0.995342897919327,
          0.995342897919327,
          0.995342897919327,
          0.995342897919327,
          0.995342897919327,
          0.995342897919327,
          0.9954931270187035,
          0.9956433561180801,
          0.9956433561180801,
          0.9957184706677683,
          0.9957184706677683,
          0.9959438143168332,
          0.9959438143168332,
          0.9959438143168332,
          0.9959438143168332,
          0.9960189288665214,
          0.9960940434162098,
          0.9960940434162098,
          0.9960940434162098,
          0.9960940434162098,
          0.996169157965898,
          0.996169157965898,
          0.9962442725155862,
          0.9963193870652746,
          0.9963945016149628,
          0.9963945016149628,
          0.9964696161646511,
          0.9964696161646511,
          0.9965447307143394,
          0.9966198452640277,
          0.9966949598137159,
          0.9966949598137159,
          0.9966949598137159,
          0.9966949598137159,
          0.9968451889130925,
          0.9970705325621573,
          0.9971456471118456,
          0.9972207616615338,
          0.9974461053105986,
          0.997521219860287,
          0.997521219860287,
          0.997521219860287,
          0.997521219860287,
          0.9975963344099752,
          0.9976714489596635,
          0.9977465635093518,
          0.99782167805904,
          0.9978967926087283,
          0.9979719071584165,
          0.9981221362577931,
          0.9981972508074815,
          0.9981972508074815,
          0.9982723653571697,
          0.9984225944565462,
          0.9984225944565462,
          0.9984977090062345,
          0.9984977090062345,
          0.9985728235559228,
          0.9985728235559228,
          0.998647938105611,
          0.9987230526552994,
          0.9987230526552994,
          0.9987230526552994,
          0.9987981672049876,
          0.9987981672049876,
          0.9988732817546759,
          0.9988732817546759,
          0.9988732817546759,
          0.9990235108540524,
          0.9990235108540524,
          0.9990235108540524,
          0.9990986254037407,
          0.9990986254037407,
          0.9992488545031173,
          0.9992488545031173,
          0.9993239690528055,
          0.9993239690528055,
          0.9993990836024939,
          0.9993990836024939,
          0.9995493127018703,
          0.9995493127018703,
          0.9996244272515586,
          0.9996244272515586,
          0.9996995418012469,
          0.9996995418012469,
          0.9996995418012469,
          0.9996995418012469,
          0.9996995418012469,
          0.9996995418012469,
          0.9997746563509352,
          0.9997746563509352,
          0.9998497709006234,
          0.9998497709006234,
          0.9999248854503118,
          0.9999248854503118,
          1,
          1
         ],
         "yaxis": "y"
        },
        {
         "hovertemplate": "x=%{x}<br>y=%{y}<extra></extra>",
         "legendgroup": "",
         "line": {
          "color": "rgba(50,50,50,0.2)",
          "dash": "solid"
         },
         "mode": "lines",
         "name": "",
         "orientation": "v",
         "showlegend": false,
         "type": "scatter",
         "x": [
          0,
          1
         ],
         "xaxis": "x",
         "y": [
          0,
          1
         ],
         "yaxis": "y"
        }
       ],
       "layout": {
        "autosize": false,
        "height": 800,
        "template": {
         "data": {
          "bar": [
           {
            "error_x": {
             "color": "#2a3f5f"
            },
            "error_y": {
             "color": "#2a3f5f"
            },
            "marker": {
             "line": {
              "color": "#E5ECF6",
              "width": 0.5
             }
            },
            "type": "bar"
           }
          ],
          "barpolar": [
           {
            "marker": {
             "line": {
              "color": "#E5ECF6",
              "width": 0.5
             }
            },
            "type": "barpolar"
           }
          ],
          "carpet": [
           {
            "aaxis": {
             "endlinecolor": "#2a3f5f",
             "gridcolor": "white",
             "linecolor": "white",
             "minorgridcolor": "white",
             "startlinecolor": "#2a3f5f"
            },
            "baxis": {
             "endlinecolor": "#2a3f5f",
             "gridcolor": "white",
             "linecolor": "white",
             "minorgridcolor": "white",
             "startlinecolor": "#2a3f5f"
            },
            "type": "carpet"
           }
          ],
          "choropleth": [
           {
            "colorbar": {
             "outlinewidth": 0,
             "ticks": ""
            },
            "type": "choropleth"
           }
          ],
          "contour": [
           {
            "colorbar": {
             "outlinewidth": 0,
             "ticks": ""
            },
            "colorscale": [
             [
              0,
              "#0d0887"
             ],
             [
              0.1111111111111111,
              "#46039f"
             ],
             [
              0.2222222222222222,
              "#7201a8"
             ],
             [
              0.3333333333333333,
              "#9c179e"
             ],
             [
              0.4444444444444444,
              "#bd3786"
             ],
             [
              0.5555555555555556,
              "#d8576b"
             ],
             [
              0.6666666666666666,
              "#ed7953"
             ],
             [
              0.7777777777777778,
              "#fb9f3a"
             ],
             [
              0.8888888888888888,
              "#fdca26"
             ],
             [
              1,
              "#f0f921"
             ]
            ],
            "type": "contour"
           }
          ],
          "contourcarpet": [
           {
            "colorbar": {
             "outlinewidth": 0,
             "ticks": ""
            },
            "type": "contourcarpet"
           }
          ],
          "heatmap": [
           {
            "colorbar": {
             "outlinewidth": 0,
             "ticks": ""
            },
            "colorscale": [
             [
              0,
              "#0d0887"
             ],
             [
              0.1111111111111111,
              "#46039f"
             ],
             [
              0.2222222222222222,
              "#7201a8"
             ],
             [
              0.3333333333333333,
              "#9c179e"
             ],
             [
              0.4444444444444444,
              "#bd3786"
             ],
             [
              0.5555555555555556,
              "#d8576b"
             ],
             [
              0.6666666666666666,
              "#ed7953"
             ],
             [
              0.7777777777777778,
              "#fb9f3a"
             ],
             [
              0.8888888888888888,
              "#fdca26"
             ],
             [
              1,
              "#f0f921"
             ]
            ],
            "type": "heatmap"
           }
          ],
          "heatmapgl": [
           {
            "colorbar": {
             "outlinewidth": 0,
             "ticks": ""
            },
            "colorscale": [
             [
              0,
              "#0d0887"
             ],
             [
              0.1111111111111111,
              "#46039f"
             ],
             [
              0.2222222222222222,
              "#7201a8"
             ],
             [
              0.3333333333333333,
              "#9c179e"
             ],
             [
              0.4444444444444444,
              "#bd3786"
             ],
             [
              0.5555555555555556,
              "#d8576b"
             ],
             [
              0.6666666666666666,
              "#ed7953"
             ],
             [
              0.7777777777777778,
              "#fb9f3a"
             ],
             [
              0.8888888888888888,
              "#fdca26"
             ],
             [
              1,
              "#f0f921"
             ]
            ],
            "type": "heatmapgl"
           }
          ],
          "histogram": [
           {
            "marker": {
             "colorbar": {
              "outlinewidth": 0,
              "ticks": ""
             }
            },
            "type": "histogram"
           }
          ],
          "histogram2d": [
           {
            "colorbar": {
             "outlinewidth": 0,
             "ticks": ""
            },
            "colorscale": [
             [
              0,
              "#0d0887"
             ],
             [
              0.1111111111111111,
              "#46039f"
             ],
             [
              0.2222222222222222,
              "#7201a8"
             ],
             [
              0.3333333333333333,
              "#9c179e"
             ],
             [
              0.4444444444444444,
              "#bd3786"
             ],
             [
              0.5555555555555556,
              "#d8576b"
             ],
             [
              0.6666666666666666,
              "#ed7953"
             ],
             [
              0.7777777777777778,
              "#fb9f3a"
             ],
             [
              0.8888888888888888,
              "#fdca26"
             ],
             [
              1,
              "#f0f921"
             ]
            ],
            "type": "histogram2d"
           }
          ],
          "histogram2dcontour": [
           {
            "colorbar": {
             "outlinewidth": 0,
             "ticks": ""
            },
            "colorscale": [
             [
              0,
              "#0d0887"
             ],
             [
              0.1111111111111111,
              "#46039f"
             ],
             [
              0.2222222222222222,
              "#7201a8"
             ],
             [
              0.3333333333333333,
              "#9c179e"
             ],
             [
              0.4444444444444444,
              "#bd3786"
             ],
             [
              0.5555555555555556,
              "#d8576b"
             ],
             [
              0.6666666666666666,
              "#ed7953"
             ],
             [
              0.7777777777777778,
              "#fb9f3a"
             ],
             [
              0.8888888888888888,
              "#fdca26"
             ],
             [
              1,
              "#f0f921"
             ]
            ],
            "type": "histogram2dcontour"
           }
          ],
          "mesh3d": [
           {
            "colorbar": {
             "outlinewidth": 0,
             "ticks": ""
            },
            "type": "mesh3d"
           }
          ],
          "parcoords": [
           {
            "line": {
             "colorbar": {
              "outlinewidth": 0,
              "ticks": ""
             }
            },
            "type": "parcoords"
           }
          ],
          "pie": [
           {
            "automargin": true,
            "type": "pie"
           }
          ],
          "scatter": [
           {
            "marker": {
             "colorbar": {
              "outlinewidth": 0,
              "ticks": ""
             }
            },
            "type": "scatter"
           }
          ],
          "scatter3d": [
           {
            "line": {
             "colorbar": {
              "outlinewidth": 0,
              "ticks": ""
             }
            },
            "marker": {
             "colorbar": {
              "outlinewidth": 0,
              "ticks": ""
             }
            },
            "type": "scatter3d"
           }
          ],
          "scattercarpet": [
           {
            "marker": {
             "colorbar": {
              "outlinewidth": 0,
              "ticks": ""
             }
            },
            "type": "scattercarpet"
           }
          ],
          "scattergeo": [
           {
            "marker": {
             "colorbar": {
              "outlinewidth": 0,
              "ticks": ""
             }
            },
            "type": "scattergeo"
           }
          ],
          "scattergl": [
           {
            "marker": {
             "colorbar": {
              "outlinewidth": 0,
              "ticks": ""
             }
            },
            "type": "scattergl"
           }
          ],
          "scattermapbox": [
           {
            "marker": {
             "colorbar": {
              "outlinewidth": 0,
              "ticks": ""
             }
            },
            "type": "scattermapbox"
           }
          ],
          "scatterpolar": [
           {
            "marker": {
             "colorbar": {
              "outlinewidth": 0,
              "ticks": ""
             }
            },
            "type": "scatterpolar"
           }
          ],
          "scatterpolargl": [
           {
            "marker": {
             "colorbar": {
              "outlinewidth": 0,
              "ticks": ""
             }
            },
            "type": "scatterpolargl"
           }
          ],
          "scatterternary": [
           {
            "marker": {
             "colorbar": {
              "outlinewidth": 0,
              "ticks": ""
             }
            },
            "type": "scatterternary"
           }
          ],
          "surface": [
           {
            "colorbar": {
             "outlinewidth": 0,
             "ticks": ""
            },
            "colorscale": [
             [
              0,
              "#0d0887"
             ],
             [
              0.1111111111111111,
              "#46039f"
             ],
             [
              0.2222222222222222,
              "#7201a8"
             ],
             [
              0.3333333333333333,
              "#9c179e"
             ],
             [
              0.4444444444444444,
              "#bd3786"
             ],
             [
              0.5555555555555556,
              "#d8576b"
             ],
             [
              0.6666666666666666,
              "#ed7953"
             ],
             [
              0.7777777777777778,
              "#fb9f3a"
             ],
             [
              0.8888888888888888,
              "#fdca26"
             ],
             [
              1,
              "#f0f921"
             ]
            ],
            "type": "surface"
           }
          ],
          "table": [
           {
            "cells": {
             "fill": {
              "color": "#EBF0F8"
             },
             "line": {
              "color": "white"
             }
            },
            "header": {
             "fill": {
              "color": "#C8D4E3"
             },
             "line": {
              "color": "white"
             }
            },
            "type": "table"
           }
          ]
         },
         "layout": {
          "annotationdefaults": {
           "arrowcolor": "#2a3f5f",
           "arrowhead": 0,
           "arrowwidth": 1
          },
          "autotypenumbers": "strict",
          "coloraxis": {
           "colorbar": {
            "outlinewidth": 0,
            "ticks": ""
           }
          },
          "colorscale": {
           "diverging": [
            [
             0,
             "#8e0152"
            ],
            [
             0.1,
             "#c51b7d"
            ],
            [
             0.2,
             "#de77ae"
            ],
            [
             0.3,
             "#f1b6da"
            ],
            [
             0.4,
             "#fde0ef"
            ],
            [
             0.5,
             "#f7f7f7"
            ],
            [
             0.6,
             "#e6f5d0"
            ],
            [
             0.7,
             "#b8e186"
            ],
            [
             0.8,
             "#7fbc41"
            ],
            [
             0.9,
             "#4d9221"
            ],
            [
             1,
             "#276419"
            ]
           ],
           "sequential": [
            [
             0,
             "#0d0887"
            ],
            [
             0.1111111111111111,
             "#46039f"
            ],
            [
             0.2222222222222222,
             "#7201a8"
            ],
            [
             0.3333333333333333,
             "#9c179e"
            ],
            [
             0.4444444444444444,
             "#bd3786"
            ],
            [
             0.5555555555555556,
             "#d8576b"
            ],
            [
             0.6666666666666666,
             "#ed7953"
            ],
            [
             0.7777777777777778,
             "#fb9f3a"
            ],
            [
             0.8888888888888888,
             "#fdca26"
            ],
            [
             1,
             "#f0f921"
            ]
           ],
           "sequentialminus": [
            [
             0,
             "#0d0887"
            ],
            [
             0.1111111111111111,
             "#46039f"
            ],
            [
             0.2222222222222222,
             "#7201a8"
            ],
            [
             0.3333333333333333,
             "#9c179e"
            ],
            [
             0.4444444444444444,
             "#bd3786"
            ],
            [
             0.5555555555555556,
             "#d8576b"
            ],
            [
             0.6666666666666666,
             "#ed7953"
            ],
            [
             0.7777777777777778,
             "#fb9f3a"
            ],
            [
             0.8888888888888888,
             "#fdca26"
            ],
            [
             1,
             "#f0f921"
            ]
           ]
          },
          "colorway": [
           "#636efa",
           "#EF553B",
           "#00cc96",
           "#ab63fa",
           "#FFA15A",
           "#19d3f3",
           "#FF6692",
           "#B6E880",
           "#FF97FF",
           "#FECB52"
          ],
          "font": {
           "color": "#2a3f5f"
          },
          "geo": {
           "bgcolor": "white",
           "lakecolor": "white",
           "landcolor": "#E5ECF6",
           "showlakes": true,
           "showland": true,
           "subunitcolor": "white"
          },
          "hoverlabel": {
           "align": "left"
          },
          "hovermode": "closest",
          "mapbox": {
           "style": "light"
          },
          "paper_bgcolor": "white",
          "plot_bgcolor": "#E5ECF6",
          "polar": {
           "angularaxis": {
            "gridcolor": "white",
            "linecolor": "white",
            "ticks": ""
           },
           "bgcolor": "#E5ECF6",
           "radialaxis": {
            "gridcolor": "white",
            "linecolor": "white",
            "ticks": ""
           }
          },
          "scene": {
           "xaxis": {
            "backgroundcolor": "#E5ECF6",
            "gridcolor": "white",
            "gridwidth": 2,
            "linecolor": "white",
            "showbackground": true,
            "ticks": "",
            "zerolinecolor": "white"
           },
           "yaxis": {
            "backgroundcolor": "#E5ECF6",
            "gridcolor": "white",
            "gridwidth": 2,
            "linecolor": "white",
            "showbackground": true,
            "ticks": "",
            "zerolinecolor": "white"
           },
           "zaxis": {
            "backgroundcolor": "#E5ECF6",
            "gridcolor": "white",
            "gridwidth": 2,
            "linecolor": "white",
            "showbackground": true,
            "ticks": "",
            "zerolinecolor": "white"
           }
          },
          "shapedefaults": {
           "line": {
            "color": "#2a3f5f"
           }
          },
          "ternary": {
           "aaxis": {
            "gridcolor": "white",
            "linecolor": "white",
            "ticks": ""
           },
           "baxis": {
            "gridcolor": "white",
            "linecolor": "white",
            "ticks": ""
           },
           "bgcolor": "#E5ECF6",
           "caxis": {
            "gridcolor": "white",
            "linecolor": "white",
            "ticks": ""
           }
          },
          "title": {
           "x": 0.05
          },
          "xaxis": {
           "automargin": true,
           "gridcolor": "white",
           "linecolor": "white",
           "ticks": "",
           "title": {
            "standoff": 15
           },
           "zerolinecolor": "white",
           "zerolinewidth": 2
          },
          "yaxis": {
           "automargin": true,
           "gridcolor": "white",
           "linecolor": "white",
           "ticks": "",
           "title": {
            "standoff": 15
           },
           "zerolinecolor": "white",
           "zerolinewidth": 2
          }
         }
        },
        "title": {
         "text": "ROC Curve"
        },
        "width": 800,
        "xaxis": {
         "range": [
          0,
          1
         ],
         "title": {
          "text": "False Positive Rate (Sensitivty)"
         }
        },
        "yaxis": {
         "range": [
          0,
          1
         ],
         "title": {
          "text": "True Positive Rate (1-Precision)"
         }
        }
       }
      },
      "text/html": "<div>                            <div id=\"281cb08f-17f1-4f61-848d-07030a9cbe0e\" class=\"plotly-graph-div\" style=\"height:800px; width:800px;\"></div>            <script type=\"text/javascript\">                require([\"plotly\"], function(Plotly) {                    window.PLOTLYENV=window.PLOTLYENV || {};                                    if (document.getElementById(\"281cb08f-17f1-4f61-848d-07030a9cbe0e\")) {                    Plotly.newPlot(                        \"281cb08f-17f1-4f61-848d-07030a9cbe0e\",                        [{\"hovertemplate\": \"x=%{x}<br>y=%{y}<extra></extra>\", \"legendgroup\": \"\", \"line\": {\"color\": \"#636efa\", \"dash\": \"solid\"}, \"mode\": \"lines\", \"name\": \"\", \"showlegend\": false, \"type\": \"scattergl\", \"x\": [0.0, 0.0, 4.185676614624754e-05, 4.185676614624754e-05, 8.371353229249508e-05, 0.0001255702984387426, 0.00016742706458499016, 0.0002092838307312377, 0.0002092838307312377, 0.0002511405968774852, 0.0003348541291699803, 0.0003348541291699803, 0.0003767108953162279, 0.000460424427608723, 0.0005022811937549704, 0.0005441379599012181, 0.0006278514921937131, 0.0006697082583399606, 0.0007952785567787033, 0.0008371353229249508, 0.0008789920890711983, 0.000920848855217446, 0.0010464191536561885, 0.0011301326859486835, 0.0012557029843874262, 0.0012975597505336738, 0.0012975597505336738, 0.0013812732828261689, 0.0014231300489724165, 0.0014231300489724165, 0.0015068435812649115, 0.0015905571135574066, 0.0015905571135574066, 0.0016742706458499016, 0.0016742706458499016, 0.0017161274119961492, 0.0017579841781423966, 0.0019672680088736343, 0.0022184086057511197, 0.0026788330333598425, 0.003013687162529823, 0.003306684525553556, 0.0035159683562847933, 0.003641538654723536, 0.003850822485454774, 0.0040182495500397635, 0.004269390146917249, 0.0043531036792097445, 0.004436817211502239, 0.004520530743794734, 0.00460424427608723, 0.004855384872964714, 0.00493909840525721, 0.00493909840525721, 0.004980955171403457, 0.004980955171403457, 0.005022811937549705, 0.005022811937549705, 0.005022811937549705, 0.0051065254698422, 0.0051065254698422, 0.005232095768280942, 0.005357666066719685, 0.005441379599012181, 0.005692520195889666, 0.005985517558913398, 0.006362228454229626, 0.006738939349545854, 0.007492361140178309, 0.00816206939851827, 0.008748064124565736, 0.009668912979783182, 0.010171194173538152, 0.010673475367293123, 0.01121761332719434, 0.012012891883973044, 0.012305889246996778, 0.012640743376166757, 0.0127663136746055, 0.01310116780377548, 0.01326859486836047, 0.013352308400652966, 0.013477878699091709, 0.013687162529822945, 0.013812732828261688, 0.014063873425139173, 0.014315014022016658, 0.014398727554309154, 0.014566154618894144, 0.014691724917332886, 0.014775438449625382, 0.014859151981917878, 0.014984722280356619, 0.015026579046502868, 0.015068435812649114, 0.015110292578795361, 0.015277719643380353, 0.015277719643380353, 0.015403289941819095, 0.015403289941819095, 0.015445146707965342, 0.015445146707965342, 0.015612573772550332, 0.015612573772550332, 0.01565443053869658, 0.015738144070989075, 0.016072998200159054, 0.01632413879703654, 0.016575279393914025, 0.01703570382152275, 0.017244987652253987, 0.017454271482985225, 0.01753798501527772, 0.017621698547570213, 0.017789125612155204, 0.017998409442886443, 0.01804026620903269, 0.01820769327361768, 0.01837512033820267, 0.01841697710434892, 0.018458833870495166, 0.018500690636641413, 0.01854254740278766, 0.01854254740278766, 0.018668117701226405, 0.018835544765811393, 0.019002971830396384, 0.019086685362688878, 0.019128542128835125, 0.019170398894981375, 0.019337825959566363, 0.019505253024151355, 0.019505253024151355, 0.0195471097902976, 0.01958896655644385, 0.019630823322590096, 0.019672680088736343, 0.019714536854882593, 0.019714536854882593, 0.01975639362102884, 0.01975639362102884, 0.019840107153321334, 0.019923820685613828, 0.019923820685613828, 0.01996567745176008, 0.01996567745176008, 0.020007534217906325, 0.020133104516345066, 0.020174961282491313, 0.02025867481478381, 0.02025867481478381, 0.020342388347076305, 0.02038424511322255, 0.0204261018793688, 0.020677242476246284, 0.02076095600853878, 0.021179523670001255, 0.021639948097609978, 0.022016658992926208, 0.022560796952827426, 0.02327236197731363, 0.023732786404922355, 0.024025783767946087, 0.024402494663262317, 0.02482106232472479, 0.02532334351847976, 0.025783767946088484, 0.025993051776819723, 0.0264116194382822, 0.026620903269013434, 0.026997614164329664, 0.02737432505964589, 0.027667322422669626, 0.02787660625340086, 0.02842074421330208, 0.028881168640910802, 0.029132309237788288, 0.029509020133104517, 0.029676447197689505, 0.029885731028420744, 0.030095014859151982, 0.030388012222175714, 0.030471725754468208, 0.030722866351345694, 0.030932150182076932, 0.031057720480515676, 0.031099577246661923, 0.031183290778954417, 0.03126700431124691, 0.03130886107739316, 0.03130886107739316, 0.031392574609685656, 0.031434431375831906, 0.031601858440416894, 0.031601858440416894, 0.03168557197270939, 0.03176928550500188, 0.03202042610187937, 0.03222970993261061, 0.03243899376334185, 0.032606420827926835, 0.03285756142480432, 0.033108702021681806, 0.03323427232012055, 0.03344355615085178, 0.03361098321543678, 0.03365283998158302, 0.03373655351387552, 0.03390398057846051, 0.03415512117533799, 0.034489975304507973, 0.03469925913523921, 0.034824829433677956, 0.0348666861998242, 0.035034113264409195, 0.035034113264409195, 0.035034113264409195, 0.03515968356284793, 0.03515968356284793, 0.035243397095140426, 0.035285253861286676, 0.03536896739357917, 0.03536896739357917, 0.03562010799045666, 0.0356619647566029, 0.0357456782888954, 0.03612238918421163, 0.036708383910259094, 0.03762923276547654, 0.03871750868527898, 0.03968021430664267, 0.0407684902264451, 0.04198233644468628, 0.04311246913063497, 0.04436817211502239, 0.04524716420409359, 0.045875015696287304, 0.046419153656188525, 0.04704700514838223, 0.04780042693901469, 0.0485119919635009, 0.049307270520279604, 0.04985140848018082, 0.05064668703695952, 0.051986103553639446, 0.052697668578125655, 0.05328366330417312, 0.053869658030220584, 0.05424636892553681, 0.05495793395002302, 0.05571135574065548, 0.056088066635971705, 0.05675777489431166, 0.057260056088066634, 0.0578460508141141, 0.058306475241722826, 0.058515759072454064, 0.05905989703235528, 0.05918546733079402, 0.059478464693817755, 0.05989703235528023, 0.05989703235528023, 0.06010631618601147, 0.060190029718303964, 0.060190029718303964, 0.06027374325059646, 0.06031560001674271, 0.060441170315181446, 0.060441170315181446, 0.06060859737976644, 0.06060859737976644, 0.060692310912058935, 0.060734167678205185, 0.06077602444435143, 0.06085973797664392, 0.06085973797664392, 0.06090159474279017, 0.060943451508936416, 0.060943451508936416, 0.06098530827508267, 0.06098530827508267, 0.06102716504122892, 0.06102716504122892, 0.06111087857352141, 0.06111087857352141, 0.061152735339667655, 0.061152735339667655, 0.061194592105813905, 0.061194592105813905, 0.06132016240425265, 0.06132016240425265, 0.06136201917039889, 0.061403875936545144, 0.06148758946883764, 0.06148758946883764, 0.06157130300113013, 0.06161315976727638, 0.061696873299568876, 0.06173873006571512, 0.06173873006571512, 0.061864300364153864, 0.061864300364153864, 0.06228286802561634, 0.06282700598551756, 0.06349671424385751, 0.06416642250219748, 0.06471056046209869, 0.06579883638190114, 0.06651040140638734, 0.0670963961324348, 0.06856138294755347, 0.06910552090745468, 0.06969151563350215, 0.07031936712569586, 0.07094721861788958, 0.0715750701100833, 0.07216106483613076, 0.07257963249759324, 0.07287262986061697, 0.07350048135281068, 0.0739609057804194, 0.07446318697417438, 0.07509103846636808, 0.07546774936168432, 0.07592817378929304, 0.07647231174919426, 0.07697459294294923, 0.07743501737055795, 0.07793729856431292, 0.07823029592733666, 0.07877443388723787, 0.0791511447825541, 0.07948599891172407, 0.07982085304089406, 0.0800301368716253, 0.08023942070235654, 0.08036499100079528, 0.08044870453308778, 0.08069984512996525, 0.08095098572684274, 0.0810765560252815, 0.08111841279142773, 0.08128583985601272, 0.08141141015445147, 0.08149512368674396, 0.08157883721903646, 0.08166255075132896, 0.0817044075174752, 0.0817881210497677, 0.08182997781591395, 0.0818718345820602, 0.08191369134820643, 0.08191369134820643, 0.08199740488049893, 0.08216483194508392, 0.08224854547737642, 0.08237411577581516, 0.08245782930810766, 0.0825833996065464, 0.08262525637269265, 0.08262525637269265, 0.08270896990498514, 0.08270896990498514, 0.08279268343727764, 0.08279268343727764, 0.08279268343727764, 0.08283454020342389, 0.08283454020342389, 0.08291825373571637, 0.08296011050186262, 0.08304382403415513, 0.08312753756644761, 0.08321125109874011, 0.0832949646310326, 0.08333682139717885, 0.08333682139717885, 0.0834623916956176, 0.08350424846176384, 0.08358796199405634, 0.08367167552634884, 0.08371353229249508, 0.08383910259093383, 0.08383910259093383, 0.08392281612322632, 0.0840902431878113, 0.08413209995395755, 0.0841739567201038, 0.08421581348625005, 0.08429952701854254, 0.08438324055083504, 0.08459252438156628, 0.08471809468000502, 0.08471809468000502, 0.08475995144615127, 0.08496923527688251, 0.08505294880917501, 0.08522037587376, 0.08526223263990625, 0.08530408940605248, 0.08534594617219873, 0.08538780293834498, 0.08542965970449123, 0.08559708676907622, 0.08568080030136872, 0.08576451383366121, 0.08584822736595371, 0.08605751119668495, 0.08609936796283119, 0.08639236532585493, 0.08643422209200118, 0.08655979239043991, 0.0867272194550249, 0.0868109329873174, 0.08718764388263363, 0.08731321418107237, 0.08756435477794985, 0.08794106567326608, 0.08798292243941233, 0.08827591980243607, 0.0883177765685823, 0.0886526306977523, 0.08869448746389853, 0.08898748482692227, 0.08915491189150726, 0.0893641957222385, 0.089447909254531, 0.08978276338370098, 0.08990833368213971, 0.08999204721443221, 0.09007576074672471, 0.09028504457745594, 0.09045247164204094, 0.09045247164204094, 0.09070361223891842, 0.09074546900506467, 0.09087103930350342, 0.0910384663680884, 0.09108032313423466, 0.09133146373111213, 0.09137332049725838, 0.09149889079569712, 0.09154074756184337, 0.09162446109413587, 0.09175003139257461, 0.09183374492486711, 0.09187560169101336, 0.0919174584571596, 0.0920011719894521, 0.09221045582018333, 0.09225231258632959, 0.09246159641706082, 0.09254530994935331, 0.09262902348164581, 0.09267088024779206, 0.0927127370139383, 0.0927964505462308, 0.0928801640785233, 0.0928801640785233, 0.09304759114310829, 0.09313130467540078, 0.09313130467540078, 0.09325687497383953, 0.09325687497383953, 0.09329873173998576, 0.09329873173998576, 0.09334058850613201, 0.09334058850613201, 0.09338244527227826, 0.09338244527227826, 0.09342430203842451, 0.09342430203842451, 0.09354987233686325, 0.09363358586915575, 0.093675442635302, 0.09384286969988699, 0.09396843999832573, 0.09417772382905697, 0.0943870076597882, 0.09472186178895818, 0.09501485915198192, 0.09514042945042066, 0.0953497132811519, 0.09564271064417564, 0.09585199447490687, 0.09601942153949186, 0.0961449918379306, 0.0962287053702231, 0.09647984596710059, 0.09656355949939308, 0.09673098656397806, 0.09689841362856305, 0.0970239839270018, 0.09714955422544054, 0.09731698129002553, 0.09744255158846428, 0.09756812188690302, 0.09760997865304927, 0.09769369218534175, 0.09790297601607299, 0.0979866895483655, 0.09802854631451174, 0.09815411661295048, 0.09827968691138923, 0.09840525720982797, 0.09844711397597422, 0.09853082750826671, 0.09861454104055921, 0.0986982545728517, 0.0987819681051442, 0.09882382487129045, 0.09882382487129045, 0.09890753840358293, 0.09899125193587544, 0.09911682223431417, 0.09920053576660667, 0.09936796283119166, 0.1013352308400653, 0.10677661043907748, 0.119208069984513, 0.13888075007324935, 0.1669247833912352, 0.1964338035243397, 0.23130048972416392, 0.26302791846301954, 0.289816248796618, 0.3135908919676866, 0.33644468628353774, 0.35791720731656274, 0.37800845506676156, 0.395504583315893, 0.41308442509731697, 0.4308735507094722, 0.4472814030388012, 0.4669122263613913, 0.4828596542631116, 0.5003976392783893, 0.5184379054874221, 0.5326692059771462, 0.5484910635804278, 0.5633083587961994, 0.5798836381901135, 0.5960822066887113, 0.6133271943409652, 0.630530325227073, 0.6463521828303546, 0.6630530325227073, 0.6776610439077477, 0.6919760579297644, 0.7047842283705161, 0.7170901176175128, 0.7258800385082248, 0.7354652379557155, 0.7453015780000837, 0.7529195094387008, 0.7602025867481479, 0.7666485287346699, 0.7731363274873383, 0.778828847683228, 0.7844376543468252, 0.7881210497676949, 0.7913021639948098, 0.7939391402620234, 0.795738981206312, 0.7983759574735256, 0.7993805198610355, 0.8000083713532292, 0.8008455066761542, 0.8011803608053242, 0.8016826419990791, 0.8020593528943953, 0.8026453476204428, 0.8030639152819053, 0.803356912644929, 0.8036080532418065, 0.8039429073709765, 0.8040684776694152, 0.8043196182662927, 0.8044033317985853, 0.8044870453308778, 0.804528902097024, 0.8046963291616089, 0.8046963291616089, 0.8047381859277553, 0.8047800426939015, 0.804863756226194, 0.8049056129923402, 0.8049474697584864, 0.8050311832907789, 0.8050311832907789, 0.8051148968230715, 0.8051148968230715, 0.8052823238876564, 0.8053241806538027, 0.8053660374199489, 0.8054497509522415, 0.8054916077183877, 0.8057427483152652, 0.8059520321459964, 0.8067054539366288, 0.8070821648319451, 0.8078355866225776, 0.8083797245824788, 0.8092168599054037, 0.8098447113975974, 0.8100958519944749, 0.8105144196559374, 0.8110167008496924, 0.8116026955757398, 0.8122724038340797, 0.8127746850278348, 0.8134443932861747, 0.8138211041814909, 0.8141559583106609, 0.8147838098028546, 0.8154116612950484, 0.8155372315934871, 0.8159976560210959, 0.8163743669164121, 0.8167510778117283, 0.8169185048763132, 0.8171277887070445, 0.8173370725377758, 0.8175882131346532, 0.8177974969653845, 0.8179649240299695, 0.8181742078607007, 0.8183416349252857, 0.8184672052237244, 0.8185090619898706, 0.8186764890544557, 0.8188020593528944, 0.8190531999497719, 0.8191369134820644, 0.8192624837805031, 0.8193043405466494, 0.8195136243773806, 0.8195554811435268, 0.8195554811435268, 0.8195973379096732, 0.8196391946758194, 0.8196810514419656, 0.8198484785065506, 0.819932192038843, 0.819932192038843, 0.8200159055711356, 0.8201414758695743, 0.8202251894018668, 0.8203089029341593, 0.8203507597003056, 0.8204763299987443, 0.820769327361768, 0.8208948976602067, 0.8209786111924993, 0.821104181490938, 0.821104181490938, 0.8213134653216693, 0.8213553220878155, 0.821439035620108, 0.8215227491524005, 0.8216483194508393, 0.8218157465154242, 0.821941316813863, 0.8221087438784479, 0.8222343141768867, 0.8223180277091792, 0.8223598844753255, 0.8224435980076179, 0.8224854547737642, 0.8225273115399104, 0.8225273115399104, 0.8225691683060566, 0.822611025072203, 0.822611025072203, 0.8227365953706417, 0.8227365953706417, 0.8227784521367879, 0.8228203089029341, 0.8228621656690804, 0.8229458792013729, 0.8230295927336654, 0.8231551630321041, 0.8233644468628354, 0.8234063036289816, 0.8234063036289816, 0.8234481603951279, 0.8235737306935667, 0.8236155874597129, 0.8236993009920054, 0.8237411577581516, 0.8239085848227365, 0.8241597254196141, 0.8242434389519065, 0.8242852957180529, 0.8242852957180529, 0.8243690092503453, 0.8243690092503453, 0.8244527227826378, 0.824494579548784, 0.8245364363149303, 0.8245364363149303, 0.8245782930810766, 0.8245782930810766, 0.8246201498472228, 0.8247038633795153, 0.8247038633795153, 0.8247038633795153, 0.8247875769118078, 0.8247875769118078, 0.824829433677954, 0.8248712904441002, 0.8249550039763928, 0.8249968607425391, 0.8251224310409778, 0.8251224310409778, 0.8252061445732702, 0.8252061445732702, 0.8253735716378553, 0.8254154284040015, 0.825499141936294, 0.825499141936294, 0.8255828554685865, 0.8255828554685865, 0.8256247122347328, 0.8256247122347328, 0.825666569000879, 0.8257502825331715, 0.8263781340253652, 0.8274664099451676, 0.83022895651082, 0.8346657737223222, 0.8402745803859194, 0.8467623791385878, 0.8539617429157423, 0.8594031225147545, 0.8641747938554267, 0.8681930434054665, 0.8719182955924826, 0.8758109748440835, 0.8786990917081746, 0.8821732032983132, 0.8861077393160605, 0.888912142647859, 0.8921769704072663, 0.8959440793604286, 0.898706625926081, 0.9020551672177808, 0.9066175547277218, 0.9110125151730777, 0.91511447825541, 0.9189653007408648, 0.9226486961617345, 0.9268762295425056, 0.9310619061571302, 0.9348708718764388, 0.9390146917249174, 0.9425725168473483, 0.9451257795822695, 0.9480138964463606, 0.9511531539073291, 0.9538319869406889, 0.9559248252480014, 0.9583943744506299, 0.9599012180318949, 0.9606964965886735, 0.9619940563392072, 0.9629986187267172, 0.9637520405173496, 0.9644217487756895, 0.965007743501737, 0.9655937382277845, 0.966012305889247, 0.966514587083002, 0.966849441212172, 0.9670587250429031, 0.9675191494705119, 0.9679377171319744, 0.9681470009627057, 0.9682725712611444, 0.9682725712611444, 0.9684399983257294, 0.9685237118580219, 0.9686074253903143, 0.9686911389226068, 0.9687748524548994, 0.9688167092210456, 0.9689422795194843, 0.9690259930517768, 0.9691515633502156, 0.9693189904148005, 0.9695282742455318, 0.9699468419069943, 0.970407266334603, 0.9709514042945042, 0.9713281151898204, 0.9717048260851366, 0.9721233937465992, 0.9721652505127454, 0.9726256749403541, 0.9728349587710854, 0.9728768155372316, 0.9731279561341091, 0.9732535264325478, 0.9735883805617178, 0.973630237327864, 0.9736720940940103, 0.9738395211585953, 0.9740069482231802, 0.9740488049893266, 0.9741743752877653, 0.9743418023523502, 0.9745092294169353, 0.9745092294169353, 0.9746766564815202, 0.9747603700138128, 0.9748440835461052, 0.9749277970783977, 0.9749696538445439, 0.9750115106106902, 0.9750115106106902, 0.975137080909129, 0.9751789376752752, 0.9751789376752752, 0.9753463647398602, 0.9756393621028839, 0.9756812188690301, 0.9758067891674689, 0.9758486459336152, 0.9759323594659076, 0.9759742162320539, 0.9760997865304927, 0.9761835000627852, 0.9762253568289314, 0.9762253568289314, 0.9763090703612239, 0.9763927838935164, 0.9763927838935164, 0.9764764974258089, 0.9764764974258089, 0.9766020677242476, 0.9766857812565402, 0.9767694947888326, 0.9767694947888326, 0.9768113515549789, 0.9769369218534176, 0.97702063538571, 0.97702063538571, 0.9771043489180026, 0.9771462056841489, 0.9771462056841489, 0.9772299192164413, 0.9772299192164413, 0.9773136327487338, 0.9773136327487338, 0.97735548951488, 0.9773973462810264, 0.9774810598133188, 0.9774810598133188, 0.9775229165794651, 0.9776066301117575, 0.9776484868779038, 0.97769034364405, 0.97769034364405, 0.9779414842409275, 0.9779414842409275, 0.978192624837805, 0.9782763383700975, 0.9783181951362437, 0.9784856222008288, 0.9788204763299987, 0.9791134736930225, 0.9798250387175087, 0.9804947469758486, 0.9816667364279436, 0.9825457285170148, 0.9828805826461847, 0.983424720606086, 0.9840525720982797, 0.9846804235904734, 0.9853501318488134, 0.9858105562764221, 0.9862291239378845, 0.9866058348332007, 0.9870244024946633, 0.9875685404545644, 0.9878615378175882, 0.988321962245197, 0.9887405299066594, 0.9890753840358294, 0.9893683813988531, 0.9897032355280231, 0.9899962328910469, 0.9902892302540706, 0.9907077979155331, 0.9912937926415805, 0.9915030764723117, 0.991712360303043, 0.9918379306014817, 0.9920890711983592, 0.9921727847306517, 0.992382068561383, 0.9926332091582605, 0.9926750659244067, 0.9928006362228454, 0.9928424929889916, 0.9929262065212842, 0.9930517768197229, 0.9930517768197229, 0.9932610606504542, 0.9933029174166004, 0.9933447741827467, 0.9935540580134778, 0.9936377715457704, 0.9937633418442091, 0.9938470553765016, 0.9939307689087941, 0.9939307689087941, 0.9940144824410866, 0.9940144824410866, 0.9940563392072328, 0.9940563392072328, 0.9941819095056716, 0.9943493365702566, 0.9944330501025491, 0.9944749068686953, 0.9945586204009879, 0.9946004771671341, 0.9947260474655728, 0.994767904231719, 0.9948516177640115, 0.9949353312963041, 0.9949353312963041, 0.9949771880624503, 0.9949771880624503, 0.9950190448285965, 0.9950190448285965, 0.995102758360889, 0.995102758360889, 0.9951446151270353, 0.9952283286593278, 0.9952701854254741, 0.995437612490059, 0.9956887530869365, 0.9958143233853752, 0.9958561801515214, 0.9958980369176678, 0.9959817504499603, 0.9960236072161065, 0.9960654639822527, 0.9961491775145452, 0.9962328910468378, 0.9963584613452765, 0.9963584613452765, 0.9964840316437152, 0.9965258884098614, 0.9967770290067389, 0.9967770290067389, 0.9968607425390315, 0.996944456071324, 0.9970281696036164, 0.9971537399020551, 0.9972374534343477, 0.9972374534343477, 0.9974048804989326, 0.9974048804989326, 0.9976141643296639, 0.9976141643296639, 0.9976560210958101, 0.9976978778619564, 0.9978234481603951, 0.9979071616926877, 0.9979490184588339, 0.9979908752249801, 0.9980745887572726, 0.9981164455234188, 0.9982001590557114, 0.9983257293541501, 0.9984094428864426, 0.998493156418735, 0.9985350131848814, 0.9986187267171738, 0.9987024402494663, 0.9987024402494663, 0.9987442970156126, 0.9987442970156126, 0.9988698673140514, 0.9988698673140514, 0.9989954376124901, 0.9990372943786363, 0.999162864677075, 0.9992047214432213, 0.9992465782093676, 0.99933029174166, 0.9993721485078063, 0.9994558620400987, 0.999497718806245, 0.9995814323385376, 0.99966514587083, 0.9997070026369763, 0.9997488594031225, 0.9997488594031225, 0.999832572935415, 0.999832572935415, 0.9998744297015613, 0.9999162864677075, 1.0], \"xaxis\": \"x\", \"y\": [0.0, 7.511454968827462e-05, 7.511454968827462e-05, 0.0004506872981296477, 0.0005258018478179223, 0.0005258018478179223, 0.000600916397506197, 0.000600916397506197, 0.0006760309471944716, 0.0008262600465710208, 0.0008262600465710208, 0.0009764891459475701, 0.0009764891459475701, 0.0009764891459475701, 0.0009764891459475701, 0.0010516036956358446, 0.0010516036956358446, 0.0013520618943889432, 0.001577405543453767, 0.001577405543453767, 0.0018027491925185909, 0.0018778637422068654, 0.0019529782918951402, 0.0020280928415834145, 0.0021032073912716893, 0.002403665590024788, 0.002553894689401337, 0.0027041237887778864, 0.0027792383384661608, 0.0028543528881544355, 0.0030045819875309846, 0.003154811086907534, 0.0032299256365958084, 0.0032299256365958084, 0.003305040186284083, 0.003305040186284083, 0.003380154735972358, 0.003530383835348907, 0.0038308420341020056, 0.0042064147825433785, 0.004807331180049576, 0.0055584766769323215, 0.006009163975061969, 0.006234507624126793, 0.006685194922256441, 0.0069105385713212645, 0.007511454968827462, 0.007811913167580561, 0.007887027717268834, 0.007887027717268834, 0.008187485916021933, 0.008187485916021933, 0.008337715015398482, 0.008412829565086757, 0.008638173214151581, 0.008788402313528131, 0.008863516863216405, 0.00893863141290468, 0.009088860512281229, 0.009239089611657779, 0.009314204161346052, 0.009539547810410876, 0.009539547810410876, 0.009539547810410876, 0.0097648914594757, 0.0097648914594757, 0.00991512055885225, 0.010140464207917074, 0.011192067903552918, 0.012393900698565313, 0.013370389844512881, 0.014421993540148727, 0.015173139037031474, 0.01645008638173214, 0.017576804627056263, 0.01870352287238038, 0.019604897468639675, 0.02028092841583415, 0.021032073912716893, 0.021407646661158266, 0.02193344850897619, 0.02230902125741756, 0.022384135807105836, 0.022684594005858934, 0.022834823105235484, 0.022985052204612035, 0.02313528130398858, 0.023510854052429957, 0.023661083151806504, 0.023811312251183055, 0.02388642680087133, 0.024036655900247877, 0.024111770449936152, 0.024111770449936152, 0.024186884999624427, 0.024186884999624427, 0.024337114099000978, 0.024412228648689253, 0.024412228648689253, 0.024487343198377524, 0.0245624577480658, 0.024637572297754075, 0.024637572297754075, 0.02471268684744235, 0.02471268684744235, 0.02471268684744235, 0.025013145046195447, 0.025088259595883722, 0.025313603244948548, 0.025614061443701645, 0.026064748741831293, 0.026290092390896115, 0.026440321490272665, 0.02666566513933749, 0.026891008788402313, 0.02696612333809059, 0.02734169608653196, 0.027567039735596786, 0.02794261248403816, 0.02816795613310298, 0.028243070682791256, 0.028393299782167807, 0.02861864343123263, 0.028693757980920904, 0.028693757980920904, 0.028693757980920904, 0.02914444527905055, 0.02914444527905055, 0.029294674378427102, 0.029294674378427102, 0.029294674378427102, 0.029294674378427102, 0.029369788928115377, 0.029369788928115377, 0.029444903477803652, 0.0295951325771802, 0.029670247126868474, 0.029820476226245025, 0.0298955907759333, 0.0298955907759333, 0.02997070532562157, 0.02997070532562157, 0.030045819875309847, 0.030120934424998122, 0.030120934424998122, 0.030196048974686397, 0.030271163524374672, 0.030271163524374672, 0.030346278074062948, 0.030346278074062948, 0.03042139262375122, 0.03042139262375122, 0.030496507173439494, 0.030496507173439494, 0.030496507173439494, 0.03057162172312777, 0.030947194471569142, 0.031097423570945693, 0.03139788176969879, 0.03214902726658154, 0.03297528731315256, 0.0334259746112822, 0.03365131826034703, 0.034026891008788404, 0.03447757830691805, 0.0349282656050477, 0.03560429655224217, 0.03613009840006009, 0.036355442049124914, 0.036505671148501465, 0.03710658754600766, 0.037782618493202136, 0.03823330579133178, 0.038834222188837975, 0.03920979493727935, 0.039960940434162096, 0.040261398632915196, 0.04086231503042139, 0.041763689626680686, 0.04236460602418689, 0.042589949673251706, 0.04289040787200481, 0.04296552242169308, 0.04334109517013446, 0.043491324269511, 0.043491324269511, 0.04364155336888755, 0.04371666791857583, 0.04401712611732893, 0.0440922406670172, 0.04416735521670548, 0.04416735521670548, 0.044242469766393754, 0.044242469766393754, 0.0443926988657703, 0.04454292796514685, 0.0449936152632765, 0.04529407346202959, 0.04544430256140614, 0.04581987530984752, 0.04597010440922407, 0.046045218958912344, 0.04634567715766544, 0.04649590625704199, 0.046871479005483364, 0.04709682265454818, 0.047397280853301284, 0.04762262450236611, 0.047697739052054385, 0.04799819725080748, 0.04814842635018403, 0.04814842635018403, 0.04814842635018403, 0.04814842635018403, 0.04844888454893713, 0.04874934274769023, 0.048899571847066774, 0.049049800946443324, 0.04927514459550815, 0.0494253736948847, 0.0494253736948847, 0.04957560279426125, 0.049650717343949526, 0.049650717343949526, 0.0497258318936378, 0.049876060993014344, 0.05010140464207917, 0.050476977390520546, 0.051153008337715015, 0.05273041388116878, 0.054157590325246, 0.05550965221963494, 0.05648614136558251, 0.057763088710283184, 0.0594907233531135, 0.060392097949372794, 0.061518816194696915, 0.06242019079095621, 0.06317133628783896, 0.0642229399834748, 0.0657252309772403, 0.06647637647412304, 0.06692706377225269, 0.06767820926913543, 0.06903027116352438, 0.06978141666040712, 0.07068279125666642, 0.07120859310448434, 0.07226019680012018, 0.07271088409824983, 0.07331180049575603, 0.0739878314429505, 0.07481409148952152, 0.07533989333733944, 0.07624126793359874, 0.07699241343048148, 0.07744310072861113, 0.07804401712611733, 0.0784195898745587, 0.07856981897393525, 0.07864493352362352, 0.07887027717268835, 0.07894539172237662, 0.07924584992112972, 0.079320964470818, 0.07939607902050627, 0.07954630811988282, 0.07954630811988282, 0.07984676631863592, 0.07992188086832419, 0.07999699541801247, 0.07999699541801247, 0.08007210996770074, 0.08007210996770074, 0.08007210996770074, 0.08014722451738902, 0.08022233906707729, 0.08022233906707729, 0.08037256816645384, 0.08037256816645384, 0.08052279726583039, 0.08052279726583039, 0.08059791181551866, 0.08059791181551866, 0.08067302636520694, 0.08067302636520694, 0.08089837001427176, 0.08089837001427176, 0.08097348456396004, 0.08097348456396004, 0.0811237136633366, 0.08127394276271314, 0.08134905731240141, 0.08134905731240141, 0.08142417186208968, 0.08149928641177796, 0.08149928641177796, 0.08149928641177796, 0.08149928641177796, 0.08157440096146623, 0.08157440096146623, 0.08164951551115451, 0.08164951551115451, 0.08217531735897243, 0.08240066100803725, 0.08330203560429655, 0.08450386839930894, 0.08502967024712686, 0.08578081574400961, 0.08638173214151582, 0.08713287763839855, 0.08795913768496957, 0.08886051228122888, 0.0893863141290468, 0.0902876887253061, 0.0914144069706302, 0.09239089611657778, 0.0932171561631488, 0.09396830166003155, 0.09494479080597912, 0.09562082175317359, 0.09614662360099151, 0.09644708179974461, 0.09712311274693908, 0.09734845639600391, 0.09764891459475701, 0.09832494554195148, 0.09877563284008112, 0.09930143468789905, 0.09952677833696387, 0.09982723653571697, 0.10005258018478179, 0.10042815293322317, 0.10050326748291144, 0.10072861113197626, 0.10087884023135281, 0.10102906933072936, 0.10125441297979419, 0.10125441297979419, 0.10132952752948246, 0.10140464207917073, 0.10147975662885901, 0.10155487117854728, 0.10162998572823556, 0.10162998572823556, 0.10178021482761211, 0.10185532937730038, 0.10193044392698866, 0.10193044392698866, 0.10200555847667693, 0.10215578757605348, 0.10215578757605348, 0.10223090212574176, 0.10223090212574176, 0.10223090212574176, 0.10230601667543003, 0.1023811312251183, 0.10253136032449485, 0.1026815894238714, 0.10275670397355968, 0.10283181852324795, 0.10283181852324795, 0.10290693307293623, 0.10290693307293623, 0.1029820476226245, 0.10320739127168932, 0.1032825058213776, 0.10343273492075415, 0.10343273492075415, 0.10350784947044242, 0.1035829640201307, 0.1035829640201307, 0.10365807856981897, 0.10380830766919552, 0.10380830766919552, 0.1038834222188838, 0.1038834222188838, 0.1038834222188838, 0.1038834222188838, 0.1038834222188838, 0.10395853676857207, 0.10410876586794862, 0.10418388041763689, 0.10418388041763689, 0.10425899496732517, 0.10440922406670172, 0.10448433861638999, 0.10448433861638999, 0.10455945316607827, 0.10470968226545482, 0.10485991136483137, 0.10501014046420792, 0.10516036956358446, 0.10538571321264929, 0.10546082776233756, 0.10561105686171411, 0.10561105686171411, 0.10576128596109066, 0.10576128596109066, 0.10583640051077894, 0.10583640051077894, 0.10606174415984376, 0.10606174415984376, 0.10606174415984376, 0.10606174415984376, 0.10606174415984376, 0.10613685870953203, 0.10613685870953203, 0.10621197325922031, 0.10636220235859686, 0.10673777510703823, 0.10718846240516788, 0.10726357695485615, 0.1077142642529858, 0.1077142642529858, 0.10793960790205062, 0.1080147224517389, 0.10808983700142717, 0.10854052429955682, 0.10854052429955682, 0.10899121159768647, 0.10914144069706302, 0.10936678434612784, 0.1095170134455044, 0.10996770074363404, 0.10996770074363404, 0.11026815894238715, 0.1104183880417637, 0.11064373169082851, 0.11064373169082851, 0.11086907533989333, 0.11086907533989333, 0.11109441898895817, 0.11131976263802298, 0.11146999173739953, 0.1115451062870878, 0.11169533538646435, 0.11177044993615264, 0.11192067903552919, 0.11192067903552919, 0.112146022684594, 0.11222113723428229, 0.11229625178397055, 0.11237136633365882, 0.11237136633365882, 0.1124464808833471, 0.1124464808833471, 0.11252159543303537, 0.11259670998272366, 0.11259670998272366, 0.11267182453241192, 0.1127469390821002, 0.11289716818147676, 0.11297228273116502, 0.11297228273116502, 0.11297228273116502, 0.11312251183054157, 0.11327274092991813, 0.11327274092991813, 0.11327274092991813, 0.1133478554796064, 0.11342297002929468, 0.11349808457898294, 0.11349808457898294, 0.11357319912867123, 0.11357319912867123, 0.1136483136783595, 0.11372342822804778, 0.11379854277773604, 0.11379854277773604, 0.1139487718771126, 0.1139487718771126, 0.1139487718771126, 0.1139487718771126, 0.1139487718771126, 0.11402388642680088, 0.1142492300758657, 0.11432434462555396, 0.11477503192368362, 0.1148501464733719, 0.11500037557274845, 0.11515060467212498, 0.11545106287087809, 0.11552617742056637, 0.11552617742056637, 0.11567640651994292, 0.11575152106963119, 0.11575152106963119, 0.11582663561931947, 0.11597686471869602, 0.11620220836776084, 0.11650266656651394, 0.11665289566589049, 0.11680312476526704, 0.11680312476526704, 0.11695335386464357, 0.11710358296402013, 0.11717869751370841, 0.11747915571246151, 0.11755427026214978, 0.11792984301059115, 0.11815518665965598, 0.11830541575903253, 0.1183805303087208, 0.11845564485840908, 0.11860587395778563, 0.1186809885074739, 0.1186809885074739, 0.11875610305716217, 0.11875610305716217, 0.11890633215653872, 0.11890633215653872, 0.118981446706227, 0.118981446706227, 0.11905656125591527, 0.11913167580560355, 0.12003305040186284, 0.12191091414406971, 0.1292721400135206, 0.14211672801021558, 0.16292345827386764, 0.19026515436039962, 0.22331555622324045, 0.25876962367610606, 0.2920453691880117, 0.3232179073086457, 0.3519116652895666, 0.3783519867798393, 0.4009614662360099, 0.42064147825433784, 0.4416735521670548, 0.4624802824307068, 0.4829865544956058, 0.5023661083151807, 0.520769172988808, 0.5408247577555773, 0.5570495004882445, 0.5751521069631188, 0.5909261623976564, 0.6068504469315706, 0.6236009915120558, 0.638924359648464, 0.6566513933748968, 0.6722001051603695, 0.687072785998648, 0.7038984451288215, 0.718545782318035, 0.7314654848644182, 0.7431082400661008, 0.7558025989634192, 0.7657177195222714, 0.7741305490873582, 0.7829189514008863, 0.7921580410125442, 0.8005708705776309, 0.8049275144595508, 0.8098099601892886, 0.8133403440246376, 0.8164951551115451, 0.8194997370990761, 0.8217531735897243, 0.8239314955306843, 0.8253586719747615, 0.8269360775182153, 0.8279876812138511, 0.8288139412604222, 0.8294148576579283, 0.830166003154811, 0.830691805002629, 0.8309171486516939, 0.8310673777510704, 0.8311424923007587, 0.8312927214001352, 0.8313678359498234, 0.8314429504995118, 0.8314429504995118, 0.8314429504995118, 0.8315931795988883, 0.8316682941485766, 0.8316682941485766, 0.8317434086982649, 0.8318185232479531, 0.8318936377976414, 0.8318936377976414, 0.8318936377976414, 0.8318936377976414, 0.8319687523473297, 0.8319687523473297, 0.8320438668970179, 0.8320438668970179, 0.8321940959963945, 0.8321940959963945, 0.8322692105460828, 0.8322692105460828, 0.8322692105460828, 0.8322692105460828, 0.8324194396454593, 0.8325696687448358, 0.8327950123939007, 0.8333959287914069, 0.833996845188913, 0.8343724179373545, 0.8346728761361075, 0.8352737925336138, 0.8358747089311199, 0.836700968977691, 0.8370765417261323, 0.8378276872230151, 0.8391046345677158, 0.8394802073161571, 0.8399308946142868, 0.8403064673627282, 0.8408322692105461, 0.8412078419589875, 0.8419589874558702, 0.8425599038533764, 0.8427852475024412, 0.8431608202508826, 0.8434612784496357, 0.8436866220987005, 0.8440621948471418, 0.844362653045895, 0.8445128821452715, 0.8445879966949598, 0.8447382257943363, 0.8447382257943363, 0.8447382257943363, 0.8448884548937129, 0.8450386839930895, 0.8451137985427777, 0.845188913092466, 0.8454893712912191, 0.8454893712912191, 0.8454893712912191, 0.8455644858409074, 0.8456396003905957, 0.8456396003905957, 0.8457147149402839, 0.8457147149402839, 0.8457898294899722, 0.8457898294899722, 0.8458649440396605, 0.8458649440396605, 0.8460151731390371, 0.8460151731390371, 0.8461654022384136, 0.8462405167881019, 0.846540974986855, 0.8467663186359198, 0.8470667768346729, 0.8471418913843611, 0.8471418913843611, 0.8474423495831143, 0.8475174641328025, 0.8477428077818674, 0.8478930368812438, 0.8478930368812438, 0.8478930368812438, 0.8480432659806204, 0.8481183805303087, 0.8482686096296853, 0.8484939532787501, 0.8487944114775032, 0.8487944114775032, 0.8488695260271915, 0.8488695260271915, 0.8489446405768798, 0.849019755126568, 0.849019755126568, 0.8490948696762562, 0.8491699842259446, 0.8491699842259446, 0.8492450987756328, 0.8492450987756328, 0.8493202133253211, 0.8493953278750094, 0.8495455569743859, 0.8499211297228273, 0.8499211297228273, 0.8500713588222039, 0.8500713588222039, 0.8501464733718921, 0.8501464733718921, 0.8502215879215804, 0.8502215879215804, 0.8502967024712687, 0.850371817020957, 0.850371817020957, 0.8504469315706452, 0.8504469315706452, 0.8505220461203336, 0.8505220461203336, 0.8505220461203336, 0.85067227521971, 0.85067227521971, 0.8507473897693983, 0.8507473897693983, 0.8508225043190866, 0.8508225043190866, 0.8508976188687749, 0.8508976188687749, 0.8509727334184631, 0.8510478479681515, 0.8510478479681515, 0.8511229625178397, 0.8512731916172163, 0.8512731916172163, 0.8514234207165928, 0.851498535266281, 0.851498535266281, 0.851498535266281, 0.851498535266281, 0.851498535266281, 0.8515736498159694, 0.8515736498159694, 0.851723878915346, 0.851723878915346, 0.8517989934650342, 0.8517989934650342, 0.8518741080147224, 0.8518741080147224, 0.8520994516637873, 0.8520994516637873, 0.8521745662134755, 0.8521745662134755, 0.8522496807631639, 0.8527003680612935, 0.8534515135581762, 0.8545031172538121, 0.8560054082475775, 0.8581837301885376, 0.8608878539773154, 0.8640426650642229, 0.8690002253436491, 0.873356869225569, 0.8779388567565537, 0.8813941260422143, 0.8846991662284984, 0.8888304664613536, 0.8919852775482611, 0.8946142867873507, 0.8970930669270638, 0.9004732216630361, 0.9031022309021257, 0.9061068128896568, 0.910012769473447, 0.9140689551566138, 0.9172237662435214, 0.9207541500788703, 0.925336137609855, 0.9287162923458274, 0.9354766018177721, 0.9399834747990686, 0.944189889581612, 0.9490723353113498, 0.9515511154510629, 0.9548561556373469, 0.9574851648764365, 0.9598888304664613, 0.9629685270036806, 0.9648463907458875, 0.9662735671899647, 0.9677758581837302, 0.9688274618793661, 0.9695034928265605, 0.9704799819725081, 0.9715315856681439, 0.9725831893637797, 0.9730338766619094, 0.9739352512581687, 0.9743108240066101, 0.974836625854428, 0.9750619695034928, 0.9752873131525577, 0.9755877713513107, 0.9758882295500638, 0.9758882295500638, 0.9761135731991287, 0.976188687748817, 0.976188687748817, 0.9762638022985052, 0.9764140313978817, 0.9764140313978817, 0.9764891459475701, 0.9766393750469466, 0.9767144895966349, 0.9767144895966349, 0.9767144895966349, 0.9767896041463231, 0.9769398332456997, 0.9771651768947646, 0.977315405994141, 0.9776158641928941, 0.9779914369413355, 0.9788928115375949, 0.9791932697363479, 0.979493727935101, 0.9797190715841658, 0.980019529782919, 0.9801697588822955, 0.9803199879816721, 0.9804702170810486, 0.9806204461804251, 0.9807706752798017, 0.98084578982949, 0.9809209043791782, 0.9810711334785548, 0.9812213625779314, 0.9812964771276196, 0.9812964771276196, 0.9812964771276196, 0.9813715916773079, 0.9813715916773079, 0.9813715916773079, 0.9813715916773079, 0.9813715916773079, 0.9814467062269961, 0.9814467062269961, 0.9815969353263727, 0.9815969353263727, 0.9815969353263727, 0.981672049876061, 0.981672049876061, 0.981672049876061, 0.9818973935251258, 0.9819725080748141, 0.9820476226245024, 0.9820476226245024, 0.9822729662735672, 0.9823480808232554, 0.9823480808232554, 0.9824231953729438, 0.982498309922632, 0.9826485390220085, 0.9827236535716969, 0.9827987681213851, 0.9827987681213851, 0.9828738826710733, 0.9828738826710733, 0.9829489972207617, 0.9829489972207617, 0.9830241117704499, 0.9830992263201382, 0.9830992263201382, 0.9830992263201382, 0.9831743408698265, 0.9831743408698265, 0.9831743408698265, 0.9832494554195148, 0.9832494554195148, 0.9833996845188913, 0.9833996845188913, 0.9835499136182678, 0.9836250281679562, 0.9836250281679562, 0.9837001427176444, 0.9837752572673327, 0.9837752572673327, 0.983850371817021, 0.9839254863667092, 0.9839254863667092, 0.9840757154660857, 0.9840757154660857, 0.9841508300157741, 0.9841508300157741, 0.9841508300157741, 0.9841508300157741, 0.9841508300157741, 0.9843010591151506, 0.9843761736648389, 0.9847517464132802, 0.9852024337114099, 0.9855780064598513, 0.9865544956057989, 0.9867798392548637, 0.9873807556523698, 0.9880567865995643, 0.9886577029970706, 0.989333733944265, 0.9897844212423946, 0.9900097648914594, 0.9908360249380305, 0.9910613685870954, 0.9911364831367836, 0.9916622849846015, 0.9918125140839781, 0.992338315931796, 0.9925636595808608, 0.9928641177796139, 0.9929392323293021, 0.993164575978367, 0.993690377826185, 0.993690377826185, 0.9937654923758732, 0.993990836024938, 0.9941410651243145, 0.9942912942236911, 0.9945917524224442, 0.9947419815218208, 0.994817096071509, 0.994817096071509, 0.9948922106211974, 0.9950424397205738, 0.9950424397205738, 0.9950424397205738, 0.9951175542702622, 0.9951926688199504, 0.9952677833696387, 0.995342897919327, 0.995342897919327, 0.995342897919327, 0.995342897919327, 0.995342897919327, 0.995342897919327, 0.9954931270187035, 0.9956433561180801, 0.9956433561180801, 0.9957184706677683, 0.9957184706677683, 0.9959438143168332, 0.9959438143168332, 0.9959438143168332, 0.9959438143168332, 0.9960189288665214, 0.9960940434162098, 0.9960940434162098, 0.9960940434162098, 0.9960940434162098, 0.996169157965898, 0.996169157965898, 0.9962442725155862, 0.9963193870652746, 0.9963945016149628, 0.9963945016149628, 0.9964696161646511, 0.9964696161646511, 0.9965447307143394, 0.9966198452640277, 0.9966949598137159, 0.9966949598137159, 0.9966949598137159, 0.9966949598137159, 0.9968451889130925, 0.9970705325621573, 0.9971456471118456, 0.9972207616615338, 0.9974461053105986, 0.997521219860287, 0.997521219860287, 0.997521219860287, 0.997521219860287, 0.9975963344099752, 0.9976714489596635, 0.9977465635093518, 0.99782167805904, 0.9978967926087283, 0.9979719071584165, 0.9981221362577931, 0.9981972508074815, 0.9981972508074815, 0.9982723653571697, 0.9984225944565462, 0.9984225944565462, 0.9984977090062345, 0.9984977090062345, 0.9985728235559228, 0.9985728235559228, 0.998647938105611, 0.9987230526552994, 0.9987230526552994, 0.9987230526552994, 0.9987981672049876, 0.9987981672049876, 0.9988732817546759, 0.9988732817546759, 0.9988732817546759, 0.9990235108540524, 0.9990235108540524, 0.9990235108540524, 0.9990986254037407, 0.9990986254037407, 0.9992488545031173, 0.9992488545031173, 0.9993239690528055, 0.9993239690528055, 0.9993990836024939, 0.9993990836024939, 0.9995493127018703, 0.9995493127018703, 0.9996244272515586, 0.9996244272515586, 0.9996995418012469, 0.9996995418012469, 0.9996995418012469, 0.9996995418012469, 0.9996995418012469, 0.9996995418012469, 0.9997746563509352, 0.9997746563509352, 0.9998497709006234, 0.9998497709006234, 0.9999248854503118, 0.9999248854503118, 1.0, 1.0], \"yaxis\": \"y\"}, {\"hovertemplate\": \"x=%{x}<br>y=%{y}<extra></extra>\", \"legendgroup\": \"\", \"line\": {\"color\": \"rgba(50,50,50,0.2)\", \"dash\": \"solid\"}, \"mode\": \"lines\", \"name\": \"\", \"orientation\": \"v\", \"showlegend\": false, \"type\": \"scatter\", \"x\": [0, 1], \"xaxis\": \"x\", \"y\": [0, 1], \"yaxis\": \"y\"}],                        {\"autosize\": false, \"height\": 800, \"template\": {\"data\": {\"bar\": [{\"error_x\": {\"color\": \"#2a3f5f\"}, \"error_y\": {\"color\": \"#2a3f5f\"}, \"marker\": {\"line\": {\"color\": \"#E5ECF6\", \"width\": 0.5}}, \"type\": \"bar\"}], \"barpolar\": [{\"marker\": {\"line\": {\"color\": \"#E5ECF6\", \"width\": 0.5}}, \"type\": \"barpolar\"}], \"carpet\": [{\"aaxis\": {\"endlinecolor\": \"#2a3f5f\", \"gridcolor\": \"white\", \"linecolor\": \"white\", \"minorgridcolor\": \"white\", \"startlinecolor\": \"#2a3f5f\"}, \"baxis\": {\"endlinecolor\": \"#2a3f5f\", \"gridcolor\": \"white\", \"linecolor\": \"white\", \"minorgridcolor\": \"white\", \"startlinecolor\": \"#2a3f5f\"}, \"type\": \"carpet\"}], \"choropleth\": [{\"colorbar\": {\"outlinewidth\": 0, \"ticks\": \"\"}, \"type\": \"choropleth\"}], \"contour\": [{\"colorbar\": {\"outlinewidth\": 0, \"ticks\": \"\"}, \"colorscale\": [[0.0, \"#0d0887\"], [0.1111111111111111, \"#46039f\"], [0.2222222222222222, \"#7201a8\"], [0.3333333333333333, \"#9c179e\"], [0.4444444444444444, \"#bd3786\"], [0.5555555555555556, \"#d8576b\"], [0.6666666666666666, \"#ed7953\"], [0.7777777777777778, \"#fb9f3a\"], [0.8888888888888888, \"#fdca26\"], [1.0, \"#f0f921\"]], \"type\": \"contour\"}], \"contourcarpet\": [{\"colorbar\": {\"outlinewidth\": 0, \"ticks\": \"\"}, \"type\": \"contourcarpet\"}], \"heatmap\": [{\"colorbar\": {\"outlinewidth\": 0, \"ticks\": \"\"}, \"colorscale\": [[0.0, \"#0d0887\"], [0.1111111111111111, \"#46039f\"], [0.2222222222222222, \"#7201a8\"], [0.3333333333333333, \"#9c179e\"], [0.4444444444444444, \"#bd3786\"], [0.5555555555555556, \"#d8576b\"], [0.6666666666666666, \"#ed7953\"], [0.7777777777777778, \"#fb9f3a\"], [0.8888888888888888, \"#fdca26\"], [1.0, \"#f0f921\"]], \"type\": \"heatmap\"}], \"heatmapgl\": [{\"colorbar\": {\"outlinewidth\": 0, \"ticks\": \"\"}, \"colorscale\": [[0.0, \"#0d0887\"], [0.1111111111111111, \"#46039f\"], [0.2222222222222222, \"#7201a8\"], [0.3333333333333333, \"#9c179e\"], [0.4444444444444444, \"#bd3786\"], [0.5555555555555556, \"#d8576b\"], [0.6666666666666666, \"#ed7953\"], [0.7777777777777778, \"#fb9f3a\"], [0.8888888888888888, \"#fdca26\"], [1.0, \"#f0f921\"]], \"type\": \"heatmapgl\"}], \"histogram\": [{\"marker\": {\"colorbar\": {\"outlinewidth\": 0, \"ticks\": \"\"}}, \"type\": \"histogram\"}], \"histogram2d\": [{\"colorbar\": {\"outlinewidth\": 0, \"ticks\": \"\"}, \"colorscale\": [[0.0, \"#0d0887\"], [0.1111111111111111, \"#46039f\"], [0.2222222222222222, \"#7201a8\"], [0.3333333333333333, \"#9c179e\"], [0.4444444444444444, \"#bd3786\"], [0.5555555555555556, \"#d8576b\"], [0.6666666666666666, \"#ed7953\"], [0.7777777777777778, \"#fb9f3a\"], [0.8888888888888888, \"#fdca26\"], [1.0, \"#f0f921\"]], \"type\": \"histogram2d\"}], \"histogram2dcontour\": [{\"colorbar\": {\"outlinewidth\": 0, \"ticks\": \"\"}, \"colorscale\": [[0.0, \"#0d0887\"], [0.1111111111111111, \"#46039f\"], [0.2222222222222222, \"#7201a8\"], [0.3333333333333333, \"#9c179e\"], [0.4444444444444444, \"#bd3786\"], [0.5555555555555556, \"#d8576b\"], [0.6666666666666666, \"#ed7953\"], [0.7777777777777778, \"#fb9f3a\"], [0.8888888888888888, \"#fdca26\"], [1.0, \"#f0f921\"]], \"type\": \"histogram2dcontour\"}], \"mesh3d\": [{\"colorbar\": {\"outlinewidth\": 0, \"ticks\": \"\"}, \"type\": \"mesh3d\"}], \"parcoords\": [{\"line\": {\"colorbar\": {\"outlinewidth\": 0, \"ticks\": \"\"}}, \"type\": \"parcoords\"}], \"pie\": [{\"automargin\": true, \"type\": \"pie\"}], \"scatter\": [{\"marker\": {\"colorbar\": {\"outlinewidth\": 0, \"ticks\": \"\"}}, \"type\": \"scatter\"}], \"scatter3d\": [{\"line\": {\"colorbar\": {\"outlinewidth\": 0, \"ticks\": \"\"}}, \"marker\": {\"colorbar\": {\"outlinewidth\": 0, \"ticks\": \"\"}}, \"type\": \"scatter3d\"}], \"scattercarpet\": [{\"marker\": {\"colorbar\": {\"outlinewidth\": 0, \"ticks\": \"\"}}, \"type\": \"scattercarpet\"}], \"scattergeo\": [{\"marker\": {\"colorbar\": {\"outlinewidth\": 0, \"ticks\": \"\"}}, \"type\": \"scattergeo\"}], \"scattergl\": [{\"marker\": {\"colorbar\": {\"outlinewidth\": 0, \"ticks\": \"\"}}, \"type\": \"scattergl\"}], \"scattermapbox\": [{\"marker\": {\"colorbar\": {\"outlinewidth\": 0, \"ticks\": \"\"}}, \"type\": \"scattermapbox\"}], \"scatterpolar\": [{\"marker\": {\"colorbar\": {\"outlinewidth\": 0, \"ticks\": \"\"}}, \"type\": \"scatterpolar\"}], \"scatterpolargl\": [{\"marker\": {\"colorbar\": {\"outlinewidth\": 0, \"ticks\": \"\"}}, \"type\": \"scatterpolargl\"}], \"scatterternary\": [{\"marker\": {\"colorbar\": {\"outlinewidth\": 0, \"ticks\": \"\"}}, \"type\": \"scatterternary\"}], \"surface\": [{\"colorbar\": {\"outlinewidth\": 0, \"ticks\": \"\"}, \"colorscale\": [[0.0, \"#0d0887\"], [0.1111111111111111, \"#46039f\"], [0.2222222222222222, \"#7201a8\"], [0.3333333333333333, \"#9c179e\"], [0.4444444444444444, \"#bd3786\"], [0.5555555555555556, \"#d8576b\"], [0.6666666666666666, \"#ed7953\"], [0.7777777777777778, \"#fb9f3a\"], [0.8888888888888888, \"#fdca26\"], [1.0, \"#f0f921\"]], \"type\": \"surface\"}], \"table\": [{\"cells\": {\"fill\": {\"color\": \"#EBF0F8\"}, \"line\": {\"color\": \"white\"}}, \"header\": {\"fill\": {\"color\": \"#C8D4E3\"}, \"line\": {\"color\": \"white\"}}, \"type\": \"table\"}]}, \"layout\": {\"annotationdefaults\": {\"arrowcolor\": \"#2a3f5f\", \"arrowhead\": 0, \"arrowwidth\": 1}, \"autotypenumbers\": \"strict\", \"coloraxis\": {\"colorbar\": {\"outlinewidth\": 0, \"ticks\": \"\"}}, \"colorscale\": {\"diverging\": [[0, \"#8e0152\"], [0.1, \"#c51b7d\"], [0.2, \"#de77ae\"], [0.3, \"#f1b6da\"], [0.4, \"#fde0ef\"], [0.5, \"#f7f7f7\"], [0.6, \"#e6f5d0\"], [0.7, \"#b8e186\"], [0.8, \"#7fbc41\"], [0.9, \"#4d9221\"], [1, \"#276419\"]], \"sequential\": [[0.0, \"#0d0887\"], [0.1111111111111111, \"#46039f\"], [0.2222222222222222, \"#7201a8\"], [0.3333333333333333, \"#9c179e\"], [0.4444444444444444, \"#bd3786\"], [0.5555555555555556, \"#d8576b\"], [0.6666666666666666, \"#ed7953\"], [0.7777777777777778, \"#fb9f3a\"], [0.8888888888888888, \"#fdca26\"], [1.0, \"#f0f921\"]], \"sequentialminus\": [[0.0, \"#0d0887\"], [0.1111111111111111, \"#46039f\"], [0.2222222222222222, \"#7201a8\"], [0.3333333333333333, \"#9c179e\"], [0.4444444444444444, \"#bd3786\"], [0.5555555555555556, \"#d8576b\"], [0.6666666666666666, \"#ed7953\"], [0.7777777777777778, \"#fb9f3a\"], [0.8888888888888888, \"#fdca26\"], [1.0, \"#f0f921\"]]}, \"colorway\": [\"#636efa\", \"#EF553B\", \"#00cc96\", \"#ab63fa\", \"#FFA15A\", \"#19d3f3\", \"#FF6692\", \"#B6E880\", \"#FF97FF\", \"#FECB52\"], \"font\": {\"color\": \"#2a3f5f\"}, \"geo\": {\"bgcolor\": \"white\", \"lakecolor\": \"white\", \"landcolor\": \"#E5ECF6\", \"showlakes\": true, \"showland\": true, \"subunitcolor\": \"white\"}, \"hoverlabel\": {\"align\": \"left\"}, \"hovermode\": \"closest\", \"mapbox\": {\"style\": \"light\"}, \"paper_bgcolor\": \"white\", \"plot_bgcolor\": \"#E5ECF6\", \"polar\": {\"angularaxis\": {\"gridcolor\": \"white\", \"linecolor\": \"white\", \"ticks\": \"\"}, \"bgcolor\": \"#E5ECF6\", \"radialaxis\": {\"gridcolor\": \"white\", \"linecolor\": \"white\", \"ticks\": \"\"}}, \"scene\": {\"xaxis\": {\"backgroundcolor\": \"#E5ECF6\", \"gridcolor\": \"white\", \"gridwidth\": 2, \"linecolor\": \"white\", \"showbackground\": true, \"ticks\": \"\", \"zerolinecolor\": \"white\"}, \"yaxis\": {\"backgroundcolor\": \"#E5ECF6\", \"gridcolor\": \"white\", \"gridwidth\": 2, \"linecolor\": \"white\", \"showbackground\": true, \"ticks\": \"\", \"zerolinecolor\": \"white\"}, \"zaxis\": {\"backgroundcolor\": \"#E5ECF6\", \"gridcolor\": \"white\", \"gridwidth\": 2, \"linecolor\": \"white\", \"showbackground\": true, \"ticks\": \"\", \"zerolinecolor\": \"white\"}}, \"shapedefaults\": {\"line\": {\"color\": \"#2a3f5f\"}}, \"ternary\": {\"aaxis\": {\"gridcolor\": \"white\", \"linecolor\": \"white\", \"ticks\": \"\"}, \"baxis\": {\"gridcolor\": \"white\", \"linecolor\": \"white\", \"ticks\": \"\"}, \"bgcolor\": \"#E5ECF6\", \"caxis\": {\"gridcolor\": \"white\", \"linecolor\": \"white\", \"ticks\": \"\"}}, \"title\": {\"x\": 0.05}, \"xaxis\": {\"automargin\": true, \"gridcolor\": \"white\", \"linecolor\": \"white\", \"ticks\": \"\", \"title\": {\"standoff\": 15}, \"zerolinecolor\": \"white\", \"zerolinewidth\": 2}, \"yaxis\": {\"automargin\": true, \"gridcolor\": \"white\", \"linecolor\": \"white\", \"ticks\": \"\", \"title\": {\"standoff\": 15}, \"zerolinecolor\": \"white\", \"zerolinewidth\": 2}}}, \"title\": {\"text\": \"ROC Curve\"}, \"width\": 800, \"xaxis\": {\"range\": [0, 1], \"title\": {\"text\": \"False Positive Rate (Sensitivty)\"}}, \"yaxis\": {\"range\": [0, 1], \"title\": {\"text\": \"True Positive Rate (1-Precision)\"}}},                        {\"responsive\": true}                    ).then(function(){\n                            \nvar gd = document.getElementById('281cb08f-17f1-4f61-848d-07030a9cbe0e');\nvar x = new MutationObserver(function (mutations, observer) {{\n        var display = window.getComputedStyle(gd).display;\n        if (!display || display === 'none') {{\n            console.log([gd, 'removed!']);\n            Plotly.purge(gd);\n            observer.disconnect();\n        }}\n}});\n\n// Listen for the removal of the full notebook cells\nvar notebookContainer = gd.closest('#notebook-container');\nif (notebookContainer) {{\n    x.observe(notebookContainer, {childList: true});\n}}\n\n// Listen for the clearing of the current output cell\nvar outputEl = gd.closest('.output');\nif (outputEl) {{\n    x.observe(outputEl, {childList: true});\n}}\n\n                        })                };                });            </script>        </div>"
     },
     "metadata": {}
    },
    {
     "output_type": "stream",
     "name": "stdout",
     "text": [
      "AUC ROC score: 0.521\n"
     ]
    }
   ],
   "source": [
    "fig, auc = classification_tools.calc_roc(models[model], X_train, y_train)\n",
    "fig.show()\n",
    "print(\"AUC ROC score: {:.3f}\".format(auc))"
   ]
  },
  {
   "source": [
    "#### Validate"
   ],
   "cell_type": "markdown",
   "metadata": {}
  },
  {
   "cell_type": "code",
   "execution_count": 419,
   "metadata": {},
   "outputs": [
    {
     "output_type": "display_data",
     "data": {
      "application/vnd.plotly.v1+json": {
       "config": {
        "plotlyServerURL": "https://plot.ly"
       },
       "data": [
        {
         "hovertemplate": "x=%{x}<br>y=%{y}<extra></extra>",
         "legendgroup": "",
         "line": {
          "color": "#636efa",
          "dash": "solid"
         },
         "mode": "lines",
         "name": "",
         "orientation": "v",
         "showlegend": false,
         "type": "scatter",
         "x": [
          0,
          0,
          0.00008312551953449709,
          0.00008312551953449709,
          0.00016625103906899418,
          0.00016625103906899418,
          0.00033250207813798836,
          0.00033250207813798836,
          0.0006650041562759767,
          0.0008312551953449709,
          0.0010806317539484621,
          0.0011637572734829592,
          0.0014131338320864505,
          0.0014131338320864505,
          0.0014962593516209476,
          0.0016625103906899418,
          0.001745635910224439,
          0.001745635910224439,
          0.001828761429758936,
          0.001828761429758936,
          0.0019118869492934332,
          0.00199501246882793,
          0.00199501246882793,
          0.0020781379883624274,
          0.0020781379883624274,
          0.0021612635078969242,
          0.0021612635078969242,
          0.0023275145469659184,
          0.00257689110556941,
          0.0032418952618453864,
          0.003906899418121363,
          0.00457190357439734,
          0.004904405652535328,
          0.00515378221113882,
          0.005486284289276808,
          0.005652535328345802,
          0.0059850374064837905,
          0.006317539484621779,
          0.006400665004156276,
          0.006483790523690773,
          0.006650041562759767,
          0.006816292601828761,
          0.006899418121363259,
          0.006899418121363259,
          0.006982543640897756,
          0.007065669160432253,
          0.0071487946799667496,
          0.0071487946799667496,
          0.007315045719035744,
          0.007315045719035744,
          0.007813798836242726,
          0.008395677472984206,
          0.008977556109725686,
          0.00939318370739817,
          0.010640066500415627,
          0.011221945137157107,
          0.011803823773898587,
          0.012635078969243558,
          0.013549459684123025,
          0.014048212801330008,
          0.014463840399002495,
          0.014962593516209476,
          0.01512884455527847,
          0.015211970074812968,
          0.01571072319201995,
          0.015876974231088945,
          0.01596009975062344,
          0.016209476309226933,
          0.01654197838736492,
          0.01662510390689942,
          0.016957605985037406,
          0.0171238570241064,
          0.0172069825436409,
          0.017456359102244388,
          0.017456359102244388,
          0.017539484621778886,
          0.01762261014131338,
          0.01762261014131338,
          0.01770573566084788,
          0.01770573566084788,
          0.01778886118038238,
          0.01778886118038238,
          0.017871986699916874,
          0.018038237738985868,
          0.018038237738985868,
          0.018038237738985868,
          0.018121363258520366,
          0.01837073981712386,
          0.018703241895261846,
          0.018952618453865335,
          0.019617622610141314,
          0.019783873649210307,
          0.019866999168744806,
          0.0199501246882793,
          0.020199501246882794,
          0.02028262676641729,
          0.020365752285951787,
          0.02053200332502078,
          0.020781379883624274,
          0.02086450540315877,
          0.020947630922693267,
          0.020947630922693267,
          0.02111388196176226,
          0.02119700748129676,
          0.021280133000831255,
          0.021363258520365754,
          0.02144638403990025,
          0.021612635078969242,
          0.02169576059850374,
          0.02169576059850374,
          0.021862011637572735,
          0.021862011637572735,
          0.022111388196176227,
          0.022111388196176227,
          0.022194513715710722,
          0.022360764754779716,
          0.022360764754779716,
          0.022443890274314215,
          0.02252701579384871,
          0.02252701579384871,
          0.022776392352452202,
          0.022776392352452202,
          0.0228595178719867,
          0.02310889443059019,
          0.02369077306733167,
          0.024189526184538655,
          0.024605153782211137,
          0.02543640897755611,
          0.02593516209476309,
          0.026184538653366583,
          0.026683291770573565,
          0.026766417290108063,
          0.02709891936824605,
          0.027514546965918537,
          0.028096425602660017,
          0.028678304239401497,
          0.029093931837073983,
          0.02942643391521197,
          0.029925187032418952,
          0.030756442227763924,
          0.0313383208645054,
          0.03175394846217789,
          0.03233582709891937,
          0.03266832917705736,
          0.03291770573566085,
          0.03316708229426434,
          0.03349958437240233,
          0.03366583541147132,
          0.03391521197007481,
          0.03449709060681629,
          0.03466334164588529,
          0.034746467165419785,
          0.034746467165419785,
          0.03482959268495428,
          0.03499584372402328,
          0.03499584372402328,
          0.03507896924355777,
          0.035328345802161265,
          0.035328345802161265,
          0.035494596841230255,
          0.03557772236076476,
          0.03574397339983375,
          0.03582709891936824,
          0.036076475477971735,
          0.03690773067331671,
          0.037073981712385705,
          0.0371571072319202,
          0.03732335827098919,
          0.03740648379052369,
          0.03757273482959268,
          0.03807148794679967,
          0.038237738985868665,
          0.03832086450540316,
          0.03832086450540316,
          0.03832086450540316,
          0.03832086450540316,
          0.038403990024937655,
          0.03857024106400665,
          0.03857024106400665,
          0.03873649210307564,
          0.03873649210307564,
          0.038819617622610145,
          0.038819617622610145,
          0.03890274314214464,
          0.03890274314214464,
          0.03915211970074813,
          0.03915211970074813,
          0.03948462177888612,
          0.0400665004156276,
          0.04039900249376559,
          0.04181213632585204,
          0.04347464671654198,
          0.0458021612635079,
          0.047298420615128844,
          0.04821280133000831,
          0.04945968412302577,
          0.05087281795511222,
          0.0514546965918537,
          0.051953449709060684,
          0.05261845386533666,
          0.05320033250207814,
          0.0541978387364921,
          0.05486284289276808,
          0.055278470490440566,
          0.05610972568578554,
          0.056608478802992516,
          0.0572734829592685,
          0.057772236076475476,
          0.058354114713216956,
          0.058769742310889446,
          0.059268495428096424,
          0.059850374064837904,
          0.06059850374064838,
          0.06151288445552785,
          0.06251039068994181,
          0.06334164588528678,
          0.06408977556109725,
          0.06458852867830424,
          0.06500415627597672,
          0.0656691604322527,
          0.06600166251039069,
          0.06658354114713216,
          0.06666666666666667,
          0.06683291770573566,
          0.06708229426433915,
          0.06733167082294264,
          0.06766417290108064,
          0.06783042394014963,
          0.06791354945968413,
          0.06799667497921862,
          0.06816292601828762,
          0.06824605153782211,
          0.06824605153782211,
          0.06832917705735661,
          0.06832917705735661,
          0.06841230257689111,
          0.0685785536159601,
          0.06866167913549459,
          0.0688279301745636,
          0.06899418121363259,
          0.06907730673316709,
          0.06916043225270158,
          0.06916043225270158,
          0.06949293433083957,
          0.06949293433083957,
          0.06957605985037406,
          0.06957605985037406,
          0.06982543640897755,
          0.06990856192851205,
          0.06990856192851205,
          0.07007481296758104,
          0.07015793848711555,
          0.07065669160432253,
          0.07090606816292602,
          0.07173732335827099,
          0.07256857855361595,
          0.07339983374896093,
          0.07406483790523691,
          0.07481296758104738,
          0.07531172069825437,
          0.07614297589359934,
          0.07655860349127182,
          0.07722360764754779,
          0.07797173732335827,
          0.07847049044056525,
          0.07888611803823774,
          0.07955112219451371,
          0.08021612635078969,
          0.08038237738985869,
          0.08071487946799667,
          0.08162926018287614,
          0.08204488778054862,
          0.08229426433915212,
          0.0831255195344971,
          0.08362427265170408,
          0.08437240232751454,
          0.08470490440565254,
          0.08495428096425603,
          0.08503740648379052,
          0.0857024106400665,
          0.08628428927680798,
          0.08645054031587697,
          0.08669991687448046,
          0.08711554447215294,
          0.08736492103075644,
          0.08769742310889443,
          0.08794679966749792,
          0.08811305070656691,
          0.08819617622610142,
          0.0882793017456359,
          0.0883624272651704,
          0.0883624272651704,
          0.08844555278470491,
          0.0886118038237739,
          0.0886949293433084,
          0.0886949293433084,
          0.08886118038237739,
          0.08886118038237739,
          0.0889443059019119,
          0.08919368246051537,
          0.08927680798004987,
          0.08927680798004987,
          0.08927680798004987,
          0.08944305901911886,
          0.08952618453865337,
          0.08960931005818787,
          0.08960931005818787,
          0.08977556109725686,
          0.08985868661679136,
          0.08985868661679136,
          0.08994181213632585,
          0.09010806317539484,
          0.09010806317539484,
          0.09010806317539484,
          0.09019118869492934,
          0.09035743973399833,
          0.09044056525353283,
          0.09093931837073982,
          0.09093931837073982,
          0.09118869492934331,
          0.09118869492934331,
          0.0913549459684123,
          0.0914380714879468,
          0.0916043225270158,
          0.09185369908561929,
          0.09201995012468828,
          0.09210307564422278,
          0.09226932668329177,
          0.09243557772236076,
          0.09268495428096425,
          0.09268495428096425,
          0.09276807980049875,
          0.09276807980049875,
          0.09285120532003326,
          0.09285120532003326,
          0.09301745635910225,
          0.09301745635910225,
          0.09318370739817124,
          0.09351620947630923,
          0.09359933499584372,
          0.09376558603491272,
          0.09393183707398171,
          0.0944305901911887,
          0.09451371571072319,
          0.09484621778886118,
          0.09484621778886118,
          0.09534497090606817,
          0.09551122194513716,
          0.09559434746467166,
          0.09584372402327515,
          0.09592684954280964,
          0.09625935162094763,
          0.09625935162094763,
          0.09642560266001662,
          0.09642560266001662,
          0.09650872817955113,
          0.09667497921862012,
          0.09667497921862012,
          0.09675810473815462,
          0.09692435577722361,
          0.0970906068162926,
          0.0974231088944306,
          0.09750623441396508,
          0.09758935993349958,
          0.09783873649210308,
          0.09800498753117207,
          0.09825436408977556,
          0.09833748960931006,
          0.09850374064837905,
          0.09866999168744804,
          0.09883624272651705,
          0.09891936824605153,
          0.09891936824605153,
          0.09908561928512054,
          0.09908561928512054,
          0.09916874480465503,
          0.09916874480465503,
          0.09925187032418953,
          0.09925187032418953,
          0.09933499584372402,
          0.09933499584372402,
          0.09958437240232751,
          0.09975062344139651,
          0.09975062344139651,
          0.1000831255195345,
          0.1002493765586035,
          0.10033250207813799,
          0.10083125519534497,
          0.10182876142975894,
          0.10199501246882793,
          0.10216126350789692,
          0.10241064006650041,
          0.10249376558603492,
          0.1025768911055694,
          0.1029093931837074,
          0.1029093931837074,
          0.1029925187032419,
          0.10315876974231089,
          0.10349127182044887,
          0.10357439733998337,
          0.10374064837905236,
          0.10382377389858687,
          0.10399002493765586,
          0.10407315045719036,
          0.10432252701579385,
          0.10465502909393183,
          0.10507065669160433,
          0.10540315876974231,
          0.10548628428927681,
          0.10548628428927681,
          0.10581878636741479,
          0.1059850374064838,
          0.1059850374064838,
          0.10606816292601828,
          0.10615128844555279,
          0.10615128844555279,
          0.10623441396508729,
          0.10640066500415628,
          0.1084788029925187,
          0.11487946799667498,
          0.12759767248545303,
          0.15087281795511223,
          0.1798004987531172,
          0.20748129675810473,
          0.24239401496259352,
          0.27206982543640895,
          0.2975893599334996,
          0.3210307564422278,
          0.343474646716542,
          0.36300914380714877,
          0.3827930174563591,
          0.399833748960931,
          0.4168744804655029,
          0.4344970906068163,
          0.4542809642560266,
          0.46990856192851205,
          0.48877805486284287,
          0.5049875311720698,
          0.5209476309226932,
          0.5379883624272652,
          0.5522859517871986,
          0.5657522859517872,
          0.5819617622610141,
          0.5968412302576891,
          0.6136325852036575,
          0.6302576891105569,
          0.6489609310058188,
          0.6659185369908562,
          0.6807148794679967,
          0.6953449709060682,
          0.7081463009143807,
          0.7196176226101413,
          0.729260182876143,
          0.7390689941812136,
          0.7499584372402327,
          0.7598503740648379,
          0.7671654197838736,
          0.7734829592684954,
          0.7799667497921862,
          0.785785536159601,
          0.7914380714879468,
          0.7947630922693267,
          0.7980881130507066,
          0.800665004156276,
          0.8024106400665004,
          0.8035743973399834,
          0.8050706566916043,
          0.8062344139650873,
          0.8075644222776392,
          0.8080631753948462,
          0.8083956774729842,
          0.8091438071487946,
          0.8093931837073982,
          0.8096425602660017,
          0.8098088113050707,
          0.8101413133832086,
          0.8102244389027431,
          0.8105569409808812,
          0.8105569409808812,
          0.8107231920199501,
          0.8108063175394846,
          0.8108894430590191,
          0.8108894430590191,
          0.8109725685785536,
          0.8111388196176226,
          0.8112219451371571,
          0.8113881961762262,
          0.8115544472152951,
          0.8120532003325021,
          0.8125519534497091,
          0.8133000831255195,
          0.813881961762261,
          0.814879467996675,
          0.8153782211138819,
          0.815544472152951,
          0.8157938487115545,
          0.8161263507896924,
          0.816541978387365,
          0.8172069825436409,
          0.8177057356608479,
          0.8180382377389859,
          0.8187032418952619,
          0.8191188694929343,
          0.8200332502078138,
          0.8201995012468828,
          0.8206151288445552,
          0.8208645054031588,
          0.8211970074812968,
          0.8214463840399002,
          0.8215295095594347,
          0.8217788861180383,
          0.8221113881961762,
          0.8222776392352452,
          0.8223607647547797,
          0.8224438902743142,
          0.8226932668329177,
          0.8226932668329177,
          0.8227763923524523,
          0.8229426433915212,
          0.8230257689110557,
          0.8231920199501247,
          0.8233582709891937,
          0.8236076475477971,
          0.8236076475477971,
          0.8237738985868661,
          0.8239401496259352,
          0.8244389027431421,
          0.8245220282626766,
          0.8247714048212801,
          0.8248545303408147,
          0.8249376558603492,
          0.8249376558603492,
          0.8250207813798837,
          0.8251039068994181,
          0.8251870324189526,
          0.8252701579384871,
          0.825768911055694,
          0.8261014131338321,
          0.8261845386533666,
          0.8263507896924356,
          0.8263507896924356,
          0.8264339152119701,
          0.8264339152119701,
          0.8266832917705735,
          0.826766417290108,
          0.8269326683291771,
          0.8270989193682461,
          0.8270989193682461,
          0.8275145469659185,
          0.8276807980049875,
          0.827763923524522,
          0.827930174563591,
          0.8280133000831256,
          0.8281795511221945,
          0.828428927680798,
          0.8285120532003325,
          0.8285120532003325,
          0.8288445552784705,
          0.8288445552784705,
          0.829260182876143,
          0.829260182876143,
          0.8295095594347465,
          0.8295095594347465,
          0.829592684954281,
          0.829592684954281,
          0.8297589359933499,
          0.8299251870324189,
          0.8299251870324189,
          0.8300083125519534,
          0.8300083125519534,
          0.8307564422277639,
          0.8321695760598504,
          0.8347464671654198,
          0.8384039900249377,
          0.843640897755611,
          0.8496259351620947,
          0.856026600166251,
          0.8606816292601829,
          0.8661679135494597,
          0.8694929343308395,
          0.873898586866168,
          0.8766417290108063,
          0.8793017456359102,
          0.8820448877805487,
          0.884954280964256,
          0.8879467996674979,
          0.8911886949293433,
          0.8946799667497922,
          0.8981712385702411,
          0.9009143807148795,
          0.9049044056525354,
          0.9088944305901911,
          0.9137988362427265,
          0.9188694929343308,
          0.9236076475477972,
          0.92809642560266,
          0.9315045719035744,
          0.9365752285951787,
          0.9399833748960931,
          0.943640897755611,
          0.9467165419783874,
          0.9493765586034912,
          0.9528678304239402,
          0.9548628428927681,
          0.958187863674148,
          0.9596009975062344,
          0.9616791354945968,
          0.9630922693266832,
          0.9642560266001663,
          0.9655029093931837,
          0.9664172901080632,
          0.9670822942643391,
          0.9677472984206151,
          0.9681629260182876,
          0.9685785536159601,
          0.9689110556940981,
          0.969243557772236,
          0.9694929343308396,
          0.969908561928512,
          0.970074812967581,
          0.970074812967581,
          0.97024106400665,
          0.9703241895261845,
          0.9704904405652536,
          0.9705735660847881,
          0.970739817123857,
          0.970739817123857,
          0.970906068162926,
          0.971072319201995,
          0.9711554447215295,
          0.971238570241064,
          0.971571072319202,
          0.9718204488778055,
          0.9719866999168745,
          0.9724023275145469,
          0.9728179551122195,
          0.9732335827098919,
          0.9738154613466334,
          0.9741479634247714,
          0.9745635910224439,
          0.9747298420615129,
          0.9751454696591854,
          0.9751454696591854,
          0.9753117206982543,
          0.9753948462177888,
          0.9755610972568578,
          0.9756442227763924,
          0.9758104738154614,
          0.9760598503740648,
          0.9762261014131338,
          0.9763092269326683,
          0.9764754779717373,
          0.9766417290108064,
          0.9766417290108064,
          0.9768911055694098,
          0.9769742310889443,
          0.9771404821280133,
          0.9775561097256857,
          0.9775561097256857,
          0.9776392352452202,
          0.9778054862842893,
          0.9779717373233583,
          0.9780548628428928,
          0.9783042394014962,
          0.9786367414796342,
          0.9788861180382378,
          0.9788861180382378,
          0.9789692435577723,
          0.9791354945968412,
          0.9793017456359102,
          0.9794679966749792,
          0.9796342477140482,
          0.9797173732335827,
          0.9798004987531173,
          0.9799667497921862,
          0.9800498753117207,
          0.9802161263507897,
          0.9802992518703242,
          0.9802992518703242,
          0.9804655029093932,
          0.9804655029093932,
          0.9805486284289276,
          0.9805486284289276,
          0.9806317539484621,
          0.9807148794679966,
          0.9807148794679966,
          0.9808811305070657,
          0.9809642560266002,
          0.9811305070656692,
          0.9813798836242726,
          0.9813798836242726,
          0.9816292601828761,
          0.9817955112219451,
          0.9821280133000831,
          0.9822942643391521,
          0.9830423940149626,
          0.9839567747298421,
          0.984621778886118,
          0.985785536159601,
          0.986450540315877,
          0.9868661679135494,
          0.9868661679135494,
          0.9876142975893599,
          0.9882793017456359,
          0.9887780548628429,
          0.9890274314214463,
          0.9891105569409809,
          0.9891936824605154,
          0.9896093100581879,
          0.9905236907730673,
          0.9910224438902743,
          0.9912718204488778,
          0.9916874480465503,
          0.9919368246051538,
          0.9923524522028263,
          0.9925187032418953,
          0.9928512053200332,
          0.9929343308395677,
          0.9931837073981712,
          0.9932668329177058,
          0.9932668329177058,
          0.9934330839567748,
          0.9934330839567748,
          0.9935162094763093,
          0.9937655860349127,
          0.9939318370739817,
          0.9940980881130507,
          0.9942643391521196,
          0.9944305901911887,
          0.9946799667497922,
          0.9946799667497922,
          0.9946799667497922,
          0.9947630922693267,
          0.9948462177888612,
          0.9948462177888612,
          0.9948462177888612,
          0.9948462177888612,
          0.9950955943474646,
          0.9950955943474646,
          0.9952618453865336,
          0.9954280964256027,
          0.9955112219451372,
          0.9956774729842062,
          0.9958437240232751,
          0.9958437240232751,
          0.9959268495428096,
          0.9960099750623441,
          0.9962593516209476,
          0.9963424771404821,
          0.9965087281795512,
          0.9966749792186201,
          0.9966749792186201,
          0.9967581047381546,
          0.9970906068162926,
          0.9972568578553616,
          0.997339983374896,
          0.9974231088944306,
          0.9975893599334996,
          0.9975893599334996,
          0.9977556109725686,
          0.9977556109725686,
          0.9978387364921031,
          0.9979218620116376,
          0.9980881130507065,
          0.9982543640897755,
          0.9984206151288445,
          0.9984206151288445,
          0.9985037406483791,
          0.9986699916874481,
          0.9987531172069826,
          0.9989193682460515,
          0.9989193682460515,
          0.9989193682460515,
          0.9989193682460515,
          0.999002493765586,
          0.999002493765586,
          0.9990856192851205,
          0.999168744804655,
          0.999168744804655,
          0.999334995843724,
          0.999334995843724,
          0.9995843724023276,
          0.9995843724023276,
          0.999667497921862,
          0.999667497921862,
          0.9997506234413965,
          1
         ],
         "xaxis": "x",
         "y": [
          0,
          0.00015213753232922562,
          0.00015213753232922562,
          0.00030427506465845124,
          0.00030427506465845124,
          0.00045641259698767686,
          0.00045641259698767686,
          0.0006085501293169025,
          0.0006085501293169025,
          0.0006085501293169025,
          0.0006085501293169025,
          0.0007606876616461281,
          0.0007606876616461281,
          0.0009128251939753537,
          0.0010649627263045794,
          0.0010649627263045794,
          0.001217100258633805,
          0.0015213753232922562,
          0.0015213753232922562,
          0.0018256503879507074,
          0.001977787920279933,
          0.001977787920279933,
          0.002129925452609159,
          0.002129925452609159,
          0.0022820629849383844,
          0.0022820629849383844,
          0.00243420051726761,
          0.00243420051726761,
          0.0025863380495968354,
          0.0027384755819260614,
          0.0030427506465845124,
          0.003194888178913738,
          0.003651300775901415,
          0.003955575840559866,
          0.003955575840559866,
          0.004564125969876769,
          0.00486840103453522,
          0.00486840103453522,
          0.005172676099193671,
          0.005172676099193671,
          0.005476951163852123,
          0.005476951163852123,
          0.005629088696181348,
          0.006085501293169025,
          0.006237638825498251,
          0.006237638825498251,
          0.006389776357827476,
          0.006694051422485928,
          0.006998326487144379,
          0.007150464019473604,
          0.007150464019473604,
          0.007759014148790507,
          0.008063289213448958,
          0.008976114407424312,
          0.009432527004411988,
          0.010345352198387342,
          0.010953902327704245,
          0.012627415183325726,
          0.013388102844971855,
          0.013996652974288757,
          0.014909478168264111,
          0.015365890765251787,
          0.016582991023885593,
          0.01734367868553172,
          0.018256503879507075,
          0.018256503879507075,
          0.0184086414118363,
          0.018865054008823975,
          0.0190171915411532,
          0.01977787920279933,
          0.02023429179978701,
          0.020538566864445457,
          0.02084284192910391,
          0.02114711699376236,
          0.021299254526091587,
          0.021299254526091587,
          0.02160352959075004,
          0.02190780465540849,
          0.022059942187737713,
          0.022364217252396165,
          0.022364217252396165,
          0.02251635478472539,
          0.02251635478472539,
          0.02251635478472539,
          0.022820629849383843,
          0.02297276738171307,
          0.02297276738171307,
          0.02297276738171307,
          0.02297276738171307,
          0.02297276738171307,
          0.02327704244637152,
          0.023429179978700747,
          0.023429179978700747,
          0.023733455043359195,
          0.02388559257568842,
          0.024037730108017647,
          0.024037730108017647,
          0.024189867640346873,
          0.0243420051726761,
          0.024798417769663777,
          0.024798417769663777,
          0.024950555301993003,
          0.02525483036665145,
          0.02525483036665145,
          0.025406967898980677,
          0.02571124296363913,
          0.025863380495968355,
          0.025863380495968355,
          0.025863380495968355,
          0.02601551802829758,
          0.02601551802829758,
          0.026167655560626807,
          0.026167655560626807,
          0.026319793092956033,
          0.02647193062528526,
          0.02647193062528526,
          0.02677620568994371,
          0.026928343222272933,
          0.026928343222272933,
          0.02708048075460216,
          0.02708048075460216,
          0.027232618286931385,
          0.027232618286931385,
          0.02738475581926061,
          0.02814544348090674,
          0.028449718545565193,
          0.028906131142552867,
          0.029058268674882093,
          0.02951468127186977,
          0.02997109386885745,
          0.030123231401186674,
          0.030427506465845123,
          0.031036056595162027,
          0.0314924691921497,
          0.03194888178913738,
          0.032861706983112735,
          0.033165982047771186,
          0.033926669709417316,
          0.033926669709417316,
          0.034839494903392665,
          0.035904457629697246,
          0.03605659516202647,
          0.03651300775901415,
          0.037121557888331054,
          0.037425832952989506,
          0.03788224554997718,
          0.038338658146964855,
          0.038642933211623307,
          0.03894720827628176,
          0.039099345808610984,
          0.039403620873269436,
          0.03970789593792789,
          0.039860033470257114,
          0.039860033470257114,
          0.039860033470257114,
          0.040164308534915566,
          0.04031644606724479,
          0.04031644606724479,
          0.04077285866423246,
          0.04092499619656169,
          0.041077133728890915,
          0.04153354632587859,
          0.041837821390537044,
          0.042142096455195496,
          0.042142096455195496,
          0.042598509052183174,
          0.042902784116841626,
          0.042902784116841626,
          0.04320705918150008,
          0.04320705918150008,
          0.04381560931081698,
          0.04411988437547543,
          0.04442415944013388,
          0.04472843450479233,
          0.044880572037121556,
          0.04518484710178001,
          0.04548912216643846,
          0.045641259698767686,
          0.04579339723109691,
          0.04579339723109691,
          0.04594553476342614,
          0.04594553476342614,
          0.046097672295755364,
          0.046097672295755364,
          0.04624980982808459,
          0.04624980982808459,
          0.046401947360413816,
          0.04655408489274304,
          0.046858359957401494,
          0.047162635022059946,
          0.047619047619047616,
          0.048836147877681424,
          0.05035752320097368,
          0.051118210862619806,
          0.05294386125057052,
          0.05476951163852122,
          0.05674729955880116,
          0.057812262285105734,
          0.05902936254373954,
          0.05979005020538567,
          0.06070287539936102,
          0.06100715046401947,
          0.061615700593336376,
          0.06191997565799483,
          0.06268066331964095,
          0.06313707591662863,
          0.06328921344895785,
          0.0635934885136163,
          0.06420203864293321,
          0.06435417617526244,
          0.06526700136923778,
          0.06587555149855469,
          0.06663623916020082,
          0.06724478928951773,
          0.06785333941883463,
          0.06815761448349308,
          0.06846188954815152,
          0.0689183021451392,
          0.06967898980678533,
          0.07059181500076069,
          0.07089609006541914,
          0.07120036513007759,
          0.07165677772706527,
          0.07180891525939449,
          0.0724174653887114,
          0.07256960292104062,
          0.07256960292104062,
          0.07256960292104062,
          0.07287387798569907,
          0.0730260155180283,
          0.07317815305035752,
          0.07317815305035752,
          0.07348242811501597,
          0.07348242811501597,
          0.07393884071200366,
          0.07393884071200366,
          0.07393884071200366,
          0.07409097824433288,
          0.07409097824433288,
          0.07409097824433288,
          0.07424311577666211,
          0.07424311577666211,
          0.07439525330899133,
          0.07439525330899133,
          0.07454739084132056,
          0.07454739084132056,
          0.07469952837364978,
          0.07469952837364978,
          0.07485166590597901,
          0.07515594097063745,
          0.07515594097063745,
          0.07530807850296668,
          0.07591662863228359,
          0.07667731629392971,
          0.07789441655256352,
          0.07895937927886809,
          0.079567929408185,
          0.08048075460216035,
          0.08093716719914804,
          0.08200212992545261,
          0.08291495511942797,
          0.08428419291039099,
          0.0848927430397079,
          0.0855012931690248,
          0.08641411836300016,
          0.08702266849231706,
          0.08808763121862163,
          0.0885440438156093,
          0.08900045641259699,
          0.0902175566712308,
          0.09097824433287692,
          0.09128251939753537,
          0.09143465692986459,
          0.09173893199452304,
          0.09219534459151073,
          0.09249961965616918,
          0.0932603073178153,
          0.09341244485014454,
          0.0938688574471322,
          0.09462954510877833,
          0.09523809523809523,
          0.09554237030275368,
          0.09599878289974137,
          0.09630305796439982,
          0.09691160809371673,
          0.09691160809371673,
          0.09721588315837518,
          0.09721588315837518,
          0.09721588315837518,
          0.0973680206907044,
          0.0973680206907044,
          0.09752015822303363,
          0.09752015822303363,
          0.09752015822303363,
          0.09752015822303363,
          0.09767229575536285,
          0.09767229575536285,
          0.09782443328769207,
          0.0979765708200213,
          0.0979765708200213,
          0.0979765708200213,
          0.09828084588467975,
          0.09843298341700897,
          0.09843298341700897,
          0.0985851209493382,
          0.0985851209493382,
          0.09873725848166742,
          0.09873725848166742,
          0.09873725848166742,
          0.09888939601399666,
          0.09888939601399666,
          0.09888939601399666,
          0.09904153354632587,
          0.09934580861098433,
          0.09934580861098433,
          0.09934580861098433,
          0.09934580861098433,
          0.09934580861098433,
          0.09949794614331356,
          0.09949794614331356,
          0.09965008367564278,
          0.09980222120797201,
          0.09980222120797201,
          0.09980222120797201,
          0.09995435874030123,
          0.09995435874030123,
          0.09995435874030123,
          0.09995435874030123,
          0.09995435874030123,
          0.09995435874030123,
          0.10010649627263046,
          0.10010649627263046,
          0.10025863380495968,
          0.10041077133728891,
          0.10056290886961813,
          0.10056290886961813,
          0.10071504640194737,
          0.10086718393427659,
          0.10117145899893504,
          0.10132359653126426,
          0.10193214666058116,
          0.10193214666058116,
          0.10238855925756885,
          0.10254069678989806,
          0.10284497185455652,
          0.10299710938688575,
          0.1033013844515442,
          0.10345352198387342,
          0.10345352198387342,
          0.10345352198387342,
          0.10345352198387342,
          0.1039099345808611,
          0.10436634717784878,
          0.10467062224250723,
          0.10482275977483645,
          0.10497489730716568,
          0.10497489730716568,
          0.1051270348394949,
          0.10527917237182413,
          0.10527917237182413,
          0.10558344743648258,
          0.1057355849688118,
          0.10588772250114104,
          0.10588772250114104,
          0.10603986003347025,
          0.10603986003347025,
          0.10649627263045794,
          0.10664841016278716,
          0.10680054769511639,
          0.10680054769511639,
          0.10695268522744561,
          0.10695268522744561,
          0.10710482275977484,
          0.10710482275977484,
          0.1074090978244333,
          0.10756123535676251,
          0.10771337288909173,
          0.10771337288909173,
          0.10801764795375018,
          0.10801764795375018,
          0.10816978548607942,
          0.10816978548607942,
          0.10832192301840864,
          0.10862619808306709,
          0.10862619808306709,
          0.10862619808306709,
          0.10893047314772554,
          0.10908261068005477,
          0.10908261068005477,
          0.10969116080937168,
          0.1098432983417009,
          0.10999543587403013,
          0.10999543587403013,
          0.11029971093868858,
          0.1104518484710178,
          0.11060398600334703,
          0.11075612353567625,
          0.11090826106800547,
          0.1110603986003347,
          0.11121253613266392,
          0.11136467366499316,
          0.11136467366499316,
          0.11136467366499316,
          0.11151681119732237,
          0.11151681119732237,
          0.11151681119732237,
          0.11182108626198083,
          0.11212536132663928,
          0.11227749885896851,
          0.11242963639129773,
          0.11242963639129773,
          0.11258177392362696,
          0.11273391145595618,
          0.11288604898828541,
          0.11288604898828541,
          0.11319032405294387,
          0.11319032405294387,
          0.11319032405294387,
          0.11334246158527309,
          0.11684162482884528,
          0.1235356762513312,
          0.134185303514377,
          0.1542674577818348,
          0.18347786398904609,
          0.21694812110147574,
          0.2517876160048684,
          0.28480146052031036,
          0.3170546173741062,
          0.3442872356610376,
          0.36665145291343376,
          0.3891678076981591,
          0.4135098128708352,
          0.4355697550585729,
          0.457173284649323,
          0.48014605203103605,
          0.4999239312338354,
          0.5174197474516964,
          0.5359805263958619,
          0.5527156549520766,
          0.5668644454586946,
          0.5843602616765556,
          0.6003347025711243,
          0.6153963182717176,
          0.6293929712460063,
          0.6452152746082459,
          0.661493990567473,
          0.6800547695116386,
          0.6932907348242812,
          0.7075916628632284,
          0.7235661037577971,
          0.7348242811501597,
          0.7445610832192302,
          0.7553628480146052,
          0.7644910999543587,
          0.7737714894264415,
          0.7827476038338658,
          0.7914194431766317,
          0.7979613570667884,
          0.8026776205689944,
          0.806481058877225,
          0.8101323596531265,
          0.8130229727673817,
          0.8150007606876617,
          0.8168264110756124,
          0.8178913738019169,
          0.8191084740605508,
          0.820021299254526,
          0.8209341244485014,
          0.8210862619808307,
          0.8212383995131599,
          0.8215426745778184,
          0.8219990871748061,
          0.8221512247071352,
          0.8224554997717937,
          0.8227597748364521,
          0.8229119123687814,
          0.8229119123687814,
          0.8229119123687814,
          0.8230640499011106,
          0.8230640499011106,
          0.8230640499011106,
          0.8232161874334398,
          0.8233683249657691,
          0.8233683249657691,
          0.8233683249657691,
          0.8235204624980983,
          0.8236726000304275,
          0.823976875095086,
          0.8241290126274152,
          0.8245854252244028,
          0.8250418378213905,
          0.8254982504183782,
          0.8264110756123536,
          0.8268674882093412,
          0.8273239008063289,
          0.8277803134033166,
          0.8285410010649628,
          0.8288452761296212,
          0.8293016887266088,
          0.8302145139205842,
          0.8305187889852427,
          0.8309752015822304,
          0.8315837517115472,
          0.8320401643085349,
          0.832800851970181,
          0.8331051270348395,
          0.8337136771641565,
          0.8344743648258025,
          0.834778639890461,
          0.8352350524874487,
          0.8353871900197779,
          0.8356914650844364,
          0.8358436026167656,
          0.836147877681424,
          0.836147877681424,
          0.8364521527460824,
          0.8366042902784117,
          0.8366042902784117,
          0.8366042902784117,
          0.8369085653430701,
          0.8370607028753994,
          0.8370607028753994,
          0.8370607028753994,
          0.8372128404077286,
          0.8372128404077286,
          0.837517115472387,
          0.8384299406663623,
          0.8387342157310208,
          0.83888635326335,
          0.83888635326335,
          0.8391906283280085,
          0.8397991784573254,
          0.8399513159896547,
          0.8399513159896547,
          0.8401034535219839,
          0.8401034535219839,
          0.8402555910543131,
          0.8404077285866424,
          0.8404077285866424,
          0.8405598661189716,
          0.84086414118363,
          0.8410162787159592,
          0.8411684162482884,
          0.8411684162482884,
          0.8411684162482884,
          0.8411684162482884,
          0.8413205537806177,
          0.8414726913129469,
          0.8414726913129469,
          0.8416248288452761,
          0.8419291039099346,
          0.8419291039099346,
          0.8419291039099346,
          0.8420812414422638,
          0.842233378974593,
          0.842233378974593,
          0.8425376540392515,
          0.8425376540392515,
          0.84284192910391,
          0.84284192910391,
          0.8432983417008976,
          0.8432983417008976,
          0.8439068918302145,
          0.8439068918302145,
          0.8440590293625437,
          0.8440590293625437,
          0.8440590293625437,
          0.844211166894873,
          0.844211166894873,
          0.8443633044272022,
          0.8446675794918607,
          0.8457325422181652,
          0.8474060550737867,
          0.8487752928647497,
          0.8518180435113343,
          0.8554693442872356,
          0.8592727825954664,
          0.8641411836300015,
          0.8687053095998782,
          0.8731172980374259,
          0.8761600486840103,
          0.8802677620568994,
          0.8833105127034839,
          0.8852883006237638,
          0.8883310512703484,
          0.892134489578579,
          0.8960900654191389,
          0.8986764034687358,
          0.9027841168416249,
          0.9065875551498555,
          0.9094781682641108,
          0.9140422942339875,
          0.9183021451392058,
          0.9221055834474364,
          0.925148334094021,
          0.9294081849992393,
          0.933972310969116,
          0.938688574471322,
          0.9421877377148943,
          0.9455347634261372,
          0.9491860642020387,
          0.9522288148486232,
          0.9555758405598661,
          0.9566408032861707,
          0.9589228662711091,
          0.960900654191389,
          0.9613570667883767,
          0.9627263045793397,
          0.9639434048379736,
          0.965616917693595,
          0.9663776053552411,
          0.9671382930168873,
          0.9680511182108626,
          0.9685075308078503,
          0.9688118058725087,
          0.9691160809371672,
          0.9695724935341549,
          0.9695724935341549,
          0.9697246310664841,
          0.9697246310664841,
          0.9698767685988133,
          0.9698767685988133,
          0.9698767685988133,
          0.9698767685988133,
          0.9698767685988133,
          0.9698767685988133,
          0.9700289061311426,
          0.9700289061311426,
          0.970333181195801,
          0.970333181195801,
          0.9706374562604595,
          0.9706374562604595,
          0.9710938688574471,
          0.9715502814544348,
          0.972310969116081,
          0.9726152441807394,
          0.9730716567777271,
          0.9733759318423855,
          0.9741366195040316,
          0.9745930321010193,
          0.9748973071656778,
          0.9753537197626655,
          0.9755058572949947,
          0.9759622698919823,
          0.9761144074243115,
          0.9762665449566408,
          0.9762665449566408,
          0.9762665449566408,
          0.9762665449566408,
          0.9762665449566408,
          0.97641868248897,
          0.9765708200212992,
          0.9765708200212992,
          0.9767229575536285,
          0.9767229575536285,
          0.9767229575536285,
          0.9767229575536285,
          0.9767229575536285,
          0.9768750950859577,
          0.9768750950859577,
          0.9768750950859577,
          0.9771793701506162,
          0.9771793701506162,
          0.9773315076829454,
          0.9776357827476039,
          0.9777879202799331,
          0.9779400578122622,
          0.9779400578122622,
          0.9780921953445915,
          0.9780921953445915,
          0.9780921953445915,
          0.9780921953445915,
          0.9780921953445915,
          0.9782443328769207,
          0.9783964704092499,
          0.9785486079415792,
          0.9785486079415792,
          0.9785486079415792,
          0.9788528830062376,
          0.9788528830062376,
          0.9791571580708961,
          0.9793092956032253,
          0.9794614331355546,
          0.9796135706678838,
          0.9796135706678838,
          0.979765708200213,
          0.979765708200213,
          0.9799178457325423,
          0.9799178457325423,
          0.9799178457325423,
          0.9803742583295298,
          0.9803742583295298,
          0.9805263958618591,
          0.9805263958618591,
          0.9808306709265175,
          0.9815913585881637,
          0.9826563213144682,
          0.9834170089761144,
          0.9840255591054313,
          0.9840255591054313,
          0.9849383842994066,
          0.9860033470257112,
          0.9870683097520159,
          0.9873725848166742,
          0.9881332724783204,
          0.9882854100106496,
          0.9884375475429789,
          0.9887418226076373,
          0.9893503727369543,
          0.9893503727369543,
          0.9898067853339418,
          0.9902631979309295,
          0.9902631979309295,
          0.9902631979309295,
          0.9904153354632588,
          0.9904153354632588,
          0.9910238855925757,
          0.9911760231249049,
          0.9911760231249049,
          0.9913281606572342,
          0.9917845732542219,
          0.9917845732542219,
          0.991936710786551,
          0.9922409858512095,
          0.9922409858512095,
          0.9925452609158679,
          0.9925452609158679,
          0.9931538110451849,
          0.9931538110451849,
          0.9931538110451849,
          0.9934580861098433,
          0.9937623611745018,
          0.993914498706831,
          0.993914498706831,
          0.9942187737714894,
          0.9945230488361478,
          0.9946751863684771,
          0.9946751863684771,
          0.9949794614331355,
          0.9949794614331355,
          0.9951315989654648,
          0.995283736497794,
          0.995283736497794,
          0.995283736497794,
          0.9954358740301232,
          0.9954358740301232,
          0.9955880115624525,
          0.9955880115624525,
          0.9955880115624525,
          0.9955880115624525,
          0.9955880115624525,
          0.9957401490947817,
          0.9958922866271109,
          0.9958922866271109,
          0.9960444241594402,
          0.9961965616917694,
          0.9961965616917694,
          0.9963486992240986,
          0.9965008367564279,
          0.9965008367564279,
          0.996652974288757,
          0.9968051118210862,
          0.9968051118210862,
          0.9969572493534155,
          0.9969572493534155,
          0.9969572493534155,
          0.9974136619504032,
          0.9977179370150616,
          0.9977179370150616,
          0.9978700745473909,
          0.9980222120797201,
          0.9981743496120493,
          0.9984786246767078,
          0.998630762209037,
          0.998630762209037,
          0.9987828997413662,
          0.9987828997413662,
          0.9989350372736954,
          0.9990871748060246,
          0.9990871748060246,
          0.9993914498706831,
          0.9993914498706831,
          0.9995435874030123,
          0.9995435874030123,
          0.9998478624676708,
          1,
          1
         ],
         "yaxis": "y"
        },
        {
         "hovertemplate": "x=%{x}<br>y=%{y}<extra></extra>",
         "legendgroup": "",
         "line": {
          "color": "rgba(50,50,50,0.2)",
          "dash": "solid"
         },
         "mode": "lines",
         "name": "",
         "orientation": "v",
         "showlegend": false,
         "type": "scatter",
         "x": [
          0,
          1
         ],
         "xaxis": "x",
         "y": [
          0,
          1
         ],
         "yaxis": "y"
        }
       ],
       "layout": {
        "autosize": false,
        "height": 800,
        "template": {
         "data": {
          "bar": [
           {
            "error_x": {
             "color": "#2a3f5f"
            },
            "error_y": {
             "color": "#2a3f5f"
            },
            "marker": {
             "line": {
              "color": "#E5ECF6",
              "width": 0.5
             }
            },
            "type": "bar"
           }
          ],
          "barpolar": [
           {
            "marker": {
             "line": {
              "color": "#E5ECF6",
              "width": 0.5
             }
            },
            "type": "barpolar"
           }
          ],
          "carpet": [
           {
            "aaxis": {
             "endlinecolor": "#2a3f5f",
             "gridcolor": "white",
             "linecolor": "white",
             "minorgridcolor": "white",
             "startlinecolor": "#2a3f5f"
            },
            "baxis": {
             "endlinecolor": "#2a3f5f",
             "gridcolor": "white",
             "linecolor": "white",
             "minorgridcolor": "white",
             "startlinecolor": "#2a3f5f"
            },
            "type": "carpet"
           }
          ],
          "choropleth": [
           {
            "colorbar": {
             "outlinewidth": 0,
             "ticks": ""
            },
            "type": "choropleth"
           }
          ],
          "contour": [
           {
            "colorbar": {
             "outlinewidth": 0,
             "ticks": ""
            },
            "colorscale": [
             [
              0,
              "#0d0887"
             ],
             [
              0.1111111111111111,
              "#46039f"
             ],
             [
              0.2222222222222222,
              "#7201a8"
             ],
             [
              0.3333333333333333,
              "#9c179e"
             ],
             [
              0.4444444444444444,
              "#bd3786"
             ],
             [
              0.5555555555555556,
              "#d8576b"
             ],
             [
              0.6666666666666666,
              "#ed7953"
             ],
             [
              0.7777777777777778,
              "#fb9f3a"
             ],
             [
              0.8888888888888888,
              "#fdca26"
             ],
             [
              1,
              "#f0f921"
             ]
            ],
            "type": "contour"
           }
          ],
          "contourcarpet": [
           {
            "colorbar": {
             "outlinewidth": 0,
             "ticks": ""
            },
            "type": "contourcarpet"
           }
          ],
          "heatmap": [
           {
            "colorbar": {
             "outlinewidth": 0,
             "ticks": ""
            },
            "colorscale": [
             [
              0,
              "#0d0887"
             ],
             [
              0.1111111111111111,
              "#46039f"
             ],
             [
              0.2222222222222222,
              "#7201a8"
             ],
             [
              0.3333333333333333,
              "#9c179e"
             ],
             [
              0.4444444444444444,
              "#bd3786"
             ],
             [
              0.5555555555555556,
              "#d8576b"
             ],
             [
              0.6666666666666666,
              "#ed7953"
             ],
             [
              0.7777777777777778,
              "#fb9f3a"
             ],
             [
              0.8888888888888888,
              "#fdca26"
             ],
             [
              1,
              "#f0f921"
             ]
            ],
            "type": "heatmap"
           }
          ],
          "heatmapgl": [
           {
            "colorbar": {
             "outlinewidth": 0,
             "ticks": ""
            },
            "colorscale": [
             [
              0,
              "#0d0887"
             ],
             [
              0.1111111111111111,
              "#46039f"
             ],
             [
              0.2222222222222222,
              "#7201a8"
             ],
             [
              0.3333333333333333,
              "#9c179e"
             ],
             [
              0.4444444444444444,
              "#bd3786"
             ],
             [
              0.5555555555555556,
              "#d8576b"
             ],
             [
              0.6666666666666666,
              "#ed7953"
             ],
             [
              0.7777777777777778,
              "#fb9f3a"
             ],
             [
              0.8888888888888888,
              "#fdca26"
             ],
             [
              1,
              "#f0f921"
             ]
            ],
            "type": "heatmapgl"
           }
          ],
          "histogram": [
           {
            "marker": {
             "colorbar": {
              "outlinewidth": 0,
              "ticks": ""
             }
            },
            "type": "histogram"
           }
          ],
          "histogram2d": [
           {
            "colorbar": {
             "outlinewidth": 0,
             "ticks": ""
            },
            "colorscale": [
             [
              0,
              "#0d0887"
             ],
             [
              0.1111111111111111,
              "#46039f"
             ],
             [
              0.2222222222222222,
              "#7201a8"
             ],
             [
              0.3333333333333333,
              "#9c179e"
             ],
             [
              0.4444444444444444,
              "#bd3786"
             ],
             [
              0.5555555555555556,
              "#d8576b"
             ],
             [
              0.6666666666666666,
              "#ed7953"
             ],
             [
              0.7777777777777778,
              "#fb9f3a"
             ],
             [
              0.8888888888888888,
              "#fdca26"
             ],
             [
              1,
              "#f0f921"
             ]
            ],
            "type": "histogram2d"
           }
          ],
          "histogram2dcontour": [
           {
            "colorbar": {
             "outlinewidth": 0,
             "ticks": ""
            },
            "colorscale": [
             [
              0,
              "#0d0887"
             ],
             [
              0.1111111111111111,
              "#46039f"
             ],
             [
              0.2222222222222222,
              "#7201a8"
             ],
             [
              0.3333333333333333,
              "#9c179e"
             ],
             [
              0.4444444444444444,
              "#bd3786"
             ],
             [
              0.5555555555555556,
              "#d8576b"
             ],
             [
              0.6666666666666666,
              "#ed7953"
             ],
             [
              0.7777777777777778,
              "#fb9f3a"
             ],
             [
              0.8888888888888888,
              "#fdca26"
             ],
             [
              1,
              "#f0f921"
             ]
            ],
            "type": "histogram2dcontour"
           }
          ],
          "mesh3d": [
           {
            "colorbar": {
             "outlinewidth": 0,
             "ticks": ""
            },
            "type": "mesh3d"
           }
          ],
          "parcoords": [
           {
            "line": {
             "colorbar": {
              "outlinewidth": 0,
              "ticks": ""
             }
            },
            "type": "parcoords"
           }
          ],
          "pie": [
           {
            "automargin": true,
            "type": "pie"
           }
          ],
          "scatter": [
           {
            "marker": {
             "colorbar": {
              "outlinewidth": 0,
              "ticks": ""
             }
            },
            "type": "scatter"
           }
          ],
          "scatter3d": [
           {
            "line": {
             "colorbar": {
              "outlinewidth": 0,
              "ticks": ""
             }
            },
            "marker": {
             "colorbar": {
              "outlinewidth": 0,
              "ticks": ""
             }
            },
            "type": "scatter3d"
           }
          ],
          "scattercarpet": [
           {
            "marker": {
             "colorbar": {
              "outlinewidth": 0,
              "ticks": ""
             }
            },
            "type": "scattercarpet"
           }
          ],
          "scattergeo": [
           {
            "marker": {
             "colorbar": {
              "outlinewidth": 0,
              "ticks": ""
             }
            },
            "type": "scattergeo"
           }
          ],
          "scattergl": [
           {
            "marker": {
             "colorbar": {
              "outlinewidth": 0,
              "ticks": ""
             }
            },
            "type": "scattergl"
           }
          ],
          "scattermapbox": [
           {
            "marker": {
             "colorbar": {
              "outlinewidth": 0,
              "ticks": ""
             }
            },
            "type": "scattermapbox"
           }
          ],
          "scatterpolar": [
           {
            "marker": {
             "colorbar": {
              "outlinewidth": 0,
              "ticks": ""
             }
            },
            "type": "scatterpolar"
           }
          ],
          "scatterpolargl": [
           {
            "marker": {
             "colorbar": {
              "outlinewidth": 0,
              "ticks": ""
             }
            },
            "type": "scatterpolargl"
           }
          ],
          "scatterternary": [
           {
            "marker": {
             "colorbar": {
              "outlinewidth": 0,
              "ticks": ""
             }
            },
            "type": "scatterternary"
           }
          ],
          "surface": [
           {
            "colorbar": {
             "outlinewidth": 0,
             "ticks": ""
            },
            "colorscale": [
             [
              0,
              "#0d0887"
             ],
             [
              0.1111111111111111,
              "#46039f"
             ],
             [
              0.2222222222222222,
              "#7201a8"
             ],
             [
              0.3333333333333333,
              "#9c179e"
             ],
             [
              0.4444444444444444,
              "#bd3786"
             ],
             [
              0.5555555555555556,
              "#d8576b"
             ],
             [
              0.6666666666666666,
              "#ed7953"
             ],
             [
              0.7777777777777778,
              "#fb9f3a"
             ],
             [
              0.8888888888888888,
              "#fdca26"
             ],
             [
              1,
              "#f0f921"
             ]
            ],
            "type": "surface"
           }
          ],
          "table": [
           {
            "cells": {
             "fill": {
              "color": "#EBF0F8"
             },
             "line": {
              "color": "white"
             }
            },
            "header": {
             "fill": {
              "color": "#C8D4E3"
             },
             "line": {
              "color": "white"
             }
            },
            "type": "table"
           }
          ]
         },
         "layout": {
          "annotationdefaults": {
           "arrowcolor": "#2a3f5f",
           "arrowhead": 0,
           "arrowwidth": 1
          },
          "autotypenumbers": "strict",
          "coloraxis": {
           "colorbar": {
            "outlinewidth": 0,
            "ticks": ""
           }
          },
          "colorscale": {
           "diverging": [
            [
             0,
             "#8e0152"
            ],
            [
             0.1,
             "#c51b7d"
            ],
            [
             0.2,
             "#de77ae"
            ],
            [
             0.3,
             "#f1b6da"
            ],
            [
             0.4,
             "#fde0ef"
            ],
            [
             0.5,
             "#f7f7f7"
            ],
            [
             0.6,
             "#e6f5d0"
            ],
            [
             0.7,
             "#b8e186"
            ],
            [
             0.8,
             "#7fbc41"
            ],
            [
             0.9,
             "#4d9221"
            ],
            [
             1,
             "#276419"
            ]
           ],
           "sequential": [
            [
             0,
             "#0d0887"
            ],
            [
             0.1111111111111111,
             "#46039f"
            ],
            [
             0.2222222222222222,
             "#7201a8"
            ],
            [
             0.3333333333333333,
             "#9c179e"
            ],
            [
             0.4444444444444444,
             "#bd3786"
            ],
            [
             0.5555555555555556,
             "#d8576b"
            ],
            [
             0.6666666666666666,
             "#ed7953"
            ],
            [
             0.7777777777777778,
             "#fb9f3a"
            ],
            [
             0.8888888888888888,
             "#fdca26"
            ],
            [
             1,
             "#f0f921"
            ]
           ],
           "sequentialminus": [
            [
             0,
             "#0d0887"
            ],
            [
             0.1111111111111111,
             "#46039f"
            ],
            [
             0.2222222222222222,
             "#7201a8"
            ],
            [
             0.3333333333333333,
             "#9c179e"
            ],
            [
             0.4444444444444444,
             "#bd3786"
            ],
            [
             0.5555555555555556,
             "#d8576b"
            ],
            [
             0.6666666666666666,
             "#ed7953"
            ],
            [
             0.7777777777777778,
             "#fb9f3a"
            ],
            [
             0.8888888888888888,
             "#fdca26"
            ],
            [
             1,
             "#f0f921"
            ]
           ]
          },
          "colorway": [
           "#636efa",
           "#EF553B",
           "#00cc96",
           "#ab63fa",
           "#FFA15A",
           "#19d3f3",
           "#FF6692",
           "#B6E880",
           "#FF97FF",
           "#FECB52"
          ],
          "font": {
           "color": "#2a3f5f"
          },
          "geo": {
           "bgcolor": "white",
           "lakecolor": "white",
           "landcolor": "#E5ECF6",
           "showlakes": true,
           "showland": true,
           "subunitcolor": "white"
          },
          "hoverlabel": {
           "align": "left"
          },
          "hovermode": "closest",
          "mapbox": {
           "style": "light"
          },
          "paper_bgcolor": "white",
          "plot_bgcolor": "#E5ECF6",
          "polar": {
           "angularaxis": {
            "gridcolor": "white",
            "linecolor": "white",
            "ticks": ""
           },
           "bgcolor": "#E5ECF6",
           "radialaxis": {
            "gridcolor": "white",
            "linecolor": "white",
            "ticks": ""
           }
          },
          "scene": {
           "xaxis": {
            "backgroundcolor": "#E5ECF6",
            "gridcolor": "white",
            "gridwidth": 2,
            "linecolor": "white",
            "showbackground": true,
            "ticks": "",
            "zerolinecolor": "white"
           },
           "yaxis": {
            "backgroundcolor": "#E5ECF6",
            "gridcolor": "white",
            "gridwidth": 2,
            "linecolor": "white",
            "showbackground": true,
            "ticks": "",
            "zerolinecolor": "white"
           },
           "zaxis": {
            "backgroundcolor": "#E5ECF6",
            "gridcolor": "white",
            "gridwidth": 2,
            "linecolor": "white",
            "showbackground": true,
            "ticks": "",
            "zerolinecolor": "white"
           }
          },
          "shapedefaults": {
           "line": {
            "color": "#2a3f5f"
           }
          },
          "ternary": {
           "aaxis": {
            "gridcolor": "white",
            "linecolor": "white",
            "ticks": ""
           },
           "baxis": {
            "gridcolor": "white",
            "linecolor": "white",
            "ticks": ""
           },
           "bgcolor": "#E5ECF6",
           "caxis": {
            "gridcolor": "white",
            "linecolor": "white",
            "ticks": ""
           }
          },
          "title": {
           "x": 0.05
          },
          "xaxis": {
           "automargin": true,
           "gridcolor": "white",
           "linecolor": "white",
           "ticks": "",
           "title": {
            "standoff": 15
           },
           "zerolinecolor": "white",
           "zerolinewidth": 2
          },
          "yaxis": {
           "automargin": true,
           "gridcolor": "white",
           "linecolor": "white",
           "ticks": "",
           "title": {
            "standoff": 15
           },
           "zerolinecolor": "white",
           "zerolinewidth": 2
          }
         }
        },
        "title": {
         "text": "ROC Curve"
        },
        "width": 800,
        "xaxis": {
         "range": [
          0,
          1
         ],
         "title": {
          "text": "False Positive Rate (Sensitivty)"
         }
        },
        "yaxis": {
         "range": [
          0,
          1
         ],
         "title": {
          "text": "True Positive Rate (1-Precision)"
         }
        }
       }
      },
      "text/html": "<div>                            <div id=\"ef48eeef-502e-4a8b-a86b-bf4b34b8d0b3\" class=\"plotly-graph-div\" style=\"height:800px; width:800px;\"></div>            <script type=\"text/javascript\">                require([\"plotly\"], function(Plotly) {                    window.PLOTLYENV=window.PLOTLYENV || {};                                    if (document.getElementById(\"ef48eeef-502e-4a8b-a86b-bf4b34b8d0b3\")) {                    Plotly.newPlot(                        \"ef48eeef-502e-4a8b-a86b-bf4b34b8d0b3\",                        [{\"hovertemplate\": \"x=%{x}<br>y=%{y}<extra></extra>\", \"legendgroup\": \"\", \"line\": {\"color\": \"#636efa\", \"dash\": \"solid\"}, \"mode\": \"lines\", \"name\": \"\", \"orientation\": \"v\", \"showlegend\": false, \"type\": \"scatter\", \"x\": [0.0, 0.0, 8.312551953449709e-05, 8.312551953449709e-05, 0.00016625103906899418, 0.00016625103906899418, 0.00033250207813798836, 0.00033250207813798836, 0.0006650041562759767, 0.0008312551953449709, 0.0010806317539484621, 0.0011637572734829592, 0.0014131338320864505, 0.0014131338320864505, 0.0014962593516209476, 0.0016625103906899418, 0.001745635910224439, 0.001745635910224439, 0.001828761429758936, 0.001828761429758936, 0.0019118869492934332, 0.00199501246882793, 0.00199501246882793, 0.0020781379883624274, 0.0020781379883624274, 0.0021612635078969242, 0.0021612635078969242, 0.0023275145469659184, 0.00257689110556941, 0.0032418952618453864, 0.003906899418121363, 0.00457190357439734, 0.004904405652535328, 0.00515378221113882, 0.005486284289276808, 0.005652535328345802, 0.0059850374064837905, 0.006317539484621779, 0.006400665004156276, 0.006483790523690773, 0.006650041562759767, 0.006816292601828761, 0.006899418121363259, 0.006899418121363259, 0.006982543640897756, 0.007065669160432253, 0.0071487946799667496, 0.0071487946799667496, 0.007315045719035744, 0.007315045719035744, 0.007813798836242726, 0.008395677472984206, 0.008977556109725686, 0.00939318370739817, 0.010640066500415627, 0.011221945137157107, 0.011803823773898587, 0.012635078969243558, 0.013549459684123025, 0.014048212801330008, 0.014463840399002495, 0.014962593516209476, 0.01512884455527847, 0.015211970074812968, 0.01571072319201995, 0.015876974231088945, 0.01596009975062344, 0.016209476309226933, 0.01654197838736492, 0.01662510390689942, 0.016957605985037406, 0.0171238570241064, 0.0172069825436409, 0.017456359102244388, 0.017456359102244388, 0.017539484621778886, 0.01762261014131338, 0.01762261014131338, 0.01770573566084788, 0.01770573566084788, 0.01778886118038238, 0.01778886118038238, 0.017871986699916874, 0.018038237738985868, 0.018038237738985868, 0.018038237738985868, 0.018121363258520366, 0.01837073981712386, 0.018703241895261846, 0.018952618453865335, 0.019617622610141314, 0.019783873649210307, 0.019866999168744806, 0.0199501246882793, 0.020199501246882794, 0.02028262676641729, 0.020365752285951787, 0.02053200332502078, 0.020781379883624274, 0.02086450540315877, 0.020947630922693267, 0.020947630922693267, 0.02111388196176226, 0.02119700748129676, 0.021280133000831255, 0.021363258520365754, 0.02144638403990025, 0.021612635078969242, 0.02169576059850374, 0.02169576059850374, 0.021862011637572735, 0.021862011637572735, 0.022111388196176227, 0.022111388196176227, 0.022194513715710722, 0.022360764754779716, 0.022360764754779716, 0.022443890274314215, 0.02252701579384871, 0.02252701579384871, 0.022776392352452202, 0.022776392352452202, 0.0228595178719867, 0.02310889443059019, 0.02369077306733167, 0.024189526184538655, 0.024605153782211137, 0.02543640897755611, 0.02593516209476309, 0.026184538653366583, 0.026683291770573565, 0.026766417290108063, 0.02709891936824605, 0.027514546965918537, 0.028096425602660017, 0.028678304239401497, 0.029093931837073983, 0.02942643391521197, 0.029925187032418952, 0.030756442227763924, 0.0313383208645054, 0.03175394846217789, 0.03233582709891937, 0.03266832917705736, 0.03291770573566085, 0.03316708229426434, 0.03349958437240233, 0.03366583541147132, 0.03391521197007481, 0.03449709060681629, 0.03466334164588529, 0.034746467165419785, 0.034746467165419785, 0.03482959268495428, 0.03499584372402328, 0.03499584372402328, 0.03507896924355777, 0.035328345802161265, 0.035328345802161265, 0.035494596841230255, 0.03557772236076476, 0.03574397339983375, 0.03582709891936824, 0.036076475477971735, 0.03690773067331671, 0.037073981712385705, 0.0371571072319202, 0.03732335827098919, 0.03740648379052369, 0.03757273482959268, 0.03807148794679967, 0.038237738985868665, 0.03832086450540316, 0.03832086450540316, 0.03832086450540316, 0.03832086450540316, 0.038403990024937655, 0.03857024106400665, 0.03857024106400665, 0.03873649210307564, 0.03873649210307564, 0.038819617622610145, 0.038819617622610145, 0.03890274314214464, 0.03890274314214464, 0.03915211970074813, 0.03915211970074813, 0.03948462177888612, 0.0400665004156276, 0.04039900249376559, 0.04181213632585204, 0.04347464671654198, 0.0458021612635079, 0.047298420615128844, 0.04821280133000831, 0.04945968412302577, 0.05087281795511222, 0.0514546965918537, 0.051953449709060684, 0.05261845386533666, 0.05320033250207814, 0.0541978387364921, 0.05486284289276808, 0.055278470490440566, 0.05610972568578554, 0.056608478802992516, 0.0572734829592685, 0.057772236076475476, 0.058354114713216956, 0.058769742310889446, 0.059268495428096424, 0.059850374064837904, 0.06059850374064838, 0.06151288445552785, 0.06251039068994181, 0.06334164588528678, 0.06408977556109725, 0.06458852867830424, 0.06500415627597672, 0.0656691604322527, 0.06600166251039069, 0.06658354114713216, 0.06666666666666667, 0.06683291770573566, 0.06708229426433915, 0.06733167082294264, 0.06766417290108064, 0.06783042394014963, 0.06791354945968413, 0.06799667497921862, 0.06816292601828762, 0.06824605153782211, 0.06824605153782211, 0.06832917705735661, 0.06832917705735661, 0.06841230257689111, 0.0685785536159601, 0.06866167913549459, 0.0688279301745636, 0.06899418121363259, 0.06907730673316709, 0.06916043225270158, 0.06916043225270158, 0.06949293433083957, 0.06949293433083957, 0.06957605985037406, 0.06957605985037406, 0.06982543640897755, 0.06990856192851205, 0.06990856192851205, 0.07007481296758104, 0.07015793848711555, 0.07065669160432253, 0.07090606816292602, 0.07173732335827099, 0.07256857855361595, 0.07339983374896093, 0.07406483790523691, 0.07481296758104738, 0.07531172069825437, 0.07614297589359934, 0.07655860349127182, 0.07722360764754779, 0.07797173732335827, 0.07847049044056525, 0.07888611803823774, 0.07955112219451371, 0.08021612635078969, 0.08038237738985869, 0.08071487946799667, 0.08162926018287614, 0.08204488778054862, 0.08229426433915212, 0.0831255195344971, 0.08362427265170408, 0.08437240232751454, 0.08470490440565254, 0.08495428096425603, 0.08503740648379052, 0.0857024106400665, 0.08628428927680798, 0.08645054031587697, 0.08669991687448046, 0.08711554447215294, 0.08736492103075644, 0.08769742310889443, 0.08794679966749792, 0.08811305070656691, 0.08819617622610142, 0.0882793017456359, 0.0883624272651704, 0.0883624272651704, 0.08844555278470491, 0.0886118038237739, 0.0886949293433084, 0.0886949293433084, 0.08886118038237739, 0.08886118038237739, 0.0889443059019119, 0.08919368246051537, 0.08927680798004987, 0.08927680798004987, 0.08927680798004987, 0.08944305901911886, 0.08952618453865337, 0.08960931005818787, 0.08960931005818787, 0.08977556109725686, 0.08985868661679136, 0.08985868661679136, 0.08994181213632585, 0.09010806317539484, 0.09010806317539484, 0.09010806317539484, 0.09019118869492934, 0.09035743973399833, 0.09044056525353283, 0.09093931837073982, 0.09093931837073982, 0.09118869492934331, 0.09118869492934331, 0.0913549459684123, 0.0914380714879468, 0.0916043225270158, 0.09185369908561929, 0.09201995012468828, 0.09210307564422278, 0.09226932668329177, 0.09243557772236076, 0.09268495428096425, 0.09268495428096425, 0.09276807980049875, 0.09276807980049875, 0.09285120532003326, 0.09285120532003326, 0.09301745635910225, 0.09301745635910225, 0.09318370739817124, 0.09351620947630923, 0.09359933499584372, 0.09376558603491272, 0.09393183707398171, 0.0944305901911887, 0.09451371571072319, 0.09484621778886118, 0.09484621778886118, 0.09534497090606817, 0.09551122194513716, 0.09559434746467166, 0.09584372402327515, 0.09592684954280964, 0.09625935162094763, 0.09625935162094763, 0.09642560266001662, 0.09642560266001662, 0.09650872817955113, 0.09667497921862012, 0.09667497921862012, 0.09675810473815462, 0.09692435577722361, 0.0970906068162926, 0.0974231088944306, 0.09750623441396508, 0.09758935993349958, 0.09783873649210308, 0.09800498753117207, 0.09825436408977556, 0.09833748960931006, 0.09850374064837905, 0.09866999168744804, 0.09883624272651705, 0.09891936824605153, 0.09891936824605153, 0.09908561928512054, 0.09908561928512054, 0.09916874480465503, 0.09916874480465503, 0.09925187032418953, 0.09925187032418953, 0.09933499584372402, 0.09933499584372402, 0.09958437240232751, 0.09975062344139651, 0.09975062344139651, 0.1000831255195345, 0.1002493765586035, 0.10033250207813799, 0.10083125519534497, 0.10182876142975894, 0.10199501246882793, 0.10216126350789692, 0.10241064006650041, 0.10249376558603492, 0.1025768911055694, 0.1029093931837074, 0.1029093931837074, 0.1029925187032419, 0.10315876974231089, 0.10349127182044887, 0.10357439733998337, 0.10374064837905236, 0.10382377389858687, 0.10399002493765586, 0.10407315045719036, 0.10432252701579385, 0.10465502909393183, 0.10507065669160433, 0.10540315876974231, 0.10548628428927681, 0.10548628428927681, 0.10581878636741479, 0.1059850374064838, 0.1059850374064838, 0.10606816292601828, 0.10615128844555279, 0.10615128844555279, 0.10623441396508729, 0.10640066500415628, 0.1084788029925187, 0.11487946799667498, 0.12759767248545303, 0.15087281795511223, 0.1798004987531172, 0.20748129675810473, 0.24239401496259352, 0.27206982543640895, 0.2975893599334996, 0.3210307564422278, 0.343474646716542, 0.36300914380714877, 0.3827930174563591, 0.399833748960931, 0.4168744804655029, 0.4344970906068163, 0.4542809642560266, 0.46990856192851205, 0.48877805486284287, 0.5049875311720698, 0.5209476309226932, 0.5379883624272652, 0.5522859517871986, 0.5657522859517872, 0.5819617622610141, 0.5968412302576891, 0.6136325852036575, 0.6302576891105569, 0.6489609310058188, 0.6659185369908562, 0.6807148794679967, 0.6953449709060682, 0.7081463009143807, 0.7196176226101413, 0.729260182876143, 0.7390689941812136, 0.7499584372402327, 0.7598503740648379, 0.7671654197838736, 0.7734829592684954, 0.7799667497921862, 0.785785536159601, 0.7914380714879468, 0.7947630922693267, 0.7980881130507066, 0.800665004156276, 0.8024106400665004, 0.8035743973399834, 0.8050706566916043, 0.8062344139650873, 0.8075644222776392, 0.8080631753948462, 0.8083956774729842, 0.8091438071487946, 0.8093931837073982, 0.8096425602660017, 0.8098088113050707, 0.8101413133832086, 0.8102244389027431, 0.8105569409808812, 0.8105569409808812, 0.8107231920199501, 0.8108063175394846, 0.8108894430590191, 0.8108894430590191, 0.8109725685785536, 0.8111388196176226, 0.8112219451371571, 0.8113881961762262, 0.8115544472152951, 0.8120532003325021, 0.8125519534497091, 0.8133000831255195, 0.813881961762261, 0.814879467996675, 0.8153782211138819, 0.815544472152951, 0.8157938487115545, 0.8161263507896924, 0.816541978387365, 0.8172069825436409, 0.8177057356608479, 0.8180382377389859, 0.8187032418952619, 0.8191188694929343, 0.8200332502078138, 0.8201995012468828, 0.8206151288445552, 0.8208645054031588, 0.8211970074812968, 0.8214463840399002, 0.8215295095594347, 0.8217788861180383, 0.8221113881961762, 0.8222776392352452, 0.8223607647547797, 0.8224438902743142, 0.8226932668329177, 0.8226932668329177, 0.8227763923524523, 0.8229426433915212, 0.8230257689110557, 0.8231920199501247, 0.8233582709891937, 0.8236076475477971, 0.8236076475477971, 0.8237738985868661, 0.8239401496259352, 0.8244389027431421, 0.8245220282626766, 0.8247714048212801, 0.8248545303408147, 0.8249376558603492, 0.8249376558603492, 0.8250207813798837, 0.8251039068994181, 0.8251870324189526, 0.8252701579384871, 0.825768911055694, 0.8261014131338321, 0.8261845386533666, 0.8263507896924356, 0.8263507896924356, 0.8264339152119701, 0.8264339152119701, 0.8266832917705735, 0.826766417290108, 0.8269326683291771, 0.8270989193682461, 0.8270989193682461, 0.8275145469659185, 0.8276807980049875, 0.827763923524522, 0.827930174563591, 0.8280133000831256, 0.8281795511221945, 0.828428927680798, 0.8285120532003325, 0.8285120532003325, 0.8288445552784705, 0.8288445552784705, 0.829260182876143, 0.829260182876143, 0.8295095594347465, 0.8295095594347465, 0.829592684954281, 0.829592684954281, 0.8297589359933499, 0.8299251870324189, 0.8299251870324189, 0.8300083125519534, 0.8300083125519534, 0.8307564422277639, 0.8321695760598504, 0.8347464671654198, 0.8384039900249377, 0.843640897755611, 0.8496259351620947, 0.856026600166251, 0.8606816292601829, 0.8661679135494597, 0.8694929343308395, 0.873898586866168, 0.8766417290108063, 0.8793017456359102, 0.8820448877805487, 0.884954280964256, 0.8879467996674979, 0.8911886949293433, 0.8946799667497922, 0.8981712385702411, 0.9009143807148795, 0.9049044056525354, 0.9088944305901911, 0.9137988362427265, 0.9188694929343308, 0.9236076475477972, 0.92809642560266, 0.9315045719035744, 0.9365752285951787, 0.9399833748960931, 0.943640897755611, 0.9467165419783874, 0.9493765586034912, 0.9528678304239402, 0.9548628428927681, 0.958187863674148, 0.9596009975062344, 0.9616791354945968, 0.9630922693266832, 0.9642560266001663, 0.9655029093931837, 0.9664172901080632, 0.9670822942643391, 0.9677472984206151, 0.9681629260182876, 0.9685785536159601, 0.9689110556940981, 0.969243557772236, 0.9694929343308396, 0.969908561928512, 0.970074812967581, 0.970074812967581, 0.97024106400665, 0.9703241895261845, 0.9704904405652536, 0.9705735660847881, 0.970739817123857, 0.970739817123857, 0.970906068162926, 0.971072319201995, 0.9711554447215295, 0.971238570241064, 0.971571072319202, 0.9718204488778055, 0.9719866999168745, 0.9724023275145469, 0.9728179551122195, 0.9732335827098919, 0.9738154613466334, 0.9741479634247714, 0.9745635910224439, 0.9747298420615129, 0.9751454696591854, 0.9751454696591854, 0.9753117206982543, 0.9753948462177888, 0.9755610972568578, 0.9756442227763924, 0.9758104738154614, 0.9760598503740648, 0.9762261014131338, 0.9763092269326683, 0.9764754779717373, 0.9766417290108064, 0.9766417290108064, 0.9768911055694098, 0.9769742310889443, 0.9771404821280133, 0.9775561097256857, 0.9775561097256857, 0.9776392352452202, 0.9778054862842893, 0.9779717373233583, 0.9780548628428928, 0.9783042394014962, 0.9786367414796342, 0.9788861180382378, 0.9788861180382378, 0.9789692435577723, 0.9791354945968412, 0.9793017456359102, 0.9794679966749792, 0.9796342477140482, 0.9797173732335827, 0.9798004987531173, 0.9799667497921862, 0.9800498753117207, 0.9802161263507897, 0.9802992518703242, 0.9802992518703242, 0.9804655029093932, 0.9804655029093932, 0.9805486284289276, 0.9805486284289276, 0.9806317539484621, 0.9807148794679966, 0.9807148794679966, 0.9808811305070657, 0.9809642560266002, 0.9811305070656692, 0.9813798836242726, 0.9813798836242726, 0.9816292601828761, 0.9817955112219451, 0.9821280133000831, 0.9822942643391521, 0.9830423940149626, 0.9839567747298421, 0.984621778886118, 0.985785536159601, 0.986450540315877, 0.9868661679135494, 0.9868661679135494, 0.9876142975893599, 0.9882793017456359, 0.9887780548628429, 0.9890274314214463, 0.9891105569409809, 0.9891936824605154, 0.9896093100581879, 0.9905236907730673, 0.9910224438902743, 0.9912718204488778, 0.9916874480465503, 0.9919368246051538, 0.9923524522028263, 0.9925187032418953, 0.9928512053200332, 0.9929343308395677, 0.9931837073981712, 0.9932668329177058, 0.9932668329177058, 0.9934330839567748, 0.9934330839567748, 0.9935162094763093, 0.9937655860349127, 0.9939318370739817, 0.9940980881130507, 0.9942643391521196, 0.9944305901911887, 0.9946799667497922, 0.9946799667497922, 0.9946799667497922, 0.9947630922693267, 0.9948462177888612, 0.9948462177888612, 0.9948462177888612, 0.9948462177888612, 0.9950955943474646, 0.9950955943474646, 0.9952618453865336, 0.9954280964256027, 0.9955112219451372, 0.9956774729842062, 0.9958437240232751, 0.9958437240232751, 0.9959268495428096, 0.9960099750623441, 0.9962593516209476, 0.9963424771404821, 0.9965087281795512, 0.9966749792186201, 0.9966749792186201, 0.9967581047381546, 0.9970906068162926, 0.9972568578553616, 0.997339983374896, 0.9974231088944306, 0.9975893599334996, 0.9975893599334996, 0.9977556109725686, 0.9977556109725686, 0.9978387364921031, 0.9979218620116376, 0.9980881130507065, 0.9982543640897755, 0.9984206151288445, 0.9984206151288445, 0.9985037406483791, 0.9986699916874481, 0.9987531172069826, 0.9989193682460515, 0.9989193682460515, 0.9989193682460515, 0.9989193682460515, 0.999002493765586, 0.999002493765586, 0.9990856192851205, 0.999168744804655, 0.999168744804655, 0.999334995843724, 0.999334995843724, 0.9995843724023276, 0.9995843724023276, 0.999667497921862, 0.999667497921862, 0.9997506234413965, 1.0], \"xaxis\": \"x\", \"y\": [0.0, 0.00015213753232922562, 0.00015213753232922562, 0.00030427506465845124, 0.00030427506465845124, 0.00045641259698767686, 0.00045641259698767686, 0.0006085501293169025, 0.0006085501293169025, 0.0006085501293169025, 0.0006085501293169025, 0.0007606876616461281, 0.0007606876616461281, 0.0009128251939753537, 0.0010649627263045794, 0.0010649627263045794, 0.001217100258633805, 0.0015213753232922562, 0.0015213753232922562, 0.0018256503879507074, 0.001977787920279933, 0.001977787920279933, 0.002129925452609159, 0.002129925452609159, 0.0022820629849383844, 0.0022820629849383844, 0.00243420051726761, 0.00243420051726761, 0.0025863380495968354, 0.0027384755819260614, 0.0030427506465845124, 0.003194888178913738, 0.003651300775901415, 0.003955575840559866, 0.003955575840559866, 0.004564125969876769, 0.00486840103453522, 0.00486840103453522, 0.005172676099193671, 0.005172676099193671, 0.005476951163852123, 0.005476951163852123, 0.005629088696181348, 0.006085501293169025, 0.006237638825498251, 0.006237638825498251, 0.006389776357827476, 0.006694051422485928, 0.006998326487144379, 0.007150464019473604, 0.007150464019473604, 0.007759014148790507, 0.008063289213448958, 0.008976114407424312, 0.009432527004411988, 0.010345352198387342, 0.010953902327704245, 0.012627415183325726, 0.013388102844971855, 0.013996652974288757, 0.014909478168264111, 0.015365890765251787, 0.016582991023885593, 0.01734367868553172, 0.018256503879507075, 0.018256503879507075, 0.0184086414118363, 0.018865054008823975, 0.0190171915411532, 0.01977787920279933, 0.02023429179978701, 0.020538566864445457, 0.02084284192910391, 0.02114711699376236, 0.021299254526091587, 0.021299254526091587, 0.02160352959075004, 0.02190780465540849, 0.022059942187737713, 0.022364217252396165, 0.022364217252396165, 0.02251635478472539, 0.02251635478472539, 0.02251635478472539, 0.022820629849383843, 0.02297276738171307, 0.02297276738171307, 0.02297276738171307, 0.02297276738171307, 0.02297276738171307, 0.02327704244637152, 0.023429179978700747, 0.023429179978700747, 0.023733455043359195, 0.02388559257568842, 0.024037730108017647, 0.024037730108017647, 0.024189867640346873, 0.0243420051726761, 0.024798417769663777, 0.024798417769663777, 0.024950555301993003, 0.02525483036665145, 0.02525483036665145, 0.025406967898980677, 0.02571124296363913, 0.025863380495968355, 0.025863380495968355, 0.025863380495968355, 0.02601551802829758, 0.02601551802829758, 0.026167655560626807, 0.026167655560626807, 0.026319793092956033, 0.02647193062528526, 0.02647193062528526, 0.02677620568994371, 0.026928343222272933, 0.026928343222272933, 0.02708048075460216, 0.02708048075460216, 0.027232618286931385, 0.027232618286931385, 0.02738475581926061, 0.02814544348090674, 0.028449718545565193, 0.028906131142552867, 0.029058268674882093, 0.02951468127186977, 0.02997109386885745, 0.030123231401186674, 0.030427506465845123, 0.031036056595162027, 0.0314924691921497, 0.03194888178913738, 0.032861706983112735, 0.033165982047771186, 0.033926669709417316, 0.033926669709417316, 0.034839494903392665, 0.035904457629697246, 0.03605659516202647, 0.03651300775901415, 0.037121557888331054, 0.037425832952989506, 0.03788224554997718, 0.038338658146964855, 0.038642933211623307, 0.03894720827628176, 0.039099345808610984, 0.039403620873269436, 0.03970789593792789, 0.039860033470257114, 0.039860033470257114, 0.039860033470257114, 0.040164308534915566, 0.04031644606724479, 0.04031644606724479, 0.04077285866423246, 0.04092499619656169, 0.041077133728890915, 0.04153354632587859, 0.041837821390537044, 0.042142096455195496, 0.042142096455195496, 0.042598509052183174, 0.042902784116841626, 0.042902784116841626, 0.04320705918150008, 0.04320705918150008, 0.04381560931081698, 0.04411988437547543, 0.04442415944013388, 0.04472843450479233, 0.044880572037121556, 0.04518484710178001, 0.04548912216643846, 0.045641259698767686, 0.04579339723109691, 0.04579339723109691, 0.04594553476342614, 0.04594553476342614, 0.046097672295755364, 0.046097672295755364, 0.04624980982808459, 0.04624980982808459, 0.046401947360413816, 0.04655408489274304, 0.046858359957401494, 0.047162635022059946, 0.047619047619047616, 0.048836147877681424, 0.05035752320097368, 0.051118210862619806, 0.05294386125057052, 0.05476951163852122, 0.05674729955880116, 0.057812262285105734, 0.05902936254373954, 0.05979005020538567, 0.06070287539936102, 0.06100715046401947, 0.061615700593336376, 0.06191997565799483, 0.06268066331964095, 0.06313707591662863, 0.06328921344895785, 0.0635934885136163, 0.06420203864293321, 0.06435417617526244, 0.06526700136923778, 0.06587555149855469, 0.06663623916020082, 0.06724478928951773, 0.06785333941883463, 0.06815761448349308, 0.06846188954815152, 0.0689183021451392, 0.06967898980678533, 0.07059181500076069, 0.07089609006541914, 0.07120036513007759, 0.07165677772706527, 0.07180891525939449, 0.0724174653887114, 0.07256960292104062, 0.07256960292104062, 0.07256960292104062, 0.07287387798569907, 0.0730260155180283, 0.07317815305035752, 0.07317815305035752, 0.07348242811501597, 0.07348242811501597, 0.07393884071200366, 0.07393884071200366, 0.07393884071200366, 0.07409097824433288, 0.07409097824433288, 0.07409097824433288, 0.07424311577666211, 0.07424311577666211, 0.07439525330899133, 0.07439525330899133, 0.07454739084132056, 0.07454739084132056, 0.07469952837364978, 0.07469952837364978, 0.07485166590597901, 0.07515594097063745, 0.07515594097063745, 0.07530807850296668, 0.07591662863228359, 0.07667731629392971, 0.07789441655256352, 0.07895937927886809, 0.079567929408185, 0.08048075460216035, 0.08093716719914804, 0.08200212992545261, 0.08291495511942797, 0.08428419291039099, 0.0848927430397079, 0.0855012931690248, 0.08641411836300016, 0.08702266849231706, 0.08808763121862163, 0.0885440438156093, 0.08900045641259699, 0.0902175566712308, 0.09097824433287692, 0.09128251939753537, 0.09143465692986459, 0.09173893199452304, 0.09219534459151073, 0.09249961965616918, 0.0932603073178153, 0.09341244485014454, 0.0938688574471322, 0.09462954510877833, 0.09523809523809523, 0.09554237030275368, 0.09599878289974137, 0.09630305796439982, 0.09691160809371673, 0.09691160809371673, 0.09721588315837518, 0.09721588315837518, 0.09721588315837518, 0.0973680206907044, 0.0973680206907044, 0.09752015822303363, 0.09752015822303363, 0.09752015822303363, 0.09752015822303363, 0.09767229575536285, 0.09767229575536285, 0.09782443328769207, 0.0979765708200213, 0.0979765708200213, 0.0979765708200213, 0.09828084588467975, 0.09843298341700897, 0.09843298341700897, 0.0985851209493382, 0.0985851209493382, 0.09873725848166742, 0.09873725848166742, 0.09873725848166742, 0.09888939601399666, 0.09888939601399666, 0.09888939601399666, 0.09904153354632587, 0.09934580861098433, 0.09934580861098433, 0.09934580861098433, 0.09934580861098433, 0.09934580861098433, 0.09949794614331356, 0.09949794614331356, 0.09965008367564278, 0.09980222120797201, 0.09980222120797201, 0.09980222120797201, 0.09995435874030123, 0.09995435874030123, 0.09995435874030123, 0.09995435874030123, 0.09995435874030123, 0.09995435874030123, 0.10010649627263046, 0.10010649627263046, 0.10025863380495968, 0.10041077133728891, 0.10056290886961813, 0.10056290886961813, 0.10071504640194737, 0.10086718393427659, 0.10117145899893504, 0.10132359653126426, 0.10193214666058116, 0.10193214666058116, 0.10238855925756885, 0.10254069678989806, 0.10284497185455652, 0.10299710938688575, 0.1033013844515442, 0.10345352198387342, 0.10345352198387342, 0.10345352198387342, 0.10345352198387342, 0.1039099345808611, 0.10436634717784878, 0.10467062224250723, 0.10482275977483645, 0.10497489730716568, 0.10497489730716568, 0.1051270348394949, 0.10527917237182413, 0.10527917237182413, 0.10558344743648258, 0.1057355849688118, 0.10588772250114104, 0.10588772250114104, 0.10603986003347025, 0.10603986003347025, 0.10649627263045794, 0.10664841016278716, 0.10680054769511639, 0.10680054769511639, 0.10695268522744561, 0.10695268522744561, 0.10710482275977484, 0.10710482275977484, 0.1074090978244333, 0.10756123535676251, 0.10771337288909173, 0.10771337288909173, 0.10801764795375018, 0.10801764795375018, 0.10816978548607942, 0.10816978548607942, 0.10832192301840864, 0.10862619808306709, 0.10862619808306709, 0.10862619808306709, 0.10893047314772554, 0.10908261068005477, 0.10908261068005477, 0.10969116080937168, 0.1098432983417009, 0.10999543587403013, 0.10999543587403013, 0.11029971093868858, 0.1104518484710178, 0.11060398600334703, 0.11075612353567625, 0.11090826106800547, 0.1110603986003347, 0.11121253613266392, 0.11136467366499316, 0.11136467366499316, 0.11136467366499316, 0.11151681119732237, 0.11151681119732237, 0.11151681119732237, 0.11182108626198083, 0.11212536132663928, 0.11227749885896851, 0.11242963639129773, 0.11242963639129773, 0.11258177392362696, 0.11273391145595618, 0.11288604898828541, 0.11288604898828541, 0.11319032405294387, 0.11319032405294387, 0.11319032405294387, 0.11334246158527309, 0.11684162482884528, 0.1235356762513312, 0.134185303514377, 0.1542674577818348, 0.18347786398904609, 0.21694812110147574, 0.2517876160048684, 0.28480146052031036, 0.3170546173741062, 0.3442872356610376, 0.36665145291343376, 0.3891678076981591, 0.4135098128708352, 0.4355697550585729, 0.457173284649323, 0.48014605203103605, 0.4999239312338354, 0.5174197474516964, 0.5359805263958619, 0.5527156549520766, 0.5668644454586946, 0.5843602616765556, 0.6003347025711243, 0.6153963182717176, 0.6293929712460063, 0.6452152746082459, 0.661493990567473, 0.6800547695116386, 0.6932907348242812, 0.7075916628632284, 0.7235661037577971, 0.7348242811501597, 0.7445610832192302, 0.7553628480146052, 0.7644910999543587, 0.7737714894264415, 0.7827476038338658, 0.7914194431766317, 0.7979613570667884, 0.8026776205689944, 0.806481058877225, 0.8101323596531265, 0.8130229727673817, 0.8150007606876617, 0.8168264110756124, 0.8178913738019169, 0.8191084740605508, 0.820021299254526, 0.8209341244485014, 0.8210862619808307, 0.8212383995131599, 0.8215426745778184, 0.8219990871748061, 0.8221512247071352, 0.8224554997717937, 0.8227597748364521, 0.8229119123687814, 0.8229119123687814, 0.8229119123687814, 0.8230640499011106, 0.8230640499011106, 0.8230640499011106, 0.8232161874334398, 0.8233683249657691, 0.8233683249657691, 0.8233683249657691, 0.8235204624980983, 0.8236726000304275, 0.823976875095086, 0.8241290126274152, 0.8245854252244028, 0.8250418378213905, 0.8254982504183782, 0.8264110756123536, 0.8268674882093412, 0.8273239008063289, 0.8277803134033166, 0.8285410010649628, 0.8288452761296212, 0.8293016887266088, 0.8302145139205842, 0.8305187889852427, 0.8309752015822304, 0.8315837517115472, 0.8320401643085349, 0.832800851970181, 0.8331051270348395, 0.8337136771641565, 0.8344743648258025, 0.834778639890461, 0.8352350524874487, 0.8353871900197779, 0.8356914650844364, 0.8358436026167656, 0.836147877681424, 0.836147877681424, 0.8364521527460824, 0.8366042902784117, 0.8366042902784117, 0.8366042902784117, 0.8369085653430701, 0.8370607028753994, 0.8370607028753994, 0.8370607028753994, 0.8372128404077286, 0.8372128404077286, 0.837517115472387, 0.8384299406663623, 0.8387342157310208, 0.83888635326335, 0.83888635326335, 0.8391906283280085, 0.8397991784573254, 0.8399513159896547, 0.8399513159896547, 0.8401034535219839, 0.8401034535219839, 0.8402555910543131, 0.8404077285866424, 0.8404077285866424, 0.8405598661189716, 0.84086414118363, 0.8410162787159592, 0.8411684162482884, 0.8411684162482884, 0.8411684162482884, 0.8411684162482884, 0.8413205537806177, 0.8414726913129469, 0.8414726913129469, 0.8416248288452761, 0.8419291039099346, 0.8419291039099346, 0.8419291039099346, 0.8420812414422638, 0.842233378974593, 0.842233378974593, 0.8425376540392515, 0.8425376540392515, 0.84284192910391, 0.84284192910391, 0.8432983417008976, 0.8432983417008976, 0.8439068918302145, 0.8439068918302145, 0.8440590293625437, 0.8440590293625437, 0.8440590293625437, 0.844211166894873, 0.844211166894873, 0.8443633044272022, 0.8446675794918607, 0.8457325422181652, 0.8474060550737867, 0.8487752928647497, 0.8518180435113343, 0.8554693442872356, 0.8592727825954664, 0.8641411836300015, 0.8687053095998782, 0.8731172980374259, 0.8761600486840103, 0.8802677620568994, 0.8833105127034839, 0.8852883006237638, 0.8883310512703484, 0.892134489578579, 0.8960900654191389, 0.8986764034687358, 0.9027841168416249, 0.9065875551498555, 0.9094781682641108, 0.9140422942339875, 0.9183021451392058, 0.9221055834474364, 0.925148334094021, 0.9294081849992393, 0.933972310969116, 0.938688574471322, 0.9421877377148943, 0.9455347634261372, 0.9491860642020387, 0.9522288148486232, 0.9555758405598661, 0.9566408032861707, 0.9589228662711091, 0.960900654191389, 0.9613570667883767, 0.9627263045793397, 0.9639434048379736, 0.965616917693595, 0.9663776053552411, 0.9671382930168873, 0.9680511182108626, 0.9685075308078503, 0.9688118058725087, 0.9691160809371672, 0.9695724935341549, 0.9695724935341549, 0.9697246310664841, 0.9697246310664841, 0.9698767685988133, 0.9698767685988133, 0.9698767685988133, 0.9698767685988133, 0.9698767685988133, 0.9698767685988133, 0.9700289061311426, 0.9700289061311426, 0.970333181195801, 0.970333181195801, 0.9706374562604595, 0.9706374562604595, 0.9710938688574471, 0.9715502814544348, 0.972310969116081, 0.9726152441807394, 0.9730716567777271, 0.9733759318423855, 0.9741366195040316, 0.9745930321010193, 0.9748973071656778, 0.9753537197626655, 0.9755058572949947, 0.9759622698919823, 0.9761144074243115, 0.9762665449566408, 0.9762665449566408, 0.9762665449566408, 0.9762665449566408, 0.9762665449566408, 0.97641868248897, 0.9765708200212992, 0.9765708200212992, 0.9767229575536285, 0.9767229575536285, 0.9767229575536285, 0.9767229575536285, 0.9767229575536285, 0.9768750950859577, 0.9768750950859577, 0.9768750950859577, 0.9771793701506162, 0.9771793701506162, 0.9773315076829454, 0.9776357827476039, 0.9777879202799331, 0.9779400578122622, 0.9779400578122622, 0.9780921953445915, 0.9780921953445915, 0.9780921953445915, 0.9780921953445915, 0.9780921953445915, 0.9782443328769207, 0.9783964704092499, 0.9785486079415792, 0.9785486079415792, 0.9785486079415792, 0.9788528830062376, 0.9788528830062376, 0.9791571580708961, 0.9793092956032253, 0.9794614331355546, 0.9796135706678838, 0.9796135706678838, 0.979765708200213, 0.979765708200213, 0.9799178457325423, 0.9799178457325423, 0.9799178457325423, 0.9803742583295298, 0.9803742583295298, 0.9805263958618591, 0.9805263958618591, 0.9808306709265175, 0.9815913585881637, 0.9826563213144682, 0.9834170089761144, 0.9840255591054313, 0.9840255591054313, 0.9849383842994066, 0.9860033470257112, 0.9870683097520159, 0.9873725848166742, 0.9881332724783204, 0.9882854100106496, 0.9884375475429789, 0.9887418226076373, 0.9893503727369543, 0.9893503727369543, 0.9898067853339418, 0.9902631979309295, 0.9902631979309295, 0.9902631979309295, 0.9904153354632588, 0.9904153354632588, 0.9910238855925757, 0.9911760231249049, 0.9911760231249049, 0.9913281606572342, 0.9917845732542219, 0.9917845732542219, 0.991936710786551, 0.9922409858512095, 0.9922409858512095, 0.9925452609158679, 0.9925452609158679, 0.9931538110451849, 0.9931538110451849, 0.9931538110451849, 0.9934580861098433, 0.9937623611745018, 0.993914498706831, 0.993914498706831, 0.9942187737714894, 0.9945230488361478, 0.9946751863684771, 0.9946751863684771, 0.9949794614331355, 0.9949794614331355, 0.9951315989654648, 0.995283736497794, 0.995283736497794, 0.995283736497794, 0.9954358740301232, 0.9954358740301232, 0.9955880115624525, 0.9955880115624525, 0.9955880115624525, 0.9955880115624525, 0.9955880115624525, 0.9957401490947817, 0.9958922866271109, 0.9958922866271109, 0.9960444241594402, 0.9961965616917694, 0.9961965616917694, 0.9963486992240986, 0.9965008367564279, 0.9965008367564279, 0.996652974288757, 0.9968051118210862, 0.9968051118210862, 0.9969572493534155, 0.9969572493534155, 0.9969572493534155, 0.9974136619504032, 0.9977179370150616, 0.9977179370150616, 0.9978700745473909, 0.9980222120797201, 0.9981743496120493, 0.9984786246767078, 0.998630762209037, 0.998630762209037, 0.9987828997413662, 0.9987828997413662, 0.9989350372736954, 0.9990871748060246, 0.9990871748060246, 0.9993914498706831, 0.9993914498706831, 0.9995435874030123, 0.9995435874030123, 0.9998478624676708, 1.0, 1.0], \"yaxis\": \"y\"}, {\"hovertemplate\": \"x=%{x}<br>y=%{y}<extra></extra>\", \"legendgroup\": \"\", \"line\": {\"color\": \"rgba(50,50,50,0.2)\", \"dash\": \"solid\"}, \"mode\": \"lines\", \"name\": \"\", \"orientation\": \"v\", \"showlegend\": false, \"type\": \"scatter\", \"x\": [0, 1], \"xaxis\": \"x\", \"y\": [0, 1], \"yaxis\": \"y\"}],                        {\"autosize\": false, \"height\": 800, \"template\": {\"data\": {\"bar\": [{\"error_x\": {\"color\": \"#2a3f5f\"}, \"error_y\": {\"color\": \"#2a3f5f\"}, \"marker\": {\"line\": {\"color\": \"#E5ECF6\", \"width\": 0.5}}, \"type\": \"bar\"}], \"barpolar\": [{\"marker\": {\"line\": {\"color\": \"#E5ECF6\", \"width\": 0.5}}, \"type\": \"barpolar\"}], \"carpet\": [{\"aaxis\": {\"endlinecolor\": \"#2a3f5f\", \"gridcolor\": \"white\", \"linecolor\": \"white\", \"minorgridcolor\": \"white\", \"startlinecolor\": \"#2a3f5f\"}, \"baxis\": {\"endlinecolor\": \"#2a3f5f\", \"gridcolor\": \"white\", \"linecolor\": \"white\", \"minorgridcolor\": \"white\", \"startlinecolor\": \"#2a3f5f\"}, \"type\": \"carpet\"}], \"choropleth\": [{\"colorbar\": {\"outlinewidth\": 0, \"ticks\": \"\"}, \"type\": \"choropleth\"}], \"contour\": [{\"colorbar\": {\"outlinewidth\": 0, \"ticks\": \"\"}, \"colorscale\": [[0.0, \"#0d0887\"], [0.1111111111111111, \"#46039f\"], [0.2222222222222222, \"#7201a8\"], [0.3333333333333333, \"#9c179e\"], [0.4444444444444444, \"#bd3786\"], [0.5555555555555556, \"#d8576b\"], [0.6666666666666666, \"#ed7953\"], [0.7777777777777778, \"#fb9f3a\"], [0.8888888888888888, \"#fdca26\"], [1.0, \"#f0f921\"]], \"type\": \"contour\"}], \"contourcarpet\": [{\"colorbar\": {\"outlinewidth\": 0, \"ticks\": \"\"}, \"type\": \"contourcarpet\"}], \"heatmap\": [{\"colorbar\": {\"outlinewidth\": 0, \"ticks\": \"\"}, \"colorscale\": [[0.0, \"#0d0887\"], [0.1111111111111111, \"#46039f\"], [0.2222222222222222, \"#7201a8\"], [0.3333333333333333, \"#9c179e\"], [0.4444444444444444, \"#bd3786\"], [0.5555555555555556, \"#d8576b\"], [0.6666666666666666, \"#ed7953\"], [0.7777777777777778, \"#fb9f3a\"], [0.8888888888888888, \"#fdca26\"], [1.0, \"#f0f921\"]], \"type\": \"heatmap\"}], \"heatmapgl\": [{\"colorbar\": {\"outlinewidth\": 0, \"ticks\": \"\"}, \"colorscale\": [[0.0, \"#0d0887\"], [0.1111111111111111, \"#46039f\"], [0.2222222222222222, \"#7201a8\"], [0.3333333333333333, \"#9c179e\"], [0.4444444444444444, \"#bd3786\"], [0.5555555555555556, \"#d8576b\"], [0.6666666666666666, \"#ed7953\"], [0.7777777777777778, \"#fb9f3a\"], [0.8888888888888888, \"#fdca26\"], [1.0, \"#f0f921\"]], \"type\": \"heatmapgl\"}], \"histogram\": [{\"marker\": {\"colorbar\": {\"outlinewidth\": 0, \"ticks\": \"\"}}, \"type\": \"histogram\"}], \"histogram2d\": [{\"colorbar\": {\"outlinewidth\": 0, \"ticks\": \"\"}, \"colorscale\": [[0.0, \"#0d0887\"], [0.1111111111111111, \"#46039f\"], [0.2222222222222222, \"#7201a8\"], [0.3333333333333333, \"#9c179e\"], [0.4444444444444444, \"#bd3786\"], [0.5555555555555556, \"#d8576b\"], [0.6666666666666666, \"#ed7953\"], [0.7777777777777778, \"#fb9f3a\"], [0.8888888888888888, \"#fdca26\"], [1.0, \"#f0f921\"]], \"type\": \"histogram2d\"}], \"histogram2dcontour\": [{\"colorbar\": {\"outlinewidth\": 0, \"ticks\": \"\"}, \"colorscale\": [[0.0, \"#0d0887\"], [0.1111111111111111, \"#46039f\"], [0.2222222222222222, \"#7201a8\"], [0.3333333333333333, \"#9c179e\"], [0.4444444444444444, \"#bd3786\"], [0.5555555555555556, \"#d8576b\"], [0.6666666666666666, \"#ed7953\"], [0.7777777777777778, \"#fb9f3a\"], [0.8888888888888888, \"#fdca26\"], [1.0, \"#f0f921\"]], \"type\": \"histogram2dcontour\"}], \"mesh3d\": [{\"colorbar\": {\"outlinewidth\": 0, \"ticks\": \"\"}, \"type\": \"mesh3d\"}], \"parcoords\": [{\"line\": {\"colorbar\": {\"outlinewidth\": 0, \"ticks\": \"\"}}, \"type\": \"parcoords\"}], \"pie\": [{\"automargin\": true, \"type\": \"pie\"}], \"scatter\": [{\"marker\": {\"colorbar\": {\"outlinewidth\": 0, \"ticks\": \"\"}}, \"type\": \"scatter\"}], \"scatter3d\": [{\"line\": {\"colorbar\": {\"outlinewidth\": 0, \"ticks\": \"\"}}, \"marker\": {\"colorbar\": {\"outlinewidth\": 0, \"ticks\": \"\"}}, \"type\": \"scatter3d\"}], \"scattercarpet\": [{\"marker\": {\"colorbar\": {\"outlinewidth\": 0, \"ticks\": \"\"}}, \"type\": \"scattercarpet\"}], \"scattergeo\": [{\"marker\": {\"colorbar\": {\"outlinewidth\": 0, \"ticks\": \"\"}}, \"type\": \"scattergeo\"}], \"scattergl\": [{\"marker\": {\"colorbar\": {\"outlinewidth\": 0, \"ticks\": \"\"}}, \"type\": \"scattergl\"}], \"scattermapbox\": [{\"marker\": {\"colorbar\": {\"outlinewidth\": 0, \"ticks\": \"\"}}, \"type\": \"scattermapbox\"}], \"scatterpolar\": [{\"marker\": {\"colorbar\": {\"outlinewidth\": 0, \"ticks\": \"\"}}, \"type\": \"scatterpolar\"}], \"scatterpolargl\": [{\"marker\": {\"colorbar\": {\"outlinewidth\": 0, \"ticks\": \"\"}}, \"type\": \"scatterpolargl\"}], \"scatterternary\": [{\"marker\": {\"colorbar\": {\"outlinewidth\": 0, \"ticks\": \"\"}}, \"type\": \"scatterternary\"}], \"surface\": [{\"colorbar\": {\"outlinewidth\": 0, \"ticks\": \"\"}, \"colorscale\": [[0.0, \"#0d0887\"], [0.1111111111111111, \"#46039f\"], [0.2222222222222222, \"#7201a8\"], [0.3333333333333333, \"#9c179e\"], [0.4444444444444444, \"#bd3786\"], [0.5555555555555556, \"#d8576b\"], [0.6666666666666666, \"#ed7953\"], [0.7777777777777778, \"#fb9f3a\"], [0.8888888888888888, \"#fdca26\"], [1.0, \"#f0f921\"]], \"type\": \"surface\"}], \"table\": [{\"cells\": {\"fill\": {\"color\": \"#EBF0F8\"}, \"line\": {\"color\": \"white\"}}, \"header\": {\"fill\": {\"color\": \"#C8D4E3\"}, \"line\": {\"color\": \"white\"}}, \"type\": \"table\"}]}, \"layout\": {\"annotationdefaults\": {\"arrowcolor\": \"#2a3f5f\", \"arrowhead\": 0, \"arrowwidth\": 1}, \"autotypenumbers\": \"strict\", \"coloraxis\": {\"colorbar\": {\"outlinewidth\": 0, \"ticks\": \"\"}}, \"colorscale\": {\"diverging\": [[0, \"#8e0152\"], [0.1, \"#c51b7d\"], [0.2, \"#de77ae\"], [0.3, \"#f1b6da\"], [0.4, \"#fde0ef\"], [0.5, \"#f7f7f7\"], [0.6, \"#e6f5d0\"], [0.7, \"#b8e186\"], [0.8, \"#7fbc41\"], [0.9, \"#4d9221\"], [1, \"#276419\"]], \"sequential\": [[0.0, \"#0d0887\"], [0.1111111111111111, \"#46039f\"], [0.2222222222222222, \"#7201a8\"], [0.3333333333333333, \"#9c179e\"], [0.4444444444444444, \"#bd3786\"], [0.5555555555555556, \"#d8576b\"], [0.6666666666666666, \"#ed7953\"], [0.7777777777777778, \"#fb9f3a\"], [0.8888888888888888, \"#fdca26\"], [1.0, \"#f0f921\"]], \"sequentialminus\": [[0.0, \"#0d0887\"], [0.1111111111111111, \"#46039f\"], [0.2222222222222222, \"#7201a8\"], [0.3333333333333333, \"#9c179e\"], [0.4444444444444444, \"#bd3786\"], [0.5555555555555556, \"#d8576b\"], [0.6666666666666666, \"#ed7953\"], [0.7777777777777778, \"#fb9f3a\"], [0.8888888888888888, \"#fdca26\"], [1.0, \"#f0f921\"]]}, \"colorway\": [\"#636efa\", \"#EF553B\", \"#00cc96\", \"#ab63fa\", \"#FFA15A\", \"#19d3f3\", \"#FF6692\", \"#B6E880\", \"#FF97FF\", \"#FECB52\"], \"font\": {\"color\": \"#2a3f5f\"}, \"geo\": {\"bgcolor\": \"white\", \"lakecolor\": \"white\", \"landcolor\": \"#E5ECF6\", \"showlakes\": true, \"showland\": true, \"subunitcolor\": \"white\"}, \"hoverlabel\": {\"align\": \"left\"}, \"hovermode\": \"closest\", \"mapbox\": {\"style\": \"light\"}, \"paper_bgcolor\": \"white\", \"plot_bgcolor\": \"#E5ECF6\", \"polar\": {\"angularaxis\": {\"gridcolor\": \"white\", \"linecolor\": \"white\", \"ticks\": \"\"}, \"bgcolor\": \"#E5ECF6\", \"radialaxis\": {\"gridcolor\": \"white\", \"linecolor\": \"white\", \"ticks\": \"\"}}, \"scene\": {\"xaxis\": {\"backgroundcolor\": \"#E5ECF6\", \"gridcolor\": \"white\", \"gridwidth\": 2, \"linecolor\": \"white\", \"showbackground\": true, \"ticks\": \"\", \"zerolinecolor\": \"white\"}, \"yaxis\": {\"backgroundcolor\": \"#E5ECF6\", \"gridcolor\": \"white\", \"gridwidth\": 2, \"linecolor\": \"white\", \"showbackground\": true, \"ticks\": \"\", \"zerolinecolor\": \"white\"}, \"zaxis\": {\"backgroundcolor\": \"#E5ECF6\", \"gridcolor\": \"white\", \"gridwidth\": 2, \"linecolor\": \"white\", \"showbackground\": true, \"ticks\": \"\", \"zerolinecolor\": \"white\"}}, \"shapedefaults\": {\"line\": {\"color\": \"#2a3f5f\"}}, \"ternary\": {\"aaxis\": {\"gridcolor\": \"white\", \"linecolor\": \"white\", \"ticks\": \"\"}, \"baxis\": {\"gridcolor\": \"white\", \"linecolor\": \"white\", \"ticks\": \"\"}, \"bgcolor\": \"#E5ECF6\", \"caxis\": {\"gridcolor\": \"white\", \"linecolor\": \"white\", \"ticks\": \"\"}}, \"title\": {\"x\": 0.05}, \"xaxis\": {\"automargin\": true, \"gridcolor\": \"white\", \"linecolor\": \"white\", \"ticks\": \"\", \"title\": {\"standoff\": 15}, \"zerolinecolor\": \"white\", \"zerolinewidth\": 2}, \"yaxis\": {\"automargin\": true, \"gridcolor\": \"white\", \"linecolor\": \"white\", \"ticks\": \"\", \"title\": {\"standoff\": 15}, \"zerolinecolor\": \"white\", \"zerolinewidth\": 2}}}, \"title\": {\"text\": \"ROC Curve\"}, \"width\": 800, \"xaxis\": {\"range\": [0, 1], \"title\": {\"text\": \"False Positive Rate (Sensitivty)\"}}, \"yaxis\": {\"range\": [0, 1], \"title\": {\"text\": \"True Positive Rate (1-Precision)\"}}},                        {\"responsive\": true}                    ).then(function(){\n                            \nvar gd = document.getElementById('ef48eeef-502e-4a8b-a86b-bf4b34b8d0b3');\nvar x = new MutationObserver(function (mutations, observer) {{\n        var display = window.getComputedStyle(gd).display;\n        if (!display || display === 'none') {{\n            console.log([gd, 'removed!']);\n            Plotly.purge(gd);\n            observer.disconnect();\n        }}\n}});\n\n// Listen for the removal of the full notebook cells\nvar notebookContainer = gd.closest('#notebook-container');\nif (notebookContainer) {{\n    x.observe(notebookContainer, {childList: true});\n}}\n\n// Listen for the clearing of the current output cell\nvar outputEl = gd.closest('.output');\nif (outputEl) {{\n    x.observe(outputEl, {childList: true});\n}}\n\n                        })                };                });            </script>        </div>"
     },
     "metadata": {}
    },
    {
     "output_type": "stream",
     "name": "stdout",
     "text": [
      "AUC ROC score: 0.509\n"
     ]
    }
   ],
   "source": [
    "fig, auc = classification_tools.calc_roc(models[model], X_val, y_val)\n",
    "fig.show()\n",
    "print(\"AUC ROC score: {:.3f}\".format(auc))"
   ]
  },
  {
   "source": [
    "And it does. The area under the curve is barely over 50%.\n",
    "\n",
    "Interpreting this: ethnicity, age and gender are not (or, rather, are only very midly) predictive of the outcome of a stop and search in Scotland.\n",
    "\n",
    "What do they indidiual cofficients look like?"
   ],
   "cell_type": "markdown",
   "metadata": {}
  },
  {
   "source": [
    "### Coefficients"
   ],
   "cell_type": "markdown",
   "metadata": {}
  },
  {
   "cell_type": "code",
   "execution_count": 420,
   "metadata": {},
   "outputs": [
    {
     "output_type": "stream",
     "name": "stdout",
     "text": [
      " 8.82e-01: Nominal Ethnicity_Bangladeshi, Bangladeshi Scottish, Bangladeshi British\n-7.25e-01: Nominal Ethnicity_Pakistani, Pakistani Scottish, Pakistani British \n-6.84e-01: Nominal Ethnicity_White Northen Ireland\n-5.69e-01: Nominal Ethnicity_White Gypsy/Traveller\n 4.66e-01: Nominal Ethnicity_Arab, Arab Scottish, Arab British\n-4.60e-01: Nominal Ethnicity_Not Provided / Unknown\n-4.16e-01: Nominal Ethnicity_Other Caribbean or Black\n-3.35e-01: Nominal Ethnicity_Any Mixed Ethnic group\n 2.78e-01: Nominal Ethnicity_Other Asian\n-2.72e-01: Nominal Ethnicity_Caribbean, Caribbean Scottish, Caribbean British\n-2.51e-01: Nominal Ethnicity_Indian, Indian Scottish, Indian British\n 2.50e-01: Nominal Ethnicity_Pakistani, Pakistani Scottish, Pakistani British\n-2.37e-01: Nominal Ethnicity_White Other\n-1.62e-01: Nominal Ethnicity_White Scottish\n 1.47e-01: Nominal Gender_Male\n-1.39e-01: Nominal Ethnicity_Black, Black Scottish, Black British\n-1.39e-01: Nominal Ethnicity_Other African\n 1.26e-01: Nominal Ethnicity_Other Ethnic Group\n-1.09e-01: Nominal Ethnicity_White Irish\n 1.03e-01: Nominal Ethnicity_White Welsh\n-9.68e-02: Nominal Ethnicity_White English\n-5.91e-02: Nominal Ethnicity_Chinese, Chinese Scottish, Chinese British\n 4.06e-02: Nominal Ethnicity_White Polish\n-8.67e-03: Nominal Ethnicity_White British\n-6.56e-05: Nominal Age\n"
     ]
    }
   ],
   "source": [
    "coefficients = classification_tools.get_feature_weights(cols, models[model])\n"
   ]
  },
  {
   "source": [
    "Age seems to be having very little effect, how does the model perform without it?"
   ],
   "cell_type": "markdown",
   "metadata": {}
  },
  {
   "cell_type": "code",
   "execution_count": 421,
   "metadata": {},
   "outputs": [
    {
     "output_type": "stream",
     "name": "stdout",
     "text": [
      "Training score: 0.642\nValidation Score:0.646\n"
     ]
    }
   ],
   "source": [
    "cols = X_train_init.columns[X_train_init.columns.str.contains(\"Nominal Ethnicity.*\", regex=True)].to_list()\n",
    "cols += [\"Nominal Gender_Male\"]\n",
    "\n",
    "X_train = X_train_init[cols]\n",
    "X_val = X_val_init[cols]\n",
    "\n",
    "from sklearn.linear_model import LogisticRegression\n",
    "\n",
    "models = {}\n",
    "\n",
    "model=\"Ethnicity, Gender\"\n",
    "\n",
    "models[model] = LogisticRegression(\n",
    "    penalty=\"none\",\n",
    "    max_iter=300\n",
    "    )\n",
    "\n",
    "models[model].fit(X_train, y_train)\n",
    "\n",
    "print(\"Training score: {:.3f}\\nValidation Score:{:.3f}\".format(models[model].score(X_train, y_train), models[model].score(X_val, y_val)))"
   ]
  },
  {
   "cell_type": "code",
   "execution_count": 422,
   "metadata": {},
   "outputs": [
    {
     "output_type": "display_data",
     "data": {
      "application/vnd.plotly.v1+json": {
       "config": {
        "plotlyServerURL": "https://plot.ly"
       },
       "data": [
        {
         "hovertemplate": "x=%{x}<br>y=%{y}<extra></extra>",
         "legendgroup": "",
         "line": {
          "color": "#636efa",
          "dash": "solid"
         },
         "mode": "lines",
         "name": "",
         "orientation": "v",
         "showlegend": false,
         "type": "scatter",
         "x": [
          0,
          0.0003348541291699803,
          0.0016324138797036542,
          0.005399522832865933,
          0.005441379599012181,
          0.015403289941819095,
          0.015738144070989075,
          0.019505253024151355,
          0.023523502574191116,
          0.024025783767946087,
          0.024444351429408564,
          0.03562010799045666,
          0.03591310535348039,
          0.061152735339667655,
          0.0612783056381064,
          0.061403875936545144,
          0.06194801389644636,
          0.06320371688083379,
          0.0833786781633251,
          0.089447909254531,
          0.09493114561968942,
          0.09748440835461052,
          0.09903310870202169,
          0.8051148968230715,
          0.8193880540789419,
          0.8196391946758194,
          0.8213134653216693,
          0.8243690092503453,
          0.8246201498472228,
          0.8249968607425391,
          0.8250805742748315,
          0.9684818550918756,
          0.974467372650789,
          0.9750115106106902,
          0.9772299192164413,
          0.9772717759825876,
          0.9783181951362437,
          0.9937633418442091,
          0.9940144824410866,
          0.995102758360889,
          0.995102758360889,
          0.9974885940312251,
          0.9987861537817588,
          0.9991210079109288,
          0.9992465782093676,
          1
         ],
         "xaxis": "x",
         "y": [
          0,
          0.0009764891459475701,
          0.0032299256365958084,
          0.009464433260722603,
          0.009539547810410876,
          0.024487343198377524,
          0.02471268684744235,
          0.029369788928115377,
          0.03477803650567115,
          0.03530383835348907,
          0.03590475475099527,
          0.049650717343949526,
          0.050476977390520546,
          0.08089837001427176,
          0.08104859911364831,
          0.0811237136633366,
          0.08172463006084278,
          0.08315180650492,
          0.10380830766919552,
          0.10989258619394576,
          0.11492526102306017,
          0.11732892661308496,
          0.118981446706227,
          0.8320438668970179,
          0.8455644858409074,
          0.8457898294899722,
          0.8472921204837377,
          0.8507473897693983,
          0.8511980770675279,
          0.851723878915346,
          0.851723878915346,
          0.9762638022985052,
          0.981146248028243,
          0.9815969353263727,
          0.983324569969203,
          0.9833996845188913,
          0.9841508300157741,
          0.995342897919327,
          0.9956433561180801,
          0.9963945016149628,
          0.9964696161646511,
          0.9984977090062345,
          0.9993239690528055,
          0.9995493127018703,
          0.9996244272515586,
          1
         ],
         "yaxis": "y"
        },
        {
         "hovertemplate": "x=%{x}<br>y=%{y}<extra></extra>",
         "legendgroup": "",
         "line": {
          "color": "rgba(50,50,50,0.2)",
          "dash": "solid"
         },
         "mode": "lines",
         "name": "",
         "orientation": "v",
         "showlegend": false,
         "type": "scatter",
         "x": [
          0,
          1
         ],
         "xaxis": "x",
         "y": [
          0,
          1
         ],
         "yaxis": "y"
        }
       ],
       "layout": {
        "autosize": false,
        "height": 800,
        "template": {
         "data": {
          "bar": [
           {
            "error_x": {
             "color": "#2a3f5f"
            },
            "error_y": {
             "color": "#2a3f5f"
            },
            "marker": {
             "line": {
              "color": "#E5ECF6",
              "width": 0.5
             }
            },
            "type": "bar"
           }
          ],
          "barpolar": [
           {
            "marker": {
             "line": {
              "color": "#E5ECF6",
              "width": 0.5
             }
            },
            "type": "barpolar"
           }
          ],
          "carpet": [
           {
            "aaxis": {
             "endlinecolor": "#2a3f5f",
             "gridcolor": "white",
             "linecolor": "white",
             "minorgridcolor": "white",
             "startlinecolor": "#2a3f5f"
            },
            "baxis": {
             "endlinecolor": "#2a3f5f",
             "gridcolor": "white",
             "linecolor": "white",
             "minorgridcolor": "white",
             "startlinecolor": "#2a3f5f"
            },
            "type": "carpet"
           }
          ],
          "choropleth": [
           {
            "colorbar": {
             "outlinewidth": 0,
             "ticks": ""
            },
            "type": "choropleth"
           }
          ],
          "contour": [
           {
            "colorbar": {
             "outlinewidth": 0,
             "ticks": ""
            },
            "colorscale": [
             [
              0,
              "#0d0887"
             ],
             [
              0.1111111111111111,
              "#46039f"
             ],
             [
              0.2222222222222222,
              "#7201a8"
             ],
             [
              0.3333333333333333,
              "#9c179e"
             ],
             [
              0.4444444444444444,
              "#bd3786"
             ],
             [
              0.5555555555555556,
              "#d8576b"
             ],
             [
              0.6666666666666666,
              "#ed7953"
             ],
             [
              0.7777777777777778,
              "#fb9f3a"
             ],
             [
              0.8888888888888888,
              "#fdca26"
             ],
             [
              1,
              "#f0f921"
             ]
            ],
            "type": "contour"
           }
          ],
          "contourcarpet": [
           {
            "colorbar": {
             "outlinewidth": 0,
             "ticks": ""
            },
            "type": "contourcarpet"
           }
          ],
          "heatmap": [
           {
            "colorbar": {
             "outlinewidth": 0,
             "ticks": ""
            },
            "colorscale": [
             [
              0,
              "#0d0887"
             ],
             [
              0.1111111111111111,
              "#46039f"
             ],
             [
              0.2222222222222222,
              "#7201a8"
             ],
             [
              0.3333333333333333,
              "#9c179e"
             ],
             [
              0.4444444444444444,
              "#bd3786"
             ],
             [
              0.5555555555555556,
              "#d8576b"
             ],
             [
              0.6666666666666666,
              "#ed7953"
             ],
             [
              0.7777777777777778,
              "#fb9f3a"
             ],
             [
              0.8888888888888888,
              "#fdca26"
             ],
             [
              1,
              "#f0f921"
             ]
            ],
            "type": "heatmap"
           }
          ],
          "heatmapgl": [
           {
            "colorbar": {
             "outlinewidth": 0,
             "ticks": ""
            },
            "colorscale": [
             [
              0,
              "#0d0887"
             ],
             [
              0.1111111111111111,
              "#46039f"
             ],
             [
              0.2222222222222222,
              "#7201a8"
             ],
             [
              0.3333333333333333,
              "#9c179e"
             ],
             [
              0.4444444444444444,
              "#bd3786"
             ],
             [
              0.5555555555555556,
              "#d8576b"
             ],
             [
              0.6666666666666666,
              "#ed7953"
             ],
             [
              0.7777777777777778,
              "#fb9f3a"
             ],
             [
              0.8888888888888888,
              "#fdca26"
             ],
             [
              1,
              "#f0f921"
             ]
            ],
            "type": "heatmapgl"
           }
          ],
          "histogram": [
           {
            "marker": {
             "colorbar": {
              "outlinewidth": 0,
              "ticks": ""
             }
            },
            "type": "histogram"
           }
          ],
          "histogram2d": [
           {
            "colorbar": {
             "outlinewidth": 0,
             "ticks": ""
            },
            "colorscale": [
             [
              0,
              "#0d0887"
             ],
             [
              0.1111111111111111,
              "#46039f"
             ],
             [
              0.2222222222222222,
              "#7201a8"
             ],
             [
              0.3333333333333333,
              "#9c179e"
             ],
             [
              0.4444444444444444,
              "#bd3786"
             ],
             [
              0.5555555555555556,
              "#d8576b"
             ],
             [
              0.6666666666666666,
              "#ed7953"
             ],
             [
              0.7777777777777778,
              "#fb9f3a"
             ],
             [
              0.8888888888888888,
              "#fdca26"
             ],
             [
              1,
              "#f0f921"
             ]
            ],
            "type": "histogram2d"
           }
          ],
          "histogram2dcontour": [
           {
            "colorbar": {
             "outlinewidth": 0,
             "ticks": ""
            },
            "colorscale": [
             [
              0,
              "#0d0887"
             ],
             [
              0.1111111111111111,
              "#46039f"
             ],
             [
              0.2222222222222222,
              "#7201a8"
             ],
             [
              0.3333333333333333,
              "#9c179e"
             ],
             [
              0.4444444444444444,
              "#bd3786"
             ],
             [
              0.5555555555555556,
              "#d8576b"
             ],
             [
              0.6666666666666666,
              "#ed7953"
             ],
             [
              0.7777777777777778,
              "#fb9f3a"
             ],
             [
              0.8888888888888888,
              "#fdca26"
             ],
             [
              1,
              "#f0f921"
             ]
            ],
            "type": "histogram2dcontour"
           }
          ],
          "mesh3d": [
           {
            "colorbar": {
             "outlinewidth": 0,
             "ticks": ""
            },
            "type": "mesh3d"
           }
          ],
          "parcoords": [
           {
            "line": {
             "colorbar": {
              "outlinewidth": 0,
              "ticks": ""
             }
            },
            "type": "parcoords"
           }
          ],
          "pie": [
           {
            "automargin": true,
            "type": "pie"
           }
          ],
          "scatter": [
           {
            "marker": {
             "colorbar": {
              "outlinewidth": 0,
              "ticks": ""
             }
            },
            "type": "scatter"
           }
          ],
          "scatter3d": [
           {
            "line": {
             "colorbar": {
              "outlinewidth": 0,
              "ticks": ""
             }
            },
            "marker": {
             "colorbar": {
              "outlinewidth": 0,
              "ticks": ""
             }
            },
            "type": "scatter3d"
           }
          ],
          "scattercarpet": [
           {
            "marker": {
             "colorbar": {
              "outlinewidth": 0,
              "ticks": ""
             }
            },
            "type": "scattercarpet"
           }
          ],
          "scattergeo": [
           {
            "marker": {
             "colorbar": {
              "outlinewidth": 0,
              "ticks": ""
             }
            },
            "type": "scattergeo"
           }
          ],
          "scattergl": [
           {
            "marker": {
             "colorbar": {
              "outlinewidth": 0,
              "ticks": ""
             }
            },
            "type": "scattergl"
           }
          ],
          "scattermapbox": [
           {
            "marker": {
             "colorbar": {
              "outlinewidth": 0,
              "ticks": ""
             }
            },
            "type": "scattermapbox"
           }
          ],
          "scatterpolar": [
           {
            "marker": {
             "colorbar": {
              "outlinewidth": 0,
              "ticks": ""
             }
            },
            "type": "scatterpolar"
           }
          ],
          "scatterpolargl": [
           {
            "marker": {
             "colorbar": {
              "outlinewidth": 0,
              "ticks": ""
             }
            },
            "type": "scatterpolargl"
           }
          ],
          "scatterternary": [
           {
            "marker": {
             "colorbar": {
              "outlinewidth": 0,
              "ticks": ""
             }
            },
            "type": "scatterternary"
           }
          ],
          "surface": [
           {
            "colorbar": {
             "outlinewidth": 0,
             "ticks": ""
            },
            "colorscale": [
             [
              0,
              "#0d0887"
             ],
             [
              0.1111111111111111,
              "#46039f"
             ],
             [
              0.2222222222222222,
              "#7201a8"
             ],
             [
              0.3333333333333333,
              "#9c179e"
             ],
             [
              0.4444444444444444,
              "#bd3786"
             ],
             [
              0.5555555555555556,
              "#d8576b"
             ],
             [
              0.6666666666666666,
              "#ed7953"
             ],
             [
              0.7777777777777778,
              "#fb9f3a"
             ],
             [
              0.8888888888888888,
              "#fdca26"
             ],
             [
              1,
              "#f0f921"
             ]
            ],
            "type": "surface"
           }
          ],
          "table": [
           {
            "cells": {
             "fill": {
              "color": "#EBF0F8"
             },
             "line": {
              "color": "white"
             }
            },
            "header": {
             "fill": {
              "color": "#C8D4E3"
             },
             "line": {
              "color": "white"
             }
            },
            "type": "table"
           }
          ]
         },
         "layout": {
          "annotationdefaults": {
           "arrowcolor": "#2a3f5f",
           "arrowhead": 0,
           "arrowwidth": 1
          },
          "autotypenumbers": "strict",
          "coloraxis": {
           "colorbar": {
            "outlinewidth": 0,
            "ticks": ""
           }
          },
          "colorscale": {
           "diverging": [
            [
             0,
             "#8e0152"
            ],
            [
             0.1,
             "#c51b7d"
            ],
            [
             0.2,
             "#de77ae"
            ],
            [
             0.3,
             "#f1b6da"
            ],
            [
             0.4,
             "#fde0ef"
            ],
            [
             0.5,
             "#f7f7f7"
            ],
            [
             0.6,
             "#e6f5d0"
            ],
            [
             0.7,
             "#b8e186"
            ],
            [
             0.8,
             "#7fbc41"
            ],
            [
             0.9,
             "#4d9221"
            ],
            [
             1,
             "#276419"
            ]
           ],
           "sequential": [
            [
             0,
             "#0d0887"
            ],
            [
             0.1111111111111111,
             "#46039f"
            ],
            [
             0.2222222222222222,
             "#7201a8"
            ],
            [
             0.3333333333333333,
             "#9c179e"
            ],
            [
             0.4444444444444444,
             "#bd3786"
            ],
            [
             0.5555555555555556,
             "#d8576b"
            ],
            [
             0.6666666666666666,
             "#ed7953"
            ],
            [
             0.7777777777777778,
             "#fb9f3a"
            ],
            [
             0.8888888888888888,
             "#fdca26"
            ],
            [
             1,
             "#f0f921"
            ]
           ],
           "sequentialminus": [
            [
             0,
             "#0d0887"
            ],
            [
             0.1111111111111111,
             "#46039f"
            ],
            [
             0.2222222222222222,
             "#7201a8"
            ],
            [
             0.3333333333333333,
             "#9c179e"
            ],
            [
             0.4444444444444444,
             "#bd3786"
            ],
            [
             0.5555555555555556,
             "#d8576b"
            ],
            [
             0.6666666666666666,
             "#ed7953"
            ],
            [
             0.7777777777777778,
             "#fb9f3a"
            ],
            [
             0.8888888888888888,
             "#fdca26"
            ],
            [
             1,
             "#f0f921"
            ]
           ]
          },
          "colorway": [
           "#636efa",
           "#EF553B",
           "#00cc96",
           "#ab63fa",
           "#FFA15A",
           "#19d3f3",
           "#FF6692",
           "#B6E880",
           "#FF97FF",
           "#FECB52"
          ],
          "font": {
           "color": "#2a3f5f"
          },
          "geo": {
           "bgcolor": "white",
           "lakecolor": "white",
           "landcolor": "#E5ECF6",
           "showlakes": true,
           "showland": true,
           "subunitcolor": "white"
          },
          "hoverlabel": {
           "align": "left"
          },
          "hovermode": "closest",
          "mapbox": {
           "style": "light"
          },
          "paper_bgcolor": "white",
          "plot_bgcolor": "#E5ECF6",
          "polar": {
           "angularaxis": {
            "gridcolor": "white",
            "linecolor": "white",
            "ticks": ""
           },
           "bgcolor": "#E5ECF6",
           "radialaxis": {
            "gridcolor": "white",
            "linecolor": "white",
            "ticks": ""
           }
          },
          "scene": {
           "xaxis": {
            "backgroundcolor": "#E5ECF6",
            "gridcolor": "white",
            "gridwidth": 2,
            "linecolor": "white",
            "showbackground": true,
            "ticks": "",
            "zerolinecolor": "white"
           },
           "yaxis": {
            "backgroundcolor": "#E5ECF6",
            "gridcolor": "white",
            "gridwidth": 2,
            "linecolor": "white",
            "showbackground": true,
            "ticks": "",
            "zerolinecolor": "white"
           },
           "zaxis": {
            "backgroundcolor": "#E5ECF6",
            "gridcolor": "white",
            "gridwidth": 2,
            "linecolor": "white",
            "showbackground": true,
            "ticks": "",
            "zerolinecolor": "white"
           }
          },
          "shapedefaults": {
           "line": {
            "color": "#2a3f5f"
           }
          },
          "ternary": {
           "aaxis": {
            "gridcolor": "white",
            "linecolor": "white",
            "ticks": ""
           },
           "baxis": {
            "gridcolor": "white",
            "linecolor": "white",
            "ticks": ""
           },
           "bgcolor": "#E5ECF6",
           "caxis": {
            "gridcolor": "white",
            "linecolor": "white",
            "ticks": ""
           }
          },
          "title": {
           "x": 0.05
          },
          "xaxis": {
           "automargin": true,
           "gridcolor": "white",
           "linecolor": "white",
           "ticks": "",
           "title": {
            "standoff": 15
           },
           "zerolinecolor": "white",
           "zerolinewidth": 2
          },
          "yaxis": {
           "automargin": true,
           "gridcolor": "white",
           "linecolor": "white",
           "ticks": "",
           "title": {
            "standoff": 15
           },
           "zerolinecolor": "white",
           "zerolinewidth": 2
          }
         }
        },
        "title": {
         "text": "ROC Curve"
        },
        "width": 800,
        "xaxis": {
         "range": [
          0,
          1
         ],
         "title": {
          "text": "False Positive Rate (Sensitivty)"
         }
        },
        "yaxis": {
         "range": [
          0,
          1
         ],
         "title": {
          "text": "True Positive Rate (1-Precision)"
         }
        }
       }
      },
      "text/html": "<div>                            <div id=\"a4619412-7d91-4552-b69d-9a27d2a86b01\" class=\"plotly-graph-div\" style=\"height:800px; width:800px;\"></div>            <script type=\"text/javascript\">                require([\"plotly\"], function(Plotly) {                    window.PLOTLYENV=window.PLOTLYENV || {};                                    if (document.getElementById(\"a4619412-7d91-4552-b69d-9a27d2a86b01\")) {                    Plotly.newPlot(                        \"a4619412-7d91-4552-b69d-9a27d2a86b01\",                        [{\"hovertemplate\": \"x=%{x}<br>y=%{y}<extra></extra>\", \"legendgroup\": \"\", \"line\": {\"color\": \"#636efa\", \"dash\": \"solid\"}, \"mode\": \"lines\", \"name\": \"\", \"orientation\": \"v\", \"showlegend\": false, \"type\": \"scatter\", \"x\": [0.0, 0.0003348541291699803, 0.0016324138797036542, 0.005399522832865933, 0.005441379599012181, 0.015403289941819095, 0.015738144070989075, 0.019505253024151355, 0.023523502574191116, 0.024025783767946087, 0.024444351429408564, 0.03562010799045666, 0.03591310535348039, 0.061152735339667655, 0.0612783056381064, 0.061403875936545144, 0.06194801389644636, 0.06320371688083379, 0.0833786781633251, 0.089447909254531, 0.09493114561968942, 0.09748440835461052, 0.09903310870202169, 0.8051148968230715, 0.8193880540789419, 0.8196391946758194, 0.8213134653216693, 0.8243690092503453, 0.8246201498472228, 0.8249968607425391, 0.8250805742748315, 0.9684818550918756, 0.974467372650789, 0.9750115106106902, 0.9772299192164413, 0.9772717759825876, 0.9783181951362437, 0.9937633418442091, 0.9940144824410866, 0.995102758360889, 0.995102758360889, 0.9974885940312251, 0.9987861537817588, 0.9991210079109288, 0.9992465782093676, 1.0], \"xaxis\": \"x\", \"y\": [0.0, 0.0009764891459475701, 0.0032299256365958084, 0.009464433260722603, 0.009539547810410876, 0.024487343198377524, 0.02471268684744235, 0.029369788928115377, 0.03477803650567115, 0.03530383835348907, 0.03590475475099527, 0.049650717343949526, 0.050476977390520546, 0.08089837001427176, 0.08104859911364831, 0.0811237136633366, 0.08172463006084278, 0.08315180650492, 0.10380830766919552, 0.10989258619394576, 0.11492526102306017, 0.11732892661308496, 0.118981446706227, 0.8320438668970179, 0.8455644858409074, 0.8457898294899722, 0.8472921204837377, 0.8507473897693983, 0.8511980770675279, 0.851723878915346, 0.851723878915346, 0.9762638022985052, 0.981146248028243, 0.9815969353263727, 0.983324569969203, 0.9833996845188913, 0.9841508300157741, 0.995342897919327, 0.9956433561180801, 0.9963945016149628, 0.9964696161646511, 0.9984977090062345, 0.9993239690528055, 0.9995493127018703, 0.9996244272515586, 1.0], \"yaxis\": \"y\"}, {\"hovertemplate\": \"x=%{x}<br>y=%{y}<extra></extra>\", \"legendgroup\": \"\", \"line\": {\"color\": \"rgba(50,50,50,0.2)\", \"dash\": \"solid\"}, \"mode\": \"lines\", \"name\": \"\", \"orientation\": \"v\", \"showlegend\": false, \"type\": \"scatter\", \"x\": [0, 1], \"xaxis\": \"x\", \"y\": [0, 1], \"yaxis\": \"y\"}],                        {\"autosize\": false, \"height\": 800, \"template\": {\"data\": {\"bar\": [{\"error_x\": {\"color\": \"#2a3f5f\"}, \"error_y\": {\"color\": \"#2a3f5f\"}, \"marker\": {\"line\": {\"color\": \"#E5ECF6\", \"width\": 0.5}}, \"type\": \"bar\"}], \"barpolar\": [{\"marker\": {\"line\": {\"color\": \"#E5ECF6\", \"width\": 0.5}}, \"type\": \"barpolar\"}], \"carpet\": [{\"aaxis\": {\"endlinecolor\": \"#2a3f5f\", \"gridcolor\": \"white\", \"linecolor\": \"white\", \"minorgridcolor\": \"white\", \"startlinecolor\": \"#2a3f5f\"}, \"baxis\": {\"endlinecolor\": \"#2a3f5f\", \"gridcolor\": \"white\", \"linecolor\": \"white\", \"minorgridcolor\": \"white\", \"startlinecolor\": \"#2a3f5f\"}, \"type\": \"carpet\"}], \"choropleth\": [{\"colorbar\": {\"outlinewidth\": 0, \"ticks\": \"\"}, \"type\": \"choropleth\"}], \"contour\": [{\"colorbar\": {\"outlinewidth\": 0, \"ticks\": \"\"}, \"colorscale\": [[0.0, \"#0d0887\"], [0.1111111111111111, \"#46039f\"], [0.2222222222222222, \"#7201a8\"], [0.3333333333333333, \"#9c179e\"], [0.4444444444444444, \"#bd3786\"], [0.5555555555555556, \"#d8576b\"], [0.6666666666666666, \"#ed7953\"], [0.7777777777777778, \"#fb9f3a\"], [0.8888888888888888, \"#fdca26\"], [1.0, \"#f0f921\"]], \"type\": \"contour\"}], \"contourcarpet\": [{\"colorbar\": {\"outlinewidth\": 0, \"ticks\": \"\"}, \"type\": \"contourcarpet\"}], \"heatmap\": [{\"colorbar\": {\"outlinewidth\": 0, \"ticks\": \"\"}, \"colorscale\": [[0.0, \"#0d0887\"], [0.1111111111111111, \"#46039f\"], [0.2222222222222222, \"#7201a8\"], [0.3333333333333333, \"#9c179e\"], [0.4444444444444444, \"#bd3786\"], [0.5555555555555556, \"#d8576b\"], [0.6666666666666666, \"#ed7953\"], [0.7777777777777778, \"#fb9f3a\"], [0.8888888888888888, \"#fdca26\"], [1.0, \"#f0f921\"]], \"type\": \"heatmap\"}], \"heatmapgl\": [{\"colorbar\": {\"outlinewidth\": 0, \"ticks\": \"\"}, \"colorscale\": [[0.0, \"#0d0887\"], [0.1111111111111111, \"#46039f\"], [0.2222222222222222, \"#7201a8\"], [0.3333333333333333, \"#9c179e\"], [0.4444444444444444, \"#bd3786\"], [0.5555555555555556, \"#d8576b\"], [0.6666666666666666, \"#ed7953\"], [0.7777777777777778, \"#fb9f3a\"], [0.8888888888888888, \"#fdca26\"], [1.0, \"#f0f921\"]], \"type\": \"heatmapgl\"}], \"histogram\": [{\"marker\": {\"colorbar\": {\"outlinewidth\": 0, \"ticks\": \"\"}}, \"type\": \"histogram\"}], \"histogram2d\": [{\"colorbar\": {\"outlinewidth\": 0, \"ticks\": \"\"}, \"colorscale\": [[0.0, \"#0d0887\"], [0.1111111111111111, \"#46039f\"], [0.2222222222222222, \"#7201a8\"], [0.3333333333333333, \"#9c179e\"], [0.4444444444444444, \"#bd3786\"], [0.5555555555555556, \"#d8576b\"], [0.6666666666666666, \"#ed7953\"], [0.7777777777777778, \"#fb9f3a\"], [0.8888888888888888, \"#fdca26\"], [1.0, \"#f0f921\"]], \"type\": \"histogram2d\"}], \"histogram2dcontour\": [{\"colorbar\": {\"outlinewidth\": 0, \"ticks\": \"\"}, \"colorscale\": [[0.0, \"#0d0887\"], [0.1111111111111111, \"#46039f\"], [0.2222222222222222, \"#7201a8\"], [0.3333333333333333, \"#9c179e\"], [0.4444444444444444, \"#bd3786\"], [0.5555555555555556, \"#d8576b\"], [0.6666666666666666, \"#ed7953\"], [0.7777777777777778, \"#fb9f3a\"], [0.8888888888888888, \"#fdca26\"], [1.0, \"#f0f921\"]], \"type\": \"histogram2dcontour\"}], \"mesh3d\": [{\"colorbar\": {\"outlinewidth\": 0, \"ticks\": \"\"}, \"type\": \"mesh3d\"}], \"parcoords\": [{\"line\": {\"colorbar\": {\"outlinewidth\": 0, \"ticks\": \"\"}}, \"type\": \"parcoords\"}], \"pie\": [{\"automargin\": true, \"type\": \"pie\"}], \"scatter\": [{\"marker\": {\"colorbar\": {\"outlinewidth\": 0, \"ticks\": \"\"}}, \"type\": \"scatter\"}], \"scatter3d\": [{\"line\": {\"colorbar\": {\"outlinewidth\": 0, \"ticks\": \"\"}}, \"marker\": {\"colorbar\": {\"outlinewidth\": 0, \"ticks\": \"\"}}, \"type\": \"scatter3d\"}], \"scattercarpet\": [{\"marker\": {\"colorbar\": {\"outlinewidth\": 0, \"ticks\": \"\"}}, \"type\": \"scattercarpet\"}], \"scattergeo\": [{\"marker\": {\"colorbar\": {\"outlinewidth\": 0, \"ticks\": \"\"}}, \"type\": \"scattergeo\"}], \"scattergl\": [{\"marker\": {\"colorbar\": {\"outlinewidth\": 0, \"ticks\": \"\"}}, \"type\": \"scattergl\"}], \"scattermapbox\": [{\"marker\": {\"colorbar\": {\"outlinewidth\": 0, \"ticks\": \"\"}}, \"type\": \"scattermapbox\"}], \"scatterpolar\": [{\"marker\": {\"colorbar\": {\"outlinewidth\": 0, \"ticks\": \"\"}}, \"type\": \"scatterpolar\"}], \"scatterpolargl\": [{\"marker\": {\"colorbar\": {\"outlinewidth\": 0, \"ticks\": \"\"}}, \"type\": \"scatterpolargl\"}], \"scatterternary\": [{\"marker\": {\"colorbar\": {\"outlinewidth\": 0, \"ticks\": \"\"}}, \"type\": \"scatterternary\"}], \"surface\": [{\"colorbar\": {\"outlinewidth\": 0, \"ticks\": \"\"}, \"colorscale\": [[0.0, \"#0d0887\"], [0.1111111111111111, \"#46039f\"], [0.2222222222222222, \"#7201a8\"], [0.3333333333333333, \"#9c179e\"], [0.4444444444444444, \"#bd3786\"], [0.5555555555555556, \"#d8576b\"], [0.6666666666666666, \"#ed7953\"], [0.7777777777777778, \"#fb9f3a\"], [0.8888888888888888, \"#fdca26\"], [1.0, \"#f0f921\"]], \"type\": \"surface\"}], \"table\": [{\"cells\": {\"fill\": {\"color\": \"#EBF0F8\"}, \"line\": {\"color\": \"white\"}}, \"header\": {\"fill\": {\"color\": \"#C8D4E3\"}, \"line\": {\"color\": \"white\"}}, \"type\": \"table\"}]}, \"layout\": {\"annotationdefaults\": {\"arrowcolor\": \"#2a3f5f\", \"arrowhead\": 0, \"arrowwidth\": 1}, \"autotypenumbers\": \"strict\", \"coloraxis\": {\"colorbar\": {\"outlinewidth\": 0, \"ticks\": \"\"}}, \"colorscale\": {\"diverging\": [[0, \"#8e0152\"], [0.1, \"#c51b7d\"], [0.2, \"#de77ae\"], [0.3, \"#f1b6da\"], [0.4, \"#fde0ef\"], [0.5, \"#f7f7f7\"], [0.6, \"#e6f5d0\"], [0.7, \"#b8e186\"], [0.8, \"#7fbc41\"], [0.9, \"#4d9221\"], [1, \"#276419\"]], \"sequential\": [[0.0, \"#0d0887\"], [0.1111111111111111, \"#46039f\"], [0.2222222222222222, \"#7201a8\"], [0.3333333333333333, \"#9c179e\"], [0.4444444444444444, \"#bd3786\"], [0.5555555555555556, \"#d8576b\"], [0.6666666666666666, \"#ed7953\"], [0.7777777777777778, \"#fb9f3a\"], [0.8888888888888888, \"#fdca26\"], [1.0, \"#f0f921\"]], \"sequentialminus\": [[0.0, \"#0d0887\"], [0.1111111111111111, \"#46039f\"], [0.2222222222222222, \"#7201a8\"], [0.3333333333333333, \"#9c179e\"], [0.4444444444444444, \"#bd3786\"], [0.5555555555555556, \"#d8576b\"], [0.6666666666666666, \"#ed7953\"], [0.7777777777777778, \"#fb9f3a\"], [0.8888888888888888, \"#fdca26\"], [1.0, \"#f0f921\"]]}, \"colorway\": [\"#636efa\", \"#EF553B\", \"#00cc96\", \"#ab63fa\", \"#FFA15A\", \"#19d3f3\", \"#FF6692\", \"#B6E880\", \"#FF97FF\", \"#FECB52\"], \"font\": {\"color\": \"#2a3f5f\"}, \"geo\": {\"bgcolor\": \"white\", \"lakecolor\": \"white\", \"landcolor\": \"#E5ECF6\", \"showlakes\": true, \"showland\": true, \"subunitcolor\": \"white\"}, \"hoverlabel\": {\"align\": \"left\"}, \"hovermode\": \"closest\", \"mapbox\": {\"style\": \"light\"}, \"paper_bgcolor\": \"white\", \"plot_bgcolor\": \"#E5ECF6\", \"polar\": {\"angularaxis\": {\"gridcolor\": \"white\", \"linecolor\": \"white\", \"ticks\": \"\"}, \"bgcolor\": \"#E5ECF6\", \"radialaxis\": {\"gridcolor\": \"white\", \"linecolor\": \"white\", \"ticks\": \"\"}}, \"scene\": {\"xaxis\": {\"backgroundcolor\": \"#E5ECF6\", \"gridcolor\": \"white\", \"gridwidth\": 2, \"linecolor\": \"white\", \"showbackground\": true, \"ticks\": \"\", \"zerolinecolor\": \"white\"}, \"yaxis\": {\"backgroundcolor\": \"#E5ECF6\", \"gridcolor\": \"white\", \"gridwidth\": 2, \"linecolor\": \"white\", \"showbackground\": true, \"ticks\": \"\", \"zerolinecolor\": \"white\"}, \"zaxis\": {\"backgroundcolor\": \"#E5ECF6\", \"gridcolor\": \"white\", \"gridwidth\": 2, \"linecolor\": \"white\", \"showbackground\": true, \"ticks\": \"\", \"zerolinecolor\": \"white\"}}, \"shapedefaults\": {\"line\": {\"color\": \"#2a3f5f\"}}, \"ternary\": {\"aaxis\": {\"gridcolor\": \"white\", \"linecolor\": \"white\", \"ticks\": \"\"}, \"baxis\": {\"gridcolor\": \"white\", \"linecolor\": \"white\", \"ticks\": \"\"}, \"bgcolor\": \"#E5ECF6\", \"caxis\": {\"gridcolor\": \"white\", \"linecolor\": \"white\", \"ticks\": \"\"}}, \"title\": {\"x\": 0.05}, \"xaxis\": {\"automargin\": true, \"gridcolor\": \"white\", \"linecolor\": \"white\", \"ticks\": \"\", \"title\": {\"standoff\": 15}, \"zerolinecolor\": \"white\", \"zerolinewidth\": 2}, \"yaxis\": {\"automargin\": true, \"gridcolor\": \"white\", \"linecolor\": \"white\", \"ticks\": \"\", \"title\": {\"standoff\": 15}, \"zerolinecolor\": \"white\", \"zerolinewidth\": 2}}}, \"title\": {\"text\": \"ROC Curve\"}, \"width\": 800, \"xaxis\": {\"range\": [0, 1], \"title\": {\"text\": \"False Positive Rate (Sensitivty)\"}}, \"yaxis\": {\"range\": [0, 1], \"title\": {\"text\": \"True Positive Rate (1-Precision)\"}}},                        {\"responsive\": true}                    ).then(function(){\n                            \nvar gd = document.getElementById('a4619412-7d91-4552-b69d-9a27d2a86b01');\nvar x = new MutationObserver(function (mutations, observer) {{\n        var display = window.getComputedStyle(gd).display;\n        if (!display || display === 'none') {{\n            console.log([gd, 'removed!']);\n            Plotly.purge(gd);\n            observer.disconnect();\n        }}\n}});\n\n// Listen for the removal of the full notebook cells\nvar notebookContainer = gd.closest('#notebook-container');\nif (notebookContainer) {{\n    x.observe(notebookContainer, {childList: true});\n}}\n\n// Listen for the clearing of the current output cell\nvar outputEl = gd.closest('.output');\nif (outputEl) {{\n    x.observe(outputEl, {childList: true});\n}}\n\n                        })                };                });            </script>        </div>"
     },
     "metadata": {}
    },
    {
     "output_type": "stream",
     "name": "stdout",
     "text": [
      "AUC ROC score: 0.521\n"
     ]
    }
   ],
   "source": [
    "fig, auc = classification_tools.calc_roc(models[model], X_train, y_train)\n",
    "fig.show()\n",
    "print(\"AUC ROC score: {:.3f}\".format(auc))"
   ]
  },
  {
   "cell_type": "code",
   "execution_count": 423,
   "metadata": {},
   "outputs": [
    {
     "output_type": "display_data",
     "data": {
      "application/vnd.plotly.v1+json": {
       "config": {
        "plotlyServerURL": "https://plot.ly"
       },
       "data": [
        {
         "hovertemplate": "x=%{x}<br>y=%{y}<extra></extra>",
         "legendgroup": "",
         "line": {
          "color": "#636efa",
          "dash": "solid"
         },
         "mode": "lines",
         "name": "",
         "orientation": "v",
         "showlegend": false,
         "type": "scatter",
         "x": [
          0,
          0.0005818786367414796,
          0.0006650041562759767,
          0.0021612635078969242,
          0.007315045719035744,
          0.01778886118038238,
          0.018038237738985868,
          0.021945137157107233,
          0.025852036575228596,
          0.026433915211970076,
          0.026766417290108063,
          0.03915211970074813,
          0.0399833748960931,
          0.06916043225270158,
          0.06932668329177058,
          0.06957605985037406,
          0.07015793848711555,
          0.07165419783873649,
          0.09052369077306734,
          0.09592684954280964,
          0.10199501246882793,
          0.10465502909393183,
          0.10615128844555279,
          0.8111388196176226,
          0.8236076475477971,
          0.8256026600166251,
          0.829260182876143,
          0.8297589359933499,
          0.8298420615128844,
          0.8298420615128844,
          0.9709891936824605,
          0.9773898586866168,
          0.9775561097256857,
          0.9804655029093932,
          0.9804655029093932,
          0.9816292601828761,
          0.9945968412302577,
          0.9950955943474646,
          0.9957605985037407,
          0.9958437240232751,
          0.9984206151288445,
          0.9992518703241895,
          0.999667497921862,
          0.999833748960931,
          1
         ],
         "xaxis": "x",
         "y": [
          0,
          0.0006085501293169025,
          0.0006085501293169025,
          0.0022820629849383844,
          0.007150464019473604,
          0.022364217252396165,
          0.022820629849383843,
          0.026167655560626807,
          0.032101019321466605,
          0.03240529438612506,
          0.033165982047771186,
          0.04624980982808459,
          0.04701049748973072,
          0.07439525330899133,
          0.07439525330899133,
          0.07439525330899133,
          0.07515594097063745,
          0.07667731629392971,
          0.09934580861098433,
          0.1051270348394949,
          0.10969116080937168,
          0.1110603986003347,
          0.11319032405294387,
          0.8233683249657691,
          0.8372128404077286,
          0.8385820781986916,
          0.84284192910391,
          0.8432983417008976,
          0.8437547542978853,
          0.8439068918302145,
          0.9698767685988133,
          0.97641868248897,
          0.9768750950859577,
          0.9788528830062376,
          0.9790050205385669,
          0.9803742583295298,
          0.9931538110451849,
          0.9946751863684771,
          0.9951315989654648,
          0.9954358740301232,
          0.9969572493534155,
          0.9990871748060246,
          0.9995435874030123,
          0.9995435874030123,
          1
         ],
         "yaxis": "y"
        },
        {
         "hovertemplate": "x=%{x}<br>y=%{y}<extra></extra>",
         "legendgroup": "",
         "line": {
          "color": "rgba(50,50,50,0.2)",
          "dash": "solid"
         },
         "mode": "lines",
         "name": "",
         "orientation": "v",
         "showlegend": false,
         "type": "scatter",
         "x": [
          0,
          1
         ],
         "xaxis": "x",
         "y": [
          0,
          1
         ],
         "yaxis": "y"
        }
       ],
       "layout": {
        "autosize": false,
        "height": 800,
        "template": {
         "data": {
          "bar": [
           {
            "error_x": {
             "color": "#2a3f5f"
            },
            "error_y": {
             "color": "#2a3f5f"
            },
            "marker": {
             "line": {
              "color": "#E5ECF6",
              "width": 0.5
             }
            },
            "type": "bar"
           }
          ],
          "barpolar": [
           {
            "marker": {
             "line": {
              "color": "#E5ECF6",
              "width": 0.5
             }
            },
            "type": "barpolar"
           }
          ],
          "carpet": [
           {
            "aaxis": {
             "endlinecolor": "#2a3f5f",
             "gridcolor": "white",
             "linecolor": "white",
             "minorgridcolor": "white",
             "startlinecolor": "#2a3f5f"
            },
            "baxis": {
             "endlinecolor": "#2a3f5f",
             "gridcolor": "white",
             "linecolor": "white",
             "minorgridcolor": "white",
             "startlinecolor": "#2a3f5f"
            },
            "type": "carpet"
           }
          ],
          "choropleth": [
           {
            "colorbar": {
             "outlinewidth": 0,
             "ticks": ""
            },
            "type": "choropleth"
           }
          ],
          "contour": [
           {
            "colorbar": {
             "outlinewidth": 0,
             "ticks": ""
            },
            "colorscale": [
             [
              0,
              "#0d0887"
             ],
             [
              0.1111111111111111,
              "#46039f"
             ],
             [
              0.2222222222222222,
              "#7201a8"
             ],
             [
              0.3333333333333333,
              "#9c179e"
             ],
             [
              0.4444444444444444,
              "#bd3786"
             ],
             [
              0.5555555555555556,
              "#d8576b"
             ],
             [
              0.6666666666666666,
              "#ed7953"
             ],
             [
              0.7777777777777778,
              "#fb9f3a"
             ],
             [
              0.8888888888888888,
              "#fdca26"
             ],
             [
              1,
              "#f0f921"
             ]
            ],
            "type": "contour"
           }
          ],
          "contourcarpet": [
           {
            "colorbar": {
             "outlinewidth": 0,
             "ticks": ""
            },
            "type": "contourcarpet"
           }
          ],
          "heatmap": [
           {
            "colorbar": {
             "outlinewidth": 0,
             "ticks": ""
            },
            "colorscale": [
             [
              0,
              "#0d0887"
             ],
             [
              0.1111111111111111,
              "#46039f"
             ],
             [
              0.2222222222222222,
              "#7201a8"
             ],
             [
              0.3333333333333333,
              "#9c179e"
             ],
             [
              0.4444444444444444,
              "#bd3786"
             ],
             [
              0.5555555555555556,
              "#d8576b"
             ],
             [
              0.6666666666666666,
              "#ed7953"
             ],
             [
              0.7777777777777778,
              "#fb9f3a"
             ],
             [
              0.8888888888888888,
              "#fdca26"
             ],
             [
              1,
              "#f0f921"
             ]
            ],
            "type": "heatmap"
           }
          ],
          "heatmapgl": [
           {
            "colorbar": {
             "outlinewidth": 0,
             "ticks": ""
            },
            "colorscale": [
             [
              0,
              "#0d0887"
             ],
             [
              0.1111111111111111,
              "#46039f"
             ],
             [
              0.2222222222222222,
              "#7201a8"
             ],
             [
              0.3333333333333333,
              "#9c179e"
             ],
             [
              0.4444444444444444,
              "#bd3786"
             ],
             [
              0.5555555555555556,
              "#d8576b"
             ],
             [
              0.6666666666666666,
              "#ed7953"
             ],
             [
              0.7777777777777778,
              "#fb9f3a"
             ],
             [
              0.8888888888888888,
              "#fdca26"
             ],
             [
              1,
              "#f0f921"
             ]
            ],
            "type": "heatmapgl"
           }
          ],
          "histogram": [
           {
            "marker": {
             "colorbar": {
              "outlinewidth": 0,
              "ticks": ""
             }
            },
            "type": "histogram"
           }
          ],
          "histogram2d": [
           {
            "colorbar": {
             "outlinewidth": 0,
             "ticks": ""
            },
            "colorscale": [
             [
              0,
              "#0d0887"
             ],
             [
              0.1111111111111111,
              "#46039f"
             ],
             [
              0.2222222222222222,
              "#7201a8"
             ],
             [
              0.3333333333333333,
              "#9c179e"
             ],
             [
              0.4444444444444444,
              "#bd3786"
             ],
             [
              0.5555555555555556,
              "#d8576b"
             ],
             [
              0.6666666666666666,
              "#ed7953"
             ],
             [
              0.7777777777777778,
              "#fb9f3a"
             ],
             [
              0.8888888888888888,
              "#fdca26"
             ],
             [
              1,
              "#f0f921"
             ]
            ],
            "type": "histogram2d"
           }
          ],
          "histogram2dcontour": [
           {
            "colorbar": {
             "outlinewidth": 0,
             "ticks": ""
            },
            "colorscale": [
             [
              0,
              "#0d0887"
             ],
             [
              0.1111111111111111,
              "#46039f"
             ],
             [
              0.2222222222222222,
              "#7201a8"
             ],
             [
              0.3333333333333333,
              "#9c179e"
             ],
             [
              0.4444444444444444,
              "#bd3786"
             ],
             [
              0.5555555555555556,
              "#d8576b"
             ],
             [
              0.6666666666666666,
              "#ed7953"
             ],
             [
              0.7777777777777778,
              "#fb9f3a"
             ],
             [
              0.8888888888888888,
              "#fdca26"
             ],
             [
              1,
              "#f0f921"
             ]
            ],
            "type": "histogram2dcontour"
           }
          ],
          "mesh3d": [
           {
            "colorbar": {
             "outlinewidth": 0,
             "ticks": ""
            },
            "type": "mesh3d"
           }
          ],
          "parcoords": [
           {
            "line": {
             "colorbar": {
              "outlinewidth": 0,
              "ticks": ""
             }
            },
            "type": "parcoords"
           }
          ],
          "pie": [
           {
            "automargin": true,
            "type": "pie"
           }
          ],
          "scatter": [
           {
            "marker": {
             "colorbar": {
              "outlinewidth": 0,
              "ticks": ""
             }
            },
            "type": "scatter"
           }
          ],
          "scatter3d": [
           {
            "line": {
             "colorbar": {
              "outlinewidth": 0,
              "ticks": ""
             }
            },
            "marker": {
             "colorbar": {
              "outlinewidth": 0,
              "ticks": ""
             }
            },
            "type": "scatter3d"
           }
          ],
          "scattercarpet": [
           {
            "marker": {
             "colorbar": {
              "outlinewidth": 0,
              "ticks": ""
             }
            },
            "type": "scattercarpet"
           }
          ],
          "scattergeo": [
           {
            "marker": {
             "colorbar": {
              "outlinewidth": 0,
              "ticks": ""
             }
            },
            "type": "scattergeo"
           }
          ],
          "scattergl": [
           {
            "marker": {
             "colorbar": {
              "outlinewidth": 0,
              "ticks": ""
             }
            },
            "type": "scattergl"
           }
          ],
          "scattermapbox": [
           {
            "marker": {
             "colorbar": {
              "outlinewidth": 0,
              "ticks": ""
             }
            },
            "type": "scattermapbox"
           }
          ],
          "scatterpolar": [
           {
            "marker": {
             "colorbar": {
              "outlinewidth": 0,
              "ticks": ""
             }
            },
            "type": "scatterpolar"
           }
          ],
          "scatterpolargl": [
           {
            "marker": {
             "colorbar": {
              "outlinewidth": 0,
              "ticks": ""
             }
            },
            "type": "scatterpolargl"
           }
          ],
          "scatterternary": [
           {
            "marker": {
             "colorbar": {
              "outlinewidth": 0,
              "ticks": ""
             }
            },
            "type": "scatterternary"
           }
          ],
          "surface": [
           {
            "colorbar": {
             "outlinewidth": 0,
             "ticks": ""
            },
            "colorscale": [
             [
              0,
              "#0d0887"
             ],
             [
              0.1111111111111111,
              "#46039f"
             ],
             [
              0.2222222222222222,
              "#7201a8"
             ],
             [
              0.3333333333333333,
              "#9c179e"
             ],
             [
              0.4444444444444444,
              "#bd3786"
             ],
             [
              0.5555555555555556,
              "#d8576b"
             ],
             [
              0.6666666666666666,
              "#ed7953"
             ],
             [
              0.7777777777777778,
              "#fb9f3a"
             ],
             [
              0.8888888888888888,
              "#fdca26"
             ],
             [
              1,
              "#f0f921"
             ]
            ],
            "type": "surface"
           }
          ],
          "table": [
           {
            "cells": {
             "fill": {
              "color": "#EBF0F8"
             },
             "line": {
              "color": "white"
             }
            },
            "header": {
             "fill": {
              "color": "#C8D4E3"
             },
             "line": {
              "color": "white"
             }
            },
            "type": "table"
           }
          ]
         },
         "layout": {
          "annotationdefaults": {
           "arrowcolor": "#2a3f5f",
           "arrowhead": 0,
           "arrowwidth": 1
          },
          "autotypenumbers": "strict",
          "coloraxis": {
           "colorbar": {
            "outlinewidth": 0,
            "ticks": ""
           }
          },
          "colorscale": {
           "diverging": [
            [
             0,
             "#8e0152"
            ],
            [
             0.1,
             "#c51b7d"
            ],
            [
             0.2,
             "#de77ae"
            ],
            [
             0.3,
             "#f1b6da"
            ],
            [
             0.4,
             "#fde0ef"
            ],
            [
             0.5,
             "#f7f7f7"
            ],
            [
             0.6,
             "#e6f5d0"
            ],
            [
             0.7,
             "#b8e186"
            ],
            [
             0.8,
             "#7fbc41"
            ],
            [
             0.9,
             "#4d9221"
            ],
            [
             1,
             "#276419"
            ]
           ],
           "sequential": [
            [
             0,
             "#0d0887"
            ],
            [
             0.1111111111111111,
             "#46039f"
            ],
            [
             0.2222222222222222,
             "#7201a8"
            ],
            [
             0.3333333333333333,
             "#9c179e"
            ],
            [
             0.4444444444444444,
             "#bd3786"
            ],
            [
             0.5555555555555556,
             "#d8576b"
            ],
            [
             0.6666666666666666,
             "#ed7953"
            ],
            [
             0.7777777777777778,
             "#fb9f3a"
            ],
            [
             0.8888888888888888,
             "#fdca26"
            ],
            [
             1,
             "#f0f921"
            ]
           ],
           "sequentialminus": [
            [
             0,
             "#0d0887"
            ],
            [
             0.1111111111111111,
             "#46039f"
            ],
            [
             0.2222222222222222,
             "#7201a8"
            ],
            [
             0.3333333333333333,
             "#9c179e"
            ],
            [
             0.4444444444444444,
             "#bd3786"
            ],
            [
             0.5555555555555556,
             "#d8576b"
            ],
            [
             0.6666666666666666,
             "#ed7953"
            ],
            [
             0.7777777777777778,
             "#fb9f3a"
            ],
            [
             0.8888888888888888,
             "#fdca26"
            ],
            [
             1,
             "#f0f921"
            ]
           ]
          },
          "colorway": [
           "#636efa",
           "#EF553B",
           "#00cc96",
           "#ab63fa",
           "#FFA15A",
           "#19d3f3",
           "#FF6692",
           "#B6E880",
           "#FF97FF",
           "#FECB52"
          ],
          "font": {
           "color": "#2a3f5f"
          },
          "geo": {
           "bgcolor": "white",
           "lakecolor": "white",
           "landcolor": "#E5ECF6",
           "showlakes": true,
           "showland": true,
           "subunitcolor": "white"
          },
          "hoverlabel": {
           "align": "left"
          },
          "hovermode": "closest",
          "mapbox": {
           "style": "light"
          },
          "paper_bgcolor": "white",
          "plot_bgcolor": "#E5ECF6",
          "polar": {
           "angularaxis": {
            "gridcolor": "white",
            "linecolor": "white",
            "ticks": ""
           },
           "bgcolor": "#E5ECF6",
           "radialaxis": {
            "gridcolor": "white",
            "linecolor": "white",
            "ticks": ""
           }
          },
          "scene": {
           "xaxis": {
            "backgroundcolor": "#E5ECF6",
            "gridcolor": "white",
            "gridwidth": 2,
            "linecolor": "white",
            "showbackground": true,
            "ticks": "",
            "zerolinecolor": "white"
           },
           "yaxis": {
            "backgroundcolor": "#E5ECF6",
            "gridcolor": "white",
            "gridwidth": 2,
            "linecolor": "white",
            "showbackground": true,
            "ticks": "",
            "zerolinecolor": "white"
           },
           "zaxis": {
            "backgroundcolor": "#E5ECF6",
            "gridcolor": "white",
            "gridwidth": 2,
            "linecolor": "white",
            "showbackground": true,
            "ticks": "",
            "zerolinecolor": "white"
           }
          },
          "shapedefaults": {
           "line": {
            "color": "#2a3f5f"
           }
          },
          "ternary": {
           "aaxis": {
            "gridcolor": "white",
            "linecolor": "white",
            "ticks": ""
           },
           "baxis": {
            "gridcolor": "white",
            "linecolor": "white",
            "ticks": ""
           },
           "bgcolor": "#E5ECF6",
           "caxis": {
            "gridcolor": "white",
            "linecolor": "white",
            "ticks": ""
           }
          },
          "title": {
           "x": 0.05
          },
          "xaxis": {
           "automargin": true,
           "gridcolor": "white",
           "linecolor": "white",
           "ticks": "",
           "title": {
            "standoff": 15
           },
           "zerolinecolor": "white",
           "zerolinewidth": 2
          },
          "yaxis": {
           "automargin": true,
           "gridcolor": "white",
           "linecolor": "white",
           "ticks": "",
           "title": {
            "standoff": 15
           },
           "zerolinecolor": "white",
           "zerolinewidth": 2
          }
         }
        },
        "title": {
         "text": "ROC Curve"
        },
        "width": 800,
        "xaxis": {
         "range": [
          0,
          1
         ],
         "title": {
          "text": "False Positive Rate (Sensitivty)"
         }
        },
        "yaxis": {
         "range": [
          0,
          1
         ],
         "title": {
          "text": "True Positive Rate (1-Precision)"
         }
        }
       }
      },
      "text/html": "<div>                            <div id=\"4ad4dff1-ef65-473b-a0db-ceed72c90c6e\" class=\"plotly-graph-div\" style=\"height:800px; width:800px;\"></div>            <script type=\"text/javascript\">                require([\"plotly\"], function(Plotly) {                    window.PLOTLYENV=window.PLOTLYENV || {};                                    if (document.getElementById(\"4ad4dff1-ef65-473b-a0db-ceed72c90c6e\")) {                    Plotly.newPlot(                        \"4ad4dff1-ef65-473b-a0db-ceed72c90c6e\",                        [{\"hovertemplate\": \"x=%{x}<br>y=%{y}<extra></extra>\", \"legendgroup\": \"\", \"line\": {\"color\": \"#636efa\", \"dash\": \"solid\"}, \"mode\": \"lines\", \"name\": \"\", \"orientation\": \"v\", \"showlegend\": false, \"type\": \"scatter\", \"x\": [0.0, 0.0005818786367414796, 0.0006650041562759767, 0.0021612635078969242, 0.007315045719035744, 0.01778886118038238, 0.018038237738985868, 0.021945137157107233, 0.025852036575228596, 0.026433915211970076, 0.026766417290108063, 0.03915211970074813, 0.0399833748960931, 0.06916043225270158, 0.06932668329177058, 0.06957605985037406, 0.07015793848711555, 0.07165419783873649, 0.09052369077306734, 0.09592684954280964, 0.10199501246882793, 0.10465502909393183, 0.10615128844555279, 0.8111388196176226, 0.8236076475477971, 0.8256026600166251, 0.829260182876143, 0.8297589359933499, 0.8298420615128844, 0.8298420615128844, 0.9709891936824605, 0.9773898586866168, 0.9775561097256857, 0.9804655029093932, 0.9804655029093932, 0.9816292601828761, 0.9945968412302577, 0.9950955943474646, 0.9957605985037407, 0.9958437240232751, 0.9984206151288445, 0.9992518703241895, 0.999667497921862, 0.999833748960931, 1.0], \"xaxis\": \"x\", \"y\": [0.0, 0.0006085501293169025, 0.0006085501293169025, 0.0022820629849383844, 0.007150464019473604, 0.022364217252396165, 0.022820629849383843, 0.026167655560626807, 0.032101019321466605, 0.03240529438612506, 0.033165982047771186, 0.04624980982808459, 0.04701049748973072, 0.07439525330899133, 0.07439525330899133, 0.07439525330899133, 0.07515594097063745, 0.07667731629392971, 0.09934580861098433, 0.1051270348394949, 0.10969116080937168, 0.1110603986003347, 0.11319032405294387, 0.8233683249657691, 0.8372128404077286, 0.8385820781986916, 0.84284192910391, 0.8432983417008976, 0.8437547542978853, 0.8439068918302145, 0.9698767685988133, 0.97641868248897, 0.9768750950859577, 0.9788528830062376, 0.9790050205385669, 0.9803742583295298, 0.9931538110451849, 0.9946751863684771, 0.9951315989654648, 0.9954358740301232, 0.9969572493534155, 0.9990871748060246, 0.9995435874030123, 0.9995435874030123, 1.0], \"yaxis\": \"y\"}, {\"hovertemplate\": \"x=%{x}<br>y=%{y}<extra></extra>\", \"legendgroup\": \"\", \"line\": {\"color\": \"rgba(50,50,50,0.2)\", \"dash\": \"solid\"}, \"mode\": \"lines\", \"name\": \"\", \"orientation\": \"v\", \"showlegend\": false, \"type\": \"scatter\", \"x\": [0, 1], \"xaxis\": \"x\", \"y\": [0, 1], \"yaxis\": \"y\"}],                        {\"autosize\": false, \"height\": 800, \"template\": {\"data\": {\"bar\": [{\"error_x\": {\"color\": \"#2a3f5f\"}, \"error_y\": {\"color\": \"#2a3f5f\"}, \"marker\": {\"line\": {\"color\": \"#E5ECF6\", \"width\": 0.5}}, \"type\": \"bar\"}], \"barpolar\": [{\"marker\": {\"line\": {\"color\": \"#E5ECF6\", \"width\": 0.5}}, \"type\": \"barpolar\"}], \"carpet\": [{\"aaxis\": {\"endlinecolor\": \"#2a3f5f\", \"gridcolor\": \"white\", \"linecolor\": \"white\", \"minorgridcolor\": \"white\", \"startlinecolor\": \"#2a3f5f\"}, \"baxis\": {\"endlinecolor\": \"#2a3f5f\", \"gridcolor\": \"white\", \"linecolor\": \"white\", \"minorgridcolor\": \"white\", \"startlinecolor\": \"#2a3f5f\"}, \"type\": \"carpet\"}], \"choropleth\": [{\"colorbar\": {\"outlinewidth\": 0, \"ticks\": \"\"}, \"type\": \"choropleth\"}], \"contour\": [{\"colorbar\": {\"outlinewidth\": 0, \"ticks\": \"\"}, \"colorscale\": [[0.0, \"#0d0887\"], [0.1111111111111111, \"#46039f\"], [0.2222222222222222, \"#7201a8\"], [0.3333333333333333, \"#9c179e\"], [0.4444444444444444, \"#bd3786\"], [0.5555555555555556, \"#d8576b\"], [0.6666666666666666, \"#ed7953\"], [0.7777777777777778, \"#fb9f3a\"], [0.8888888888888888, \"#fdca26\"], [1.0, \"#f0f921\"]], \"type\": \"contour\"}], \"contourcarpet\": [{\"colorbar\": {\"outlinewidth\": 0, \"ticks\": \"\"}, \"type\": \"contourcarpet\"}], \"heatmap\": [{\"colorbar\": {\"outlinewidth\": 0, \"ticks\": \"\"}, \"colorscale\": [[0.0, \"#0d0887\"], [0.1111111111111111, \"#46039f\"], [0.2222222222222222, \"#7201a8\"], [0.3333333333333333, \"#9c179e\"], [0.4444444444444444, \"#bd3786\"], [0.5555555555555556, \"#d8576b\"], [0.6666666666666666, \"#ed7953\"], [0.7777777777777778, \"#fb9f3a\"], [0.8888888888888888, \"#fdca26\"], [1.0, \"#f0f921\"]], \"type\": \"heatmap\"}], \"heatmapgl\": [{\"colorbar\": {\"outlinewidth\": 0, \"ticks\": \"\"}, \"colorscale\": [[0.0, \"#0d0887\"], [0.1111111111111111, \"#46039f\"], [0.2222222222222222, \"#7201a8\"], [0.3333333333333333, \"#9c179e\"], [0.4444444444444444, \"#bd3786\"], [0.5555555555555556, \"#d8576b\"], [0.6666666666666666, \"#ed7953\"], [0.7777777777777778, \"#fb9f3a\"], [0.8888888888888888, \"#fdca26\"], [1.0, \"#f0f921\"]], \"type\": \"heatmapgl\"}], \"histogram\": [{\"marker\": {\"colorbar\": {\"outlinewidth\": 0, \"ticks\": \"\"}}, \"type\": \"histogram\"}], \"histogram2d\": [{\"colorbar\": {\"outlinewidth\": 0, \"ticks\": \"\"}, \"colorscale\": [[0.0, \"#0d0887\"], [0.1111111111111111, \"#46039f\"], [0.2222222222222222, \"#7201a8\"], [0.3333333333333333, \"#9c179e\"], [0.4444444444444444, \"#bd3786\"], [0.5555555555555556, \"#d8576b\"], [0.6666666666666666, \"#ed7953\"], [0.7777777777777778, \"#fb9f3a\"], [0.8888888888888888, \"#fdca26\"], [1.0, \"#f0f921\"]], \"type\": \"histogram2d\"}], \"histogram2dcontour\": [{\"colorbar\": {\"outlinewidth\": 0, \"ticks\": \"\"}, \"colorscale\": [[0.0, \"#0d0887\"], [0.1111111111111111, \"#46039f\"], [0.2222222222222222, \"#7201a8\"], [0.3333333333333333, \"#9c179e\"], [0.4444444444444444, \"#bd3786\"], [0.5555555555555556, \"#d8576b\"], [0.6666666666666666, \"#ed7953\"], [0.7777777777777778, \"#fb9f3a\"], [0.8888888888888888, \"#fdca26\"], [1.0, \"#f0f921\"]], \"type\": \"histogram2dcontour\"}], \"mesh3d\": [{\"colorbar\": {\"outlinewidth\": 0, \"ticks\": \"\"}, \"type\": \"mesh3d\"}], \"parcoords\": [{\"line\": {\"colorbar\": {\"outlinewidth\": 0, \"ticks\": \"\"}}, \"type\": \"parcoords\"}], \"pie\": [{\"automargin\": true, \"type\": \"pie\"}], \"scatter\": [{\"marker\": {\"colorbar\": {\"outlinewidth\": 0, \"ticks\": \"\"}}, \"type\": \"scatter\"}], \"scatter3d\": [{\"line\": {\"colorbar\": {\"outlinewidth\": 0, \"ticks\": \"\"}}, \"marker\": {\"colorbar\": {\"outlinewidth\": 0, \"ticks\": \"\"}}, \"type\": \"scatter3d\"}], \"scattercarpet\": [{\"marker\": {\"colorbar\": {\"outlinewidth\": 0, \"ticks\": \"\"}}, \"type\": \"scattercarpet\"}], \"scattergeo\": [{\"marker\": {\"colorbar\": {\"outlinewidth\": 0, \"ticks\": \"\"}}, \"type\": \"scattergeo\"}], \"scattergl\": [{\"marker\": {\"colorbar\": {\"outlinewidth\": 0, \"ticks\": \"\"}}, \"type\": \"scattergl\"}], \"scattermapbox\": [{\"marker\": {\"colorbar\": {\"outlinewidth\": 0, \"ticks\": \"\"}}, \"type\": \"scattermapbox\"}], \"scatterpolar\": [{\"marker\": {\"colorbar\": {\"outlinewidth\": 0, \"ticks\": \"\"}}, \"type\": \"scatterpolar\"}], \"scatterpolargl\": [{\"marker\": {\"colorbar\": {\"outlinewidth\": 0, \"ticks\": \"\"}}, \"type\": \"scatterpolargl\"}], \"scatterternary\": [{\"marker\": {\"colorbar\": {\"outlinewidth\": 0, \"ticks\": \"\"}}, \"type\": \"scatterternary\"}], \"surface\": [{\"colorbar\": {\"outlinewidth\": 0, \"ticks\": \"\"}, \"colorscale\": [[0.0, \"#0d0887\"], [0.1111111111111111, \"#46039f\"], [0.2222222222222222, \"#7201a8\"], [0.3333333333333333, \"#9c179e\"], [0.4444444444444444, \"#bd3786\"], [0.5555555555555556, \"#d8576b\"], [0.6666666666666666, \"#ed7953\"], [0.7777777777777778, \"#fb9f3a\"], [0.8888888888888888, \"#fdca26\"], [1.0, \"#f0f921\"]], \"type\": \"surface\"}], \"table\": [{\"cells\": {\"fill\": {\"color\": \"#EBF0F8\"}, \"line\": {\"color\": \"white\"}}, \"header\": {\"fill\": {\"color\": \"#C8D4E3\"}, \"line\": {\"color\": \"white\"}}, \"type\": \"table\"}]}, \"layout\": {\"annotationdefaults\": {\"arrowcolor\": \"#2a3f5f\", \"arrowhead\": 0, \"arrowwidth\": 1}, \"autotypenumbers\": \"strict\", \"coloraxis\": {\"colorbar\": {\"outlinewidth\": 0, \"ticks\": \"\"}}, \"colorscale\": {\"diverging\": [[0, \"#8e0152\"], [0.1, \"#c51b7d\"], [0.2, \"#de77ae\"], [0.3, \"#f1b6da\"], [0.4, \"#fde0ef\"], [0.5, \"#f7f7f7\"], [0.6, \"#e6f5d0\"], [0.7, \"#b8e186\"], [0.8, \"#7fbc41\"], [0.9, \"#4d9221\"], [1, \"#276419\"]], \"sequential\": [[0.0, \"#0d0887\"], [0.1111111111111111, \"#46039f\"], [0.2222222222222222, \"#7201a8\"], [0.3333333333333333, \"#9c179e\"], [0.4444444444444444, \"#bd3786\"], [0.5555555555555556, \"#d8576b\"], [0.6666666666666666, \"#ed7953\"], [0.7777777777777778, \"#fb9f3a\"], [0.8888888888888888, \"#fdca26\"], [1.0, \"#f0f921\"]], \"sequentialminus\": [[0.0, \"#0d0887\"], [0.1111111111111111, \"#46039f\"], [0.2222222222222222, \"#7201a8\"], [0.3333333333333333, \"#9c179e\"], [0.4444444444444444, \"#bd3786\"], [0.5555555555555556, \"#d8576b\"], [0.6666666666666666, \"#ed7953\"], [0.7777777777777778, \"#fb9f3a\"], [0.8888888888888888, \"#fdca26\"], [1.0, \"#f0f921\"]]}, \"colorway\": [\"#636efa\", \"#EF553B\", \"#00cc96\", \"#ab63fa\", \"#FFA15A\", \"#19d3f3\", \"#FF6692\", \"#B6E880\", \"#FF97FF\", \"#FECB52\"], \"font\": {\"color\": \"#2a3f5f\"}, \"geo\": {\"bgcolor\": \"white\", \"lakecolor\": \"white\", \"landcolor\": \"#E5ECF6\", \"showlakes\": true, \"showland\": true, \"subunitcolor\": \"white\"}, \"hoverlabel\": {\"align\": \"left\"}, \"hovermode\": \"closest\", \"mapbox\": {\"style\": \"light\"}, \"paper_bgcolor\": \"white\", \"plot_bgcolor\": \"#E5ECF6\", \"polar\": {\"angularaxis\": {\"gridcolor\": \"white\", \"linecolor\": \"white\", \"ticks\": \"\"}, \"bgcolor\": \"#E5ECF6\", \"radialaxis\": {\"gridcolor\": \"white\", \"linecolor\": \"white\", \"ticks\": \"\"}}, \"scene\": {\"xaxis\": {\"backgroundcolor\": \"#E5ECF6\", \"gridcolor\": \"white\", \"gridwidth\": 2, \"linecolor\": \"white\", \"showbackground\": true, \"ticks\": \"\", \"zerolinecolor\": \"white\"}, \"yaxis\": {\"backgroundcolor\": \"#E5ECF6\", \"gridcolor\": \"white\", \"gridwidth\": 2, \"linecolor\": \"white\", \"showbackground\": true, \"ticks\": \"\", \"zerolinecolor\": \"white\"}, \"zaxis\": {\"backgroundcolor\": \"#E5ECF6\", \"gridcolor\": \"white\", \"gridwidth\": 2, \"linecolor\": \"white\", \"showbackground\": true, \"ticks\": \"\", \"zerolinecolor\": \"white\"}}, \"shapedefaults\": {\"line\": {\"color\": \"#2a3f5f\"}}, \"ternary\": {\"aaxis\": {\"gridcolor\": \"white\", \"linecolor\": \"white\", \"ticks\": \"\"}, \"baxis\": {\"gridcolor\": \"white\", \"linecolor\": \"white\", \"ticks\": \"\"}, \"bgcolor\": \"#E5ECF6\", \"caxis\": {\"gridcolor\": \"white\", \"linecolor\": \"white\", \"ticks\": \"\"}}, \"title\": {\"x\": 0.05}, \"xaxis\": {\"automargin\": true, \"gridcolor\": \"white\", \"linecolor\": \"white\", \"ticks\": \"\", \"title\": {\"standoff\": 15}, \"zerolinecolor\": \"white\", \"zerolinewidth\": 2}, \"yaxis\": {\"automargin\": true, \"gridcolor\": \"white\", \"linecolor\": \"white\", \"ticks\": \"\", \"title\": {\"standoff\": 15}, \"zerolinecolor\": \"white\", \"zerolinewidth\": 2}}}, \"title\": {\"text\": \"ROC Curve\"}, \"width\": 800, \"xaxis\": {\"range\": [0, 1], \"title\": {\"text\": \"False Positive Rate (Sensitivty)\"}}, \"yaxis\": {\"range\": [0, 1], \"title\": {\"text\": \"True Positive Rate (1-Precision)\"}}},                        {\"responsive\": true}                    ).then(function(){\n                            \nvar gd = document.getElementById('4ad4dff1-ef65-473b-a0db-ceed72c90c6e');\nvar x = new MutationObserver(function (mutations, observer) {{\n        var display = window.getComputedStyle(gd).display;\n        if (!display || display === 'none') {{\n            console.log([gd, 'removed!']);\n            Plotly.purge(gd);\n            observer.disconnect();\n        }}\n}});\n\n// Listen for the removal of the full notebook cells\nvar notebookContainer = gd.closest('#notebook-container');\nif (notebookContainer) {{\n    x.observe(notebookContainer, {childList: true});\n}}\n\n// Listen for the clearing of the current output cell\nvar outputEl = gd.closest('.output');\nif (outputEl) {{\n    x.observe(outputEl, {childList: true});\n}}\n\n                        })                };                });            </script>        </div>"
     },
     "metadata": {}
    },
    {
     "output_type": "stream",
     "name": "stdout",
     "text": [
      "AUC ROC score: 0.509\n"
     ]
    }
   ],
   "source": [
    "fig, auc = classification_tools.calc_roc(models[model], X_val, y_val)\n",
    "fig.show()\n",
    "print(\"AUC ROC score: {:.3f}\".format(auc))"
   ]
  },
  {
   "cell_type": "code",
   "execution_count": 424,
   "metadata": {},
   "outputs": [
    {
     "output_type": "stream",
     "name": "stdout",
     "text": [
      "-1.01e+00: Nominal Ethnicity_Pakistani, Pakistani Scottish, Pakistani British \n 7.60e-01: Nominal Ethnicity_Bangladeshi, Bangladeshi Scottish, Bangladeshi British\n-7.38e-01: Nominal Ethnicity_White Northen Ireland\n-6.40e-01: Nominal Ethnicity_White Gypsy/Traveller\n-5.76e-01: Nominal Ethnicity_Not Provided / Unknown\n-5.24e-01: Nominal Ethnicity_Other Caribbean or Black\n-4.91e-01: Nominal Ethnicity_Caribbean, Caribbean Scottish, Caribbean British\n-4.77e-01: Nominal Ethnicity_Any Mixed Ethnic group\n-3.75e-01: Nominal Ethnicity_Indian, Indian Scottish, Indian British\n-3.57e-01: Nominal Ethnicity_White Other\n-2.88e-01: Nominal Ethnicity_White Scottish\n-2.78e-01: Nominal Ethnicity_Other African\n-2.76e-01: Nominal Ethnicity_White Irish\n 2.61e-01: Nominal Ethnicity_Arab, Arab Scottish, Arab British\n-2.57e-01: Nominal Ethnicity_Black, Black Scottish, Black British\n-2.40e-01: Nominal Ethnicity_White English\n-2.21e-01: Nominal Ethnicity_Chinese, Chinese Scottish, Chinese British\n 1.65e-01: Nominal Ethnicity_Other Asian\n 1.39e-01: Nominal Gender_Male\n-1.30e-01: Nominal Ethnicity_White British\n 1.01e-01: Nominal Ethnicity_Pakistani, Pakistani Scottish, Pakistani British\n-8.33e-02: Nominal Ethnicity_White Polish\n-6.13e-02: Nominal Ethnicity_White Welsh\n 1.86e-02: Nominal Ethnicity_Other Ethnic Group\n"
     ]
    }
   ],
   "source": [
    "coefficients = classification_tools.get_feature_weights(cols, models[model])"
   ]
  },
  {
   "source": [
    "AUC score is about the same, but the ROC graph is now consistently above the baseline of 0.5 and is less sensitive to threshold choice. This model should generally perform more consistently against real data.\n",
    "\n",
    "What about Gender and Ethnicity Independently?"
   ],
   "cell_type": "markdown",
   "metadata": {}
  },
  {
   "cell_type": "code",
   "execution_count": 425,
   "metadata": {},
   "outputs": [
    {
     "output_type": "stream",
     "name": "stdout",
     "text": [
      "Training score: 0.642\nValidation Score:0.646\n"
     ]
    },
    {
     "output_type": "display_data",
     "data": {
      "application/vnd.plotly.v1+json": {
       "config": {
        "plotlyServerURL": "https://plot.ly"
       },
       "data": [
        {
         "hovertemplate": "x=%{x}<br>y=%{y}<extra></extra>",
         "legendgroup": "",
         "line": {
          "color": "#636efa",
          "dash": "solid"
         },
         "mode": "lines",
         "name": "",
         "orientation": "v",
         "showlegend": false,
         "type": "scatter",
         "x": [
          0,
          0.0006650041562759767,
          0.0021612635078969242,
          0.007564422277639235,
          0.018620116375727348,
          0.023358270989193682,
          0.02743142144638404,
          0.02801330008312552,
          0.041895261845386535,
          0.0771404821280133,
          0.07772236076475478,
          0.1002493765586035,
          0.10615128844555279,
          0.10764754779717373,
          0.11039068994181214,
          0.956525353283458,
          0.97190357439734,
          0.9738985868661679,
          0.9807980049875312,
          0.9809642560266002,
          0.9822111388196176,
          0.9977556109725686,
          0.998836242726517,
          0.999833748960931,
          1
         ],
         "xaxis": "x",
         "y": [
          0,
          0.0006085501293169025,
          0.0022820629849383844,
          0.007606876616461281,
          0.023124904914042295,
          0.027232618286931385,
          0.033165982047771186,
          0.033926669709417316,
          0.04853187281302297,
          0.08048075460216035,
          0.08124144226380649,
          0.10816978548607942,
          0.11440742431157766,
          0.11668948729651606,
          0.11851513768446675,
          0.9546630153658907,
          0.9704853187281303,
          0.9720066940514225,
          0.9800699832648715,
          0.9805263958618591,
          0.9821999087174806,
          0.9965008367564279,
          0.9974136619504032,
          0.9995435874030123,
          1
         ],
         "yaxis": "y"
        },
        {
         "hovertemplate": "x=%{x}<br>y=%{y}<extra></extra>",
         "legendgroup": "",
         "line": {
          "color": "rgba(50,50,50,0.2)",
          "dash": "solid"
         },
         "mode": "lines",
         "name": "",
         "orientation": "v",
         "showlegend": false,
         "type": "scatter",
         "x": [
          0,
          1
         ],
         "xaxis": "x",
         "y": [
          0,
          1
         ],
         "yaxis": "y"
        }
       ],
       "layout": {
        "autosize": false,
        "height": 800,
        "template": {
         "data": {
          "bar": [
           {
            "error_x": {
             "color": "#2a3f5f"
            },
            "error_y": {
             "color": "#2a3f5f"
            },
            "marker": {
             "line": {
              "color": "#E5ECF6",
              "width": 0.5
             }
            },
            "type": "bar"
           }
          ],
          "barpolar": [
           {
            "marker": {
             "line": {
              "color": "#E5ECF6",
              "width": 0.5
             }
            },
            "type": "barpolar"
           }
          ],
          "carpet": [
           {
            "aaxis": {
             "endlinecolor": "#2a3f5f",
             "gridcolor": "white",
             "linecolor": "white",
             "minorgridcolor": "white",
             "startlinecolor": "#2a3f5f"
            },
            "baxis": {
             "endlinecolor": "#2a3f5f",
             "gridcolor": "white",
             "linecolor": "white",
             "minorgridcolor": "white",
             "startlinecolor": "#2a3f5f"
            },
            "type": "carpet"
           }
          ],
          "choropleth": [
           {
            "colorbar": {
             "outlinewidth": 0,
             "ticks": ""
            },
            "type": "choropleth"
           }
          ],
          "contour": [
           {
            "colorbar": {
             "outlinewidth": 0,
             "ticks": ""
            },
            "colorscale": [
             [
              0,
              "#0d0887"
             ],
             [
              0.1111111111111111,
              "#46039f"
             ],
             [
              0.2222222222222222,
              "#7201a8"
             ],
             [
              0.3333333333333333,
              "#9c179e"
             ],
             [
              0.4444444444444444,
              "#bd3786"
             ],
             [
              0.5555555555555556,
              "#d8576b"
             ],
             [
              0.6666666666666666,
              "#ed7953"
             ],
             [
              0.7777777777777778,
              "#fb9f3a"
             ],
             [
              0.8888888888888888,
              "#fdca26"
             ],
             [
              1,
              "#f0f921"
             ]
            ],
            "type": "contour"
           }
          ],
          "contourcarpet": [
           {
            "colorbar": {
             "outlinewidth": 0,
             "ticks": ""
            },
            "type": "contourcarpet"
           }
          ],
          "heatmap": [
           {
            "colorbar": {
             "outlinewidth": 0,
             "ticks": ""
            },
            "colorscale": [
             [
              0,
              "#0d0887"
             ],
             [
              0.1111111111111111,
              "#46039f"
             ],
             [
              0.2222222222222222,
              "#7201a8"
             ],
             [
              0.3333333333333333,
              "#9c179e"
             ],
             [
              0.4444444444444444,
              "#bd3786"
             ],
             [
              0.5555555555555556,
              "#d8576b"
             ],
             [
              0.6666666666666666,
              "#ed7953"
             ],
             [
              0.7777777777777778,
              "#fb9f3a"
             ],
             [
              0.8888888888888888,
              "#fdca26"
             ],
             [
              1,
              "#f0f921"
             ]
            ],
            "type": "heatmap"
           }
          ],
          "heatmapgl": [
           {
            "colorbar": {
             "outlinewidth": 0,
             "ticks": ""
            },
            "colorscale": [
             [
              0,
              "#0d0887"
             ],
             [
              0.1111111111111111,
              "#46039f"
             ],
             [
              0.2222222222222222,
              "#7201a8"
             ],
             [
              0.3333333333333333,
              "#9c179e"
             ],
             [
              0.4444444444444444,
              "#bd3786"
             ],
             [
              0.5555555555555556,
              "#d8576b"
             ],
             [
              0.6666666666666666,
              "#ed7953"
             ],
             [
              0.7777777777777778,
              "#fb9f3a"
             ],
             [
              0.8888888888888888,
              "#fdca26"
             ],
             [
              1,
              "#f0f921"
             ]
            ],
            "type": "heatmapgl"
           }
          ],
          "histogram": [
           {
            "marker": {
             "colorbar": {
              "outlinewidth": 0,
              "ticks": ""
             }
            },
            "type": "histogram"
           }
          ],
          "histogram2d": [
           {
            "colorbar": {
             "outlinewidth": 0,
             "ticks": ""
            },
            "colorscale": [
             [
              0,
              "#0d0887"
             ],
             [
              0.1111111111111111,
              "#46039f"
             ],
             [
              0.2222222222222222,
              "#7201a8"
             ],
             [
              0.3333333333333333,
              "#9c179e"
             ],
             [
              0.4444444444444444,
              "#bd3786"
             ],
             [
              0.5555555555555556,
              "#d8576b"
             ],
             [
              0.6666666666666666,
              "#ed7953"
             ],
             [
              0.7777777777777778,
              "#fb9f3a"
             ],
             [
              0.8888888888888888,
              "#fdca26"
             ],
             [
              1,
              "#f0f921"
             ]
            ],
            "type": "histogram2d"
           }
          ],
          "histogram2dcontour": [
           {
            "colorbar": {
             "outlinewidth": 0,
             "ticks": ""
            },
            "colorscale": [
             [
              0,
              "#0d0887"
             ],
             [
              0.1111111111111111,
              "#46039f"
             ],
             [
              0.2222222222222222,
              "#7201a8"
             ],
             [
              0.3333333333333333,
              "#9c179e"
             ],
             [
              0.4444444444444444,
              "#bd3786"
             ],
             [
              0.5555555555555556,
              "#d8576b"
             ],
             [
              0.6666666666666666,
              "#ed7953"
             ],
             [
              0.7777777777777778,
              "#fb9f3a"
             ],
             [
              0.8888888888888888,
              "#fdca26"
             ],
             [
              1,
              "#f0f921"
             ]
            ],
            "type": "histogram2dcontour"
           }
          ],
          "mesh3d": [
           {
            "colorbar": {
             "outlinewidth": 0,
             "ticks": ""
            },
            "type": "mesh3d"
           }
          ],
          "parcoords": [
           {
            "line": {
             "colorbar": {
              "outlinewidth": 0,
              "ticks": ""
             }
            },
            "type": "parcoords"
           }
          ],
          "pie": [
           {
            "automargin": true,
            "type": "pie"
           }
          ],
          "scatter": [
           {
            "marker": {
             "colorbar": {
              "outlinewidth": 0,
              "ticks": ""
             }
            },
            "type": "scatter"
           }
          ],
          "scatter3d": [
           {
            "line": {
             "colorbar": {
              "outlinewidth": 0,
              "ticks": ""
             }
            },
            "marker": {
             "colorbar": {
              "outlinewidth": 0,
              "ticks": ""
             }
            },
            "type": "scatter3d"
           }
          ],
          "scattercarpet": [
           {
            "marker": {
             "colorbar": {
              "outlinewidth": 0,
              "ticks": ""
             }
            },
            "type": "scattercarpet"
           }
          ],
          "scattergeo": [
           {
            "marker": {
             "colorbar": {
              "outlinewidth": 0,
              "ticks": ""
             }
            },
            "type": "scattergeo"
           }
          ],
          "scattergl": [
           {
            "marker": {
             "colorbar": {
              "outlinewidth": 0,
              "ticks": ""
             }
            },
            "type": "scattergl"
           }
          ],
          "scattermapbox": [
           {
            "marker": {
             "colorbar": {
              "outlinewidth": 0,
              "ticks": ""
             }
            },
            "type": "scattermapbox"
           }
          ],
          "scatterpolar": [
           {
            "marker": {
             "colorbar": {
              "outlinewidth": 0,
              "ticks": ""
             }
            },
            "type": "scatterpolar"
           }
          ],
          "scatterpolargl": [
           {
            "marker": {
             "colorbar": {
              "outlinewidth": 0,
              "ticks": ""
             }
            },
            "type": "scatterpolargl"
           }
          ],
          "scatterternary": [
           {
            "marker": {
             "colorbar": {
              "outlinewidth": 0,
              "ticks": ""
             }
            },
            "type": "scatterternary"
           }
          ],
          "surface": [
           {
            "colorbar": {
             "outlinewidth": 0,
             "ticks": ""
            },
            "colorscale": [
             [
              0,
              "#0d0887"
             ],
             [
              0.1111111111111111,
              "#46039f"
             ],
             [
              0.2222222222222222,
              "#7201a8"
             ],
             [
              0.3333333333333333,
              "#9c179e"
             ],
             [
              0.4444444444444444,
              "#bd3786"
             ],
             [
              0.5555555555555556,
              "#d8576b"
             ],
             [
              0.6666666666666666,
              "#ed7953"
             ],
             [
              0.7777777777777778,
              "#fb9f3a"
             ],
             [
              0.8888888888888888,
              "#fdca26"
             ],
             [
              1,
              "#f0f921"
             ]
            ],
            "type": "surface"
           }
          ],
          "table": [
           {
            "cells": {
             "fill": {
              "color": "#EBF0F8"
             },
             "line": {
              "color": "white"
             }
            },
            "header": {
             "fill": {
              "color": "#C8D4E3"
             },
             "line": {
              "color": "white"
             }
            },
            "type": "table"
           }
          ]
         },
         "layout": {
          "annotationdefaults": {
           "arrowcolor": "#2a3f5f",
           "arrowhead": 0,
           "arrowwidth": 1
          },
          "autotypenumbers": "strict",
          "coloraxis": {
           "colorbar": {
            "outlinewidth": 0,
            "ticks": ""
           }
          },
          "colorscale": {
           "diverging": [
            [
             0,
             "#8e0152"
            ],
            [
             0.1,
             "#c51b7d"
            ],
            [
             0.2,
             "#de77ae"
            ],
            [
             0.3,
             "#f1b6da"
            ],
            [
             0.4,
             "#fde0ef"
            ],
            [
             0.5,
             "#f7f7f7"
            ],
            [
             0.6,
             "#e6f5d0"
            ],
            [
             0.7,
             "#b8e186"
            ],
            [
             0.8,
             "#7fbc41"
            ],
            [
             0.9,
             "#4d9221"
            ],
            [
             1,
             "#276419"
            ]
           ],
           "sequential": [
            [
             0,
             "#0d0887"
            ],
            [
             0.1111111111111111,
             "#46039f"
            ],
            [
             0.2222222222222222,
             "#7201a8"
            ],
            [
             0.3333333333333333,
             "#9c179e"
            ],
            [
             0.4444444444444444,
             "#bd3786"
            ],
            [
             0.5555555555555556,
             "#d8576b"
            ],
            [
             0.6666666666666666,
             "#ed7953"
            ],
            [
             0.7777777777777778,
             "#fb9f3a"
            ],
            [
             0.8888888888888888,
             "#fdca26"
            ],
            [
             1,
             "#f0f921"
            ]
           ],
           "sequentialminus": [
            [
             0,
             "#0d0887"
            ],
            [
             0.1111111111111111,
             "#46039f"
            ],
            [
             0.2222222222222222,
             "#7201a8"
            ],
            [
             0.3333333333333333,
             "#9c179e"
            ],
            [
             0.4444444444444444,
             "#bd3786"
            ],
            [
             0.5555555555555556,
             "#d8576b"
            ],
            [
             0.6666666666666666,
             "#ed7953"
            ],
            [
             0.7777777777777778,
             "#fb9f3a"
            ],
            [
             0.8888888888888888,
             "#fdca26"
            ],
            [
             1,
             "#f0f921"
            ]
           ]
          },
          "colorway": [
           "#636efa",
           "#EF553B",
           "#00cc96",
           "#ab63fa",
           "#FFA15A",
           "#19d3f3",
           "#FF6692",
           "#B6E880",
           "#FF97FF",
           "#FECB52"
          ],
          "font": {
           "color": "#2a3f5f"
          },
          "geo": {
           "bgcolor": "white",
           "lakecolor": "white",
           "landcolor": "#E5ECF6",
           "showlakes": true,
           "showland": true,
           "subunitcolor": "white"
          },
          "hoverlabel": {
           "align": "left"
          },
          "hovermode": "closest",
          "mapbox": {
           "style": "light"
          },
          "paper_bgcolor": "white",
          "plot_bgcolor": "#E5ECF6",
          "polar": {
           "angularaxis": {
            "gridcolor": "white",
            "linecolor": "white",
            "ticks": ""
           },
           "bgcolor": "#E5ECF6",
           "radialaxis": {
            "gridcolor": "white",
            "linecolor": "white",
            "ticks": ""
           }
          },
          "scene": {
           "xaxis": {
            "backgroundcolor": "#E5ECF6",
            "gridcolor": "white",
            "gridwidth": 2,
            "linecolor": "white",
            "showbackground": true,
            "ticks": "",
            "zerolinecolor": "white"
           },
           "yaxis": {
            "backgroundcolor": "#E5ECF6",
            "gridcolor": "white",
            "gridwidth": 2,
            "linecolor": "white",
            "showbackground": true,
            "ticks": "",
            "zerolinecolor": "white"
           },
           "zaxis": {
            "backgroundcolor": "#E5ECF6",
            "gridcolor": "white",
            "gridwidth": 2,
            "linecolor": "white",
            "showbackground": true,
            "ticks": "",
            "zerolinecolor": "white"
           }
          },
          "shapedefaults": {
           "line": {
            "color": "#2a3f5f"
           }
          },
          "ternary": {
           "aaxis": {
            "gridcolor": "white",
            "linecolor": "white",
            "ticks": ""
           },
           "baxis": {
            "gridcolor": "white",
            "linecolor": "white",
            "ticks": ""
           },
           "bgcolor": "#E5ECF6",
           "caxis": {
            "gridcolor": "white",
            "linecolor": "white",
            "ticks": ""
           }
          },
          "title": {
           "x": 0.05
          },
          "xaxis": {
           "automargin": true,
           "gridcolor": "white",
           "linecolor": "white",
           "ticks": "",
           "title": {
            "standoff": 15
           },
           "zerolinecolor": "white",
           "zerolinewidth": 2
          },
          "yaxis": {
           "automargin": true,
           "gridcolor": "white",
           "linecolor": "white",
           "ticks": "",
           "title": {
            "standoff": 15
           },
           "zerolinecolor": "white",
           "zerolinewidth": 2
          }
         }
        },
        "title": {
         "text": "ROC Curve"
        },
        "width": 800,
        "xaxis": {
         "range": [
          0,
          1
         ],
         "title": {
          "text": "False Positive Rate (Sensitivty)"
         }
        },
        "yaxis": {
         "range": [
          0,
          1
         ],
         "title": {
          "text": "True Positive Rate (1-Precision)"
         }
        }
       }
      },
      "text/html": "<div>                            <div id=\"1a93d816-5d29-44dc-9ea2-a4be32f3f5b2\" class=\"plotly-graph-div\" style=\"height:800px; width:800px;\"></div>            <script type=\"text/javascript\">                require([\"plotly\"], function(Plotly) {                    window.PLOTLYENV=window.PLOTLYENV || {};                                    if (document.getElementById(\"1a93d816-5d29-44dc-9ea2-a4be32f3f5b2\")) {                    Plotly.newPlot(                        \"1a93d816-5d29-44dc-9ea2-a4be32f3f5b2\",                        [{\"hovertemplate\": \"x=%{x}<br>y=%{y}<extra></extra>\", \"legendgroup\": \"\", \"line\": {\"color\": \"#636efa\", \"dash\": \"solid\"}, \"mode\": \"lines\", \"name\": \"\", \"orientation\": \"v\", \"showlegend\": false, \"type\": \"scatter\", \"x\": [0.0, 0.0006650041562759767, 0.0021612635078969242, 0.007564422277639235, 0.018620116375727348, 0.023358270989193682, 0.02743142144638404, 0.02801330008312552, 0.041895261845386535, 0.0771404821280133, 0.07772236076475478, 0.1002493765586035, 0.10615128844555279, 0.10764754779717373, 0.11039068994181214, 0.956525353283458, 0.97190357439734, 0.9738985868661679, 0.9807980049875312, 0.9809642560266002, 0.9822111388196176, 0.9977556109725686, 0.998836242726517, 0.999833748960931, 1.0], \"xaxis\": \"x\", \"y\": [0.0, 0.0006085501293169025, 0.0022820629849383844, 0.007606876616461281, 0.023124904914042295, 0.027232618286931385, 0.033165982047771186, 0.033926669709417316, 0.04853187281302297, 0.08048075460216035, 0.08124144226380649, 0.10816978548607942, 0.11440742431157766, 0.11668948729651606, 0.11851513768446675, 0.9546630153658907, 0.9704853187281303, 0.9720066940514225, 0.9800699832648715, 0.9805263958618591, 0.9821999087174806, 0.9965008367564279, 0.9974136619504032, 0.9995435874030123, 1.0], \"yaxis\": \"y\"}, {\"hovertemplate\": \"x=%{x}<br>y=%{y}<extra></extra>\", \"legendgroup\": \"\", \"line\": {\"color\": \"rgba(50,50,50,0.2)\", \"dash\": \"solid\"}, \"mode\": \"lines\", \"name\": \"\", \"orientation\": \"v\", \"showlegend\": false, \"type\": \"scatter\", \"x\": [0, 1], \"xaxis\": \"x\", \"y\": [0, 1], \"yaxis\": \"y\"}],                        {\"autosize\": false, \"height\": 800, \"template\": {\"data\": {\"bar\": [{\"error_x\": {\"color\": \"#2a3f5f\"}, \"error_y\": {\"color\": \"#2a3f5f\"}, \"marker\": {\"line\": {\"color\": \"#E5ECF6\", \"width\": 0.5}}, \"type\": \"bar\"}], \"barpolar\": [{\"marker\": {\"line\": {\"color\": \"#E5ECF6\", \"width\": 0.5}}, \"type\": \"barpolar\"}], \"carpet\": [{\"aaxis\": {\"endlinecolor\": \"#2a3f5f\", \"gridcolor\": \"white\", \"linecolor\": \"white\", \"minorgridcolor\": \"white\", \"startlinecolor\": \"#2a3f5f\"}, \"baxis\": {\"endlinecolor\": \"#2a3f5f\", \"gridcolor\": \"white\", \"linecolor\": \"white\", \"minorgridcolor\": \"white\", \"startlinecolor\": \"#2a3f5f\"}, \"type\": \"carpet\"}], \"choropleth\": [{\"colorbar\": {\"outlinewidth\": 0, \"ticks\": \"\"}, \"type\": \"choropleth\"}], \"contour\": [{\"colorbar\": {\"outlinewidth\": 0, \"ticks\": \"\"}, \"colorscale\": [[0.0, \"#0d0887\"], [0.1111111111111111, \"#46039f\"], [0.2222222222222222, \"#7201a8\"], [0.3333333333333333, \"#9c179e\"], [0.4444444444444444, \"#bd3786\"], [0.5555555555555556, \"#d8576b\"], [0.6666666666666666, \"#ed7953\"], [0.7777777777777778, \"#fb9f3a\"], [0.8888888888888888, \"#fdca26\"], [1.0, \"#f0f921\"]], \"type\": \"contour\"}], \"contourcarpet\": [{\"colorbar\": {\"outlinewidth\": 0, \"ticks\": \"\"}, \"type\": \"contourcarpet\"}], \"heatmap\": [{\"colorbar\": {\"outlinewidth\": 0, \"ticks\": \"\"}, \"colorscale\": [[0.0, \"#0d0887\"], [0.1111111111111111, \"#46039f\"], [0.2222222222222222, \"#7201a8\"], [0.3333333333333333, \"#9c179e\"], [0.4444444444444444, \"#bd3786\"], [0.5555555555555556, \"#d8576b\"], [0.6666666666666666, \"#ed7953\"], [0.7777777777777778, \"#fb9f3a\"], [0.8888888888888888, \"#fdca26\"], [1.0, \"#f0f921\"]], \"type\": \"heatmap\"}], \"heatmapgl\": [{\"colorbar\": {\"outlinewidth\": 0, \"ticks\": \"\"}, \"colorscale\": [[0.0, \"#0d0887\"], [0.1111111111111111, \"#46039f\"], [0.2222222222222222, \"#7201a8\"], [0.3333333333333333, \"#9c179e\"], [0.4444444444444444, \"#bd3786\"], [0.5555555555555556, \"#d8576b\"], [0.6666666666666666, \"#ed7953\"], [0.7777777777777778, \"#fb9f3a\"], [0.8888888888888888, \"#fdca26\"], [1.0, \"#f0f921\"]], \"type\": \"heatmapgl\"}], \"histogram\": [{\"marker\": {\"colorbar\": {\"outlinewidth\": 0, \"ticks\": \"\"}}, \"type\": \"histogram\"}], \"histogram2d\": [{\"colorbar\": {\"outlinewidth\": 0, \"ticks\": \"\"}, \"colorscale\": [[0.0, \"#0d0887\"], [0.1111111111111111, \"#46039f\"], [0.2222222222222222, \"#7201a8\"], [0.3333333333333333, \"#9c179e\"], [0.4444444444444444, \"#bd3786\"], [0.5555555555555556, \"#d8576b\"], [0.6666666666666666, \"#ed7953\"], [0.7777777777777778, \"#fb9f3a\"], [0.8888888888888888, \"#fdca26\"], [1.0, \"#f0f921\"]], \"type\": \"histogram2d\"}], \"histogram2dcontour\": [{\"colorbar\": {\"outlinewidth\": 0, \"ticks\": \"\"}, \"colorscale\": [[0.0, \"#0d0887\"], [0.1111111111111111, \"#46039f\"], [0.2222222222222222, \"#7201a8\"], [0.3333333333333333, \"#9c179e\"], [0.4444444444444444, \"#bd3786\"], [0.5555555555555556, \"#d8576b\"], [0.6666666666666666, \"#ed7953\"], [0.7777777777777778, \"#fb9f3a\"], [0.8888888888888888, \"#fdca26\"], [1.0, \"#f0f921\"]], \"type\": \"histogram2dcontour\"}], \"mesh3d\": [{\"colorbar\": {\"outlinewidth\": 0, \"ticks\": \"\"}, \"type\": \"mesh3d\"}], \"parcoords\": [{\"line\": {\"colorbar\": {\"outlinewidth\": 0, \"ticks\": \"\"}}, \"type\": \"parcoords\"}], \"pie\": [{\"automargin\": true, \"type\": \"pie\"}], \"scatter\": [{\"marker\": {\"colorbar\": {\"outlinewidth\": 0, \"ticks\": \"\"}}, \"type\": \"scatter\"}], \"scatter3d\": [{\"line\": {\"colorbar\": {\"outlinewidth\": 0, \"ticks\": \"\"}}, \"marker\": {\"colorbar\": {\"outlinewidth\": 0, \"ticks\": \"\"}}, \"type\": \"scatter3d\"}], \"scattercarpet\": [{\"marker\": {\"colorbar\": {\"outlinewidth\": 0, \"ticks\": \"\"}}, \"type\": \"scattercarpet\"}], \"scattergeo\": [{\"marker\": {\"colorbar\": {\"outlinewidth\": 0, \"ticks\": \"\"}}, \"type\": \"scattergeo\"}], \"scattergl\": [{\"marker\": {\"colorbar\": {\"outlinewidth\": 0, \"ticks\": \"\"}}, \"type\": \"scattergl\"}], \"scattermapbox\": [{\"marker\": {\"colorbar\": {\"outlinewidth\": 0, \"ticks\": \"\"}}, \"type\": \"scattermapbox\"}], \"scatterpolar\": [{\"marker\": {\"colorbar\": {\"outlinewidth\": 0, \"ticks\": \"\"}}, \"type\": \"scatterpolar\"}], \"scatterpolargl\": [{\"marker\": {\"colorbar\": {\"outlinewidth\": 0, \"ticks\": \"\"}}, \"type\": \"scatterpolargl\"}], \"scatterternary\": [{\"marker\": {\"colorbar\": {\"outlinewidth\": 0, \"ticks\": \"\"}}, \"type\": \"scatterternary\"}], \"surface\": [{\"colorbar\": {\"outlinewidth\": 0, \"ticks\": \"\"}, \"colorscale\": [[0.0, \"#0d0887\"], [0.1111111111111111, \"#46039f\"], [0.2222222222222222, \"#7201a8\"], [0.3333333333333333, \"#9c179e\"], [0.4444444444444444, \"#bd3786\"], [0.5555555555555556, \"#d8576b\"], [0.6666666666666666, \"#ed7953\"], [0.7777777777777778, \"#fb9f3a\"], [0.8888888888888888, \"#fdca26\"], [1.0, \"#f0f921\"]], \"type\": \"surface\"}], \"table\": [{\"cells\": {\"fill\": {\"color\": \"#EBF0F8\"}, \"line\": {\"color\": \"white\"}}, \"header\": {\"fill\": {\"color\": \"#C8D4E3\"}, \"line\": {\"color\": \"white\"}}, \"type\": \"table\"}]}, \"layout\": {\"annotationdefaults\": {\"arrowcolor\": \"#2a3f5f\", \"arrowhead\": 0, \"arrowwidth\": 1}, \"autotypenumbers\": \"strict\", \"coloraxis\": {\"colorbar\": {\"outlinewidth\": 0, \"ticks\": \"\"}}, \"colorscale\": {\"diverging\": [[0, \"#8e0152\"], [0.1, \"#c51b7d\"], [0.2, \"#de77ae\"], [0.3, \"#f1b6da\"], [0.4, \"#fde0ef\"], [0.5, \"#f7f7f7\"], [0.6, \"#e6f5d0\"], [0.7, \"#b8e186\"], [0.8, \"#7fbc41\"], [0.9, \"#4d9221\"], [1, \"#276419\"]], \"sequential\": [[0.0, \"#0d0887\"], [0.1111111111111111, \"#46039f\"], [0.2222222222222222, \"#7201a8\"], [0.3333333333333333, \"#9c179e\"], [0.4444444444444444, \"#bd3786\"], [0.5555555555555556, \"#d8576b\"], [0.6666666666666666, \"#ed7953\"], [0.7777777777777778, \"#fb9f3a\"], [0.8888888888888888, \"#fdca26\"], [1.0, \"#f0f921\"]], \"sequentialminus\": [[0.0, \"#0d0887\"], [0.1111111111111111, \"#46039f\"], [0.2222222222222222, \"#7201a8\"], [0.3333333333333333, \"#9c179e\"], [0.4444444444444444, \"#bd3786\"], [0.5555555555555556, \"#d8576b\"], [0.6666666666666666, \"#ed7953\"], [0.7777777777777778, \"#fb9f3a\"], [0.8888888888888888, \"#fdca26\"], [1.0, \"#f0f921\"]]}, \"colorway\": [\"#636efa\", \"#EF553B\", \"#00cc96\", \"#ab63fa\", \"#FFA15A\", \"#19d3f3\", \"#FF6692\", \"#B6E880\", \"#FF97FF\", \"#FECB52\"], \"font\": {\"color\": \"#2a3f5f\"}, \"geo\": {\"bgcolor\": \"white\", \"lakecolor\": \"white\", \"landcolor\": \"#E5ECF6\", \"showlakes\": true, \"showland\": true, \"subunitcolor\": \"white\"}, \"hoverlabel\": {\"align\": \"left\"}, \"hovermode\": \"closest\", \"mapbox\": {\"style\": \"light\"}, \"paper_bgcolor\": \"white\", \"plot_bgcolor\": \"#E5ECF6\", \"polar\": {\"angularaxis\": {\"gridcolor\": \"white\", \"linecolor\": \"white\", \"ticks\": \"\"}, \"bgcolor\": \"#E5ECF6\", \"radialaxis\": {\"gridcolor\": \"white\", \"linecolor\": \"white\", \"ticks\": \"\"}}, \"scene\": {\"xaxis\": {\"backgroundcolor\": \"#E5ECF6\", \"gridcolor\": \"white\", \"gridwidth\": 2, \"linecolor\": \"white\", \"showbackground\": true, \"ticks\": \"\", \"zerolinecolor\": \"white\"}, \"yaxis\": {\"backgroundcolor\": \"#E5ECF6\", \"gridcolor\": \"white\", \"gridwidth\": 2, \"linecolor\": \"white\", \"showbackground\": true, \"ticks\": \"\", \"zerolinecolor\": \"white\"}, \"zaxis\": {\"backgroundcolor\": \"#E5ECF6\", \"gridcolor\": \"white\", \"gridwidth\": 2, \"linecolor\": \"white\", \"showbackground\": true, \"ticks\": \"\", \"zerolinecolor\": \"white\"}}, \"shapedefaults\": {\"line\": {\"color\": \"#2a3f5f\"}}, \"ternary\": {\"aaxis\": {\"gridcolor\": \"white\", \"linecolor\": \"white\", \"ticks\": \"\"}, \"baxis\": {\"gridcolor\": \"white\", \"linecolor\": \"white\", \"ticks\": \"\"}, \"bgcolor\": \"#E5ECF6\", \"caxis\": {\"gridcolor\": \"white\", \"linecolor\": \"white\", \"ticks\": \"\"}}, \"title\": {\"x\": 0.05}, \"xaxis\": {\"automargin\": true, \"gridcolor\": \"white\", \"linecolor\": \"white\", \"ticks\": \"\", \"title\": {\"standoff\": 15}, \"zerolinecolor\": \"white\", \"zerolinewidth\": 2}, \"yaxis\": {\"automargin\": true, \"gridcolor\": \"white\", \"linecolor\": \"white\", \"ticks\": \"\", \"title\": {\"standoff\": 15}, \"zerolinecolor\": \"white\", \"zerolinewidth\": 2}}}, \"title\": {\"text\": \"ROC Curve\"}, \"width\": 800, \"xaxis\": {\"range\": [0, 1], \"title\": {\"text\": \"False Positive Rate (Sensitivty)\"}}, \"yaxis\": {\"range\": [0, 1], \"title\": {\"text\": \"True Positive Rate (1-Precision)\"}}},                        {\"responsive\": true}                    ).then(function(){\n                            \nvar gd = document.getElementById('1a93d816-5d29-44dc-9ea2-a4be32f3f5b2');\nvar x = new MutationObserver(function (mutations, observer) {{\n        var display = window.getComputedStyle(gd).display;\n        if (!display || display === 'none') {{\n            console.log([gd, 'removed!']);\n            Plotly.purge(gd);\n            observer.disconnect();\n        }}\n}});\n\n// Listen for the removal of the full notebook cells\nvar notebookContainer = gd.closest('#notebook-container');\nif (notebookContainer) {{\n    x.observe(notebookContainer, {childList: true});\n}}\n\n// Listen for the clearing of the current output cell\nvar outputEl = gd.closest('.output');\nif (outputEl) {{\n    x.observe(outputEl, {childList: true});\n}}\n\n                        })                };                });            </script>        </div>"
     },
     "metadata": {}
    },
    {
     "output_type": "stream",
     "name": "stdout",
     "text": [
      "AUC ROC score: 0.503\nCoefficents:\n-9.99e-01: Nominal Ethnicity_Pakistani, Pakistani Scottish, Pakistani British \n 7.73e-01: Nominal Ethnicity_Bangladeshi, Bangladeshi Scottish, Bangladeshi British\n-7.48e-01: Nominal Ethnicity_White Northen Ireland\n-6.67e-01: Nominal Ethnicity_White Gypsy/Traveller\n-5.92e-01: Nominal Ethnicity_Not Provided / Unknown\n-5.27e-01: Nominal Ethnicity_Other Caribbean or Black\n-4.85e-01: Nominal Ethnicity_Caribbean, Caribbean Scottish, Caribbean British\n-4.79e-01: Nominal Ethnicity_Any Mixed Ethnic group\n-3.74e-01: Nominal Ethnicity_Indian, Indian Scottish, Indian British\n-3.72e-01: Nominal Ethnicity_White Other\n-3.08e-01: Nominal Ethnicity_White Scottish\n-2.93e-01: Nominal Ethnicity_White Irish\n-2.79e-01: Nominal Ethnicity_Other African\n-2.60e-01: Nominal Ethnicity_Black, Black Scottish, Black British\n 2.58e-01: Nominal Ethnicity_Arab, Arab Scottish, Arab British\n-2.56e-01: Nominal Ethnicity_White English\n-2.54e-01: Nominal Ethnicity_Chinese, Chinese Scottish, Chinese British\n 1.60e-01: Nominal Ethnicity_Other Asian\n-1.50e-01: Nominal Ethnicity_White British\n 9.68e-02: Nominal Ethnicity_Pakistani, Pakistani Scottish, Pakistani British\n-9.43e-02: Nominal Ethnicity_White Polish\n-7.80e-02: Nominal Ethnicity_White Welsh\n 7.57e-03: Nominal Ethnicity_Other Ethnic Group\n"
     ]
    }
   ],
   "source": [
    "cols = X_train_init.columns[X_train_init.columns.str.contains(\"Nominal Ethnicity.*\", regex=True)].to_list()\n",
    "X_train = X_train_init[cols]\n",
    "X_val = X_val_init[cols]\n",
    "\n",
    "from sklearn.linear_model import LogisticRegression\n",
    "\n",
    "models = {}\n",
    "\n",
    "model=\"Ethnicity\"\n",
    "\n",
    "models[model] = LogisticRegression(\n",
    "    penalty=\"none\"\n",
    "    )\n",
    "\n",
    "models[model].fit(X_train, y_train)\n",
    "\n",
    "print(\"Training score: {:.3f}\\nValidation Score:{:.3f}\".format(models[model].score(X_train, y_train), models[model].score(X_val, y_val)))\n",
    "\n",
    "fig, auc = classification_tools.calc_roc(models[model], X_val, y_val)\n",
    "fig.show()\n",
    "print(\"AUC ROC score: {:.3f}\".format(auc))\n",
    "\n",
    "print(\"Coefficents:\")\n",
    "coefficients = classification_tools.get_feature_weights(cols, models[model])"
   ]
  },
  {
   "cell_type": "code",
   "execution_count": 426,
   "metadata": {},
   "outputs": [
    {
     "output_type": "stream",
     "name": "stdout",
     "text": [
      "Training score: 0.642\nValidation Score:0.647\n"
     ]
    },
    {
     "output_type": "display_data",
     "data": {
      "application/vnd.plotly.v1+json": {
       "config": {
        "plotlyServerURL": "https://plot.ly"
       },
       "data": [
        {
         "hovertemplate": "x=%{x}<br>y=%{y}<extra></extra>",
         "legendgroup": "",
         "line": {
          "color": "#636efa",
          "dash": "solid"
         },
         "mode": "lines",
         "name": "",
         "orientation": "v",
         "showlegend": false,
         "type": "scatter",
         "x": [
          0,
          0.8382377389858686,
          1
         ],
         "xaxis": "x",
         "y": [
          0,
          0.8551650692225772,
          1
         ],
         "yaxis": "y"
        },
        {
         "hovertemplate": "x=%{x}<br>y=%{y}<extra></extra>",
         "legendgroup": "",
         "line": {
          "color": "rgba(50,50,50,0.2)",
          "dash": "solid"
         },
         "mode": "lines",
         "name": "",
         "orientation": "v",
         "showlegend": false,
         "type": "scatter",
         "x": [
          0,
          1
         ],
         "xaxis": "x",
         "y": [
          0,
          1
         ],
         "yaxis": "y"
        }
       ],
       "layout": {
        "autosize": false,
        "height": 800,
        "template": {
         "data": {
          "bar": [
           {
            "error_x": {
             "color": "#2a3f5f"
            },
            "error_y": {
             "color": "#2a3f5f"
            },
            "marker": {
             "line": {
              "color": "#E5ECF6",
              "width": 0.5
             }
            },
            "type": "bar"
           }
          ],
          "barpolar": [
           {
            "marker": {
             "line": {
              "color": "#E5ECF6",
              "width": 0.5
             }
            },
            "type": "barpolar"
           }
          ],
          "carpet": [
           {
            "aaxis": {
             "endlinecolor": "#2a3f5f",
             "gridcolor": "white",
             "linecolor": "white",
             "minorgridcolor": "white",
             "startlinecolor": "#2a3f5f"
            },
            "baxis": {
             "endlinecolor": "#2a3f5f",
             "gridcolor": "white",
             "linecolor": "white",
             "minorgridcolor": "white",
             "startlinecolor": "#2a3f5f"
            },
            "type": "carpet"
           }
          ],
          "choropleth": [
           {
            "colorbar": {
             "outlinewidth": 0,
             "ticks": ""
            },
            "type": "choropleth"
           }
          ],
          "contour": [
           {
            "colorbar": {
             "outlinewidth": 0,
             "ticks": ""
            },
            "colorscale": [
             [
              0,
              "#0d0887"
             ],
             [
              0.1111111111111111,
              "#46039f"
             ],
             [
              0.2222222222222222,
              "#7201a8"
             ],
             [
              0.3333333333333333,
              "#9c179e"
             ],
             [
              0.4444444444444444,
              "#bd3786"
             ],
             [
              0.5555555555555556,
              "#d8576b"
             ],
             [
              0.6666666666666666,
              "#ed7953"
             ],
             [
              0.7777777777777778,
              "#fb9f3a"
             ],
             [
              0.8888888888888888,
              "#fdca26"
             ],
             [
              1,
              "#f0f921"
             ]
            ],
            "type": "contour"
           }
          ],
          "contourcarpet": [
           {
            "colorbar": {
             "outlinewidth": 0,
             "ticks": ""
            },
            "type": "contourcarpet"
           }
          ],
          "heatmap": [
           {
            "colorbar": {
             "outlinewidth": 0,
             "ticks": ""
            },
            "colorscale": [
             [
              0,
              "#0d0887"
             ],
             [
              0.1111111111111111,
              "#46039f"
             ],
             [
              0.2222222222222222,
              "#7201a8"
             ],
             [
              0.3333333333333333,
              "#9c179e"
             ],
             [
              0.4444444444444444,
              "#bd3786"
             ],
             [
              0.5555555555555556,
              "#d8576b"
             ],
             [
              0.6666666666666666,
              "#ed7953"
             ],
             [
              0.7777777777777778,
              "#fb9f3a"
             ],
             [
              0.8888888888888888,
              "#fdca26"
             ],
             [
              1,
              "#f0f921"
             ]
            ],
            "type": "heatmap"
           }
          ],
          "heatmapgl": [
           {
            "colorbar": {
             "outlinewidth": 0,
             "ticks": ""
            },
            "colorscale": [
             [
              0,
              "#0d0887"
             ],
             [
              0.1111111111111111,
              "#46039f"
             ],
             [
              0.2222222222222222,
              "#7201a8"
             ],
             [
              0.3333333333333333,
              "#9c179e"
             ],
             [
              0.4444444444444444,
              "#bd3786"
             ],
             [
              0.5555555555555556,
              "#d8576b"
             ],
             [
              0.6666666666666666,
              "#ed7953"
             ],
             [
              0.7777777777777778,
              "#fb9f3a"
             ],
             [
              0.8888888888888888,
              "#fdca26"
             ],
             [
              1,
              "#f0f921"
             ]
            ],
            "type": "heatmapgl"
           }
          ],
          "histogram": [
           {
            "marker": {
             "colorbar": {
              "outlinewidth": 0,
              "ticks": ""
             }
            },
            "type": "histogram"
           }
          ],
          "histogram2d": [
           {
            "colorbar": {
             "outlinewidth": 0,
             "ticks": ""
            },
            "colorscale": [
             [
              0,
              "#0d0887"
             ],
             [
              0.1111111111111111,
              "#46039f"
             ],
             [
              0.2222222222222222,
              "#7201a8"
             ],
             [
              0.3333333333333333,
              "#9c179e"
             ],
             [
              0.4444444444444444,
              "#bd3786"
             ],
             [
              0.5555555555555556,
              "#d8576b"
             ],
             [
              0.6666666666666666,
              "#ed7953"
             ],
             [
              0.7777777777777778,
              "#fb9f3a"
             ],
             [
              0.8888888888888888,
              "#fdca26"
             ],
             [
              1,
              "#f0f921"
             ]
            ],
            "type": "histogram2d"
           }
          ],
          "histogram2dcontour": [
           {
            "colorbar": {
             "outlinewidth": 0,
             "ticks": ""
            },
            "colorscale": [
             [
              0,
              "#0d0887"
             ],
             [
              0.1111111111111111,
              "#46039f"
             ],
             [
              0.2222222222222222,
              "#7201a8"
             ],
             [
              0.3333333333333333,
              "#9c179e"
             ],
             [
              0.4444444444444444,
              "#bd3786"
             ],
             [
              0.5555555555555556,
              "#d8576b"
             ],
             [
              0.6666666666666666,
              "#ed7953"
             ],
             [
              0.7777777777777778,
              "#fb9f3a"
             ],
             [
              0.8888888888888888,
              "#fdca26"
             ],
             [
              1,
              "#f0f921"
             ]
            ],
            "type": "histogram2dcontour"
           }
          ],
          "mesh3d": [
           {
            "colorbar": {
             "outlinewidth": 0,
             "ticks": ""
            },
            "type": "mesh3d"
           }
          ],
          "parcoords": [
           {
            "line": {
             "colorbar": {
              "outlinewidth": 0,
              "ticks": ""
             }
            },
            "type": "parcoords"
           }
          ],
          "pie": [
           {
            "automargin": true,
            "type": "pie"
           }
          ],
          "scatter": [
           {
            "marker": {
             "colorbar": {
              "outlinewidth": 0,
              "ticks": ""
             }
            },
            "type": "scatter"
           }
          ],
          "scatter3d": [
           {
            "line": {
             "colorbar": {
              "outlinewidth": 0,
              "ticks": ""
             }
            },
            "marker": {
             "colorbar": {
              "outlinewidth": 0,
              "ticks": ""
             }
            },
            "type": "scatter3d"
           }
          ],
          "scattercarpet": [
           {
            "marker": {
             "colorbar": {
              "outlinewidth": 0,
              "ticks": ""
             }
            },
            "type": "scattercarpet"
           }
          ],
          "scattergeo": [
           {
            "marker": {
             "colorbar": {
              "outlinewidth": 0,
              "ticks": ""
             }
            },
            "type": "scattergeo"
           }
          ],
          "scattergl": [
           {
            "marker": {
             "colorbar": {
              "outlinewidth": 0,
              "ticks": ""
             }
            },
            "type": "scattergl"
           }
          ],
          "scattermapbox": [
           {
            "marker": {
             "colorbar": {
              "outlinewidth": 0,
              "ticks": ""
             }
            },
            "type": "scattermapbox"
           }
          ],
          "scatterpolar": [
           {
            "marker": {
             "colorbar": {
              "outlinewidth": 0,
              "ticks": ""
             }
            },
            "type": "scatterpolar"
           }
          ],
          "scatterpolargl": [
           {
            "marker": {
             "colorbar": {
              "outlinewidth": 0,
              "ticks": ""
             }
            },
            "type": "scatterpolargl"
           }
          ],
          "scatterternary": [
           {
            "marker": {
             "colorbar": {
              "outlinewidth": 0,
              "ticks": ""
             }
            },
            "type": "scatterternary"
           }
          ],
          "surface": [
           {
            "colorbar": {
             "outlinewidth": 0,
             "ticks": ""
            },
            "colorscale": [
             [
              0,
              "#0d0887"
             ],
             [
              0.1111111111111111,
              "#46039f"
             ],
             [
              0.2222222222222222,
              "#7201a8"
             ],
             [
              0.3333333333333333,
              "#9c179e"
             ],
             [
              0.4444444444444444,
              "#bd3786"
             ],
             [
              0.5555555555555556,
              "#d8576b"
             ],
             [
              0.6666666666666666,
              "#ed7953"
             ],
             [
              0.7777777777777778,
              "#fb9f3a"
             ],
             [
              0.8888888888888888,
              "#fdca26"
             ],
             [
              1,
              "#f0f921"
             ]
            ],
            "type": "surface"
           }
          ],
          "table": [
           {
            "cells": {
             "fill": {
              "color": "#EBF0F8"
             },
             "line": {
              "color": "white"
             }
            },
            "header": {
             "fill": {
              "color": "#C8D4E3"
             },
             "line": {
              "color": "white"
             }
            },
            "type": "table"
           }
          ]
         },
         "layout": {
          "annotationdefaults": {
           "arrowcolor": "#2a3f5f",
           "arrowhead": 0,
           "arrowwidth": 1
          },
          "autotypenumbers": "strict",
          "coloraxis": {
           "colorbar": {
            "outlinewidth": 0,
            "ticks": ""
           }
          },
          "colorscale": {
           "diverging": [
            [
             0,
             "#8e0152"
            ],
            [
             0.1,
             "#c51b7d"
            ],
            [
             0.2,
             "#de77ae"
            ],
            [
             0.3,
             "#f1b6da"
            ],
            [
             0.4,
             "#fde0ef"
            ],
            [
             0.5,
             "#f7f7f7"
            ],
            [
             0.6,
             "#e6f5d0"
            ],
            [
             0.7,
             "#b8e186"
            ],
            [
             0.8,
             "#7fbc41"
            ],
            [
             0.9,
             "#4d9221"
            ],
            [
             1,
             "#276419"
            ]
           ],
           "sequential": [
            [
             0,
             "#0d0887"
            ],
            [
             0.1111111111111111,
             "#46039f"
            ],
            [
             0.2222222222222222,
             "#7201a8"
            ],
            [
             0.3333333333333333,
             "#9c179e"
            ],
            [
             0.4444444444444444,
             "#bd3786"
            ],
            [
             0.5555555555555556,
             "#d8576b"
            ],
            [
             0.6666666666666666,
             "#ed7953"
            ],
            [
             0.7777777777777778,
             "#fb9f3a"
            ],
            [
             0.8888888888888888,
             "#fdca26"
            ],
            [
             1,
             "#f0f921"
            ]
           ],
           "sequentialminus": [
            [
             0,
             "#0d0887"
            ],
            [
             0.1111111111111111,
             "#46039f"
            ],
            [
             0.2222222222222222,
             "#7201a8"
            ],
            [
             0.3333333333333333,
             "#9c179e"
            ],
            [
             0.4444444444444444,
             "#bd3786"
            ],
            [
             0.5555555555555556,
             "#d8576b"
            ],
            [
             0.6666666666666666,
             "#ed7953"
            ],
            [
             0.7777777777777778,
             "#fb9f3a"
            ],
            [
             0.8888888888888888,
             "#fdca26"
            ],
            [
             1,
             "#f0f921"
            ]
           ]
          },
          "colorway": [
           "#636efa",
           "#EF553B",
           "#00cc96",
           "#ab63fa",
           "#FFA15A",
           "#19d3f3",
           "#FF6692",
           "#B6E880",
           "#FF97FF",
           "#FECB52"
          ],
          "font": {
           "color": "#2a3f5f"
          },
          "geo": {
           "bgcolor": "white",
           "lakecolor": "white",
           "landcolor": "#E5ECF6",
           "showlakes": true,
           "showland": true,
           "subunitcolor": "white"
          },
          "hoverlabel": {
           "align": "left"
          },
          "hovermode": "closest",
          "mapbox": {
           "style": "light"
          },
          "paper_bgcolor": "white",
          "plot_bgcolor": "#E5ECF6",
          "polar": {
           "angularaxis": {
            "gridcolor": "white",
            "linecolor": "white",
            "ticks": ""
           },
           "bgcolor": "#E5ECF6",
           "radialaxis": {
            "gridcolor": "white",
            "linecolor": "white",
            "ticks": ""
           }
          },
          "scene": {
           "xaxis": {
            "backgroundcolor": "#E5ECF6",
            "gridcolor": "white",
            "gridwidth": 2,
            "linecolor": "white",
            "showbackground": true,
            "ticks": "",
            "zerolinecolor": "white"
           },
           "yaxis": {
            "backgroundcolor": "#E5ECF6",
            "gridcolor": "white",
            "gridwidth": 2,
            "linecolor": "white",
            "showbackground": true,
            "ticks": "",
            "zerolinecolor": "white"
           },
           "zaxis": {
            "backgroundcolor": "#E5ECF6",
            "gridcolor": "white",
            "gridwidth": 2,
            "linecolor": "white",
            "showbackground": true,
            "ticks": "",
            "zerolinecolor": "white"
           }
          },
          "shapedefaults": {
           "line": {
            "color": "#2a3f5f"
           }
          },
          "ternary": {
           "aaxis": {
            "gridcolor": "white",
            "linecolor": "white",
            "ticks": ""
           },
           "baxis": {
            "gridcolor": "white",
            "linecolor": "white",
            "ticks": ""
           },
           "bgcolor": "#E5ECF6",
           "caxis": {
            "gridcolor": "white",
            "linecolor": "white",
            "ticks": ""
           }
          },
          "title": {
           "x": 0.05
          },
          "xaxis": {
           "automargin": true,
           "gridcolor": "white",
           "linecolor": "white",
           "ticks": "",
           "title": {
            "standoff": 15
           },
           "zerolinecolor": "white",
           "zerolinewidth": 2
          },
          "yaxis": {
           "automargin": true,
           "gridcolor": "white",
           "linecolor": "white",
           "ticks": "",
           "title": {
            "standoff": 15
           },
           "zerolinecolor": "white",
           "zerolinewidth": 2
          }
         }
        },
        "title": {
         "text": "ROC Curve"
        },
        "width": 800,
        "xaxis": {
         "range": [
          0,
          1
         ],
         "title": {
          "text": "False Positive Rate (Sensitivty)"
         }
        },
        "yaxis": {
         "range": [
          0,
          1
         ],
         "title": {
          "text": "True Positive Rate (1-Precision)"
         }
        }
       }
      },
      "text/html": "<div>                            <div id=\"66c6489a-9d43-401c-8646-397acf747644\" class=\"plotly-graph-div\" style=\"height:800px; width:800px;\"></div>            <script type=\"text/javascript\">                require([\"plotly\"], function(Plotly) {                    window.PLOTLYENV=window.PLOTLYENV || {};                                    if (document.getElementById(\"66c6489a-9d43-401c-8646-397acf747644\")) {                    Plotly.newPlot(                        \"66c6489a-9d43-401c-8646-397acf747644\",                        [{\"hovertemplate\": \"x=%{x}<br>y=%{y}<extra></extra>\", \"legendgroup\": \"\", \"line\": {\"color\": \"#636efa\", \"dash\": \"solid\"}, \"mode\": \"lines\", \"name\": \"\", \"orientation\": \"v\", \"showlegend\": false, \"type\": \"scatter\", \"x\": [0.0, 0.8382377389858686, 1.0], \"xaxis\": \"x\", \"y\": [0.0, 0.8551650692225772, 1.0], \"yaxis\": \"y\"}, {\"hovertemplate\": \"x=%{x}<br>y=%{y}<extra></extra>\", \"legendgroup\": \"\", \"line\": {\"color\": \"rgba(50,50,50,0.2)\", \"dash\": \"solid\"}, \"mode\": \"lines\", \"name\": \"\", \"orientation\": \"v\", \"showlegend\": false, \"type\": \"scatter\", \"x\": [0, 1], \"xaxis\": \"x\", \"y\": [0, 1], \"yaxis\": \"y\"}],                        {\"autosize\": false, \"height\": 800, \"template\": {\"data\": {\"bar\": [{\"error_x\": {\"color\": \"#2a3f5f\"}, \"error_y\": {\"color\": \"#2a3f5f\"}, \"marker\": {\"line\": {\"color\": \"#E5ECF6\", \"width\": 0.5}}, \"type\": \"bar\"}], \"barpolar\": [{\"marker\": {\"line\": {\"color\": \"#E5ECF6\", \"width\": 0.5}}, \"type\": \"barpolar\"}], \"carpet\": [{\"aaxis\": {\"endlinecolor\": \"#2a3f5f\", \"gridcolor\": \"white\", \"linecolor\": \"white\", \"minorgridcolor\": \"white\", \"startlinecolor\": \"#2a3f5f\"}, \"baxis\": {\"endlinecolor\": \"#2a3f5f\", \"gridcolor\": \"white\", \"linecolor\": \"white\", \"minorgridcolor\": \"white\", \"startlinecolor\": \"#2a3f5f\"}, \"type\": \"carpet\"}], \"choropleth\": [{\"colorbar\": {\"outlinewidth\": 0, \"ticks\": \"\"}, \"type\": \"choropleth\"}], \"contour\": [{\"colorbar\": {\"outlinewidth\": 0, \"ticks\": \"\"}, \"colorscale\": [[0.0, \"#0d0887\"], [0.1111111111111111, \"#46039f\"], [0.2222222222222222, \"#7201a8\"], [0.3333333333333333, \"#9c179e\"], [0.4444444444444444, \"#bd3786\"], [0.5555555555555556, \"#d8576b\"], [0.6666666666666666, \"#ed7953\"], [0.7777777777777778, \"#fb9f3a\"], [0.8888888888888888, \"#fdca26\"], [1.0, \"#f0f921\"]], \"type\": \"contour\"}], \"contourcarpet\": [{\"colorbar\": {\"outlinewidth\": 0, \"ticks\": \"\"}, \"type\": \"contourcarpet\"}], \"heatmap\": [{\"colorbar\": {\"outlinewidth\": 0, \"ticks\": \"\"}, \"colorscale\": [[0.0, \"#0d0887\"], [0.1111111111111111, \"#46039f\"], [0.2222222222222222, \"#7201a8\"], [0.3333333333333333, \"#9c179e\"], [0.4444444444444444, \"#bd3786\"], [0.5555555555555556, \"#d8576b\"], [0.6666666666666666, \"#ed7953\"], [0.7777777777777778, \"#fb9f3a\"], [0.8888888888888888, \"#fdca26\"], [1.0, \"#f0f921\"]], \"type\": \"heatmap\"}], \"heatmapgl\": [{\"colorbar\": {\"outlinewidth\": 0, \"ticks\": \"\"}, \"colorscale\": [[0.0, \"#0d0887\"], [0.1111111111111111, \"#46039f\"], [0.2222222222222222, \"#7201a8\"], [0.3333333333333333, \"#9c179e\"], [0.4444444444444444, \"#bd3786\"], [0.5555555555555556, \"#d8576b\"], [0.6666666666666666, \"#ed7953\"], [0.7777777777777778, \"#fb9f3a\"], [0.8888888888888888, \"#fdca26\"], [1.0, \"#f0f921\"]], \"type\": \"heatmapgl\"}], \"histogram\": [{\"marker\": {\"colorbar\": {\"outlinewidth\": 0, \"ticks\": \"\"}}, \"type\": \"histogram\"}], \"histogram2d\": [{\"colorbar\": {\"outlinewidth\": 0, \"ticks\": \"\"}, \"colorscale\": [[0.0, \"#0d0887\"], [0.1111111111111111, \"#46039f\"], [0.2222222222222222, \"#7201a8\"], [0.3333333333333333, \"#9c179e\"], [0.4444444444444444, \"#bd3786\"], [0.5555555555555556, \"#d8576b\"], [0.6666666666666666, \"#ed7953\"], [0.7777777777777778, \"#fb9f3a\"], [0.8888888888888888, \"#fdca26\"], [1.0, \"#f0f921\"]], \"type\": \"histogram2d\"}], \"histogram2dcontour\": [{\"colorbar\": {\"outlinewidth\": 0, \"ticks\": \"\"}, \"colorscale\": [[0.0, \"#0d0887\"], [0.1111111111111111, \"#46039f\"], [0.2222222222222222, \"#7201a8\"], [0.3333333333333333, \"#9c179e\"], [0.4444444444444444, \"#bd3786\"], [0.5555555555555556, \"#d8576b\"], [0.6666666666666666, \"#ed7953\"], [0.7777777777777778, \"#fb9f3a\"], [0.8888888888888888, \"#fdca26\"], [1.0, \"#f0f921\"]], \"type\": \"histogram2dcontour\"}], \"mesh3d\": [{\"colorbar\": {\"outlinewidth\": 0, \"ticks\": \"\"}, \"type\": \"mesh3d\"}], \"parcoords\": [{\"line\": {\"colorbar\": {\"outlinewidth\": 0, \"ticks\": \"\"}}, \"type\": \"parcoords\"}], \"pie\": [{\"automargin\": true, \"type\": \"pie\"}], \"scatter\": [{\"marker\": {\"colorbar\": {\"outlinewidth\": 0, \"ticks\": \"\"}}, \"type\": \"scatter\"}], \"scatter3d\": [{\"line\": {\"colorbar\": {\"outlinewidth\": 0, \"ticks\": \"\"}}, \"marker\": {\"colorbar\": {\"outlinewidth\": 0, \"ticks\": \"\"}}, \"type\": \"scatter3d\"}], \"scattercarpet\": [{\"marker\": {\"colorbar\": {\"outlinewidth\": 0, \"ticks\": \"\"}}, \"type\": \"scattercarpet\"}], \"scattergeo\": [{\"marker\": {\"colorbar\": {\"outlinewidth\": 0, \"ticks\": \"\"}}, \"type\": \"scattergeo\"}], \"scattergl\": [{\"marker\": {\"colorbar\": {\"outlinewidth\": 0, \"ticks\": \"\"}}, \"type\": \"scattergl\"}], \"scattermapbox\": [{\"marker\": {\"colorbar\": {\"outlinewidth\": 0, \"ticks\": \"\"}}, \"type\": \"scattermapbox\"}], \"scatterpolar\": [{\"marker\": {\"colorbar\": {\"outlinewidth\": 0, \"ticks\": \"\"}}, \"type\": \"scatterpolar\"}], \"scatterpolargl\": [{\"marker\": {\"colorbar\": {\"outlinewidth\": 0, \"ticks\": \"\"}}, \"type\": \"scatterpolargl\"}], \"scatterternary\": [{\"marker\": {\"colorbar\": {\"outlinewidth\": 0, \"ticks\": \"\"}}, \"type\": \"scatterternary\"}], \"surface\": [{\"colorbar\": {\"outlinewidth\": 0, \"ticks\": \"\"}, \"colorscale\": [[0.0, \"#0d0887\"], [0.1111111111111111, \"#46039f\"], [0.2222222222222222, \"#7201a8\"], [0.3333333333333333, \"#9c179e\"], [0.4444444444444444, \"#bd3786\"], [0.5555555555555556, \"#d8576b\"], [0.6666666666666666, \"#ed7953\"], [0.7777777777777778, \"#fb9f3a\"], [0.8888888888888888, \"#fdca26\"], [1.0, \"#f0f921\"]], \"type\": \"surface\"}], \"table\": [{\"cells\": {\"fill\": {\"color\": \"#EBF0F8\"}, \"line\": {\"color\": \"white\"}}, \"header\": {\"fill\": {\"color\": \"#C8D4E3\"}, \"line\": {\"color\": \"white\"}}, \"type\": \"table\"}]}, \"layout\": {\"annotationdefaults\": {\"arrowcolor\": \"#2a3f5f\", \"arrowhead\": 0, \"arrowwidth\": 1}, \"autotypenumbers\": \"strict\", \"coloraxis\": {\"colorbar\": {\"outlinewidth\": 0, \"ticks\": \"\"}}, \"colorscale\": {\"diverging\": [[0, \"#8e0152\"], [0.1, \"#c51b7d\"], [0.2, \"#de77ae\"], [0.3, \"#f1b6da\"], [0.4, \"#fde0ef\"], [0.5, \"#f7f7f7\"], [0.6, \"#e6f5d0\"], [0.7, \"#b8e186\"], [0.8, \"#7fbc41\"], [0.9, \"#4d9221\"], [1, \"#276419\"]], \"sequential\": [[0.0, \"#0d0887\"], [0.1111111111111111, \"#46039f\"], [0.2222222222222222, \"#7201a8\"], [0.3333333333333333, \"#9c179e\"], [0.4444444444444444, \"#bd3786\"], [0.5555555555555556, \"#d8576b\"], [0.6666666666666666, \"#ed7953\"], [0.7777777777777778, \"#fb9f3a\"], [0.8888888888888888, \"#fdca26\"], [1.0, \"#f0f921\"]], \"sequentialminus\": [[0.0, \"#0d0887\"], [0.1111111111111111, \"#46039f\"], [0.2222222222222222, \"#7201a8\"], [0.3333333333333333, \"#9c179e\"], [0.4444444444444444, \"#bd3786\"], [0.5555555555555556, \"#d8576b\"], [0.6666666666666666, \"#ed7953\"], [0.7777777777777778, \"#fb9f3a\"], [0.8888888888888888, \"#fdca26\"], [1.0, \"#f0f921\"]]}, \"colorway\": [\"#636efa\", \"#EF553B\", \"#00cc96\", \"#ab63fa\", \"#FFA15A\", \"#19d3f3\", \"#FF6692\", \"#B6E880\", \"#FF97FF\", \"#FECB52\"], \"font\": {\"color\": \"#2a3f5f\"}, \"geo\": {\"bgcolor\": \"white\", \"lakecolor\": \"white\", \"landcolor\": \"#E5ECF6\", \"showlakes\": true, \"showland\": true, \"subunitcolor\": \"white\"}, \"hoverlabel\": {\"align\": \"left\"}, \"hovermode\": \"closest\", \"mapbox\": {\"style\": \"light\"}, \"paper_bgcolor\": \"white\", \"plot_bgcolor\": \"#E5ECF6\", \"polar\": {\"angularaxis\": {\"gridcolor\": \"white\", \"linecolor\": \"white\", \"ticks\": \"\"}, \"bgcolor\": \"#E5ECF6\", \"radialaxis\": {\"gridcolor\": \"white\", \"linecolor\": \"white\", \"ticks\": \"\"}}, \"scene\": {\"xaxis\": {\"backgroundcolor\": \"#E5ECF6\", \"gridcolor\": \"white\", \"gridwidth\": 2, \"linecolor\": \"white\", \"showbackground\": true, \"ticks\": \"\", \"zerolinecolor\": \"white\"}, \"yaxis\": {\"backgroundcolor\": \"#E5ECF6\", \"gridcolor\": \"white\", \"gridwidth\": 2, \"linecolor\": \"white\", \"showbackground\": true, \"ticks\": \"\", \"zerolinecolor\": \"white\"}, \"zaxis\": {\"backgroundcolor\": \"#E5ECF6\", \"gridcolor\": \"white\", \"gridwidth\": 2, \"linecolor\": \"white\", \"showbackground\": true, \"ticks\": \"\", \"zerolinecolor\": \"white\"}}, \"shapedefaults\": {\"line\": {\"color\": \"#2a3f5f\"}}, \"ternary\": {\"aaxis\": {\"gridcolor\": \"white\", \"linecolor\": \"white\", \"ticks\": \"\"}, \"baxis\": {\"gridcolor\": \"white\", \"linecolor\": \"white\", \"ticks\": \"\"}, \"bgcolor\": \"#E5ECF6\", \"caxis\": {\"gridcolor\": \"white\", \"linecolor\": \"white\", \"ticks\": \"\"}}, \"title\": {\"x\": 0.05}, \"xaxis\": {\"automargin\": true, \"gridcolor\": \"white\", \"linecolor\": \"white\", \"ticks\": \"\", \"title\": {\"standoff\": 15}, \"zerolinecolor\": \"white\", \"zerolinewidth\": 2}, \"yaxis\": {\"automargin\": true, \"gridcolor\": \"white\", \"linecolor\": \"white\", \"ticks\": \"\", \"title\": {\"standoff\": 15}, \"zerolinecolor\": \"white\", \"zerolinewidth\": 2}}}, \"title\": {\"text\": \"ROC Curve\"}, \"width\": 800, \"xaxis\": {\"range\": [0, 1], \"title\": {\"text\": \"False Positive Rate (Sensitivty)\"}}, \"yaxis\": {\"range\": [0, 1], \"title\": {\"text\": \"True Positive Rate (1-Precision)\"}}},                        {\"responsive\": true}                    ).then(function(){\n                            \nvar gd = document.getElementById('66c6489a-9d43-401c-8646-397acf747644');\nvar x = new MutationObserver(function (mutations, observer) {{\n        var display = window.getComputedStyle(gd).display;\n        if (!display || display === 'none') {{\n            console.log([gd, 'removed!']);\n            Plotly.purge(gd);\n            observer.disconnect();\n        }}\n}});\n\n// Listen for the removal of the full notebook cells\nvar notebookContainer = gd.closest('#notebook-container');\nif (notebookContainer) {{\n    x.observe(notebookContainer, {childList: true});\n}}\n\n// Listen for the clearing of the current output cell\nvar outputEl = gd.closest('.output');\nif (outputEl) {{\n    x.observe(outputEl, {childList: true});\n}}\n\n                        })                };                });            </script>        </div>"
     },
     "metadata": {}
    },
    {
     "output_type": "stream",
     "name": "stdout",
     "text": [
      "AUC ROC score: 0.508\nCoefficents:\nGender: 0.147\n"
     ]
    }
   ],
   "source": [
    "cols = [\"Nominal Gender_Male\"]\n",
    "\n",
    "X_train = X_train_init[cols]\n",
    "X_val = X_val_init[cols]\n",
    "\n",
    "from sklearn.linear_model import LogisticRegression\n",
    "\n",
    "models = {}\n",
    "\n",
    "model=\"Gender\"\n",
    "\n",
    "models[model] = LogisticRegression(\n",
    "    penalty=\"none\"\n",
    "    )\n",
    "\n",
    "models[model].fit(X_train, y_train)\n",
    "\n",
    "print(\"Training score: {:.3f}\\nValidation Score:{:.3f}\".format(models[model].score(X_train, y_train), models[model].score(X_val, y_val)))\n",
    "\n",
    "fig, auc = classification_tools.calc_roc(models[model], X_val, y_val)\n",
    "fig.show()\n",
    "print(\"AUC ROC score: {:.3f}\".format(auc))\n",
    "print(\"Coefficents:\")\n",
    "print(\"Gender: {:.3f}\".format(models[model].coef_[0][0]))"
   ]
  },
  {
   "source": [
    "It seems these two combined give the limited predictive power this model has, so we'll use this combination as a base to try and improve upon."
   ],
   "cell_type": "markdown",
   "metadata": {}
  },
  {
   "source": [
    "# Search Reason\n",
    "\n",
    "Intuitively search reason seems like it could be a strong predictor and indeed it is. The total number of positive predictions has now doubled and our AUC ROC score has improved by 0.05%. This still going to be barely better than a coin toss, but is progress!"
   ],
   "cell_type": "markdown",
   "metadata": {}
  },
  {
   "cell_type": "code",
   "execution_count": 427,
   "metadata": {},
   "outputs": [
    {
     "output_type": "stream",
     "name": "stdout",
     "text": [
      "Training score: 0.642\nValidation Score:0.645\n"
     ]
    },
    {
     "output_type": "display_data",
     "data": {
      "application/vnd.plotly.v1+json": {
       "config": {
        "plotlyServerURL": "https://plot.ly"
       },
       "data": [
        {
         "hovertemplate": "x=%{x}<br>y=%{y}<extra></extra>",
         "legendgroup": "",
         "line": {
          "color": "#636efa",
          "dash": "solid"
         },
         "mode": "lines",
         "name": "",
         "orientation": "v",
         "showlegend": false,
         "type": "scatter",
         "x": [
          0,
          0.00008312551953449709,
          0.00016625103906899418,
          0.0006650041562759767,
          0.0006650041562759767,
          0.0007481296758104738,
          0.0008312551953449709,
          0.000914380714879468,
          0.0011637572734829592,
          0.0012468827930174563,
          0.0014131338320864505,
          0.002660016625103907,
          0.0029925187032418953,
          0.003657522859517872,
          0.003740648379052369,
          0.003906899418121363,
          0.004073150457190358,
          0.004987531172069825,
          0.006982543640897756,
          0.008728179551122194,
          0.00881130507065669,
          0.013133832086450541,
          0.013383208645054032,
          0.013881961762261015,
          0.014048212801330008,
          0.02369077306733167,
          0.050207813798836244,
          0.050207813798836244,
          0.051371571072319204,
          0.051620947630922696,
          0.05170407315045719,
          0.05286783042394015,
          0.05320033250207814,
          0.05320033250207814,
          0.08395677472984206,
          0.08395677472984206,
          0.08412302576891105,
          0.08703241895261846,
          0.08736492103075644,
          0.09027431421446384,
          0.09044056525353283,
          0.09052369077306734,
          0.09060681629260182,
          0.09068994181213633,
          0.09077306733167083,
          0.0912718204488778,
          0.0916874480465503,
          0.10897755610972569,
          0.11022443890274314,
          0.11030756442227764,
          0.11953449709060682,
          0.11961762261014132,
          0.1198669991687448,
          0.14364089775561098,
          0.15270157938487117,
          0.15278470490440565,
          0.15286783042394014,
          0.15344970906068162,
          0.15353283458021613,
          0.15378221113881962,
          0.1539484621778886,
          0.1543640897755611,
          0.15486284289276808,
          0.15544472152950956,
          0.17015793848711555,
          0.17065669160432254,
          0.171571072319202,
          0.171737323358271,
          0.728595178719867,
          0.7332502078137988,
          0.7374064837905236,
          0.7394014962593516,
          0.7394846217788861,
          0.7405652535328345,
          0.7406483790523691,
          0.7411471321695761,
          0.7411471321695761,
          0.7509559434746467,
          0.7523690773067332,
          0.7527847049044056,
          0.7527847049044056,
          0.7554447215295096,
          0.7556109725685786,
          0.8510390689941812,
          0.8513715710723192,
          0.8513715710723192,
          0.8517871986699916,
          0.8517871986699916,
          0.8518703241895261,
          0.8518703241895261,
          0.857190357439734,
          0.8572734829592685,
          0.8574397339983375,
          0.8577722360764755,
          0.8579384871155444,
          0.8600166251039069,
          0.8600166251039069,
          0.87024106400665,
          0.8706566916043226,
          0.871737323358271,
          0.8719866999168745,
          0.872069825436409,
          0.8724854530340814,
          0.8750623441396509,
          0.8760598503740649,
          0.8763923524522028,
          0.8783873649210308,
          0.8784704904405652,
          0.8784704904405652,
          0.8792186201163757,
          0.8807148794679966,
          0.8808811305070656,
          0.8822111388196177,
          0.8825436408977556,
          0.8826267664172901,
          0.8826267664172901,
          0.8827930174563591,
          0.8827930174563591,
          0.883956774729842,
          0.8848711554447215,
          0.9304239401496259,
          0.930922693266833,
          0.9310058187863675,
          0.9310889443059019,
          0.9314214463840399,
          0.9316708229426434,
          0.9316708229426434,
          0.9318370739817123,
          0.9323358270989194,
          0.9329177057356608,
          0.9330839567747299,
          0.9392352452202827,
          0.9393183707398172,
          0.9394014962593517,
          0.9398171238570241,
          0.9399833748960931,
          0.9399833748960931,
          0.9408977556109726,
          0.9410640066500415,
          0.9413133832086451,
          0.9413965087281796,
          0.9415627597672486,
          0.941812136325852,
          0.9420615128844555,
          0.9425602660016625,
          0.9430590191188695,
          0.9440565253532834,
          0.9441396508728179,
          0.9835411471321696,
          0.983790523690773,
          0.9842892768079801,
          0.984455527847049,
          0.9852036575228595,
          0.9857024106400665,
          0.9977556109725686,
          0.9979218620116376,
          0.9980881130507065,
          0.9989193682460515,
          0.9990856192851205,
          0.9995843724023276,
          0.999667497921862,
          1,
          1
         ],
         "xaxis": "x",
         "y": [
          0,
          0,
          0,
          0.0006085501293169025,
          0.0007606876616461281,
          0.0009128251939753537,
          0.001217100258633805,
          0.001217100258633805,
          0.001217100258633805,
          0.0015213753232922562,
          0.0015213753232922562,
          0.0027384755819260614,
          0.0030427506465845124,
          0.003194888178913738,
          0.003194888178913738,
          0.003194888178913738,
          0.003651300775901415,
          0.005172676099193671,
          0.00730260155180283,
          0.008823976875095086,
          0.008823976875095086,
          0.01323596531264263,
          0.01354024037730108,
          0.015213753232922561,
          0.015213753232922561,
          0.029818956336528223,
          0.06907043967746843,
          0.06983112733911456,
          0.07043967746843147,
          0.07120036513007759,
          0.07120036513007759,
          0.07196105279172371,
          0.0724174653887114,
          0.07256960292104062,
          0.11303818652061463,
          0.11334246158527309,
          0.11410314924691921,
          0.11927582534611289,
          0.11942796287844211,
          0.12216643846036818,
          0.12262285105735585,
          0.12262285105735585,
          0.12338353871900198,
          0.12338353871900198,
          0.12368781378366044,
          0.12368781378366044,
          0.12399208884831887,
          0.14087935493686293,
          0.14224859272782595,
          0.14224859272782595,
          0.15168111973223794,
          0.15168111973223794,
          0.15228966986155484,
          0.1751102997109387,
          0.19230184086414118,
          0.19275825346112885,
          0.19275825346112885,
          0.19321466605811655,
          0.19351894112277498,
          0.19382321618743345,
          0.19382321618743345,
          0.19443176631675035,
          0.19519245397839646,
          0.1959531416400426,
          0.21466605811653736,
          0.2148181956488666,
          0.21588315837517116,
          0.21588315837517116,
          0.8063289213448958,
          0.8107409097824433,
          0.8133272478320401,
          0.8143922105583448,
          0.8143922105583448,
          0.8163699984786247,
          0.8163699984786247,
          0.8165221360109539,
          0.8166742735432831,
          0.8279324509356458,
          0.8293016887266088,
          0.8296059637912673,
          0.8297581013235965,
          0.8332572645671688,
          0.8335615396318272,
          0.9181500076068766,
          0.9183021451392058,
          0.9184542826715351,
          0.9189106952685228,
          0.9193671078655105,
          0.9193671078655105,
          0.9195192453978397,
          0.925148334094021,
          0.925148334094021,
          0.9256047466910087,
          0.9256047466910087,
          0.9259090217556671,
          0.9266697094173133,
          0.9268218469496424,
          0.937927886809676,
          0.9383842994066636,
          0.9396013996652974,
          0.9399056747299559,
          0.9399056747299559,
          0.9406663623916021,
          0.942035600182565,
          0.9432527004411988,
          0.9447740757644911,
          0.9456869009584664,
          0.9456869009584664,
          0.9458390384907956,
          0.947360413814088,
          0.9485775140727217,
          0.948729651605051,
          0.9493382017343679,
          0.9496424767990264,
          0.9497946143313556,
          0.9499467518636848,
          0.9499467518636848,
          0.950098889396014,
          0.9510117145899893,
          0.9519245397839647,
          0.9803742583295298,
          0.9805263958618591,
          0.9808306709265175,
          0.9808306709265175,
          0.9808306709265175,
          0.9808306709265175,
          0.9809828084588468,
          0.9809828084588468,
          0.981134945991176,
          0.9814392210558345,
          0.9814392210558345,
          0.9856990719610528,
          0.9856990719610528,
          0.9861554845580405,
          0.9863076220903697,
          0.9864597596226989,
          0.9866118971550282,
          0.987220447284345,
          0.9875247223490035,
          0.9875247223490035,
          0.9876768598813327,
          0.9876768598813327,
          0.9878289974136619,
          0.9878289974136619,
          0.9881332724783204,
          0.9885896850753081,
          0.9887418226076373,
          0.9887418226076373,
          0.9968051118210862,
          0.9969572493534155,
          0.9972615244180739,
          0.9972615244180739,
          0.9972615244180739,
          0.9972615244180739,
          0.9992393123383538,
          0.9992393123383538,
          0.9993914498706831,
          0.9996957249353415,
          0.9996957249353415,
          0.9996957249353415,
          0.9996957249353415,
          0.9998478624676708,
          1
         ],
         "yaxis": "y"
        },
        {
         "hovertemplate": "x=%{x}<br>y=%{y}<extra></extra>",
         "legendgroup": "",
         "line": {
          "color": "rgba(50,50,50,0.2)",
          "dash": "solid"
         },
         "mode": "lines",
         "name": "",
         "orientation": "v",
         "showlegend": false,
         "type": "scatter",
         "x": [
          0,
          1
         ],
         "xaxis": "x",
         "y": [
          0,
          1
         ],
         "yaxis": "y"
        }
       ],
       "layout": {
        "autosize": false,
        "height": 800,
        "template": {
         "data": {
          "bar": [
           {
            "error_x": {
             "color": "#2a3f5f"
            },
            "error_y": {
             "color": "#2a3f5f"
            },
            "marker": {
             "line": {
              "color": "#E5ECF6",
              "width": 0.5
             }
            },
            "type": "bar"
           }
          ],
          "barpolar": [
           {
            "marker": {
             "line": {
              "color": "#E5ECF6",
              "width": 0.5
             }
            },
            "type": "barpolar"
           }
          ],
          "carpet": [
           {
            "aaxis": {
             "endlinecolor": "#2a3f5f",
             "gridcolor": "white",
             "linecolor": "white",
             "minorgridcolor": "white",
             "startlinecolor": "#2a3f5f"
            },
            "baxis": {
             "endlinecolor": "#2a3f5f",
             "gridcolor": "white",
             "linecolor": "white",
             "minorgridcolor": "white",
             "startlinecolor": "#2a3f5f"
            },
            "type": "carpet"
           }
          ],
          "choropleth": [
           {
            "colorbar": {
             "outlinewidth": 0,
             "ticks": ""
            },
            "type": "choropleth"
           }
          ],
          "contour": [
           {
            "colorbar": {
             "outlinewidth": 0,
             "ticks": ""
            },
            "colorscale": [
             [
              0,
              "#0d0887"
             ],
             [
              0.1111111111111111,
              "#46039f"
             ],
             [
              0.2222222222222222,
              "#7201a8"
             ],
             [
              0.3333333333333333,
              "#9c179e"
             ],
             [
              0.4444444444444444,
              "#bd3786"
             ],
             [
              0.5555555555555556,
              "#d8576b"
             ],
             [
              0.6666666666666666,
              "#ed7953"
             ],
             [
              0.7777777777777778,
              "#fb9f3a"
             ],
             [
              0.8888888888888888,
              "#fdca26"
             ],
             [
              1,
              "#f0f921"
             ]
            ],
            "type": "contour"
           }
          ],
          "contourcarpet": [
           {
            "colorbar": {
             "outlinewidth": 0,
             "ticks": ""
            },
            "type": "contourcarpet"
           }
          ],
          "heatmap": [
           {
            "colorbar": {
             "outlinewidth": 0,
             "ticks": ""
            },
            "colorscale": [
             [
              0,
              "#0d0887"
             ],
             [
              0.1111111111111111,
              "#46039f"
             ],
             [
              0.2222222222222222,
              "#7201a8"
             ],
             [
              0.3333333333333333,
              "#9c179e"
             ],
             [
              0.4444444444444444,
              "#bd3786"
             ],
             [
              0.5555555555555556,
              "#d8576b"
             ],
             [
              0.6666666666666666,
              "#ed7953"
             ],
             [
              0.7777777777777778,
              "#fb9f3a"
             ],
             [
              0.8888888888888888,
              "#fdca26"
             ],
             [
              1,
              "#f0f921"
             ]
            ],
            "type": "heatmap"
           }
          ],
          "heatmapgl": [
           {
            "colorbar": {
             "outlinewidth": 0,
             "ticks": ""
            },
            "colorscale": [
             [
              0,
              "#0d0887"
             ],
             [
              0.1111111111111111,
              "#46039f"
             ],
             [
              0.2222222222222222,
              "#7201a8"
             ],
             [
              0.3333333333333333,
              "#9c179e"
             ],
             [
              0.4444444444444444,
              "#bd3786"
             ],
             [
              0.5555555555555556,
              "#d8576b"
             ],
             [
              0.6666666666666666,
              "#ed7953"
             ],
             [
              0.7777777777777778,
              "#fb9f3a"
             ],
             [
              0.8888888888888888,
              "#fdca26"
             ],
             [
              1,
              "#f0f921"
             ]
            ],
            "type": "heatmapgl"
           }
          ],
          "histogram": [
           {
            "marker": {
             "colorbar": {
              "outlinewidth": 0,
              "ticks": ""
             }
            },
            "type": "histogram"
           }
          ],
          "histogram2d": [
           {
            "colorbar": {
             "outlinewidth": 0,
             "ticks": ""
            },
            "colorscale": [
             [
              0,
              "#0d0887"
             ],
             [
              0.1111111111111111,
              "#46039f"
             ],
             [
              0.2222222222222222,
              "#7201a8"
             ],
             [
              0.3333333333333333,
              "#9c179e"
             ],
             [
              0.4444444444444444,
              "#bd3786"
             ],
             [
              0.5555555555555556,
              "#d8576b"
             ],
             [
              0.6666666666666666,
              "#ed7953"
             ],
             [
              0.7777777777777778,
              "#fb9f3a"
             ],
             [
              0.8888888888888888,
              "#fdca26"
             ],
             [
              1,
              "#f0f921"
             ]
            ],
            "type": "histogram2d"
           }
          ],
          "histogram2dcontour": [
           {
            "colorbar": {
             "outlinewidth": 0,
             "ticks": ""
            },
            "colorscale": [
             [
              0,
              "#0d0887"
             ],
             [
              0.1111111111111111,
              "#46039f"
             ],
             [
              0.2222222222222222,
              "#7201a8"
             ],
             [
              0.3333333333333333,
              "#9c179e"
             ],
             [
              0.4444444444444444,
              "#bd3786"
             ],
             [
              0.5555555555555556,
              "#d8576b"
             ],
             [
              0.6666666666666666,
              "#ed7953"
             ],
             [
              0.7777777777777778,
              "#fb9f3a"
             ],
             [
              0.8888888888888888,
              "#fdca26"
             ],
             [
              1,
              "#f0f921"
             ]
            ],
            "type": "histogram2dcontour"
           }
          ],
          "mesh3d": [
           {
            "colorbar": {
             "outlinewidth": 0,
             "ticks": ""
            },
            "type": "mesh3d"
           }
          ],
          "parcoords": [
           {
            "line": {
             "colorbar": {
              "outlinewidth": 0,
              "ticks": ""
             }
            },
            "type": "parcoords"
           }
          ],
          "pie": [
           {
            "automargin": true,
            "type": "pie"
           }
          ],
          "scatter": [
           {
            "marker": {
             "colorbar": {
              "outlinewidth": 0,
              "ticks": ""
             }
            },
            "type": "scatter"
           }
          ],
          "scatter3d": [
           {
            "line": {
             "colorbar": {
              "outlinewidth": 0,
              "ticks": ""
             }
            },
            "marker": {
             "colorbar": {
              "outlinewidth": 0,
              "ticks": ""
             }
            },
            "type": "scatter3d"
           }
          ],
          "scattercarpet": [
           {
            "marker": {
             "colorbar": {
              "outlinewidth": 0,
              "ticks": ""
             }
            },
            "type": "scattercarpet"
           }
          ],
          "scattergeo": [
           {
            "marker": {
             "colorbar": {
              "outlinewidth": 0,
              "ticks": ""
             }
            },
            "type": "scattergeo"
           }
          ],
          "scattergl": [
           {
            "marker": {
             "colorbar": {
              "outlinewidth": 0,
              "ticks": ""
             }
            },
            "type": "scattergl"
           }
          ],
          "scattermapbox": [
           {
            "marker": {
             "colorbar": {
              "outlinewidth": 0,
              "ticks": ""
             }
            },
            "type": "scattermapbox"
           }
          ],
          "scatterpolar": [
           {
            "marker": {
             "colorbar": {
              "outlinewidth": 0,
              "ticks": ""
             }
            },
            "type": "scatterpolar"
           }
          ],
          "scatterpolargl": [
           {
            "marker": {
             "colorbar": {
              "outlinewidth": 0,
              "ticks": ""
             }
            },
            "type": "scatterpolargl"
           }
          ],
          "scatterternary": [
           {
            "marker": {
             "colorbar": {
              "outlinewidth": 0,
              "ticks": ""
             }
            },
            "type": "scatterternary"
           }
          ],
          "surface": [
           {
            "colorbar": {
             "outlinewidth": 0,
             "ticks": ""
            },
            "colorscale": [
             [
              0,
              "#0d0887"
             ],
             [
              0.1111111111111111,
              "#46039f"
             ],
             [
              0.2222222222222222,
              "#7201a8"
             ],
             [
              0.3333333333333333,
              "#9c179e"
             ],
             [
              0.4444444444444444,
              "#bd3786"
             ],
             [
              0.5555555555555556,
              "#d8576b"
             ],
             [
              0.6666666666666666,
              "#ed7953"
             ],
             [
              0.7777777777777778,
              "#fb9f3a"
             ],
             [
              0.8888888888888888,
              "#fdca26"
             ],
             [
              1,
              "#f0f921"
             ]
            ],
            "type": "surface"
           }
          ],
          "table": [
           {
            "cells": {
             "fill": {
              "color": "#EBF0F8"
             },
             "line": {
              "color": "white"
             }
            },
            "header": {
             "fill": {
              "color": "#C8D4E3"
             },
             "line": {
              "color": "white"
             }
            },
            "type": "table"
           }
          ]
         },
         "layout": {
          "annotationdefaults": {
           "arrowcolor": "#2a3f5f",
           "arrowhead": 0,
           "arrowwidth": 1
          },
          "autotypenumbers": "strict",
          "coloraxis": {
           "colorbar": {
            "outlinewidth": 0,
            "ticks": ""
           }
          },
          "colorscale": {
           "diverging": [
            [
             0,
             "#8e0152"
            ],
            [
             0.1,
             "#c51b7d"
            ],
            [
             0.2,
             "#de77ae"
            ],
            [
             0.3,
             "#f1b6da"
            ],
            [
             0.4,
             "#fde0ef"
            ],
            [
             0.5,
             "#f7f7f7"
            ],
            [
             0.6,
             "#e6f5d0"
            ],
            [
             0.7,
             "#b8e186"
            ],
            [
             0.8,
             "#7fbc41"
            ],
            [
             0.9,
             "#4d9221"
            ],
            [
             1,
             "#276419"
            ]
           ],
           "sequential": [
            [
             0,
             "#0d0887"
            ],
            [
             0.1111111111111111,
             "#46039f"
            ],
            [
             0.2222222222222222,
             "#7201a8"
            ],
            [
             0.3333333333333333,
             "#9c179e"
            ],
            [
             0.4444444444444444,
             "#bd3786"
            ],
            [
             0.5555555555555556,
             "#d8576b"
            ],
            [
             0.6666666666666666,
             "#ed7953"
            ],
            [
             0.7777777777777778,
             "#fb9f3a"
            ],
            [
             0.8888888888888888,
             "#fdca26"
            ],
            [
             1,
             "#f0f921"
            ]
           ],
           "sequentialminus": [
            [
             0,
             "#0d0887"
            ],
            [
             0.1111111111111111,
             "#46039f"
            ],
            [
             0.2222222222222222,
             "#7201a8"
            ],
            [
             0.3333333333333333,
             "#9c179e"
            ],
            [
             0.4444444444444444,
             "#bd3786"
            ],
            [
             0.5555555555555556,
             "#d8576b"
            ],
            [
             0.6666666666666666,
             "#ed7953"
            ],
            [
             0.7777777777777778,
             "#fb9f3a"
            ],
            [
             0.8888888888888888,
             "#fdca26"
            ],
            [
             1,
             "#f0f921"
            ]
           ]
          },
          "colorway": [
           "#636efa",
           "#EF553B",
           "#00cc96",
           "#ab63fa",
           "#FFA15A",
           "#19d3f3",
           "#FF6692",
           "#B6E880",
           "#FF97FF",
           "#FECB52"
          ],
          "font": {
           "color": "#2a3f5f"
          },
          "geo": {
           "bgcolor": "white",
           "lakecolor": "white",
           "landcolor": "#E5ECF6",
           "showlakes": true,
           "showland": true,
           "subunitcolor": "white"
          },
          "hoverlabel": {
           "align": "left"
          },
          "hovermode": "closest",
          "mapbox": {
           "style": "light"
          },
          "paper_bgcolor": "white",
          "plot_bgcolor": "#E5ECF6",
          "polar": {
           "angularaxis": {
            "gridcolor": "white",
            "linecolor": "white",
            "ticks": ""
           },
           "bgcolor": "#E5ECF6",
           "radialaxis": {
            "gridcolor": "white",
            "linecolor": "white",
            "ticks": ""
           }
          },
          "scene": {
           "xaxis": {
            "backgroundcolor": "#E5ECF6",
            "gridcolor": "white",
            "gridwidth": 2,
            "linecolor": "white",
            "showbackground": true,
            "ticks": "",
            "zerolinecolor": "white"
           },
           "yaxis": {
            "backgroundcolor": "#E5ECF6",
            "gridcolor": "white",
            "gridwidth": 2,
            "linecolor": "white",
            "showbackground": true,
            "ticks": "",
            "zerolinecolor": "white"
           },
           "zaxis": {
            "backgroundcolor": "#E5ECF6",
            "gridcolor": "white",
            "gridwidth": 2,
            "linecolor": "white",
            "showbackground": true,
            "ticks": "",
            "zerolinecolor": "white"
           }
          },
          "shapedefaults": {
           "line": {
            "color": "#2a3f5f"
           }
          },
          "ternary": {
           "aaxis": {
            "gridcolor": "white",
            "linecolor": "white",
            "ticks": ""
           },
           "baxis": {
            "gridcolor": "white",
            "linecolor": "white",
            "ticks": ""
           },
           "bgcolor": "#E5ECF6",
           "caxis": {
            "gridcolor": "white",
            "linecolor": "white",
            "ticks": ""
           }
          },
          "title": {
           "x": 0.05
          },
          "xaxis": {
           "automargin": true,
           "gridcolor": "white",
           "linecolor": "white",
           "ticks": "",
           "title": {
            "standoff": 15
           },
           "zerolinecolor": "white",
           "zerolinewidth": 2
          },
          "yaxis": {
           "automargin": true,
           "gridcolor": "white",
           "linecolor": "white",
           "ticks": "",
           "title": {
            "standoff": 15
           },
           "zerolinecolor": "white",
           "zerolinewidth": 2
          }
         }
        },
        "title": {
         "text": "Training ROC Curve"
        },
        "width": 800,
        "xaxis": {
         "range": [
          0,
          1
         ],
         "title": {
          "text": "False Positive Rate (Sensitivty)"
         }
        },
        "yaxis": {
         "range": [
          0,
          1
         ],
         "title": {
          "text": "True Positive Rate (1-Precision)"
         }
        }
       }
      },
      "text/html": "<div>                            <div id=\"a77cd9b2-3374-4648-82f0-521b2668f014\" class=\"plotly-graph-div\" style=\"height:800px; width:800px;\"></div>            <script type=\"text/javascript\">                require([\"plotly\"], function(Plotly) {                    window.PLOTLYENV=window.PLOTLYENV || {};                                    if (document.getElementById(\"a77cd9b2-3374-4648-82f0-521b2668f014\")) {                    Plotly.newPlot(                        \"a77cd9b2-3374-4648-82f0-521b2668f014\",                        [{\"hovertemplate\": \"x=%{x}<br>y=%{y}<extra></extra>\", \"legendgroup\": \"\", \"line\": {\"color\": \"#636efa\", \"dash\": \"solid\"}, \"mode\": \"lines\", \"name\": \"\", \"orientation\": \"v\", \"showlegend\": false, \"type\": \"scatter\", \"x\": [0.0, 8.312551953449709e-05, 0.00016625103906899418, 0.0006650041562759767, 0.0006650041562759767, 0.0007481296758104738, 0.0008312551953449709, 0.000914380714879468, 0.0011637572734829592, 0.0012468827930174563, 0.0014131338320864505, 0.002660016625103907, 0.0029925187032418953, 0.003657522859517872, 0.003740648379052369, 0.003906899418121363, 0.004073150457190358, 0.004987531172069825, 0.006982543640897756, 0.008728179551122194, 0.00881130507065669, 0.013133832086450541, 0.013383208645054032, 0.013881961762261015, 0.014048212801330008, 0.02369077306733167, 0.050207813798836244, 0.050207813798836244, 0.051371571072319204, 0.051620947630922696, 0.05170407315045719, 0.05286783042394015, 0.05320033250207814, 0.05320033250207814, 0.08395677472984206, 0.08395677472984206, 0.08412302576891105, 0.08703241895261846, 0.08736492103075644, 0.09027431421446384, 0.09044056525353283, 0.09052369077306734, 0.09060681629260182, 0.09068994181213633, 0.09077306733167083, 0.0912718204488778, 0.0916874480465503, 0.10897755610972569, 0.11022443890274314, 0.11030756442227764, 0.11953449709060682, 0.11961762261014132, 0.1198669991687448, 0.14364089775561098, 0.15270157938487117, 0.15278470490440565, 0.15286783042394014, 0.15344970906068162, 0.15353283458021613, 0.15378221113881962, 0.1539484621778886, 0.1543640897755611, 0.15486284289276808, 0.15544472152950956, 0.17015793848711555, 0.17065669160432254, 0.171571072319202, 0.171737323358271, 0.728595178719867, 0.7332502078137988, 0.7374064837905236, 0.7394014962593516, 0.7394846217788861, 0.7405652535328345, 0.7406483790523691, 0.7411471321695761, 0.7411471321695761, 0.7509559434746467, 0.7523690773067332, 0.7527847049044056, 0.7527847049044056, 0.7554447215295096, 0.7556109725685786, 0.8510390689941812, 0.8513715710723192, 0.8513715710723192, 0.8517871986699916, 0.8517871986699916, 0.8518703241895261, 0.8518703241895261, 0.857190357439734, 0.8572734829592685, 0.8574397339983375, 0.8577722360764755, 0.8579384871155444, 0.8600166251039069, 0.8600166251039069, 0.87024106400665, 0.8706566916043226, 0.871737323358271, 0.8719866999168745, 0.872069825436409, 0.8724854530340814, 0.8750623441396509, 0.8760598503740649, 0.8763923524522028, 0.8783873649210308, 0.8784704904405652, 0.8784704904405652, 0.8792186201163757, 0.8807148794679966, 0.8808811305070656, 0.8822111388196177, 0.8825436408977556, 0.8826267664172901, 0.8826267664172901, 0.8827930174563591, 0.8827930174563591, 0.883956774729842, 0.8848711554447215, 0.9304239401496259, 0.930922693266833, 0.9310058187863675, 0.9310889443059019, 0.9314214463840399, 0.9316708229426434, 0.9316708229426434, 0.9318370739817123, 0.9323358270989194, 0.9329177057356608, 0.9330839567747299, 0.9392352452202827, 0.9393183707398172, 0.9394014962593517, 0.9398171238570241, 0.9399833748960931, 0.9399833748960931, 0.9408977556109726, 0.9410640066500415, 0.9413133832086451, 0.9413965087281796, 0.9415627597672486, 0.941812136325852, 0.9420615128844555, 0.9425602660016625, 0.9430590191188695, 0.9440565253532834, 0.9441396508728179, 0.9835411471321696, 0.983790523690773, 0.9842892768079801, 0.984455527847049, 0.9852036575228595, 0.9857024106400665, 0.9977556109725686, 0.9979218620116376, 0.9980881130507065, 0.9989193682460515, 0.9990856192851205, 0.9995843724023276, 0.999667497921862, 1.0, 1.0], \"xaxis\": \"x\", \"y\": [0.0, 0.0, 0.0, 0.0006085501293169025, 0.0007606876616461281, 0.0009128251939753537, 0.001217100258633805, 0.001217100258633805, 0.001217100258633805, 0.0015213753232922562, 0.0015213753232922562, 0.0027384755819260614, 0.0030427506465845124, 0.003194888178913738, 0.003194888178913738, 0.003194888178913738, 0.003651300775901415, 0.005172676099193671, 0.00730260155180283, 0.008823976875095086, 0.008823976875095086, 0.01323596531264263, 0.01354024037730108, 0.015213753232922561, 0.015213753232922561, 0.029818956336528223, 0.06907043967746843, 0.06983112733911456, 0.07043967746843147, 0.07120036513007759, 0.07120036513007759, 0.07196105279172371, 0.0724174653887114, 0.07256960292104062, 0.11303818652061463, 0.11334246158527309, 0.11410314924691921, 0.11927582534611289, 0.11942796287844211, 0.12216643846036818, 0.12262285105735585, 0.12262285105735585, 0.12338353871900198, 0.12338353871900198, 0.12368781378366044, 0.12368781378366044, 0.12399208884831887, 0.14087935493686293, 0.14224859272782595, 0.14224859272782595, 0.15168111973223794, 0.15168111973223794, 0.15228966986155484, 0.1751102997109387, 0.19230184086414118, 0.19275825346112885, 0.19275825346112885, 0.19321466605811655, 0.19351894112277498, 0.19382321618743345, 0.19382321618743345, 0.19443176631675035, 0.19519245397839646, 0.1959531416400426, 0.21466605811653736, 0.2148181956488666, 0.21588315837517116, 0.21588315837517116, 0.8063289213448958, 0.8107409097824433, 0.8133272478320401, 0.8143922105583448, 0.8143922105583448, 0.8163699984786247, 0.8163699984786247, 0.8165221360109539, 0.8166742735432831, 0.8279324509356458, 0.8293016887266088, 0.8296059637912673, 0.8297581013235965, 0.8332572645671688, 0.8335615396318272, 0.9181500076068766, 0.9183021451392058, 0.9184542826715351, 0.9189106952685228, 0.9193671078655105, 0.9193671078655105, 0.9195192453978397, 0.925148334094021, 0.925148334094021, 0.9256047466910087, 0.9256047466910087, 0.9259090217556671, 0.9266697094173133, 0.9268218469496424, 0.937927886809676, 0.9383842994066636, 0.9396013996652974, 0.9399056747299559, 0.9399056747299559, 0.9406663623916021, 0.942035600182565, 0.9432527004411988, 0.9447740757644911, 0.9456869009584664, 0.9456869009584664, 0.9458390384907956, 0.947360413814088, 0.9485775140727217, 0.948729651605051, 0.9493382017343679, 0.9496424767990264, 0.9497946143313556, 0.9499467518636848, 0.9499467518636848, 0.950098889396014, 0.9510117145899893, 0.9519245397839647, 0.9803742583295298, 0.9805263958618591, 0.9808306709265175, 0.9808306709265175, 0.9808306709265175, 0.9808306709265175, 0.9809828084588468, 0.9809828084588468, 0.981134945991176, 0.9814392210558345, 0.9814392210558345, 0.9856990719610528, 0.9856990719610528, 0.9861554845580405, 0.9863076220903697, 0.9864597596226989, 0.9866118971550282, 0.987220447284345, 0.9875247223490035, 0.9875247223490035, 0.9876768598813327, 0.9876768598813327, 0.9878289974136619, 0.9878289974136619, 0.9881332724783204, 0.9885896850753081, 0.9887418226076373, 0.9887418226076373, 0.9968051118210862, 0.9969572493534155, 0.9972615244180739, 0.9972615244180739, 0.9972615244180739, 0.9972615244180739, 0.9992393123383538, 0.9992393123383538, 0.9993914498706831, 0.9996957249353415, 0.9996957249353415, 0.9996957249353415, 0.9996957249353415, 0.9998478624676708, 1.0], \"yaxis\": \"y\"}, {\"hovertemplate\": \"x=%{x}<br>y=%{y}<extra></extra>\", \"legendgroup\": \"\", \"line\": {\"color\": \"rgba(50,50,50,0.2)\", \"dash\": \"solid\"}, \"mode\": \"lines\", \"name\": \"\", \"orientation\": \"v\", \"showlegend\": false, \"type\": \"scatter\", \"x\": [0, 1], \"xaxis\": \"x\", \"y\": [0, 1], \"yaxis\": \"y\"}],                        {\"autosize\": false, \"height\": 800, \"template\": {\"data\": {\"bar\": [{\"error_x\": {\"color\": \"#2a3f5f\"}, \"error_y\": {\"color\": \"#2a3f5f\"}, \"marker\": {\"line\": {\"color\": \"#E5ECF6\", \"width\": 0.5}}, \"type\": \"bar\"}], \"barpolar\": [{\"marker\": {\"line\": {\"color\": \"#E5ECF6\", \"width\": 0.5}}, \"type\": \"barpolar\"}], \"carpet\": [{\"aaxis\": {\"endlinecolor\": \"#2a3f5f\", \"gridcolor\": \"white\", \"linecolor\": \"white\", \"minorgridcolor\": \"white\", \"startlinecolor\": \"#2a3f5f\"}, \"baxis\": {\"endlinecolor\": \"#2a3f5f\", \"gridcolor\": \"white\", \"linecolor\": \"white\", \"minorgridcolor\": \"white\", \"startlinecolor\": \"#2a3f5f\"}, \"type\": \"carpet\"}], \"choropleth\": [{\"colorbar\": {\"outlinewidth\": 0, \"ticks\": \"\"}, \"type\": \"choropleth\"}], \"contour\": [{\"colorbar\": {\"outlinewidth\": 0, \"ticks\": \"\"}, \"colorscale\": [[0.0, \"#0d0887\"], [0.1111111111111111, \"#46039f\"], [0.2222222222222222, \"#7201a8\"], [0.3333333333333333, \"#9c179e\"], [0.4444444444444444, \"#bd3786\"], [0.5555555555555556, \"#d8576b\"], [0.6666666666666666, \"#ed7953\"], [0.7777777777777778, \"#fb9f3a\"], [0.8888888888888888, \"#fdca26\"], [1.0, \"#f0f921\"]], \"type\": \"contour\"}], \"contourcarpet\": [{\"colorbar\": {\"outlinewidth\": 0, \"ticks\": \"\"}, \"type\": \"contourcarpet\"}], \"heatmap\": [{\"colorbar\": {\"outlinewidth\": 0, \"ticks\": \"\"}, \"colorscale\": [[0.0, \"#0d0887\"], [0.1111111111111111, \"#46039f\"], [0.2222222222222222, \"#7201a8\"], [0.3333333333333333, \"#9c179e\"], [0.4444444444444444, \"#bd3786\"], [0.5555555555555556, \"#d8576b\"], [0.6666666666666666, \"#ed7953\"], [0.7777777777777778, \"#fb9f3a\"], [0.8888888888888888, \"#fdca26\"], [1.0, \"#f0f921\"]], \"type\": \"heatmap\"}], \"heatmapgl\": [{\"colorbar\": {\"outlinewidth\": 0, \"ticks\": \"\"}, \"colorscale\": [[0.0, \"#0d0887\"], [0.1111111111111111, \"#46039f\"], [0.2222222222222222, \"#7201a8\"], [0.3333333333333333, \"#9c179e\"], [0.4444444444444444, \"#bd3786\"], [0.5555555555555556, \"#d8576b\"], [0.6666666666666666, \"#ed7953\"], [0.7777777777777778, \"#fb9f3a\"], [0.8888888888888888, \"#fdca26\"], [1.0, \"#f0f921\"]], \"type\": \"heatmapgl\"}], \"histogram\": [{\"marker\": {\"colorbar\": {\"outlinewidth\": 0, \"ticks\": \"\"}}, \"type\": \"histogram\"}], \"histogram2d\": [{\"colorbar\": {\"outlinewidth\": 0, \"ticks\": \"\"}, \"colorscale\": [[0.0, \"#0d0887\"], [0.1111111111111111, \"#46039f\"], [0.2222222222222222, \"#7201a8\"], [0.3333333333333333, \"#9c179e\"], [0.4444444444444444, \"#bd3786\"], [0.5555555555555556, \"#d8576b\"], [0.6666666666666666, \"#ed7953\"], [0.7777777777777778, \"#fb9f3a\"], [0.8888888888888888, \"#fdca26\"], [1.0, \"#f0f921\"]], \"type\": \"histogram2d\"}], \"histogram2dcontour\": [{\"colorbar\": {\"outlinewidth\": 0, \"ticks\": \"\"}, \"colorscale\": [[0.0, \"#0d0887\"], [0.1111111111111111, \"#46039f\"], [0.2222222222222222, \"#7201a8\"], [0.3333333333333333, \"#9c179e\"], [0.4444444444444444, \"#bd3786\"], [0.5555555555555556, \"#d8576b\"], [0.6666666666666666, \"#ed7953\"], [0.7777777777777778, \"#fb9f3a\"], [0.8888888888888888, \"#fdca26\"], [1.0, \"#f0f921\"]], \"type\": \"histogram2dcontour\"}], \"mesh3d\": [{\"colorbar\": {\"outlinewidth\": 0, \"ticks\": \"\"}, \"type\": \"mesh3d\"}], \"parcoords\": [{\"line\": {\"colorbar\": {\"outlinewidth\": 0, \"ticks\": \"\"}}, \"type\": \"parcoords\"}], \"pie\": [{\"automargin\": true, \"type\": \"pie\"}], \"scatter\": [{\"marker\": {\"colorbar\": {\"outlinewidth\": 0, \"ticks\": \"\"}}, \"type\": \"scatter\"}], \"scatter3d\": [{\"line\": {\"colorbar\": {\"outlinewidth\": 0, \"ticks\": \"\"}}, \"marker\": {\"colorbar\": {\"outlinewidth\": 0, \"ticks\": \"\"}}, \"type\": \"scatter3d\"}], \"scattercarpet\": [{\"marker\": {\"colorbar\": {\"outlinewidth\": 0, \"ticks\": \"\"}}, \"type\": \"scattercarpet\"}], \"scattergeo\": [{\"marker\": {\"colorbar\": {\"outlinewidth\": 0, \"ticks\": \"\"}}, \"type\": \"scattergeo\"}], \"scattergl\": [{\"marker\": {\"colorbar\": {\"outlinewidth\": 0, \"ticks\": \"\"}}, \"type\": \"scattergl\"}], \"scattermapbox\": [{\"marker\": {\"colorbar\": {\"outlinewidth\": 0, \"ticks\": \"\"}}, \"type\": \"scattermapbox\"}], \"scatterpolar\": [{\"marker\": {\"colorbar\": {\"outlinewidth\": 0, \"ticks\": \"\"}}, \"type\": \"scatterpolar\"}], \"scatterpolargl\": [{\"marker\": {\"colorbar\": {\"outlinewidth\": 0, \"ticks\": \"\"}}, \"type\": \"scatterpolargl\"}], \"scatterternary\": [{\"marker\": {\"colorbar\": {\"outlinewidth\": 0, \"ticks\": \"\"}}, \"type\": \"scatterternary\"}], \"surface\": [{\"colorbar\": {\"outlinewidth\": 0, \"ticks\": \"\"}, \"colorscale\": [[0.0, \"#0d0887\"], [0.1111111111111111, \"#46039f\"], [0.2222222222222222, \"#7201a8\"], [0.3333333333333333, \"#9c179e\"], [0.4444444444444444, \"#bd3786\"], [0.5555555555555556, \"#d8576b\"], [0.6666666666666666, \"#ed7953\"], [0.7777777777777778, \"#fb9f3a\"], [0.8888888888888888, \"#fdca26\"], [1.0, \"#f0f921\"]], \"type\": \"surface\"}], \"table\": [{\"cells\": {\"fill\": {\"color\": \"#EBF0F8\"}, \"line\": {\"color\": \"white\"}}, \"header\": {\"fill\": {\"color\": \"#C8D4E3\"}, \"line\": {\"color\": \"white\"}}, \"type\": \"table\"}]}, \"layout\": {\"annotationdefaults\": {\"arrowcolor\": \"#2a3f5f\", \"arrowhead\": 0, \"arrowwidth\": 1}, \"autotypenumbers\": \"strict\", \"coloraxis\": {\"colorbar\": {\"outlinewidth\": 0, \"ticks\": \"\"}}, \"colorscale\": {\"diverging\": [[0, \"#8e0152\"], [0.1, \"#c51b7d\"], [0.2, \"#de77ae\"], [0.3, \"#f1b6da\"], [0.4, \"#fde0ef\"], [0.5, \"#f7f7f7\"], [0.6, \"#e6f5d0\"], [0.7, \"#b8e186\"], [0.8, \"#7fbc41\"], [0.9, \"#4d9221\"], [1, \"#276419\"]], \"sequential\": [[0.0, \"#0d0887\"], [0.1111111111111111, \"#46039f\"], [0.2222222222222222, \"#7201a8\"], [0.3333333333333333, \"#9c179e\"], [0.4444444444444444, \"#bd3786\"], [0.5555555555555556, \"#d8576b\"], [0.6666666666666666, \"#ed7953\"], [0.7777777777777778, \"#fb9f3a\"], [0.8888888888888888, \"#fdca26\"], [1.0, \"#f0f921\"]], \"sequentialminus\": [[0.0, \"#0d0887\"], [0.1111111111111111, \"#46039f\"], [0.2222222222222222, \"#7201a8\"], [0.3333333333333333, \"#9c179e\"], [0.4444444444444444, \"#bd3786\"], [0.5555555555555556, \"#d8576b\"], [0.6666666666666666, \"#ed7953\"], [0.7777777777777778, \"#fb9f3a\"], [0.8888888888888888, \"#fdca26\"], [1.0, \"#f0f921\"]]}, \"colorway\": [\"#636efa\", \"#EF553B\", \"#00cc96\", \"#ab63fa\", \"#FFA15A\", \"#19d3f3\", \"#FF6692\", \"#B6E880\", \"#FF97FF\", \"#FECB52\"], \"font\": {\"color\": \"#2a3f5f\"}, \"geo\": {\"bgcolor\": \"white\", \"lakecolor\": \"white\", \"landcolor\": \"#E5ECF6\", \"showlakes\": true, \"showland\": true, \"subunitcolor\": \"white\"}, \"hoverlabel\": {\"align\": \"left\"}, \"hovermode\": \"closest\", \"mapbox\": {\"style\": \"light\"}, \"paper_bgcolor\": \"white\", \"plot_bgcolor\": \"#E5ECF6\", \"polar\": {\"angularaxis\": {\"gridcolor\": \"white\", \"linecolor\": \"white\", \"ticks\": \"\"}, \"bgcolor\": \"#E5ECF6\", \"radialaxis\": {\"gridcolor\": \"white\", \"linecolor\": \"white\", \"ticks\": \"\"}}, \"scene\": {\"xaxis\": {\"backgroundcolor\": \"#E5ECF6\", \"gridcolor\": \"white\", \"gridwidth\": 2, \"linecolor\": \"white\", \"showbackground\": true, \"ticks\": \"\", \"zerolinecolor\": \"white\"}, \"yaxis\": {\"backgroundcolor\": \"#E5ECF6\", \"gridcolor\": \"white\", \"gridwidth\": 2, \"linecolor\": \"white\", \"showbackground\": true, \"ticks\": \"\", \"zerolinecolor\": \"white\"}, \"zaxis\": {\"backgroundcolor\": \"#E5ECF6\", \"gridcolor\": \"white\", \"gridwidth\": 2, \"linecolor\": \"white\", \"showbackground\": true, \"ticks\": \"\", \"zerolinecolor\": \"white\"}}, \"shapedefaults\": {\"line\": {\"color\": \"#2a3f5f\"}}, \"ternary\": {\"aaxis\": {\"gridcolor\": \"white\", \"linecolor\": \"white\", \"ticks\": \"\"}, \"baxis\": {\"gridcolor\": \"white\", \"linecolor\": \"white\", \"ticks\": \"\"}, \"bgcolor\": \"#E5ECF6\", \"caxis\": {\"gridcolor\": \"white\", \"linecolor\": \"white\", \"ticks\": \"\"}}, \"title\": {\"x\": 0.05}, \"xaxis\": {\"automargin\": true, \"gridcolor\": \"white\", \"linecolor\": \"white\", \"ticks\": \"\", \"title\": {\"standoff\": 15}, \"zerolinecolor\": \"white\", \"zerolinewidth\": 2}, \"yaxis\": {\"automargin\": true, \"gridcolor\": \"white\", \"linecolor\": \"white\", \"ticks\": \"\", \"title\": {\"standoff\": 15}, \"zerolinecolor\": \"white\", \"zerolinewidth\": 2}}}, \"title\": {\"text\": \"Training ROC Curve\"}, \"width\": 800, \"xaxis\": {\"range\": [0, 1], \"title\": {\"text\": \"False Positive Rate (Sensitivty)\"}}, \"yaxis\": {\"range\": [0, 1], \"title\": {\"text\": \"True Positive Rate (1-Precision)\"}}},                        {\"responsive\": true}                    ).then(function(){\n                            \nvar gd = document.getElementById('a77cd9b2-3374-4648-82f0-521b2668f014');\nvar x = new MutationObserver(function (mutations, observer) {{\n        var display = window.getComputedStyle(gd).display;\n        if (!display || display === 'none') {{\n            console.log([gd, 'removed!']);\n            Plotly.purge(gd);\n            observer.disconnect();\n        }}\n}});\n\n// Listen for the removal of the full notebook cells\nvar notebookContainer = gd.closest('#notebook-container');\nif (notebookContainer) {{\n    x.observe(notebookContainer, {childList: true});\n}}\n\n// Listen for the clearing of the current output cell\nvar outputEl = gd.closest('.output');\nif (outputEl) {{\n    x.observe(outputEl, {childList: true});\n}}\n\n                        })                };                });            </script>        </div>"
     },
     "metadata": {}
    },
    {
     "output_type": "stream",
     "name": "stdout",
     "text": [
      "Train AUC ROC score: 0.554\n"
     ]
    },
    {
     "output_type": "display_data",
     "data": {
      "application/vnd.plotly.v1+json": {
       "config": {
        "plotlyServerURL": "https://plot.ly"
       },
       "data": [
        {
         "hovertemplate": "x=%{x}<br>y=%{y}<extra></extra>",
         "legendgroup": "",
         "line": {
          "color": "#636efa",
          "dash": "solid"
         },
         "mode": "lines",
         "name": "",
         "orientation": "v",
         "showlegend": false,
         "type": "scatter",
         "x": [
          0,
          0.00008312551953449709,
          0.00016625103906899418,
          0.0006650041562759767,
          0.0006650041562759767,
          0.0007481296758104738,
          0.0008312551953449709,
          0.000914380714879468,
          0.0011637572734829592,
          0.0012468827930174563,
          0.0014131338320864505,
          0.002660016625103907,
          0.0029925187032418953,
          0.003657522859517872,
          0.003740648379052369,
          0.003906899418121363,
          0.004073150457190358,
          0.004987531172069825,
          0.006982543640897756,
          0.008728179551122194,
          0.00881130507065669,
          0.013133832086450541,
          0.013383208645054032,
          0.013881961762261015,
          0.014048212801330008,
          0.02369077306733167,
          0.050207813798836244,
          0.050207813798836244,
          0.051371571072319204,
          0.051620947630922696,
          0.05170407315045719,
          0.05286783042394015,
          0.05320033250207814,
          0.05320033250207814,
          0.08395677472984206,
          0.08395677472984206,
          0.08412302576891105,
          0.08703241895261846,
          0.08736492103075644,
          0.09027431421446384,
          0.09044056525353283,
          0.09052369077306734,
          0.09060681629260182,
          0.09068994181213633,
          0.09077306733167083,
          0.0912718204488778,
          0.0916874480465503,
          0.10897755610972569,
          0.11022443890274314,
          0.11030756442227764,
          0.11953449709060682,
          0.11961762261014132,
          0.1198669991687448,
          0.14364089775561098,
          0.15270157938487117,
          0.15278470490440565,
          0.15286783042394014,
          0.15344970906068162,
          0.15353283458021613,
          0.15378221113881962,
          0.1539484621778886,
          0.1543640897755611,
          0.15486284289276808,
          0.15544472152950956,
          0.17015793848711555,
          0.17065669160432254,
          0.171571072319202,
          0.171737323358271,
          0.728595178719867,
          0.7332502078137988,
          0.7374064837905236,
          0.7394014962593516,
          0.7394846217788861,
          0.7405652535328345,
          0.7406483790523691,
          0.7411471321695761,
          0.7411471321695761,
          0.7509559434746467,
          0.7523690773067332,
          0.7527847049044056,
          0.7527847049044056,
          0.7554447215295096,
          0.7556109725685786,
          0.8510390689941812,
          0.8513715710723192,
          0.8513715710723192,
          0.8517871986699916,
          0.8517871986699916,
          0.8518703241895261,
          0.8518703241895261,
          0.857190357439734,
          0.8572734829592685,
          0.8574397339983375,
          0.8577722360764755,
          0.8579384871155444,
          0.8600166251039069,
          0.8600166251039069,
          0.87024106400665,
          0.8706566916043226,
          0.871737323358271,
          0.8719866999168745,
          0.872069825436409,
          0.8724854530340814,
          0.8750623441396509,
          0.8760598503740649,
          0.8763923524522028,
          0.8783873649210308,
          0.8784704904405652,
          0.8784704904405652,
          0.8792186201163757,
          0.8807148794679966,
          0.8808811305070656,
          0.8822111388196177,
          0.8825436408977556,
          0.8826267664172901,
          0.8826267664172901,
          0.8827930174563591,
          0.8827930174563591,
          0.883956774729842,
          0.8848711554447215,
          0.9304239401496259,
          0.930922693266833,
          0.9310058187863675,
          0.9310889443059019,
          0.9314214463840399,
          0.9316708229426434,
          0.9316708229426434,
          0.9318370739817123,
          0.9323358270989194,
          0.9329177057356608,
          0.9330839567747299,
          0.9392352452202827,
          0.9393183707398172,
          0.9394014962593517,
          0.9398171238570241,
          0.9399833748960931,
          0.9399833748960931,
          0.9408977556109726,
          0.9410640066500415,
          0.9413133832086451,
          0.9413965087281796,
          0.9415627597672486,
          0.941812136325852,
          0.9420615128844555,
          0.9425602660016625,
          0.9430590191188695,
          0.9440565253532834,
          0.9441396508728179,
          0.9835411471321696,
          0.983790523690773,
          0.9842892768079801,
          0.984455527847049,
          0.9852036575228595,
          0.9857024106400665,
          0.9977556109725686,
          0.9979218620116376,
          0.9980881130507065,
          0.9989193682460515,
          0.9990856192851205,
          0.9995843724023276,
          0.999667497921862,
          1,
          1
         ],
         "xaxis": "x",
         "y": [
          0,
          0,
          0,
          0.0006085501293169025,
          0.0007606876616461281,
          0.0009128251939753537,
          0.001217100258633805,
          0.001217100258633805,
          0.001217100258633805,
          0.0015213753232922562,
          0.0015213753232922562,
          0.0027384755819260614,
          0.0030427506465845124,
          0.003194888178913738,
          0.003194888178913738,
          0.003194888178913738,
          0.003651300775901415,
          0.005172676099193671,
          0.00730260155180283,
          0.008823976875095086,
          0.008823976875095086,
          0.01323596531264263,
          0.01354024037730108,
          0.015213753232922561,
          0.015213753232922561,
          0.029818956336528223,
          0.06907043967746843,
          0.06983112733911456,
          0.07043967746843147,
          0.07120036513007759,
          0.07120036513007759,
          0.07196105279172371,
          0.0724174653887114,
          0.07256960292104062,
          0.11303818652061463,
          0.11334246158527309,
          0.11410314924691921,
          0.11927582534611289,
          0.11942796287844211,
          0.12216643846036818,
          0.12262285105735585,
          0.12262285105735585,
          0.12338353871900198,
          0.12338353871900198,
          0.12368781378366044,
          0.12368781378366044,
          0.12399208884831887,
          0.14087935493686293,
          0.14224859272782595,
          0.14224859272782595,
          0.15168111973223794,
          0.15168111973223794,
          0.15228966986155484,
          0.1751102997109387,
          0.19230184086414118,
          0.19275825346112885,
          0.19275825346112885,
          0.19321466605811655,
          0.19351894112277498,
          0.19382321618743345,
          0.19382321618743345,
          0.19443176631675035,
          0.19519245397839646,
          0.1959531416400426,
          0.21466605811653736,
          0.2148181956488666,
          0.21588315837517116,
          0.21588315837517116,
          0.8063289213448958,
          0.8107409097824433,
          0.8133272478320401,
          0.8143922105583448,
          0.8143922105583448,
          0.8163699984786247,
          0.8163699984786247,
          0.8165221360109539,
          0.8166742735432831,
          0.8279324509356458,
          0.8293016887266088,
          0.8296059637912673,
          0.8297581013235965,
          0.8332572645671688,
          0.8335615396318272,
          0.9181500076068766,
          0.9183021451392058,
          0.9184542826715351,
          0.9189106952685228,
          0.9193671078655105,
          0.9193671078655105,
          0.9195192453978397,
          0.925148334094021,
          0.925148334094021,
          0.9256047466910087,
          0.9256047466910087,
          0.9259090217556671,
          0.9266697094173133,
          0.9268218469496424,
          0.937927886809676,
          0.9383842994066636,
          0.9396013996652974,
          0.9399056747299559,
          0.9399056747299559,
          0.9406663623916021,
          0.942035600182565,
          0.9432527004411988,
          0.9447740757644911,
          0.9456869009584664,
          0.9456869009584664,
          0.9458390384907956,
          0.947360413814088,
          0.9485775140727217,
          0.948729651605051,
          0.9493382017343679,
          0.9496424767990264,
          0.9497946143313556,
          0.9499467518636848,
          0.9499467518636848,
          0.950098889396014,
          0.9510117145899893,
          0.9519245397839647,
          0.9803742583295298,
          0.9805263958618591,
          0.9808306709265175,
          0.9808306709265175,
          0.9808306709265175,
          0.9808306709265175,
          0.9809828084588468,
          0.9809828084588468,
          0.981134945991176,
          0.9814392210558345,
          0.9814392210558345,
          0.9856990719610528,
          0.9856990719610528,
          0.9861554845580405,
          0.9863076220903697,
          0.9864597596226989,
          0.9866118971550282,
          0.987220447284345,
          0.9875247223490035,
          0.9875247223490035,
          0.9876768598813327,
          0.9876768598813327,
          0.9878289974136619,
          0.9878289974136619,
          0.9881332724783204,
          0.9885896850753081,
          0.9887418226076373,
          0.9887418226076373,
          0.9968051118210862,
          0.9969572493534155,
          0.9972615244180739,
          0.9972615244180739,
          0.9972615244180739,
          0.9972615244180739,
          0.9992393123383538,
          0.9992393123383538,
          0.9993914498706831,
          0.9996957249353415,
          0.9996957249353415,
          0.9996957249353415,
          0.9996957249353415,
          0.9998478624676708,
          1
         ],
         "yaxis": "y"
        },
        {
         "hovertemplate": "x=%{x}<br>y=%{y}<extra></extra>",
         "legendgroup": "",
         "line": {
          "color": "rgba(50,50,50,0.2)",
          "dash": "solid"
         },
         "mode": "lines",
         "name": "",
         "orientation": "v",
         "showlegend": false,
         "type": "scatter",
         "x": [
          0,
          1
         ],
         "xaxis": "x",
         "y": [
          0,
          1
         ],
         "yaxis": "y"
        }
       ],
       "layout": {
        "autosize": false,
        "height": 800,
        "template": {
         "data": {
          "bar": [
           {
            "error_x": {
             "color": "#2a3f5f"
            },
            "error_y": {
             "color": "#2a3f5f"
            },
            "marker": {
             "line": {
              "color": "#E5ECF6",
              "width": 0.5
             }
            },
            "type": "bar"
           }
          ],
          "barpolar": [
           {
            "marker": {
             "line": {
              "color": "#E5ECF6",
              "width": 0.5
             }
            },
            "type": "barpolar"
           }
          ],
          "carpet": [
           {
            "aaxis": {
             "endlinecolor": "#2a3f5f",
             "gridcolor": "white",
             "linecolor": "white",
             "minorgridcolor": "white",
             "startlinecolor": "#2a3f5f"
            },
            "baxis": {
             "endlinecolor": "#2a3f5f",
             "gridcolor": "white",
             "linecolor": "white",
             "minorgridcolor": "white",
             "startlinecolor": "#2a3f5f"
            },
            "type": "carpet"
           }
          ],
          "choropleth": [
           {
            "colorbar": {
             "outlinewidth": 0,
             "ticks": ""
            },
            "type": "choropleth"
           }
          ],
          "contour": [
           {
            "colorbar": {
             "outlinewidth": 0,
             "ticks": ""
            },
            "colorscale": [
             [
              0,
              "#0d0887"
             ],
             [
              0.1111111111111111,
              "#46039f"
             ],
             [
              0.2222222222222222,
              "#7201a8"
             ],
             [
              0.3333333333333333,
              "#9c179e"
             ],
             [
              0.4444444444444444,
              "#bd3786"
             ],
             [
              0.5555555555555556,
              "#d8576b"
             ],
             [
              0.6666666666666666,
              "#ed7953"
             ],
             [
              0.7777777777777778,
              "#fb9f3a"
             ],
             [
              0.8888888888888888,
              "#fdca26"
             ],
             [
              1,
              "#f0f921"
             ]
            ],
            "type": "contour"
           }
          ],
          "contourcarpet": [
           {
            "colorbar": {
             "outlinewidth": 0,
             "ticks": ""
            },
            "type": "contourcarpet"
           }
          ],
          "heatmap": [
           {
            "colorbar": {
             "outlinewidth": 0,
             "ticks": ""
            },
            "colorscale": [
             [
              0,
              "#0d0887"
             ],
             [
              0.1111111111111111,
              "#46039f"
             ],
             [
              0.2222222222222222,
              "#7201a8"
             ],
             [
              0.3333333333333333,
              "#9c179e"
             ],
             [
              0.4444444444444444,
              "#bd3786"
             ],
             [
              0.5555555555555556,
              "#d8576b"
             ],
             [
              0.6666666666666666,
              "#ed7953"
             ],
             [
              0.7777777777777778,
              "#fb9f3a"
             ],
             [
              0.8888888888888888,
              "#fdca26"
             ],
             [
              1,
              "#f0f921"
             ]
            ],
            "type": "heatmap"
           }
          ],
          "heatmapgl": [
           {
            "colorbar": {
             "outlinewidth": 0,
             "ticks": ""
            },
            "colorscale": [
             [
              0,
              "#0d0887"
             ],
             [
              0.1111111111111111,
              "#46039f"
             ],
             [
              0.2222222222222222,
              "#7201a8"
             ],
             [
              0.3333333333333333,
              "#9c179e"
             ],
             [
              0.4444444444444444,
              "#bd3786"
             ],
             [
              0.5555555555555556,
              "#d8576b"
             ],
             [
              0.6666666666666666,
              "#ed7953"
             ],
             [
              0.7777777777777778,
              "#fb9f3a"
             ],
             [
              0.8888888888888888,
              "#fdca26"
             ],
             [
              1,
              "#f0f921"
             ]
            ],
            "type": "heatmapgl"
           }
          ],
          "histogram": [
           {
            "marker": {
             "colorbar": {
              "outlinewidth": 0,
              "ticks": ""
             }
            },
            "type": "histogram"
           }
          ],
          "histogram2d": [
           {
            "colorbar": {
             "outlinewidth": 0,
             "ticks": ""
            },
            "colorscale": [
             [
              0,
              "#0d0887"
             ],
             [
              0.1111111111111111,
              "#46039f"
             ],
             [
              0.2222222222222222,
              "#7201a8"
             ],
             [
              0.3333333333333333,
              "#9c179e"
             ],
             [
              0.4444444444444444,
              "#bd3786"
             ],
             [
              0.5555555555555556,
              "#d8576b"
             ],
             [
              0.6666666666666666,
              "#ed7953"
             ],
             [
              0.7777777777777778,
              "#fb9f3a"
             ],
             [
              0.8888888888888888,
              "#fdca26"
             ],
             [
              1,
              "#f0f921"
             ]
            ],
            "type": "histogram2d"
           }
          ],
          "histogram2dcontour": [
           {
            "colorbar": {
             "outlinewidth": 0,
             "ticks": ""
            },
            "colorscale": [
             [
              0,
              "#0d0887"
             ],
             [
              0.1111111111111111,
              "#46039f"
             ],
             [
              0.2222222222222222,
              "#7201a8"
             ],
             [
              0.3333333333333333,
              "#9c179e"
             ],
             [
              0.4444444444444444,
              "#bd3786"
             ],
             [
              0.5555555555555556,
              "#d8576b"
             ],
             [
              0.6666666666666666,
              "#ed7953"
             ],
             [
              0.7777777777777778,
              "#fb9f3a"
             ],
             [
              0.8888888888888888,
              "#fdca26"
             ],
             [
              1,
              "#f0f921"
             ]
            ],
            "type": "histogram2dcontour"
           }
          ],
          "mesh3d": [
           {
            "colorbar": {
             "outlinewidth": 0,
             "ticks": ""
            },
            "type": "mesh3d"
           }
          ],
          "parcoords": [
           {
            "line": {
             "colorbar": {
              "outlinewidth": 0,
              "ticks": ""
             }
            },
            "type": "parcoords"
           }
          ],
          "pie": [
           {
            "automargin": true,
            "type": "pie"
           }
          ],
          "scatter": [
           {
            "marker": {
             "colorbar": {
              "outlinewidth": 0,
              "ticks": ""
             }
            },
            "type": "scatter"
           }
          ],
          "scatter3d": [
           {
            "line": {
             "colorbar": {
              "outlinewidth": 0,
              "ticks": ""
             }
            },
            "marker": {
             "colorbar": {
              "outlinewidth": 0,
              "ticks": ""
             }
            },
            "type": "scatter3d"
           }
          ],
          "scattercarpet": [
           {
            "marker": {
             "colorbar": {
              "outlinewidth": 0,
              "ticks": ""
             }
            },
            "type": "scattercarpet"
           }
          ],
          "scattergeo": [
           {
            "marker": {
             "colorbar": {
              "outlinewidth": 0,
              "ticks": ""
             }
            },
            "type": "scattergeo"
           }
          ],
          "scattergl": [
           {
            "marker": {
             "colorbar": {
              "outlinewidth": 0,
              "ticks": ""
             }
            },
            "type": "scattergl"
           }
          ],
          "scattermapbox": [
           {
            "marker": {
             "colorbar": {
              "outlinewidth": 0,
              "ticks": ""
             }
            },
            "type": "scattermapbox"
           }
          ],
          "scatterpolar": [
           {
            "marker": {
             "colorbar": {
              "outlinewidth": 0,
              "ticks": ""
             }
            },
            "type": "scatterpolar"
           }
          ],
          "scatterpolargl": [
           {
            "marker": {
             "colorbar": {
              "outlinewidth": 0,
              "ticks": ""
             }
            },
            "type": "scatterpolargl"
           }
          ],
          "scatterternary": [
           {
            "marker": {
             "colorbar": {
              "outlinewidth": 0,
              "ticks": ""
             }
            },
            "type": "scatterternary"
           }
          ],
          "surface": [
           {
            "colorbar": {
             "outlinewidth": 0,
             "ticks": ""
            },
            "colorscale": [
             [
              0,
              "#0d0887"
             ],
             [
              0.1111111111111111,
              "#46039f"
             ],
             [
              0.2222222222222222,
              "#7201a8"
             ],
             [
              0.3333333333333333,
              "#9c179e"
             ],
             [
              0.4444444444444444,
              "#bd3786"
             ],
             [
              0.5555555555555556,
              "#d8576b"
             ],
             [
              0.6666666666666666,
              "#ed7953"
             ],
             [
              0.7777777777777778,
              "#fb9f3a"
             ],
             [
              0.8888888888888888,
              "#fdca26"
             ],
             [
              1,
              "#f0f921"
             ]
            ],
            "type": "surface"
           }
          ],
          "table": [
           {
            "cells": {
             "fill": {
              "color": "#EBF0F8"
             },
             "line": {
              "color": "white"
             }
            },
            "header": {
             "fill": {
              "color": "#C8D4E3"
             },
             "line": {
              "color": "white"
             }
            },
            "type": "table"
           }
          ]
         },
         "layout": {
          "annotationdefaults": {
           "arrowcolor": "#2a3f5f",
           "arrowhead": 0,
           "arrowwidth": 1
          },
          "autotypenumbers": "strict",
          "coloraxis": {
           "colorbar": {
            "outlinewidth": 0,
            "ticks": ""
           }
          },
          "colorscale": {
           "diverging": [
            [
             0,
             "#8e0152"
            ],
            [
             0.1,
             "#c51b7d"
            ],
            [
             0.2,
             "#de77ae"
            ],
            [
             0.3,
             "#f1b6da"
            ],
            [
             0.4,
             "#fde0ef"
            ],
            [
             0.5,
             "#f7f7f7"
            ],
            [
             0.6,
             "#e6f5d0"
            ],
            [
             0.7,
             "#b8e186"
            ],
            [
             0.8,
             "#7fbc41"
            ],
            [
             0.9,
             "#4d9221"
            ],
            [
             1,
             "#276419"
            ]
           ],
           "sequential": [
            [
             0,
             "#0d0887"
            ],
            [
             0.1111111111111111,
             "#46039f"
            ],
            [
             0.2222222222222222,
             "#7201a8"
            ],
            [
             0.3333333333333333,
             "#9c179e"
            ],
            [
             0.4444444444444444,
             "#bd3786"
            ],
            [
             0.5555555555555556,
             "#d8576b"
            ],
            [
             0.6666666666666666,
             "#ed7953"
            ],
            [
             0.7777777777777778,
             "#fb9f3a"
            ],
            [
             0.8888888888888888,
             "#fdca26"
            ],
            [
             1,
             "#f0f921"
            ]
           ],
           "sequentialminus": [
            [
             0,
             "#0d0887"
            ],
            [
             0.1111111111111111,
             "#46039f"
            ],
            [
             0.2222222222222222,
             "#7201a8"
            ],
            [
             0.3333333333333333,
             "#9c179e"
            ],
            [
             0.4444444444444444,
             "#bd3786"
            ],
            [
             0.5555555555555556,
             "#d8576b"
            ],
            [
             0.6666666666666666,
             "#ed7953"
            ],
            [
             0.7777777777777778,
             "#fb9f3a"
            ],
            [
             0.8888888888888888,
             "#fdca26"
            ],
            [
             1,
             "#f0f921"
            ]
           ]
          },
          "colorway": [
           "#636efa",
           "#EF553B",
           "#00cc96",
           "#ab63fa",
           "#FFA15A",
           "#19d3f3",
           "#FF6692",
           "#B6E880",
           "#FF97FF",
           "#FECB52"
          ],
          "font": {
           "color": "#2a3f5f"
          },
          "geo": {
           "bgcolor": "white",
           "lakecolor": "white",
           "landcolor": "#E5ECF6",
           "showlakes": true,
           "showland": true,
           "subunitcolor": "white"
          },
          "hoverlabel": {
           "align": "left"
          },
          "hovermode": "closest",
          "mapbox": {
           "style": "light"
          },
          "paper_bgcolor": "white",
          "plot_bgcolor": "#E5ECF6",
          "polar": {
           "angularaxis": {
            "gridcolor": "white",
            "linecolor": "white",
            "ticks": ""
           },
           "bgcolor": "#E5ECF6",
           "radialaxis": {
            "gridcolor": "white",
            "linecolor": "white",
            "ticks": ""
           }
          },
          "scene": {
           "xaxis": {
            "backgroundcolor": "#E5ECF6",
            "gridcolor": "white",
            "gridwidth": 2,
            "linecolor": "white",
            "showbackground": true,
            "ticks": "",
            "zerolinecolor": "white"
           },
           "yaxis": {
            "backgroundcolor": "#E5ECF6",
            "gridcolor": "white",
            "gridwidth": 2,
            "linecolor": "white",
            "showbackground": true,
            "ticks": "",
            "zerolinecolor": "white"
           },
           "zaxis": {
            "backgroundcolor": "#E5ECF6",
            "gridcolor": "white",
            "gridwidth": 2,
            "linecolor": "white",
            "showbackground": true,
            "ticks": "",
            "zerolinecolor": "white"
           }
          },
          "shapedefaults": {
           "line": {
            "color": "#2a3f5f"
           }
          },
          "ternary": {
           "aaxis": {
            "gridcolor": "white",
            "linecolor": "white",
            "ticks": ""
           },
           "baxis": {
            "gridcolor": "white",
            "linecolor": "white",
            "ticks": ""
           },
           "bgcolor": "#E5ECF6",
           "caxis": {
            "gridcolor": "white",
            "linecolor": "white",
            "ticks": ""
           }
          },
          "title": {
           "x": 0.05
          },
          "xaxis": {
           "automargin": true,
           "gridcolor": "white",
           "linecolor": "white",
           "ticks": "",
           "title": {
            "standoff": 15
           },
           "zerolinecolor": "white",
           "zerolinewidth": 2
          },
          "yaxis": {
           "automargin": true,
           "gridcolor": "white",
           "linecolor": "white",
           "ticks": "",
           "title": {
            "standoff": 15
           },
           "zerolinecolor": "white",
           "zerolinewidth": 2
          }
         }
        },
        "title": {
         "text": "Validation ROC Curve"
        },
        "width": 800,
        "xaxis": {
         "range": [
          0,
          1
         ],
         "title": {
          "text": "False Positive Rate (Sensitivty)"
         }
        },
        "yaxis": {
         "range": [
          0,
          1
         ],
         "title": {
          "text": "True Positive Rate (1-Precision)"
         }
        }
       }
      },
      "text/html": "<div>                            <div id=\"da71b6ca-80a3-4a0d-9b91-1a3d96932f51\" class=\"plotly-graph-div\" style=\"height:800px; width:800px;\"></div>            <script type=\"text/javascript\">                require([\"plotly\"], function(Plotly) {                    window.PLOTLYENV=window.PLOTLYENV || {};                                    if (document.getElementById(\"da71b6ca-80a3-4a0d-9b91-1a3d96932f51\")) {                    Plotly.newPlot(                        \"da71b6ca-80a3-4a0d-9b91-1a3d96932f51\",                        [{\"hovertemplate\": \"x=%{x}<br>y=%{y}<extra></extra>\", \"legendgroup\": \"\", \"line\": {\"color\": \"#636efa\", \"dash\": \"solid\"}, \"mode\": \"lines\", \"name\": \"\", \"orientation\": \"v\", \"showlegend\": false, \"type\": \"scatter\", \"x\": [0.0, 8.312551953449709e-05, 0.00016625103906899418, 0.0006650041562759767, 0.0006650041562759767, 0.0007481296758104738, 0.0008312551953449709, 0.000914380714879468, 0.0011637572734829592, 0.0012468827930174563, 0.0014131338320864505, 0.002660016625103907, 0.0029925187032418953, 0.003657522859517872, 0.003740648379052369, 0.003906899418121363, 0.004073150457190358, 0.004987531172069825, 0.006982543640897756, 0.008728179551122194, 0.00881130507065669, 0.013133832086450541, 0.013383208645054032, 0.013881961762261015, 0.014048212801330008, 0.02369077306733167, 0.050207813798836244, 0.050207813798836244, 0.051371571072319204, 0.051620947630922696, 0.05170407315045719, 0.05286783042394015, 0.05320033250207814, 0.05320033250207814, 0.08395677472984206, 0.08395677472984206, 0.08412302576891105, 0.08703241895261846, 0.08736492103075644, 0.09027431421446384, 0.09044056525353283, 0.09052369077306734, 0.09060681629260182, 0.09068994181213633, 0.09077306733167083, 0.0912718204488778, 0.0916874480465503, 0.10897755610972569, 0.11022443890274314, 0.11030756442227764, 0.11953449709060682, 0.11961762261014132, 0.1198669991687448, 0.14364089775561098, 0.15270157938487117, 0.15278470490440565, 0.15286783042394014, 0.15344970906068162, 0.15353283458021613, 0.15378221113881962, 0.1539484621778886, 0.1543640897755611, 0.15486284289276808, 0.15544472152950956, 0.17015793848711555, 0.17065669160432254, 0.171571072319202, 0.171737323358271, 0.728595178719867, 0.7332502078137988, 0.7374064837905236, 0.7394014962593516, 0.7394846217788861, 0.7405652535328345, 0.7406483790523691, 0.7411471321695761, 0.7411471321695761, 0.7509559434746467, 0.7523690773067332, 0.7527847049044056, 0.7527847049044056, 0.7554447215295096, 0.7556109725685786, 0.8510390689941812, 0.8513715710723192, 0.8513715710723192, 0.8517871986699916, 0.8517871986699916, 0.8518703241895261, 0.8518703241895261, 0.857190357439734, 0.8572734829592685, 0.8574397339983375, 0.8577722360764755, 0.8579384871155444, 0.8600166251039069, 0.8600166251039069, 0.87024106400665, 0.8706566916043226, 0.871737323358271, 0.8719866999168745, 0.872069825436409, 0.8724854530340814, 0.8750623441396509, 0.8760598503740649, 0.8763923524522028, 0.8783873649210308, 0.8784704904405652, 0.8784704904405652, 0.8792186201163757, 0.8807148794679966, 0.8808811305070656, 0.8822111388196177, 0.8825436408977556, 0.8826267664172901, 0.8826267664172901, 0.8827930174563591, 0.8827930174563591, 0.883956774729842, 0.8848711554447215, 0.9304239401496259, 0.930922693266833, 0.9310058187863675, 0.9310889443059019, 0.9314214463840399, 0.9316708229426434, 0.9316708229426434, 0.9318370739817123, 0.9323358270989194, 0.9329177057356608, 0.9330839567747299, 0.9392352452202827, 0.9393183707398172, 0.9394014962593517, 0.9398171238570241, 0.9399833748960931, 0.9399833748960931, 0.9408977556109726, 0.9410640066500415, 0.9413133832086451, 0.9413965087281796, 0.9415627597672486, 0.941812136325852, 0.9420615128844555, 0.9425602660016625, 0.9430590191188695, 0.9440565253532834, 0.9441396508728179, 0.9835411471321696, 0.983790523690773, 0.9842892768079801, 0.984455527847049, 0.9852036575228595, 0.9857024106400665, 0.9977556109725686, 0.9979218620116376, 0.9980881130507065, 0.9989193682460515, 0.9990856192851205, 0.9995843724023276, 0.999667497921862, 1.0, 1.0], \"xaxis\": \"x\", \"y\": [0.0, 0.0, 0.0, 0.0006085501293169025, 0.0007606876616461281, 0.0009128251939753537, 0.001217100258633805, 0.001217100258633805, 0.001217100258633805, 0.0015213753232922562, 0.0015213753232922562, 0.0027384755819260614, 0.0030427506465845124, 0.003194888178913738, 0.003194888178913738, 0.003194888178913738, 0.003651300775901415, 0.005172676099193671, 0.00730260155180283, 0.008823976875095086, 0.008823976875095086, 0.01323596531264263, 0.01354024037730108, 0.015213753232922561, 0.015213753232922561, 0.029818956336528223, 0.06907043967746843, 0.06983112733911456, 0.07043967746843147, 0.07120036513007759, 0.07120036513007759, 0.07196105279172371, 0.0724174653887114, 0.07256960292104062, 0.11303818652061463, 0.11334246158527309, 0.11410314924691921, 0.11927582534611289, 0.11942796287844211, 0.12216643846036818, 0.12262285105735585, 0.12262285105735585, 0.12338353871900198, 0.12338353871900198, 0.12368781378366044, 0.12368781378366044, 0.12399208884831887, 0.14087935493686293, 0.14224859272782595, 0.14224859272782595, 0.15168111973223794, 0.15168111973223794, 0.15228966986155484, 0.1751102997109387, 0.19230184086414118, 0.19275825346112885, 0.19275825346112885, 0.19321466605811655, 0.19351894112277498, 0.19382321618743345, 0.19382321618743345, 0.19443176631675035, 0.19519245397839646, 0.1959531416400426, 0.21466605811653736, 0.2148181956488666, 0.21588315837517116, 0.21588315837517116, 0.8063289213448958, 0.8107409097824433, 0.8133272478320401, 0.8143922105583448, 0.8143922105583448, 0.8163699984786247, 0.8163699984786247, 0.8165221360109539, 0.8166742735432831, 0.8279324509356458, 0.8293016887266088, 0.8296059637912673, 0.8297581013235965, 0.8332572645671688, 0.8335615396318272, 0.9181500076068766, 0.9183021451392058, 0.9184542826715351, 0.9189106952685228, 0.9193671078655105, 0.9193671078655105, 0.9195192453978397, 0.925148334094021, 0.925148334094021, 0.9256047466910087, 0.9256047466910087, 0.9259090217556671, 0.9266697094173133, 0.9268218469496424, 0.937927886809676, 0.9383842994066636, 0.9396013996652974, 0.9399056747299559, 0.9399056747299559, 0.9406663623916021, 0.942035600182565, 0.9432527004411988, 0.9447740757644911, 0.9456869009584664, 0.9456869009584664, 0.9458390384907956, 0.947360413814088, 0.9485775140727217, 0.948729651605051, 0.9493382017343679, 0.9496424767990264, 0.9497946143313556, 0.9499467518636848, 0.9499467518636848, 0.950098889396014, 0.9510117145899893, 0.9519245397839647, 0.9803742583295298, 0.9805263958618591, 0.9808306709265175, 0.9808306709265175, 0.9808306709265175, 0.9808306709265175, 0.9809828084588468, 0.9809828084588468, 0.981134945991176, 0.9814392210558345, 0.9814392210558345, 0.9856990719610528, 0.9856990719610528, 0.9861554845580405, 0.9863076220903697, 0.9864597596226989, 0.9866118971550282, 0.987220447284345, 0.9875247223490035, 0.9875247223490035, 0.9876768598813327, 0.9876768598813327, 0.9878289974136619, 0.9878289974136619, 0.9881332724783204, 0.9885896850753081, 0.9887418226076373, 0.9887418226076373, 0.9968051118210862, 0.9969572493534155, 0.9972615244180739, 0.9972615244180739, 0.9972615244180739, 0.9972615244180739, 0.9992393123383538, 0.9992393123383538, 0.9993914498706831, 0.9996957249353415, 0.9996957249353415, 0.9996957249353415, 0.9996957249353415, 0.9998478624676708, 1.0], \"yaxis\": \"y\"}, {\"hovertemplate\": \"x=%{x}<br>y=%{y}<extra></extra>\", \"legendgroup\": \"\", \"line\": {\"color\": \"rgba(50,50,50,0.2)\", \"dash\": \"solid\"}, \"mode\": \"lines\", \"name\": \"\", \"orientation\": \"v\", \"showlegend\": false, \"type\": \"scatter\", \"x\": [0, 1], \"xaxis\": \"x\", \"y\": [0, 1], \"yaxis\": \"y\"}],                        {\"autosize\": false, \"height\": 800, \"template\": {\"data\": {\"bar\": [{\"error_x\": {\"color\": \"#2a3f5f\"}, \"error_y\": {\"color\": \"#2a3f5f\"}, \"marker\": {\"line\": {\"color\": \"#E5ECF6\", \"width\": 0.5}}, \"type\": \"bar\"}], \"barpolar\": [{\"marker\": {\"line\": {\"color\": \"#E5ECF6\", \"width\": 0.5}}, \"type\": \"barpolar\"}], \"carpet\": [{\"aaxis\": {\"endlinecolor\": \"#2a3f5f\", \"gridcolor\": \"white\", \"linecolor\": \"white\", \"minorgridcolor\": \"white\", \"startlinecolor\": \"#2a3f5f\"}, \"baxis\": {\"endlinecolor\": \"#2a3f5f\", \"gridcolor\": \"white\", \"linecolor\": \"white\", \"minorgridcolor\": \"white\", \"startlinecolor\": \"#2a3f5f\"}, \"type\": \"carpet\"}], \"choropleth\": [{\"colorbar\": {\"outlinewidth\": 0, \"ticks\": \"\"}, \"type\": \"choropleth\"}], \"contour\": [{\"colorbar\": {\"outlinewidth\": 0, \"ticks\": \"\"}, \"colorscale\": [[0.0, \"#0d0887\"], [0.1111111111111111, \"#46039f\"], [0.2222222222222222, \"#7201a8\"], [0.3333333333333333, \"#9c179e\"], [0.4444444444444444, \"#bd3786\"], [0.5555555555555556, \"#d8576b\"], [0.6666666666666666, \"#ed7953\"], [0.7777777777777778, \"#fb9f3a\"], [0.8888888888888888, \"#fdca26\"], [1.0, \"#f0f921\"]], \"type\": \"contour\"}], \"contourcarpet\": [{\"colorbar\": {\"outlinewidth\": 0, \"ticks\": \"\"}, \"type\": \"contourcarpet\"}], \"heatmap\": [{\"colorbar\": {\"outlinewidth\": 0, \"ticks\": \"\"}, \"colorscale\": [[0.0, \"#0d0887\"], [0.1111111111111111, \"#46039f\"], [0.2222222222222222, \"#7201a8\"], [0.3333333333333333, \"#9c179e\"], [0.4444444444444444, \"#bd3786\"], [0.5555555555555556, \"#d8576b\"], [0.6666666666666666, \"#ed7953\"], [0.7777777777777778, \"#fb9f3a\"], [0.8888888888888888, \"#fdca26\"], [1.0, \"#f0f921\"]], \"type\": \"heatmap\"}], \"heatmapgl\": [{\"colorbar\": {\"outlinewidth\": 0, \"ticks\": \"\"}, \"colorscale\": [[0.0, \"#0d0887\"], [0.1111111111111111, \"#46039f\"], [0.2222222222222222, \"#7201a8\"], [0.3333333333333333, \"#9c179e\"], [0.4444444444444444, \"#bd3786\"], [0.5555555555555556, \"#d8576b\"], [0.6666666666666666, \"#ed7953\"], [0.7777777777777778, \"#fb9f3a\"], [0.8888888888888888, \"#fdca26\"], [1.0, \"#f0f921\"]], \"type\": \"heatmapgl\"}], \"histogram\": [{\"marker\": {\"colorbar\": {\"outlinewidth\": 0, \"ticks\": \"\"}}, \"type\": \"histogram\"}], \"histogram2d\": [{\"colorbar\": {\"outlinewidth\": 0, \"ticks\": \"\"}, \"colorscale\": [[0.0, \"#0d0887\"], [0.1111111111111111, \"#46039f\"], [0.2222222222222222, \"#7201a8\"], [0.3333333333333333, \"#9c179e\"], [0.4444444444444444, \"#bd3786\"], [0.5555555555555556, \"#d8576b\"], [0.6666666666666666, \"#ed7953\"], [0.7777777777777778, \"#fb9f3a\"], [0.8888888888888888, \"#fdca26\"], [1.0, \"#f0f921\"]], \"type\": \"histogram2d\"}], \"histogram2dcontour\": [{\"colorbar\": {\"outlinewidth\": 0, \"ticks\": \"\"}, \"colorscale\": [[0.0, \"#0d0887\"], [0.1111111111111111, \"#46039f\"], [0.2222222222222222, \"#7201a8\"], [0.3333333333333333, \"#9c179e\"], [0.4444444444444444, \"#bd3786\"], [0.5555555555555556, \"#d8576b\"], [0.6666666666666666, \"#ed7953\"], [0.7777777777777778, \"#fb9f3a\"], [0.8888888888888888, \"#fdca26\"], [1.0, \"#f0f921\"]], \"type\": \"histogram2dcontour\"}], \"mesh3d\": [{\"colorbar\": {\"outlinewidth\": 0, \"ticks\": \"\"}, \"type\": \"mesh3d\"}], \"parcoords\": [{\"line\": {\"colorbar\": {\"outlinewidth\": 0, \"ticks\": \"\"}}, \"type\": \"parcoords\"}], \"pie\": [{\"automargin\": true, \"type\": \"pie\"}], \"scatter\": [{\"marker\": {\"colorbar\": {\"outlinewidth\": 0, \"ticks\": \"\"}}, \"type\": \"scatter\"}], \"scatter3d\": [{\"line\": {\"colorbar\": {\"outlinewidth\": 0, \"ticks\": \"\"}}, \"marker\": {\"colorbar\": {\"outlinewidth\": 0, \"ticks\": \"\"}}, \"type\": \"scatter3d\"}], \"scattercarpet\": [{\"marker\": {\"colorbar\": {\"outlinewidth\": 0, \"ticks\": \"\"}}, \"type\": \"scattercarpet\"}], \"scattergeo\": [{\"marker\": {\"colorbar\": {\"outlinewidth\": 0, \"ticks\": \"\"}}, \"type\": \"scattergeo\"}], \"scattergl\": [{\"marker\": {\"colorbar\": {\"outlinewidth\": 0, \"ticks\": \"\"}}, \"type\": \"scattergl\"}], \"scattermapbox\": [{\"marker\": {\"colorbar\": {\"outlinewidth\": 0, \"ticks\": \"\"}}, \"type\": \"scattermapbox\"}], \"scatterpolar\": [{\"marker\": {\"colorbar\": {\"outlinewidth\": 0, \"ticks\": \"\"}}, \"type\": \"scatterpolar\"}], \"scatterpolargl\": [{\"marker\": {\"colorbar\": {\"outlinewidth\": 0, \"ticks\": \"\"}}, \"type\": \"scatterpolargl\"}], \"scatterternary\": [{\"marker\": {\"colorbar\": {\"outlinewidth\": 0, \"ticks\": \"\"}}, \"type\": \"scatterternary\"}], \"surface\": [{\"colorbar\": {\"outlinewidth\": 0, \"ticks\": \"\"}, \"colorscale\": [[0.0, \"#0d0887\"], [0.1111111111111111, \"#46039f\"], [0.2222222222222222, \"#7201a8\"], [0.3333333333333333, \"#9c179e\"], [0.4444444444444444, \"#bd3786\"], [0.5555555555555556, \"#d8576b\"], [0.6666666666666666, \"#ed7953\"], [0.7777777777777778, \"#fb9f3a\"], [0.8888888888888888, \"#fdca26\"], [1.0, \"#f0f921\"]], \"type\": \"surface\"}], \"table\": [{\"cells\": {\"fill\": {\"color\": \"#EBF0F8\"}, \"line\": {\"color\": \"white\"}}, \"header\": {\"fill\": {\"color\": \"#C8D4E3\"}, \"line\": {\"color\": \"white\"}}, \"type\": \"table\"}]}, \"layout\": {\"annotationdefaults\": {\"arrowcolor\": \"#2a3f5f\", \"arrowhead\": 0, \"arrowwidth\": 1}, \"autotypenumbers\": \"strict\", \"coloraxis\": {\"colorbar\": {\"outlinewidth\": 0, \"ticks\": \"\"}}, \"colorscale\": {\"diverging\": [[0, \"#8e0152\"], [0.1, \"#c51b7d\"], [0.2, \"#de77ae\"], [0.3, \"#f1b6da\"], [0.4, \"#fde0ef\"], [0.5, \"#f7f7f7\"], [0.6, \"#e6f5d0\"], [0.7, \"#b8e186\"], [0.8, \"#7fbc41\"], [0.9, \"#4d9221\"], [1, \"#276419\"]], \"sequential\": [[0.0, \"#0d0887\"], [0.1111111111111111, \"#46039f\"], [0.2222222222222222, \"#7201a8\"], [0.3333333333333333, \"#9c179e\"], [0.4444444444444444, \"#bd3786\"], [0.5555555555555556, \"#d8576b\"], [0.6666666666666666, \"#ed7953\"], [0.7777777777777778, \"#fb9f3a\"], [0.8888888888888888, \"#fdca26\"], [1.0, \"#f0f921\"]], \"sequentialminus\": [[0.0, \"#0d0887\"], [0.1111111111111111, \"#46039f\"], [0.2222222222222222, \"#7201a8\"], [0.3333333333333333, \"#9c179e\"], [0.4444444444444444, \"#bd3786\"], [0.5555555555555556, \"#d8576b\"], [0.6666666666666666, \"#ed7953\"], [0.7777777777777778, \"#fb9f3a\"], [0.8888888888888888, \"#fdca26\"], [1.0, \"#f0f921\"]]}, \"colorway\": [\"#636efa\", \"#EF553B\", \"#00cc96\", \"#ab63fa\", \"#FFA15A\", \"#19d3f3\", \"#FF6692\", \"#B6E880\", \"#FF97FF\", \"#FECB52\"], \"font\": {\"color\": \"#2a3f5f\"}, \"geo\": {\"bgcolor\": \"white\", \"lakecolor\": \"white\", \"landcolor\": \"#E5ECF6\", \"showlakes\": true, \"showland\": true, \"subunitcolor\": \"white\"}, \"hoverlabel\": {\"align\": \"left\"}, \"hovermode\": \"closest\", \"mapbox\": {\"style\": \"light\"}, \"paper_bgcolor\": \"white\", \"plot_bgcolor\": \"#E5ECF6\", \"polar\": {\"angularaxis\": {\"gridcolor\": \"white\", \"linecolor\": \"white\", \"ticks\": \"\"}, \"bgcolor\": \"#E5ECF6\", \"radialaxis\": {\"gridcolor\": \"white\", \"linecolor\": \"white\", \"ticks\": \"\"}}, \"scene\": {\"xaxis\": {\"backgroundcolor\": \"#E5ECF6\", \"gridcolor\": \"white\", \"gridwidth\": 2, \"linecolor\": \"white\", \"showbackground\": true, \"ticks\": \"\", \"zerolinecolor\": \"white\"}, \"yaxis\": {\"backgroundcolor\": \"#E5ECF6\", \"gridcolor\": \"white\", \"gridwidth\": 2, \"linecolor\": \"white\", \"showbackground\": true, \"ticks\": \"\", \"zerolinecolor\": \"white\"}, \"zaxis\": {\"backgroundcolor\": \"#E5ECF6\", \"gridcolor\": \"white\", \"gridwidth\": 2, \"linecolor\": \"white\", \"showbackground\": true, \"ticks\": \"\", \"zerolinecolor\": \"white\"}}, \"shapedefaults\": {\"line\": {\"color\": \"#2a3f5f\"}}, \"ternary\": {\"aaxis\": {\"gridcolor\": \"white\", \"linecolor\": \"white\", \"ticks\": \"\"}, \"baxis\": {\"gridcolor\": \"white\", \"linecolor\": \"white\", \"ticks\": \"\"}, \"bgcolor\": \"#E5ECF6\", \"caxis\": {\"gridcolor\": \"white\", \"linecolor\": \"white\", \"ticks\": \"\"}}, \"title\": {\"x\": 0.05}, \"xaxis\": {\"automargin\": true, \"gridcolor\": \"white\", \"linecolor\": \"white\", \"ticks\": \"\", \"title\": {\"standoff\": 15}, \"zerolinecolor\": \"white\", \"zerolinewidth\": 2}, \"yaxis\": {\"automargin\": true, \"gridcolor\": \"white\", \"linecolor\": \"white\", \"ticks\": \"\", \"title\": {\"standoff\": 15}, \"zerolinecolor\": \"white\", \"zerolinewidth\": 2}}}, \"title\": {\"text\": \"Validation ROC Curve\"}, \"width\": 800, \"xaxis\": {\"range\": [0, 1], \"title\": {\"text\": \"False Positive Rate (Sensitivty)\"}}, \"yaxis\": {\"range\": [0, 1], \"title\": {\"text\": \"True Positive Rate (1-Precision)\"}}},                        {\"responsive\": true}                    ).then(function(){\n                            \nvar gd = document.getElementById('da71b6ca-80a3-4a0d-9b91-1a3d96932f51');\nvar x = new MutationObserver(function (mutations, observer) {{\n        var display = window.getComputedStyle(gd).display;\n        if (!display || display === 'none') {{\n            console.log([gd, 'removed!']);\n            Plotly.purge(gd);\n            observer.disconnect();\n        }}\n}});\n\n// Listen for the removal of the full notebook cells\nvar notebookContainer = gd.closest('#notebook-container');\nif (notebookContainer) {{\n    x.observe(notebookContainer, {childList: true});\n}}\n\n// Listen for the clearing of the current output cell\nvar outputEl = gd.closest('.output');\nif (outputEl) {{\n    x.observe(outputEl, {childList: true});\n}}\n\n                        })                };                });            </script>        </div>"
     },
     "metadata": {}
    },
    {
     "output_type": "stream",
     "name": "stdout",
     "text": [
      "Validate AUC ROC score: 0.554\n",
      "True Negatives: 23,815\n",
      "False Positives: 76\n",
      "False Negatives: 13,242\n",
      "True Positives: 71\n",
      "\n",
      "True positive rate: 0.005333\n",
      "False positive rate: 0.003181\n",
      "Confusion matrix:\n",
      " [[23815    76]\n",
      " [13242    71]]\n"
     ]
    },
    {
     "output_type": "display_data",
     "data": {
      "text/plain": "<Figure size 432x288 with 2 Axes>",
      "image/svg+xml": "<?xml version=\"1.0\" encoding=\"utf-8\" standalone=\"no\"?>\n<!DOCTYPE svg PUBLIC \"-//W3C//DTD SVG 1.1//EN\"\n  \"http://www.w3.org/Graphics/SVG/1.1/DTD/svg11.dtd\">\n<!-- Created with matplotlib (https://matplotlib.org/) -->\n<svg height=\"277.314375pt\" version=\"1.1\" viewBox=\"0 0 354.791062 277.314375\" width=\"354.791062pt\" xmlns=\"http://www.w3.org/2000/svg\" xmlns:xlink=\"http://www.w3.org/1999/xlink\">\n <metadata>\n  <rdf:RDF xmlns:cc=\"http://creativecommons.org/ns#\" xmlns:dc=\"http://purl.org/dc/elements/1.1/\" xmlns:rdf=\"http://www.w3.org/1999/02/22-rdf-syntax-ns#\">\n   <cc:Work>\n    <dc:type rdf:resource=\"http://purl.org/dc/dcmitype/StillImage\"/>\n    <dc:date>2021-04-23T11:50:47.954579</dc:date>\n    <dc:format>image/svg+xml</dc:format>\n    <dc:creator>\n     <cc:Agent>\n      <dc:title>Matplotlib v3.3.4, https://matplotlib.org/</dc:title>\n     </cc:Agent>\n    </dc:creator>\n   </cc:Work>\n  </rdf:RDF>\n </metadata>\n <defs>\n  <style type=\"text/css\">*{stroke-linecap:butt;stroke-linejoin:round;}</style>\n </defs>\n <g id=\"figure_1\">\n  <g id=\"patch_1\">\n   <path d=\"M 0 277.314375 \nL 354.791062 277.314375 \nL 354.791062 0 \nL 0 0 \nz\n\" style=\"fill:none;\"/>\n  </g>\n  <g id=\"axes_1\">\n   <g id=\"patch_2\">\n    <path d=\"M 63.726563 256.43625 \nL 281.166562 256.43625 \nL 281.166562 38.99625 \nL 63.726563 38.99625 \nz\n\" style=\"fill:#ffffff;\"/>\n   </g>\n   <g clip-path=\"url(#p9e5ac2517d)\">\n    <image height=\"218\" id=\"imagef2c9fc91e6\" transform=\"scale(1 -1)translate(0 -218)\" width=\"218\" x=\"63.726563\" xlink:href=\"data:image/png;base64,\niVBORw0KGgoAAAANSUhEUgAAANoAAADaCAYAAADAHVzbAAACmklEQVR4nO3VQQ3CUAAFQcoJOeCG1AJ2eifoIcEKEloN/7I/hBkF77J5y/312U/8lOd6mz2BQefZA+AfCA0CQoOA0CAgNAgIDQJCg4DQICA0CAgNAkKDgNAgIDQICA0CQoOA0CAgNAgIDQJCg4DQICA0CAgNAkKDgNAgIDQICA0CQoOA0CAgNAgIDQJCg4DQICA0CAgNAkKDgNAgIDQICA0CQoOA0CAgNAgIDQJCg4DQICA0CAgNAkKDgNAgIDQICA0CQoOA0CAgNAgIDQJCg4DQICA0CAgNAkKDgNAgIDQICA0CQoOA0CAgNAgIDQJCg4DQICA0CAgNAkKDgNAgIDQICA0CQoOA0CAgNAgIDQJCg4DQICA0CAgNAkKDgNAgIDQICA0CQoOA0CAgNAgIDQJCg4DQICA0CAgNAkKDgNAgIDQICA0CQoOA0CAgNAgIDQJCg4DQICA0CAgNAkKDgNAgsFyuj332CMZ839vsCQzyaBAQGgSEBgGhQUBoEBAaBIQGAaFBQGgQEBoEhAYBoUFAaBAQGgSEBgGhQUBoEBAaBIQGAaFBQGgQEBoEhAYBoUFAaBAQGgSEBgGhQUBoEBAaBIQGAaFBQGgQEBoEhAYBoUFAaBAQGgSEBgGhQUBoEBAaBIQGAaFBQGgQEBoEhAYBoUFAaBAQGgSEBgGhQUBoEBAaBIQGAaFBQGgQEBoEhAYBoUFAaBAQGgSEBgGhQUBoEBAaBIQGAaFBQGgQEBoEhAYBoUFAaBAQGgSEBgGhQUBoEBAaBIQGAaFBQGgQEBoEhAYBoUFAaBAQGgSEBgGhQUBoEBAaBIQGAaFBQGgQEBoEhAYBoUFAaBAQGgSEBgGhQUBoEBAaBIQGAaFBQGgQEBoEhAYBoUHgAHgBCZOQH2lWAAAAAElFTkSuQmCC\" y=\"-38.43625\"/>\n   </g>\n   <g id=\"matplotlib.axis_1\">\n    <g id=\"xtick_1\">\n     <g id=\"line2d_1\">\n      <defs>\n       <path d=\"M 0 0 \nL 0 3.5 \n\" id=\"md14db142fa\" style=\"stroke:#000000;stroke-width:0.8;\"/>\n      </defs>\n      <g>\n       <use style=\"stroke:#000000;stroke-width:0.8;\" x=\"118.086563\" xlink:href=\"#md14db142fa\" y=\"256.43625\"/>\n      </g>\n     </g>\n     <g id=\"line2d_2\">\n      <defs>\n       <path d=\"M 0 0 \nL 0 -3.5 \n\" id=\"m42ab62096a\" style=\"stroke:#000000;stroke-width:0.8;\"/>\n      </defs>\n      <g>\n       <use style=\"stroke:#000000;stroke-width:0.8;\" x=\"118.086563\" xlink:href=\"#m42ab62096a\" y=\"38.99625\"/>\n      </g>\n     </g>\n     <g id=\"text_1\">\n      <!-- Class 0 -->\n      <g transform=\"translate(100.162344 29.916562)scale(0.1 -0.1)\">\n       <defs>\n        <path d=\"M 64.40625 67.28125 \nL 64.40625 56.890625 \nQ 59.421875 61.53125 53.78125 63.8125 \nQ 48.140625 66.109375 41.796875 66.109375 \nQ 29.296875 66.109375 22.65625 58.46875 \nQ 16.015625 50.828125 16.015625 36.375 \nQ 16.015625 21.96875 22.65625 14.328125 \nQ 29.296875 6.6875 41.796875 6.6875 \nQ 48.140625 6.6875 53.78125 8.984375 \nQ 59.421875 11.28125 64.40625 15.921875 \nL 64.40625 5.609375 \nQ 59.234375 2.09375 53.4375 0.328125 \nQ 47.65625 -1.421875 41.21875 -1.421875 \nQ 24.65625 -1.421875 15.125 8.703125 \nQ 5.609375 18.84375 5.609375 36.375 \nQ 5.609375 53.953125 15.125 64.078125 \nQ 24.65625 74.21875 41.21875 74.21875 \nQ 47.75 74.21875 53.53125 72.484375 \nQ 59.328125 70.75 64.40625 67.28125 \nz\n\" id=\"DejaVuSans-67\"/>\n        <path d=\"M 9.421875 75.984375 \nL 18.40625 75.984375 \nL 18.40625 0 \nL 9.421875 0 \nz\n\" id=\"DejaVuSans-108\"/>\n        <path d=\"M 34.28125 27.484375 \nQ 23.390625 27.484375 19.1875 25 \nQ 14.984375 22.515625 14.984375 16.5 \nQ 14.984375 11.71875 18.140625 8.90625 \nQ 21.296875 6.109375 26.703125 6.109375 \nQ 34.1875 6.109375 38.703125 11.40625 \nQ 43.21875 16.703125 43.21875 25.484375 \nL 43.21875 27.484375 \nz\nM 52.203125 31.203125 \nL 52.203125 0 \nL 43.21875 0 \nL 43.21875 8.296875 \nQ 40.140625 3.328125 35.546875 0.953125 \nQ 30.953125 -1.421875 24.3125 -1.421875 \nQ 15.921875 -1.421875 10.953125 3.296875 \nQ 6 8.015625 6 15.921875 \nQ 6 25.140625 12.171875 29.828125 \nQ 18.359375 34.515625 30.609375 34.515625 \nL 43.21875 34.515625 \nL 43.21875 35.40625 \nQ 43.21875 41.609375 39.140625 45 \nQ 35.0625 48.390625 27.6875 48.390625 \nQ 23 48.390625 18.546875 47.265625 \nQ 14.109375 46.140625 10.015625 43.890625 \nL 10.015625 52.203125 \nQ 14.9375 54.109375 19.578125 55.046875 \nQ 24.21875 56 28.609375 56 \nQ 40.484375 56 46.34375 49.84375 \nQ 52.203125 43.703125 52.203125 31.203125 \nz\n\" id=\"DejaVuSans-97\"/>\n        <path d=\"M 44.28125 53.078125 \nL 44.28125 44.578125 \nQ 40.484375 46.53125 36.375 47.5 \nQ 32.28125 48.484375 27.875 48.484375 \nQ 21.1875 48.484375 17.84375 46.4375 \nQ 14.5 44.390625 14.5 40.28125 \nQ 14.5 37.15625 16.890625 35.375 \nQ 19.28125 33.59375 26.515625 31.984375 \nL 29.59375 31.296875 \nQ 39.15625 29.25 43.1875 25.515625 \nQ 47.21875 21.78125 47.21875 15.09375 \nQ 47.21875 7.46875 41.1875 3.015625 \nQ 35.15625 -1.421875 24.609375 -1.421875 \nQ 20.21875 -1.421875 15.453125 -0.5625 \nQ 10.6875 0.296875 5.421875 2 \nL 5.421875 11.28125 \nQ 10.40625 8.6875 15.234375 7.390625 \nQ 20.0625 6.109375 24.8125 6.109375 \nQ 31.15625 6.109375 34.5625 8.28125 \nQ 37.984375 10.453125 37.984375 14.40625 \nQ 37.984375 18.0625 35.515625 20.015625 \nQ 33.0625 21.96875 24.703125 23.78125 \nL 21.578125 24.515625 \nQ 13.234375 26.265625 9.515625 29.90625 \nQ 5.8125 33.546875 5.8125 39.890625 \nQ 5.8125 47.609375 11.28125 51.796875 \nQ 16.75 56 26.8125 56 \nQ 31.78125 56 36.171875 55.265625 \nQ 40.578125 54.546875 44.28125 53.078125 \nz\n\" id=\"DejaVuSans-115\"/>\n        <path id=\"DejaVuSans-32\"/>\n        <path d=\"M 31.78125 66.40625 \nQ 24.171875 66.40625 20.328125 58.90625 \nQ 16.5 51.421875 16.5 36.375 \nQ 16.5 21.390625 20.328125 13.890625 \nQ 24.171875 6.390625 31.78125 6.390625 \nQ 39.453125 6.390625 43.28125 13.890625 \nQ 47.125 21.390625 47.125 36.375 \nQ 47.125 51.421875 43.28125 58.90625 \nQ 39.453125 66.40625 31.78125 66.40625 \nz\nM 31.78125 74.21875 \nQ 44.046875 74.21875 50.515625 64.515625 \nQ 56.984375 54.828125 56.984375 36.375 \nQ 56.984375 17.96875 50.515625 8.265625 \nQ 44.046875 -1.421875 31.78125 -1.421875 \nQ 19.53125 -1.421875 13.0625 8.265625 \nQ 6.59375 17.96875 6.59375 36.375 \nQ 6.59375 54.828125 13.0625 64.515625 \nQ 19.53125 74.21875 31.78125 74.21875 \nz\n\" id=\"DejaVuSans-48\"/>\n       </defs>\n       <use xlink:href=\"#DejaVuSans-67\"/>\n       <use x=\"69.824219\" xlink:href=\"#DejaVuSans-108\"/>\n       <use x=\"97.607422\" xlink:href=\"#DejaVuSans-97\"/>\n       <use x=\"158.886719\" xlink:href=\"#DejaVuSans-115\"/>\n       <use x=\"210.986328\" xlink:href=\"#DejaVuSans-115\"/>\n       <use x=\"263.085938\" xlink:href=\"#DejaVuSans-32\"/>\n       <use x=\"294.873047\" xlink:href=\"#DejaVuSans-48\"/>\n      </g>\n     </g>\n    </g>\n    <g id=\"xtick_2\">\n     <g id=\"line2d_3\">\n      <g>\n       <use style=\"stroke:#000000;stroke-width:0.8;\" x=\"226.806563\" xlink:href=\"#md14db142fa\" y=\"256.43625\"/>\n      </g>\n     </g>\n     <g id=\"line2d_4\">\n      <g>\n       <use style=\"stroke:#000000;stroke-width:0.8;\" x=\"226.806563\" xlink:href=\"#m42ab62096a\" y=\"38.99625\"/>\n      </g>\n     </g>\n     <g id=\"text_2\">\n      <!-- Class 1 -->\n      <g transform=\"translate(208.882344 29.916562)scale(0.1 -0.1)\">\n       <defs>\n        <path d=\"M 12.40625 8.296875 \nL 28.515625 8.296875 \nL 28.515625 63.921875 \nL 10.984375 60.40625 \nL 10.984375 69.390625 \nL 28.421875 72.90625 \nL 38.28125 72.90625 \nL 38.28125 8.296875 \nL 54.390625 8.296875 \nL 54.390625 0 \nL 12.40625 0 \nz\n\" id=\"DejaVuSans-49\"/>\n       </defs>\n       <use xlink:href=\"#DejaVuSans-67\"/>\n       <use x=\"69.824219\" xlink:href=\"#DejaVuSans-108\"/>\n       <use x=\"97.607422\" xlink:href=\"#DejaVuSans-97\"/>\n       <use x=\"158.886719\" xlink:href=\"#DejaVuSans-115\"/>\n       <use x=\"210.986328\" xlink:href=\"#DejaVuSans-115\"/>\n       <use x=\"263.085938\" xlink:href=\"#DejaVuSans-32\"/>\n       <use x=\"294.873047\" xlink:href=\"#DejaVuSans-49\"/>\n      </g>\n     </g>\n    </g>\n    <g id=\"text_3\">\n     <!-- Predicted -->\n     <g transform=\"translate(148.97625 268.034687)scale(0.1 -0.1)\">\n      <defs>\n       <path d=\"M 19.671875 64.796875 \nL 19.671875 37.40625 \nL 32.078125 37.40625 \nQ 38.96875 37.40625 42.71875 40.96875 \nQ 46.484375 44.53125 46.484375 51.125 \nQ 46.484375 57.671875 42.71875 61.234375 \nQ 38.96875 64.796875 32.078125 64.796875 \nz\nM 9.8125 72.90625 \nL 32.078125 72.90625 \nQ 44.34375 72.90625 50.609375 67.359375 \nQ 56.890625 61.8125 56.890625 51.125 \nQ 56.890625 40.328125 50.609375 34.8125 \nQ 44.34375 29.296875 32.078125 29.296875 \nL 19.671875 29.296875 \nL 19.671875 0 \nL 9.8125 0 \nz\n\" id=\"DejaVuSans-80\"/>\n       <path d=\"M 41.109375 46.296875 \nQ 39.59375 47.171875 37.8125 47.578125 \nQ 36.03125 48 33.890625 48 \nQ 26.265625 48 22.1875 43.046875 \nQ 18.109375 38.09375 18.109375 28.8125 \nL 18.109375 0 \nL 9.078125 0 \nL 9.078125 54.6875 \nL 18.109375 54.6875 \nL 18.109375 46.1875 \nQ 20.953125 51.171875 25.484375 53.578125 \nQ 30.03125 56 36.53125 56 \nQ 37.453125 56 38.578125 55.875 \nQ 39.703125 55.765625 41.0625 55.515625 \nz\n\" id=\"DejaVuSans-114\"/>\n       <path d=\"M 56.203125 29.59375 \nL 56.203125 25.203125 \nL 14.890625 25.203125 \nQ 15.484375 15.921875 20.484375 11.0625 \nQ 25.484375 6.203125 34.421875 6.203125 \nQ 39.59375 6.203125 44.453125 7.46875 \nQ 49.3125 8.734375 54.109375 11.28125 \nL 54.109375 2.78125 \nQ 49.265625 0.734375 44.1875 -0.34375 \nQ 39.109375 -1.421875 33.890625 -1.421875 \nQ 20.796875 -1.421875 13.15625 6.1875 \nQ 5.515625 13.8125 5.515625 26.8125 \nQ 5.515625 40.234375 12.765625 48.109375 \nQ 20.015625 56 32.328125 56 \nQ 43.359375 56 49.78125 48.890625 \nQ 56.203125 41.796875 56.203125 29.59375 \nz\nM 47.21875 32.234375 \nQ 47.125 39.59375 43.09375 43.984375 \nQ 39.0625 48.390625 32.421875 48.390625 \nQ 24.90625 48.390625 20.390625 44.140625 \nQ 15.875 39.890625 15.1875 32.171875 \nz\n\" id=\"DejaVuSans-101\"/>\n       <path d=\"M 45.40625 46.390625 \nL 45.40625 75.984375 \nL 54.390625 75.984375 \nL 54.390625 0 \nL 45.40625 0 \nL 45.40625 8.203125 \nQ 42.578125 3.328125 38.25 0.953125 \nQ 33.9375 -1.421875 27.875 -1.421875 \nQ 17.96875 -1.421875 11.734375 6.484375 \nQ 5.515625 14.40625 5.515625 27.296875 \nQ 5.515625 40.1875 11.734375 48.09375 \nQ 17.96875 56 27.875 56 \nQ 33.9375 56 38.25 53.625 \nQ 42.578125 51.265625 45.40625 46.390625 \nz\nM 14.796875 27.296875 \nQ 14.796875 17.390625 18.875 11.75 \nQ 22.953125 6.109375 30.078125 6.109375 \nQ 37.203125 6.109375 41.296875 11.75 \nQ 45.40625 17.390625 45.40625 27.296875 \nQ 45.40625 37.203125 41.296875 42.84375 \nQ 37.203125 48.484375 30.078125 48.484375 \nQ 22.953125 48.484375 18.875 42.84375 \nQ 14.796875 37.203125 14.796875 27.296875 \nz\n\" id=\"DejaVuSans-100\"/>\n       <path d=\"M 9.421875 54.6875 \nL 18.40625 54.6875 \nL 18.40625 0 \nL 9.421875 0 \nz\nM 9.421875 75.984375 \nL 18.40625 75.984375 \nL 18.40625 64.59375 \nL 9.421875 64.59375 \nz\n\" id=\"DejaVuSans-105\"/>\n       <path d=\"M 48.78125 52.59375 \nL 48.78125 44.1875 \nQ 44.96875 46.296875 41.140625 47.34375 \nQ 37.3125 48.390625 33.40625 48.390625 \nQ 24.65625 48.390625 19.8125 42.84375 \nQ 14.984375 37.3125 14.984375 27.296875 \nQ 14.984375 17.28125 19.8125 11.734375 \nQ 24.65625 6.203125 33.40625 6.203125 \nQ 37.3125 6.203125 41.140625 7.25 \nQ 44.96875 8.296875 48.78125 10.40625 \nL 48.78125 2.09375 \nQ 45.015625 0.34375 40.984375 -0.53125 \nQ 36.96875 -1.421875 32.421875 -1.421875 \nQ 20.0625 -1.421875 12.78125 6.34375 \nQ 5.515625 14.109375 5.515625 27.296875 \nQ 5.515625 40.671875 12.859375 48.328125 \nQ 20.21875 56 33.015625 56 \nQ 37.15625 56 41.109375 55.140625 \nQ 45.0625 54.296875 48.78125 52.59375 \nz\n\" id=\"DejaVuSans-99\"/>\n       <path d=\"M 18.3125 70.21875 \nL 18.3125 54.6875 \nL 36.8125 54.6875 \nL 36.8125 47.703125 \nL 18.3125 47.703125 \nL 18.3125 18.015625 \nQ 18.3125 11.328125 20.140625 9.421875 \nQ 21.96875 7.515625 27.59375 7.515625 \nL 36.8125 7.515625 \nL 36.8125 0 \nL 27.59375 0 \nQ 17.1875 0 13.234375 3.875 \nQ 9.28125 7.765625 9.28125 18.015625 \nL 9.28125 47.703125 \nL 2.6875 47.703125 \nL 2.6875 54.6875 \nL 9.28125 54.6875 \nL 9.28125 70.21875 \nz\n\" id=\"DejaVuSans-116\"/>\n      </defs>\n      <use xlink:href=\"#DejaVuSans-80\"/>\n      <use x=\"58.552734\" xlink:href=\"#DejaVuSans-114\"/>\n      <use x=\"97.416016\" xlink:href=\"#DejaVuSans-101\"/>\n      <use x=\"158.939453\" xlink:href=\"#DejaVuSans-100\"/>\n      <use x=\"222.416016\" xlink:href=\"#DejaVuSans-105\"/>\n      <use x=\"250.199219\" xlink:href=\"#DejaVuSans-99\"/>\n      <use x=\"305.179688\" xlink:href=\"#DejaVuSans-116\"/>\n      <use x=\"344.388672\" xlink:href=\"#DejaVuSans-101\"/>\n      <use x=\"405.912109\" xlink:href=\"#DejaVuSans-100\"/>\n     </g>\n    </g>\n   </g>\n   <g id=\"matplotlib.axis_2\">\n    <g id=\"ytick_1\">\n     <g id=\"line2d_5\">\n      <defs>\n       <path d=\"M 0 0 \nL -3.5 0 \n\" id=\"m1f107e99b4\" style=\"stroke:#000000;stroke-width:0.8;\"/>\n      </defs>\n      <g>\n       <use style=\"stroke:#000000;stroke-width:0.8;\" x=\"63.726563\" xlink:href=\"#m1f107e99b4\" y=\"93.35625\"/>\n      </g>\n     </g>\n     <g id=\"text_4\">\n      <!-- Class 0 -->\n      <g transform=\"translate(20.878125 97.155469)scale(0.1 -0.1)\">\n       <use xlink:href=\"#DejaVuSans-67\"/>\n       <use x=\"69.824219\" xlink:href=\"#DejaVuSans-108\"/>\n       <use x=\"97.607422\" xlink:href=\"#DejaVuSans-97\"/>\n       <use x=\"158.886719\" xlink:href=\"#DejaVuSans-115\"/>\n       <use x=\"210.986328\" xlink:href=\"#DejaVuSans-115\"/>\n       <use x=\"263.085938\" xlink:href=\"#DejaVuSans-32\"/>\n       <use x=\"294.873047\" xlink:href=\"#DejaVuSans-48\"/>\n      </g>\n     </g>\n    </g>\n    <g id=\"ytick_2\">\n     <g id=\"line2d_6\">\n      <g>\n       <use style=\"stroke:#000000;stroke-width:0.8;\" x=\"63.726563\" xlink:href=\"#m1f107e99b4\" y=\"202.07625\"/>\n      </g>\n     </g>\n     <g id=\"text_5\">\n      <!-- Class 1 -->\n      <g transform=\"translate(20.878125 205.875469)scale(0.1 -0.1)\">\n       <use xlink:href=\"#DejaVuSans-67\"/>\n       <use x=\"69.824219\" xlink:href=\"#DejaVuSans-108\"/>\n       <use x=\"97.607422\" xlink:href=\"#DejaVuSans-97\"/>\n       <use x=\"158.886719\" xlink:href=\"#DejaVuSans-115\"/>\n       <use x=\"210.986328\" xlink:href=\"#DejaVuSans-115\"/>\n       <use x=\"263.085938\" xlink:href=\"#DejaVuSans-32\"/>\n       <use x=\"294.873047\" xlink:href=\"#DejaVuSans-49\"/>\n      </g>\n     </g>\n    </g>\n    <g id=\"text_6\">\n     <!-- Expected -->\n     <g transform=\"translate(14.798438 171.045937)rotate(-90)scale(0.1 -0.1)\">\n      <defs>\n       <path d=\"M 9.8125 72.90625 \nL 55.90625 72.90625 \nL 55.90625 64.59375 \nL 19.671875 64.59375 \nL 19.671875 43.015625 \nL 54.390625 43.015625 \nL 54.390625 34.71875 \nL 19.671875 34.71875 \nL 19.671875 8.296875 \nL 56.78125 8.296875 \nL 56.78125 0 \nL 9.8125 0 \nz\n\" id=\"DejaVuSans-69\"/>\n       <path d=\"M 54.890625 54.6875 \nL 35.109375 28.078125 \nL 55.90625 0 \nL 45.3125 0 \nL 29.390625 21.484375 \nL 13.484375 0 \nL 2.875 0 \nL 24.125 28.609375 \nL 4.6875 54.6875 \nL 15.28125 54.6875 \nL 29.78125 35.203125 \nL 44.28125 54.6875 \nz\n\" id=\"DejaVuSans-120\"/>\n       <path d=\"M 18.109375 8.203125 \nL 18.109375 -20.796875 \nL 9.078125 -20.796875 \nL 9.078125 54.6875 \nL 18.109375 54.6875 \nL 18.109375 46.390625 \nQ 20.953125 51.265625 25.265625 53.625 \nQ 29.59375 56 35.59375 56 \nQ 45.5625 56 51.78125 48.09375 \nQ 58.015625 40.1875 58.015625 27.296875 \nQ 58.015625 14.40625 51.78125 6.484375 \nQ 45.5625 -1.421875 35.59375 -1.421875 \nQ 29.59375 -1.421875 25.265625 0.953125 \nQ 20.953125 3.328125 18.109375 8.203125 \nz\nM 48.6875 27.296875 \nQ 48.6875 37.203125 44.609375 42.84375 \nQ 40.53125 48.484375 33.40625 48.484375 \nQ 26.265625 48.484375 22.1875 42.84375 \nQ 18.109375 37.203125 18.109375 27.296875 \nQ 18.109375 17.390625 22.1875 11.75 \nQ 26.265625 6.109375 33.40625 6.109375 \nQ 40.53125 6.109375 44.609375 11.75 \nQ 48.6875 17.390625 48.6875 27.296875 \nz\n\" id=\"DejaVuSans-112\"/>\n      </defs>\n      <use xlink:href=\"#DejaVuSans-69\"/>\n      <use x=\"63.183594\" xlink:href=\"#DejaVuSans-120\"/>\n      <use x=\"122.363281\" xlink:href=\"#DejaVuSans-112\"/>\n      <use x=\"185.839844\" xlink:href=\"#DejaVuSans-101\"/>\n      <use x=\"247.363281\" xlink:href=\"#DejaVuSans-99\"/>\n      <use x=\"302.34375\" xlink:href=\"#DejaVuSans-116\"/>\n      <use x=\"341.552734\" xlink:href=\"#DejaVuSans-101\"/>\n      <use x=\"403.076172\" xlink:href=\"#DejaVuSans-100\"/>\n     </g>\n    </g>\n   </g>\n   <g id=\"patch_3\">\n    <path d=\"M 63.726563 256.43625 \nL 63.726563 38.99625 \n\" style=\"fill:none;stroke:#000000;stroke-linecap:square;stroke-linejoin:miter;stroke-width:0.8;\"/>\n   </g>\n   <g id=\"patch_4\">\n    <path d=\"M 281.166562 256.43625 \nL 281.166562 38.99625 \n\" style=\"fill:none;stroke:#000000;stroke-linecap:square;stroke-linejoin:miter;stroke-width:0.8;\"/>\n   </g>\n   <g id=\"patch_5\">\n    <path d=\"M 63.726563 256.43625 \nL 281.166562 256.43625 \n\" style=\"fill:none;stroke:#000000;stroke-linecap:square;stroke-linejoin:miter;stroke-width:0.8;\"/>\n   </g>\n   <g id=\"patch_6\">\n    <path d=\"M 63.726563 38.99625 \nL 281.166562 38.99625 \n\" style=\"fill:none;stroke:#000000;stroke-linecap:square;stroke-linejoin:miter;stroke-width:0.8;\"/>\n   </g>\n   <g id=\"text_7\">\n    <!-- Confusion Matrix -->\n    <g transform=\"translate(121.804688 16.318125)scale(0.12 -0.12)\">\n     <defs>\n      <path d=\"M 30.609375 48.390625 \nQ 23.390625 48.390625 19.1875 42.75 \nQ 14.984375 37.109375 14.984375 27.296875 \nQ 14.984375 17.484375 19.15625 11.84375 \nQ 23.34375 6.203125 30.609375 6.203125 \nQ 37.796875 6.203125 41.984375 11.859375 \nQ 46.1875 17.53125 46.1875 27.296875 \nQ 46.1875 37.015625 41.984375 42.703125 \nQ 37.796875 48.390625 30.609375 48.390625 \nz\nM 30.609375 56 \nQ 42.328125 56 49.015625 48.375 \nQ 55.71875 40.765625 55.71875 27.296875 \nQ 55.71875 13.875 49.015625 6.21875 \nQ 42.328125 -1.421875 30.609375 -1.421875 \nQ 18.84375 -1.421875 12.171875 6.21875 \nQ 5.515625 13.875 5.515625 27.296875 \nQ 5.515625 40.765625 12.171875 48.375 \nQ 18.84375 56 30.609375 56 \nz\n\" id=\"DejaVuSans-111\"/>\n      <path d=\"M 54.890625 33.015625 \nL 54.890625 0 \nL 45.90625 0 \nL 45.90625 32.71875 \nQ 45.90625 40.484375 42.875 44.328125 \nQ 39.84375 48.1875 33.796875 48.1875 \nQ 26.515625 48.1875 22.3125 43.546875 \nQ 18.109375 38.921875 18.109375 30.90625 \nL 18.109375 0 \nL 9.078125 0 \nL 9.078125 54.6875 \nL 18.109375 54.6875 \nL 18.109375 46.1875 \nQ 21.34375 51.125 25.703125 53.5625 \nQ 30.078125 56 35.796875 56 \nQ 45.21875 56 50.046875 50.171875 \nQ 54.890625 44.34375 54.890625 33.015625 \nz\n\" id=\"DejaVuSans-110\"/>\n      <path d=\"M 37.109375 75.984375 \nL 37.109375 68.5 \nL 28.515625 68.5 \nQ 23.6875 68.5 21.796875 66.546875 \nQ 19.921875 64.59375 19.921875 59.515625 \nL 19.921875 54.6875 \nL 34.71875 54.6875 \nL 34.71875 47.703125 \nL 19.921875 47.703125 \nL 19.921875 0 \nL 10.890625 0 \nL 10.890625 47.703125 \nL 2.296875 47.703125 \nL 2.296875 54.6875 \nL 10.890625 54.6875 \nL 10.890625 58.5 \nQ 10.890625 67.625 15.140625 71.796875 \nQ 19.390625 75.984375 28.609375 75.984375 \nz\n\" id=\"DejaVuSans-102\"/>\n      <path d=\"M 8.5 21.578125 \nL 8.5 54.6875 \nL 17.484375 54.6875 \nL 17.484375 21.921875 \nQ 17.484375 14.15625 20.5 10.265625 \nQ 23.53125 6.390625 29.59375 6.390625 \nQ 36.859375 6.390625 41.078125 11.03125 \nQ 45.3125 15.671875 45.3125 23.6875 \nL 45.3125 54.6875 \nL 54.296875 54.6875 \nL 54.296875 0 \nL 45.3125 0 \nL 45.3125 8.40625 \nQ 42.046875 3.421875 37.71875 1 \nQ 33.40625 -1.421875 27.6875 -1.421875 \nQ 18.265625 -1.421875 13.375 4.4375 \nQ 8.5 10.296875 8.5 21.578125 \nz\nM 31.109375 56 \nz\n\" id=\"DejaVuSans-117\"/>\n      <path d=\"M 9.8125 72.90625 \nL 24.515625 72.90625 \nL 43.109375 23.296875 \nL 61.8125 72.90625 \nL 76.515625 72.90625 \nL 76.515625 0 \nL 66.890625 0 \nL 66.890625 64.015625 \nL 48.09375 14.015625 \nL 38.1875 14.015625 \nL 19.390625 64.015625 \nL 19.390625 0 \nL 9.8125 0 \nz\n\" id=\"DejaVuSans-77\"/>\n     </defs>\n     <use xlink:href=\"#DejaVuSans-67\"/>\n     <use x=\"69.824219\" xlink:href=\"#DejaVuSans-111\"/>\n     <use x=\"131.005859\" xlink:href=\"#DejaVuSans-110\"/>\n     <use x=\"194.384766\" xlink:href=\"#DejaVuSans-102\"/>\n     <use x=\"229.589844\" xlink:href=\"#DejaVuSans-117\"/>\n     <use x=\"292.96875\" xlink:href=\"#DejaVuSans-115\"/>\n     <use x=\"345.068359\" xlink:href=\"#DejaVuSans-105\"/>\n     <use x=\"372.851562\" xlink:href=\"#DejaVuSans-111\"/>\n     <use x=\"434.033203\" xlink:href=\"#DejaVuSans-110\"/>\n     <use x=\"497.412109\" xlink:href=\"#DejaVuSans-32\"/>\n     <use x=\"529.199219\" xlink:href=\"#DejaVuSans-77\"/>\n     <use x=\"615.478516\" xlink:href=\"#DejaVuSans-97\"/>\n     <use x=\"676.757812\" xlink:href=\"#DejaVuSans-116\"/>\n     <use x=\"715.966797\" xlink:href=\"#DejaVuSans-114\"/>\n     <use x=\"757.080078\" xlink:href=\"#DejaVuSans-105\"/>\n     <use x=\"784.863281\" xlink:href=\"#DejaVuSans-120\"/>\n    </g>\n   </g>\n  </g>\n  <g id=\"axes_2\">\n   <g id=\"patch_7\">\n    <path clip-path=\"url(#p49d16a430f)\" d=\"M 297.906563 256.43625 \nL 297.906563 255.586875 \nL 297.906563 39.845625 \nL 297.906563 38.99625 \nL 308.778563 38.99625 \nL 308.778563 39.845625 \nL 308.778563 255.586875 \nL 308.778563 256.43625 \nz\n\" style=\"fill:#ffffff;stroke:#ffffff;stroke-linejoin:miter;stroke-width:0.01;\"/>\n   </g>\n   <image height=\"217\" id=\"imagef12b532090\" transform=\"scale(1 -1)translate(0 -217)\" width=\"11\" x=\"298\" xlink:href=\"data:image/png;base64,\niVBORw0KGgoAAAANSUhEUgAAAAsAAADZCAYAAAD2WsoCAAABG0lEQVR4nO2YMQ5DIQxDqcT9j9uh+oSu7cYbnmQQna3IcRyH39f7M2db/PXZlrGtA2zrANt6rVM2aQAWUDpWOYTGOhYPBXAuUtmj4Uk3iflNGqiytbBo3CHxlbKwG0p3fPJf8/+Difk9GhnSDTH5rQvrxRdTIyNFi+lscUY0Ql4ycNwWjdIqm+YHlU01AHiAlGGbwuIrY60eogbjrJ1jVBmBvTsYYiRm/vXC6k3RjPSADvcMc7bdEeYXD72WdV58ed8pW3rDM7/4jI/wRoj5QypXrSd0CmdmpDvuHzBUIyIYxVfBOLxBtN3sXzXRGxo4w/whOp/vjYxxh3gDHvoIzoxGDQBmDaJN8SoT8PlqeN5AOt9x51X2xm01+AXeLt0TcCgzLwAAAABJRU5ErkJggg==\" y=\"-39\"/>\n   <g id=\"matplotlib.axis_3\"/>\n   <g id=\"matplotlib.axis_4\">\n    <g id=\"ytick_3\">\n     <g id=\"line2d_7\">\n      <defs>\n       <path d=\"M 0 0 \nL 3.5 0 \n\" id=\"m9dbc9471a2\" style=\"stroke:#000000;stroke-width:0.8;\"/>\n      </defs>\n      <g>\n       <use style=\"stroke:#000000;stroke-width:0.8;\" x=\"308.778563\" xlink:href=\"#m9dbc9471a2\" y=\"211.298036\"/>\n      </g>\n     </g>\n     <g id=\"text_8\">\n      <!-- 5000 -->\n      <g transform=\"translate(315.778563 215.097254)scale(0.1 -0.1)\">\n       <defs>\n        <path d=\"M 10.796875 72.90625 \nL 49.515625 72.90625 \nL 49.515625 64.59375 \nL 19.828125 64.59375 \nL 19.828125 46.734375 \nQ 21.96875 47.46875 24.109375 47.828125 \nQ 26.265625 48.1875 28.421875 48.1875 \nQ 40.625 48.1875 47.75 41.5 \nQ 54.890625 34.8125 54.890625 23.390625 \nQ 54.890625 11.625 47.5625 5.09375 \nQ 40.234375 -1.421875 26.90625 -1.421875 \nQ 22.3125 -1.421875 17.546875 -0.640625 \nQ 12.796875 0.140625 7.71875 1.703125 \nL 7.71875 11.625 \nQ 12.109375 9.234375 16.796875 8.0625 \nQ 21.484375 6.890625 26.703125 6.890625 \nQ 35.15625 6.890625 40.078125 11.328125 \nQ 45.015625 15.765625 45.015625 23.390625 \nQ 45.015625 31 40.078125 35.4375 \nQ 35.15625 39.890625 26.703125 39.890625 \nQ 22.75 39.890625 18.8125 39.015625 \nQ 14.890625 38.140625 10.796875 36.28125 \nz\n\" id=\"DejaVuSans-53\"/>\n       </defs>\n       <use xlink:href=\"#DejaVuSans-53\"/>\n       <use x=\"63.623047\" xlink:href=\"#DejaVuSans-48\"/>\n       <use x=\"127.246094\" xlink:href=\"#DejaVuSans-48\"/>\n       <use x=\"190.869141\" xlink:href=\"#DejaVuSans-48\"/>\n      </g>\n     </g>\n    </g>\n    <g id=\"ytick_4\">\n     <g id=\"line2d_8\">\n      <g>\n       <use style=\"stroke:#000000;stroke-width:0.8;\" x=\"308.778563\" xlink:href=\"#m9dbc9471a2\" y=\"165.509626\"/>\n      </g>\n     </g>\n     <g id=\"text_9\">\n      <!-- 10000 -->\n      <g transform=\"translate(315.778563 169.308845)scale(0.1 -0.1)\">\n       <use xlink:href=\"#DejaVuSans-49\"/>\n       <use x=\"63.623047\" xlink:href=\"#DejaVuSans-48\"/>\n       <use x=\"127.246094\" xlink:href=\"#DejaVuSans-48\"/>\n       <use x=\"190.869141\" xlink:href=\"#DejaVuSans-48\"/>\n       <use x=\"254.492188\" xlink:href=\"#DejaVuSans-48\"/>\n      </g>\n     </g>\n    </g>\n    <g id=\"ytick_5\">\n     <g id=\"line2d_9\">\n      <g>\n       <use style=\"stroke:#000000;stroke-width:0.8;\" x=\"308.778563\" xlink:href=\"#m9dbc9471a2\" y=\"119.721216\"/>\n      </g>\n     </g>\n     <g id=\"text_10\">\n      <!-- 15000 -->\n      <g transform=\"translate(315.778563 123.520435)scale(0.1 -0.1)\">\n       <use xlink:href=\"#DejaVuSans-49\"/>\n       <use x=\"63.623047\" xlink:href=\"#DejaVuSans-53\"/>\n       <use x=\"127.246094\" xlink:href=\"#DejaVuSans-48\"/>\n       <use x=\"190.869141\" xlink:href=\"#DejaVuSans-48\"/>\n       <use x=\"254.492188\" xlink:href=\"#DejaVuSans-48\"/>\n      </g>\n     </g>\n    </g>\n    <g id=\"ytick_6\">\n     <g id=\"line2d_10\">\n      <g>\n       <use style=\"stroke:#000000;stroke-width:0.8;\" x=\"308.778563\" xlink:href=\"#m9dbc9471a2\" y=\"73.932807\"/>\n      </g>\n     </g>\n     <g id=\"text_11\">\n      <!-- 20000 -->\n      <g transform=\"translate(315.778563 77.732025)scale(0.1 -0.1)\">\n       <defs>\n        <path d=\"M 19.1875 8.296875 \nL 53.609375 8.296875 \nL 53.609375 0 \nL 7.328125 0 \nL 7.328125 8.296875 \nQ 12.9375 14.109375 22.625 23.890625 \nQ 32.328125 33.6875 34.8125 36.53125 \nQ 39.546875 41.84375 41.421875 45.53125 \nQ 43.3125 49.21875 43.3125 52.78125 \nQ 43.3125 58.59375 39.234375 62.25 \nQ 35.15625 65.921875 28.609375 65.921875 \nQ 23.96875 65.921875 18.8125 64.3125 \nQ 13.671875 62.703125 7.8125 59.421875 \nL 7.8125 69.390625 \nQ 13.765625 71.78125 18.9375 73 \nQ 24.125 74.21875 28.421875 74.21875 \nQ 39.75 74.21875 46.484375 68.546875 \nQ 53.21875 62.890625 53.21875 53.421875 \nQ 53.21875 48.921875 51.53125 44.890625 \nQ 49.859375 40.875 45.40625 35.40625 \nQ 44.1875 33.984375 37.640625 27.21875 \nQ 31.109375 20.453125 19.1875 8.296875 \nz\n\" id=\"DejaVuSans-50\"/>\n       </defs>\n       <use xlink:href=\"#DejaVuSans-50\"/>\n       <use x=\"63.623047\" xlink:href=\"#DejaVuSans-48\"/>\n       <use x=\"127.246094\" xlink:href=\"#DejaVuSans-48\"/>\n       <use x=\"190.869141\" xlink:href=\"#DejaVuSans-48\"/>\n       <use x=\"254.492188\" xlink:href=\"#DejaVuSans-48\"/>\n      </g>\n     </g>\n    </g>\n   </g>\n   <g id=\"patch_8\">\n    <path d=\"M 297.906563 256.43625 \nL 297.906563 255.586875 \nL 297.906563 39.845625 \nL 297.906563 38.99625 \nL 308.778563 38.99625 \nL 308.778563 39.845625 \nL 308.778563 255.586875 \nL 308.778563 256.43625 \nz\n\" style=\"fill:none;stroke:#000000;stroke-linejoin:miter;stroke-width:0.8;\"/>\n   </g>\n  </g>\n </g>\n <defs>\n  <clipPath id=\"p9e5ac2517d\">\n   <rect height=\"217.44\" width=\"217.44\" x=\"63.726563\" y=\"38.99625\"/>\n  </clipPath>\n  <clipPath id=\"p49d16a430f\">\n   <rect height=\"217.44\" width=\"10.872\" x=\"297.906563\" y=\"38.99625\"/>\n  </clipPath>\n </defs>\n</svg>\n",
      "image/png": "[encoded data removed]"
     },
     "metadata": {
      "needs_background": "light"
     }
    },
    {
     "output_type": "stream",
     "name": "stdout",
     "text": [
      "Coefficents:\n-1.73e+01: Search Reason_Public Order\n 5.22e+00: Search Reason_Warrant\n 5.16e+00: Search Reason_Stolen Property\n-5.16e+00: Search Reason_Crossbows\n 4.86e+00: Search Reason_Drugs\n 4.49e+00: Search Reason_Protection Of Life\n 4.48e+00: Search Reason_Firearms\n 4.41e+00: Search Reason_Fireworks\n 4.32e+00: Search Reason_Weapons\n 4.27e+00: Search Reason_Wildlife\n 4.23e+00: Search Reason_Sport Event\n 4.22e+00: Search Reason_Other\n 3.41e+00: Search Reason_Care & Welfare\n-1.01e+00: Nominal Ethnicity_Pakistani, Pakistani Scottish, Pakistani British \n 7.66e-01: Nominal Ethnicity_Bangladeshi, Bangladeshi Scottish, Bangladeshi British\n-7.19e-01: Nominal Ethnicity_White Northen Ireland\n-5.94e-01: Nominal Ethnicity_Other Caribbean or Black\n-5.85e-01: Nominal Ethnicity_White Gypsy/Traveller\n-5.66e-01: Nominal Ethnicity_Not Provided / Unknown\n-5.37e-01: Nominal Ethnicity_Caribbean, Caribbean Scottish, Caribbean British\n-5.10e-01: Nominal Ethnicity_Any Mixed Ethnic group\n-3.93e-01: Nominal Ethnicity_Indian, Indian Scottish, Indian British\n-3.92e-01: Nominal Ethnicity_White Other\n 3.33e-01: Nominal Ethnicity_Arab, Arab Scottish, Arab British\n-3.27e-01: Nominal Ethnicity_Other African\n-3.10e-01: Nominal Ethnicity_White Irish\n-2.91e-01: Nominal Ethnicity_Black, Black Scottish, Black British\n-2.87e-01: Nominal Ethnicity_White Scottish\n-2.56e-01: Nominal Ethnicity_White English\n-2.31e-01: Nominal Ethnicity_Chinese, Chinese Scottish, Chinese British\n 1.60e-01: Nominal Gender_Male\n-1.41e-01: Nominal Ethnicity_White British\n 1.38e-01: Nominal Ethnicity_Other Asian\n-1.08e-01: Nominal Ethnicity_White Polish\n 9.04e-02: Nominal Ethnicity_Pakistani, Pakistani Scottish, Pakistani British\n 5.18e-02: Nominal Ethnicity_White Welsh\n-9.43e-03: Nominal Ethnicity_Other Ethnic Group\n 0.00e+00: Search Reason_Proceeds Of Crime\n"
     ]
    }
   ],
   "source": [
    "model=\"Search Reason\"\n",
    "cols = []\n",
    "\n",
    "cols = X_train_init.columns[X_train_init.columns.str.contains(\"Nominal Ethnicity.*\", regex=True)].to_list()\n",
    "cols += X_train_init.columns[X_train_init.columns.str.contains(\"Search Reason.*\", regex=True)].to_list()\n",
    "cols += [\"Nominal Gender_Male\"]\n",
    "\n",
    "X_train = X_train_init[cols]\n",
    "X_val = X_val_init[cols]\n",
    "\n",
    "from sklearn.linear_model import LogisticRegression\n",
    "\n",
    "models = {}\n",
    "\n",
    "models[model] = LogisticRegression(\n",
    "    penalty=\"none\",\n",
    "    max_iter=500\n",
    "    )\n",
    "\n",
    "models[model].fit(X_train, y_train)\n",
    "\n",
    "print(\"Training score: {:.3f}\\nValidation Score:{:.3f}\".format(models[model].score(X_train, y_train), models[model].score(X_val, y_val)))\n",
    "\n",
    "fig, auc = classification_tools.calc_roc(models[model], X_val, y_val, title=\"Training ROC Curve\")\n",
    "fig.show()\n",
    "print(\"Train AUC ROC score: {:.3f}\".format(auc))\n",
    "fig, auc = classification_tools.calc_roc(models[model], X_val, y_val, title=\"Validation ROC Curve\")\n",
    "fig.show()\n",
    "print(\"Validate AUC ROC score: {:.3f}\".format(auc))\n",
    "\n",
    "y_train_pred = classification_tools.predict_with_threshold(models[model], X_train, threshold=0.5)\n",
    "conf_mat = confusion_matrix(y_train, y_train_pred)\n",
    "tn, fp, fn, tp = conf_mat.ravel()\n",
    "\n",
    "print(\"True Negatives: {:,}\\nFalse Positives: {:,}\\nFalse Negatives: {:,}\\nTrue Positives: {:,}\\n\".format(tn,fp,fn,tp))\n",
    "\n",
    "print(\"True positive rate: {:3f}\".format(tp/(tp+fn)))\n",
    "print(\"False positive rate: {:3f}\".format(fp/(tn+fp)))\n",
    "\n",
    "classification_tools.plot_confusion_matrix(conf_mat)\n",
    "\n",
    "print(\"Coefficents:\")\n",
    "coefficients = classification_tools.get_feature_weights(cols, models[model])"
   ]
  },
  {
   "source": [],
   "cell_type": "markdown",
   "metadata": {}
  },
  {
   "cell_type": "code",
   "execution_count": 432,
   "metadata": {},
   "outputs": [
    {
     "output_type": "stream",
     "name": "stdout",
     "text": [
      "Training score: 0.643\nValidation Score:0.648\n"
     ]
    },
    {
     "output_type": "display_data",
     "data": {
      "application/vnd.plotly.v1+json": {
       "config": {
        "plotlyServerURL": "https://plot.ly"
       },
       "data": [
        {
         "hovertemplate": "x=%{x}<br>y=%{y}<extra></extra>",
         "legendgroup": "",
         "line": {
          "color": "#636efa",
          "dash": "solid"
         },
         "mode": "lines",
         "name": "",
         "orientation": "v",
         "showlegend": false,
         "type": "scatter",
         "x": [
          0,
          0.00008312551953449709,
          0.00024937655860349125,
          0.00033250207813798836,
          0.00033250207813798836,
          0.00033250207813798836,
          0.00041562759767248546,
          0.00041562759767248546,
          0.0004987531172069825,
          0.0008312551953449709,
          0.000914380714879468,
          0.000997506234413965,
          0.000997506234413965,
          0.000997506234413965,
          0.0014131338320864505,
          0.00199501246882793,
          0.0020781379883624274,
          0.004156275976724855,
          0.004156275976724855,
          0.004239401496259352,
          0.0043225270157938485,
          0.005901911886949294,
          0.006151288445552784,
          0.006151288445552784,
          0.006400665004156276,
          0.006400665004156276,
          0.006483790523690773,
          0.0071487946799667496,
          0.007231920199501247,
          0.007231920199501247,
          0.007231920199501247,
          0.007564422277639235,
          0.0077306733167082295,
          0.007813798836242726,
          0.00798004987531172,
          0.0085619285120532,
          0.008728179551122194,
          0.00881130507065669,
          0.00889443059019119,
          0.010640066500415627,
          0.011388196176226101,
          0.011554447215295095,
          0.011637572734829594,
          0.01172069825436409,
          0.011803823773898587,
          0.012385702410640067,
          0.012385702410640067,
          0.012385702410640067,
          0.012468827930174564,
          0.012718204488778055,
          0.02319201995012469,
          0.023358270989193682,
          0.023607647547797175,
          0.02369077306733167,
          0.024106400665004156,
          0.02427265170407315,
          0.02427265170407315,
          0.028428927680798004,
          0.028512053200332503,
          0.028678304239401497,
          0.028761429758935992,
          0.02892768079800499,
          0.029093931837073983,
          0.029093931837073983,
          0.029177057356608478,
          0.04588528678304239,
          0.04970906068162926,
          0.04970906068162926,
          0.049792186201163754,
          0.05012468827930175,
          0.05012468827930175,
          0.050207813798836244,
          0.050207813798836244,
          0.050374064837905234,
          0.050789692435577724,
          0.05087281795511222,
          0.052202826267664176,
          0.05228595178719867,
          0.05245220282626766,
          0.05245220282626766,
          0.052535328345802164,
          0.05261845386533666,
          0.05278470490440565,
          0.05286783042394015,
          0.05295095594347465,
          0.05344970906068163,
          0.05344970906068163,
          0.05378221113881962,
          0.053865336658354114,
          0.05486284289276808,
          0.05486284289276808,
          0.05511221945137157,
          0.05519534497090607,
          0.05519534497090607,
          0.05768911055694098,
          0.06018287614297589,
          0.06034912718204489,
          0.06142975893599335,
          0.061596009975062344,
          0.061596009975062344,
          0.06167913549459684,
          0.06176226101413134,
          0.06176226101413134,
          0.06533665835411472,
          0.06558603491271821,
          0.0657522859517872,
          0.06600166251039069,
          0.06625103906899418,
          0.06633416458852869,
          0.06716541978387365,
          0.0687448046550291,
          0.0687448046550291,
          0.07506234413965088,
          0.07522859517871987,
          0.07680798004987531,
          0.08063175394846218,
          0.08071487946799667,
          0.08088113050706566,
          0.08096425602660016,
          0.08096425602660016,
          0.08345802161263507,
          0.08345802161263507,
          0.08354114713216958,
          0.08354114713216958,
          0.08362427265170408,
          0.08395677472984206,
          0.0857024106400665,
          0.0858686616791355,
          0.08719866999168745,
          0.08728179551122195,
          0.08819617622610142,
          0.0883624272651704,
          0.09276807980049875,
          0.09285120532003326,
          0.09301745635910225,
          0.09326683291770574,
          0.09567747298420615,
          0.09567747298420615,
          0.09576059850374065,
          0.09600997506234414,
          0.09600997506234414,
          0.09692435577722361,
          0.09692435577722361,
          0.09842061512884455,
          0.09850374064837905,
          0.09850374064837905,
          0.09858686616791355,
          0.09866999168744804,
          0.09875311720698254,
          0.09900249376558604,
          0.09916874480465503,
          0.099833748960931,
          0.099833748960931,
          0.0999168744804655,
          0.0999168744804655,
          0.1,
          0.10166251039068994,
          0.10174563591022444,
          0.10191188694929343,
          0.10191188694929343,
          0.10207813798836243,
          0.1028262676641729,
          0.10315876974231089,
          0.10315876974231089,
          0.10415627597672486,
          0.12743142144638403,
          0.12759767248545303,
          0.128428927680798,
          0.12851205320033252,
          0.1312551953449709,
          0.13300083125519535,
          0.13316708229426433,
          0.13582709891936826,
          0.13607647547797175,
          0.1374896093100582,
          0.1376558603491272,
          0.1376558603491272,
          0.13773898586866168,
          0.13773898586866168,
          0.13881961762261014,
          0.13881961762261014,
          0.13890274314214462,
          0.13890274314214462,
          0.1396508728179551,
          0.1398171238570241,
          0.1400665004156276,
          0.1402327514546966,
          0.14056525353283458,
          0.1407315045719036,
          0.14106400665004157,
          0.14106400665004157,
          0.1427265170407315,
          0.14280964256026601,
          0.143142144638404,
          0.14364089775561098,
          0.14389027431421447,
          0.14397339983374896,
          0.14397339983374896,
          0.14480465502909393,
          0.14480465502909393,
          0.14488778054862844,
          0.14497090606816293,
          0.14505403158769742,
          0.1714879467996675,
          0.171571072319202,
          0.17306733167082294,
          0.17364921030756442,
          0.1740648379052369,
          0.1742310889443059,
          0.17506234413965088,
          0.17539484621778886,
          0.17539484621778886,
          0.17556109725685787,
          0.17581047381546136,
          0.17581047381546136,
          0.17589359933499585,
          0.17664172901080633,
          0.1767248545303408,
          0.1768079800498753,
          0.1768079800498753,
          0.1769742310889443,
          0.17830423940149626,
          0.17838736492103074,
          0.17855361596009975,
          0.17863674147963424,
          0.20723192019950123,
          0.20756442227763924,
          0.20781379883624274,
          0.22402327514546966,
          0.22443890274314215,
          0.22468827930174565,
          0.22468827930174565,
          0.22477140482128014,
          0.22493765586034914,
          0.31379883624272653,
          0.313881961762261,
          0.314214463840399,
          0.3142975893599335,
          0.31463009143807147,
          0.31463009143807147,
          0.3149625935162095,
          0.31554447215295095,
          0.3162094763092269,
          0.31637572734829594,
          0.3167082294264339,
          0.31687448046550293,
          0.3170407315045719,
          0.3170407315045719,
          0.3171238570241064,
          0.3172069825436409,
          0.31770573566084787,
          0.32468827930174565,
          0.32477140482128014,
          0.32485453034081463,
          0.3250207813798836,
          0.3250207813798836,
          0.3251039068994181,
          0.3262676641729011,
          0.3267664172901081,
          0.32693266832917706,
          0.32709891936824603,
          0.327597672485453,
          0.32809642560266,
          0.3283458021612635,
          0.3283458021612635,
          0.32967581047381544,
          0.32992518703241897,
          0.32992518703241897,
          0.33000831255195345,
          0.3341645885286783,
          0.3343308395677473,
          0.33574397339983375,
          0.33657522859517874,
          0.33665835411471323,
          0.3372402327514547,
          0.3376558603491272,
          0.33881961762261015,
          0.33931837073981713,
          0.33973399833748963,
          0.3398171238570241,
          0.3399002493765586,
          0.34064837905236905,
          0.3408977556109726,
          0.34098088113050706,
          0.34106400665004155,
          0.34114713216957604,
          0.3412302576891106,
          0.3412302576891106,
          0.34231088944305904,
          0.343308395677473,
          0.343308395677473,
          0.3507896924355777,
          0.3508728179551122,
          0.3546134663341646,
          0.35519534497090605,
          0.3598503740648379,
          0.3645054031587697,
          0.36483790523690773,
          0.36483790523690773,
          0.3649210307564422,
          0.3650041562759767,
          0.3661679135494597,
          0.3684954280964256,
          0.3685785536159601,
          0.3690773067331671,
          0.36924355777223605,
          0.3693266832917706,
          0.3711554447215295,
          0.371238570241064,
          0.3713216957605985,
          0.371404821280133,
          0.371404821280133,
          0.3714879467996675,
          0.3714879467996675,
          0.371571072319202,
          0.37190357439734,
          0.3719866999168745,
          0.3719866999168745,
          0.3768079800498753,
          0.3768911055694098,
          0.3770573566084788,
          0.3770573566084788,
          0.3773067331670823,
          0.3773067331670823,
          0.3822111388196176,
          0.3822111388196176,
          0.38229426433915215,
          0.38237738985868663,
          0.40083125519534496,
          0.400997506234414,
          0.4010806317539485,
          0.4024106400665004,
          0.4037406483790524,
          0.40390689941812136,
          0.40399002493765584,
          0.40698254364089775,
          0.41579384871155445,
          0.41629260182876143,
          0.41936824605153783,
          0.41936824605153783,
          0.4194513715710723,
          0.42194513715710724,
          0.42194513715710724,
          0.4224438902743142,
          0.4226101413133832,
          0.4230257689110557,
          0.4231920199501247,
          0.4233582709891937,
          0.4234413965087282,
          0.42369077306733166,
          0.42377389858686615,
          0.42377389858686615,
          0.42410640066500416,
          0.4243557772236076,
          0.42452202826267665,
          0.442477140482128,
          0.442643391521197,
          0.44305901911886947,
          0.443142144638404,
          0.443308395677473,
          0.44347464671654196,
          0.44522028262676644,
          0.4453034081463009,
          0.4459684123025769,
          0.4459684123025769,
          0.4459684123025769,
          0.4463840399002494,
          0.4463840399002494,
          0.4467996674979219,
          0.44696591853699086,
          0.44713216957605983,
          0.4507065669160432,
          0.4517040731504572,
          0.4517040731504572,
          0.4519534497090607,
          0.4520365752285952,
          0.45261845386533667,
          0.45303408146300916,
          0.4542809642560266,
          0.4551122194513716,
          0.4603491271820449,
          0.4604322527015794,
          0.4605153782211139,
          0.46068162926018286,
          0.4608478802992519,
          0.4608478802992519,
          0.4609310058187864,
          0.4625935162094763,
          0.46367414796342477,
          0.46375727348295925,
          0.46375727348295925,
          0.46417290108063175,
          0.46450540315876976,
          0.4662510390689942,
          0.4662510390689942,
          0.46674979218620116,
          0.46683291770573565,
          0.46683291770573565,
          0.4669991687448047,
          0.46716541978387366,
          0.46724854530340815,
          0.4674979218620116,
          0.4679966749792186,
          0.4679966749792186,
          0.4689110556940981,
          0.4691604322527016,
          0.47115544472152954,
          0.472734829592685,
          0.472734829592685,
          0.4742310889443059,
          0.47572734829592683,
          0.4758104738154613,
          0.4758104738154613,
          0.4798004987531172,
          0.4801330008312552,
          0.4802161263507897,
          0.4802161263507897,
          0.48354114713216956,
          0.48354114713216956,
          0.48362427265170405,
          0.48362427265170405,
          0.48403990024937654,
          0.48437240232751455,
          0.4857024106400665,
          0.485785536159601,
          0.4858686616791355,
          0.48611803823773897,
          0.48611803823773897,
          0.48620116375727346,
          0.486284289276808,
          0.6180382377389859,
          0.6907730673316709,
          0.6907730673316709,
          0.6909393183707399,
          0.6909393183707399,
          0.6911886949293433,
          0.6912718204488778,
          0.6933499584372402,
          0.6935993349958437,
          0.6935993349958437,
          0.6936824605153782,
          0.6975893599334996,
          0.6979218620116375,
          0.700831255195345,
          0.7014131338320865,
          0.7017456359102244,
          0.7018287614297589,
          0.7018287614297589,
          0.7018287614297589,
          0.7018287614297589,
          0.7019118869492934,
          0.7022443890274315,
          0.702327514546966,
          0.7024937655860349,
          0.7025768911055694,
          0.7029093931837074,
          0.7029925187032419,
          0.7035743973399834,
          0.7038237738985869,
          0.7040731504571903,
          0.742643391521197,
          0.742809642560266,
          0.7428927680798005,
          0.7430590191188695,
          0.8098088113050707,
          0.8098088113050707,
          0.8099750623441396,
          0.8102244389027431,
          0.8103075644222777,
          0.8106400665004156,
          0.8116375727348296,
          0.8117206982543641,
          0.8117206982543641,
          0.8118038237738986,
          0.8121363258520365,
          0.813383208645054,
          0.8139650872817955,
          0.81404821280133,
          0.8181213632585204,
          0.8183707398171238,
          0.8187863674147964,
          0.8192019950124688,
          0.8192851205320033,
          0.8194513715710723,
          0.8197838736492103,
          0.8212801330008312,
          0.8213632585203657,
          0.8216126350789692,
          0.8216957605985037,
          0.8219451371571073,
          0.8221113881961762,
          0.8236076475477971,
          0.8238570241064007,
          0.8239401496259352,
          0.826766417290108,
          0.826766417290108,
          0.8270989193682461,
          0.8271820448877806,
          0.8271820448877806,
          0.8272651704073151,
          0.8344139650872818,
          0.8344139650872818,
          0.8348295926849543,
          0.8349958437240232,
          0.8359102244389027,
          0.8359933499584372,
          0.8551953449709061,
          0.8704904405652535,
          0.870573566084788,
          0.870573566084788,
          0.8706566916043226,
          0.8706566916043226,
          0.8707398171238571,
          0.8708229426433916,
          0.870906068162926,
          0.8711554447215295,
          0.871404821280133,
          0.8714879467996675,
          0.8716541978387365,
          0.872069825436409,
          0.872069825436409,
          0.8723192019950124,
          0.872734829592685,
          0.872734829592685,
          0.8745635910224439,
          0.8745635910224439,
          0.8746467165419783,
          0.8811305070656692,
          0.8812967581047382,
          0.8813798836242727,
          0.8817123857024106,
          0.8927680798004988,
          0.8931005818786367,
          0.8937655860349127,
          0.8938487115544472,
          0.8939318370739817,
          0.8939318370739817,
          0.8940149625935162,
          0.8941812136325852,
          0.8945137157107232,
          0.8948462177888612,
          0.8955943474646717,
          0.8956774729842062,
          0.8959268495428097,
          0.8960099750623441,
          0.8962593516209476,
          0.8963424771404821,
          0.8965087281795511,
          0.8965087281795511,
          0.8966749792186202,
          0.8968412302576891,
          0.8970074812967581,
          0.8974231088944306,
          0.8974231088944306,
          0.8980881130507066,
          0.8995843724023275,
          0.9022443890274314,
          0.9034081463009144,
          0.9034912718204489,
          0.9037406483790523,
          0.9043225270157939,
          0.9044887780548628,
          0.9047381546134663,
          0.9048212801330008,
          0.9049875311720699,
          0.9052369077306733,
          0.9064006650041563,
          0.9068162926018287,
          0.9069825436408978,
          0.9071487946799668,
          0.9071487946799668,
          0.9075644222776392,
          0.9075644222776392,
          0.9076475477971737,
          0.9077306733167082,
          0.9077306733167082,
          0.9080631753948463,
          0.9082294264339152,
          0.9083125519534497,
          0.9083956774729842,
          0.9087281795511222,
          0.9087281795511222,
          0.9088113050706567,
          0.9090606816292602,
          0.9091438071487947,
          0.9091438071487947,
          0.9093100581878637,
          0.9093931837073982,
          0.9093931837073982,
          0.9094763092269327,
          0.9096425602660017,
          0.9098088113050706,
          0.9098088113050706,
          0.9098919368246051,
          0.9100581878636741,
          0.9101413133832087,
          0.9103906899418122,
          0.9104738154613466,
          0.9107231920199501,
          0.9108063175394846,
          0.9108894430590191,
          0.9112219451371572,
          0.9113050706566916,
          0.9117206982543641,
          0.9123025768911056,
          0.9123025768911056,
          0.913881961762261,
          0.91404821280133,
          0.9257689110556941,
          0.9278470490440566,
          0.9278470490440566,
          0.9280133000831255,
          0.92809642560266,
          0.92809642560266,
          0.9281795511221945,
          0.9283458021612635,
          0.928428927680798,
          0.929260182876143,
          0.9293433083956775,
          0.9316708229426434,
          0.9317539484621779,
          0.9382377389858687,
          0.9385702410640067,
          0.9388196176226101,
          0.9389858686616791,
          0.9391521197007481,
          0.9393183707398172,
          0.9395677472984206,
          0.9396508728179551,
          0.9403990024937656,
          0.9404821280133001,
          0.941978387364921,
          0.9423940149625936,
          0.9423940149625936,
          0.9425602660016625,
          0.9427265170407315,
          0.9428927680798005,
          0.9433083956774729,
          0.9443890274314215,
          0.9443890274314215,
          0.944472152950956,
          0.944472152950956,
          0.9450540315876974,
          0.94546965918537,
          0.94546965918537,
          0.9457190357439734,
          0.9468827930174564,
          0.9470490440565253,
          0.9470490440565253,
          0.9472152950955943,
          0.9475477971737324,
          0.9503740648379052,
          0.9504571903574397,
          0.9523690773067331,
          0.9525353283458021,
          0.9525353283458021,
          0.9527015793848711,
          0.9528678304239402,
          0.9532003325020781,
          0.9537822111388197,
          0.9538653366583542,
          0.9540315876974231,
          0.9544472152950956,
          0.955694098088113,
          0.9560266001662511,
          0.9561097256857856,
          0.95619285120532,
          0.9562759767248545,
          0.9567747298420615,
          0.9567747298420615,
          0.9571072319201995,
          0.9574397339983375,
          0.9576059850374065,
          0.9578553615960099,
          0.958021612635079,
          0.9581047381546135,
          0.958187863674148,
          0.958354114713217,
          0.9586866167913549,
          0.9587697423108894,
          0.9593516209476309,
          0.9783873649210307,
          0.9799667497921862,
          0.9802161263507897,
          0.9804655029093932,
          0.9807980049875312,
          0.9809642560266002,
          0.9815461346633416,
          0.9889443059019118,
          0.9890274314214463,
          0.9894430590191189,
          0.9896093100581879,
          0.9897755610972568,
          0.9901080631753948,
          0.9961762261014131,
          0.9964256026600167,
          0.9967581047381546,
          0.999002493765586,
          0.999168744804655,
          0.999334995843724,
          0.9994181213632585,
          0.999667497921862,
          1,
          1
         ],
         "xaxis": "x",
         "y": [
          0,
          0,
          0,
          0.00015213753232922562,
          0.00045641259698767686,
          0.0007606876616461281,
          0.0007606876616461281,
          0.0010649627263045794,
          0.0010649627263045794,
          0.00243420051726761,
          0.0025863380495968354,
          0.0025863380495968354,
          0.003194888178913738,
          0.003347025711242964,
          0.0038034383082306404,
          0.005781226228510574,
          0.005933363760839799,
          0.007911151681119732,
          0.008063289213448958,
          0.008063289213448958,
          0.008215426745778184,
          0.012931690247984177,
          0.01323596531264263,
          0.01354024037730108,
          0.01354024037730108,
          0.013844515441959531,
          0.013844515441959531,
          0.014300928038947208,
          0.014300928038947208,
          0.01460520310360566,
          0.014757340635934885,
          0.016126578426897915,
          0.016430853491556367,
          0.016430853491556367,
          0.016430853491556367,
          0.017191541153202494,
          0.017191541153202494,
          0.01764795375019017,
          0.017800091282519397,
          0.0184086414118363,
          0.019321466605811653,
          0.01947360413814088,
          0.01947360413814088,
          0.02038642933211623,
          0.02038642933211623,
          0.023733455043359195,
          0.02388559257568842,
          0.024189867640346873,
          0.024494142705005325,
          0.02464628023733455,
          0.0427506465845124,
          0.0427506465845124,
          0.0427506465845124,
          0.0427506465845124,
          0.043663471778487756,
          0.043663471778487756,
          0.04396774684314621,
          0.04822759774836452,
          0.04822759774836452,
          0.048379735280693746,
          0.0492925604746691,
          0.0492925604746691,
          0.04944469800699833,
          0.049596835539327554,
          0.049596835539327554,
          0.09006541913890156,
          0.09645519549672904,
          0.09660733302905827,
          0.09660733302905827,
          0.09706374562604594,
          0.09721588315837518,
          0.0973680206907044,
          0.09752015822303363,
          0.09767229575536285,
          0.09767229575536285,
          0.09767229575536285,
          0.10025863380495968,
          0.1010193214666058,
          0.1010193214666058,
          0.10132359653126426,
          0.10132359653126426,
          0.10147573406359349,
          0.10178000912825194,
          0.10178000912825194,
          0.10223642172523961,
          0.1026928343222273,
          0.10284497185455652,
          0.10284497185455652,
          0.10299710938688575,
          0.104518484710178,
          0.10467062224250723,
          0.10482275977483645,
          0.10482275977483645,
          0.10497489730716568,
          0.10923474821238399,
          0.11166894872965161,
          0.11182108626198083,
          0.11395101171458999,
          0.11410314924691921,
          0.11425528677924844,
          0.11425528677924844,
          0.11455956184390689,
          0.11486383690856534,
          0.1188194127491252,
          0.11912368781378366,
          0.11958010041077134,
          0.1198843754754298,
          0.12003651300775901,
          0.12003651300775901,
          0.12155788833105127,
          0.12277498858968508,
          0.1229271261220143,
          0.13022972767381713,
          0.13038186520614636,
          0.13327247832040165,
          0.1372280541609615,
          0.13768446675794918,
          0.13768446675794918,
          0.1378366042902784,
          0.13798874182260765,
          0.13905370454891222,
          0.13935797961357066,
          0.13935797961357066,
          0.1395101171458999,
          0.13966225467822913,
          0.13966225467822913,
          0.1419443176631675,
          0.1419443176631675,
          0.1448349307774228,
          0.1448349307774228,
          0.14529134337441046,
          0.1454434809067397,
          0.1503118819412749,
          0.1503118819412749,
          0.1503118819412749,
          0.1507682945382626,
          0.15350677012018865,
          0.15365890765251788,
          0.15396318271717632,
          0.15396318271717632,
          0.1542674577818348,
          0.1554845580404686,
          0.1556366955727978,
          0.1568537958314316,
          0.15715807089609007,
          0.15731020842841928,
          0.15731020842841928,
          0.1574623459607485,
          0.1574623459607485,
          0.15883158375171155,
          0.15883158375171155,
          0.1597444089456869,
          0.15989654647801613,
          0.15989654647801613,
          0.16004868401034536,
          0.16004868401034536,
          0.16233074699528374,
          0.16233074699528374,
          0.16248288452761298,
          0.16263502205994218,
          0.16293929712460065,
          0.16354784725391755,
          0.16430853491556366,
          0.16476494751255136,
          0.16598204777118516,
          0.20112581773923627,
          0.2012779552715655,
          0.20234291799787008,
          0.20234291799787008,
          0.2047771185151377,
          0.20645063137075917,
          0.2072113190324053,
          0.20888483188802678,
          0.20918910695268522,
          0.2102540696789898,
          0.2102540696789898,
          0.21040620721131903,
          0.2107104822759775,
          0.21116689487296517,
          0.21329682032557432,
          0.21344895785790355,
          0.21344895785790355,
          0.21360109539023278,
          0.21466605811653736,
          0.2148181956488666,
          0.21512247071352503,
          0.21542674577818346,
          0.2155788833105127,
          0.2155788833105127,
          0.2161874334398296,
          0.21633957097215883,
          0.2180130838277803,
          0.21816522136010955,
          0.21816522136010955,
          0.21877377148942645,
          0.21983873421573102,
          0.21983873421573102,
          0.21999087174806026,
          0.22136010953902327,
          0.22166438460368174,
          0.22196865966834017,
          0.22196865966834017,
          0.22227293473299864,
          0.2546782291191237,
          0.2546782291191237,
          0.2577209797657082,
          0.2586338049596836,
          0.2590902175566712,
          0.2590902175566712,
          0.26030731781530503,
          0.26122014300928037,
          0.26152441807393884,
          0.26152441807393884,
          0.26228510573558494,
          0.2625893808002434,
          0.26274151833257264,
          0.2648714437851818,
          0.2648714437851818,
          0.265023581317511,
          0.2653278563821695,
          0.26563213144682796,
          0.26745778183477864,
          0.26745778183477864,
          0.268370607028754,
          0.268370607028754,
          0.30199300167351284,
          0.30199300167351284,
          0.30199300167351284,
          0.32724783204016433,
          0.32755210710482274,
          0.32755210710482274,
          0.327704244637152,
          0.3278563821694812,
          0.32800851970181044,
          0.4454586946599726,
          0.4454586946599726,
          0.4459151072569603,
          0.44637151985394796,
          0.44637151985394796,
          0.44667579491860643,
          0.44682793245093566,
          0.44682793245093566,
          0.44804503270956947,
          0.44804503270956947,
          0.4481971702418987,
          0.4485014453065571,
          0.4485014453065571,
          0.4492621329682033,
          0.4494142705005325,
          0.4494142705005325,
          0.4497185455651909,
          0.45823824737562757,
          0.4583903849079568,
          0.4583903849079568,
          0.45869465997261527,
          0.45884679750494445,
          0.45884679750494445,
          0.4591510725696029,
          0.4591510725696029,
          0.4591510725696029,
          0.45930321010193215,
          0.4594553476342614,
          0.45975962269891985,
          0.459911760231249,
          0.4602160352959075,
          0.4620416856838582,
          0.46234596074851664,
          0.46249809828084587,
          0.46249809828084587,
          0.469344287235661,
          0.4696485623003195,
          0.472691312946904,
          0.47345200060855014,
          0.47360413814087937,
          0.47466910086718395,
          0.4749733759318424,
          0.47619047619047616,
          0.47710330138445156,
          0.4780161265784269,
          0.4780161265784269,
          0.4786246767077438,
          0.47968963943404835,
          0.4798417769663776,
          0.4798417769663776,
          0.48014605203103605,
          0.4802981895633653,
          0.4812110147573406,
          0.4816674273543283,
          0.48288452761296213,
          0.483493077742279,
          0.48364521527460824,
          0.49262132968203254,
          0.49262132968203254,
          0.49475125513464174,
          0.49505553019930015,
          0.49855469344287234,
          0.5035752320097368,
          0.5038795070743952,
          0.5040316446067244,
          0.5040316446067244,
          0.5041837821390537,
          0.5049444698006998,
          0.5064658451239921,
          0.5066179826563213,
          0.5092043207059181,
          0.5096607333029058,
          0.5096607333029058,
          0.5120949338201735,
          0.5120949338201735,
          0.5122470713525027,
          0.5122470713525027,
          0.5123992088848319,
          0.5127034839494904,
          0.5128556214818195,
          0.5128556214818195,
          0.513159896546478,
          0.513159896546478,
          0.5133120340788072,
          0.5184847101780009,
          0.5186368477103301,
          0.5186368477103301,
          0.5187889852426594,
          0.5189411227749886,
          0.5190932603073178,
          0.5227445610832192,
          0.5228966986155484,
          0.5228966986155484,
          0.5230488361478777,
          0.5473908413205538,
          0.5476951163852122,
          0.5476951163852122,
          0.5487600791115168,
          0.5492164917085045,
          0.5493686292408337,
          0.549520766773163,
          0.5521071048227598,
          0.5670165829910239,
          0.5670165829910239,
          0.5720371215578883,
          0.5723413966225468,
          0.5723413966225468,
          0.5741670470104975,
          0.5743191845428267,
          0.5749277346721436,
          0.5749277346721436,
          0.5752320097368021,
          0.5752320097368021,
          0.5752320097368021,
          0.5752320097368021,
          0.5752320097368021,
          0.5752320097368021,
          0.5756884223337897,
          0.5758405598661189,
          0.5759926973984482,
          0.5766012475277651,
          0.592727825954663,
          0.5930321010193215,
          0.5931842385516507,
          0.5931842385516507,
          0.5933363760839799,
          0.5933363760839799,
          0.5950098889396014,
          0.5950098889396014,
          0.5950098889396014,
          0.5953141640042598,
          0.5954663015365891,
          0.5957705766012475,
          0.5959227141335768,
          0.596074851665906,
          0.596074851665906,
          0.5962269891982352,
          0.6000304275064658,
          0.6023124904914042,
          0.6024646280237335,
          0.6027689030883919,
          0.6027689030883919,
          0.6033774532177089,
          0.6036817282823672,
          0.6053552411379888,
          0.6067244789289518,
          0.6105279172371824,
          0.6108321923018408,
          0.6109843298341701,
          0.6109843298341701,
          0.6109843298341701,
          0.6111364673664993,
          0.6111364673664993,
          0.6141792180130838,
          0.6164612809980222,
          0.6164612809980222,
          0.6166134185303515,
          0.6173741061919976,
          0.6175262437243267,
          0.6195040316446068,
          0.619656169176936,
          0.6199604442415944,
          0.6201125817739236,
          0.6202647193062528,
          0.6202647193062528,
          0.620416856838582,
          0.620416856838582,
          0.6208732694355698,
          0.6211775445002282,
          0.6213296820325575,
          0.622394644758862,
          0.6228510573558497,
          0.6249809828084588,
          0.6260459455347634,
          0.6261980830670927,
          0.6275673208580557,
          0.6287844211166895,
          0.6290886961813479,
          0.6292408337136771,
          0.6324357218925909,
          0.6328921344895786,
          0.6328921344895786,
          0.6330442720219078,
          0.6379126730564431,
          0.6380648105887723,
          0.6382169481211015,
          0.6383690856534308,
          0.6385212231857599,
          0.6388254982504183,
          0.6404990111060399,
          0.6404990111060399,
          0.6411075612353567,
          0.6414118363000152,
          0.6415639738323444,
          0.6415639738323444,
          0.6418682488970029,
          0.7533850600943253,
          0.8121101475734064,
          0.8122622851057356,
          0.8122622851057356,
          0.8125665601703941,
          0.8127186977027233,
          0.8128708352350524,
          0.8137836604290278,
          0.8137836604290278,
          0.8139357979613571,
          0.8140879354936863,
          0.8162178609462954,
          0.8168264110756124,
          0.8191084740605508,
          0.8209341244485014,
          0.8210862619808307,
          0.8210862619808307,
          0.8212383995131599,
          0.8215426745778184,
          0.8218469496424768,
          0.8219990871748061,
          0.8219990871748061,
          0.8219990871748061,
          0.8219990871748061,
          0.8219990871748061,
          0.8219990871748061,
          0.8219990871748061,
          0.8219990871748061,
          0.8224554997717937,
          0.8224554997717937,
          0.8528830062376388,
          0.8534915563669557,
          0.8534915563669557,
          0.8534915563669557,
          0.9003499163243572,
          0.9005020538566865,
          0.9005020538566865,
          0.9005020538566865,
          0.9005020538566865,
          0.9005020538566865,
          0.9008063289213449,
          0.9008063289213449,
          0.9009584664536742,
          0.9011106039860034,
          0.901567016582991,
          0.9023277042446372,
          0.9027841168416249,
          0.9029362543739541,
          0.9070439677468431,
          0.9070439677468431,
          0.9071961052791724,
          0.9075003803438308,
          0.9076525178761601,
          0.9082610680054769,
          0.9084132055378061,
          0.9099345808610985,
          0.9102388559257569,
          0.9102388559257569,
          0.9102388559257569,
          0.9102388559257569,
          0.9102388559257569,
          0.9108474060550737,
          0.910999543587403,
          0.9114559561843907,
          0.9128251939753537,
          0.9129773315076829,
          0.9132816065723414,
          0.9132816065723414,
          0.9135858816369998,
          0.9135858816369998,
          0.9183021451392058,
          0.9184542826715351,
          0.9189106952685228,
          0.9192149703331812,
          0.9196713829301689,
          0.9196713829301689,
          0.9327552107104823,
          0.9418834626502358,
          0.9418834626502358,
          0.9421877377148943,
          0.9421877377148943,
          0.9423398752472235,
          0.9423398752472235,
          0.942644150311882,
          0.9427962878442112,
          0.9432527004411988,
          0.9432527004411988,
          0.9432527004411988,
          0.9432527004411988,
          0.9435569755058573,
          0.944013388102845,
          0.944013388102845,
          0.9446219382321619,
          0.9449262132968204,
          0.9461433135554541,
          0.9464475886201126,
          0.9464475886201126,
          0.9504031644606724,
          0.9504031644606724,
          0.9504031644606724,
          0.9504031644606724,
          0.9567929408185,
          0.9567929408185,
          0.9567929408185,
          0.9567929408185,
          0.9569450783508292,
          0.9570972158831583,
          0.9570972158831583,
          0.9574014909478168,
          0.9574014909478168,
          0.9580100410771337,
          0.9583143161417922,
          0.9584664536741214,
          0.9584664536741214,
          0.9584664536741214,
          0.9586185912064507,
          0.9586185912064507,
          0.9587707287387799,
          0.9589228662711091,
          0.9590750038034384,
          0.9590750038034384,
          0.9593792788680967,
          0.9595314164004259,
          0.9599878289974136,
          0.9610527917237183,
          0.9627263045793397,
          0.9645519549672904,
          0.9648562300319489,
          0.9648562300319489,
          0.9653126426289366,
          0.9660733302905827,
          0.9660733302905827,
          0.966225467822912,
          0.966225467822912,
          0.9665297428875703,
          0.9665297428875703,
          0.9668340179522288,
          0.966986155484558,
          0.9671382930168873,
          0.9671382930168873,
          0.9672904305492165,
          0.9674425680815457,
          0.9677468431462042,
          0.9678989806785334,
          0.9678989806785334,
          0.9680511182108626,
          0.9680511182108626,
          0.9682032557431919,
          0.9686596683401795,
          0.9688118058725087,
          0.9689639434048379,
          0.9691160809371672,
          0.9691160809371672,
          0.9692682184694964,
          0.9694203560018256,
          0.9697246310664841,
          0.9697246310664841,
          0.9697246310664841,
          0.9698767685988133,
          0.9698767685988133,
          0.9698767685988133,
          0.9698767685988133,
          0.970333181195801,
          0.970333181195801,
          0.9704853187281303,
          0.9704853187281303,
          0.9704853187281303,
          0.9704853187281303,
          0.9704853187281303,
          0.9706374562604595,
          0.9706374562604595,
          0.9707895937927887,
          0.9707895937927887,
          0.9712460063897763,
          0.971702418986764,
          0.9718545565190932,
          0.9720066940514225,
          0.9720066940514225,
          0.9793092956032253,
          0.9815913585881637,
          0.9817434961204929,
          0.9817434961204929,
          0.9817434961204929,
          0.9818956336528222,
          0.9820477711851514,
          0.9820477711851514,
          0.9820477711851514,
          0.9825041837821391,
          0.9825041837821391,
          0.9832648714437852,
          0.9832648714437852,
          0.9866118971550282,
          0.9866118971550282,
          0.9866118971550282,
          0.9866118971550282,
          0.9866118971550282,
          0.9866118971550282,
          0.9866118971550282,
          0.9866118971550282,
          0.9866118971550282,
          0.9866118971550282,
          0.9875247223490035,
          0.9875247223490035,
          0.9878289974136619,
          0.9878289974136619,
          0.9878289974136619,
          0.9879811349459912,
          0.9879811349459912,
          0.9881332724783204,
          0.9882854100106496,
          0.9882854100106496,
          0.9884375475429789,
          0.9898067853339418,
          0.9899589228662711,
          0.9901110603986003,
          0.9901110603986003,
          0.9902631979309295,
          0.9902631979309295,
          0.9904153354632588,
          0.9904153354632588,
          0.9908717480602465,
          0.9914802981895634,
          0.9914802981895634,
          0.9922409858512095,
          0.9922409858512095,
          0.9923931233835387,
          0.9923931233835387,
          0.9923931233835387,
          0.9923931233835387,
          0.9925452609158679,
          0.9926973984481972,
          0.9928495359805264,
          0.9931538110451849,
          0.9934580861098433,
          0.9936102236421726,
          0.9936102236421726,
          0.9937623611745018,
          0.9937623611745018,
          0.9937623611745018,
          0.993914498706831,
          0.993914498706831,
          0.993914498706831,
          0.9940666362391603,
          0.9940666362391603,
          0.9940666362391603,
          0.9940666362391603,
          0.9943709113038186,
          0.9943709113038186,
          0.9943709113038186,
          0.9943709113038186,
          0.9946751863684771,
          0.9972615244180739,
          0.9977179370150616,
          0.9977179370150616,
          0.9977179370150616,
          0.9977179370150616,
          0.9977179370150616,
          0.9981743496120493,
          0.9984786246767078,
          0.9984786246767078,
          0.9984786246767078,
          0.9984786246767078,
          0.9984786246767078,
          0.9984786246767078,
          0.9992393123383538,
          0.9992393123383538,
          0.9992393123383538,
          0.9993914498706831,
          0.9995435874030123,
          0.9995435874030123,
          0.9996957249353415,
          0.9996957249353415,
          0.9998478624676708,
          1
         ],
         "yaxis": "y"
        },
        {
         "hovertemplate": "x=%{x}<br>y=%{y}<extra></extra>",
         "legendgroup": "",
         "line": {
          "color": "rgba(50,50,50,0.2)",
          "dash": "solid"
         },
         "mode": "lines",
         "name": "",
         "orientation": "v",
         "showlegend": false,
         "type": "scatter",
         "x": [
          0,
          1
         ],
         "xaxis": "x",
         "y": [
          0,
          1
         ],
         "yaxis": "y"
        }
       ],
       "layout": {
        "autosize": false,
        "height": 800,
        "template": {
         "data": {
          "bar": [
           {
            "error_x": {
             "color": "#2a3f5f"
            },
            "error_y": {
             "color": "#2a3f5f"
            },
            "marker": {
             "line": {
              "color": "#E5ECF6",
              "width": 0.5
             }
            },
            "type": "bar"
           }
          ],
          "barpolar": [
           {
            "marker": {
             "line": {
              "color": "#E5ECF6",
              "width": 0.5
             }
            },
            "type": "barpolar"
           }
          ],
          "carpet": [
           {
            "aaxis": {
             "endlinecolor": "#2a3f5f",
             "gridcolor": "white",
             "linecolor": "white",
             "minorgridcolor": "white",
             "startlinecolor": "#2a3f5f"
            },
            "baxis": {
             "endlinecolor": "#2a3f5f",
             "gridcolor": "white",
             "linecolor": "white",
             "minorgridcolor": "white",
             "startlinecolor": "#2a3f5f"
            },
            "type": "carpet"
           }
          ],
          "choropleth": [
           {
            "colorbar": {
             "outlinewidth": 0,
             "ticks": ""
            },
            "type": "choropleth"
           }
          ],
          "contour": [
           {
            "colorbar": {
             "outlinewidth": 0,
             "ticks": ""
            },
            "colorscale": [
             [
              0,
              "#0d0887"
             ],
             [
              0.1111111111111111,
              "#46039f"
             ],
             [
              0.2222222222222222,
              "#7201a8"
             ],
             [
              0.3333333333333333,
              "#9c179e"
             ],
             [
              0.4444444444444444,
              "#bd3786"
             ],
             [
              0.5555555555555556,
              "#d8576b"
             ],
             [
              0.6666666666666666,
              "#ed7953"
             ],
             [
              0.7777777777777778,
              "#fb9f3a"
             ],
             [
              0.8888888888888888,
              "#fdca26"
             ],
             [
              1,
              "#f0f921"
             ]
            ],
            "type": "contour"
           }
          ],
          "contourcarpet": [
           {
            "colorbar": {
             "outlinewidth": 0,
             "ticks": ""
            },
            "type": "contourcarpet"
           }
          ],
          "heatmap": [
           {
            "colorbar": {
             "outlinewidth": 0,
             "ticks": ""
            },
            "colorscale": [
             [
              0,
              "#0d0887"
             ],
             [
              0.1111111111111111,
              "#46039f"
             ],
             [
              0.2222222222222222,
              "#7201a8"
             ],
             [
              0.3333333333333333,
              "#9c179e"
             ],
             [
              0.4444444444444444,
              "#bd3786"
             ],
             [
              0.5555555555555556,
              "#d8576b"
             ],
             [
              0.6666666666666666,
              "#ed7953"
             ],
             [
              0.7777777777777778,
              "#fb9f3a"
             ],
             [
              0.8888888888888888,
              "#fdca26"
             ],
             [
              1,
              "#f0f921"
             ]
            ],
            "type": "heatmap"
           }
          ],
          "heatmapgl": [
           {
            "colorbar": {
             "outlinewidth": 0,
             "ticks": ""
            },
            "colorscale": [
             [
              0,
              "#0d0887"
             ],
             [
              0.1111111111111111,
              "#46039f"
             ],
             [
              0.2222222222222222,
              "#7201a8"
             ],
             [
              0.3333333333333333,
              "#9c179e"
             ],
             [
              0.4444444444444444,
              "#bd3786"
             ],
             [
              0.5555555555555556,
              "#d8576b"
             ],
             [
              0.6666666666666666,
              "#ed7953"
             ],
             [
              0.7777777777777778,
              "#fb9f3a"
             ],
             [
              0.8888888888888888,
              "#fdca26"
             ],
             [
              1,
              "#f0f921"
             ]
            ],
            "type": "heatmapgl"
           }
          ],
          "histogram": [
           {
            "marker": {
             "colorbar": {
              "outlinewidth": 0,
              "ticks": ""
             }
            },
            "type": "histogram"
           }
          ],
          "histogram2d": [
           {
            "colorbar": {
             "outlinewidth": 0,
             "ticks": ""
            },
            "colorscale": [
             [
              0,
              "#0d0887"
             ],
             [
              0.1111111111111111,
              "#46039f"
             ],
             [
              0.2222222222222222,
              "#7201a8"
             ],
             [
              0.3333333333333333,
              "#9c179e"
             ],
             [
              0.4444444444444444,
              "#bd3786"
             ],
             [
              0.5555555555555556,
              "#d8576b"
             ],
             [
              0.6666666666666666,
              "#ed7953"
             ],
             [
              0.7777777777777778,
              "#fb9f3a"
             ],
             [
              0.8888888888888888,
              "#fdca26"
             ],
             [
              1,
              "#f0f921"
             ]
            ],
            "type": "histogram2d"
           }
          ],
          "histogram2dcontour": [
           {
            "colorbar": {
             "outlinewidth": 0,
             "ticks": ""
            },
            "colorscale": [
             [
              0,
              "#0d0887"
             ],
             [
              0.1111111111111111,
              "#46039f"
             ],
             [
              0.2222222222222222,
              "#7201a8"
             ],
             [
              0.3333333333333333,
              "#9c179e"
             ],
             [
              0.4444444444444444,
              "#bd3786"
             ],
             [
              0.5555555555555556,
              "#d8576b"
             ],
             [
              0.6666666666666666,
              "#ed7953"
             ],
             [
              0.7777777777777778,
              "#fb9f3a"
             ],
             [
              0.8888888888888888,
              "#fdca26"
             ],
             [
              1,
              "#f0f921"
             ]
            ],
            "type": "histogram2dcontour"
           }
          ],
          "mesh3d": [
           {
            "colorbar": {
             "outlinewidth": 0,
             "ticks": ""
            },
            "type": "mesh3d"
           }
          ],
          "parcoords": [
           {
            "line": {
             "colorbar": {
              "outlinewidth": 0,
              "ticks": ""
             }
            },
            "type": "parcoords"
           }
          ],
          "pie": [
           {
            "automargin": true,
            "type": "pie"
           }
          ],
          "scatter": [
           {
            "marker": {
             "colorbar": {
              "outlinewidth": 0,
              "ticks": ""
             }
            },
            "type": "scatter"
           }
          ],
          "scatter3d": [
           {
            "line": {
             "colorbar": {
              "outlinewidth": 0,
              "ticks": ""
             }
            },
            "marker": {
             "colorbar": {
              "outlinewidth": 0,
              "ticks": ""
             }
            },
            "type": "scatter3d"
           }
          ],
          "scattercarpet": [
           {
            "marker": {
             "colorbar": {
              "outlinewidth": 0,
              "ticks": ""
             }
            },
            "type": "scattercarpet"
           }
          ],
          "scattergeo": [
           {
            "marker": {
             "colorbar": {
              "outlinewidth": 0,
              "ticks": ""
             }
            },
            "type": "scattergeo"
           }
          ],
          "scattergl": [
           {
            "marker": {
             "colorbar": {
              "outlinewidth": 0,
              "ticks": ""
             }
            },
            "type": "scattergl"
           }
          ],
          "scattermapbox": [
           {
            "marker": {
             "colorbar": {
              "outlinewidth": 0,
              "ticks": ""
             }
            },
            "type": "scattermapbox"
           }
          ],
          "scatterpolar": [
           {
            "marker": {
             "colorbar": {
              "outlinewidth": 0,
              "ticks": ""
             }
            },
            "type": "scatterpolar"
           }
          ],
          "scatterpolargl": [
           {
            "marker": {
             "colorbar": {
              "outlinewidth": 0,
              "ticks": ""
             }
            },
            "type": "scatterpolargl"
           }
          ],
          "scatterternary": [
           {
            "marker": {
             "colorbar": {
              "outlinewidth": 0,
              "ticks": ""
             }
            },
            "type": "scatterternary"
           }
          ],
          "surface": [
           {
            "colorbar": {
             "outlinewidth": 0,
             "ticks": ""
            },
            "colorscale": [
             [
              0,
              "#0d0887"
             ],
             [
              0.1111111111111111,
              "#46039f"
             ],
             [
              0.2222222222222222,
              "#7201a8"
             ],
             [
              0.3333333333333333,
              "#9c179e"
             ],
             [
              0.4444444444444444,
              "#bd3786"
             ],
             [
              0.5555555555555556,
              "#d8576b"
             ],
             [
              0.6666666666666666,
              "#ed7953"
             ],
             [
              0.7777777777777778,
              "#fb9f3a"
             ],
             [
              0.8888888888888888,
              "#fdca26"
             ],
             [
              1,
              "#f0f921"
             ]
            ],
            "type": "surface"
           }
          ],
          "table": [
           {
            "cells": {
             "fill": {
              "color": "#EBF0F8"
             },
             "line": {
              "color": "white"
             }
            },
            "header": {
             "fill": {
              "color": "#C8D4E3"
             },
             "line": {
              "color": "white"
             }
            },
            "type": "table"
           }
          ]
         },
         "layout": {
          "annotationdefaults": {
           "arrowcolor": "#2a3f5f",
           "arrowhead": 0,
           "arrowwidth": 1
          },
          "autotypenumbers": "strict",
          "coloraxis": {
           "colorbar": {
            "outlinewidth": 0,
            "ticks": ""
           }
          },
          "colorscale": {
           "diverging": [
            [
             0,
             "#8e0152"
            ],
            [
             0.1,
             "#c51b7d"
            ],
            [
             0.2,
             "#de77ae"
            ],
            [
             0.3,
             "#f1b6da"
            ],
            [
             0.4,
             "#fde0ef"
            ],
            [
             0.5,
             "#f7f7f7"
            ],
            [
             0.6,
             "#e6f5d0"
            ],
            [
             0.7,
             "#b8e186"
            ],
            [
             0.8,
             "#7fbc41"
            ],
            [
             0.9,
             "#4d9221"
            ],
            [
             1,
             "#276419"
            ]
           ],
           "sequential": [
            [
             0,
             "#0d0887"
            ],
            [
             0.1111111111111111,
             "#46039f"
            ],
            [
             0.2222222222222222,
             "#7201a8"
            ],
            [
             0.3333333333333333,
             "#9c179e"
            ],
            [
             0.4444444444444444,
             "#bd3786"
            ],
            [
             0.5555555555555556,
             "#d8576b"
            ],
            [
             0.6666666666666666,
             "#ed7953"
            ],
            [
             0.7777777777777778,
             "#fb9f3a"
            ],
            [
             0.8888888888888888,
             "#fdca26"
            ],
            [
             1,
             "#f0f921"
            ]
           ],
           "sequentialminus": [
            [
             0,
             "#0d0887"
            ],
            [
             0.1111111111111111,
             "#46039f"
            ],
            [
             0.2222222222222222,
             "#7201a8"
            ],
            [
             0.3333333333333333,
             "#9c179e"
            ],
            [
             0.4444444444444444,
             "#bd3786"
            ],
            [
             0.5555555555555556,
             "#d8576b"
            ],
            [
             0.6666666666666666,
             "#ed7953"
            ],
            [
             0.7777777777777778,
             "#fb9f3a"
            ],
            [
             0.8888888888888888,
             "#fdca26"
            ],
            [
             1,
             "#f0f921"
            ]
           ]
          },
          "colorway": [
           "#636efa",
           "#EF553B",
           "#00cc96",
           "#ab63fa",
           "#FFA15A",
           "#19d3f3",
           "#FF6692",
           "#B6E880",
           "#FF97FF",
           "#FECB52"
          ],
          "font": {
           "color": "#2a3f5f"
          },
          "geo": {
           "bgcolor": "white",
           "lakecolor": "white",
           "landcolor": "#E5ECF6",
           "showlakes": true,
           "showland": true,
           "subunitcolor": "white"
          },
          "hoverlabel": {
           "align": "left"
          },
          "hovermode": "closest",
          "mapbox": {
           "style": "light"
          },
          "paper_bgcolor": "white",
          "plot_bgcolor": "#E5ECF6",
          "polar": {
           "angularaxis": {
            "gridcolor": "white",
            "linecolor": "white",
            "ticks": ""
           },
           "bgcolor": "#E5ECF6",
           "radialaxis": {
            "gridcolor": "white",
            "linecolor": "white",
            "ticks": ""
           }
          },
          "scene": {
           "xaxis": {
            "backgroundcolor": "#E5ECF6",
            "gridcolor": "white",
            "gridwidth": 2,
            "linecolor": "white",
            "showbackground": true,
            "ticks": "",
            "zerolinecolor": "white"
           },
           "yaxis": {
            "backgroundcolor": "#E5ECF6",
            "gridcolor": "white",
            "gridwidth": 2,
            "linecolor": "white",
            "showbackground": true,
            "ticks": "",
            "zerolinecolor": "white"
           },
           "zaxis": {
            "backgroundcolor": "#E5ECF6",
            "gridcolor": "white",
            "gridwidth": 2,
            "linecolor": "white",
            "showbackground": true,
            "ticks": "",
            "zerolinecolor": "white"
           }
          },
          "shapedefaults": {
           "line": {
            "color": "#2a3f5f"
           }
          },
          "ternary": {
           "aaxis": {
            "gridcolor": "white",
            "linecolor": "white",
            "ticks": ""
           },
           "baxis": {
            "gridcolor": "white",
            "linecolor": "white",
            "ticks": ""
           },
           "bgcolor": "#E5ECF6",
           "caxis": {
            "gridcolor": "white",
            "linecolor": "white",
            "ticks": ""
           }
          },
          "title": {
           "x": 0.05
          },
          "xaxis": {
           "automargin": true,
           "gridcolor": "white",
           "linecolor": "white",
           "ticks": "",
           "title": {
            "standoff": 15
           },
           "zerolinecolor": "white",
           "zerolinewidth": 2
          },
          "yaxis": {
           "automargin": true,
           "gridcolor": "white",
           "linecolor": "white",
           "ticks": "",
           "title": {
            "standoff": 15
           },
           "zerolinecolor": "white",
           "zerolinewidth": 2
          }
         }
        },
        "title": {
         "text": "Training ROC Curve"
        },
        "width": 800,
        "xaxis": {
         "range": [
          0,
          1
         ],
         "title": {
          "text": "False Positive Rate (Sensitivty)"
         }
        },
        "yaxis": {
         "range": [
          0,
          1
         ],
         "title": {
          "text": "True Positive Rate (1-Precision)"
         }
        }
       }
      },
      "text/html": "<div>                            <div id=\"5d6642d5-c62b-4c25-b51a-576af2e19fbf\" class=\"plotly-graph-div\" style=\"height:800px; width:800px;\"></div>            <script type=\"text/javascript\">                require([\"plotly\"], function(Plotly) {                    window.PLOTLYENV=window.PLOTLYENV || {};                                    if (document.getElementById(\"5d6642d5-c62b-4c25-b51a-576af2e19fbf\")) {                    Plotly.newPlot(                        \"5d6642d5-c62b-4c25-b51a-576af2e19fbf\",                        [{\"hovertemplate\": \"x=%{x}<br>y=%{y}<extra></extra>\", \"legendgroup\": \"\", \"line\": {\"color\": \"#636efa\", \"dash\": \"solid\"}, \"mode\": \"lines\", \"name\": \"\", \"orientation\": \"v\", \"showlegend\": false, \"type\": \"scatter\", \"x\": [0.0, 8.312551953449709e-05, 0.00024937655860349125, 0.00033250207813798836, 0.00033250207813798836, 0.00033250207813798836, 0.00041562759767248546, 0.00041562759767248546, 0.0004987531172069825, 0.0008312551953449709, 0.000914380714879468, 0.000997506234413965, 0.000997506234413965, 0.000997506234413965, 0.0014131338320864505, 0.00199501246882793, 0.0020781379883624274, 0.004156275976724855, 0.004156275976724855, 0.004239401496259352, 0.0043225270157938485, 0.005901911886949294, 0.006151288445552784, 0.006151288445552784, 0.006400665004156276, 0.006400665004156276, 0.006483790523690773, 0.0071487946799667496, 0.007231920199501247, 0.007231920199501247, 0.007231920199501247, 0.007564422277639235, 0.0077306733167082295, 0.007813798836242726, 0.00798004987531172, 0.0085619285120532, 0.008728179551122194, 0.00881130507065669, 0.00889443059019119, 0.010640066500415627, 0.011388196176226101, 0.011554447215295095, 0.011637572734829594, 0.01172069825436409, 0.011803823773898587, 0.012385702410640067, 0.012385702410640067, 0.012385702410640067, 0.012468827930174564, 0.012718204488778055, 0.02319201995012469, 0.023358270989193682, 0.023607647547797175, 0.02369077306733167, 0.024106400665004156, 0.02427265170407315, 0.02427265170407315, 0.028428927680798004, 0.028512053200332503, 0.028678304239401497, 0.028761429758935992, 0.02892768079800499, 0.029093931837073983, 0.029093931837073983, 0.029177057356608478, 0.04588528678304239, 0.04970906068162926, 0.04970906068162926, 0.049792186201163754, 0.05012468827930175, 0.05012468827930175, 0.050207813798836244, 0.050207813798836244, 0.050374064837905234, 0.050789692435577724, 0.05087281795511222, 0.052202826267664176, 0.05228595178719867, 0.05245220282626766, 0.05245220282626766, 0.052535328345802164, 0.05261845386533666, 0.05278470490440565, 0.05286783042394015, 0.05295095594347465, 0.05344970906068163, 0.05344970906068163, 0.05378221113881962, 0.053865336658354114, 0.05486284289276808, 0.05486284289276808, 0.05511221945137157, 0.05519534497090607, 0.05519534497090607, 0.05768911055694098, 0.06018287614297589, 0.06034912718204489, 0.06142975893599335, 0.061596009975062344, 0.061596009975062344, 0.06167913549459684, 0.06176226101413134, 0.06176226101413134, 0.06533665835411472, 0.06558603491271821, 0.0657522859517872, 0.06600166251039069, 0.06625103906899418, 0.06633416458852869, 0.06716541978387365, 0.0687448046550291, 0.0687448046550291, 0.07506234413965088, 0.07522859517871987, 0.07680798004987531, 0.08063175394846218, 0.08071487946799667, 0.08088113050706566, 0.08096425602660016, 0.08096425602660016, 0.08345802161263507, 0.08345802161263507, 0.08354114713216958, 0.08354114713216958, 0.08362427265170408, 0.08395677472984206, 0.0857024106400665, 0.0858686616791355, 0.08719866999168745, 0.08728179551122195, 0.08819617622610142, 0.0883624272651704, 0.09276807980049875, 0.09285120532003326, 0.09301745635910225, 0.09326683291770574, 0.09567747298420615, 0.09567747298420615, 0.09576059850374065, 0.09600997506234414, 0.09600997506234414, 0.09692435577722361, 0.09692435577722361, 0.09842061512884455, 0.09850374064837905, 0.09850374064837905, 0.09858686616791355, 0.09866999168744804, 0.09875311720698254, 0.09900249376558604, 0.09916874480465503, 0.099833748960931, 0.099833748960931, 0.0999168744804655, 0.0999168744804655, 0.1, 0.10166251039068994, 0.10174563591022444, 0.10191188694929343, 0.10191188694929343, 0.10207813798836243, 0.1028262676641729, 0.10315876974231089, 0.10315876974231089, 0.10415627597672486, 0.12743142144638403, 0.12759767248545303, 0.128428927680798, 0.12851205320033252, 0.1312551953449709, 0.13300083125519535, 0.13316708229426433, 0.13582709891936826, 0.13607647547797175, 0.1374896093100582, 0.1376558603491272, 0.1376558603491272, 0.13773898586866168, 0.13773898586866168, 0.13881961762261014, 0.13881961762261014, 0.13890274314214462, 0.13890274314214462, 0.1396508728179551, 0.1398171238570241, 0.1400665004156276, 0.1402327514546966, 0.14056525353283458, 0.1407315045719036, 0.14106400665004157, 0.14106400665004157, 0.1427265170407315, 0.14280964256026601, 0.143142144638404, 0.14364089775561098, 0.14389027431421447, 0.14397339983374896, 0.14397339983374896, 0.14480465502909393, 0.14480465502909393, 0.14488778054862844, 0.14497090606816293, 0.14505403158769742, 0.1714879467996675, 0.171571072319202, 0.17306733167082294, 0.17364921030756442, 0.1740648379052369, 0.1742310889443059, 0.17506234413965088, 0.17539484621778886, 0.17539484621778886, 0.17556109725685787, 0.17581047381546136, 0.17581047381546136, 0.17589359933499585, 0.17664172901080633, 0.1767248545303408, 0.1768079800498753, 0.1768079800498753, 0.1769742310889443, 0.17830423940149626, 0.17838736492103074, 0.17855361596009975, 0.17863674147963424, 0.20723192019950123, 0.20756442227763924, 0.20781379883624274, 0.22402327514546966, 0.22443890274314215, 0.22468827930174565, 0.22468827930174565, 0.22477140482128014, 0.22493765586034914, 0.31379883624272653, 0.313881961762261, 0.314214463840399, 0.3142975893599335, 0.31463009143807147, 0.31463009143807147, 0.3149625935162095, 0.31554447215295095, 0.3162094763092269, 0.31637572734829594, 0.3167082294264339, 0.31687448046550293, 0.3170407315045719, 0.3170407315045719, 0.3171238570241064, 0.3172069825436409, 0.31770573566084787, 0.32468827930174565, 0.32477140482128014, 0.32485453034081463, 0.3250207813798836, 0.3250207813798836, 0.3251039068994181, 0.3262676641729011, 0.3267664172901081, 0.32693266832917706, 0.32709891936824603, 0.327597672485453, 0.32809642560266, 0.3283458021612635, 0.3283458021612635, 0.32967581047381544, 0.32992518703241897, 0.32992518703241897, 0.33000831255195345, 0.3341645885286783, 0.3343308395677473, 0.33574397339983375, 0.33657522859517874, 0.33665835411471323, 0.3372402327514547, 0.3376558603491272, 0.33881961762261015, 0.33931837073981713, 0.33973399833748963, 0.3398171238570241, 0.3399002493765586, 0.34064837905236905, 0.3408977556109726, 0.34098088113050706, 0.34106400665004155, 0.34114713216957604, 0.3412302576891106, 0.3412302576891106, 0.34231088944305904, 0.343308395677473, 0.343308395677473, 0.3507896924355777, 0.3508728179551122, 0.3546134663341646, 0.35519534497090605, 0.3598503740648379, 0.3645054031587697, 0.36483790523690773, 0.36483790523690773, 0.3649210307564422, 0.3650041562759767, 0.3661679135494597, 0.3684954280964256, 0.3685785536159601, 0.3690773067331671, 0.36924355777223605, 0.3693266832917706, 0.3711554447215295, 0.371238570241064, 0.3713216957605985, 0.371404821280133, 0.371404821280133, 0.3714879467996675, 0.3714879467996675, 0.371571072319202, 0.37190357439734, 0.3719866999168745, 0.3719866999168745, 0.3768079800498753, 0.3768911055694098, 0.3770573566084788, 0.3770573566084788, 0.3773067331670823, 0.3773067331670823, 0.3822111388196176, 0.3822111388196176, 0.38229426433915215, 0.38237738985868663, 0.40083125519534496, 0.400997506234414, 0.4010806317539485, 0.4024106400665004, 0.4037406483790524, 0.40390689941812136, 0.40399002493765584, 0.40698254364089775, 0.41579384871155445, 0.41629260182876143, 0.41936824605153783, 0.41936824605153783, 0.4194513715710723, 0.42194513715710724, 0.42194513715710724, 0.4224438902743142, 0.4226101413133832, 0.4230257689110557, 0.4231920199501247, 0.4233582709891937, 0.4234413965087282, 0.42369077306733166, 0.42377389858686615, 0.42377389858686615, 0.42410640066500416, 0.4243557772236076, 0.42452202826267665, 0.442477140482128, 0.442643391521197, 0.44305901911886947, 0.443142144638404, 0.443308395677473, 0.44347464671654196, 0.44522028262676644, 0.4453034081463009, 0.4459684123025769, 0.4459684123025769, 0.4459684123025769, 0.4463840399002494, 0.4463840399002494, 0.4467996674979219, 0.44696591853699086, 0.44713216957605983, 0.4507065669160432, 0.4517040731504572, 0.4517040731504572, 0.4519534497090607, 0.4520365752285952, 0.45261845386533667, 0.45303408146300916, 0.4542809642560266, 0.4551122194513716, 0.4603491271820449, 0.4604322527015794, 0.4605153782211139, 0.46068162926018286, 0.4608478802992519, 0.4608478802992519, 0.4609310058187864, 0.4625935162094763, 0.46367414796342477, 0.46375727348295925, 0.46375727348295925, 0.46417290108063175, 0.46450540315876976, 0.4662510390689942, 0.4662510390689942, 0.46674979218620116, 0.46683291770573565, 0.46683291770573565, 0.4669991687448047, 0.46716541978387366, 0.46724854530340815, 0.4674979218620116, 0.4679966749792186, 0.4679966749792186, 0.4689110556940981, 0.4691604322527016, 0.47115544472152954, 0.472734829592685, 0.472734829592685, 0.4742310889443059, 0.47572734829592683, 0.4758104738154613, 0.4758104738154613, 0.4798004987531172, 0.4801330008312552, 0.4802161263507897, 0.4802161263507897, 0.48354114713216956, 0.48354114713216956, 0.48362427265170405, 0.48362427265170405, 0.48403990024937654, 0.48437240232751455, 0.4857024106400665, 0.485785536159601, 0.4858686616791355, 0.48611803823773897, 0.48611803823773897, 0.48620116375727346, 0.486284289276808, 0.6180382377389859, 0.6907730673316709, 0.6907730673316709, 0.6909393183707399, 0.6909393183707399, 0.6911886949293433, 0.6912718204488778, 0.6933499584372402, 0.6935993349958437, 0.6935993349958437, 0.6936824605153782, 0.6975893599334996, 0.6979218620116375, 0.700831255195345, 0.7014131338320865, 0.7017456359102244, 0.7018287614297589, 0.7018287614297589, 0.7018287614297589, 0.7018287614297589, 0.7019118869492934, 0.7022443890274315, 0.702327514546966, 0.7024937655860349, 0.7025768911055694, 0.7029093931837074, 0.7029925187032419, 0.7035743973399834, 0.7038237738985869, 0.7040731504571903, 0.742643391521197, 0.742809642560266, 0.7428927680798005, 0.7430590191188695, 0.8098088113050707, 0.8098088113050707, 0.8099750623441396, 0.8102244389027431, 0.8103075644222777, 0.8106400665004156, 0.8116375727348296, 0.8117206982543641, 0.8117206982543641, 0.8118038237738986, 0.8121363258520365, 0.813383208645054, 0.8139650872817955, 0.81404821280133, 0.8181213632585204, 0.8183707398171238, 0.8187863674147964, 0.8192019950124688, 0.8192851205320033, 0.8194513715710723, 0.8197838736492103, 0.8212801330008312, 0.8213632585203657, 0.8216126350789692, 0.8216957605985037, 0.8219451371571073, 0.8221113881961762, 0.8236076475477971, 0.8238570241064007, 0.8239401496259352, 0.826766417290108, 0.826766417290108, 0.8270989193682461, 0.8271820448877806, 0.8271820448877806, 0.8272651704073151, 0.8344139650872818, 0.8344139650872818, 0.8348295926849543, 0.8349958437240232, 0.8359102244389027, 0.8359933499584372, 0.8551953449709061, 0.8704904405652535, 0.870573566084788, 0.870573566084788, 0.8706566916043226, 0.8706566916043226, 0.8707398171238571, 0.8708229426433916, 0.870906068162926, 0.8711554447215295, 0.871404821280133, 0.8714879467996675, 0.8716541978387365, 0.872069825436409, 0.872069825436409, 0.8723192019950124, 0.872734829592685, 0.872734829592685, 0.8745635910224439, 0.8745635910224439, 0.8746467165419783, 0.8811305070656692, 0.8812967581047382, 0.8813798836242727, 0.8817123857024106, 0.8927680798004988, 0.8931005818786367, 0.8937655860349127, 0.8938487115544472, 0.8939318370739817, 0.8939318370739817, 0.8940149625935162, 0.8941812136325852, 0.8945137157107232, 0.8948462177888612, 0.8955943474646717, 0.8956774729842062, 0.8959268495428097, 0.8960099750623441, 0.8962593516209476, 0.8963424771404821, 0.8965087281795511, 0.8965087281795511, 0.8966749792186202, 0.8968412302576891, 0.8970074812967581, 0.8974231088944306, 0.8974231088944306, 0.8980881130507066, 0.8995843724023275, 0.9022443890274314, 0.9034081463009144, 0.9034912718204489, 0.9037406483790523, 0.9043225270157939, 0.9044887780548628, 0.9047381546134663, 0.9048212801330008, 0.9049875311720699, 0.9052369077306733, 0.9064006650041563, 0.9068162926018287, 0.9069825436408978, 0.9071487946799668, 0.9071487946799668, 0.9075644222776392, 0.9075644222776392, 0.9076475477971737, 0.9077306733167082, 0.9077306733167082, 0.9080631753948463, 0.9082294264339152, 0.9083125519534497, 0.9083956774729842, 0.9087281795511222, 0.9087281795511222, 0.9088113050706567, 0.9090606816292602, 0.9091438071487947, 0.9091438071487947, 0.9093100581878637, 0.9093931837073982, 0.9093931837073982, 0.9094763092269327, 0.9096425602660017, 0.9098088113050706, 0.9098088113050706, 0.9098919368246051, 0.9100581878636741, 0.9101413133832087, 0.9103906899418122, 0.9104738154613466, 0.9107231920199501, 0.9108063175394846, 0.9108894430590191, 0.9112219451371572, 0.9113050706566916, 0.9117206982543641, 0.9123025768911056, 0.9123025768911056, 0.913881961762261, 0.91404821280133, 0.9257689110556941, 0.9278470490440566, 0.9278470490440566, 0.9280133000831255, 0.92809642560266, 0.92809642560266, 0.9281795511221945, 0.9283458021612635, 0.928428927680798, 0.929260182876143, 0.9293433083956775, 0.9316708229426434, 0.9317539484621779, 0.9382377389858687, 0.9385702410640067, 0.9388196176226101, 0.9389858686616791, 0.9391521197007481, 0.9393183707398172, 0.9395677472984206, 0.9396508728179551, 0.9403990024937656, 0.9404821280133001, 0.941978387364921, 0.9423940149625936, 0.9423940149625936, 0.9425602660016625, 0.9427265170407315, 0.9428927680798005, 0.9433083956774729, 0.9443890274314215, 0.9443890274314215, 0.944472152950956, 0.944472152950956, 0.9450540315876974, 0.94546965918537, 0.94546965918537, 0.9457190357439734, 0.9468827930174564, 0.9470490440565253, 0.9470490440565253, 0.9472152950955943, 0.9475477971737324, 0.9503740648379052, 0.9504571903574397, 0.9523690773067331, 0.9525353283458021, 0.9525353283458021, 0.9527015793848711, 0.9528678304239402, 0.9532003325020781, 0.9537822111388197, 0.9538653366583542, 0.9540315876974231, 0.9544472152950956, 0.955694098088113, 0.9560266001662511, 0.9561097256857856, 0.95619285120532, 0.9562759767248545, 0.9567747298420615, 0.9567747298420615, 0.9571072319201995, 0.9574397339983375, 0.9576059850374065, 0.9578553615960099, 0.958021612635079, 0.9581047381546135, 0.958187863674148, 0.958354114713217, 0.9586866167913549, 0.9587697423108894, 0.9593516209476309, 0.9783873649210307, 0.9799667497921862, 0.9802161263507897, 0.9804655029093932, 0.9807980049875312, 0.9809642560266002, 0.9815461346633416, 0.9889443059019118, 0.9890274314214463, 0.9894430590191189, 0.9896093100581879, 0.9897755610972568, 0.9901080631753948, 0.9961762261014131, 0.9964256026600167, 0.9967581047381546, 0.999002493765586, 0.999168744804655, 0.999334995843724, 0.9994181213632585, 0.999667497921862, 1.0, 1.0], \"xaxis\": \"x\", \"y\": [0.0, 0.0, 0.0, 0.00015213753232922562, 0.00045641259698767686, 0.0007606876616461281, 0.0007606876616461281, 0.0010649627263045794, 0.0010649627263045794, 0.00243420051726761, 0.0025863380495968354, 0.0025863380495968354, 0.003194888178913738, 0.003347025711242964, 0.0038034383082306404, 0.005781226228510574, 0.005933363760839799, 0.007911151681119732, 0.008063289213448958, 0.008063289213448958, 0.008215426745778184, 0.012931690247984177, 0.01323596531264263, 0.01354024037730108, 0.01354024037730108, 0.013844515441959531, 0.013844515441959531, 0.014300928038947208, 0.014300928038947208, 0.01460520310360566, 0.014757340635934885, 0.016126578426897915, 0.016430853491556367, 0.016430853491556367, 0.016430853491556367, 0.017191541153202494, 0.017191541153202494, 0.01764795375019017, 0.017800091282519397, 0.0184086414118363, 0.019321466605811653, 0.01947360413814088, 0.01947360413814088, 0.02038642933211623, 0.02038642933211623, 0.023733455043359195, 0.02388559257568842, 0.024189867640346873, 0.024494142705005325, 0.02464628023733455, 0.0427506465845124, 0.0427506465845124, 0.0427506465845124, 0.0427506465845124, 0.043663471778487756, 0.043663471778487756, 0.04396774684314621, 0.04822759774836452, 0.04822759774836452, 0.048379735280693746, 0.0492925604746691, 0.0492925604746691, 0.04944469800699833, 0.049596835539327554, 0.049596835539327554, 0.09006541913890156, 0.09645519549672904, 0.09660733302905827, 0.09660733302905827, 0.09706374562604594, 0.09721588315837518, 0.0973680206907044, 0.09752015822303363, 0.09767229575536285, 0.09767229575536285, 0.09767229575536285, 0.10025863380495968, 0.1010193214666058, 0.1010193214666058, 0.10132359653126426, 0.10132359653126426, 0.10147573406359349, 0.10178000912825194, 0.10178000912825194, 0.10223642172523961, 0.1026928343222273, 0.10284497185455652, 0.10284497185455652, 0.10299710938688575, 0.104518484710178, 0.10467062224250723, 0.10482275977483645, 0.10482275977483645, 0.10497489730716568, 0.10923474821238399, 0.11166894872965161, 0.11182108626198083, 0.11395101171458999, 0.11410314924691921, 0.11425528677924844, 0.11425528677924844, 0.11455956184390689, 0.11486383690856534, 0.1188194127491252, 0.11912368781378366, 0.11958010041077134, 0.1198843754754298, 0.12003651300775901, 0.12003651300775901, 0.12155788833105127, 0.12277498858968508, 0.1229271261220143, 0.13022972767381713, 0.13038186520614636, 0.13327247832040165, 0.1372280541609615, 0.13768446675794918, 0.13768446675794918, 0.1378366042902784, 0.13798874182260765, 0.13905370454891222, 0.13935797961357066, 0.13935797961357066, 0.1395101171458999, 0.13966225467822913, 0.13966225467822913, 0.1419443176631675, 0.1419443176631675, 0.1448349307774228, 0.1448349307774228, 0.14529134337441046, 0.1454434809067397, 0.1503118819412749, 0.1503118819412749, 0.1503118819412749, 0.1507682945382626, 0.15350677012018865, 0.15365890765251788, 0.15396318271717632, 0.15396318271717632, 0.1542674577818348, 0.1554845580404686, 0.1556366955727978, 0.1568537958314316, 0.15715807089609007, 0.15731020842841928, 0.15731020842841928, 0.1574623459607485, 0.1574623459607485, 0.15883158375171155, 0.15883158375171155, 0.1597444089456869, 0.15989654647801613, 0.15989654647801613, 0.16004868401034536, 0.16004868401034536, 0.16233074699528374, 0.16233074699528374, 0.16248288452761298, 0.16263502205994218, 0.16293929712460065, 0.16354784725391755, 0.16430853491556366, 0.16476494751255136, 0.16598204777118516, 0.20112581773923627, 0.2012779552715655, 0.20234291799787008, 0.20234291799787008, 0.2047771185151377, 0.20645063137075917, 0.2072113190324053, 0.20888483188802678, 0.20918910695268522, 0.2102540696789898, 0.2102540696789898, 0.21040620721131903, 0.2107104822759775, 0.21116689487296517, 0.21329682032557432, 0.21344895785790355, 0.21344895785790355, 0.21360109539023278, 0.21466605811653736, 0.2148181956488666, 0.21512247071352503, 0.21542674577818346, 0.2155788833105127, 0.2155788833105127, 0.2161874334398296, 0.21633957097215883, 0.2180130838277803, 0.21816522136010955, 0.21816522136010955, 0.21877377148942645, 0.21983873421573102, 0.21983873421573102, 0.21999087174806026, 0.22136010953902327, 0.22166438460368174, 0.22196865966834017, 0.22196865966834017, 0.22227293473299864, 0.2546782291191237, 0.2546782291191237, 0.2577209797657082, 0.2586338049596836, 0.2590902175566712, 0.2590902175566712, 0.26030731781530503, 0.26122014300928037, 0.26152441807393884, 0.26152441807393884, 0.26228510573558494, 0.2625893808002434, 0.26274151833257264, 0.2648714437851818, 0.2648714437851818, 0.265023581317511, 0.2653278563821695, 0.26563213144682796, 0.26745778183477864, 0.26745778183477864, 0.268370607028754, 0.268370607028754, 0.30199300167351284, 0.30199300167351284, 0.30199300167351284, 0.32724783204016433, 0.32755210710482274, 0.32755210710482274, 0.327704244637152, 0.3278563821694812, 0.32800851970181044, 0.4454586946599726, 0.4454586946599726, 0.4459151072569603, 0.44637151985394796, 0.44637151985394796, 0.44667579491860643, 0.44682793245093566, 0.44682793245093566, 0.44804503270956947, 0.44804503270956947, 0.4481971702418987, 0.4485014453065571, 0.4485014453065571, 0.4492621329682033, 0.4494142705005325, 0.4494142705005325, 0.4497185455651909, 0.45823824737562757, 0.4583903849079568, 0.4583903849079568, 0.45869465997261527, 0.45884679750494445, 0.45884679750494445, 0.4591510725696029, 0.4591510725696029, 0.4591510725696029, 0.45930321010193215, 0.4594553476342614, 0.45975962269891985, 0.459911760231249, 0.4602160352959075, 0.4620416856838582, 0.46234596074851664, 0.46249809828084587, 0.46249809828084587, 0.469344287235661, 0.4696485623003195, 0.472691312946904, 0.47345200060855014, 0.47360413814087937, 0.47466910086718395, 0.4749733759318424, 0.47619047619047616, 0.47710330138445156, 0.4780161265784269, 0.4780161265784269, 0.4786246767077438, 0.47968963943404835, 0.4798417769663776, 0.4798417769663776, 0.48014605203103605, 0.4802981895633653, 0.4812110147573406, 0.4816674273543283, 0.48288452761296213, 0.483493077742279, 0.48364521527460824, 0.49262132968203254, 0.49262132968203254, 0.49475125513464174, 0.49505553019930015, 0.49855469344287234, 0.5035752320097368, 0.5038795070743952, 0.5040316446067244, 0.5040316446067244, 0.5041837821390537, 0.5049444698006998, 0.5064658451239921, 0.5066179826563213, 0.5092043207059181, 0.5096607333029058, 0.5096607333029058, 0.5120949338201735, 0.5120949338201735, 0.5122470713525027, 0.5122470713525027, 0.5123992088848319, 0.5127034839494904, 0.5128556214818195, 0.5128556214818195, 0.513159896546478, 0.513159896546478, 0.5133120340788072, 0.5184847101780009, 0.5186368477103301, 0.5186368477103301, 0.5187889852426594, 0.5189411227749886, 0.5190932603073178, 0.5227445610832192, 0.5228966986155484, 0.5228966986155484, 0.5230488361478777, 0.5473908413205538, 0.5476951163852122, 0.5476951163852122, 0.5487600791115168, 0.5492164917085045, 0.5493686292408337, 0.549520766773163, 0.5521071048227598, 0.5670165829910239, 0.5670165829910239, 0.5720371215578883, 0.5723413966225468, 0.5723413966225468, 0.5741670470104975, 0.5743191845428267, 0.5749277346721436, 0.5749277346721436, 0.5752320097368021, 0.5752320097368021, 0.5752320097368021, 0.5752320097368021, 0.5752320097368021, 0.5752320097368021, 0.5756884223337897, 0.5758405598661189, 0.5759926973984482, 0.5766012475277651, 0.592727825954663, 0.5930321010193215, 0.5931842385516507, 0.5931842385516507, 0.5933363760839799, 0.5933363760839799, 0.5950098889396014, 0.5950098889396014, 0.5950098889396014, 0.5953141640042598, 0.5954663015365891, 0.5957705766012475, 0.5959227141335768, 0.596074851665906, 0.596074851665906, 0.5962269891982352, 0.6000304275064658, 0.6023124904914042, 0.6024646280237335, 0.6027689030883919, 0.6027689030883919, 0.6033774532177089, 0.6036817282823672, 0.6053552411379888, 0.6067244789289518, 0.6105279172371824, 0.6108321923018408, 0.6109843298341701, 0.6109843298341701, 0.6109843298341701, 0.6111364673664993, 0.6111364673664993, 0.6141792180130838, 0.6164612809980222, 0.6164612809980222, 0.6166134185303515, 0.6173741061919976, 0.6175262437243267, 0.6195040316446068, 0.619656169176936, 0.6199604442415944, 0.6201125817739236, 0.6202647193062528, 0.6202647193062528, 0.620416856838582, 0.620416856838582, 0.6208732694355698, 0.6211775445002282, 0.6213296820325575, 0.622394644758862, 0.6228510573558497, 0.6249809828084588, 0.6260459455347634, 0.6261980830670927, 0.6275673208580557, 0.6287844211166895, 0.6290886961813479, 0.6292408337136771, 0.6324357218925909, 0.6328921344895786, 0.6328921344895786, 0.6330442720219078, 0.6379126730564431, 0.6380648105887723, 0.6382169481211015, 0.6383690856534308, 0.6385212231857599, 0.6388254982504183, 0.6404990111060399, 0.6404990111060399, 0.6411075612353567, 0.6414118363000152, 0.6415639738323444, 0.6415639738323444, 0.6418682488970029, 0.7533850600943253, 0.8121101475734064, 0.8122622851057356, 0.8122622851057356, 0.8125665601703941, 0.8127186977027233, 0.8128708352350524, 0.8137836604290278, 0.8137836604290278, 0.8139357979613571, 0.8140879354936863, 0.8162178609462954, 0.8168264110756124, 0.8191084740605508, 0.8209341244485014, 0.8210862619808307, 0.8210862619808307, 0.8212383995131599, 0.8215426745778184, 0.8218469496424768, 0.8219990871748061, 0.8219990871748061, 0.8219990871748061, 0.8219990871748061, 0.8219990871748061, 0.8219990871748061, 0.8219990871748061, 0.8219990871748061, 0.8224554997717937, 0.8224554997717937, 0.8528830062376388, 0.8534915563669557, 0.8534915563669557, 0.8534915563669557, 0.9003499163243572, 0.9005020538566865, 0.9005020538566865, 0.9005020538566865, 0.9005020538566865, 0.9005020538566865, 0.9008063289213449, 0.9008063289213449, 0.9009584664536742, 0.9011106039860034, 0.901567016582991, 0.9023277042446372, 0.9027841168416249, 0.9029362543739541, 0.9070439677468431, 0.9070439677468431, 0.9071961052791724, 0.9075003803438308, 0.9076525178761601, 0.9082610680054769, 0.9084132055378061, 0.9099345808610985, 0.9102388559257569, 0.9102388559257569, 0.9102388559257569, 0.9102388559257569, 0.9102388559257569, 0.9108474060550737, 0.910999543587403, 0.9114559561843907, 0.9128251939753537, 0.9129773315076829, 0.9132816065723414, 0.9132816065723414, 0.9135858816369998, 0.9135858816369998, 0.9183021451392058, 0.9184542826715351, 0.9189106952685228, 0.9192149703331812, 0.9196713829301689, 0.9196713829301689, 0.9327552107104823, 0.9418834626502358, 0.9418834626502358, 0.9421877377148943, 0.9421877377148943, 0.9423398752472235, 0.9423398752472235, 0.942644150311882, 0.9427962878442112, 0.9432527004411988, 0.9432527004411988, 0.9432527004411988, 0.9432527004411988, 0.9435569755058573, 0.944013388102845, 0.944013388102845, 0.9446219382321619, 0.9449262132968204, 0.9461433135554541, 0.9464475886201126, 0.9464475886201126, 0.9504031644606724, 0.9504031644606724, 0.9504031644606724, 0.9504031644606724, 0.9567929408185, 0.9567929408185, 0.9567929408185, 0.9567929408185, 0.9569450783508292, 0.9570972158831583, 0.9570972158831583, 0.9574014909478168, 0.9574014909478168, 0.9580100410771337, 0.9583143161417922, 0.9584664536741214, 0.9584664536741214, 0.9584664536741214, 0.9586185912064507, 0.9586185912064507, 0.9587707287387799, 0.9589228662711091, 0.9590750038034384, 0.9590750038034384, 0.9593792788680967, 0.9595314164004259, 0.9599878289974136, 0.9610527917237183, 0.9627263045793397, 0.9645519549672904, 0.9648562300319489, 0.9648562300319489, 0.9653126426289366, 0.9660733302905827, 0.9660733302905827, 0.966225467822912, 0.966225467822912, 0.9665297428875703, 0.9665297428875703, 0.9668340179522288, 0.966986155484558, 0.9671382930168873, 0.9671382930168873, 0.9672904305492165, 0.9674425680815457, 0.9677468431462042, 0.9678989806785334, 0.9678989806785334, 0.9680511182108626, 0.9680511182108626, 0.9682032557431919, 0.9686596683401795, 0.9688118058725087, 0.9689639434048379, 0.9691160809371672, 0.9691160809371672, 0.9692682184694964, 0.9694203560018256, 0.9697246310664841, 0.9697246310664841, 0.9697246310664841, 0.9698767685988133, 0.9698767685988133, 0.9698767685988133, 0.9698767685988133, 0.970333181195801, 0.970333181195801, 0.9704853187281303, 0.9704853187281303, 0.9704853187281303, 0.9704853187281303, 0.9704853187281303, 0.9706374562604595, 0.9706374562604595, 0.9707895937927887, 0.9707895937927887, 0.9712460063897763, 0.971702418986764, 0.9718545565190932, 0.9720066940514225, 0.9720066940514225, 0.9793092956032253, 0.9815913585881637, 0.9817434961204929, 0.9817434961204929, 0.9817434961204929, 0.9818956336528222, 0.9820477711851514, 0.9820477711851514, 0.9820477711851514, 0.9825041837821391, 0.9825041837821391, 0.9832648714437852, 0.9832648714437852, 0.9866118971550282, 0.9866118971550282, 0.9866118971550282, 0.9866118971550282, 0.9866118971550282, 0.9866118971550282, 0.9866118971550282, 0.9866118971550282, 0.9866118971550282, 0.9866118971550282, 0.9875247223490035, 0.9875247223490035, 0.9878289974136619, 0.9878289974136619, 0.9878289974136619, 0.9879811349459912, 0.9879811349459912, 0.9881332724783204, 0.9882854100106496, 0.9882854100106496, 0.9884375475429789, 0.9898067853339418, 0.9899589228662711, 0.9901110603986003, 0.9901110603986003, 0.9902631979309295, 0.9902631979309295, 0.9904153354632588, 0.9904153354632588, 0.9908717480602465, 0.9914802981895634, 0.9914802981895634, 0.9922409858512095, 0.9922409858512095, 0.9923931233835387, 0.9923931233835387, 0.9923931233835387, 0.9923931233835387, 0.9925452609158679, 0.9926973984481972, 0.9928495359805264, 0.9931538110451849, 0.9934580861098433, 0.9936102236421726, 0.9936102236421726, 0.9937623611745018, 0.9937623611745018, 0.9937623611745018, 0.993914498706831, 0.993914498706831, 0.993914498706831, 0.9940666362391603, 0.9940666362391603, 0.9940666362391603, 0.9940666362391603, 0.9943709113038186, 0.9943709113038186, 0.9943709113038186, 0.9943709113038186, 0.9946751863684771, 0.9972615244180739, 0.9977179370150616, 0.9977179370150616, 0.9977179370150616, 0.9977179370150616, 0.9977179370150616, 0.9981743496120493, 0.9984786246767078, 0.9984786246767078, 0.9984786246767078, 0.9984786246767078, 0.9984786246767078, 0.9984786246767078, 0.9992393123383538, 0.9992393123383538, 0.9992393123383538, 0.9993914498706831, 0.9995435874030123, 0.9995435874030123, 0.9996957249353415, 0.9996957249353415, 0.9998478624676708, 1.0], \"yaxis\": \"y\"}, {\"hovertemplate\": \"x=%{x}<br>y=%{y}<extra></extra>\", \"legendgroup\": \"\", \"line\": {\"color\": \"rgba(50,50,50,0.2)\", \"dash\": \"solid\"}, \"mode\": \"lines\", \"name\": \"\", \"orientation\": \"v\", \"showlegend\": false, \"type\": \"scatter\", \"x\": [0, 1], \"xaxis\": \"x\", \"y\": [0, 1], \"yaxis\": \"y\"}],                        {\"autosize\": false, \"height\": 800, \"template\": {\"data\": {\"bar\": [{\"error_x\": {\"color\": \"#2a3f5f\"}, \"error_y\": {\"color\": \"#2a3f5f\"}, \"marker\": {\"line\": {\"color\": \"#E5ECF6\", \"width\": 0.5}}, \"type\": \"bar\"}], \"barpolar\": [{\"marker\": {\"line\": {\"color\": \"#E5ECF6\", \"width\": 0.5}}, \"type\": \"barpolar\"}], \"carpet\": [{\"aaxis\": {\"endlinecolor\": \"#2a3f5f\", \"gridcolor\": \"white\", \"linecolor\": \"white\", \"minorgridcolor\": \"white\", \"startlinecolor\": \"#2a3f5f\"}, \"baxis\": {\"endlinecolor\": \"#2a3f5f\", \"gridcolor\": \"white\", \"linecolor\": \"white\", \"minorgridcolor\": \"white\", \"startlinecolor\": \"#2a3f5f\"}, \"type\": \"carpet\"}], \"choropleth\": [{\"colorbar\": {\"outlinewidth\": 0, \"ticks\": \"\"}, \"type\": \"choropleth\"}], \"contour\": [{\"colorbar\": {\"outlinewidth\": 0, \"ticks\": \"\"}, \"colorscale\": [[0.0, \"#0d0887\"], [0.1111111111111111, \"#46039f\"], [0.2222222222222222, \"#7201a8\"], [0.3333333333333333, \"#9c179e\"], [0.4444444444444444, \"#bd3786\"], [0.5555555555555556, \"#d8576b\"], [0.6666666666666666, \"#ed7953\"], [0.7777777777777778, \"#fb9f3a\"], [0.8888888888888888, \"#fdca26\"], [1.0, \"#f0f921\"]], \"type\": \"contour\"}], \"contourcarpet\": [{\"colorbar\": {\"outlinewidth\": 0, \"ticks\": \"\"}, \"type\": \"contourcarpet\"}], \"heatmap\": [{\"colorbar\": {\"outlinewidth\": 0, \"ticks\": \"\"}, \"colorscale\": [[0.0, \"#0d0887\"], [0.1111111111111111, \"#46039f\"], [0.2222222222222222, \"#7201a8\"], [0.3333333333333333, \"#9c179e\"], [0.4444444444444444, \"#bd3786\"], [0.5555555555555556, \"#d8576b\"], [0.6666666666666666, \"#ed7953\"], [0.7777777777777778, \"#fb9f3a\"], [0.8888888888888888, \"#fdca26\"], [1.0, \"#f0f921\"]], \"type\": \"heatmap\"}], \"heatmapgl\": [{\"colorbar\": {\"outlinewidth\": 0, \"ticks\": \"\"}, \"colorscale\": [[0.0, \"#0d0887\"], [0.1111111111111111, \"#46039f\"], [0.2222222222222222, \"#7201a8\"], [0.3333333333333333, \"#9c179e\"], [0.4444444444444444, \"#bd3786\"], [0.5555555555555556, \"#d8576b\"], [0.6666666666666666, \"#ed7953\"], [0.7777777777777778, \"#fb9f3a\"], [0.8888888888888888, \"#fdca26\"], [1.0, \"#f0f921\"]], \"type\": \"heatmapgl\"}], \"histogram\": [{\"marker\": {\"colorbar\": {\"outlinewidth\": 0, \"ticks\": \"\"}}, \"type\": \"histogram\"}], \"histogram2d\": [{\"colorbar\": {\"outlinewidth\": 0, \"ticks\": \"\"}, \"colorscale\": [[0.0, \"#0d0887\"], [0.1111111111111111, \"#46039f\"], [0.2222222222222222, \"#7201a8\"], [0.3333333333333333, \"#9c179e\"], [0.4444444444444444, \"#bd3786\"], [0.5555555555555556, \"#d8576b\"], [0.6666666666666666, \"#ed7953\"], [0.7777777777777778, \"#fb9f3a\"], [0.8888888888888888, \"#fdca26\"], [1.0, \"#f0f921\"]], \"type\": \"histogram2d\"}], \"histogram2dcontour\": [{\"colorbar\": {\"outlinewidth\": 0, \"ticks\": \"\"}, \"colorscale\": [[0.0, \"#0d0887\"], [0.1111111111111111, \"#46039f\"], [0.2222222222222222, \"#7201a8\"], [0.3333333333333333, \"#9c179e\"], [0.4444444444444444, \"#bd3786\"], [0.5555555555555556, \"#d8576b\"], [0.6666666666666666, \"#ed7953\"], [0.7777777777777778, \"#fb9f3a\"], [0.8888888888888888, \"#fdca26\"], [1.0, \"#f0f921\"]], \"type\": \"histogram2dcontour\"}], \"mesh3d\": [{\"colorbar\": {\"outlinewidth\": 0, \"ticks\": \"\"}, \"type\": \"mesh3d\"}], \"parcoords\": [{\"line\": {\"colorbar\": {\"outlinewidth\": 0, \"ticks\": \"\"}}, \"type\": \"parcoords\"}], \"pie\": [{\"automargin\": true, \"type\": \"pie\"}], \"scatter\": [{\"marker\": {\"colorbar\": {\"outlinewidth\": 0, \"ticks\": \"\"}}, \"type\": \"scatter\"}], \"scatter3d\": [{\"line\": {\"colorbar\": {\"outlinewidth\": 0, \"ticks\": \"\"}}, \"marker\": {\"colorbar\": {\"outlinewidth\": 0, \"ticks\": \"\"}}, \"type\": \"scatter3d\"}], \"scattercarpet\": [{\"marker\": {\"colorbar\": {\"outlinewidth\": 0, \"ticks\": \"\"}}, \"type\": \"scattercarpet\"}], \"scattergeo\": [{\"marker\": {\"colorbar\": {\"outlinewidth\": 0, \"ticks\": \"\"}}, \"type\": \"scattergeo\"}], \"scattergl\": [{\"marker\": {\"colorbar\": {\"outlinewidth\": 0, \"ticks\": \"\"}}, \"type\": \"scattergl\"}], \"scattermapbox\": [{\"marker\": {\"colorbar\": {\"outlinewidth\": 0, \"ticks\": \"\"}}, \"type\": \"scattermapbox\"}], \"scatterpolar\": [{\"marker\": {\"colorbar\": {\"outlinewidth\": 0, \"ticks\": \"\"}}, \"type\": \"scatterpolar\"}], \"scatterpolargl\": [{\"marker\": {\"colorbar\": {\"outlinewidth\": 0, \"ticks\": \"\"}}, \"type\": \"scatterpolargl\"}], \"scatterternary\": [{\"marker\": {\"colorbar\": {\"outlinewidth\": 0, \"ticks\": \"\"}}, \"type\": \"scatterternary\"}], \"surface\": [{\"colorbar\": {\"outlinewidth\": 0, \"ticks\": \"\"}, \"colorscale\": [[0.0, \"#0d0887\"], [0.1111111111111111, \"#46039f\"], [0.2222222222222222, \"#7201a8\"], [0.3333333333333333, \"#9c179e\"], [0.4444444444444444, \"#bd3786\"], [0.5555555555555556, \"#d8576b\"], [0.6666666666666666, \"#ed7953\"], [0.7777777777777778, \"#fb9f3a\"], [0.8888888888888888, \"#fdca26\"], [1.0, \"#f0f921\"]], \"type\": \"surface\"}], \"table\": [{\"cells\": {\"fill\": {\"color\": \"#EBF0F8\"}, \"line\": {\"color\": \"white\"}}, \"header\": {\"fill\": {\"color\": \"#C8D4E3\"}, \"line\": {\"color\": \"white\"}}, \"type\": \"table\"}]}, \"layout\": {\"annotationdefaults\": {\"arrowcolor\": \"#2a3f5f\", \"arrowhead\": 0, \"arrowwidth\": 1}, \"autotypenumbers\": \"strict\", \"coloraxis\": {\"colorbar\": {\"outlinewidth\": 0, \"ticks\": \"\"}}, \"colorscale\": {\"diverging\": [[0, \"#8e0152\"], [0.1, \"#c51b7d\"], [0.2, \"#de77ae\"], [0.3, \"#f1b6da\"], [0.4, \"#fde0ef\"], [0.5, \"#f7f7f7\"], [0.6, \"#e6f5d0\"], [0.7, \"#b8e186\"], [0.8, \"#7fbc41\"], [0.9, \"#4d9221\"], [1, \"#276419\"]], \"sequential\": [[0.0, \"#0d0887\"], [0.1111111111111111, \"#46039f\"], [0.2222222222222222, \"#7201a8\"], [0.3333333333333333, \"#9c179e\"], [0.4444444444444444, \"#bd3786\"], [0.5555555555555556, \"#d8576b\"], [0.6666666666666666, \"#ed7953\"], [0.7777777777777778, \"#fb9f3a\"], [0.8888888888888888, \"#fdca26\"], [1.0, \"#f0f921\"]], \"sequentialminus\": [[0.0, \"#0d0887\"], [0.1111111111111111, \"#46039f\"], [0.2222222222222222, \"#7201a8\"], [0.3333333333333333, \"#9c179e\"], [0.4444444444444444, \"#bd3786\"], [0.5555555555555556, \"#d8576b\"], [0.6666666666666666, \"#ed7953\"], [0.7777777777777778, \"#fb9f3a\"], [0.8888888888888888, \"#fdca26\"], [1.0, \"#f0f921\"]]}, \"colorway\": [\"#636efa\", \"#EF553B\", \"#00cc96\", \"#ab63fa\", \"#FFA15A\", \"#19d3f3\", \"#FF6692\", \"#B6E880\", \"#FF97FF\", \"#FECB52\"], \"font\": {\"color\": \"#2a3f5f\"}, \"geo\": {\"bgcolor\": \"white\", \"lakecolor\": \"white\", \"landcolor\": \"#E5ECF6\", \"showlakes\": true, \"showland\": true, \"subunitcolor\": \"white\"}, \"hoverlabel\": {\"align\": \"left\"}, \"hovermode\": \"closest\", \"mapbox\": {\"style\": \"light\"}, \"paper_bgcolor\": \"white\", \"plot_bgcolor\": \"#E5ECF6\", \"polar\": {\"angularaxis\": {\"gridcolor\": \"white\", \"linecolor\": \"white\", \"ticks\": \"\"}, \"bgcolor\": \"#E5ECF6\", \"radialaxis\": {\"gridcolor\": \"white\", \"linecolor\": \"white\", \"ticks\": \"\"}}, \"scene\": {\"xaxis\": {\"backgroundcolor\": \"#E5ECF6\", \"gridcolor\": \"white\", \"gridwidth\": 2, \"linecolor\": \"white\", \"showbackground\": true, \"ticks\": \"\", \"zerolinecolor\": \"white\"}, \"yaxis\": {\"backgroundcolor\": \"#E5ECF6\", \"gridcolor\": \"white\", \"gridwidth\": 2, \"linecolor\": \"white\", \"showbackground\": true, \"ticks\": \"\", \"zerolinecolor\": \"white\"}, \"zaxis\": {\"backgroundcolor\": \"#E5ECF6\", \"gridcolor\": \"white\", \"gridwidth\": 2, \"linecolor\": \"white\", \"showbackground\": true, \"ticks\": \"\", \"zerolinecolor\": \"white\"}}, \"shapedefaults\": {\"line\": {\"color\": \"#2a3f5f\"}}, \"ternary\": {\"aaxis\": {\"gridcolor\": \"white\", \"linecolor\": \"white\", \"ticks\": \"\"}, \"baxis\": {\"gridcolor\": \"white\", \"linecolor\": \"white\", \"ticks\": \"\"}, \"bgcolor\": \"#E5ECF6\", \"caxis\": {\"gridcolor\": \"white\", \"linecolor\": \"white\", \"ticks\": \"\"}}, \"title\": {\"x\": 0.05}, \"xaxis\": {\"automargin\": true, \"gridcolor\": \"white\", \"linecolor\": \"white\", \"ticks\": \"\", \"title\": {\"standoff\": 15}, \"zerolinecolor\": \"white\", \"zerolinewidth\": 2}, \"yaxis\": {\"automargin\": true, \"gridcolor\": \"white\", \"linecolor\": \"white\", \"ticks\": \"\", \"title\": {\"standoff\": 15}, \"zerolinecolor\": \"white\", \"zerolinewidth\": 2}}}, \"title\": {\"text\": \"Training ROC Curve\"}, \"width\": 800, \"xaxis\": {\"range\": [0, 1], \"title\": {\"text\": \"False Positive Rate (Sensitivty)\"}}, \"yaxis\": {\"range\": [0, 1], \"title\": {\"text\": \"True Positive Rate (1-Precision)\"}}},                        {\"responsive\": true}                    ).then(function(){\n                            \nvar gd = document.getElementById('5d6642d5-c62b-4c25-b51a-576af2e19fbf');\nvar x = new MutationObserver(function (mutations, observer) {{\n        var display = window.getComputedStyle(gd).display;\n        if (!display || display === 'none') {{\n            console.log([gd, 'removed!']);\n            Plotly.purge(gd);\n            observer.disconnect();\n        }}\n}});\n\n// Listen for the removal of the full notebook cells\nvar notebookContainer = gd.closest('#notebook-container');\nif (notebookContainer) {{\n    x.observe(notebookContainer, {childList: true});\n}}\n\n// Listen for the clearing of the current output cell\nvar outputEl = gd.closest('.output');\nif (outputEl) {{\n    x.observe(outputEl, {childList: true});\n}}\n\n                        })                };                });            </script>        </div>"
     },
     "metadata": {}
    },
    {
     "output_type": "stream",
     "name": "stdout",
     "text": [
      "Train AUC ROC score: 0.601\n"
     ]
    },
    {
     "output_type": "display_data",
     "data": {
      "application/vnd.plotly.v1+json": {
       "config": {
        "plotlyServerURL": "https://plot.ly"
       },
       "data": [
        {
         "hovertemplate": "x=%{x}<br>y=%{y}<extra></extra>",
         "legendgroup": "",
         "line": {
          "color": "#636efa",
          "dash": "solid"
         },
         "mode": "lines",
         "name": "",
         "orientation": "v",
         "showlegend": false,
         "type": "scatter",
         "x": [
          0,
          0.00008312551953449709,
          0.00024937655860349125,
          0.00033250207813798836,
          0.00033250207813798836,
          0.00033250207813798836,
          0.00041562759767248546,
          0.00041562759767248546,
          0.0004987531172069825,
          0.0008312551953449709,
          0.000914380714879468,
          0.000997506234413965,
          0.000997506234413965,
          0.000997506234413965,
          0.0014131338320864505,
          0.00199501246882793,
          0.0020781379883624274,
          0.004156275976724855,
          0.004156275976724855,
          0.004239401496259352,
          0.0043225270157938485,
          0.005901911886949294,
          0.006151288445552784,
          0.006151288445552784,
          0.006400665004156276,
          0.006400665004156276,
          0.006483790523690773,
          0.0071487946799667496,
          0.007231920199501247,
          0.007231920199501247,
          0.007231920199501247,
          0.007564422277639235,
          0.0077306733167082295,
          0.007813798836242726,
          0.00798004987531172,
          0.0085619285120532,
          0.008728179551122194,
          0.00881130507065669,
          0.00889443059019119,
          0.010640066500415627,
          0.011388196176226101,
          0.011554447215295095,
          0.011637572734829594,
          0.01172069825436409,
          0.011803823773898587,
          0.012385702410640067,
          0.012385702410640067,
          0.012385702410640067,
          0.012468827930174564,
          0.012718204488778055,
          0.02319201995012469,
          0.023358270989193682,
          0.023607647547797175,
          0.02369077306733167,
          0.024106400665004156,
          0.02427265170407315,
          0.02427265170407315,
          0.028428927680798004,
          0.028512053200332503,
          0.028678304239401497,
          0.028761429758935992,
          0.02892768079800499,
          0.029093931837073983,
          0.029093931837073983,
          0.029177057356608478,
          0.04588528678304239,
          0.04970906068162926,
          0.04970906068162926,
          0.049792186201163754,
          0.05012468827930175,
          0.05012468827930175,
          0.050207813798836244,
          0.050207813798836244,
          0.050374064837905234,
          0.050789692435577724,
          0.05087281795511222,
          0.052202826267664176,
          0.05228595178719867,
          0.05245220282626766,
          0.05245220282626766,
          0.052535328345802164,
          0.05261845386533666,
          0.05278470490440565,
          0.05286783042394015,
          0.05295095594347465,
          0.05344970906068163,
          0.05344970906068163,
          0.05378221113881962,
          0.053865336658354114,
          0.05486284289276808,
          0.05486284289276808,
          0.05511221945137157,
          0.05519534497090607,
          0.05519534497090607,
          0.05768911055694098,
          0.06018287614297589,
          0.06034912718204489,
          0.06142975893599335,
          0.061596009975062344,
          0.061596009975062344,
          0.06167913549459684,
          0.06176226101413134,
          0.06176226101413134,
          0.06533665835411472,
          0.06558603491271821,
          0.0657522859517872,
          0.06600166251039069,
          0.06625103906899418,
          0.06633416458852869,
          0.06716541978387365,
          0.0687448046550291,
          0.0687448046550291,
          0.07506234413965088,
          0.07522859517871987,
          0.07680798004987531,
          0.08063175394846218,
          0.08071487946799667,
          0.08088113050706566,
          0.08096425602660016,
          0.08096425602660016,
          0.08345802161263507,
          0.08345802161263507,
          0.08354114713216958,
          0.08354114713216958,
          0.08362427265170408,
          0.08395677472984206,
          0.0857024106400665,
          0.0858686616791355,
          0.08719866999168745,
          0.08728179551122195,
          0.08819617622610142,
          0.0883624272651704,
          0.09276807980049875,
          0.09285120532003326,
          0.09301745635910225,
          0.09326683291770574,
          0.09567747298420615,
          0.09567747298420615,
          0.09576059850374065,
          0.09600997506234414,
          0.09600997506234414,
          0.09692435577722361,
          0.09692435577722361,
          0.09842061512884455,
          0.09850374064837905,
          0.09850374064837905,
          0.09858686616791355,
          0.09866999168744804,
          0.09875311720698254,
          0.09900249376558604,
          0.09916874480465503,
          0.099833748960931,
          0.099833748960931,
          0.0999168744804655,
          0.0999168744804655,
          0.1,
          0.10166251039068994,
          0.10174563591022444,
          0.10191188694929343,
          0.10191188694929343,
          0.10207813798836243,
          0.1028262676641729,
          0.10315876974231089,
          0.10315876974231089,
          0.10415627597672486,
          0.12743142144638403,
          0.12759767248545303,
          0.128428927680798,
          0.12851205320033252,
          0.1312551953449709,
          0.13300083125519535,
          0.13316708229426433,
          0.13582709891936826,
          0.13607647547797175,
          0.1374896093100582,
          0.1376558603491272,
          0.1376558603491272,
          0.13773898586866168,
          0.13773898586866168,
          0.13881961762261014,
          0.13881961762261014,
          0.13890274314214462,
          0.13890274314214462,
          0.1396508728179551,
          0.1398171238570241,
          0.1400665004156276,
          0.1402327514546966,
          0.14056525353283458,
          0.1407315045719036,
          0.14106400665004157,
          0.14106400665004157,
          0.1427265170407315,
          0.14280964256026601,
          0.143142144638404,
          0.14364089775561098,
          0.14389027431421447,
          0.14397339983374896,
          0.14397339983374896,
          0.14480465502909393,
          0.14480465502909393,
          0.14488778054862844,
          0.14497090606816293,
          0.14505403158769742,
          0.1714879467996675,
          0.171571072319202,
          0.17306733167082294,
          0.17364921030756442,
          0.1740648379052369,
          0.1742310889443059,
          0.17506234413965088,
          0.17539484621778886,
          0.17539484621778886,
          0.17556109725685787,
          0.17581047381546136,
          0.17581047381546136,
          0.17589359933499585,
          0.17664172901080633,
          0.1767248545303408,
          0.1768079800498753,
          0.1768079800498753,
          0.1769742310889443,
          0.17830423940149626,
          0.17838736492103074,
          0.17855361596009975,
          0.17863674147963424,
          0.20723192019950123,
          0.20756442227763924,
          0.20781379883624274,
          0.22402327514546966,
          0.22443890274314215,
          0.22468827930174565,
          0.22468827930174565,
          0.22477140482128014,
          0.22493765586034914,
          0.31379883624272653,
          0.313881961762261,
          0.314214463840399,
          0.3142975893599335,
          0.31463009143807147,
          0.31463009143807147,
          0.3149625935162095,
          0.31554447215295095,
          0.3162094763092269,
          0.31637572734829594,
          0.3167082294264339,
          0.31687448046550293,
          0.3170407315045719,
          0.3170407315045719,
          0.3171238570241064,
          0.3172069825436409,
          0.31770573566084787,
          0.32468827930174565,
          0.32477140482128014,
          0.32485453034081463,
          0.3250207813798836,
          0.3250207813798836,
          0.3251039068994181,
          0.3262676641729011,
          0.3267664172901081,
          0.32693266832917706,
          0.32709891936824603,
          0.327597672485453,
          0.32809642560266,
          0.3283458021612635,
          0.3283458021612635,
          0.32967581047381544,
          0.32992518703241897,
          0.32992518703241897,
          0.33000831255195345,
          0.3341645885286783,
          0.3343308395677473,
          0.33574397339983375,
          0.33657522859517874,
          0.33665835411471323,
          0.3372402327514547,
          0.3376558603491272,
          0.33881961762261015,
          0.33931837073981713,
          0.33973399833748963,
          0.3398171238570241,
          0.3399002493765586,
          0.34064837905236905,
          0.3408977556109726,
          0.34098088113050706,
          0.34106400665004155,
          0.34114713216957604,
          0.3412302576891106,
          0.3412302576891106,
          0.34231088944305904,
          0.343308395677473,
          0.343308395677473,
          0.3507896924355777,
          0.3508728179551122,
          0.3546134663341646,
          0.35519534497090605,
          0.3598503740648379,
          0.3645054031587697,
          0.36483790523690773,
          0.36483790523690773,
          0.3649210307564422,
          0.3650041562759767,
          0.3661679135494597,
          0.3684954280964256,
          0.3685785536159601,
          0.3690773067331671,
          0.36924355777223605,
          0.3693266832917706,
          0.3711554447215295,
          0.371238570241064,
          0.3713216957605985,
          0.371404821280133,
          0.371404821280133,
          0.3714879467996675,
          0.3714879467996675,
          0.371571072319202,
          0.37190357439734,
          0.3719866999168745,
          0.3719866999168745,
          0.3768079800498753,
          0.3768911055694098,
          0.3770573566084788,
          0.3770573566084788,
          0.3773067331670823,
          0.3773067331670823,
          0.3822111388196176,
          0.3822111388196176,
          0.38229426433915215,
          0.38237738985868663,
          0.40083125519534496,
          0.400997506234414,
          0.4010806317539485,
          0.4024106400665004,
          0.4037406483790524,
          0.40390689941812136,
          0.40399002493765584,
          0.40698254364089775,
          0.41579384871155445,
          0.41629260182876143,
          0.41936824605153783,
          0.41936824605153783,
          0.4194513715710723,
          0.42194513715710724,
          0.42194513715710724,
          0.4224438902743142,
          0.4226101413133832,
          0.4230257689110557,
          0.4231920199501247,
          0.4233582709891937,
          0.4234413965087282,
          0.42369077306733166,
          0.42377389858686615,
          0.42377389858686615,
          0.42410640066500416,
          0.4243557772236076,
          0.42452202826267665,
          0.442477140482128,
          0.442643391521197,
          0.44305901911886947,
          0.443142144638404,
          0.443308395677473,
          0.44347464671654196,
          0.44522028262676644,
          0.4453034081463009,
          0.4459684123025769,
          0.4459684123025769,
          0.4459684123025769,
          0.4463840399002494,
          0.4463840399002494,
          0.4467996674979219,
          0.44696591853699086,
          0.44713216957605983,
          0.4507065669160432,
          0.4517040731504572,
          0.4517040731504572,
          0.4519534497090607,
          0.4520365752285952,
          0.45261845386533667,
          0.45303408146300916,
          0.4542809642560266,
          0.4551122194513716,
          0.4603491271820449,
          0.4604322527015794,
          0.4605153782211139,
          0.46068162926018286,
          0.4608478802992519,
          0.4608478802992519,
          0.4609310058187864,
          0.4625935162094763,
          0.46367414796342477,
          0.46375727348295925,
          0.46375727348295925,
          0.46417290108063175,
          0.46450540315876976,
          0.4662510390689942,
          0.4662510390689942,
          0.46674979218620116,
          0.46683291770573565,
          0.46683291770573565,
          0.4669991687448047,
          0.46716541978387366,
          0.46724854530340815,
          0.4674979218620116,
          0.4679966749792186,
          0.4679966749792186,
          0.4689110556940981,
          0.4691604322527016,
          0.47115544472152954,
          0.472734829592685,
          0.472734829592685,
          0.4742310889443059,
          0.47572734829592683,
          0.4758104738154613,
          0.4758104738154613,
          0.4798004987531172,
          0.4801330008312552,
          0.4802161263507897,
          0.4802161263507897,
          0.48354114713216956,
          0.48354114713216956,
          0.48362427265170405,
          0.48362427265170405,
          0.48403990024937654,
          0.48437240232751455,
          0.4857024106400665,
          0.485785536159601,
          0.4858686616791355,
          0.48611803823773897,
          0.48611803823773897,
          0.48620116375727346,
          0.486284289276808,
          0.6180382377389859,
          0.6907730673316709,
          0.6907730673316709,
          0.6909393183707399,
          0.6909393183707399,
          0.6911886949293433,
          0.6912718204488778,
          0.6933499584372402,
          0.6935993349958437,
          0.6935993349958437,
          0.6936824605153782,
          0.6975893599334996,
          0.6979218620116375,
          0.700831255195345,
          0.7014131338320865,
          0.7017456359102244,
          0.7018287614297589,
          0.7018287614297589,
          0.7018287614297589,
          0.7018287614297589,
          0.7019118869492934,
          0.7022443890274315,
          0.702327514546966,
          0.7024937655860349,
          0.7025768911055694,
          0.7029093931837074,
          0.7029925187032419,
          0.7035743973399834,
          0.7038237738985869,
          0.7040731504571903,
          0.742643391521197,
          0.742809642560266,
          0.7428927680798005,
          0.7430590191188695,
          0.8098088113050707,
          0.8098088113050707,
          0.8099750623441396,
          0.8102244389027431,
          0.8103075644222777,
          0.8106400665004156,
          0.8116375727348296,
          0.8117206982543641,
          0.8117206982543641,
          0.8118038237738986,
          0.8121363258520365,
          0.813383208645054,
          0.8139650872817955,
          0.81404821280133,
          0.8181213632585204,
          0.8183707398171238,
          0.8187863674147964,
          0.8192019950124688,
          0.8192851205320033,
          0.8194513715710723,
          0.8197838736492103,
          0.8212801330008312,
          0.8213632585203657,
          0.8216126350789692,
          0.8216957605985037,
          0.8219451371571073,
          0.8221113881961762,
          0.8236076475477971,
          0.8238570241064007,
          0.8239401496259352,
          0.826766417290108,
          0.826766417290108,
          0.8270989193682461,
          0.8271820448877806,
          0.8271820448877806,
          0.8272651704073151,
          0.8344139650872818,
          0.8344139650872818,
          0.8348295926849543,
          0.8349958437240232,
          0.8359102244389027,
          0.8359933499584372,
          0.8551953449709061,
          0.8704904405652535,
          0.870573566084788,
          0.870573566084788,
          0.8706566916043226,
          0.8706566916043226,
          0.8707398171238571,
          0.8708229426433916,
          0.870906068162926,
          0.8711554447215295,
          0.871404821280133,
          0.8714879467996675,
          0.8716541978387365,
          0.872069825436409,
          0.872069825436409,
          0.8723192019950124,
          0.872734829592685,
          0.872734829592685,
          0.8745635910224439,
          0.8745635910224439,
          0.8746467165419783,
          0.8811305070656692,
          0.8812967581047382,
          0.8813798836242727,
          0.8817123857024106,
          0.8927680798004988,
          0.8931005818786367,
          0.8937655860349127,
          0.8938487115544472,
          0.8939318370739817,
          0.8939318370739817,
          0.8940149625935162,
          0.8941812136325852,
          0.8945137157107232,
          0.8948462177888612,
          0.8955943474646717,
          0.8956774729842062,
          0.8959268495428097,
          0.8960099750623441,
          0.8962593516209476,
          0.8963424771404821,
          0.8965087281795511,
          0.8965087281795511,
          0.8966749792186202,
          0.8968412302576891,
          0.8970074812967581,
          0.8974231088944306,
          0.8974231088944306,
          0.8980881130507066,
          0.8995843724023275,
          0.9022443890274314,
          0.9034081463009144,
          0.9034912718204489,
          0.9037406483790523,
          0.9043225270157939,
          0.9044887780548628,
          0.9047381546134663,
          0.9048212801330008,
          0.9049875311720699,
          0.9052369077306733,
          0.9064006650041563,
          0.9068162926018287,
          0.9069825436408978,
          0.9071487946799668,
          0.9071487946799668,
          0.9075644222776392,
          0.9075644222776392,
          0.9076475477971737,
          0.9077306733167082,
          0.9077306733167082,
          0.9080631753948463,
          0.9082294264339152,
          0.9083125519534497,
          0.9083956774729842,
          0.9087281795511222,
          0.9087281795511222,
          0.9088113050706567,
          0.9090606816292602,
          0.9091438071487947,
          0.9091438071487947,
          0.9093100581878637,
          0.9093931837073982,
          0.9093931837073982,
          0.9094763092269327,
          0.9096425602660017,
          0.9098088113050706,
          0.9098088113050706,
          0.9098919368246051,
          0.9100581878636741,
          0.9101413133832087,
          0.9103906899418122,
          0.9104738154613466,
          0.9107231920199501,
          0.9108063175394846,
          0.9108894430590191,
          0.9112219451371572,
          0.9113050706566916,
          0.9117206982543641,
          0.9123025768911056,
          0.9123025768911056,
          0.913881961762261,
          0.91404821280133,
          0.9257689110556941,
          0.9278470490440566,
          0.9278470490440566,
          0.9280133000831255,
          0.92809642560266,
          0.92809642560266,
          0.9281795511221945,
          0.9283458021612635,
          0.928428927680798,
          0.929260182876143,
          0.9293433083956775,
          0.9316708229426434,
          0.9317539484621779,
          0.9382377389858687,
          0.9385702410640067,
          0.9388196176226101,
          0.9389858686616791,
          0.9391521197007481,
          0.9393183707398172,
          0.9395677472984206,
          0.9396508728179551,
          0.9403990024937656,
          0.9404821280133001,
          0.941978387364921,
          0.9423940149625936,
          0.9423940149625936,
          0.9425602660016625,
          0.9427265170407315,
          0.9428927680798005,
          0.9433083956774729,
          0.9443890274314215,
          0.9443890274314215,
          0.944472152950956,
          0.944472152950956,
          0.9450540315876974,
          0.94546965918537,
          0.94546965918537,
          0.9457190357439734,
          0.9468827930174564,
          0.9470490440565253,
          0.9470490440565253,
          0.9472152950955943,
          0.9475477971737324,
          0.9503740648379052,
          0.9504571903574397,
          0.9523690773067331,
          0.9525353283458021,
          0.9525353283458021,
          0.9527015793848711,
          0.9528678304239402,
          0.9532003325020781,
          0.9537822111388197,
          0.9538653366583542,
          0.9540315876974231,
          0.9544472152950956,
          0.955694098088113,
          0.9560266001662511,
          0.9561097256857856,
          0.95619285120532,
          0.9562759767248545,
          0.9567747298420615,
          0.9567747298420615,
          0.9571072319201995,
          0.9574397339983375,
          0.9576059850374065,
          0.9578553615960099,
          0.958021612635079,
          0.9581047381546135,
          0.958187863674148,
          0.958354114713217,
          0.9586866167913549,
          0.9587697423108894,
          0.9593516209476309,
          0.9783873649210307,
          0.9799667497921862,
          0.9802161263507897,
          0.9804655029093932,
          0.9807980049875312,
          0.9809642560266002,
          0.9815461346633416,
          0.9889443059019118,
          0.9890274314214463,
          0.9894430590191189,
          0.9896093100581879,
          0.9897755610972568,
          0.9901080631753948,
          0.9961762261014131,
          0.9964256026600167,
          0.9967581047381546,
          0.999002493765586,
          0.999168744804655,
          0.999334995843724,
          0.9994181213632585,
          0.999667497921862,
          1,
          1
         ],
         "xaxis": "x",
         "y": [
          0,
          0,
          0,
          0.00015213753232922562,
          0.00045641259698767686,
          0.0007606876616461281,
          0.0007606876616461281,
          0.0010649627263045794,
          0.0010649627263045794,
          0.00243420051726761,
          0.0025863380495968354,
          0.0025863380495968354,
          0.003194888178913738,
          0.003347025711242964,
          0.0038034383082306404,
          0.005781226228510574,
          0.005933363760839799,
          0.007911151681119732,
          0.008063289213448958,
          0.008063289213448958,
          0.008215426745778184,
          0.012931690247984177,
          0.01323596531264263,
          0.01354024037730108,
          0.01354024037730108,
          0.013844515441959531,
          0.013844515441959531,
          0.014300928038947208,
          0.014300928038947208,
          0.01460520310360566,
          0.014757340635934885,
          0.016126578426897915,
          0.016430853491556367,
          0.016430853491556367,
          0.016430853491556367,
          0.017191541153202494,
          0.017191541153202494,
          0.01764795375019017,
          0.017800091282519397,
          0.0184086414118363,
          0.019321466605811653,
          0.01947360413814088,
          0.01947360413814088,
          0.02038642933211623,
          0.02038642933211623,
          0.023733455043359195,
          0.02388559257568842,
          0.024189867640346873,
          0.024494142705005325,
          0.02464628023733455,
          0.0427506465845124,
          0.0427506465845124,
          0.0427506465845124,
          0.0427506465845124,
          0.043663471778487756,
          0.043663471778487756,
          0.04396774684314621,
          0.04822759774836452,
          0.04822759774836452,
          0.048379735280693746,
          0.0492925604746691,
          0.0492925604746691,
          0.04944469800699833,
          0.049596835539327554,
          0.049596835539327554,
          0.09006541913890156,
          0.09645519549672904,
          0.09660733302905827,
          0.09660733302905827,
          0.09706374562604594,
          0.09721588315837518,
          0.0973680206907044,
          0.09752015822303363,
          0.09767229575536285,
          0.09767229575536285,
          0.09767229575536285,
          0.10025863380495968,
          0.1010193214666058,
          0.1010193214666058,
          0.10132359653126426,
          0.10132359653126426,
          0.10147573406359349,
          0.10178000912825194,
          0.10178000912825194,
          0.10223642172523961,
          0.1026928343222273,
          0.10284497185455652,
          0.10284497185455652,
          0.10299710938688575,
          0.104518484710178,
          0.10467062224250723,
          0.10482275977483645,
          0.10482275977483645,
          0.10497489730716568,
          0.10923474821238399,
          0.11166894872965161,
          0.11182108626198083,
          0.11395101171458999,
          0.11410314924691921,
          0.11425528677924844,
          0.11425528677924844,
          0.11455956184390689,
          0.11486383690856534,
          0.1188194127491252,
          0.11912368781378366,
          0.11958010041077134,
          0.1198843754754298,
          0.12003651300775901,
          0.12003651300775901,
          0.12155788833105127,
          0.12277498858968508,
          0.1229271261220143,
          0.13022972767381713,
          0.13038186520614636,
          0.13327247832040165,
          0.1372280541609615,
          0.13768446675794918,
          0.13768446675794918,
          0.1378366042902784,
          0.13798874182260765,
          0.13905370454891222,
          0.13935797961357066,
          0.13935797961357066,
          0.1395101171458999,
          0.13966225467822913,
          0.13966225467822913,
          0.1419443176631675,
          0.1419443176631675,
          0.1448349307774228,
          0.1448349307774228,
          0.14529134337441046,
          0.1454434809067397,
          0.1503118819412749,
          0.1503118819412749,
          0.1503118819412749,
          0.1507682945382626,
          0.15350677012018865,
          0.15365890765251788,
          0.15396318271717632,
          0.15396318271717632,
          0.1542674577818348,
          0.1554845580404686,
          0.1556366955727978,
          0.1568537958314316,
          0.15715807089609007,
          0.15731020842841928,
          0.15731020842841928,
          0.1574623459607485,
          0.1574623459607485,
          0.15883158375171155,
          0.15883158375171155,
          0.1597444089456869,
          0.15989654647801613,
          0.15989654647801613,
          0.16004868401034536,
          0.16004868401034536,
          0.16233074699528374,
          0.16233074699528374,
          0.16248288452761298,
          0.16263502205994218,
          0.16293929712460065,
          0.16354784725391755,
          0.16430853491556366,
          0.16476494751255136,
          0.16598204777118516,
          0.20112581773923627,
          0.2012779552715655,
          0.20234291799787008,
          0.20234291799787008,
          0.2047771185151377,
          0.20645063137075917,
          0.2072113190324053,
          0.20888483188802678,
          0.20918910695268522,
          0.2102540696789898,
          0.2102540696789898,
          0.21040620721131903,
          0.2107104822759775,
          0.21116689487296517,
          0.21329682032557432,
          0.21344895785790355,
          0.21344895785790355,
          0.21360109539023278,
          0.21466605811653736,
          0.2148181956488666,
          0.21512247071352503,
          0.21542674577818346,
          0.2155788833105127,
          0.2155788833105127,
          0.2161874334398296,
          0.21633957097215883,
          0.2180130838277803,
          0.21816522136010955,
          0.21816522136010955,
          0.21877377148942645,
          0.21983873421573102,
          0.21983873421573102,
          0.21999087174806026,
          0.22136010953902327,
          0.22166438460368174,
          0.22196865966834017,
          0.22196865966834017,
          0.22227293473299864,
          0.2546782291191237,
          0.2546782291191237,
          0.2577209797657082,
          0.2586338049596836,
          0.2590902175566712,
          0.2590902175566712,
          0.26030731781530503,
          0.26122014300928037,
          0.26152441807393884,
          0.26152441807393884,
          0.26228510573558494,
          0.2625893808002434,
          0.26274151833257264,
          0.2648714437851818,
          0.2648714437851818,
          0.265023581317511,
          0.2653278563821695,
          0.26563213144682796,
          0.26745778183477864,
          0.26745778183477864,
          0.268370607028754,
          0.268370607028754,
          0.30199300167351284,
          0.30199300167351284,
          0.30199300167351284,
          0.32724783204016433,
          0.32755210710482274,
          0.32755210710482274,
          0.327704244637152,
          0.3278563821694812,
          0.32800851970181044,
          0.4454586946599726,
          0.4454586946599726,
          0.4459151072569603,
          0.44637151985394796,
          0.44637151985394796,
          0.44667579491860643,
          0.44682793245093566,
          0.44682793245093566,
          0.44804503270956947,
          0.44804503270956947,
          0.4481971702418987,
          0.4485014453065571,
          0.4485014453065571,
          0.4492621329682033,
          0.4494142705005325,
          0.4494142705005325,
          0.4497185455651909,
          0.45823824737562757,
          0.4583903849079568,
          0.4583903849079568,
          0.45869465997261527,
          0.45884679750494445,
          0.45884679750494445,
          0.4591510725696029,
          0.4591510725696029,
          0.4591510725696029,
          0.45930321010193215,
          0.4594553476342614,
          0.45975962269891985,
          0.459911760231249,
          0.4602160352959075,
          0.4620416856838582,
          0.46234596074851664,
          0.46249809828084587,
          0.46249809828084587,
          0.469344287235661,
          0.4696485623003195,
          0.472691312946904,
          0.47345200060855014,
          0.47360413814087937,
          0.47466910086718395,
          0.4749733759318424,
          0.47619047619047616,
          0.47710330138445156,
          0.4780161265784269,
          0.4780161265784269,
          0.4786246767077438,
          0.47968963943404835,
          0.4798417769663776,
          0.4798417769663776,
          0.48014605203103605,
          0.4802981895633653,
          0.4812110147573406,
          0.4816674273543283,
          0.48288452761296213,
          0.483493077742279,
          0.48364521527460824,
          0.49262132968203254,
          0.49262132968203254,
          0.49475125513464174,
          0.49505553019930015,
          0.49855469344287234,
          0.5035752320097368,
          0.5038795070743952,
          0.5040316446067244,
          0.5040316446067244,
          0.5041837821390537,
          0.5049444698006998,
          0.5064658451239921,
          0.5066179826563213,
          0.5092043207059181,
          0.5096607333029058,
          0.5096607333029058,
          0.5120949338201735,
          0.5120949338201735,
          0.5122470713525027,
          0.5122470713525027,
          0.5123992088848319,
          0.5127034839494904,
          0.5128556214818195,
          0.5128556214818195,
          0.513159896546478,
          0.513159896546478,
          0.5133120340788072,
          0.5184847101780009,
          0.5186368477103301,
          0.5186368477103301,
          0.5187889852426594,
          0.5189411227749886,
          0.5190932603073178,
          0.5227445610832192,
          0.5228966986155484,
          0.5228966986155484,
          0.5230488361478777,
          0.5473908413205538,
          0.5476951163852122,
          0.5476951163852122,
          0.5487600791115168,
          0.5492164917085045,
          0.5493686292408337,
          0.549520766773163,
          0.5521071048227598,
          0.5670165829910239,
          0.5670165829910239,
          0.5720371215578883,
          0.5723413966225468,
          0.5723413966225468,
          0.5741670470104975,
          0.5743191845428267,
          0.5749277346721436,
          0.5749277346721436,
          0.5752320097368021,
          0.5752320097368021,
          0.5752320097368021,
          0.5752320097368021,
          0.5752320097368021,
          0.5752320097368021,
          0.5756884223337897,
          0.5758405598661189,
          0.5759926973984482,
          0.5766012475277651,
          0.592727825954663,
          0.5930321010193215,
          0.5931842385516507,
          0.5931842385516507,
          0.5933363760839799,
          0.5933363760839799,
          0.5950098889396014,
          0.5950098889396014,
          0.5950098889396014,
          0.5953141640042598,
          0.5954663015365891,
          0.5957705766012475,
          0.5959227141335768,
          0.596074851665906,
          0.596074851665906,
          0.5962269891982352,
          0.6000304275064658,
          0.6023124904914042,
          0.6024646280237335,
          0.6027689030883919,
          0.6027689030883919,
          0.6033774532177089,
          0.6036817282823672,
          0.6053552411379888,
          0.6067244789289518,
          0.6105279172371824,
          0.6108321923018408,
          0.6109843298341701,
          0.6109843298341701,
          0.6109843298341701,
          0.6111364673664993,
          0.6111364673664993,
          0.6141792180130838,
          0.6164612809980222,
          0.6164612809980222,
          0.6166134185303515,
          0.6173741061919976,
          0.6175262437243267,
          0.6195040316446068,
          0.619656169176936,
          0.6199604442415944,
          0.6201125817739236,
          0.6202647193062528,
          0.6202647193062528,
          0.620416856838582,
          0.620416856838582,
          0.6208732694355698,
          0.6211775445002282,
          0.6213296820325575,
          0.622394644758862,
          0.6228510573558497,
          0.6249809828084588,
          0.6260459455347634,
          0.6261980830670927,
          0.6275673208580557,
          0.6287844211166895,
          0.6290886961813479,
          0.6292408337136771,
          0.6324357218925909,
          0.6328921344895786,
          0.6328921344895786,
          0.6330442720219078,
          0.6379126730564431,
          0.6380648105887723,
          0.6382169481211015,
          0.6383690856534308,
          0.6385212231857599,
          0.6388254982504183,
          0.6404990111060399,
          0.6404990111060399,
          0.6411075612353567,
          0.6414118363000152,
          0.6415639738323444,
          0.6415639738323444,
          0.6418682488970029,
          0.7533850600943253,
          0.8121101475734064,
          0.8122622851057356,
          0.8122622851057356,
          0.8125665601703941,
          0.8127186977027233,
          0.8128708352350524,
          0.8137836604290278,
          0.8137836604290278,
          0.8139357979613571,
          0.8140879354936863,
          0.8162178609462954,
          0.8168264110756124,
          0.8191084740605508,
          0.8209341244485014,
          0.8210862619808307,
          0.8210862619808307,
          0.8212383995131599,
          0.8215426745778184,
          0.8218469496424768,
          0.8219990871748061,
          0.8219990871748061,
          0.8219990871748061,
          0.8219990871748061,
          0.8219990871748061,
          0.8219990871748061,
          0.8219990871748061,
          0.8219990871748061,
          0.8224554997717937,
          0.8224554997717937,
          0.8528830062376388,
          0.8534915563669557,
          0.8534915563669557,
          0.8534915563669557,
          0.9003499163243572,
          0.9005020538566865,
          0.9005020538566865,
          0.9005020538566865,
          0.9005020538566865,
          0.9005020538566865,
          0.9008063289213449,
          0.9008063289213449,
          0.9009584664536742,
          0.9011106039860034,
          0.901567016582991,
          0.9023277042446372,
          0.9027841168416249,
          0.9029362543739541,
          0.9070439677468431,
          0.9070439677468431,
          0.9071961052791724,
          0.9075003803438308,
          0.9076525178761601,
          0.9082610680054769,
          0.9084132055378061,
          0.9099345808610985,
          0.9102388559257569,
          0.9102388559257569,
          0.9102388559257569,
          0.9102388559257569,
          0.9102388559257569,
          0.9108474060550737,
          0.910999543587403,
          0.9114559561843907,
          0.9128251939753537,
          0.9129773315076829,
          0.9132816065723414,
          0.9132816065723414,
          0.9135858816369998,
          0.9135858816369998,
          0.9183021451392058,
          0.9184542826715351,
          0.9189106952685228,
          0.9192149703331812,
          0.9196713829301689,
          0.9196713829301689,
          0.9327552107104823,
          0.9418834626502358,
          0.9418834626502358,
          0.9421877377148943,
          0.9421877377148943,
          0.9423398752472235,
          0.9423398752472235,
          0.942644150311882,
          0.9427962878442112,
          0.9432527004411988,
          0.9432527004411988,
          0.9432527004411988,
          0.9432527004411988,
          0.9435569755058573,
          0.944013388102845,
          0.944013388102845,
          0.9446219382321619,
          0.9449262132968204,
          0.9461433135554541,
          0.9464475886201126,
          0.9464475886201126,
          0.9504031644606724,
          0.9504031644606724,
          0.9504031644606724,
          0.9504031644606724,
          0.9567929408185,
          0.9567929408185,
          0.9567929408185,
          0.9567929408185,
          0.9569450783508292,
          0.9570972158831583,
          0.9570972158831583,
          0.9574014909478168,
          0.9574014909478168,
          0.9580100410771337,
          0.9583143161417922,
          0.9584664536741214,
          0.9584664536741214,
          0.9584664536741214,
          0.9586185912064507,
          0.9586185912064507,
          0.9587707287387799,
          0.9589228662711091,
          0.9590750038034384,
          0.9590750038034384,
          0.9593792788680967,
          0.9595314164004259,
          0.9599878289974136,
          0.9610527917237183,
          0.9627263045793397,
          0.9645519549672904,
          0.9648562300319489,
          0.9648562300319489,
          0.9653126426289366,
          0.9660733302905827,
          0.9660733302905827,
          0.966225467822912,
          0.966225467822912,
          0.9665297428875703,
          0.9665297428875703,
          0.9668340179522288,
          0.966986155484558,
          0.9671382930168873,
          0.9671382930168873,
          0.9672904305492165,
          0.9674425680815457,
          0.9677468431462042,
          0.9678989806785334,
          0.9678989806785334,
          0.9680511182108626,
          0.9680511182108626,
          0.9682032557431919,
          0.9686596683401795,
          0.9688118058725087,
          0.9689639434048379,
          0.9691160809371672,
          0.9691160809371672,
          0.9692682184694964,
          0.9694203560018256,
          0.9697246310664841,
          0.9697246310664841,
          0.9697246310664841,
          0.9698767685988133,
          0.9698767685988133,
          0.9698767685988133,
          0.9698767685988133,
          0.970333181195801,
          0.970333181195801,
          0.9704853187281303,
          0.9704853187281303,
          0.9704853187281303,
          0.9704853187281303,
          0.9704853187281303,
          0.9706374562604595,
          0.9706374562604595,
          0.9707895937927887,
          0.9707895937927887,
          0.9712460063897763,
          0.971702418986764,
          0.9718545565190932,
          0.9720066940514225,
          0.9720066940514225,
          0.9793092956032253,
          0.9815913585881637,
          0.9817434961204929,
          0.9817434961204929,
          0.9817434961204929,
          0.9818956336528222,
          0.9820477711851514,
          0.9820477711851514,
          0.9820477711851514,
          0.9825041837821391,
          0.9825041837821391,
          0.9832648714437852,
          0.9832648714437852,
          0.9866118971550282,
          0.9866118971550282,
          0.9866118971550282,
          0.9866118971550282,
          0.9866118971550282,
          0.9866118971550282,
          0.9866118971550282,
          0.9866118971550282,
          0.9866118971550282,
          0.9866118971550282,
          0.9875247223490035,
          0.9875247223490035,
          0.9878289974136619,
          0.9878289974136619,
          0.9878289974136619,
          0.9879811349459912,
          0.9879811349459912,
          0.9881332724783204,
          0.9882854100106496,
          0.9882854100106496,
          0.9884375475429789,
          0.9898067853339418,
          0.9899589228662711,
          0.9901110603986003,
          0.9901110603986003,
          0.9902631979309295,
          0.9902631979309295,
          0.9904153354632588,
          0.9904153354632588,
          0.9908717480602465,
          0.9914802981895634,
          0.9914802981895634,
          0.9922409858512095,
          0.9922409858512095,
          0.9923931233835387,
          0.9923931233835387,
          0.9923931233835387,
          0.9923931233835387,
          0.9925452609158679,
          0.9926973984481972,
          0.9928495359805264,
          0.9931538110451849,
          0.9934580861098433,
          0.9936102236421726,
          0.9936102236421726,
          0.9937623611745018,
          0.9937623611745018,
          0.9937623611745018,
          0.993914498706831,
          0.993914498706831,
          0.993914498706831,
          0.9940666362391603,
          0.9940666362391603,
          0.9940666362391603,
          0.9940666362391603,
          0.9943709113038186,
          0.9943709113038186,
          0.9943709113038186,
          0.9943709113038186,
          0.9946751863684771,
          0.9972615244180739,
          0.9977179370150616,
          0.9977179370150616,
          0.9977179370150616,
          0.9977179370150616,
          0.9977179370150616,
          0.9981743496120493,
          0.9984786246767078,
          0.9984786246767078,
          0.9984786246767078,
          0.9984786246767078,
          0.9984786246767078,
          0.9984786246767078,
          0.9992393123383538,
          0.9992393123383538,
          0.9992393123383538,
          0.9993914498706831,
          0.9995435874030123,
          0.9995435874030123,
          0.9996957249353415,
          0.9996957249353415,
          0.9998478624676708,
          1
         ],
         "yaxis": "y"
        },
        {
         "hovertemplate": "x=%{x}<br>y=%{y}<extra></extra>",
         "legendgroup": "",
         "line": {
          "color": "rgba(50,50,50,0.2)",
          "dash": "solid"
         },
         "mode": "lines",
         "name": "",
         "orientation": "v",
         "showlegend": false,
         "type": "scatter",
         "x": [
          0,
          1
         ],
         "xaxis": "x",
         "y": [
          0,
          1
         ],
         "yaxis": "y"
        }
       ],
       "layout": {
        "autosize": false,
        "height": 800,
        "template": {
         "data": {
          "bar": [
           {
            "error_x": {
             "color": "#2a3f5f"
            },
            "error_y": {
             "color": "#2a3f5f"
            },
            "marker": {
             "line": {
              "color": "#E5ECF6",
              "width": 0.5
             }
            },
            "type": "bar"
           }
          ],
          "barpolar": [
           {
            "marker": {
             "line": {
              "color": "#E5ECF6",
              "width": 0.5
             }
            },
            "type": "barpolar"
           }
          ],
          "carpet": [
           {
            "aaxis": {
             "endlinecolor": "#2a3f5f",
             "gridcolor": "white",
             "linecolor": "white",
             "minorgridcolor": "white",
             "startlinecolor": "#2a3f5f"
            },
            "baxis": {
             "endlinecolor": "#2a3f5f",
             "gridcolor": "white",
             "linecolor": "white",
             "minorgridcolor": "white",
             "startlinecolor": "#2a3f5f"
            },
            "type": "carpet"
           }
          ],
          "choropleth": [
           {
            "colorbar": {
             "outlinewidth": 0,
             "ticks": ""
            },
            "type": "choropleth"
           }
          ],
          "contour": [
           {
            "colorbar": {
             "outlinewidth": 0,
             "ticks": ""
            },
            "colorscale": [
             [
              0,
              "#0d0887"
             ],
             [
              0.1111111111111111,
              "#46039f"
             ],
             [
              0.2222222222222222,
              "#7201a8"
             ],
             [
              0.3333333333333333,
              "#9c179e"
             ],
             [
              0.4444444444444444,
              "#bd3786"
             ],
             [
              0.5555555555555556,
              "#d8576b"
             ],
             [
              0.6666666666666666,
              "#ed7953"
             ],
             [
              0.7777777777777778,
              "#fb9f3a"
             ],
             [
              0.8888888888888888,
              "#fdca26"
             ],
             [
              1,
              "#f0f921"
             ]
            ],
            "type": "contour"
           }
          ],
          "contourcarpet": [
           {
            "colorbar": {
             "outlinewidth": 0,
             "ticks": ""
            },
            "type": "contourcarpet"
           }
          ],
          "heatmap": [
           {
            "colorbar": {
             "outlinewidth": 0,
             "ticks": ""
            },
            "colorscale": [
             [
              0,
              "#0d0887"
             ],
             [
              0.1111111111111111,
              "#46039f"
             ],
             [
              0.2222222222222222,
              "#7201a8"
             ],
             [
              0.3333333333333333,
              "#9c179e"
             ],
             [
              0.4444444444444444,
              "#bd3786"
             ],
             [
              0.5555555555555556,
              "#d8576b"
             ],
             [
              0.6666666666666666,
              "#ed7953"
             ],
             [
              0.7777777777777778,
              "#fb9f3a"
             ],
             [
              0.8888888888888888,
              "#fdca26"
             ],
             [
              1,
              "#f0f921"
             ]
            ],
            "type": "heatmap"
           }
          ],
          "heatmapgl": [
           {
            "colorbar": {
             "outlinewidth": 0,
             "ticks": ""
            },
            "colorscale": [
             [
              0,
              "#0d0887"
             ],
             [
              0.1111111111111111,
              "#46039f"
             ],
             [
              0.2222222222222222,
              "#7201a8"
             ],
             [
              0.3333333333333333,
              "#9c179e"
             ],
             [
              0.4444444444444444,
              "#bd3786"
             ],
             [
              0.5555555555555556,
              "#d8576b"
             ],
             [
              0.6666666666666666,
              "#ed7953"
             ],
             [
              0.7777777777777778,
              "#fb9f3a"
             ],
             [
              0.8888888888888888,
              "#fdca26"
             ],
             [
              1,
              "#f0f921"
             ]
            ],
            "type": "heatmapgl"
           }
          ],
          "histogram": [
           {
            "marker": {
             "colorbar": {
              "outlinewidth": 0,
              "ticks": ""
             }
            },
            "type": "histogram"
           }
          ],
          "histogram2d": [
           {
            "colorbar": {
             "outlinewidth": 0,
             "ticks": ""
            },
            "colorscale": [
             [
              0,
              "#0d0887"
             ],
             [
              0.1111111111111111,
              "#46039f"
             ],
             [
              0.2222222222222222,
              "#7201a8"
             ],
             [
              0.3333333333333333,
              "#9c179e"
             ],
             [
              0.4444444444444444,
              "#bd3786"
             ],
             [
              0.5555555555555556,
              "#d8576b"
             ],
             [
              0.6666666666666666,
              "#ed7953"
             ],
             [
              0.7777777777777778,
              "#fb9f3a"
             ],
             [
              0.8888888888888888,
              "#fdca26"
             ],
             [
              1,
              "#f0f921"
             ]
            ],
            "type": "histogram2d"
           }
          ],
          "histogram2dcontour": [
           {
            "colorbar": {
             "outlinewidth": 0,
             "ticks": ""
            },
            "colorscale": [
             [
              0,
              "#0d0887"
             ],
             [
              0.1111111111111111,
              "#46039f"
             ],
             [
              0.2222222222222222,
              "#7201a8"
             ],
             [
              0.3333333333333333,
              "#9c179e"
             ],
             [
              0.4444444444444444,
              "#bd3786"
             ],
             [
              0.5555555555555556,
              "#d8576b"
             ],
             [
              0.6666666666666666,
              "#ed7953"
             ],
             [
              0.7777777777777778,
              "#fb9f3a"
             ],
             [
              0.8888888888888888,
              "#fdca26"
             ],
             [
              1,
              "#f0f921"
             ]
            ],
            "type": "histogram2dcontour"
           }
          ],
          "mesh3d": [
           {
            "colorbar": {
             "outlinewidth": 0,
             "ticks": ""
            },
            "type": "mesh3d"
           }
          ],
          "parcoords": [
           {
            "line": {
             "colorbar": {
              "outlinewidth": 0,
              "ticks": ""
             }
            },
            "type": "parcoords"
           }
          ],
          "pie": [
           {
            "automargin": true,
            "type": "pie"
           }
          ],
          "scatter": [
           {
            "marker": {
             "colorbar": {
              "outlinewidth": 0,
              "ticks": ""
             }
            },
            "type": "scatter"
           }
          ],
          "scatter3d": [
           {
            "line": {
             "colorbar": {
              "outlinewidth": 0,
              "ticks": ""
             }
            },
            "marker": {
             "colorbar": {
              "outlinewidth": 0,
              "ticks": ""
             }
            },
            "type": "scatter3d"
           }
          ],
          "scattercarpet": [
           {
            "marker": {
             "colorbar": {
              "outlinewidth": 0,
              "ticks": ""
             }
            },
            "type": "scattercarpet"
           }
          ],
          "scattergeo": [
           {
            "marker": {
             "colorbar": {
              "outlinewidth": 0,
              "ticks": ""
             }
            },
            "type": "scattergeo"
           }
          ],
          "scattergl": [
           {
            "marker": {
             "colorbar": {
              "outlinewidth": 0,
              "ticks": ""
             }
            },
            "type": "scattergl"
           }
          ],
          "scattermapbox": [
           {
            "marker": {
             "colorbar": {
              "outlinewidth": 0,
              "ticks": ""
             }
            },
            "type": "scattermapbox"
           }
          ],
          "scatterpolar": [
           {
            "marker": {
             "colorbar": {
              "outlinewidth": 0,
              "ticks": ""
             }
            },
            "type": "scatterpolar"
           }
          ],
          "scatterpolargl": [
           {
            "marker": {
             "colorbar": {
              "outlinewidth": 0,
              "ticks": ""
             }
            },
            "type": "scatterpolargl"
           }
          ],
          "scatterternary": [
           {
            "marker": {
             "colorbar": {
              "outlinewidth": 0,
              "ticks": ""
             }
            },
            "type": "scatterternary"
           }
          ],
          "surface": [
           {
            "colorbar": {
             "outlinewidth": 0,
             "ticks": ""
            },
            "colorscale": [
             [
              0,
              "#0d0887"
             ],
             [
              0.1111111111111111,
              "#46039f"
             ],
             [
              0.2222222222222222,
              "#7201a8"
             ],
             [
              0.3333333333333333,
              "#9c179e"
             ],
             [
              0.4444444444444444,
              "#bd3786"
             ],
             [
              0.5555555555555556,
              "#d8576b"
             ],
             [
              0.6666666666666666,
              "#ed7953"
             ],
             [
              0.7777777777777778,
              "#fb9f3a"
             ],
             [
              0.8888888888888888,
              "#fdca26"
             ],
             [
              1,
              "#f0f921"
             ]
            ],
            "type": "surface"
           }
          ],
          "table": [
           {
            "cells": {
             "fill": {
              "color": "#EBF0F8"
             },
             "line": {
              "color": "white"
             }
            },
            "header": {
             "fill": {
              "color": "#C8D4E3"
             },
             "line": {
              "color": "white"
             }
            },
            "type": "table"
           }
          ]
         },
         "layout": {
          "annotationdefaults": {
           "arrowcolor": "#2a3f5f",
           "arrowhead": 0,
           "arrowwidth": 1
          },
          "autotypenumbers": "strict",
          "coloraxis": {
           "colorbar": {
            "outlinewidth": 0,
            "ticks": ""
           }
          },
          "colorscale": {
           "diverging": [
            [
             0,
             "#8e0152"
            ],
            [
             0.1,
             "#c51b7d"
            ],
            [
             0.2,
             "#de77ae"
            ],
            [
             0.3,
             "#f1b6da"
            ],
            [
             0.4,
             "#fde0ef"
            ],
            [
             0.5,
             "#f7f7f7"
            ],
            [
             0.6,
             "#e6f5d0"
            ],
            [
             0.7,
             "#b8e186"
            ],
            [
             0.8,
             "#7fbc41"
            ],
            [
             0.9,
             "#4d9221"
            ],
            [
             1,
             "#276419"
            ]
           ],
           "sequential": [
            [
             0,
             "#0d0887"
            ],
            [
             0.1111111111111111,
             "#46039f"
            ],
            [
             0.2222222222222222,
             "#7201a8"
            ],
            [
             0.3333333333333333,
             "#9c179e"
            ],
            [
             0.4444444444444444,
             "#bd3786"
            ],
            [
             0.5555555555555556,
             "#d8576b"
            ],
            [
             0.6666666666666666,
             "#ed7953"
            ],
            [
             0.7777777777777778,
             "#fb9f3a"
            ],
            [
             0.8888888888888888,
             "#fdca26"
            ],
            [
             1,
             "#f0f921"
            ]
           ],
           "sequentialminus": [
            [
             0,
             "#0d0887"
            ],
            [
             0.1111111111111111,
             "#46039f"
            ],
            [
             0.2222222222222222,
             "#7201a8"
            ],
            [
             0.3333333333333333,
             "#9c179e"
            ],
            [
             0.4444444444444444,
             "#bd3786"
            ],
            [
             0.5555555555555556,
             "#d8576b"
            ],
            [
             0.6666666666666666,
             "#ed7953"
            ],
            [
             0.7777777777777778,
             "#fb9f3a"
            ],
            [
             0.8888888888888888,
             "#fdca26"
            ],
            [
             1,
             "#f0f921"
            ]
           ]
          },
          "colorway": [
           "#636efa",
           "#EF553B",
           "#00cc96",
           "#ab63fa",
           "#FFA15A",
           "#19d3f3",
           "#FF6692",
           "#B6E880",
           "#FF97FF",
           "#FECB52"
          ],
          "font": {
           "color": "#2a3f5f"
          },
          "geo": {
           "bgcolor": "white",
           "lakecolor": "white",
           "landcolor": "#E5ECF6",
           "showlakes": true,
           "showland": true,
           "subunitcolor": "white"
          },
          "hoverlabel": {
           "align": "left"
          },
          "hovermode": "closest",
          "mapbox": {
           "style": "light"
          },
          "paper_bgcolor": "white",
          "plot_bgcolor": "#E5ECF6",
          "polar": {
           "angularaxis": {
            "gridcolor": "white",
            "linecolor": "white",
            "ticks": ""
           },
           "bgcolor": "#E5ECF6",
           "radialaxis": {
            "gridcolor": "white",
            "linecolor": "white",
            "ticks": ""
           }
          },
          "scene": {
           "xaxis": {
            "backgroundcolor": "#E5ECF6",
            "gridcolor": "white",
            "gridwidth": 2,
            "linecolor": "white",
            "showbackground": true,
            "ticks": "",
            "zerolinecolor": "white"
           },
           "yaxis": {
            "backgroundcolor": "#E5ECF6",
            "gridcolor": "white",
            "gridwidth": 2,
            "linecolor": "white",
            "showbackground": true,
            "ticks": "",
            "zerolinecolor": "white"
           },
           "zaxis": {
            "backgroundcolor": "#E5ECF6",
            "gridcolor": "white",
            "gridwidth": 2,
            "linecolor": "white",
            "showbackground": true,
            "ticks": "",
            "zerolinecolor": "white"
           }
          },
          "shapedefaults": {
           "line": {
            "color": "#2a3f5f"
           }
          },
          "ternary": {
           "aaxis": {
            "gridcolor": "white",
            "linecolor": "white",
            "ticks": ""
           },
           "baxis": {
            "gridcolor": "white",
            "linecolor": "white",
            "ticks": ""
           },
           "bgcolor": "#E5ECF6",
           "caxis": {
            "gridcolor": "white",
            "linecolor": "white",
            "ticks": ""
           }
          },
          "title": {
           "x": 0.05
          },
          "xaxis": {
           "automargin": true,
           "gridcolor": "white",
           "linecolor": "white",
           "ticks": "",
           "title": {
            "standoff": 15
           },
           "zerolinecolor": "white",
           "zerolinewidth": 2
          },
          "yaxis": {
           "automargin": true,
           "gridcolor": "white",
           "linecolor": "white",
           "ticks": "",
           "title": {
            "standoff": 15
           },
           "zerolinecolor": "white",
           "zerolinewidth": 2
          }
         }
        },
        "title": {
         "text": "Validation ROC Curve"
        },
        "width": 800,
        "xaxis": {
         "range": [
          0,
          1
         ],
         "title": {
          "text": "False Positive Rate (Sensitivty)"
         }
        },
        "yaxis": {
         "range": [
          0,
          1
         ],
         "title": {
          "text": "True Positive Rate (1-Precision)"
         }
        }
       }
      },
      "text/html": "<div>                            <div id=\"992e99b9-12e5-479d-811a-afb2bf046bbe\" class=\"plotly-graph-div\" style=\"height:800px; width:800px;\"></div>            <script type=\"text/javascript\">                require([\"plotly\"], function(Plotly) {                    window.PLOTLYENV=window.PLOTLYENV || {};                                    if (document.getElementById(\"992e99b9-12e5-479d-811a-afb2bf046bbe\")) {                    Plotly.newPlot(                        \"992e99b9-12e5-479d-811a-afb2bf046bbe\",                        [{\"hovertemplate\": \"x=%{x}<br>y=%{y}<extra></extra>\", \"legendgroup\": \"\", \"line\": {\"color\": \"#636efa\", \"dash\": \"solid\"}, \"mode\": \"lines\", \"name\": \"\", \"orientation\": \"v\", \"showlegend\": false, \"type\": \"scatter\", \"x\": [0.0, 8.312551953449709e-05, 0.00024937655860349125, 0.00033250207813798836, 0.00033250207813798836, 0.00033250207813798836, 0.00041562759767248546, 0.00041562759767248546, 0.0004987531172069825, 0.0008312551953449709, 0.000914380714879468, 0.000997506234413965, 0.000997506234413965, 0.000997506234413965, 0.0014131338320864505, 0.00199501246882793, 0.0020781379883624274, 0.004156275976724855, 0.004156275976724855, 0.004239401496259352, 0.0043225270157938485, 0.005901911886949294, 0.006151288445552784, 0.006151288445552784, 0.006400665004156276, 0.006400665004156276, 0.006483790523690773, 0.0071487946799667496, 0.007231920199501247, 0.007231920199501247, 0.007231920199501247, 0.007564422277639235, 0.0077306733167082295, 0.007813798836242726, 0.00798004987531172, 0.0085619285120532, 0.008728179551122194, 0.00881130507065669, 0.00889443059019119, 0.010640066500415627, 0.011388196176226101, 0.011554447215295095, 0.011637572734829594, 0.01172069825436409, 0.011803823773898587, 0.012385702410640067, 0.012385702410640067, 0.012385702410640067, 0.012468827930174564, 0.012718204488778055, 0.02319201995012469, 0.023358270989193682, 0.023607647547797175, 0.02369077306733167, 0.024106400665004156, 0.02427265170407315, 0.02427265170407315, 0.028428927680798004, 0.028512053200332503, 0.028678304239401497, 0.028761429758935992, 0.02892768079800499, 0.029093931837073983, 0.029093931837073983, 0.029177057356608478, 0.04588528678304239, 0.04970906068162926, 0.04970906068162926, 0.049792186201163754, 0.05012468827930175, 0.05012468827930175, 0.050207813798836244, 0.050207813798836244, 0.050374064837905234, 0.050789692435577724, 0.05087281795511222, 0.052202826267664176, 0.05228595178719867, 0.05245220282626766, 0.05245220282626766, 0.052535328345802164, 0.05261845386533666, 0.05278470490440565, 0.05286783042394015, 0.05295095594347465, 0.05344970906068163, 0.05344970906068163, 0.05378221113881962, 0.053865336658354114, 0.05486284289276808, 0.05486284289276808, 0.05511221945137157, 0.05519534497090607, 0.05519534497090607, 0.05768911055694098, 0.06018287614297589, 0.06034912718204489, 0.06142975893599335, 0.061596009975062344, 0.061596009975062344, 0.06167913549459684, 0.06176226101413134, 0.06176226101413134, 0.06533665835411472, 0.06558603491271821, 0.0657522859517872, 0.06600166251039069, 0.06625103906899418, 0.06633416458852869, 0.06716541978387365, 0.0687448046550291, 0.0687448046550291, 0.07506234413965088, 0.07522859517871987, 0.07680798004987531, 0.08063175394846218, 0.08071487946799667, 0.08088113050706566, 0.08096425602660016, 0.08096425602660016, 0.08345802161263507, 0.08345802161263507, 0.08354114713216958, 0.08354114713216958, 0.08362427265170408, 0.08395677472984206, 0.0857024106400665, 0.0858686616791355, 0.08719866999168745, 0.08728179551122195, 0.08819617622610142, 0.0883624272651704, 0.09276807980049875, 0.09285120532003326, 0.09301745635910225, 0.09326683291770574, 0.09567747298420615, 0.09567747298420615, 0.09576059850374065, 0.09600997506234414, 0.09600997506234414, 0.09692435577722361, 0.09692435577722361, 0.09842061512884455, 0.09850374064837905, 0.09850374064837905, 0.09858686616791355, 0.09866999168744804, 0.09875311720698254, 0.09900249376558604, 0.09916874480465503, 0.099833748960931, 0.099833748960931, 0.0999168744804655, 0.0999168744804655, 0.1, 0.10166251039068994, 0.10174563591022444, 0.10191188694929343, 0.10191188694929343, 0.10207813798836243, 0.1028262676641729, 0.10315876974231089, 0.10315876974231089, 0.10415627597672486, 0.12743142144638403, 0.12759767248545303, 0.128428927680798, 0.12851205320033252, 0.1312551953449709, 0.13300083125519535, 0.13316708229426433, 0.13582709891936826, 0.13607647547797175, 0.1374896093100582, 0.1376558603491272, 0.1376558603491272, 0.13773898586866168, 0.13773898586866168, 0.13881961762261014, 0.13881961762261014, 0.13890274314214462, 0.13890274314214462, 0.1396508728179551, 0.1398171238570241, 0.1400665004156276, 0.1402327514546966, 0.14056525353283458, 0.1407315045719036, 0.14106400665004157, 0.14106400665004157, 0.1427265170407315, 0.14280964256026601, 0.143142144638404, 0.14364089775561098, 0.14389027431421447, 0.14397339983374896, 0.14397339983374896, 0.14480465502909393, 0.14480465502909393, 0.14488778054862844, 0.14497090606816293, 0.14505403158769742, 0.1714879467996675, 0.171571072319202, 0.17306733167082294, 0.17364921030756442, 0.1740648379052369, 0.1742310889443059, 0.17506234413965088, 0.17539484621778886, 0.17539484621778886, 0.17556109725685787, 0.17581047381546136, 0.17581047381546136, 0.17589359933499585, 0.17664172901080633, 0.1767248545303408, 0.1768079800498753, 0.1768079800498753, 0.1769742310889443, 0.17830423940149626, 0.17838736492103074, 0.17855361596009975, 0.17863674147963424, 0.20723192019950123, 0.20756442227763924, 0.20781379883624274, 0.22402327514546966, 0.22443890274314215, 0.22468827930174565, 0.22468827930174565, 0.22477140482128014, 0.22493765586034914, 0.31379883624272653, 0.313881961762261, 0.314214463840399, 0.3142975893599335, 0.31463009143807147, 0.31463009143807147, 0.3149625935162095, 0.31554447215295095, 0.3162094763092269, 0.31637572734829594, 0.3167082294264339, 0.31687448046550293, 0.3170407315045719, 0.3170407315045719, 0.3171238570241064, 0.3172069825436409, 0.31770573566084787, 0.32468827930174565, 0.32477140482128014, 0.32485453034081463, 0.3250207813798836, 0.3250207813798836, 0.3251039068994181, 0.3262676641729011, 0.3267664172901081, 0.32693266832917706, 0.32709891936824603, 0.327597672485453, 0.32809642560266, 0.3283458021612635, 0.3283458021612635, 0.32967581047381544, 0.32992518703241897, 0.32992518703241897, 0.33000831255195345, 0.3341645885286783, 0.3343308395677473, 0.33574397339983375, 0.33657522859517874, 0.33665835411471323, 0.3372402327514547, 0.3376558603491272, 0.33881961762261015, 0.33931837073981713, 0.33973399833748963, 0.3398171238570241, 0.3399002493765586, 0.34064837905236905, 0.3408977556109726, 0.34098088113050706, 0.34106400665004155, 0.34114713216957604, 0.3412302576891106, 0.3412302576891106, 0.34231088944305904, 0.343308395677473, 0.343308395677473, 0.3507896924355777, 0.3508728179551122, 0.3546134663341646, 0.35519534497090605, 0.3598503740648379, 0.3645054031587697, 0.36483790523690773, 0.36483790523690773, 0.3649210307564422, 0.3650041562759767, 0.3661679135494597, 0.3684954280964256, 0.3685785536159601, 0.3690773067331671, 0.36924355777223605, 0.3693266832917706, 0.3711554447215295, 0.371238570241064, 0.3713216957605985, 0.371404821280133, 0.371404821280133, 0.3714879467996675, 0.3714879467996675, 0.371571072319202, 0.37190357439734, 0.3719866999168745, 0.3719866999168745, 0.3768079800498753, 0.3768911055694098, 0.3770573566084788, 0.3770573566084788, 0.3773067331670823, 0.3773067331670823, 0.3822111388196176, 0.3822111388196176, 0.38229426433915215, 0.38237738985868663, 0.40083125519534496, 0.400997506234414, 0.4010806317539485, 0.4024106400665004, 0.4037406483790524, 0.40390689941812136, 0.40399002493765584, 0.40698254364089775, 0.41579384871155445, 0.41629260182876143, 0.41936824605153783, 0.41936824605153783, 0.4194513715710723, 0.42194513715710724, 0.42194513715710724, 0.4224438902743142, 0.4226101413133832, 0.4230257689110557, 0.4231920199501247, 0.4233582709891937, 0.4234413965087282, 0.42369077306733166, 0.42377389858686615, 0.42377389858686615, 0.42410640066500416, 0.4243557772236076, 0.42452202826267665, 0.442477140482128, 0.442643391521197, 0.44305901911886947, 0.443142144638404, 0.443308395677473, 0.44347464671654196, 0.44522028262676644, 0.4453034081463009, 0.4459684123025769, 0.4459684123025769, 0.4459684123025769, 0.4463840399002494, 0.4463840399002494, 0.4467996674979219, 0.44696591853699086, 0.44713216957605983, 0.4507065669160432, 0.4517040731504572, 0.4517040731504572, 0.4519534497090607, 0.4520365752285952, 0.45261845386533667, 0.45303408146300916, 0.4542809642560266, 0.4551122194513716, 0.4603491271820449, 0.4604322527015794, 0.4605153782211139, 0.46068162926018286, 0.4608478802992519, 0.4608478802992519, 0.4609310058187864, 0.4625935162094763, 0.46367414796342477, 0.46375727348295925, 0.46375727348295925, 0.46417290108063175, 0.46450540315876976, 0.4662510390689942, 0.4662510390689942, 0.46674979218620116, 0.46683291770573565, 0.46683291770573565, 0.4669991687448047, 0.46716541978387366, 0.46724854530340815, 0.4674979218620116, 0.4679966749792186, 0.4679966749792186, 0.4689110556940981, 0.4691604322527016, 0.47115544472152954, 0.472734829592685, 0.472734829592685, 0.4742310889443059, 0.47572734829592683, 0.4758104738154613, 0.4758104738154613, 0.4798004987531172, 0.4801330008312552, 0.4802161263507897, 0.4802161263507897, 0.48354114713216956, 0.48354114713216956, 0.48362427265170405, 0.48362427265170405, 0.48403990024937654, 0.48437240232751455, 0.4857024106400665, 0.485785536159601, 0.4858686616791355, 0.48611803823773897, 0.48611803823773897, 0.48620116375727346, 0.486284289276808, 0.6180382377389859, 0.6907730673316709, 0.6907730673316709, 0.6909393183707399, 0.6909393183707399, 0.6911886949293433, 0.6912718204488778, 0.6933499584372402, 0.6935993349958437, 0.6935993349958437, 0.6936824605153782, 0.6975893599334996, 0.6979218620116375, 0.700831255195345, 0.7014131338320865, 0.7017456359102244, 0.7018287614297589, 0.7018287614297589, 0.7018287614297589, 0.7018287614297589, 0.7019118869492934, 0.7022443890274315, 0.702327514546966, 0.7024937655860349, 0.7025768911055694, 0.7029093931837074, 0.7029925187032419, 0.7035743973399834, 0.7038237738985869, 0.7040731504571903, 0.742643391521197, 0.742809642560266, 0.7428927680798005, 0.7430590191188695, 0.8098088113050707, 0.8098088113050707, 0.8099750623441396, 0.8102244389027431, 0.8103075644222777, 0.8106400665004156, 0.8116375727348296, 0.8117206982543641, 0.8117206982543641, 0.8118038237738986, 0.8121363258520365, 0.813383208645054, 0.8139650872817955, 0.81404821280133, 0.8181213632585204, 0.8183707398171238, 0.8187863674147964, 0.8192019950124688, 0.8192851205320033, 0.8194513715710723, 0.8197838736492103, 0.8212801330008312, 0.8213632585203657, 0.8216126350789692, 0.8216957605985037, 0.8219451371571073, 0.8221113881961762, 0.8236076475477971, 0.8238570241064007, 0.8239401496259352, 0.826766417290108, 0.826766417290108, 0.8270989193682461, 0.8271820448877806, 0.8271820448877806, 0.8272651704073151, 0.8344139650872818, 0.8344139650872818, 0.8348295926849543, 0.8349958437240232, 0.8359102244389027, 0.8359933499584372, 0.8551953449709061, 0.8704904405652535, 0.870573566084788, 0.870573566084788, 0.8706566916043226, 0.8706566916043226, 0.8707398171238571, 0.8708229426433916, 0.870906068162926, 0.8711554447215295, 0.871404821280133, 0.8714879467996675, 0.8716541978387365, 0.872069825436409, 0.872069825436409, 0.8723192019950124, 0.872734829592685, 0.872734829592685, 0.8745635910224439, 0.8745635910224439, 0.8746467165419783, 0.8811305070656692, 0.8812967581047382, 0.8813798836242727, 0.8817123857024106, 0.8927680798004988, 0.8931005818786367, 0.8937655860349127, 0.8938487115544472, 0.8939318370739817, 0.8939318370739817, 0.8940149625935162, 0.8941812136325852, 0.8945137157107232, 0.8948462177888612, 0.8955943474646717, 0.8956774729842062, 0.8959268495428097, 0.8960099750623441, 0.8962593516209476, 0.8963424771404821, 0.8965087281795511, 0.8965087281795511, 0.8966749792186202, 0.8968412302576891, 0.8970074812967581, 0.8974231088944306, 0.8974231088944306, 0.8980881130507066, 0.8995843724023275, 0.9022443890274314, 0.9034081463009144, 0.9034912718204489, 0.9037406483790523, 0.9043225270157939, 0.9044887780548628, 0.9047381546134663, 0.9048212801330008, 0.9049875311720699, 0.9052369077306733, 0.9064006650041563, 0.9068162926018287, 0.9069825436408978, 0.9071487946799668, 0.9071487946799668, 0.9075644222776392, 0.9075644222776392, 0.9076475477971737, 0.9077306733167082, 0.9077306733167082, 0.9080631753948463, 0.9082294264339152, 0.9083125519534497, 0.9083956774729842, 0.9087281795511222, 0.9087281795511222, 0.9088113050706567, 0.9090606816292602, 0.9091438071487947, 0.9091438071487947, 0.9093100581878637, 0.9093931837073982, 0.9093931837073982, 0.9094763092269327, 0.9096425602660017, 0.9098088113050706, 0.9098088113050706, 0.9098919368246051, 0.9100581878636741, 0.9101413133832087, 0.9103906899418122, 0.9104738154613466, 0.9107231920199501, 0.9108063175394846, 0.9108894430590191, 0.9112219451371572, 0.9113050706566916, 0.9117206982543641, 0.9123025768911056, 0.9123025768911056, 0.913881961762261, 0.91404821280133, 0.9257689110556941, 0.9278470490440566, 0.9278470490440566, 0.9280133000831255, 0.92809642560266, 0.92809642560266, 0.9281795511221945, 0.9283458021612635, 0.928428927680798, 0.929260182876143, 0.9293433083956775, 0.9316708229426434, 0.9317539484621779, 0.9382377389858687, 0.9385702410640067, 0.9388196176226101, 0.9389858686616791, 0.9391521197007481, 0.9393183707398172, 0.9395677472984206, 0.9396508728179551, 0.9403990024937656, 0.9404821280133001, 0.941978387364921, 0.9423940149625936, 0.9423940149625936, 0.9425602660016625, 0.9427265170407315, 0.9428927680798005, 0.9433083956774729, 0.9443890274314215, 0.9443890274314215, 0.944472152950956, 0.944472152950956, 0.9450540315876974, 0.94546965918537, 0.94546965918537, 0.9457190357439734, 0.9468827930174564, 0.9470490440565253, 0.9470490440565253, 0.9472152950955943, 0.9475477971737324, 0.9503740648379052, 0.9504571903574397, 0.9523690773067331, 0.9525353283458021, 0.9525353283458021, 0.9527015793848711, 0.9528678304239402, 0.9532003325020781, 0.9537822111388197, 0.9538653366583542, 0.9540315876974231, 0.9544472152950956, 0.955694098088113, 0.9560266001662511, 0.9561097256857856, 0.95619285120532, 0.9562759767248545, 0.9567747298420615, 0.9567747298420615, 0.9571072319201995, 0.9574397339983375, 0.9576059850374065, 0.9578553615960099, 0.958021612635079, 0.9581047381546135, 0.958187863674148, 0.958354114713217, 0.9586866167913549, 0.9587697423108894, 0.9593516209476309, 0.9783873649210307, 0.9799667497921862, 0.9802161263507897, 0.9804655029093932, 0.9807980049875312, 0.9809642560266002, 0.9815461346633416, 0.9889443059019118, 0.9890274314214463, 0.9894430590191189, 0.9896093100581879, 0.9897755610972568, 0.9901080631753948, 0.9961762261014131, 0.9964256026600167, 0.9967581047381546, 0.999002493765586, 0.999168744804655, 0.999334995843724, 0.9994181213632585, 0.999667497921862, 1.0, 1.0], \"xaxis\": \"x\", \"y\": [0.0, 0.0, 0.0, 0.00015213753232922562, 0.00045641259698767686, 0.0007606876616461281, 0.0007606876616461281, 0.0010649627263045794, 0.0010649627263045794, 0.00243420051726761, 0.0025863380495968354, 0.0025863380495968354, 0.003194888178913738, 0.003347025711242964, 0.0038034383082306404, 0.005781226228510574, 0.005933363760839799, 0.007911151681119732, 0.008063289213448958, 0.008063289213448958, 0.008215426745778184, 0.012931690247984177, 0.01323596531264263, 0.01354024037730108, 0.01354024037730108, 0.013844515441959531, 0.013844515441959531, 0.014300928038947208, 0.014300928038947208, 0.01460520310360566, 0.014757340635934885, 0.016126578426897915, 0.016430853491556367, 0.016430853491556367, 0.016430853491556367, 0.017191541153202494, 0.017191541153202494, 0.01764795375019017, 0.017800091282519397, 0.0184086414118363, 0.019321466605811653, 0.01947360413814088, 0.01947360413814088, 0.02038642933211623, 0.02038642933211623, 0.023733455043359195, 0.02388559257568842, 0.024189867640346873, 0.024494142705005325, 0.02464628023733455, 0.0427506465845124, 0.0427506465845124, 0.0427506465845124, 0.0427506465845124, 0.043663471778487756, 0.043663471778487756, 0.04396774684314621, 0.04822759774836452, 0.04822759774836452, 0.048379735280693746, 0.0492925604746691, 0.0492925604746691, 0.04944469800699833, 0.049596835539327554, 0.049596835539327554, 0.09006541913890156, 0.09645519549672904, 0.09660733302905827, 0.09660733302905827, 0.09706374562604594, 0.09721588315837518, 0.0973680206907044, 0.09752015822303363, 0.09767229575536285, 0.09767229575536285, 0.09767229575536285, 0.10025863380495968, 0.1010193214666058, 0.1010193214666058, 0.10132359653126426, 0.10132359653126426, 0.10147573406359349, 0.10178000912825194, 0.10178000912825194, 0.10223642172523961, 0.1026928343222273, 0.10284497185455652, 0.10284497185455652, 0.10299710938688575, 0.104518484710178, 0.10467062224250723, 0.10482275977483645, 0.10482275977483645, 0.10497489730716568, 0.10923474821238399, 0.11166894872965161, 0.11182108626198083, 0.11395101171458999, 0.11410314924691921, 0.11425528677924844, 0.11425528677924844, 0.11455956184390689, 0.11486383690856534, 0.1188194127491252, 0.11912368781378366, 0.11958010041077134, 0.1198843754754298, 0.12003651300775901, 0.12003651300775901, 0.12155788833105127, 0.12277498858968508, 0.1229271261220143, 0.13022972767381713, 0.13038186520614636, 0.13327247832040165, 0.1372280541609615, 0.13768446675794918, 0.13768446675794918, 0.1378366042902784, 0.13798874182260765, 0.13905370454891222, 0.13935797961357066, 0.13935797961357066, 0.1395101171458999, 0.13966225467822913, 0.13966225467822913, 0.1419443176631675, 0.1419443176631675, 0.1448349307774228, 0.1448349307774228, 0.14529134337441046, 0.1454434809067397, 0.1503118819412749, 0.1503118819412749, 0.1503118819412749, 0.1507682945382626, 0.15350677012018865, 0.15365890765251788, 0.15396318271717632, 0.15396318271717632, 0.1542674577818348, 0.1554845580404686, 0.1556366955727978, 0.1568537958314316, 0.15715807089609007, 0.15731020842841928, 0.15731020842841928, 0.1574623459607485, 0.1574623459607485, 0.15883158375171155, 0.15883158375171155, 0.1597444089456869, 0.15989654647801613, 0.15989654647801613, 0.16004868401034536, 0.16004868401034536, 0.16233074699528374, 0.16233074699528374, 0.16248288452761298, 0.16263502205994218, 0.16293929712460065, 0.16354784725391755, 0.16430853491556366, 0.16476494751255136, 0.16598204777118516, 0.20112581773923627, 0.2012779552715655, 0.20234291799787008, 0.20234291799787008, 0.2047771185151377, 0.20645063137075917, 0.2072113190324053, 0.20888483188802678, 0.20918910695268522, 0.2102540696789898, 0.2102540696789898, 0.21040620721131903, 0.2107104822759775, 0.21116689487296517, 0.21329682032557432, 0.21344895785790355, 0.21344895785790355, 0.21360109539023278, 0.21466605811653736, 0.2148181956488666, 0.21512247071352503, 0.21542674577818346, 0.2155788833105127, 0.2155788833105127, 0.2161874334398296, 0.21633957097215883, 0.2180130838277803, 0.21816522136010955, 0.21816522136010955, 0.21877377148942645, 0.21983873421573102, 0.21983873421573102, 0.21999087174806026, 0.22136010953902327, 0.22166438460368174, 0.22196865966834017, 0.22196865966834017, 0.22227293473299864, 0.2546782291191237, 0.2546782291191237, 0.2577209797657082, 0.2586338049596836, 0.2590902175566712, 0.2590902175566712, 0.26030731781530503, 0.26122014300928037, 0.26152441807393884, 0.26152441807393884, 0.26228510573558494, 0.2625893808002434, 0.26274151833257264, 0.2648714437851818, 0.2648714437851818, 0.265023581317511, 0.2653278563821695, 0.26563213144682796, 0.26745778183477864, 0.26745778183477864, 0.268370607028754, 0.268370607028754, 0.30199300167351284, 0.30199300167351284, 0.30199300167351284, 0.32724783204016433, 0.32755210710482274, 0.32755210710482274, 0.327704244637152, 0.3278563821694812, 0.32800851970181044, 0.4454586946599726, 0.4454586946599726, 0.4459151072569603, 0.44637151985394796, 0.44637151985394796, 0.44667579491860643, 0.44682793245093566, 0.44682793245093566, 0.44804503270956947, 0.44804503270956947, 0.4481971702418987, 0.4485014453065571, 0.4485014453065571, 0.4492621329682033, 0.4494142705005325, 0.4494142705005325, 0.4497185455651909, 0.45823824737562757, 0.4583903849079568, 0.4583903849079568, 0.45869465997261527, 0.45884679750494445, 0.45884679750494445, 0.4591510725696029, 0.4591510725696029, 0.4591510725696029, 0.45930321010193215, 0.4594553476342614, 0.45975962269891985, 0.459911760231249, 0.4602160352959075, 0.4620416856838582, 0.46234596074851664, 0.46249809828084587, 0.46249809828084587, 0.469344287235661, 0.4696485623003195, 0.472691312946904, 0.47345200060855014, 0.47360413814087937, 0.47466910086718395, 0.4749733759318424, 0.47619047619047616, 0.47710330138445156, 0.4780161265784269, 0.4780161265784269, 0.4786246767077438, 0.47968963943404835, 0.4798417769663776, 0.4798417769663776, 0.48014605203103605, 0.4802981895633653, 0.4812110147573406, 0.4816674273543283, 0.48288452761296213, 0.483493077742279, 0.48364521527460824, 0.49262132968203254, 0.49262132968203254, 0.49475125513464174, 0.49505553019930015, 0.49855469344287234, 0.5035752320097368, 0.5038795070743952, 0.5040316446067244, 0.5040316446067244, 0.5041837821390537, 0.5049444698006998, 0.5064658451239921, 0.5066179826563213, 0.5092043207059181, 0.5096607333029058, 0.5096607333029058, 0.5120949338201735, 0.5120949338201735, 0.5122470713525027, 0.5122470713525027, 0.5123992088848319, 0.5127034839494904, 0.5128556214818195, 0.5128556214818195, 0.513159896546478, 0.513159896546478, 0.5133120340788072, 0.5184847101780009, 0.5186368477103301, 0.5186368477103301, 0.5187889852426594, 0.5189411227749886, 0.5190932603073178, 0.5227445610832192, 0.5228966986155484, 0.5228966986155484, 0.5230488361478777, 0.5473908413205538, 0.5476951163852122, 0.5476951163852122, 0.5487600791115168, 0.5492164917085045, 0.5493686292408337, 0.549520766773163, 0.5521071048227598, 0.5670165829910239, 0.5670165829910239, 0.5720371215578883, 0.5723413966225468, 0.5723413966225468, 0.5741670470104975, 0.5743191845428267, 0.5749277346721436, 0.5749277346721436, 0.5752320097368021, 0.5752320097368021, 0.5752320097368021, 0.5752320097368021, 0.5752320097368021, 0.5752320097368021, 0.5756884223337897, 0.5758405598661189, 0.5759926973984482, 0.5766012475277651, 0.592727825954663, 0.5930321010193215, 0.5931842385516507, 0.5931842385516507, 0.5933363760839799, 0.5933363760839799, 0.5950098889396014, 0.5950098889396014, 0.5950098889396014, 0.5953141640042598, 0.5954663015365891, 0.5957705766012475, 0.5959227141335768, 0.596074851665906, 0.596074851665906, 0.5962269891982352, 0.6000304275064658, 0.6023124904914042, 0.6024646280237335, 0.6027689030883919, 0.6027689030883919, 0.6033774532177089, 0.6036817282823672, 0.6053552411379888, 0.6067244789289518, 0.6105279172371824, 0.6108321923018408, 0.6109843298341701, 0.6109843298341701, 0.6109843298341701, 0.6111364673664993, 0.6111364673664993, 0.6141792180130838, 0.6164612809980222, 0.6164612809980222, 0.6166134185303515, 0.6173741061919976, 0.6175262437243267, 0.6195040316446068, 0.619656169176936, 0.6199604442415944, 0.6201125817739236, 0.6202647193062528, 0.6202647193062528, 0.620416856838582, 0.620416856838582, 0.6208732694355698, 0.6211775445002282, 0.6213296820325575, 0.622394644758862, 0.6228510573558497, 0.6249809828084588, 0.6260459455347634, 0.6261980830670927, 0.6275673208580557, 0.6287844211166895, 0.6290886961813479, 0.6292408337136771, 0.6324357218925909, 0.6328921344895786, 0.6328921344895786, 0.6330442720219078, 0.6379126730564431, 0.6380648105887723, 0.6382169481211015, 0.6383690856534308, 0.6385212231857599, 0.6388254982504183, 0.6404990111060399, 0.6404990111060399, 0.6411075612353567, 0.6414118363000152, 0.6415639738323444, 0.6415639738323444, 0.6418682488970029, 0.7533850600943253, 0.8121101475734064, 0.8122622851057356, 0.8122622851057356, 0.8125665601703941, 0.8127186977027233, 0.8128708352350524, 0.8137836604290278, 0.8137836604290278, 0.8139357979613571, 0.8140879354936863, 0.8162178609462954, 0.8168264110756124, 0.8191084740605508, 0.8209341244485014, 0.8210862619808307, 0.8210862619808307, 0.8212383995131599, 0.8215426745778184, 0.8218469496424768, 0.8219990871748061, 0.8219990871748061, 0.8219990871748061, 0.8219990871748061, 0.8219990871748061, 0.8219990871748061, 0.8219990871748061, 0.8219990871748061, 0.8224554997717937, 0.8224554997717937, 0.8528830062376388, 0.8534915563669557, 0.8534915563669557, 0.8534915563669557, 0.9003499163243572, 0.9005020538566865, 0.9005020538566865, 0.9005020538566865, 0.9005020538566865, 0.9005020538566865, 0.9008063289213449, 0.9008063289213449, 0.9009584664536742, 0.9011106039860034, 0.901567016582991, 0.9023277042446372, 0.9027841168416249, 0.9029362543739541, 0.9070439677468431, 0.9070439677468431, 0.9071961052791724, 0.9075003803438308, 0.9076525178761601, 0.9082610680054769, 0.9084132055378061, 0.9099345808610985, 0.9102388559257569, 0.9102388559257569, 0.9102388559257569, 0.9102388559257569, 0.9102388559257569, 0.9108474060550737, 0.910999543587403, 0.9114559561843907, 0.9128251939753537, 0.9129773315076829, 0.9132816065723414, 0.9132816065723414, 0.9135858816369998, 0.9135858816369998, 0.9183021451392058, 0.9184542826715351, 0.9189106952685228, 0.9192149703331812, 0.9196713829301689, 0.9196713829301689, 0.9327552107104823, 0.9418834626502358, 0.9418834626502358, 0.9421877377148943, 0.9421877377148943, 0.9423398752472235, 0.9423398752472235, 0.942644150311882, 0.9427962878442112, 0.9432527004411988, 0.9432527004411988, 0.9432527004411988, 0.9432527004411988, 0.9435569755058573, 0.944013388102845, 0.944013388102845, 0.9446219382321619, 0.9449262132968204, 0.9461433135554541, 0.9464475886201126, 0.9464475886201126, 0.9504031644606724, 0.9504031644606724, 0.9504031644606724, 0.9504031644606724, 0.9567929408185, 0.9567929408185, 0.9567929408185, 0.9567929408185, 0.9569450783508292, 0.9570972158831583, 0.9570972158831583, 0.9574014909478168, 0.9574014909478168, 0.9580100410771337, 0.9583143161417922, 0.9584664536741214, 0.9584664536741214, 0.9584664536741214, 0.9586185912064507, 0.9586185912064507, 0.9587707287387799, 0.9589228662711091, 0.9590750038034384, 0.9590750038034384, 0.9593792788680967, 0.9595314164004259, 0.9599878289974136, 0.9610527917237183, 0.9627263045793397, 0.9645519549672904, 0.9648562300319489, 0.9648562300319489, 0.9653126426289366, 0.9660733302905827, 0.9660733302905827, 0.966225467822912, 0.966225467822912, 0.9665297428875703, 0.9665297428875703, 0.9668340179522288, 0.966986155484558, 0.9671382930168873, 0.9671382930168873, 0.9672904305492165, 0.9674425680815457, 0.9677468431462042, 0.9678989806785334, 0.9678989806785334, 0.9680511182108626, 0.9680511182108626, 0.9682032557431919, 0.9686596683401795, 0.9688118058725087, 0.9689639434048379, 0.9691160809371672, 0.9691160809371672, 0.9692682184694964, 0.9694203560018256, 0.9697246310664841, 0.9697246310664841, 0.9697246310664841, 0.9698767685988133, 0.9698767685988133, 0.9698767685988133, 0.9698767685988133, 0.970333181195801, 0.970333181195801, 0.9704853187281303, 0.9704853187281303, 0.9704853187281303, 0.9704853187281303, 0.9704853187281303, 0.9706374562604595, 0.9706374562604595, 0.9707895937927887, 0.9707895937927887, 0.9712460063897763, 0.971702418986764, 0.9718545565190932, 0.9720066940514225, 0.9720066940514225, 0.9793092956032253, 0.9815913585881637, 0.9817434961204929, 0.9817434961204929, 0.9817434961204929, 0.9818956336528222, 0.9820477711851514, 0.9820477711851514, 0.9820477711851514, 0.9825041837821391, 0.9825041837821391, 0.9832648714437852, 0.9832648714437852, 0.9866118971550282, 0.9866118971550282, 0.9866118971550282, 0.9866118971550282, 0.9866118971550282, 0.9866118971550282, 0.9866118971550282, 0.9866118971550282, 0.9866118971550282, 0.9866118971550282, 0.9875247223490035, 0.9875247223490035, 0.9878289974136619, 0.9878289974136619, 0.9878289974136619, 0.9879811349459912, 0.9879811349459912, 0.9881332724783204, 0.9882854100106496, 0.9882854100106496, 0.9884375475429789, 0.9898067853339418, 0.9899589228662711, 0.9901110603986003, 0.9901110603986003, 0.9902631979309295, 0.9902631979309295, 0.9904153354632588, 0.9904153354632588, 0.9908717480602465, 0.9914802981895634, 0.9914802981895634, 0.9922409858512095, 0.9922409858512095, 0.9923931233835387, 0.9923931233835387, 0.9923931233835387, 0.9923931233835387, 0.9925452609158679, 0.9926973984481972, 0.9928495359805264, 0.9931538110451849, 0.9934580861098433, 0.9936102236421726, 0.9936102236421726, 0.9937623611745018, 0.9937623611745018, 0.9937623611745018, 0.993914498706831, 0.993914498706831, 0.993914498706831, 0.9940666362391603, 0.9940666362391603, 0.9940666362391603, 0.9940666362391603, 0.9943709113038186, 0.9943709113038186, 0.9943709113038186, 0.9943709113038186, 0.9946751863684771, 0.9972615244180739, 0.9977179370150616, 0.9977179370150616, 0.9977179370150616, 0.9977179370150616, 0.9977179370150616, 0.9981743496120493, 0.9984786246767078, 0.9984786246767078, 0.9984786246767078, 0.9984786246767078, 0.9984786246767078, 0.9984786246767078, 0.9992393123383538, 0.9992393123383538, 0.9992393123383538, 0.9993914498706831, 0.9995435874030123, 0.9995435874030123, 0.9996957249353415, 0.9996957249353415, 0.9998478624676708, 1.0], \"yaxis\": \"y\"}, {\"hovertemplate\": \"x=%{x}<br>y=%{y}<extra></extra>\", \"legendgroup\": \"\", \"line\": {\"color\": \"rgba(50,50,50,0.2)\", \"dash\": \"solid\"}, \"mode\": \"lines\", \"name\": \"\", \"orientation\": \"v\", \"showlegend\": false, \"type\": \"scatter\", \"x\": [0, 1], \"xaxis\": \"x\", \"y\": [0, 1], \"yaxis\": \"y\"}],                        {\"autosize\": false, \"height\": 800, \"template\": {\"data\": {\"bar\": [{\"error_x\": {\"color\": \"#2a3f5f\"}, \"error_y\": {\"color\": \"#2a3f5f\"}, \"marker\": {\"line\": {\"color\": \"#E5ECF6\", \"width\": 0.5}}, \"type\": \"bar\"}], \"barpolar\": [{\"marker\": {\"line\": {\"color\": \"#E5ECF6\", \"width\": 0.5}}, \"type\": \"barpolar\"}], \"carpet\": [{\"aaxis\": {\"endlinecolor\": \"#2a3f5f\", \"gridcolor\": \"white\", \"linecolor\": \"white\", \"minorgridcolor\": \"white\", \"startlinecolor\": \"#2a3f5f\"}, \"baxis\": {\"endlinecolor\": \"#2a3f5f\", \"gridcolor\": \"white\", \"linecolor\": \"white\", \"minorgridcolor\": \"white\", \"startlinecolor\": \"#2a3f5f\"}, \"type\": \"carpet\"}], \"choropleth\": [{\"colorbar\": {\"outlinewidth\": 0, \"ticks\": \"\"}, \"type\": \"choropleth\"}], \"contour\": [{\"colorbar\": {\"outlinewidth\": 0, \"ticks\": \"\"}, \"colorscale\": [[0.0, \"#0d0887\"], [0.1111111111111111, \"#46039f\"], [0.2222222222222222, \"#7201a8\"], [0.3333333333333333, \"#9c179e\"], [0.4444444444444444, \"#bd3786\"], [0.5555555555555556, \"#d8576b\"], [0.6666666666666666, \"#ed7953\"], [0.7777777777777778, \"#fb9f3a\"], [0.8888888888888888, \"#fdca26\"], [1.0, \"#f0f921\"]], \"type\": \"contour\"}], \"contourcarpet\": [{\"colorbar\": {\"outlinewidth\": 0, \"ticks\": \"\"}, \"type\": \"contourcarpet\"}], \"heatmap\": [{\"colorbar\": {\"outlinewidth\": 0, \"ticks\": \"\"}, \"colorscale\": [[0.0, \"#0d0887\"], [0.1111111111111111, \"#46039f\"], [0.2222222222222222, \"#7201a8\"], [0.3333333333333333, \"#9c179e\"], [0.4444444444444444, \"#bd3786\"], [0.5555555555555556, \"#d8576b\"], [0.6666666666666666, \"#ed7953\"], [0.7777777777777778, \"#fb9f3a\"], [0.8888888888888888, \"#fdca26\"], [1.0, \"#f0f921\"]], \"type\": \"heatmap\"}], \"heatmapgl\": [{\"colorbar\": {\"outlinewidth\": 0, \"ticks\": \"\"}, \"colorscale\": [[0.0, \"#0d0887\"], [0.1111111111111111, \"#46039f\"], [0.2222222222222222, \"#7201a8\"], [0.3333333333333333, \"#9c179e\"], [0.4444444444444444, \"#bd3786\"], [0.5555555555555556, \"#d8576b\"], [0.6666666666666666, \"#ed7953\"], [0.7777777777777778, \"#fb9f3a\"], [0.8888888888888888, \"#fdca26\"], [1.0, \"#f0f921\"]], \"type\": \"heatmapgl\"}], \"histogram\": [{\"marker\": {\"colorbar\": {\"outlinewidth\": 0, \"ticks\": \"\"}}, \"type\": \"histogram\"}], \"histogram2d\": [{\"colorbar\": {\"outlinewidth\": 0, \"ticks\": \"\"}, \"colorscale\": [[0.0, \"#0d0887\"], [0.1111111111111111, \"#46039f\"], [0.2222222222222222, \"#7201a8\"], [0.3333333333333333, \"#9c179e\"], [0.4444444444444444, \"#bd3786\"], [0.5555555555555556, \"#d8576b\"], [0.6666666666666666, \"#ed7953\"], [0.7777777777777778, \"#fb9f3a\"], [0.8888888888888888, \"#fdca26\"], [1.0, \"#f0f921\"]], \"type\": \"histogram2d\"}], \"histogram2dcontour\": [{\"colorbar\": {\"outlinewidth\": 0, \"ticks\": \"\"}, \"colorscale\": [[0.0, \"#0d0887\"], [0.1111111111111111, \"#46039f\"], [0.2222222222222222, \"#7201a8\"], [0.3333333333333333, \"#9c179e\"], [0.4444444444444444, \"#bd3786\"], [0.5555555555555556, \"#d8576b\"], [0.6666666666666666, \"#ed7953\"], [0.7777777777777778, \"#fb9f3a\"], [0.8888888888888888, \"#fdca26\"], [1.0, \"#f0f921\"]], \"type\": \"histogram2dcontour\"}], \"mesh3d\": [{\"colorbar\": {\"outlinewidth\": 0, \"ticks\": \"\"}, \"type\": \"mesh3d\"}], \"parcoords\": [{\"line\": {\"colorbar\": {\"outlinewidth\": 0, \"ticks\": \"\"}}, \"type\": \"parcoords\"}], \"pie\": [{\"automargin\": true, \"type\": \"pie\"}], \"scatter\": [{\"marker\": {\"colorbar\": {\"outlinewidth\": 0, \"ticks\": \"\"}}, \"type\": \"scatter\"}], \"scatter3d\": [{\"line\": {\"colorbar\": {\"outlinewidth\": 0, \"ticks\": \"\"}}, \"marker\": {\"colorbar\": {\"outlinewidth\": 0, \"ticks\": \"\"}}, \"type\": \"scatter3d\"}], \"scattercarpet\": [{\"marker\": {\"colorbar\": {\"outlinewidth\": 0, \"ticks\": \"\"}}, \"type\": \"scattercarpet\"}], \"scattergeo\": [{\"marker\": {\"colorbar\": {\"outlinewidth\": 0, \"ticks\": \"\"}}, \"type\": \"scattergeo\"}], \"scattergl\": [{\"marker\": {\"colorbar\": {\"outlinewidth\": 0, \"ticks\": \"\"}}, \"type\": \"scattergl\"}], \"scattermapbox\": [{\"marker\": {\"colorbar\": {\"outlinewidth\": 0, \"ticks\": \"\"}}, \"type\": \"scattermapbox\"}], \"scatterpolar\": [{\"marker\": {\"colorbar\": {\"outlinewidth\": 0, \"ticks\": \"\"}}, \"type\": \"scatterpolar\"}], \"scatterpolargl\": [{\"marker\": {\"colorbar\": {\"outlinewidth\": 0, \"ticks\": \"\"}}, \"type\": \"scatterpolargl\"}], \"scatterternary\": [{\"marker\": {\"colorbar\": {\"outlinewidth\": 0, \"ticks\": \"\"}}, \"type\": \"scatterternary\"}], \"surface\": [{\"colorbar\": {\"outlinewidth\": 0, \"ticks\": \"\"}, \"colorscale\": [[0.0, \"#0d0887\"], [0.1111111111111111, \"#46039f\"], [0.2222222222222222, \"#7201a8\"], [0.3333333333333333, \"#9c179e\"], [0.4444444444444444, \"#bd3786\"], [0.5555555555555556, \"#d8576b\"], [0.6666666666666666, \"#ed7953\"], [0.7777777777777778, \"#fb9f3a\"], [0.8888888888888888, \"#fdca26\"], [1.0, \"#f0f921\"]], \"type\": \"surface\"}], \"table\": [{\"cells\": {\"fill\": {\"color\": \"#EBF0F8\"}, \"line\": {\"color\": \"white\"}}, \"header\": {\"fill\": {\"color\": \"#C8D4E3\"}, \"line\": {\"color\": \"white\"}}, \"type\": \"table\"}]}, \"layout\": {\"annotationdefaults\": {\"arrowcolor\": \"#2a3f5f\", \"arrowhead\": 0, \"arrowwidth\": 1}, \"autotypenumbers\": \"strict\", \"coloraxis\": {\"colorbar\": {\"outlinewidth\": 0, \"ticks\": \"\"}}, \"colorscale\": {\"diverging\": [[0, \"#8e0152\"], [0.1, \"#c51b7d\"], [0.2, \"#de77ae\"], [0.3, \"#f1b6da\"], [0.4, \"#fde0ef\"], [0.5, \"#f7f7f7\"], [0.6, \"#e6f5d0\"], [0.7, \"#b8e186\"], [0.8, \"#7fbc41\"], [0.9, \"#4d9221\"], [1, \"#276419\"]], \"sequential\": [[0.0, \"#0d0887\"], [0.1111111111111111, \"#46039f\"], [0.2222222222222222, \"#7201a8\"], [0.3333333333333333, \"#9c179e\"], [0.4444444444444444, \"#bd3786\"], [0.5555555555555556, \"#d8576b\"], [0.6666666666666666, \"#ed7953\"], [0.7777777777777778, \"#fb9f3a\"], [0.8888888888888888, \"#fdca26\"], [1.0, \"#f0f921\"]], \"sequentialminus\": [[0.0, \"#0d0887\"], [0.1111111111111111, \"#46039f\"], [0.2222222222222222, \"#7201a8\"], [0.3333333333333333, \"#9c179e\"], [0.4444444444444444, \"#bd3786\"], [0.5555555555555556, \"#d8576b\"], [0.6666666666666666, \"#ed7953\"], [0.7777777777777778, \"#fb9f3a\"], [0.8888888888888888, \"#fdca26\"], [1.0, \"#f0f921\"]]}, \"colorway\": [\"#636efa\", \"#EF553B\", \"#00cc96\", \"#ab63fa\", \"#FFA15A\", \"#19d3f3\", \"#FF6692\", \"#B6E880\", \"#FF97FF\", \"#FECB52\"], \"font\": {\"color\": \"#2a3f5f\"}, \"geo\": {\"bgcolor\": \"white\", \"lakecolor\": \"white\", \"landcolor\": \"#E5ECF6\", \"showlakes\": true, \"showland\": true, \"subunitcolor\": \"white\"}, \"hoverlabel\": {\"align\": \"left\"}, \"hovermode\": \"closest\", \"mapbox\": {\"style\": \"light\"}, \"paper_bgcolor\": \"white\", \"plot_bgcolor\": \"#E5ECF6\", \"polar\": {\"angularaxis\": {\"gridcolor\": \"white\", \"linecolor\": \"white\", \"ticks\": \"\"}, \"bgcolor\": \"#E5ECF6\", \"radialaxis\": {\"gridcolor\": \"white\", \"linecolor\": \"white\", \"ticks\": \"\"}}, \"scene\": {\"xaxis\": {\"backgroundcolor\": \"#E5ECF6\", \"gridcolor\": \"white\", \"gridwidth\": 2, \"linecolor\": \"white\", \"showbackground\": true, \"ticks\": \"\", \"zerolinecolor\": \"white\"}, \"yaxis\": {\"backgroundcolor\": \"#E5ECF6\", \"gridcolor\": \"white\", \"gridwidth\": 2, \"linecolor\": \"white\", \"showbackground\": true, \"ticks\": \"\", \"zerolinecolor\": \"white\"}, \"zaxis\": {\"backgroundcolor\": \"#E5ECF6\", \"gridcolor\": \"white\", \"gridwidth\": 2, \"linecolor\": \"white\", \"showbackground\": true, \"ticks\": \"\", \"zerolinecolor\": \"white\"}}, \"shapedefaults\": {\"line\": {\"color\": \"#2a3f5f\"}}, \"ternary\": {\"aaxis\": {\"gridcolor\": \"white\", \"linecolor\": \"white\", \"ticks\": \"\"}, \"baxis\": {\"gridcolor\": \"white\", \"linecolor\": \"white\", \"ticks\": \"\"}, \"bgcolor\": \"#E5ECF6\", \"caxis\": {\"gridcolor\": \"white\", \"linecolor\": \"white\", \"ticks\": \"\"}}, \"title\": {\"x\": 0.05}, \"xaxis\": {\"automargin\": true, \"gridcolor\": \"white\", \"linecolor\": \"white\", \"ticks\": \"\", \"title\": {\"standoff\": 15}, \"zerolinecolor\": \"white\", \"zerolinewidth\": 2}, \"yaxis\": {\"automargin\": true, \"gridcolor\": \"white\", \"linecolor\": \"white\", \"ticks\": \"\", \"title\": {\"standoff\": 15}, \"zerolinecolor\": \"white\", \"zerolinewidth\": 2}}}, \"title\": {\"text\": \"Validation ROC Curve\"}, \"width\": 800, \"xaxis\": {\"range\": [0, 1], \"title\": {\"text\": \"False Positive Rate (Sensitivty)\"}}, \"yaxis\": {\"range\": [0, 1], \"title\": {\"text\": \"True Positive Rate (1-Precision)\"}}},                        {\"responsive\": true}                    ).then(function(){\n                            \nvar gd = document.getElementById('992e99b9-12e5-479d-811a-afb2bf046bbe');\nvar x = new MutationObserver(function (mutations, observer) {{\n        var display = window.getComputedStyle(gd).display;\n        if (!display || display === 'none') {{\n            console.log([gd, 'removed!']);\n            Plotly.purge(gd);\n            observer.disconnect();\n        }}\n}});\n\n// Listen for the removal of the full notebook cells\nvar notebookContainer = gd.closest('#notebook-container');\nif (notebookContainer) {{\n    x.observe(notebookContainer, {childList: true});\n}}\n\n// Listen for the clearing of the current output cell\nvar outputEl = gd.closest('.output');\nif (outputEl) {{\n    x.observe(outputEl, {childList: true});\n}}\n\n                        })                };                });            </script>        </div>"
     },
     "metadata": {}
    },
    {
     "output_type": "stream",
     "name": "stdout",
     "text": [
      "Validate AUC ROC score: 0.601\n",
      "True Negatives: 22,667\n",
      "False Positives: 1,224\n",
      "False Negatives: 12,066\n",
      "True Positives: 1,247\n",
      "\n",
      "True positive rate: 0.093668\n",
      "False positive rate: 0.051233\n",
      "Confusion matrix:\n",
      " [[22667  1224]\n",
      " [12066  1247]]\n"
     ]
    },
    {
     "output_type": "display_data",
     "data": {
      "text/plain": "<Figure size 432x288 with 2 Axes>",
      "image/svg+xml": "<?xml version=\"1.0\" encoding=\"utf-8\" standalone=\"no\"?>\n<!DOCTYPE svg PUBLIC \"-//W3C//DTD SVG 1.1//EN\"\n  \"http://www.w3.org/Graphics/SVG/1.1/DTD/svg11.dtd\">\n<!-- Created with matplotlib (https://matplotlib.org/) -->\n<svg height=\"277.314375pt\" version=\"1.1\" viewBox=\"0 0 354.791062 277.314375\" width=\"354.791062pt\" xmlns=\"http://www.w3.org/2000/svg\" xmlns:xlink=\"http://www.w3.org/1999/xlink\">\n <metadata>\n  <rdf:RDF xmlns:cc=\"http://creativecommons.org/ns#\" xmlns:dc=\"http://purl.org/dc/elements/1.1/\" xmlns:rdf=\"http://www.w3.org/1999/02/22-rdf-syntax-ns#\">\n   <cc:Work>\n    <dc:type rdf:resource=\"http://purl.org/dc/dcmitype/StillImage\"/>\n    <dc:date>2021-04-23T11:52:07.376337</dc:date>\n    <dc:format>image/svg+xml</dc:format>\n    <dc:creator>\n     <cc:Agent>\n      <dc:title>Matplotlib v3.3.4, https://matplotlib.org/</dc:title>\n     </cc:Agent>\n    </dc:creator>\n   </cc:Work>\n  </rdf:RDF>\n </metadata>\n <defs>\n  <style type=\"text/css\">*{stroke-linecap:butt;stroke-linejoin:round;}</style>\n </defs>\n <g id=\"figure_1\">\n  <g id=\"patch_1\">\n   <path d=\"M 0 277.314375 \nL 354.791062 277.314375 \nL 354.791062 0 \nL 0 0 \nz\n\" style=\"fill:none;\"/>\n  </g>\n  <g id=\"axes_1\">\n   <g id=\"patch_2\">\n    <path d=\"M 63.726563 256.43625 \nL 281.166562 256.43625 \nL 281.166562 38.99625 \nL 63.726563 38.99625 \nz\n\" style=\"fill:#ffffff;\"/>\n   </g>\n   <g clip-path=\"url(#p2d6d0ec58c)\">\n    <image height=\"218\" id=\"imagec96c52eeef\" transform=\"scale(1 -1)translate(0 -218)\" width=\"218\" x=\"63.726563\" xlink:href=\"data:image/png;base64,\niVBORw0KGgoAAAANSUhEUgAAANoAAADaCAYAAADAHVzbAAACm0lEQVR4nO3VMRHCUAAFQUKFFiqcoCODl1TIwAk1OpCQaPjN/WHYVfCam7esr89+4qds9+vsCQw6zx4A/0BoEBAaBIQGAaFBQGgQEBoEhAYBoUFAaBAQGgSEBgGhQUBoEBAaBIQGAaFBQGgQEBoEhAYBoUFAaBAQGgSEBgGhQUBoEBAaBIQGAaFBQGgQEBoEhAYBoUFAaBAQGgSEBgGhQUBoEBAaBIQGAaFBQGgQEBoEhAYBoUFAaBAQGgSEBgGhQUBoEBAaBIQGAaFBQGgQEBoEhAYBoUFAaBAQGgSEBgGhQUBoEBAaBIQGAaFBQGgQEBoEhAYBoUFAaBAQGgSEBgGhQUBoEBAaBIQGAaFBQGgQEBoEhAYBoUFAaBAQGgSEBgGhQUBoEBAaBIQGAaFBQGgQEBoEhAYBoUFAaBAQGgSEBgGhQUBoEBAaBIQGAaFBQGgQEBoEhAYBoUFAaBAQGgSEBoHlcnvss0cw5vt+zp7AII8GAaFBQGgQEBoEhAYBoUFAaBAQGgSEBgGhQUBoEBAaBIQGAaFBQGgQEBoEhAYBoUFAaBAQGgSEBgGhQUBoEBAaBIQGAaFBQGgQEBoEhAYBoUFAaBAQGgSEBgGhQUBoEBAaBIQGAaFBQGgQEBoEhAYBoUFAaBAQGgSEBgGhQUBoEBAaBIQGAaFBQGgQEBoEhAYBoUFAaBAQGgSEBgGhQUBoEBAaBIQGAaFBQGgQEBoEhAYBoUFAaBAQGgSEBgGhQUBoEBAaBIQGAaFBQGgQEBoEhAYBoUFAaBAQGgSEBgGhQUBoEBAaBIQGAaFBQGgQEBoEhAYBoUFAaBAQGgSEBgGhQUBoEBAaBIQGAaFBQGgQEBoEhAYBoUFAaBAQGgSEBgGhQUBoEBAaBA6znQmTxe42iQAAAABJRU5ErkJggg==\" y=\"-38.43625\"/>\n   </g>\n   <g id=\"matplotlib.axis_1\">\n    <g id=\"xtick_1\">\n     <g id=\"line2d_1\">\n      <defs>\n       <path d=\"M 0 0 \nL 0 3.5 \n\" id=\"md4d2ee6163\" style=\"stroke:#000000;stroke-width:0.8;\"/>\n      </defs>\n      <g>\n       <use style=\"stroke:#000000;stroke-width:0.8;\" x=\"118.086563\" xlink:href=\"#md4d2ee6163\" y=\"256.43625\"/>\n      </g>\n     </g>\n     <g id=\"line2d_2\">\n      <defs>\n       <path d=\"M 0 0 \nL 0 -3.5 \n\" id=\"mc30ed64087\" style=\"stroke:#000000;stroke-width:0.8;\"/>\n      </defs>\n      <g>\n       <use style=\"stroke:#000000;stroke-width:0.8;\" x=\"118.086563\" xlink:href=\"#mc30ed64087\" y=\"38.99625\"/>\n      </g>\n     </g>\n     <g id=\"text_1\">\n      <!-- Class 0 -->\n      <g transform=\"translate(100.162344 29.916562)scale(0.1 -0.1)\">\n       <defs>\n        <path d=\"M 64.40625 67.28125 \nL 64.40625 56.890625 \nQ 59.421875 61.53125 53.78125 63.8125 \nQ 48.140625 66.109375 41.796875 66.109375 \nQ 29.296875 66.109375 22.65625 58.46875 \nQ 16.015625 50.828125 16.015625 36.375 \nQ 16.015625 21.96875 22.65625 14.328125 \nQ 29.296875 6.6875 41.796875 6.6875 \nQ 48.140625 6.6875 53.78125 8.984375 \nQ 59.421875 11.28125 64.40625 15.921875 \nL 64.40625 5.609375 \nQ 59.234375 2.09375 53.4375 0.328125 \nQ 47.65625 -1.421875 41.21875 -1.421875 \nQ 24.65625 -1.421875 15.125 8.703125 \nQ 5.609375 18.84375 5.609375 36.375 \nQ 5.609375 53.953125 15.125 64.078125 \nQ 24.65625 74.21875 41.21875 74.21875 \nQ 47.75 74.21875 53.53125 72.484375 \nQ 59.328125 70.75 64.40625 67.28125 \nz\n\" id=\"DejaVuSans-67\"/>\n        <path d=\"M 9.421875 75.984375 \nL 18.40625 75.984375 \nL 18.40625 0 \nL 9.421875 0 \nz\n\" id=\"DejaVuSans-108\"/>\n        <path d=\"M 34.28125 27.484375 \nQ 23.390625 27.484375 19.1875 25 \nQ 14.984375 22.515625 14.984375 16.5 \nQ 14.984375 11.71875 18.140625 8.90625 \nQ 21.296875 6.109375 26.703125 6.109375 \nQ 34.1875 6.109375 38.703125 11.40625 \nQ 43.21875 16.703125 43.21875 25.484375 \nL 43.21875 27.484375 \nz\nM 52.203125 31.203125 \nL 52.203125 0 \nL 43.21875 0 \nL 43.21875 8.296875 \nQ 40.140625 3.328125 35.546875 0.953125 \nQ 30.953125 -1.421875 24.3125 -1.421875 \nQ 15.921875 -1.421875 10.953125 3.296875 \nQ 6 8.015625 6 15.921875 \nQ 6 25.140625 12.171875 29.828125 \nQ 18.359375 34.515625 30.609375 34.515625 \nL 43.21875 34.515625 \nL 43.21875 35.40625 \nQ 43.21875 41.609375 39.140625 45 \nQ 35.0625 48.390625 27.6875 48.390625 \nQ 23 48.390625 18.546875 47.265625 \nQ 14.109375 46.140625 10.015625 43.890625 \nL 10.015625 52.203125 \nQ 14.9375 54.109375 19.578125 55.046875 \nQ 24.21875 56 28.609375 56 \nQ 40.484375 56 46.34375 49.84375 \nQ 52.203125 43.703125 52.203125 31.203125 \nz\n\" id=\"DejaVuSans-97\"/>\n        <path d=\"M 44.28125 53.078125 \nL 44.28125 44.578125 \nQ 40.484375 46.53125 36.375 47.5 \nQ 32.28125 48.484375 27.875 48.484375 \nQ 21.1875 48.484375 17.84375 46.4375 \nQ 14.5 44.390625 14.5 40.28125 \nQ 14.5 37.15625 16.890625 35.375 \nQ 19.28125 33.59375 26.515625 31.984375 \nL 29.59375 31.296875 \nQ 39.15625 29.25 43.1875 25.515625 \nQ 47.21875 21.78125 47.21875 15.09375 \nQ 47.21875 7.46875 41.1875 3.015625 \nQ 35.15625 -1.421875 24.609375 -1.421875 \nQ 20.21875 -1.421875 15.453125 -0.5625 \nQ 10.6875 0.296875 5.421875 2 \nL 5.421875 11.28125 \nQ 10.40625 8.6875 15.234375 7.390625 \nQ 20.0625 6.109375 24.8125 6.109375 \nQ 31.15625 6.109375 34.5625 8.28125 \nQ 37.984375 10.453125 37.984375 14.40625 \nQ 37.984375 18.0625 35.515625 20.015625 \nQ 33.0625 21.96875 24.703125 23.78125 \nL 21.578125 24.515625 \nQ 13.234375 26.265625 9.515625 29.90625 \nQ 5.8125 33.546875 5.8125 39.890625 \nQ 5.8125 47.609375 11.28125 51.796875 \nQ 16.75 56 26.8125 56 \nQ 31.78125 56 36.171875 55.265625 \nQ 40.578125 54.546875 44.28125 53.078125 \nz\n\" id=\"DejaVuSans-115\"/>\n        <path id=\"DejaVuSans-32\"/>\n        <path d=\"M 31.78125 66.40625 \nQ 24.171875 66.40625 20.328125 58.90625 \nQ 16.5 51.421875 16.5 36.375 \nQ 16.5 21.390625 20.328125 13.890625 \nQ 24.171875 6.390625 31.78125 6.390625 \nQ 39.453125 6.390625 43.28125 13.890625 \nQ 47.125 21.390625 47.125 36.375 \nQ 47.125 51.421875 43.28125 58.90625 \nQ 39.453125 66.40625 31.78125 66.40625 \nz\nM 31.78125 74.21875 \nQ 44.046875 74.21875 50.515625 64.515625 \nQ 56.984375 54.828125 56.984375 36.375 \nQ 56.984375 17.96875 50.515625 8.265625 \nQ 44.046875 -1.421875 31.78125 -1.421875 \nQ 19.53125 -1.421875 13.0625 8.265625 \nQ 6.59375 17.96875 6.59375 36.375 \nQ 6.59375 54.828125 13.0625 64.515625 \nQ 19.53125 74.21875 31.78125 74.21875 \nz\n\" id=\"DejaVuSans-48\"/>\n       </defs>\n       <use xlink:href=\"#DejaVuSans-67\"/>\n       <use x=\"69.824219\" xlink:href=\"#DejaVuSans-108\"/>\n       <use x=\"97.607422\" xlink:href=\"#DejaVuSans-97\"/>\n       <use x=\"158.886719\" xlink:href=\"#DejaVuSans-115\"/>\n       <use x=\"210.986328\" xlink:href=\"#DejaVuSans-115\"/>\n       <use x=\"263.085938\" xlink:href=\"#DejaVuSans-32\"/>\n       <use x=\"294.873047\" xlink:href=\"#DejaVuSans-48\"/>\n      </g>\n     </g>\n    </g>\n    <g id=\"xtick_2\">\n     <g id=\"line2d_3\">\n      <g>\n       <use style=\"stroke:#000000;stroke-width:0.8;\" x=\"226.806563\" xlink:href=\"#md4d2ee6163\" y=\"256.43625\"/>\n      </g>\n     </g>\n     <g id=\"line2d_4\">\n      <g>\n       <use style=\"stroke:#000000;stroke-width:0.8;\" x=\"226.806563\" xlink:href=\"#mc30ed64087\" y=\"38.99625\"/>\n      </g>\n     </g>\n     <g id=\"text_2\">\n      <!-- Class 1 -->\n      <g transform=\"translate(208.882344 29.916562)scale(0.1 -0.1)\">\n       <defs>\n        <path d=\"M 12.40625 8.296875 \nL 28.515625 8.296875 \nL 28.515625 63.921875 \nL 10.984375 60.40625 \nL 10.984375 69.390625 \nL 28.421875 72.90625 \nL 38.28125 72.90625 \nL 38.28125 8.296875 \nL 54.390625 8.296875 \nL 54.390625 0 \nL 12.40625 0 \nz\n\" id=\"DejaVuSans-49\"/>\n       </defs>\n       <use xlink:href=\"#DejaVuSans-67\"/>\n       <use x=\"69.824219\" xlink:href=\"#DejaVuSans-108\"/>\n       <use x=\"97.607422\" xlink:href=\"#DejaVuSans-97\"/>\n       <use x=\"158.886719\" xlink:href=\"#DejaVuSans-115\"/>\n       <use x=\"210.986328\" xlink:href=\"#DejaVuSans-115\"/>\n       <use x=\"263.085938\" xlink:href=\"#DejaVuSans-32\"/>\n       <use x=\"294.873047\" xlink:href=\"#DejaVuSans-49\"/>\n      </g>\n     </g>\n    </g>\n    <g id=\"text_3\">\n     <!-- Predicted -->\n     <g transform=\"translate(148.97625 268.034687)scale(0.1 -0.1)\">\n      <defs>\n       <path d=\"M 19.671875 64.796875 \nL 19.671875 37.40625 \nL 32.078125 37.40625 \nQ 38.96875 37.40625 42.71875 40.96875 \nQ 46.484375 44.53125 46.484375 51.125 \nQ 46.484375 57.671875 42.71875 61.234375 \nQ 38.96875 64.796875 32.078125 64.796875 \nz\nM 9.8125 72.90625 \nL 32.078125 72.90625 \nQ 44.34375 72.90625 50.609375 67.359375 \nQ 56.890625 61.8125 56.890625 51.125 \nQ 56.890625 40.328125 50.609375 34.8125 \nQ 44.34375 29.296875 32.078125 29.296875 \nL 19.671875 29.296875 \nL 19.671875 0 \nL 9.8125 0 \nz\n\" id=\"DejaVuSans-80\"/>\n       <path d=\"M 41.109375 46.296875 \nQ 39.59375 47.171875 37.8125 47.578125 \nQ 36.03125 48 33.890625 48 \nQ 26.265625 48 22.1875 43.046875 \nQ 18.109375 38.09375 18.109375 28.8125 \nL 18.109375 0 \nL 9.078125 0 \nL 9.078125 54.6875 \nL 18.109375 54.6875 \nL 18.109375 46.1875 \nQ 20.953125 51.171875 25.484375 53.578125 \nQ 30.03125 56 36.53125 56 \nQ 37.453125 56 38.578125 55.875 \nQ 39.703125 55.765625 41.0625 55.515625 \nz\n\" id=\"DejaVuSans-114\"/>\n       <path d=\"M 56.203125 29.59375 \nL 56.203125 25.203125 \nL 14.890625 25.203125 \nQ 15.484375 15.921875 20.484375 11.0625 \nQ 25.484375 6.203125 34.421875 6.203125 \nQ 39.59375 6.203125 44.453125 7.46875 \nQ 49.3125 8.734375 54.109375 11.28125 \nL 54.109375 2.78125 \nQ 49.265625 0.734375 44.1875 -0.34375 \nQ 39.109375 -1.421875 33.890625 -1.421875 \nQ 20.796875 -1.421875 13.15625 6.1875 \nQ 5.515625 13.8125 5.515625 26.8125 \nQ 5.515625 40.234375 12.765625 48.109375 \nQ 20.015625 56 32.328125 56 \nQ 43.359375 56 49.78125 48.890625 \nQ 56.203125 41.796875 56.203125 29.59375 \nz\nM 47.21875 32.234375 \nQ 47.125 39.59375 43.09375 43.984375 \nQ 39.0625 48.390625 32.421875 48.390625 \nQ 24.90625 48.390625 20.390625 44.140625 \nQ 15.875 39.890625 15.1875 32.171875 \nz\n\" id=\"DejaVuSans-101\"/>\n       <path d=\"M 45.40625 46.390625 \nL 45.40625 75.984375 \nL 54.390625 75.984375 \nL 54.390625 0 \nL 45.40625 0 \nL 45.40625 8.203125 \nQ 42.578125 3.328125 38.25 0.953125 \nQ 33.9375 -1.421875 27.875 -1.421875 \nQ 17.96875 -1.421875 11.734375 6.484375 \nQ 5.515625 14.40625 5.515625 27.296875 \nQ 5.515625 40.1875 11.734375 48.09375 \nQ 17.96875 56 27.875 56 \nQ 33.9375 56 38.25 53.625 \nQ 42.578125 51.265625 45.40625 46.390625 \nz\nM 14.796875 27.296875 \nQ 14.796875 17.390625 18.875 11.75 \nQ 22.953125 6.109375 30.078125 6.109375 \nQ 37.203125 6.109375 41.296875 11.75 \nQ 45.40625 17.390625 45.40625 27.296875 \nQ 45.40625 37.203125 41.296875 42.84375 \nQ 37.203125 48.484375 30.078125 48.484375 \nQ 22.953125 48.484375 18.875 42.84375 \nQ 14.796875 37.203125 14.796875 27.296875 \nz\n\" id=\"DejaVuSans-100\"/>\n       <path d=\"M 9.421875 54.6875 \nL 18.40625 54.6875 \nL 18.40625 0 \nL 9.421875 0 \nz\nM 9.421875 75.984375 \nL 18.40625 75.984375 \nL 18.40625 64.59375 \nL 9.421875 64.59375 \nz\n\" id=\"DejaVuSans-105\"/>\n       <path d=\"M 48.78125 52.59375 \nL 48.78125 44.1875 \nQ 44.96875 46.296875 41.140625 47.34375 \nQ 37.3125 48.390625 33.40625 48.390625 \nQ 24.65625 48.390625 19.8125 42.84375 \nQ 14.984375 37.3125 14.984375 27.296875 \nQ 14.984375 17.28125 19.8125 11.734375 \nQ 24.65625 6.203125 33.40625 6.203125 \nQ 37.3125 6.203125 41.140625 7.25 \nQ 44.96875 8.296875 48.78125 10.40625 \nL 48.78125 2.09375 \nQ 45.015625 0.34375 40.984375 -0.53125 \nQ 36.96875 -1.421875 32.421875 -1.421875 \nQ 20.0625 -1.421875 12.78125 6.34375 \nQ 5.515625 14.109375 5.515625 27.296875 \nQ 5.515625 40.671875 12.859375 48.328125 \nQ 20.21875 56 33.015625 56 \nQ 37.15625 56 41.109375 55.140625 \nQ 45.0625 54.296875 48.78125 52.59375 \nz\n\" id=\"DejaVuSans-99\"/>\n       <path d=\"M 18.3125 70.21875 \nL 18.3125 54.6875 \nL 36.8125 54.6875 \nL 36.8125 47.703125 \nL 18.3125 47.703125 \nL 18.3125 18.015625 \nQ 18.3125 11.328125 20.140625 9.421875 \nQ 21.96875 7.515625 27.59375 7.515625 \nL 36.8125 7.515625 \nL 36.8125 0 \nL 27.59375 0 \nQ 17.1875 0 13.234375 3.875 \nQ 9.28125 7.765625 9.28125 18.015625 \nL 9.28125 47.703125 \nL 2.6875 47.703125 \nL 2.6875 54.6875 \nL 9.28125 54.6875 \nL 9.28125 70.21875 \nz\n\" id=\"DejaVuSans-116\"/>\n      </defs>\n      <use xlink:href=\"#DejaVuSans-80\"/>\n      <use x=\"58.552734\" xlink:href=\"#DejaVuSans-114\"/>\n      <use x=\"97.416016\" xlink:href=\"#DejaVuSans-101\"/>\n      <use x=\"158.939453\" xlink:href=\"#DejaVuSans-100\"/>\n      <use x=\"222.416016\" xlink:href=\"#DejaVuSans-105\"/>\n      <use x=\"250.199219\" xlink:href=\"#DejaVuSans-99\"/>\n      <use x=\"305.179688\" xlink:href=\"#DejaVuSans-116\"/>\n      <use x=\"344.388672\" xlink:href=\"#DejaVuSans-101\"/>\n      <use x=\"405.912109\" xlink:href=\"#DejaVuSans-100\"/>\n     </g>\n    </g>\n   </g>\n   <g id=\"matplotlib.axis_2\">\n    <g id=\"ytick_1\">\n     <g id=\"line2d_5\">\n      <defs>\n       <path d=\"M 0 0 \nL -3.5 0 \n\" id=\"m91b1cc3d83\" style=\"stroke:#000000;stroke-width:0.8;\"/>\n      </defs>\n      <g>\n       <use style=\"stroke:#000000;stroke-width:0.8;\" x=\"63.726563\" xlink:href=\"#m91b1cc3d83\" y=\"93.35625\"/>\n      </g>\n     </g>\n     <g id=\"text_4\">\n      <!-- Class 0 -->\n      <g transform=\"translate(20.878125 97.155469)scale(0.1 -0.1)\">\n       <use xlink:href=\"#DejaVuSans-67\"/>\n       <use x=\"69.824219\" xlink:href=\"#DejaVuSans-108\"/>\n       <use x=\"97.607422\" xlink:href=\"#DejaVuSans-97\"/>\n       <use x=\"158.886719\" xlink:href=\"#DejaVuSans-115\"/>\n       <use x=\"210.986328\" xlink:href=\"#DejaVuSans-115\"/>\n       <use x=\"263.085938\" xlink:href=\"#DejaVuSans-32\"/>\n       <use x=\"294.873047\" xlink:href=\"#DejaVuSans-48\"/>\n      </g>\n     </g>\n    </g>\n    <g id=\"ytick_2\">\n     <g id=\"line2d_6\">\n      <g>\n       <use style=\"stroke:#000000;stroke-width:0.8;\" x=\"63.726563\" xlink:href=\"#m91b1cc3d83\" y=\"202.07625\"/>\n      </g>\n     </g>\n     <g id=\"text_5\">\n      <!-- Class 1 -->\n      <g transform=\"translate(20.878125 205.875469)scale(0.1 -0.1)\">\n       <use xlink:href=\"#DejaVuSans-67\"/>\n       <use x=\"69.824219\" xlink:href=\"#DejaVuSans-108\"/>\n       <use x=\"97.607422\" xlink:href=\"#DejaVuSans-97\"/>\n       <use x=\"158.886719\" xlink:href=\"#DejaVuSans-115\"/>\n       <use x=\"210.986328\" xlink:href=\"#DejaVuSans-115\"/>\n       <use x=\"263.085938\" xlink:href=\"#DejaVuSans-32\"/>\n       <use x=\"294.873047\" xlink:href=\"#DejaVuSans-49\"/>\n      </g>\n     </g>\n    </g>\n    <g id=\"text_6\">\n     <!-- Expected -->\n     <g transform=\"translate(14.798438 171.045937)rotate(-90)scale(0.1 -0.1)\">\n      <defs>\n       <path d=\"M 9.8125 72.90625 \nL 55.90625 72.90625 \nL 55.90625 64.59375 \nL 19.671875 64.59375 \nL 19.671875 43.015625 \nL 54.390625 43.015625 \nL 54.390625 34.71875 \nL 19.671875 34.71875 \nL 19.671875 8.296875 \nL 56.78125 8.296875 \nL 56.78125 0 \nL 9.8125 0 \nz\n\" id=\"DejaVuSans-69\"/>\n       <path d=\"M 54.890625 54.6875 \nL 35.109375 28.078125 \nL 55.90625 0 \nL 45.3125 0 \nL 29.390625 21.484375 \nL 13.484375 0 \nL 2.875 0 \nL 24.125 28.609375 \nL 4.6875 54.6875 \nL 15.28125 54.6875 \nL 29.78125 35.203125 \nL 44.28125 54.6875 \nz\n\" id=\"DejaVuSans-120\"/>\n       <path d=\"M 18.109375 8.203125 \nL 18.109375 -20.796875 \nL 9.078125 -20.796875 \nL 9.078125 54.6875 \nL 18.109375 54.6875 \nL 18.109375 46.390625 \nQ 20.953125 51.265625 25.265625 53.625 \nQ 29.59375 56 35.59375 56 \nQ 45.5625 56 51.78125 48.09375 \nQ 58.015625 40.1875 58.015625 27.296875 \nQ 58.015625 14.40625 51.78125 6.484375 \nQ 45.5625 -1.421875 35.59375 -1.421875 \nQ 29.59375 -1.421875 25.265625 0.953125 \nQ 20.953125 3.328125 18.109375 8.203125 \nz\nM 48.6875 27.296875 \nQ 48.6875 37.203125 44.609375 42.84375 \nQ 40.53125 48.484375 33.40625 48.484375 \nQ 26.265625 48.484375 22.1875 42.84375 \nQ 18.109375 37.203125 18.109375 27.296875 \nQ 18.109375 17.390625 22.1875 11.75 \nQ 26.265625 6.109375 33.40625 6.109375 \nQ 40.53125 6.109375 44.609375 11.75 \nQ 48.6875 17.390625 48.6875 27.296875 \nz\n\" id=\"DejaVuSans-112\"/>\n      </defs>\n      <use xlink:href=\"#DejaVuSans-69\"/>\n      <use x=\"63.183594\" xlink:href=\"#DejaVuSans-120\"/>\n      <use x=\"122.363281\" xlink:href=\"#DejaVuSans-112\"/>\n      <use x=\"185.839844\" xlink:href=\"#DejaVuSans-101\"/>\n      <use x=\"247.363281\" xlink:href=\"#DejaVuSans-99\"/>\n      <use x=\"302.34375\" xlink:href=\"#DejaVuSans-116\"/>\n      <use x=\"341.552734\" xlink:href=\"#DejaVuSans-101\"/>\n      <use x=\"403.076172\" xlink:href=\"#DejaVuSans-100\"/>\n     </g>\n    </g>\n   </g>\n   <g id=\"patch_3\">\n    <path d=\"M 63.726563 256.43625 \nL 63.726563 38.99625 \n\" style=\"fill:none;stroke:#000000;stroke-linecap:square;stroke-linejoin:miter;stroke-width:0.8;\"/>\n   </g>\n   <g id=\"patch_4\">\n    <path d=\"M 281.166562 256.43625 \nL 281.166562 38.99625 \n\" style=\"fill:none;stroke:#000000;stroke-linecap:square;stroke-linejoin:miter;stroke-width:0.8;\"/>\n   </g>\n   <g id=\"patch_5\">\n    <path d=\"M 63.726563 256.43625 \nL 281.166562 256.43625 \n\" style=\"fill:none;stroke:#000000;stroke-linecap:square;stroke-linejoin:miter;stroke-width:0.8;\"/>\n   </g>\n   <g id=\"patch_6\">\n    <path d=\"M 63.726563 38.99625 \nL 281.166562 38.99625 \n\" style=\"fill:none;stroke:#000000;stroke-linecap:square;stroke-linejoin:miter;stroke-width:0.8;\"/>\n   </g>\n   <g id=\"text_7\">\n    <!-- Confusion Matrix -->\n    <g transform=\"translate(121.804688 16.318125)scale(0.12 -0.12)\">\n     <defs>\n      <path d=\"M 30.609375 48.390625 \nQ 23.390625 48.390625 19.1875 42.75 \nQ 14.984375 37.109375 14.984375 27.296875 \nQ 14.984375 17.484375 19.15625 11.84375 \nQ 23.34375 6.203125 30.609375 6.203125 \nQ 37.796875 6.203125 41.984375 11.859375 \nQ 46.1875 17.53125 46.1875 27.296875 \nQ 46.1875 37.015625 41.984375 42.703125 \nQ 37.796875 48.390625 30.609375 48.390625 \nz\nM 30.609375 56 \nQ 42.328125 56 49.015625 48.375 \nQ 55.71875 40.765625 55.71875 27.296875 \nQ 55.71875 13.875 49.015625 6.21875 \nQ 42.328125 -1.421875 30.609375 -1.421875 \nQ 18.84375 -1.421875 12.171875 6.21875 \nQ 5.515625 13.875 5.515625 27.296875 \nQ 5.515625 40.765625 12.171875 48.375 \nQ 18.84375 56 30.609375 56 \nz\n\" id=\"DejaVuSans-111\"/>\n      <path d=\"M 54.890625 33.015625 \nL 54.890625 0 \nL 45.90625 0 \nL 45.90625 32.71875 \nQ 45.90625 40.484375 42.875 44.328125 \nQ 39.84375 48.1875 33.796875 48.1875 \nQ 26.515625 48.1875 22.3125 43.546875 \nQ 18.109375 38.921875 18.109375 30.90625 \nL 18.109375 0 \nL 9.078125 0 \nL 9.078125 54.6875 \nL 18.109375 54.6875 \nL 18.109375 46.1875 \nQ 21.34375 51.125 25.703125 53.5625 \nQ 30.078125 56 35.796875 56 \nQ 45.21875 56 50.046875 50.171875 \nQ 54.890625 44.34375 54.890625 33.015625 \nz\n\" id=\"DejaVuSans-110\"/>\n      <path d=\"M 37.109375 75.984375 \nL 37.109375 68.5 \nL 28.515625 68.5 \nQ 23.6875 68.5 21.796875 66.546875 \nQ 19.921875 64.59375 19.921875 59.515625 \nL 19.921875 54.6875 \nL 34.71875 54.6875 \nL 34.71875 47.703125 \nL 19.921875 47.703125 \nL 19.921875 0 \nL 10.890625 0 \nL 10.890625 47.703125 \nL 2.296875 47.703125 \nL 2.296875 54.6875 \nL 10.890625 54.6875 \nL 10.890625 58.5 \nQ 10.890625 67.625 15.140625 71.796875 \nQ 19.390625 75.984375 28.609375 75.984375 \nz\n\" id=\"DejaVuSans-102\"/>\n      <path d=\"M 8.5 21.578125 \nL 8.5 54.6875 \nL 17.484375 54.6875 \nL 17.484375 21.921875 \nQ 17.484375 14.15625 20.5 10.265625 \nQ 23.53125 6.390625 29.59375 6.390625 \nQ 36.859375 6.390625 41.078125 11.03125 \nQ 45.3125 15.671875 45.3125 23.6875 \nL 45.3125 54.6875 \nL 54.296875 54.6875 \nL 54.296875 0 \nL 45.3125 0 \nL 45.3125 8.40625 \nQ 42.046875 3.421875 37.71875 1 \nQ 33.40625 -1.421875 27.6875 -1.421875 \nQ 18.265625 -1.421875 13.375 4.4375 \nQ 8.5 10.296875 8.5 21.578125 \nz\nM 31.109375 56 \nz\n\" id=\"DejaVuSans-117\"/>\n      <path d=\"M 9.8125 72.90625 \nL 24.515625 72.90625 \nL 43.109375 23.296875 \nL 61.8125 72.90625 \nL 76.515625 72.90625 \nL 76.515625 0 \nL 66.890625 0 \nL 66.890625 64.015625 \nL 48.09375 14.015625 \nL 38.1875 14.015625 \nL 19.390625 64.015625 \nL 19.390625 0 \nL 9.8125 0 \nz\n\" id=\"DejaVuSans-77\"/>\n     </defs>\n     <use xlink:href=\"#DejaVuSans-67\"/>\n     <use x=\"69.824219\" xlink:href=\"#DejaVuSans-111\"/>\n     <use x=\"131.005859\" xlink:href=\"#DejaVuSans-110\"/>\n     <use x=\"194.384766\" xlink:href=\"#DejaVuSans-102\"/>\n     <use x=\"229.589844\" xlink:href=\"#DejaVuSans-117\"/>\n     <use x=\"292.96875\" xlink:href=\"#DejaVuSans-115\"/>\n     <use x=\"345.068359\" xlink:href=\"#DejaVuSans-105\"/>\n     <use x=\"372.851562\" xlink:href=\"#DejaVuSans-111\"/>\n     <use x=\"434.033203\" xlink:href=\"#DejaVuSans-110\"/>\n     <use x=\"497.412109\" xlink:href=\"#DejaVuSans-32\"/>\n     <use x=\"529.199219\" xlink:href=\"#DejaVuSans-77\"/>\n     <use x=\"615.478516\" xlink:href=\"#DejaVuSans-97\"/>\n     <use x=\"676.757812\" xlink:href=\"#DejaVuSans-116\"/>\n     <use x=\"715.966797\" xlink:href=\"#DejaVuSans-114\"/>\n     <use x=\"757.080078\" xlink:href=\"#DejaVuSans-105\"/>\n     <use x=\"784.863281\" xlink:href=\"#DejaVuSans-120\"/>\n    </g>\n   </g>\n  </g>\n  <g id=\"axes_2\">\n   <g id=\"patch_7\">\n    <path clip-path=\"url(#p506bb1e921)\" d=\"M 297.906563 256.43625 \nL 297.906563 255.586875 \nL 297.906563 39.845625 \nL 297.906563 38.99625 \nL 308.778563 38.99625 \nL 308.778563 39.845625 \nL 308.778563 255.586875 \nL 308.778563 256.43625 \nz\n\" style=\"fill:#ffffff;stroke:#ffffff;stroke-linejoin:miter;stroke-width:0.01;\"/>\n   </g>\n   <image height=\"217\" id=\"image8cc38f69df\" transform=\"scale(1 -1)translate(0 -217)\" width=\"11\" x=\"298\" xlink:href=\"data:image/png;base64,\niVBORw0KGgoAAAANSUhEUgAAAAsAAADZCAYAAAD2WsoCAAABG0lEQVR4nO2YMQ5DIQxDqcT9j9uh+oSu7cYbnmQQna3IcRyH39f7M2db/PXZlrGtA2zrANt6rVM2aQAWUDpWOYTGOhYPBXAuUtmj4Uk3iflNGqiytbBo3CHxlbKwG0p3fPJf8/+Difk9GhnSDTH5rQvrxRdTIyNFi+lscUY0Ql4ycNwWjdIqm+YHlU01AHiAlGGbwuIrY60eogbjrJ1jVBmBvTsYYiRm/vXC6k3RjPSADvcMc7bdEeYXD72WdV58ed8pW3rDM7/4jI/wRoj5QypXrSd0CmdmpDvuHzBUIyIYxVfBOLxBtN3sXzXRGxo4w/whOp/vjYxxh3gDHvoIzoxGDQBmDaJN8SoT8PlqeN5AOt9x51X2xm01+AXeLt0TcCgzLwAAAABJRU5ErkJggg==\" y=\"-39\"/>\n   <g id=\"matplotlib.axis_3\"/>\n   <g id=\"matplotlib.axis_4\">\n    <g id=\"ytick_3\">\n     <g id=\"line2d_7\">\n      <defs>\n       <path d=\"M 0 0 \nL 3.5 0 \n\" id=\"m98793a1291\" style=\"stroke:#000000;stroke-width:0.8;\"/>\n      </defs>\n      <g>\n       <use style=\"stroke:#000000;stroke-width:0.8;\" x=\"308.778563\" xlink:href=\"#m98793a1291\" y=\"243.497135\"/>\n      </g>\n     </g>\n     <g id=\"text_8\">\n      <!-- 2500 -->\n      <g transform=\"translate(315.778563 247.296354)scale(0.1 -0.1)\">\n       <defs>\n        <path d=\"M 19.1875 8.296875 \nL 53.609375 8.296875 \nL 53.609375 0 \nL 7.328125 0 \nL 7.328125 8.296875 \nQ 12.9375 14.109375 22.625 23.890625 \nQ 32.328125 33.6875 34.8125 36.53125 \nQ 39.546875 41.84375 41.421875 45.53125 \nQ 43.3125 49.21875 43.3125 52.78125 \nQ 43.3125 58.59375 39.234375 62.25 \nQ 35.15625 65.921875 28.609375 65.921875 \nQ 23.96875 65.921875 18.8125 64.3125 \nQ 13.671875 62.703125 7.8125 59.421875 \nL 7.8125 69.390625 \nQ 13.765625 71.78125 18.9375 73 \nQ 24.125 74.21875 28.421875 74.21875 \nQ 39.75 74.21875 46.484375 68.546875 \nQ 53.21875 62.890625 53.21875 53.421875 \nQ 53.21875 48.921875 51.53125 44.890625 \nQ 49.859375 40.875 45.40625 35.40625 \nQ 44.1875 33.984375 37.640625 27.21875 \nQ 31.109375 20.453125 19.1875 8.296875 \nz\n\" id=\"DejaVuSans-50\"/>\n        <path d=\"M 10.796875 72.90625 \nL 49.515625 72.90625 \nL 49.515625 64.59375 \nL 19.828125 64.59375 \nL 19.828125 46.734375 \nQ 21.96875 47.46875 24.109375 47.828125 \nQ 26.265625 48.1875 28.421875 48.1875 \nQ 40.625 48.1875 47.75 41.5 \nQ 54.890625 34.8125 54.890625 23.390625 \nQ 54.890625 11.625 47.5625 5.09375 \nQ 40.234375 -1.421875 26.90625 -1.421875 \nQ 22.3125 -1.421875 17.546875 -0.640625 \nQ 12.796875 0.140625 7.71875 1.703125 \nL 7.71875 11.625 \nQ 12.109375 9.234375 16.796875 8.0625 \nQ 21.484375 6.890625 26.703125 6.890625 \nQ 35.15625 6.890625 40.078125 11.328125 \nQ 45.015625 15.765625 45.015625 23.390625 \nQ 45.015625 31 40.078125 35.4375 \nQ 35.15625 39.890625 26.703125 39.890625 \nQ 22.75 39.890625 18.8125 39.015625 \nQ 14.890625 38.140625 10.796875 36.28125 \nz\n\" id=\"DejaVuSans-53\"/>\n       </defs>\n       <use xlink:href=\"#DejaVuSans-50\"/>\n       <use x=\"63.623047\" xlink:href=\"#DejaVuSans-53\"/>\n       <use x=\"127.246094\" xlink:href=\"#DejaVuSans-48\"/>\n       <use x=\"190.869141\" xlink:href=\"#DejaVuSans-48\"/>\n      </g>\n     </g>\n    </g>\n    <g id=\"ytick_4\">\n     <g id=\"line2d_8\">\n      <g>\n       <use style=\"stroke:#000000;stroke-width:0.8;\" x=\"308.778563\" xlink:href=\"#m98793a1291\" y=\"218.146205\"/>\n      </g>\n     </g>\n     <g id=\"text_9\">\n      <!-- 5000 -->\n      <g transform=\"translate(315.778563 221.945424)scale(0.1 -0.1)\">\n       <use xlink:href=\"#DejaVuSans-53\"/>\n       <use x=\"63.623047\" xlink:href=\"#DejaVuSans-48\"/>\n       <use x=\"127.246094\" xlink:href=\"#DejaVuSans-48\"/>\n       <use x=\"190.869141\" xlink:href=\"#DejaVuSans-48\"/>\n      </g>\n     </g>\n    </g>\n    <g id=\"ytick_5\">\n     <g id=\"line2d_9\">\n      <g>\n       <use style=\"stroke:#000000;stroke-width:0.8;\" x=\"308.778563\" xlink:href=\"#m98793a1291\" y=\"192.795274\"/>\n      </g>\n     </g>\n     <g id=\"text_10\">\n      <!-- 7500 -->\n      <g transform=\"translate(315.778563 196.594493)scale(0.1 -0.1)\">\n       <defs>\n        <path d=\"M 8.203125 72.90625 \nL 55.078125 72.90625 \nL 55.078125 68.703125 \nL 28.609375 0 \nL 18.3125 0 \nL 43.21875 64.59375 \nL 8.203125 64.59375 \nz\n\" id=\"DejaVuSans-55\"/>\n       </defs>\n       <use xlink:href=\"#DejaVuSans-55\"/>\n       <use x=\"63.623047\" xlink:href=\"#DejaVuSans-53\"/>\n       <use x=\"127.246094\" xlink:href=\"#DejaVuSans-48\"/>\n       <use x=\"190.869141\" xlink:href=\"#DejaVuSans-48\"/>\n      </g>\n     </g>\n    </g>\n    <g id=\"ytick_6\">\n     <g id=\"line2d_10\">\n      <g>\n       <use style=\"stroke:#000000;stroke-width:0.8;\" x=\"308.778563\" xlink:href=\"#m98793a1291\" y=\"167.444344\"/>\n      </g>\n     </g>\n     <g id=\"text_11\">\n      <!-- 10000 -->\n      <g transform=\"translate(315.778563 171.243563)scale(0.1 -0.1)\">\n       <use xlink:href=\"#DejaVuSans-49\"/>\n       <use x=\"63.623047\" xlink:href=\"#DejaVuSans-48\"/>\n       <use x=\"127.246094\" xlink:href=\"#DejaVuSans-48\"/>\n       <use x=\"190.869141\" xlink:href=\"#DejaVuSans-48\"/>\n       <use x=\"254.492188\" xlink:href=\"#DejaVuSans-48\"/>\n      </g>\n     </g>\n    </g>\n    <g id=\"ytick_7\">\n     <g id=\"line2d_11\">\n      <g>\n       <use style=\"stroke:#000000;stroke-width:0.8;\" x=\"308.778563\" xlink:href=\"#m98793a1291\" y=\"142.093414\"/>\n      </g>\n     </g>\n     <g id=\"text_12\">\n      <!-- 12500 -->\n      <g transform=\"translate(315.778563 145.892632)scale(0.1 -0.1)\">\n       <use xlink:href=\"#DejaVuSans-49\"/>\n       <use x=\"63.623047\" xlink:href=\"#DejaVuSans-50\"/>\n       <use x=\"127.246094\" xlink:href=\"#DejaVuSans-53\"/>\n       <use x=\"190.869141\" xlink:href=\"#DejaVuSans-48\"/>\n       <use x=\"254.492188\" xlink:href=\"#DejaVuSans-48\"/>\n      </g>\n     </g>\n    </g>\n    <g id=\"ytick_8\">\n     <g id=\"line2d_12\">\n      <g>\n       <use style=\"stroke:#000000;stroke-width:0.8;\" x=\"308.778563\" xlink:href=\"#m98793a1291\" y=\"116.742483\"/>\n      </g>\n     </g>\n     <g id=\"text_13\">\n      <!-- 15000 -->\n      <g transform=\"translate(315.778563 120.541702)scale(0.1 -0.1)\">\n       <use xlink:href=\"#DejaVuSans-49\"/>\n       <use x=\"63.623047\" xlink:href=\"#DejaVuSans-53\"/>\n       <use x=\"127.246094\" xlink:href=\"#DejaVuSans-48\"/>\n       <use x=\"190.869141\" xlink:href=\"#DejaVuSans-48\"/>\n       <use x=\"254.492188\" xlink:href=\"#DejaVuSans-48\"/>\n      </g>\n     </g>\n    </g>\n    <g id=\"ytick_9\">\n     <g id=\"line2d_13\">\n      <g>\n       <use style=\"stroke:#000000;stroke-width:0.8;\" x=\"308.778563\" xlink:href=\"#m98793a1291\" y=\"91.391553\"/>\n      </g>\n     </g>\n     <g id=\"text_14\">\n      <!-- 17500 -->\n      <g transform=\"translate(315.778563 95.190772)scale(0.1 -0.1)\">\n       <use xlink:href=\"#DejaVuSans-49\"/>\n       <use x=\"63.623047\" xlink:href=\"#DejaVuSans-55\"/>\n       <use x=\"127.246094\" xlink:href=\"#DejaVuSans-53\"/>\n       <use x=\"190.869141\" xlink:href=\"#DejaVuSans-48\"/>\n       <use x=\"254.492188\" xlink:href=\"#DejaVuSans-48\"/>\n      </g>\n     </g>\n    </g>\n    <g id=\"ytick_10\">\n     <g id=\"line2d_14\">\n      <g>\n       <use style=\"stroke:#000000;stroke-width:0.8;\" x=\"308.778563\" xlink:href=\"#m98793a1291\" y=\"66.040623\"/>\n      </g>\n     </g>\n     <g id=\"text_15\">\n      <!-- 20000 -->\n      <g transform=\"translate(315.778563 69.839841)scale(0.1 -0.1)\">\n       <use xlink:href=\"#DejaVuSans-50\"/>\n       <use x=\"63.623047\" xlink:href=\"#DejaVuSans-48\"/>\n       <use x=\"127.246094\" xlink:href=\"#DejaVuSans-48\"/>\n       <use x=\"190.869141\" xlink:href=\"#DejaVuSans-48\"/>\n       <use x=\"254.492188\" xlink:href=\"#DejaVuSans-48\"/>\n      </g>\n     </g>\n    </g>\n    <g id=\"ytick_11\">\n     <g id=\"line2d_15\">\n      <g>\n       <use style=\"stroke:#000000;stroke-width:0.8;\" x=\"308.778563\" xlink:href=\"#m98793a1291\" y=\"40.689692\"/>\n      </g>\n     </g>\n     <g id=\"text_16\">\n      <!-- 22500 -->\n      <g transform=\"translate(315.778563 44.488911)scale(0.1 -0.1)\">\n       <use xlink:href=\"#DejaVuSans-50\"/>\n       <use x=\"63.623047\" xlink:href=\"#DejaVuSans-50\"/>\n       <use x=\"127.246094\" xlink:href=\"#DejaVuSans-53\"/>\n       <use x=\"190.869141\" xlink:href=\"#DejaVuSans-48\"/>\n       <use x=\"254.492188\" xlink:href=\"#DejaVuSans-48\"/>\n      </g>\n     </g>\n    </g>\n   </g>\n   <g id=\"patch_8\">\n    <path d=\"M 297.906563 256.43625 \nL 297.906563 255.586875 \nL 297.906563 39.845625 \nL 297.906563 38.99625 \nL 308.778563 38.99625 \nL 308.778563 39.845625 \nL 308.778563 255.586875 \nL 308.778563 256.43625 \nz\n\" style=\"fill:none;stroke:#000000;stroke-linejoin:miter;stroke-width:0.8;\"/>\n   </g>\n  </g>\n </g>\n <defs>\n  <clipPath id=\"p2d6d0ec58c\">\n   <rect height=\"217.44\" width=\"217.44\" x=\"63.726563\" y=\"38.99625\"/>\n  </clipPath>\n  <clipPath id=\"p506bb1e921\">\n   <rect height=\"217.44\" width=\"10.872\" x=\"297.906563\" y=\"38.99625\"/>\n  </clipPath>\n </defs>\n</svg>\n",
      "image/png": "[encoded data removed]"
     },
     "metadata": {
      "needs_background": "light"
     }
    },
    {
     "output_type": "stream",
     "name": "stdout",
     "text": [
      "Coefficents:\n-2.27e+01: Search Reason_Public Order\n-8.56e+00: Search Reason_Crossbows\n 7.81e+00: Search Reason_Warrant\n 7.78e+00: Search Reason_Stolen Property\n 7.51e+00: Search Reason_Drugs\n 7.16e+00: Search Reason_Protection Of Life\n 7.04e+00: Search Reason_Firearms\n 7.02e+00: Search Reason_Fireworks\n 6.95e+00: Search Reason_Weapons\n 6.91e+00: Search Reason_Sport Event\n 6.84e+00: Search Reason_Other\n 6.75e+00: Search Reason_Wildlife\n 6.10e+00: Search Reason_Care & Welfare\n-3.37e+00: Division Desc_Renfrewshire and Inverclyde\n-3.37e+00: Division Desc_Argyll and West Dunbartonshire\n-3.30e+00: Division Desc_North East\n-3.30e+00: Division Desc_Lanarkshire\n-3.14e+00: Division Desc_Dumfries and Galloway\n-3.09e+00: Division Desc_Edinburgh\n-3.07e+00: Division Desc_13\n-2.91e+00: Division Desc_Greater Glasgow\n-2.89e+00: Division Desc_The Lothians and Scottish Borders\n-2.89e+00: Division Desc_Highland and Islands\n-2.85e+00: Division Desc_Forth Valley\n-2.77e+00: Division Desc_Tayside\n-2.50e+00: Division Desc_Ayrshire\n-2.44e+00: Division Desc_Fife\n-1.07e+00: Nominal Ethnicity_Pakistani, Pakistani Scottish, Pakistani British \n 9.02e-01: Nominal Ethnicity_Bangladeshi, Bangladeshi Scottish, Bangladeshi British\n-6.89e-01: Nominal Ethnicity_White Northen Ireland\n-6.46e-01: Nominal Ethnicity_White Gypsy/Traveller\n-5.71e-01: Nominal Ethnicity_Not Provided / Unknown\n-5.62e-01: Nominal Ethnicity_Other Caribbean or Black\n-4.71e-01: Nominal Ethnicity_Any Mixed Ethnic group\n-4.25e-01: Nominal Ethnicity_Caribbean, Caribbean Scottish, Caribbean British\n-3.55e-01: Nominal Ethnicity_Indian, Indian Scottish, Indian British\n-3.39e-01: Nominal Ethnicity_White Other\n 3.25e-01: Nominal Ethnicity_Arab, Arab Scottish, Arab British\n-3.20e-01: Nominal Ethnicity_Other African\n-2.99e-01: Nominal Ethnicity_Chinese, Chinese Scottish, Chinese British\n-2.80e-01: Nominal Ethnicity_White Irish\n-2.49e-01: Nominal Ethnicity_Black, Black Scottish, Black British\n-2.31e-01: Nominal Ethnicity_White Scottish\n-1.93e-01: Nominal Ethnicity_White English\n 1.88e-01: Nominal Gender_Male\n-1.24e-01: Nominal Ethnicity_White British\n 9.55e-02: Nominal Ethnicity_Other Asian\n 5.85e-02: Nominal Ethnicity_White Welsh\n 5.78e-02: Nominal Ethnicity_Pakistani, Pakistani Scottish, Pakistani British\n-2.61e-02: Nominal Ethnicity_Other Ethnic Group\n-2.37e-02: Nominal Ethnicity_White Polish\n 0.00e+00: Search Reason_Proceeds Of Crime\n"
     ]
    }
   ],
   "source": [
    "model=\"division\"\n",
    "cols = []\n",
    "\n",
    "cols += classification_tools.list_onehot_columns(X_train_init, \"Nominal Ethnicity\")\n",
    "cols += classification_tools.list_onehot_columns(X_train_init, \"Search Reason\")\n",
    "cols += classification_tools.list_onehot_columns(X_train_init, \"Division Desc\")\n",
    "cols += [\"Nominal Gender_Male\"]\n",
    "\n",
    "X_train = X_train_init[cols]\n",
    "X_val = X_val_init[cols]\n",
    "\n",
    "from sklearn.linear_model import LogisticRegression\n",
    "\n",
    "models = {}\n",
    "\n",
    "models[model] = LogisticRegression(\n",
    "    penalty=\"none\",\n",
    "    max_iter=500\n",
    "    )\n",
    "\n",
    "models[model].fit(X_train, y_train)\n",
    "\n",
    "print(\"Training score: {:.3f}\\nValidation Score:{:.3f}\".format(models[model].score(X_train, y_train), models[model].score(X_val, y_val)))\n",
    "\n",
    "fig, auc = classification_tools.calc_roc(models[model], X_val, y_val, title=\"Training ROC Curve\")\n",
    "fig.show()\n",
    "print(\"Train AUC ROC score: {:.3f}\".format(auc))\n",
    "fig, auc = classification_tools.calc_roc(models[model], X_val, y_val, title=\"Validation ROC Curve\")\n",
    "fig.show()\n",
    "print(\"Validate AUC ROC score: {:.3f}\".format(auc))\n",
    "\n",
    "y_train_pred = classification_tools.predict_with_threshold(models[model], X_train, threshold=0.5)\n",
    "conf_mat = confusion_matrix(y_train, y_train_pred)\n",
    "tn, fp, fn, tp = conf_mat.ravel()\n",
    "\n",
    "print(\"True Negatives: {:,}\\nFalse Positives: {:,}\\nFalse Negatives: {:,}\\nTrue Positives: {:,}\\n\".format(tn,fp,fn,tp))\n",
    "\n",
    "print(\"True positive rate: {:3f}\".format(tp/(tp+fn)))\n",
    "print(\"False positive rate: {:3f}\".format(fp/(tn+fp)))\n",
    "\n",
    "classification_tools.plot_confusion_matrix(conf_mat)\n",
    "\n",
    "print(\"Coefficents:\")\n",
    "coefficients = classification_tools.get_feature_weights(cols, models[model])"
   ]
  },
  {
   "cell_type": "code",
   "execution_count": null,
   "metadata": {},
   "outputs": [],
   "source": []
  }
 ]
}